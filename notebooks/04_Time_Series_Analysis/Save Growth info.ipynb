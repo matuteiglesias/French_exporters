{
 "cells": [
  {
   "cell_type": "code",
   "execution_count": 1,
   "metadata": {},
   "outputs": [],
   "source": [
    "# size dist plus growth rates\n",
    "import numpy as np\n",
    "\n",
    "import matplotlib.pyplot as plt\n",
    "import seaborn\n",
    "% matplotlib inline\n",
    "from scipy.stats import norm\n",
    "\n",
    "import pandas as pd"
   ]
  },
  {
   "cell_type": "code",
   "execution_count": 5,
   "metadata": {},
   "outputs": [],
   "source": [
    "\n",
    "data_path = './../../data/processed/'\n",
    "\n",
    "df = pd.read_csv(data_path + 'ID_Y.csv')\n",
    "df = df.loc[df.IMPORT == 0]\n",
    "\n",
    "cuadro = df.set_index(['ID', 'YEAR'])[['VART']].unstack()\n",
    "\n",
    "# Firms present in at least some time periods\n",
    "cuadro = cuadro.loc[cuadro.count(1) == 17]\n",
    "cuadro_rolled = cuadro\n",
    "\n",
    "annual_logdiff = np.log10(cuadro_rolled).diff(1, axis = 1).replace(np.inf, np.nan).replace(-np.inf, np.nan).dropna(how = 'all')\n",
    "annual_log = np.log10(cuadro_rolled.reindex(annual_logdiff.index))\n",
    "\n",
    "annual_log.columns = annual_log.columns.set_levels(annual_log.columns.levels[0].str.replace('VART', 'annual_log'), level=0)\n",
    "annual_logdiff.columns = annual_logdiff.columns.set_levels(annual_logdiff.columns.levels[0].str.replace('VART', 'annual_logdiff'), level=0)\n",
    "\n",
    "df_concat = pd.concat([annual_log, annual_logdiff], axis = 1)\n",
    "\n",
    "df_level_g = df_concat.stack()"
   ]
  },
  {
   "cell_type": "code",
   "execution_count": 143,
   "metadata": {},
   "outputs": [],
   "source": [
    "# g_rates = df_level_g\n",
    "\n",
    "# g_rates = g_rates.reset_index()\n",
    "# g_rates['YEAR_diff'] = g_rates['YEAR'].diff()\n",
    "# # g_rates = g_rates.loc[g_rates['YEAR_diff'] == 1].set_index(['ID', 'YEAR'])\n",
    "\n",
    "# g_rates['pair'] = np.arange(len(g_rates))//2\n",
    "# valid_pairs = g_rates.groupby('pair')['annual_logdiff'].count() == 2\n",
    "# valid_pairs = valid_pairs.index[valid_pairs].tolist()\n",
    "\n",
    "# g_rates = g_rates.loc[g_rates.pair.isin(valid_pairs)]\n",
    "\n",
    "# g_rates_info = g_rates.groupby('pair').agg({'annual_log': 'mean', 'annual_logdiff': ['first', 'last']})\n",
    "# g_rates_info.columns = ['level', 'logdiff1', 'logdiff2']\n",
    "# g_rates_info = g_rates_info.sort_values(by = 'level').reset_index(drop = True)\n",
    "\n",
    "# g_rates_info.to_csv('./../../data/processed/g_rates_info.csv', index = False)"
   ]
  },
  {
   "cell_type": "code",
   "execution_count": 16,
   "metadata": {
    "scrolled": false
   },
   "outputs": [],
   "source": [
    "df_growth = df_level_g[['annual_logdiff']].unstack().dropna(axis = 1)\n",
    "df_growth['mean_annual_log'] = df_level_g[['annual_log']].unstack().mean(1)\n",
    "df_growth = df_growth.sort_values(by = 'mean_annual_log')\n",
    "\n",
    "df_growth.to_csv('./../../data/processed/g_rates_16_info.csv')"
   ]
  },
  {
   "cell_type": "code",
   "execution_count": null,
   "metadata": {},
   "outputs": [],
   "source": []
  }
 ],
 "metadata": {
  "kernelspec": {
   "display_name": "Python 3",
   "language": "python",
   "name": "python3"
  },
  "language_info": {
   "codemirror_mode": {
    "name": "ipython",
    "version": 3
   },
   "file_extension": ".py",
   "mimetype": "text/x-python",
   "name": "python",
   "nbconvert_exporter": "python",
   "pygments_lexer": "ipython3",
   "version": "3.6.7"
  }
 },
 "nbformat": 4,
 "nbformat_minor": 2
}
