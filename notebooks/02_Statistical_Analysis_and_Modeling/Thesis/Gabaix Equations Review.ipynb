{
 "cells": [
  {
   "cell_type": "code",
   "execution_count": 1,
   "metadata": {},
   "outputs": [
    {
     "data": {
      "text/html": [
       "<style>.container { width:100% !important; }</style>"
      ],
      "text/plain": [
       "<IPython.core.display.HTML object>"
      ]
     },
     "metadata": {},
     "output_type": "display_data"
    }
   ],
   "source": [
    "import pandas as pd\n",
    "import matplotlib.pyplot as plt\n",
    "%matplotlib inline\n",
    "import numpy as np\n",
    "\n",
    "from IPython.core.display import display, HTML\n",
    "display(HTML(\"<style>.container { width:100% !important; }</style>\"))"
   ]
  },
  {
   "cell_type": "code",
   "execution_count": 34,
   "metadata": {},
   "outputs": [],
   "source": [
    "## Same plot but bootstrapped. Also, allow smaller s.\n",
    "\n",
    "n = 2\n",
    "Q = 10\n",
    "\n",
    "df = pd.read_csv('./../../data/processed/ID_Y.csv')\n"
   ]
  },
  {
   "cell_type": "code",
   "execution_count": 3,
   "metadata": {},
   "outputs": [
    {
     "name": "stdout",
     "output_type": "stream",
     "text": [
      "0\n",
      "0\n"
     ]
    }
   ],
   "source": [
    "\n",
    "for i in [0, 1]:\n",
    "    sales = df.loc[df.IMPORT == i].groupby(['ID', 'YEAR'])['VART'].sum().unstack()\n",
    "    sales = sales.loc[sales.sum(1).sort_values().index]\n",
    "\n",
    "    base_out_list = []\n",
    "    total_out_list = []\n",
    "\n",
    "    for m in range(n):\n",
    "        if m%10 == 0: print(m)\n",
    "\n",
    "        df_bs_ = sales.sample(frac = .5)\n",
    "\n",
    "        for size_sorting in [False, True]:\n",
    "            logsales = np.log10(sales)\n",
    "            micro_s = logsales.sub(logsales.mean(1), axis=0).unstack().std()\n",
    "            s = np.round(micro_s, 2)\n",
    "            \n",
    "            if size_sorting: \n",
    "                df_bs = df_bs_.loc[df_bs_.sum(1).sort_values().index] #sorting\n",
    "            else:\n",
    "                df_bs = df_bs_\n",
    "\n",
    "            total = df_bs.copy()\n",
    "            \n",
    "#             logsales = np.log10(df_bs)\n",
    "            total['q'] = pd.cut(total.sum(1).cumsum(), Q, labels = range(Q))\n",
    "            nqs = total['q'].value_counts().values\n",
    "            \n",
    "            total_yqs = total.groupby(total['q']).sum()        \n",
    "            total_yqs['m'] = m; total_yqs['nqs'] = nqs; total_yqs['s'] = s; total_yqs['parts'] = ['P', 'Q'][size_sorting];\n",
    "\n",
    "            total_yqs = total_yqs.reset_index().set_index(['parts','q', 'm', 's', 'nqs'])"
   ]
  },
  {
   "cell_type": "code",
   "execution_count": 4,
   "metadata": {},
   "outputs": [
    {
     "data": {
      "text/plain": [
       "YEAR\n",
       "1997    1.218077e+11\n",
       "1998    1.308212e+11\n",
       "1999    1.339877e+11\n",
       "2000    1.583849e+11\n",
       "2001    1.568490e+11\n",
       "2002    1.524541e+11\n",
       "2003    1.478163e+11\n",
       "2004    1.648310e+11\n",
       "2005    1.895477e+11\n",
       "2006    2.083864e+11\n",
       "2007    2.195503e+11\n",
       "2008    2.293578e+11\n",
       "2009    1.876417e+11\n",
       "2010    2.161529e+11\n",
       "2011    2.386730e+11\n",
       "2012    2.459288e+11\n",
       "2013    2.602359e+11\n",
       "dtype: float64"
      ]
     },
     "execution_count": 4,
     "metadata": {},
     "output_type": "execute_result"
    }
   ],
   "source": [
    "total_yqs.sum()"
   ]
  },
  {
   "cell_type": "code",
   "execution_count": 5,
   "metadata": {
    "scrolled": false
   },
   "outputs": [
    {
     "data": {
      "image/png": "[encoded data removed]",
      "text/plain": [
       "<Figure size 432x288 with 1 Axes>"
      ]
     },
     "metadata": {},
     "output_type": "display_data"
    }
   ],
   "source": [
    "## Drop first quantile:\n",
    "## Large firms Pareto\n",
    "lfp = total.loc[total.q > 0]\n",
    "\n",
    "# Large firms pareto filled median. \n",
    "lfp_fm = lfp.copy()\n",
    "for col in lfp_fm.columns[:-1]:\n",
    "    lfp_fm[col] = lfp_fm[col].fillna(lfp.mean(axis=1))\n",
    "## Its a mock dataset with no entry and exit.\n",
    "\n",
    "lfp.sum()[:-1].plot() ## Pareto dataset\n",
    "lfp_fm.sum()[:-1].plot()  ## Na inflated Pareto dataset.\n",
    "plt.show()"
   ]
  },
  {
   "cell_type": "code",
   "execution_count": 6,
   "metadata": {},
   "outputs": [],
   "source": [
    "from IPython.display import display, Math, Latex"
   ]
  },
  {
   "cell_type": "markdown",
   "metadata": {},
   "source": [
    "### Eq. 1:\n",
    "$\\frac{\\Delta S_{i, t+1}}{S_{it}} = \\frac{S_{i, t+1} - S_{it}}{S_{it}} = \\sigma_i \\epsilon_{i, t+1}$"
   ]
  },
  {
   "cell_type": "code",
   "execution_count": 7,
   "metadata": {},
   "outputs": [],
   "source": [
    "firm_ts = lfp_fm.drop('q', axis = 1)\n",
    "\n",
    "# These are the same\n",
    "pct_change = 100*firm_ts.pct_change(axis = 1).head()\n",
    "pct_change = 100*firm_ts.fillna(0).diff(axis = 1).div(firm_ts.shift(1, axis = 1))"
   ]
  },
  {
   "cell_type": "code",
   "execution_count": 8,
   "metadata": {},
   "outputs": [
    {
     "data": {
      "image/png": "[encoded data removed]",
      "text/plain": [
       "<Figure size 432x288 with 1 Axes>"
      ]
     },
     "metadata": {},
     "output_type": "display_data"
    }
   ],
   "source": [
    "# Distribution of percent rates.\n",
    "\n",
    "pct_change.stack().hist(bins = range(-101, 200, 2))\n",
    "plt.show()"
   ]
  },
  {
   "cell_type": "code",
   "execution_count": 9,
   "metadata": {},
   "outputs": [
    {
     "data": {
      "image/png": "[encoded data removed]",
      "text/plain": [
       "<Figure size 432x288 with 1 Axes>"
      ]
     },
     "metadata": {},
     "output_type": "display_data"
    }
   ],
   "source": [
    "## Can one say that the sigmas are a unique value?\n",
    "pct_change.std(1).hist(bins = np.arange(0, 1000, 5))\n",
    "plt.yscale('log')\n",
    "plt.show()"
   ]
  },
  {
   "cell_type": "markdown",
   "metadata": {},
   "source": [
    "## Equation \n",
    "\n",
    "Growth of: $Y_{t} = \\sum_i S_{it}$\n",
    "\n",
    "$\\frac{\\Delta Y_{t+1}}{Y_t} = \\frac{1}{Y_t} \\sum_i \\Delta S_{i, t+1} = \\sum_i \\sigma_i \\frac{S_{it}}{Y_t} \\epsilon_{i, t+1}$\n",
    "\n",
    "Valid if the numerators are equal for all i"
   ]
  },
  {
   "cell_type": "code",
   "execution_count": 10,
   "metadata": {},
   "outputs": [],
   "source": [
    "p1 = firm_ts.sum().diff() # DY\n",
    "\n",
    "p2 = firm_ts.fillna(0).diff(axis = 1).sum() # Sum of DS\n",
    "\n",
    "## How to define it for the last eq? Given that there are lot of entry/exits and non defined sigma i's."
   ]
  },
  {
   "cell_type": "markdown",
   "metadata": {},
   "source": [
    "## Distribution of sigmas and epsilon given by:\n",
    "\n",
    "$\\sigma_i \\epsilon_{i, t+1} = \\Delta S_{i, t+1}/S_{it}$"
   ]
  },
  {
   "cell_type": "code",
   "execution_count": 11,
   "metadata": {},
   "outputs": [
    {
     "data": {
      "image/png": "[encoded data removed]",
      "text/plain": [
       "<Figure size 432x288 with 1 Axes>"
      ]
     },
     "metadata": {},
     "output_type": "display_data"
    }
   ],
   "source": [
    "s_eps = firm_ts.diff(axis = 1).div(firm_ts)\n",
    "eps = s_eps.div(s_eps.std(1), axis = 0)\n",
    "eps.round(2)\n",
    "\n",
    "s_eps.std(1).hist(bins = np.arange(0, 10, .05))\n",
    "plt.yscale('log')\n",
    "plt.show()"
   ]
  },
  {
   "cell_type": "code",
   "execution_count": 12,
   "metadata": {},
   "outputs": [
    {
     "name": "stdout",
     "output_type": "stream",
     "text": [
      "std(\\epsilon): 1.0066031666865491\n"
     ]
    },
    {
     "data": {
      "image/png": "[encoded data removed]",
      "text/plain": [
       "<Figure size 432x288 with 1 Axes>"
      ]
     },
     "metadata": {},
     "output_type": "display_data"
    }
   ],
   "source": [
    "## The std is near 1. That is Ok but what is its distribution? It is not Gaussian.\n",
    "print('std(\\epsilon): '+str(eps.stack().std()))\n",
    "\n",
    "eps.stack().hist(bins = np.arange(-1.1, 1.1, .04))\n",
    "plt.yscale('log')\n",
    "plt.show()"
   ]
  },
  {
   "cell_type": "markdown",
   "metadata": {},
   "source": [
    "## Herfindahl\n",
    "\n",
    "as $\\sqrt{\\sum_i Si^2}/ (N E[Si])$\n",
    "\n",
    "(Eqs 11 and 12)"
   ]
  },
  {
   "cell_type": "code",
   "execution_count": 13,
   "metadata": {},
   "outputs": [
    {
     "name": "stdout",
     "output_type": "stream",
     "text": [
      "0.07819231727089812\n",
      "0.07819231727089812\n"
     ]
    }
   ],
   "source": [
    "Si = firm_ts.sum(1)\n",
    "h = np.sqrt((Si**2).sum())/(Si).sum()\n",
    "print(h)\n",
    "\n",
    "# #  We can replace:\n",
    "N = len(firm_ts)\n",
    "Si.sum()/N\n",
    "Si.mean()\n",
    "\n",
    "h = np.sqrt((Si**2).sum())/ (N * Si.mean())\n",
    "print(h)"
   ]
  },
  {
   "cell_type": "markdown",
   "metadata": {},
   "source": [
    "## Eq 4:\n",
    "\n",
    "$\\sigma_{GDP} = \\sigma h$"
   ]
  },
  {
   "cell_type": "code",
   "execution_count": 14,
   "metadata": {},
   "outputs": [
    {
     "name": "stdout",
     "output_type": "stream",
     "text": [
      "0.05332493078768958\n",
      "0.6819714858039669\n"
     ]
    },
    {
     "data": {
      "image/png": "[encoded data removed]",
      "text/plain": [
       "<Figure size 432x288 with 1 Axes>"
      ]
     },
     "metadata": {},
     "output_type": "display_data"
    }
   ],
   "source": [
    "s_gdp = np.log10(firm_ts.sum()).std()\n",
    "s_eff = s_gdp/h\n",
    "\n",
    "print(s_gdp)\n",
    "print(s_eff)\n",
    "\n",
    "# print(np.log10(s_eff))\n",
    "\n",
    "fig, ax = plt.subplots(1)\n",
    "np.log10(firm_ts).std(1).hist(bins = np.arange(0, 2, .02), ax = ax)\n",
    "ax.axvline(.6, c = 'r')\n",
    "plt.show()"
   ]
  },
  {
   "cell_type": "markdown",
   "metadata": {},
   "source": [
    "### What does Pareto look like? Eq 13:\n",
    "$S_{i, N} = (i / N)^{-1/\\zeta}$\n",
    "\n",
    "I added the constant a = 10^8. The a is missing"
   ]
  },
  {
   "cell_type": "code",
   "execution_count": 15,
   "metadata": {},
   "outputs": [
    {
     "name": "stdout",
     "output_type": "stream",
     "text": [
      "0\n",
      " \n",
      "-1.201 x + 11.84\n",
      " \n",
      "-1.192 x + 11.8\n",
      " \n",
      "-1.175 x + 11.66\n",
      " \n",
      "-1.218 x + 11.96\n",
      " \n",
      "-1.21 x + 11.89\n"
     ]
    },
    {
     "data": {
      "image/png": "[encoded data removed]",
      "text/plain": [
       "<Figure size 504x360 with 1 Axes>"
      ]
     },
     "metadata": {},
     "output_type": "display_data"
    },
    {
     "name": "stdout",
     "output_type": "stream",
     "text": [
      "0\n",
      " \n",
      "-1.104 x + 11.16\n",
      " \n",
      "-1.153 x + 11.47\n",
      " \n",
      "-1.139 x + 11.4\n",
      " \n",
      "-1.256 x + 12.24\n",
      " \n",
      "-1.231 x + 12.05\n"
     ]
    },
    {
     "data": {
      "image/png": "[encoded data removed]",
      "text/plain": [
       "<Figure size 504x360 with 1 Axes>"
      ]
     },
     "metadata": {},
     "output_type": "display_data"
    }
   ],
   "source": [
    "n = 5\n",
    "\n",
    "for i in [0, 1]:\n",
    "    sales = df.loc[df.IMPORT == i].groupby(['ID', 'YEAR'])['VART'].sum().unstack()\n",
    "    sales = sales.loc[sales.sum(1).sort_values().index]\n",
    "\n",
    "    base_out_list = []\n",
    "    total_out_list = []\n",
    "\n",
    "    fig, ax = plt.subplots(1, figsize = (7, 5))\n",
    "    \n",
    "    for m in range(n):\n",
    "        if m%10 == 0: print(m)\n",
    "\n",
    "        df_bs_ = sales.sample(frac = .5)\n",
    "        \n",
    "        size_sorting = True\n",
    "\n",
    "        logsales = np.log10(sales)\n",
    "        micro_s = logsales.sub(logsales.mean(1), axis=0).unstack().std()\n",
    "        s = np.round(micro_s, 2)\n",
    "\n",
    "        if size_sorting: \n",
    "            df_bs = df_bs_.loc[df_bs_.sum(1).sort_values().index] #sorting\n",
    "        else:\n",
    "            df_bs = df_bs_\n",
    "\n",
    "        total = df_bs.copy()\n",
    "        total['q'] = pd.cut(total.sum(1).cumsum(), Q, labels = range(Q))\n",
    "        \n",
    "        ## Drop first quantile:\n",
    "        ## Large firms Pareto\n",
    "        lfp = total.loc[total.q > 0]\n",
    "\n",
    "        # Large firms pareto filled median. \n",
    "        lfp_fm = lfp.copy()\n",
    "        for col in lfp_fm.columns[:-1]:\n",
    "            lfp_fm[col] = lfp_fm[col].fillna(lfp.mean(axis=1))\n",
    "        ## Its a mock dataset with no entry and exit.\n",
    "        firm_ts = lfp_fm.drop('q', axis = 1)\n",
    "        \n",
    "        if size_sorting: \n",
    "            firm_ts = firm_ts.loc[firm_ts.sum(1).sort_values().index] #sorting\n",
    "        else:\n",
    "            pass\n",
    "\n",
    "        N = len(firm_ts)\n",
    "\n",
    "        #### FIT PARETO\n",
    "        \n",
    "        log_vals = np.log10(firm_ts.mean(1))\n",
    "\n",
    "        bins = pd.DataFrame(pd.cut(log_vals, np.arange(log_vals.min(), log_vals.max(), .1)).dropna().value_counts(), columns=['n'])\n",
    "        bins['mid'] = np.array([(b.mid).round(6) for b in bins.index.values])\n",
    "        bins['CCDF'] = bins['n'].sum() - bins['n'].cumsum()\n",
    "        bins['lCCDF'] = np.log10(bins['CCDF'] + 1)\n",
    "\n",
    "        # bins.plot('mid', 'lCCDF', marker = '.', lw = 0)\n",
    "        x = bins.mid.values; y = bins.lCCDF.values\n",
    "        z = np.polyfit(x, y, 1)\n",
    "        p = np.poly1d(z)\n",
    "        print(p)\n",
    "\n",
    "        ### After having fit Pareto, change firm level means to exact pareto expectation.\n",
    "\n",
    "        S = firm_ts.mean(1).sort_values(ascending = False).reset_index(drop = True)\n",
    "        i = S.index + 1\n",
    "        z = -p[1]\n",
    "        xm = S.min()\n",
    "        \n",
    "#         #####\n",
    "# #         ## Comment if not desired\n",
    "#         firm_ts = firm_ts.subtract(firm_ts.mean(1), axis = 0).add((xm*(i/N)**(-1/z)).values[::-1], axis = 0)\n",
    "#         # Repeat:\n",
    "#         S = firm_ts.mean(1).sort_values(ascending = False).reset_index(drop = True)\n",
    "#         i = S.index + 1\n",
    "#         z = -p[1]\n",
    "#         xm = S.min()\n",
    "\n",
    "#         ######\n",
    "        \n",
    "        x = np.log10(S)\n",
    "        y = np.log10(xm) - np.log10(i/N)/z #+.25\n",
    "\n",
    "        ax.plot(x, y, alpha = .5)\n",
    "        ax.plot(x, x, alpha = .5) # \n",
    "        ax.set_xlabel(r'$S_i$'); ax.set_ylabel('Size of k-th largest')\n",
    "    plt.show()\n"
   ]
  },
  {
   "cell_type": "code",
   "execution_count": 16,
   "metadata": {},
   "outputs": [
    {
     "name": "stdout",
     "output_type": "stream",
     "text": [
      "0.04927985995617594 0.04927985995617605 0.022040621904599985 0.022040621904600006\n"
     ]
    }
   ],
   "source": [
    "## The validity of eq. 13, from where dependence of h with N is derived.\n",
    "\n",
    "h1 = np.sqrt(sum((S/S.sum())**2))\n",
    "h2 = np.sqrt(sum(S**2))/(N*S.mean())\n",
    "\n",
    "# Eq 13 is valid if the following are equal to the previous\n",
    "h3 = np.sqrt(sum(xm**2 * (i/N)**(-2/z)))/(N*S.mean())\n",
    "h4 = np.sqrt(sum(i**(-2/z)))*N**(-1 + 1/z)*(xm/S.mean())\n",
    "\n",
    "print(h1, h2, h3, h4)"
   ]
  },
  {
   "cell_type": "code",
   "execution_count": 17,
   "metadata": {},
   "outputs": [],
   "source": [
    "## We could \"save it\" if we use the Herfindahl wihtout making it depend on N by eq 13.\n",
    "\n",
    "## Then we would come back to sigma_tot = h . sigma_eff, which may be not valid as well.\n",
    "\n",
    "## Instead I would need to express sigma_tot(N) with my approach (idyosynchratic sigma) and try to let it match the observed values."
   ]
  },
  {
   "cell_type": "code",
   "execution_count": 18,
   "metadata": {},
   "outputs": [],
   "source": [
    "# ### It may be possible that z changes with sample size...\n",
    "\n",
    "# for s in [.6, .75, .9]:\n",
    "#     print(s)\n",
    "#     result = []\n",
    "#     for r in range(15):\n",
    "#         data = firm_ts.sample(frac = s)\n",
    "#         log_vals = np.log10(data.mean(1))\n",
    "\n",
    "#         bins = pd.DataFrame(pd.cut(log_vals, np.arange(log_vals.min(), log_vals.max(), .1)).dropna().value_counts(), columns=['n'])\n",
    "#         bins['mid'] = np.array([(b.mid).round(6) for b in bins.index.values])\n",
    "#         bins['CCDF'] = bins['n'].sum() - bins['n'].cumsum()\n",
    "#         bins['lCCDF'] = np.log10(bins['CCDF'] + 1) ## Seems to be sensible to the location of the largest point\n",
    "\n",
    "#         # bins.plot('mid', 'lCCDF', marker = '.', lw = 0)\n",
    "#         x = bins.mid.values; y = bins.lCCDF.values\n",
    "#         z = np.polyfit(x, y, 1)\n",
    "#         p = np.poly1d(z)\n",
    "# #         print(p)\n",
    "#         result += [p[1]]\n",
    "#     result = np.array(result)\n",
    "#     print(np.percentile(result, .25))\n",
    "#     print(np.percentile(result, .75))"
   ]
  },
  {
   "cell_type": "markdown",
   "metadata": {},
   "source": [
    "## Dependence of Herfindahl with sample size N"
   ]
  },
  {
   "cell_type": "code",
   "execution_count": 67,
   "metadata": {},
   "outputs": [
    {
     "name": "stdout",
     "output_type": "stream",
     "text": [
      "0\n",
      "10\n",
      "20\n",
      "30\n",
      "0\n",
      "10\n",
      "20\n",
      "30\n",
      "0\n",
      "10\n",
      "20\n",
      "30\n",
      "0\n",
      "10\n",
      "20\n",
      "30\n",
      "0\n",
      "10\n",
      "20\n",
      "30\n",
      "0\n",
      "10\n",
      "20\n",
      "30\n",
      "0\n",
      "10\n",
      "20\n",
      "30\n",
      "0\n",
      "10\n",
      "20\n",
      "30\n"
     ]
    }
   ],
   "source": [
    "M = 35\n",
    "\n",
    "for i in [1]:\n",
    "    sales = df.loc[df.IMPORT == i].groupby(['ID', 'YEAR'])['VART'].sum().unstack()\n",
    "    sales = sales.loc[sales.sum(1).sort_values().index]\n",
    "\n",
    "    base_out_list = []\n",
    "    total_out_list = []\n",
    "   \n",
    "    logn_vals = np.arange(3, np.log10(len(sales)), .35)\n",
    "    n_vals = np.round(10**logn_vals, -2)\n",
    "\n",
    "    outa1 = np.zeros((len(n_vals), M))\n",
    "    outa2 = np.zeros((len(n_vals), M))\n",
    "    outb1 = np.zeros((len(n_vals), M))\n",
    "    outb2 = np.zeros((len(n_vals), M))\n",
    "            \n",
    "    for j, n in enumerate(n_vals):\n",
    "\n",
    "        for m in range(M):\n",
    "            \n",
    "            if m%10 == 0: print(m)\n",
    "\n",
    "            df_bs_ = sales.sample(int(n))\n",
    "\n",
    "            size_sorting = True\n",
    "\n",
    "            logsales = np.log10(sales)\n",
    "            micro_s = logsales.sub(logsales.mean(1), axis=0).unstack().std()\n",
    "            s = np.round(micro_s, 2)\n",
    "\n",
    "            if size_sorting: \n",
    "                df_bs = df_bs_.loc[df_bs_.sum(1).sort_values().index] #sorting\n",
    "            else:\n",
    "                df_bs = df_bs_\n",
    "\n",
    "            total = df_bs.copy()\n",
    "            total['q'] = pd.cut(total.sum(1).cumsum(), Q, labels = range(Q))\n",
    "\n",
    "            ## Drop first quantile:\n",
    "            ## Large firms Pareto\n",
    "            lfp = total.loc[total.q > 0]\n",
    "\n",
    "            # Large firms pareto filled median. \n",
    "            lfp_fm = lfp.copy()\n",
    "            for col in lfp_fm.columns[:-1]:\n",
    "                lfp_fm[col] = lfp_fm[col].fillna(lfp.mean(axis=1))\n",
    "            ## Its a mock dataset with no entry and exit.\n",
    "            firm_ts = lfp_fm.drop('q', axis = 1)\n",
    "\n",
    "            if size_sorting: \n",
    "                firm_ts = firm_ts.loc[firm_ts.sum(1).sort_values().index] #sorting\n",
    "            else:\n",
    "                pass\n",
    "\n",
    "            N = len(firm_ts)\n",
    "\n",
    "            #### FIT PARETO\n",
    "\n",
    "            log_vals = np.log10(firm_ts.mean(1))\n",
    "\n",
    "            bins = pd.DataFrame(pd.cut(log_vals, np.arange(log_vals.min(), log_vals.max(), .1)).dropna().value_counts(), columns=['n'])\n",
    "            bins['mid'] = np.array([(b.mid).round(6) for b in bins.index.values])\n",
    "            bins['CCDF'] = bins['n'].sum() - bins['n'].cumsum()\n",
    "            bins['lCCDF'] = np.log10(bins['CCDF'] + 1)\n",
    "\n",
    "            # bins.plot('mid', 'lCCDF', marker = '.', lw = 0)\n",
    "            x = bins.mid.values; y = bins.lCCDF.values\n",
    "            z = np.polyfit(x, y, 1)\n",
    "            p = np.poly1d(z)\n",
    "#             print(p)\n",
    "\n",
    "\n",
    "            S = firm_ts.mean(1).sort_values(ascending = False).reset_index(drop = True)\n",
    "            i = S.index + 1\n",
    "            z = -p[1]\n",
    "            xm = S.min()\n",
    "\n",
    "            try:\n",
    "                ha1 = np.sqrt(sum((S/S.sum())**2)) \n",
    "                ha2 = np.sqrt(sum(i**(-2/z)))*N**(-1 + 1/z)*(xm/S.mean())  ## This one differs\n",
    "            except:\n",
    "                pass\n",
    "            \n",
    "            #####\n",
    "            ## After having fit Pareto, change firm level means to exact pareto expectation.\n",
    "    #         ## Comment if not desired\n",
    "            firm_ts = firm_ts.subtract(firm_ts.mean(1), axis = 0).add((xm*(i/N)**(-1/z)).values[::-1], axis = 0)\n",
    "            # Repeat:\n",
    "            S = firm_ts.mean(1).sort_values(ascending = False).reset_index(drop = True)\n",
    "            i = S.index + 1\n",
    "            z = -p[1]\n",
    "            xm = S.min()\n",
    "\n",
    "            ######\n",
    "\n",
    "            try:\n",
    "                hb1 = np.sqrt(sum((S/S.sum())**2)) # \n",
    "                hb2 = np.sqrt(sum(i**(-2/z)))*N**(-1 + 1/z)*(xm/S.mean()) ## These two go together, they coincide.\n",
    "            except:\n",
    "                pass\n",
    "            \n",
    "            outa1[j, m] = ha1\n",
    "            outa2[j, m] = ha2\n",
    "            outb1[j, m] = hb1\n",
    "            outb2[j, m] = hb2\n",
    "            \n",
    "            \n",
    "    #         x = np.log10(S)\n",
    "    #         y = np.log10(xm) - np.log10(i/N)/z #+.25\n",
    "\n"
   ]
  },
  {
   "cell_type": "code",
   "execution_count": 66,
   "metadata": {},
   "outputs": [
    {
     "data": {
      "text/plain": [
       "0"
      ]
     },
     "execution_count": 66,
     "metadata": {},
     "output_type": "execute_result"
    }
   ],
   "source": [
    "z\n",
    "# np.sqrt(sum(i**(-2/z)))*N**(-1 + 1/z)*(xm/S.mean())"
   ]
  },
  {
   "cell_type": "code",
   "execution_count": 68,
   "metadata": {},
   "outputs": [
    {
     "name": "stdout",
     "output_type": "stream",
     "text": [
      " \n",
      "-0.2564 x + 0.3242\n",
      " \n",
      "-0.4158 x + 0.6999\n",
      " \n",
      "-0.2949 x + 0.4662\n",
      " \n",
      "-0.2949 x + 0.4662\n"
     ]
    },
    {
     "data": {
      "image/png": "[encoded data removed]",
      "text/plain": [
       "<Figure size 504x360 with 1 Axes>"
      ]
     },
     "metadata": {},
     "output_type": "display_data"
    }
   ],
   "source": [
    "# -1 + 1/1.15\n",
    "\n",
    "fig, ax = plt.subplots(1, figsize = (7, 5))\n",
    "\n",
    "for i, df_ in enumerate([outa1, outa2, outb1, outb2]):\n",
    "    res = pd.DataFrame(df_, index=list(n_vals))\n",
    "    res = res.T.describe().T\n",
    "\n",
    "    ax.fill_between(np.log10(res.index), res['25%'].values, res['75%'].values, color = '.5', alpha = .25)\n",
    "    ax.plot(np.log10(res.index), res['50%'].values, color = ['r', 'g', 'b', 'k'][i], alpha = .5)\n",
    "    \n",
    "    x = np.log10(res.index)\n",
    "    y = np.log10(res['50%'].values)\n",
    "    z = np.polyfit(x, y, 1)\n",
    "    p = np.poly1d(z); print(p)\n",
    "\n",
    "ax.set_yscale('log'); ax.set_ylim(0.01, 1)\n",
    "plt.show()"
   ]
  },
  {
   "cell_type": "markdown",
   "metadata": {},
   "source": [
    "## Replacing 13 in in 11, 12 means changing the curved CDF for a straight one"
   ]
  },
  {
   "cell_type": "code",
   "execution_count": null,
   "metadata": {},
   "outputs": [],
   "source": [
    "## Herfindahl can be approximated:\n",
    "i_series = np.power(np.arange(1, N, 1), -2/z)\n",
    "\n",
    "h2 =  1e8*np.sqrt(i_series.sum()) * np.power(N, -1 + 1/z) / Si.mean()\n",
    "print('herf: ~ ' + str(h2))\n",
    "\n",
    "## The i_series converges:\n",
    "plt.plot(np.cumsum(np.power(np.arange(1, N, 1), -2/z)))\n",
    "plt.yscale('log'); plt.xscale('log')"
   ]
  },
  {
   "cell_type": "markdown",
   "metadata": {},
   "source": [
    "### Can we see that then h ~ C N^(-1 + 1/z) ??"
   ]
  },
  {
   "cell_type": "code",
   "execution_count": null,
   "metadata": {},
   "outputs": [],
   "source": [
    "c1 = np.sqrt(i_series.sum()) # ~1.4\n",
    "c2 = 1e8* c1 / Si.mean()  # 0.24\n",
    "\n",
    "h2 = c2 * np.power(N, -1 + 1/z)\n",
    "\n",
    "# the dependency should look like:\n",
    "N_ = np.arange(2000, 10000, 100)\n",
    "plt.plot(N_, c2 * np.power(N_, -1 + 1/z))\n",
    "plt.scatter(N, h2)"
   ]
  },
  {
   "cell_type": "code",
   "execution_count": null,
   "metadata": {},
   "outputs": [],
   "source": [
    "res_list = []\n",
    "res1_list = []\n",
    "res2_list = []\n",
    "M = 100\n",
    "n_vals = np.arange(2000, 7000, 500)\n",
    "\n",
    "for n in n_vals:\n",
    "    h_list = []\n",
    "    h_list_ = []\n",
    "    uE_list = []\n",
    "\n",
    "    for m in range(M):\n",
    "        firm_info = firm_ts.sample(n)\n",
    "\n",
    "        Si = firm_info.sum(1)\n",
    "        h = np.sqrt((Si**2).sum())/(Si).sum()\n",
    "        \n",
    "        s_gdp = np.log10(firm_info.sum()).std()\n",
    "        s_eff = s_gdp/h\n",
    "        h_ = s_eff\n",
    "        \n",
    "        u12_E = np.sqrt(np.power(N, -2/z) * (Si**2).sum())/(Si).sum()\n",
    "\n",
    "        h_list += [h]\n",
    "        h_list_ += [h_]\n",
    "        uE_list += [u12_E]\n",
    "        \n",
    "    res_list += [h_list]\n",
    "    res1_list += [h_list_]\n",
    "    res2_list += [uE_list]\n",
    "\n",
    "result = pd.DataFrame(res_list, index = n_vals)\n",
    "result_h_ = pd.DataFrame(res1_list, index = n_vals)\n",
    "result_uE = pd.DataFrame(res2_list, index = n_vals)"
   ]
  },
  {
   "cell_type": "code",
   "execution_count": null,
   "metadata": {},
   "outputs": [],
   "source": [
    "\n",
    "# info = firm_ts.sum(1).sort_values(ascending = False).iloc[1:].reset_index(drop = True)\n",
    "\n",
    "# fig, ax = plt.subplots(1, figsize = (7, 5))\n",
    "# # plt.plot(info.index.values/len(info), info.values**2, marker = '.')\n",
    "# plt.plot(info.index.values/len(info), np.sqrt(np.cumsum((info.values/info.sum())**2)), marker = '.')\n",
    "\n",
    "# # plt.yscale('log')\n",
    "# plt.show()\n",
    "\n",
    "fig, ax = plt.subplots(1, figsize = (7, 5))\n",
    "\n",
    "ax.fill_between(result_h_.index, result_h_.quantile(.25, 1), result_h_.quantile(.75, 1), color = '.5', alpha = .25)\n",
    "\n",
    "plt.show()"
   ]
  },
  {
   "cell_type": "code",
   "execution_count": null,
   "metadata": {},
   "outputs": [],
   "source": [
    "fig, ax = plt.subplots(1, figsize = (7, 5))\n",
    "\n",
    "ax.fill_between(result.index, result.quantile(.25, 1), result.quantile(.75, 1), color = '.5', alpha = .25)\n",
    "ax.fill_between(result_h_.index, result_h_.quantile(.25, 1), result_h_.quantile(.75, 1), color = '.5', alpha = .25)\n",
    "\n",
    "# We let a constant to match it:\n",
    "c0 = 1.33\n",
    "ax.plot(N_, c0*c2 * np.power(N_, -1 + 1/z))\n",
    "ax.scatter(N, c0*h2)\n",
    "ax.scatter(N, h)\n",
    "\n",
    "plt.show()"
   ]
  },
  {
   "cell_type": "code",
   "execution_count": null,
   "metadata": {
    "scrolled": false
   },
   "outputs": [],
   "source": [
    "fig, ax = plt.subplots(1, figsize = (7, 5))\n",
    "\n",
    "ax.fill_between(result_uE.index, result_uE.quantile(.25, 1), result_uE.quantile(.75, 1), color = '.5', alpha = .25)\n",
    "ax.plot(result_uE.index, result_uE.median(1), color = '.5')\n"
   ]
  },
  {
   "cell_type": "markdown",
   "metadata": {},
   "source": [
    "## Levy Distribution"
   ]
  },
  {
   "cell_type": "code",
   "execution_count": null,
   "metadata": {},
   "outputs": [],
   "source": [
    "def Levy1(x, c, mu):\n",
    "    ### From Wikipedia\n",
    "    return np.sqrt(c / 2 / np.pi)*np.exp(-c / 2 / (x - mu)) /(x - mu)**(3/2)\n",
    "\n",
    "# def Levy2(x, c, mu):\n",
    "#     ### From Wikipedia\n",
    "#     return np.sqrt(c / 2 / np.pi)*np.exp(-c / 2 / (x - mu))/(x - mu)**(3/2)\n",
    "\n"
   ]
  },
  {
   "cell_type": "code",
   "execution_count": null,
   "metadata": {},
   "outputs": [],
   "source": [
    "plt.hist(result_uE.loc[3500], bins = 30)\n",
    "plt.show()"
   ]
  },
  {
   "cell_type": "code",
   "execution_count": null,
   "metadata": {},
   "outputs": [],
   "source": [
    "x = np.arange(0, 1, 0.01)\n",
    "\n",
    "plt.plot(x, Levy1(x, 1/2, .25))\n",
    "# plt.ylim(0, 1)"
   ]
  },
  {
   "cell_type": "code",
   "execution_count": null,
   "metadata": {},
   "outputs": [],
   "source": []
  },
  {
   "cell_type": "code",
   "execution_count": null,
   "metadata": {},
   "outputs": [],
   "source": []
  }
 ],
 "metadata": {
  "kernelspec": {
   "display_name": "Python 3",
   "language": "python",
   "name": "python3"
  },
  "language_info": {
   "codemirror_mode": {
    "name": "ipython",
    "version": 3
   },
   "file_extension": ".py",
   "mimetype": "text/x-python",
   "name": "python",
   "nbconvert_exporter": "python",
   "pygments_lexer": "ipython3",
   "version": "3.6.7"
  }
 },
 "nbformat": 4,
 "nbformat_minor": 2
}
