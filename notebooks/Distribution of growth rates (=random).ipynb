{
 "cells": [
  {
   "cell_type": "markdown",
   "metadata": {
    "collapsed": true
   },
   "source": [
    "# Growth decomposition"
   ]
  },
  {
   "cell_type": "code",
   "execution_count": 1,
   "metadata": {
    "collapsed": false
   },
   "outputs": [
    {
     "data": {
      "text/html": [
       "<style>.container { width:100% !important; }</style>"
      ],
      "text/plain": [
       "<IPython.core.display.HTML object>"
      ]
     },
     "metadata": {},
     "output_type": "display_data"
    }
   ],
   "source": [
    "import pandas as pd\n",
    "from IPython.display import display, HTML\n",
    "import numpy as np\n",
    "\n",
    "import matplotlib.pyplot as plt\n",
    "%matplotlib inline\n",
    "\n",
    "path1 = './../../../../../media/miglesia/Elements/export_france/data/type1/DP1610_MAASTRICHT1_1997_2013'\n",
    "\n",
    "display(HTML(\"<style>.container { width:100% !important; }</style>\"))"
   ]
  },
  {
   "cell_type": "markdown",
   "metadata": {
    "collapsed": true
   },
   "source": [
    "### Growth rates (Aug 16)"
   ]
  },
  {
   "cell_type": "code",
   "execution_count": 2,
   "metadata": {
    "collapsed": false
   },
   "outputs": [],
   "source": [
    "df_04_13 = pd.read_csv(path1+'/samplings/time_sample_nw_detail_04_13.csv')"
   ]
  },
  {
   "cell_type": "code",
   "execution_count": 3,
   "metadata": {
    "collapsed": false
   },
   "outputs": [
    {
     "data": {
      "text/html": [
       "<div>\n",
       "<style scoped>\n",
       "    .dataframe tbody tr th:only-of-type {\n",
       "        vertical-align: middle;\n",
       "    }\n",
       "\n",
       "    .dataframe tbody tr th {\n",
       "        vertical-align: top;\n",
       "    }\n",
       "\n",
       "    .dataframe thead th {\n",
       "        text-align: right;\n",
       "    }\n",
       "</style>\n",
       "<table border=\"1\" class=\"dataframe\">\n",
       "  <thead>\n",
       "    <tr style=\"text-align: right;\">\n",
       "      <th></th>\n",
       "      <th>YEAR</th>\n",
       "      <th>IMPORT</th>\n",
       "      <th>ID</th>\n",
       "      <th>CN ID 8</th>\n",
       "      <th>PYOD</th>\n",
       "      <th>VAT</th>\n",
       "      <th>VART_sum</th>\n",
       "    </tr>\n",
       "  </thead>\n",
       "  <tbody>\n",
       "    <tr>\n",
       "      <th>10498167</th>\n",
       "      <td>2008</td>\n",
       "      <td>0</td>\n",
       "      <td>668500622</td>\n",
       "      <td>61079100</td>\n",
       "      <td>ES</td>\n",
       "      <td>ES0171921</td>\n",
       "      <td>769</td>\n",
       "    </tr>\n",
       "    <tr>\n",
       "      <th>11878984</th>\n",
       "      <td>2009</td>\n",
       "      <td>0</td>\n",
       "      <td>403550932</td>\n",
       "      <td>7019090</td>\n",
       "      <td>ES</td>\n",
       "      <td>ES0465208</td>\n",
       "      <td>13841</td>\n",
       "    </tr>\n",
       "    <tr>\n",
       "      <th>20017318</th>\n",
       "      <td>2013</td>\n",
       "      <td>0</td>\n",
       "      <td>312730674</td>\n",
       "      <td>56090000</td>\n",
       "      <td>DE</td>\n",
       "      <td>DE0319725</td>\n",
       "      <td>117</td>\n",
       "    </tr>\n",
       "    <tr>\n",
       "      <th>16622537</th>\n",
       "      <td>2011</td>\n",
       "      <td>0</td>\n",
       "      <td>433061975</td>\n",
       "      <td>85171800</td>\n",
       "      <td>PT</td>\n",
       "      <td>PT0089160</td>\n",
       "      <td>155</td>\n",
       "    </tr>\n",
       "    <tr>\n",
       "      <th>2210892</th>\n",
       "      <td>2005</td>\n",
       "      <td>0</td>\n",
       "      <td>324045756</td>\n",
       "      <td>95073000</td>\n",
       "      <td>IT</td>\n",
       "      <td>IT0151703</td>\n",
       "      <td>2227</td>\n",
       "    </tr>\n",
       "    <tr>\n",
       "      <th>8370185</th>\n",
       "      <td>2007</td>\n",
       "      <td>0</td>\n",
       "      <td>954506077</td>\n",
       "      <td>82059000</td>\n",
       "      <td>IT</td>\n",
       "      <td>IT0543751</td>\n",
       "      <td>1295</td>\n",
       "    </tr>\n",
       "    <tr>\n",
       "      <th>21922927</th>\n",
       "      <td>2013</td>\n",
       "      <td>0</td>\n",
       "      <td>783704679</td>\n",
       "      <td>87012090</td>\n",
       "      <td>PL</td>\n",
       "      <td>PL0039467</td>\n",
       "      <td>3346</td>\n",
       "    </tr>\n",
       "    <tr>\n",
       "      <th>7989698</th>\n",
       "      <td>2007</td>\n",
       "      <td>0</td>\n",
       "      <td>572209583</td>\n",
       "      <td>63080000</td>\n",
       "      <td>IT</td>\n",
       "      <td>IT0380431</td>\n",
       "      <td>692</td>\n",
       "    </tr>\n",
       "    <tr>\n",
       "      <th>13649154</th>\n",
       "      <td>2010</td>\n",
       "      <td>0</td>\n",
       "      <td>347496887</td>\n",
       "      <td>7131090</td>\n",
       "      <td>BE</td>\n",
       "      <td>BE0088207</td>\n",
       "      <td>3907</td>\n",
       "    </tr>\n",
       "    <tr>\n",
       "      <th>17206296</th>\n",
       "      <td>2011</td>\n",
       "      <td>0</td>\n",
       "      <td>559801675</td>\n",
       "      <td>87089997</td>\n",
       "      <td>GB</td>\n",
       "      <td>GB0003248</td>\n",
       "      <td>3165613</td>\n",
       "    </tr>\n",
       "  </tbody>\n",
       "</table>\n",
       "</div>"
      ],
      "text/plain": [
       "          YEAR  IMPORT         ID   CN ID 8 PYOD        VAT  VART_sum\n",
       "10498167  2008       0  668500622  61079100   ES  ES0171921       769\n",
       "11878984  2009       0  403550932   7019090   ES  ES0465208     13841\n",
       "20017318  2013       0  312730674  56090000   DE  DE0319725       117\n",
       "16622537  2011       0  433061975  85171800   PT  PT0089160       155\n",
       "2210892   2005       0  324045756  95073000   IT  IT0151703      2227\n",
       "8370185   2007       0  954506077  82059000   IT  IT0543751      1295\n",
       "21922927  2013       0  783704679  87012090   PL  PL0039467      3346\n",
       "7989698   2007       0  572209583  63080000   IT  IT0380431       692\n",
       "13649154  2010       0  347496887   7131090   BE  BE0088207      3907\n",
       "17206296  2011       0  559801675  87089997   GB  GB0003248   3165613"
      ]
     },
     "execution_count": 3,
     "metadata": {},
     "output_type": "execute_result"
    }
   ],
   "source": [
    "df_04_13.sample(10)"
   ]
  },
  {
   "cell_type": "code",
   "execution_count": 4,
   "metadata": {
    "collapsed": false
   },
   "outputs": [
    {
     "data": {
      "text/plain": [
       "22029841"
      ]
     },
     "execution_count": 4,
     "metadata": {},
     "output_type": "execute_result"
    }
   ],
   "source": [
    "len(df_04_13)"
   ]
  },
  {
   "cell_type": "code",
   "execution_count": 5,
   "metadata": {
    "collapsed": false
   },
   "outputs": [
    {
     "data": {
      "text/plain": [
       "(0, 3)"
      ]
     },
     "execution_count": 5,
     "metadata": {},
     "output_type": "execute_result"
    },
    {
     "data": {
      "image/png": "[encoded data removed]",
      "text/plain": [
       "<matplotlib.figure.Figure at 0x7f3dbadbec10>"
      ]
     },
     "metadata": {},
     "output_type": "display_data"
    }
   ],
   "source": [
    "col = 'VAT'\n",
    "\n",
    "sample = df_04_13.loc[df_04_13[col].isin(np.random.choice(df_04_13[col].unique(), 25000))]\n",
    "\n",
    "df = sample\n",
    "diff = np.log10(df.set_index([u'ID', u'CN ID 8', u'PYOD', u'VAT','YEAR'])[['VART_sum']]).unstack().diff(axis = 1)\n",
    "growth = diff.stack().reset_index()\n",
    "\n",
    "growth.groupby(col).std()['VART_sum'].hist(bins = 50)\n",
    "plt.xlim(0, 3)"
   ]
  },
  {
   "cell_type": "code",
   "execution_count": 6,
   "metadata": {
    "collapsed": false
   },
   "outputs": [],
   "source": [
    "# x = np.log10(df.set_index([u'ID', u'CN ID 8', u'PYOD', u'VAT','YEAR'])[['VART_sum']]).unstack()"
   ]
  },
  {
   "cell_type": "code",
   "execution_count": 7,
   "metadata": {
    "collapsed": false
   },
   "outputs": [],
   "source": [
    "col = 'CN ID 8'\n"
   ]
  },
  {
   "cell_type": "code",
   "execution_count": 8,
   "metadata": {
    "collapsed": false
   },
   "outputs": [
    {
     "data": {
      "text/plain": [
       "(0, 3)"
      ]
     },
     "execution_count": 8,
     "metadata": {},
     "output_type": "execute_result"
    },
    {
     "data": {
      "image/png": "[encoded data removed]",
      "text/plain": [
       "<matplotlib.figure.Figure at 0x7f3dbad385d0>"
      ]
     },
     "metadata": {},
     "output_type": "display_data"
    }
   ],
   "source": [
    "col = 'ID'\n",
    "\n",
    "sample = df_04_13.loc[df_04_13[col].isin(np.random.choice(df_04_13[col].unique(), 25000))]\n",
    "\n",
    "df = sample\n",
    "diff = np.log10(df.set_index([u'ID', u'CN ID 8', u'PYOD', u'VAT','YEAR'])[['VART_sum']]).unstack().diff(axis = 1)\n",
    "growth = diff.stack().reset_index()\n",
    "\n",
    "growth.groupby(col).std()['VART_sum'].hist(bins = 50)\n",
    "plt.xlim(0, 3)"
   ]
  },
  {
   "cell_type": "code",
   "execution_count": null,
   "metadata": {
    "collapsed": true
   },
   "outputs": [],
   "source": []
  },
  {
   "cell_type": "code",
   "execution_count": null,
   "metadata": {
    "collapsed": true
   },
   "outputs": [],
   "source": []
  },
  {
   "cell_type": "markdown",
   "metadata": {},
   "source": [
    "### Growth rates (Aug 15)"
   ]
  },
  {
   "cell_type": "code",
   "execution_count": 9,
   "metadata": {
    "collapsed": false,
    "scrolled": false
   },
   "outputs": [],
   "source": [
    "df_11_13 = pd.read_csv(path1+'/samplings/time_sample_nw_detail_11_13.csv')\n",
    "\n",
    "df = df_11_13.loc[df_11_13.ID == 612039073].loc[df_11_13.VAT == 'PT0077741']\n"
   ]
  },
  {
   "cell_type": "code",
   "execution_count": 10,
   "metadata": {
    "collapsed": false
   },
   "outputs": [
    {
     "data": {
      "text/html": [
       "<div>\n",
       "<style scoped>\n",
       "    .dataframe tbody tr th:only-of-type {\n",
       "        vertical-align: middle;\n",
       "    }\n",
       "\n",
       "    .dataframe tbody tr th {\n",
       "        vertical-align: top;\n",
       "    }\n",
       "\n",
       "    .dataframe thead tr th {\n",
       "        text-align: left;\n",
       "    }\n",
       "\n",
       "    .dataframe thead tr:last-of-type th {\n",
       "        text-align: right;\n",
       "    }\n",
       "</style>\n",
       "<table border=\"1\" class=\"dataframe\">\n",
       "  <thead>\n",
       "    <tr>\n",
       "      <th></th>\n",
       "      <th></th>\n",
       "      <th></th>\n",
       "      <th></th>\n",
       "      <th colspan=\"3\" halign=\"left\">VART_sum</th>\n",
       "    </tr>\n",
       "    <tr>\n",
       "      <th></th>\n",
       "      <th></th>\n",
       "      <th></th>\n",
       "      <th>YEAR</th>\n",
       "      <th>2011</th>\n",
       "      <th>2012</th>\n",
       "      <th>2013</th>\n",
       "    </tr>\n",
       "    <tr>\n",
       "      <th>ID</th>\n",
       "      <th>CN ID 8</th>\n",
       "      <th>PYOD</th>\n",
       "      <th>VAT</th>\n",
       "      <th></th>\n",
       "      <th></th>\n",
       "      <th></th>\n",
       "    </tr>\n",
       "  </thead>\n",
       "  <tbody>\n",
       "    <tr>\n",
       "      <th rowspan=\"6\" valign=\"top\">612039073</th>\n",
       "      <th>49019100</th>\n",
       "      <th>PT</th>\n",
       "      <th>PT0077741</th>\n",
       "      <td>NaN</td>\n",
       "      <td>0.397940</td>\n",
       "      <td>NaN</td>\n",
       "    </tr>\n",
       "    <tr>\n",
       "      <th>49019900</th>\n",
       "      <th>PT</th>\n",
       "      <th>PT0077741</th>\n",
       "      <td>NaN</td>\n",
       "      <td>-0.495282</td>\n",
       "      <td>0.390060</td>\n",
       "    </tr>\n",
       "    <tr>\n",
       "      <th>85232933</th>\n",
       "      <th>PT</th>\n",
       "      <th>PT0077741</th>\n",
       "      <td>NaN</td>\n",
       "      <td>NaN</td>\n",
       "      <td>NaN</td>\n",
       "    </tr>\n",
       "    <tr>\n",
       "      <th>85234939</th>\n",
       "      <th>PT</th>\n",
       "      <th>PT0077741</th>\n",
       "      <td>NaN</td>\n",
       "      <td>NaN</td>\n",
       "      <td>1.179296</td>\n",
       "    </tr>\n",
       "    <tr>\n",
       "      <th>85234945</th>\n",
       "      <th>PT</th>\n",
       "      <th>PT0077741</th>\n",
       "      <td>NaN</td>\n",
       "      <td>NaN</td>\n",
       "      <td>NaN</td>\n",
       "    </tr>\n",
       "    <tr>\n",
       "      <th>85234951</th>\n",
       "      <th>PT</th>\n",
       "      <th>PT0077741</th>\n",
       "      <td>NaN</td>\n",
       "      <td>NaN</td>\n",
       "      <td>NaN</td>\n",
       "    </tr>\n",
       "  </tbody>\n",
       "</table>\n",
       "</div>"
      ],
      "text/plain": [
       "                                  VART_sum                    \n",
       "YEAR                                  2011      2012      2013\n",
       "ID        CN ID 8  PYOD VAT                                   \n",
       "612039073 49019100 PT   PT0077741      NaN  0.397940       NaN\n",
       "          49019900 PT   PT0077741      NaN -0.495282  0.390060\n",
       "          85232933 PT   PT0077741      NaN       NaN       NaN\n",
       "          85234939 PT   PT0077741      NaN       NaN  1.179296\n",
       "          85234945 PT   PT0077741      NaN       NaN       NaN\n",
       "          85234951 PT   PT0077741      NaN       NaN       NaN"
      ]
     },
     "execution_count": 10,
     "metadata": {},
     "output_type": "execute_result"
    }
   ],
   "source": [
    "np.log10(df.set_index([u'ID', u'CN ID 8', u'PYOD', u'VAT','YEAR'])[['VART_sum']]).unstack().diff(axis = 1)"
   ]
  },
  {
   "cell_type": "code",
   "execution_count": 11,
   "metadata": {
    "collapsed": false
   },
   "outputs": [],
   "source": [
    "col = 'ID'\n",
    "sample = df_04_13.loc[df_04_13[col].isin(np.random.choice(df_04_13[col].unique(), 25000))]\n",
    "\n",
    "# df = df_04_13\n",
    "df = sample\n",
    "diff = np.log10(df.set_index([u'ID', u'CN ID 8', u'PYOD', u'VAT','YEAR'])[['VART_sum']]).unstack().diff(axis = 1)\n",
    "growth = diff.stack().reset_index()"
   ]
  },
  {
   "cell_type": "code",
   "execution_count": 12,
   "metadata": {
    "collapsed": false
   },
   "outputs": [],
   "source": [
    "# Randomising step\n",
    "growth['VART_sum'] = np.random.permutation(growth['VART_sum'])"
   ]
  },
  {
   "cell_type": "code",
   "execution_count": 13,
   "metadata": {
    "collapsed": false
   },
   "outputs": [],
   "source": [
    "seller_coef = growth.groupby('ID')[['VART_sum']].mean()\n",
    "buyer_coef = growth.groupby('VAT')[['VART_sum']].mean()\n",
    "pair_coef = growth.groupby(['ID','VAT'])[['VART_sum']].mean()\n",
    "year_coef = growth.groupby(['YEAR'])[['VART_sum']].mean()\n",
    "prod_coef = growth.groupby(['CN ID 8'])[['VART_sum']].mean()\n",
    "dest_coef = growth.groupby(['PYOD'])[['VART_sum']].mean()"
   ]
  },
  {
   "cell_type": "code",
   "execution_count": 14,
   "metadata": {
    "collapsed": false
   },
   "outputs": [
    {
     "data": {
      "text/plain": [
       "VART_sum   -0.009221\n",
       "dtype: float64"
      ]
     },
     "execution_count": 14,
     "metadata": {},
     "output_type": "execute_result"
    }
   ],
   "source": [
    "growth[['VART_sum']].mean()"
   ]
  },
  {
   "cell_type": "code",
   "execution_count": 15,
   "metadata": {
    "collapsed": false,
    "scrolled": true
   },
   "outputs": [
    {
     "data": {
      "text/html": [
       "<div>\n",
       "<style scoped>\n",
       "    .dataframe tbody tr th:only-of-type {\n",
       "        vertical-align: middle;\n",
       "    }\n",
       "\n",
       "    .dataframe tbody tr th {\n",
       "        vertical-align: top;\n",
       "    }\n",
       "\n",
       "    .dataframe thead th {\n",
       "        text-align: right;\n",
       "    }\n",
       "</style>\n",
       "<table border=\"1\" class=\"dataframe\">\n",
       "  <thead>\n",
       "    <tr style=\"text-align: right;\">\n",
       "      <th></th>\n",
       "      <th>VART_sum</th>\n",
       "    </tr>\n",
       "    <tr>\n",
       "      <th>PYOD</th>\n",
       "      <th></th>\n",
       "    </tr>\n",
       "  </thead>\n",
       "  <tbody>\n",
       "    <tr>\n",
       "      <th>MT</th>\n",
       "      <td>-0.023964</td>\n",
       "    </tr>\n",
       "    <tr>\n",
       "      <th>LV</th>\n",
       "      <td>-0.017503</td>\n",
       "    </tr>\n",
       "    <tr>\n",
       "      <th>GR</th>\n",
       "      <td>-0.013313</td>\n",
       "    </tr>\n",
       "    <tr>\n",
       "      <th>PL</th>\n",
       "      <td>-0.012859</td>\n",
       "    </tr>\n",
       "    <tr>\n",
       "      <th>NL</th>\n",
       "      <td>-0.011639</td>\n",
       "    </tr>\n",
       "    <tr>\n",
       "      <th>FI</th>\n",
       "      <td>-0.010922</td>\n",
       "    </tr>\n",
       "    <tr>\n",
       "      <th>LT</th>\n",
       "      <td>-0.010822</td>\n",
       "    </tr>\n",
       "    <tr>\n",
       "      <th>PT</th>\n",
       "      <td>-0.010693</td>\n",
       "    </tr>\n",
       "    <tr>\n",
       "      <th>DE</th>\n",
       "      <td>-0.010108</td>\n",
       "    </tr>\n",
       "    <tr>\n",
       "      <th>SE</th>\n",
       "      <td>-0.009598</td>\n",
       "    </tr>\n",
       "    <tr>\n",
       "      <th>GB</th>\n",
       "      <td>-0.009255</td>\n",
       "    </tr>\n",
       "    <tr>\n",
       "      <th>BE</th>\n",
       "      <td>-0.009180</td>\n",
       "    </tr>\n",
       "    <tr>\n",
       "      <th>ES</th>\n",
       "      <td>-0.008371</td>\n",
       "    </tr>\n",
       "    <tr>\n",
       "      <th>CZ</th>\n",
       "      <td>-0.008207</td>\n",
       "    </tr>\n",
       "    <tr>\n",
       "      <th>IT</th>\n",
       "      <td>-0.008141</td>\n",
       "    </tr>\n",
       "    <tr>\n",
       "      <th>BG</th>\n",
       "      <td>-0.007999</td>\n",
       "    </tr>\n",
       "    <tr>\n",
       "      <th>SK</th>\n",
       "      <td>-0.007845</td>\n",
       "    </tr>\n",
       "    <tr>\n",
       "      <th>LU</th>\n",
       "      <td>-0.007796</td>\n",
       "    </tr>\n",
       "    <tr>\n",
       "      <th>AT</th>\n",
       "      <td>-0.007377</td>\n",
       "    </tr>\n",
       "    <tr>\n",
       "      <th>DK</th>\n",
       "      <td>-0.007334</td>\n",
       "    </tr>\n",
       "    <tr>\n",
       "      <th>IE</th>\n",
       "      <td>-0.006825</td>\n",
       "    </tr>\n",
       "    <tr>\n",
       "      <th>RO</th>\n",
       "      <td>-0.006473</td>\n",
       "    </tr>\n",
       "    <tr>\n",
       "      <th>HU</th>\n",
       "      <td>-0.006468</td>\n",
       "    </tr>\n",
       "    <tr>\n",
       "      <th>SI</th>\n",
       "      <td>-0.004740</td>\n",
       "    </tr>\n",
       "    <tr>\n",
       "      <th>CY</th>\n",
       "      <td>0.000240</td>\n",
       "    </tr>\n",
       "    <tr>\n",
       "      <th>EE</th>\n",
       "      <td>0.005888</td>\n",
       "    </tr>\n",
       "  </tbody>\n",
       "</table>\n",
       "</div>"
      ],
      "text/plain": [
       "      VART_sum\n",
       "PYOD          \n",
       "MT   -0.023964\n",
       "LV   -0.017503\n",
       "GR   -0.013313\n",
       "PL   -0.012859\n",
       "NL   -0.011639\n",
       "FI   -0.010922\n",
       "LT   -0.010822\n",
       "PT   -0.010693\n",
       "DE   -0.010108\n",
       "SE   -0.009598\n",
       "GB   -0.009255\n",
       "BE   -0.009180\n",
       "ES   -0.008371\n",
       "CZ   -0.008207\n",
       "IT   -0.008141\n",
       "BG   -0.007999\n",
       "SK   -0.007845\n",
       "LU   -0.007796\n",
       "AT   -0.007377\n",
       "DK   -0.007334\n",
       "IE   -0.006825\n",
       "RO   -0.006473\n",
       "HU   -0.006468\n",
       "SI   -0.004740\n",
       "CY    0.000240\n",
       "EE    0.005888"
      ]
     },
     "execution_count": 15,
     "metadata": {},
     "output_type": "execute_result"
    }
   ],
   "source": [
    "year_coef\n",
    "dest_coef.sort_values(by = 'VART_sum')"
   ]
  },
  {
   "cell_type": "code",
   "execution_count": 16,
   "metadata": {
    "collapsed": false
   },
   "outputs": [
    {
     "data": {
      "image/png": "[encoded data removed]",
      "text/plain": [
       "<matplotlib.figure.Figure at 0x7f3dbaca0550>"
      ]
     },
     "metadata": {},
     "output_type": "display_data"
    }
   ],
   "source": [
    "fig, axs = plt.subplots(1, 4, figsize = (25, 5))\n",
    "dfs = [seller_coef, buyer_coef, pair_coef, prod_coef]\n",
    "titles = ['seller_coef', 'buyer_coef', 'pair_coef', 'prod_coef']\n",
    "for i in range(4):\n",
    "    ax = axs[i]\n",
    "    dfs[i].hist(bins = 100, ax = ax, normed = True)\n",
    "    ax.set_xlim(-2, 2)\n",
    "    ax.set_yscale('log')\n",
    "    ax.set_title(titles[i])"
   ]
  },
  {
   "cell_type": "code",
   "execution_count": null,
   "metadata": {
    "collapsed": false,
    "scrolled": true
   },
   "outputs": [],
   "source": []
  },
  {
   "cell_type": "code",
   "execution_count": null,
   "metadata": {
    "collapsed": false
   },
   "outputs": [],
   "source": []
  },
  {
   "cell_type": "code",
   "execution_count": 17,
   "metadata": {
    "collapsed": false
   },
   "outputs": [
    {
     "ename": "NameError",
     "evalue": "name 'df_13' is not defined",
     "output_type": "error",
     "traceback": [
      "\u001b[1;31m---------------------------------------------------------------------------\u001b[0m",
      "\u001b[1;31mNameError\u001b[0m                                 Traceback (most recent call last)",
      "\u001b[1;32m<ipython-input-17-0051afcdd499>\u001b[0m in \u001b[0;36m<module>\u001b[1;34m()\u001b[0m\n\u001b[1;32m----> 1\u001b[1;33m \u001b[0mdf_13\u001b[0m\u001b[1;33m.\u001b[0m\u001b[0mgroupby\u001b[0m\u001b[1;33m(\u001b[0m\u001b[1;33m[\u001b[0m\u001b[1;34m'ID'\u001b[0m\u001b[1;33m,\u001b[0m \u001b[1;34m'VAT'\u001b[0m\u001b[1;33m]\u001b[0m\u001b[1;33m)\u001b[0m\u001b[1;33m.\u001b[0m\u001b[0magg\u001b[0m\u001b[1;33m(\u001b[0m\u001b[1;33m{\u001b[0m\u001b[1;34m'CN ID 8'\u001b[0m\u001b[1;33m:\u001b[0m \u001b[1;34m'nunique'\u001b[0m\u001b[1;33m,\u001b[0m \u001b[1;34m'PYOD'\u001b[0m\u001b[1;33m:\u001b[0m\u001b[1;34m'nunique'\u001b[0m\u001b[1;33m,\u001b[0m \u001b[1;34m'VART_sum'\u001b[0m\u001b[1;33m:\u001b[0m \u001b[1;34m'sum'\u001b[0m\u001b[1;33m}\u001b[0m\u001b[1;33m)\u001b[0m\u001b[1;33m\u001b[0m\u001b[0m\n\u001b[0m",
      "\u001b[1;31mNameError\u001b[0m: name 'df_13' is not defined"
     ]
    }
   ],
   "source": [
    "df_13.groupby(['ID', 'VAT']).agg({'CN ID 8': 'nunique', 'PYOD':'nunique', 'VART_sum': 'sum'})"
   ]
  },
  {
   "cell_type": "code",
   "execution_count": null,
   "metadata": {
    "collapsed": false
   },
   "outputs": [],
   "source": [
    "df_by_VAT = df_13.groupby(['VAT']).agg({'CN ID 8': 'nunique', 'ID': 'nunique', 'PYOD':'nunique', 'VART_sum': 'sum'})\n",
    "df_by_VAT.sort_values(by = 'ID', ascending = False).head(15)"
   ]
  },
  {
   "cell_type": "code",
   "execution_count": null,
   "metadata": {
    "collapsed": false
   },
   "outputs": [],
   "source": [
    "df_by_ID = df_13.groupby(['ID']).agg({'CN ID 8': 'nunique', 'VAT': 'nunique', 'PYOD':'nunique', 'VART_sum': 'sum'})\n",
    "df_by_ID.sort_values(by = 'VAT', ascending = False).head(15)"
   ]
  },
  {
   "cell_type": "code",
   "execution_count": null,
   "metadata": {
    "collapsed": false,
    "scrolled": false
   },
   "outputs": [],
   "source": [
    "VAT_degree = df_by_VAT[['ID']].rename({'ID': 'ID_nunique'}, axis = 1).reset_index()\n",
    "ID_degree = df_by_ID[['VAT']].rename({'VAT': 'VAT_nunique'}, axis = 1).reset_index()"
   ]
  },
  {
   "cell_type": "code",
   "execution_count": null,
   "metadata": {
    "collapsed": false
   },
   "outputs": [],
   "source": [
    "df_degrees = df_13.merge(ID_degree, on = 'ID').merge(VAT_degree, on = 'VAT')"
   ]
  },
  {
   "cell_type": "code",
   "execution_count": null,
   "metadata": {
    "collapsed": false
   },
   "outputs": [],
   "source": [
    "\n",
    "\n",
    "df_ = df_degrees\n",
    "df_ = df_.merge(df_.groupby('VAT')[['VART_sum']].sum().reset_index().rename({'VART_sum': 'VAT_tot'}, axis = 1), on = 'VAT')\n",
    "df_ = df_.merge(df_.groupby('ID')[['VART_sum']].sum().reset_index().rename({'VART_sum': 'ID_tot'}, axis = 1), on = 'ID')\n",
    "\n",
    "df_['wt_in_VAT'] = df_['VART_sum'].div(df_['VAT_tot'])\n",
    "df_['wt_in_ID'] = df_['VART_sum'].div(df_['ID_tot'])\n",
    "\n",
    "df_['ID_wt_deg'] = df_['ID_nunique']*df_['wt_in_ID']\n",
    "df_['VAT_wt_deg'] = df_['VAT_nunique']*df_['wt_in_VAT']\n",
    "\n",
    "ID_wt_deg = df_.groupby('ID')[['ID_wt_deg']].sum().reset_index()\n",
    "VAT_wt_deg = df_.groupby('VAT')[['VAT_wt_deg']].sum().reset_index()"
   ]
  },
  {
   "cell_type": "code",
   "execution_count": null,
   "metadata": {
    "collapsed": false
   },
   "outputs": [],
   "source": [
    "df_degrees = df_degrees.merge(ID_wt_deg).merge(VAT_wt_deg)\n",
    "\n",
    "df_degrees = df_degrees.drop_duplicates(subset=['ID','VAT'])"
   ]
  },
  {
   "cell_type": "code",
   "execution_count": null,
   "metadata": {
    "collapsed": true
   },
   "outputs": [],
   "source": [
    "import numpy as np"
   ]
  },
  {
   "cell_type": "code",
   "execution_count": null,
   "metadata": {
    "collapsed": false
   },
   "outputs": [],
   "source": [
    "df_degrees['VAT_wt_deg_bin'] = pd.cut(np.log10(df_degrees['VAT_wt_deg']), 50)\n",
    "df_degrees['ID_wt_deg_bin'] = pd.cut(np.log10(df_degrees['ID_wt_deg']), 50)\n",
    "\n",
    "df_degrees['VAT_nunique_bin'] = pd.cut(np.log10(df_degrees['VAT_nunique']), 50)\n",
    "df_degrees['ID_nunique_bin'] = pd.cut(np.log10(df_degrees['ID_nunique']), 50)"
   ]
  },
  {
   "cell_type": "code",
   "execution_count": null,
   "metadata": {
    "collapsed": true
   },
   "outputs": [],
   "source": []
  },
  {
   "cell_type": "code",
   "execution_count": null,
   "metadata": {
    "collapsed": false,
    "scrolled": true
   },
   "outputs": [],
   "source": [
    "fig, ax = plt.subplots(1, figsize = (6, 6))\n",
    "\n",
    "sample = df_degrees.groupby(['ID_wt_deg_bin']).apply(lambda x: x.sample(500, replace = True))\n",
    "sample[['ID_wt_deg', 'VAT_wt_deg']].plot(x = 'ID_wt_deg', y = 'VAT_wt_deg', alpha = .05, marker = '.', linewidth = 0, ax = ax)\n",
    "                                                               \n",
    "ax.set_xscale('log')\n",
    "ax.set_xlim(1, 1000)\n",
    "ax.set_yscale('log')\n",
    "ax.set_ylim(1, 1000)"
   ]
  },
  {
   "cell_type": "code",
   "execution_count": null,
   "metadata": {
    "collapsed": false
   },
   "outputs": [],
   "source": [
    "df_degrees\n",
    "\n",
    "fig, axs = plt.subplots(1,2, figsize = (10, 5))\n",
    "\n",
    "ax = axs[0]\n",
    "# df_degrees.groupby('VAT_wt_deg_bin')[['VAT_wt_deg', 'ID_nunique']].median().plot(x = 'VAT_wt_deg', y = 'ID_nunique', marker = '.', ax = ax)\n",
    "df_degrees.groupby('VAT_wt_deg_bin')[['VAT_wt_deg', 'ID_nunique']].mean().plot(x = 'VAT_wt_deg', y = 'ID_nunique', marker = '.', linewidth = 0, ax = ax)\n",
    "ax.set_xscale('log')\n",
    "ax.set_yscale('log')\n",
    "\n",
    "ax = axs[1]\n",
    "# df_degrees.groupby('ID_wt_deg_bin')[['ID_wt_deg', 'VAT_nunique']].median().plot(x = 'ID_wt_deg', y = 'VAT_nunique', marker = '.', ax = ax)\n",
    "df_degrees.groupby('ID_wt_deg_bin')[['ID_wt_deg', 'VAT_nunique']].mean().plot(x = 'ID_wt_deg', y = 'VAT_nunique', marker = '.', linewidth = 0, ax = ax)\n",
    "ax.set_xscale('log')\n",
    "ax.set_yscale('log')"
   ]
  },
  {
   "cell_type": "code",
   "execution_count": null,
   "metadata": {
    "collapsed": false
   },
   "outputs": [],
   "source": [
    "# df_degrees.groupby('VAT_wt_deg_bin')[['VAT_wt_deg', 'ID_wt_deg']].median()\n",
    "\n",
    "fig, ax = plt.subplots(1)\n",
    "df_degrees.groupby('VAT_nunique_bin')['VAT_nunique','ID_nunique'].quantile(.25).plot(x = 'VAT_nunique', y = 'ID_nunique', marker = '', ax = ax)\n",
    "df_degrees.groupby('VAT_nunique_bin')['VAT_nunique','ID_nunique'].quantile(.5).plot(x = 'VAT_nunique', y = 'ID_nunique', marker = '', ax = ax)\n",
    "df_degrees.groupby('VAT_nunique_bin')['VAT_nunique','ID_nunique'].quantile(.75).plot(x = 'VAT_nunique', y = 'ID_nunique', marker = '', ax = ax)\n",
    "df_degrees.groupby('VAT_nunique')['ID_nunique'].median().plot(x = 'index', y = 'ID_nunique', marker = '.', linewidth = 0, ax = ax)\n",
    "# df_degrees.groupby('VAT_nunique')['ID_nunique'].count().plot(y = 'ID_nunique', marker = '.', linewidth = 0, ax = ax)\n",
    "ax.set_xscale('log')\n",
    "ax.set_yscale('log')"
   ]
  },
  {
   "cell_type": "code",
   "execution_count": null,
   "metadata": {
    "collapsed": false
   },
   "outputs": [],
   "source": [
    "fig, ax = plt.subplots(1)\n",
    "df_degrees.groupby('ID_nunique_bin')['VAT_nunique','ID_nunique'].quantile(.25).plot(x = 'ID_nunique', y = 'VAT_nunique', marker = '', ax = ax)\n",
    "df_degrees.groupby('ID_nunique_bin')['VAT_nunique','ID_nunique'].quantile(.5).plot(x = 'ID_nunique', y = 'VAT_nunique', marker = '', ax = ax)\n",
    "df_degrees.groupby('ID_nunique_bin')['VAT_nunique','ID_nunique'].quantile(.75).plot(x = 'ID_nunique', y = 'VAT_nunique', marker = '', ax = ax)\n",
    "\n",
    "# df_degrees.groupby('ID_nunique_bin')['VAT_nunique','ID_nunique'].mean().plot(x = 'ID_nunique', y = 'VAT_nunique', marker = 'o', ax = ax)\n",
    "df_degrees.groupby('ID_nunique')['VAT_nunique'].median().plot(x = 'index', y = 'VAT_nunique', marker = '.', linewidth = 0, ax = ax)\n",
    "ax.set_xscale('log')\n",
    "ax.set_yscale('log')"
   ]
  },
  {
   "cell_type": "code",
   "execution_count": null,
   "metadata": {
    "collapsed": true
   },
   "outputs": [],
   "source": []
  }
 ],
 "metadata": {
  "kernelspec": {
   "display_name": "Python 2",
   "language": "python",
   "name": "python2"
  },
  "language_info": {
   "codemirror_mode": {
    "name": "ipython",
    "version": 2
   },
   "file_extension": ".py",
   "mimetype": "text/x-python",
   "name": "python",
   "nbconvert_exporter": "python",
   "pygments_lexer": "ipython2",
   "version": "2.7.13"
  }
 },
 "nbformat": 4,
 "nbformat_minor": 2
}
