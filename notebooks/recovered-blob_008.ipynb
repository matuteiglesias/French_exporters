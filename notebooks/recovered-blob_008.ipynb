{
 "cells": [
  {
   "cell_type": "code",
   "execution_count": 3,
   "metadata": {
    "collapsed": true
   },
   "outputs": [],
   "source": [
    "#Import modules\n",
    "\n",
    "import pandas as pd\n",
    "# from IPython.display import display, HTML\n",
    "# from numpy import log10, nan, inf, random, clip, arange\n",
    "\n",
    "# path = './../export_france/data/type1/DP1610_MAASTRICHT1_1997_2013'\n",
    "\n",
    "# display(HTML(\"<style>.container { width:100% !important; }</style>\"))\n",
    "\n",
    "import matplotlib.pyplot as plt\n",
    "%matplotlib inline\n",
    "\n",
    "import dask.dataframe as dd\n",
    "from dask.diagnostics import ProgressBar\n",
    "\n",
    "from numpy import arange, log10\n",
    "\n",
    "from functions import chunk, agg, finalize\n",
    "tunique = dd.Aggregation('tunique', chunk, agg,finalize)\n",
    "first = dd.Aggregation('first', chunk, agg,finalize)"
   ]
  },
  {
   "cell_type": "markdown",
   "metadata": {},
   "source": [
    "### Prices and quantities"
   ]
  },
  {
   "cell_type": "code",
   "execution_count": 4,
   "metadata": {
    "collapsed": false
   },
   "outputs": [],
   "source": [
    "drive_path = './../../../../media/miglesia/Elements/export_france/data/type1/DP1610_MAASTRICHT1_1997_2013'\n",
    "\n",
    "colnames = [u'YEAR', u'MONTH', u'FLUX', u'ID', u'DEPT', u'CN ID 8', u'CPA6',\n",
    "       u'PYOD', u'PAYP', u'VAT', u'PRIFAC', u'DEVFAC', u'VFTE', u'VART', u'D_MASSE', u'MASSE', u'USUP', u'USUP_MT']\n",
    "\n",
    "colname_no = dict(zip(colnames, range(18)))\n",
    "columns = [u'YEAR', u'MONTH', u'FLUX', u'ID', u'CN ID 8', u'PYOD', u'VART', u'MASSE', u'USUP', u'USUP_MT']\n",
    "\n",
    "df_list = []\n",
    "\n",
    "for y in range(1997, 2005):\n",
    "    df_list += [dd.read_table(drive_path+'/DP1610_MAASTRICHT1_'+str(y)+'.txt', \n",
    "            usecols = map(colname_no.get, columns),\n",
    "            delimiter = ';', header = None, dtype = {9: 'object'}).fillna('')]\n",
    "\n",
    "data_ = dd.concat(df_list)\n",
    "data_.columns = columns"
   ]
  },
  {
   "cell_type": "code",
   "execution_count": 5,
   "metadata": {
    "collapsed": false
   },
   "outputs": [],
   "source": [
    "# with ProgressBar():\n",
    "#     df = data_.compute()"
   ]
  },
  {
   "cell_type": "code",
   "execution_count": 5,
   "metadata": {
    "collapsed": false
   },
   "outputs": [],
   "source": [
    "grouped = data_.loc[data_.FLUX == 2].groupby(['ID', 'CN ID 8', 'MONTH', 'YEAR'])"
   ]
  },
  {
   "cell_type": "code",
   "execution_count": 12,
   "metadata": {
    "collapsed": false
   },
   "outputs": [
    {
     "name": "stdout",
     "output_type": "stream",
     "text": [
      "[########################################] | 100% Completed |  5min 47.3s\n"
     ]
    }
   ],
   "source": [
    "# df = \n",
    "# df = df.sort_index().reset_index()\n",
    "\n",
    "with ProgressBar():\n",
    "    out = grouped[['VART', 'MASSE']].sum().compute()\n",
    "out.to_csv('units_bkp.csv')\n",
    "\n",
    "with ProgressBar():\n",
    "    out_2 = data_.loc[data_.FLUX == 2].groupby(['ID', 'CN ID 8']).agg(\n",
    "        {'VART': sum, 'MASSE': sum, 'USUP': tunique, 'USUP': first, 'USUP_MT': sum}).compute()\n",
    "out_2.to_csv('units_bkp.csv')"
   ]
  },
  {
   "cell_type": "code",
   "execution_count": null,
   "metadata": {
    "collapsed": false
   },
   "outputs": [],
   "source": []
  },
  {
   "cell_type": "code",
   "execution_count": 8,
   "metadata": {
    "collapsed": false
   },
   "outputs": [
    {
     "ename": "NameError",
     "evalue": "name 'out' is not defined",
     "output_type": "error",
     "traceback": [
      "\u001b[1;31m---------------------------------------------------------------------------\u001b[0m",
      "\u001b[1;31mNameError\u001b[0m                                 Traceback (most recent call last)",
      "\u001b[1;32m<ipython-input-8-66091903f7f1>\u001b[0m in \u001b[0;36m<module>\u001b[1;34m()\u001b[0m\n\u001b[1;32m----> 1\u001b[1;33m \u001b[0mdf_\u001b[0m \u001b[1;33m=\u001b[0m \u001b[0mout\u001b[0m\u001b[1;33m.\u001b[0m\u001b[0msort_index\u001b[0m\u001b[1;33m(\u001b[0m\u001b[1;33m)\u001b[0m\u001b[1;33m.\u001b[0m\u001b[0mreset_index\u001b[0m\u001b[1;33m(\u001b[0m\u001b[1;33m)\u001b[0m\u001b[1;33m\u001b[0m\u001b[0m\n\u001b[0m\u001b[0;32m      2\u001b[0m \u001b[1;31m# .diff()\u001b[0m\u001b[1;33m\u001b[0m\u001b[1;33m\u001b[0m\u001b[0m\n",
      "\u001b[1;31mNameError\u001b[0m: name 'out' is not defined"
     ]
    }
   ],
   "source": [
    "df_ = out.sort_index().reset_index()\n",
    "# .diff()"
   ]
  },
  {
   "cell_type": "code",
   "execution_count": null,
   "metadata": {
    "collapsed": false
   },
   "outputs": [],
   "source": [
    "dif = df_.diff()"
   ]
  },
  {
   "cell_type": "code",
   "execution_count": null,
   "metadata": {
    "collapsed": false
   },
   "outputs": [],
   "source": [
    "dif.loc[(dif.ID == 0) & (dif['CN ID 8'] == 0) & (dif['MONTH'] == 0) & (dif.YEAR == 1)]"
   ]
  },
  {
   "cell_type": "markdown",
   "metadata": {},
   "source": [
    "## Firm sizes"
   ]
  },
  {
   "cell_type": "code",
   "execution_count": 22,
   "metadata": {
    "collapsed": true
   },
   "outputs": [],
   "source": [
    "drive_path = './../../../../media/miglesia/Elements/export_france/data/type1/DP1610_MAASTRICHT1_1997_2013'\n",
    "\n",
    "colnames = [u'YEAR', u'MONTH', u'FLUX', u'ID', u'DEPT', u'CN ID 8', u'CPA6',\n",
    "       u'PYOD', u'PAYP', u'VAT', u'PRIFAC', u'DEVFAC', u'VFTE', u'VART', u'D_MASSE', u'MASSE', u'USUP', u'USUP_MT']\n",
    "\n",
    "colname_no = dict(zip(colnames, range(18)))\n",
    "columns = [u'YEAR', u'MONTH', u'FLUX', u'ID', u'VAT', u'VART']\n",
    "\n",
    "df_list = []\n",
    "\n",
    "for y in range(2010, 2014):\n",
    "    df_list += [dd.read_table(drive_path+'/DP1610_MAASTRICHT1_'+str(y)+'.txt', \n",
    "            usecols = map(colname_no.get, columns),\n",
    "            delimiter = ';', header = None, dtype = {9: 'object'})]\n",
    "\n",
    "data = dd.concat(df_list)\n",
    "data.columns = columns\n",
    "data['IMPORT'] = data['FLUX'] % 2\n"
   ]
  },
  {
   "cell_type": "code",
   "execution_count": 23,
   "metadata": {
    "collapsed": false
   },
   "outputs": [],
   "source": [
    "firm_sizes = data.groupby(['ID', 'IMPORT','YEAR'])[['VART']].sum().reset_index()\n",
    "buyr_sizes = data.groupby(['VAT', 'IMPORT','YEAR'])[['VART']].sum().reset_index()\n"
   ]
  },
  {
   "cell_type": "code",
   "execution_count": 24,
   "metadata": {
    "collapsed": false
   },
   "outputs": [
    {
     "name": "stdout",
     "output_type": "stream",
     "text": [
      "[########################################] | 100% Completed |  4min 31.6s\n",
      "[########################################] | 100% Completed |  7min 10.8s\n"
     ]
    },
    {
     "name": "stderr",
     "output_type": "stream",
     "text": [
      "/home/miglesia/anaconda2/lib/python2.7/site-packages/IPython/kernel/__main__.py:5: RuntimeWarning: divide by zero encountered in log10\n"
     ]
    }
   ],
   "source": [
    "with ProgressBar():\n",
    "    firm_sizes = firm_sizes.compute()\n",
    "    buyr_sizes = buyr_sizes.loc[buyr_sizes.YEAR > 2010].compute()\n",
    "    \n",
    "firm_sizes['log_VART'] = log10(firm_sizes.VART)\n",
    "buyr_sizes['log_VART'] = log10(buyr_sizes.VART)\n",
    "\n",
    "firm_sizes.to_csv('firm_sizes.csv', index = False)\n",
    "buyr_sizes.to_csv('buyr_sizes.csv', index = False)"
   ]
  },
  {
   "cell_type": "code",
   "execution_count": 25,
   "metadata": {
    "collapsed": false
   },
   "outputs": [],
   "source": [
    "firm_sizes = pd.read_csv('firm_sizes.csv')\n",
    "buyr_sizes = pd.read_csv('buyr_sizes.csv')"
   ]
  },
  {
   "cell_type": "code",
   "execution_count": 26,
   "metadata": {
    "collapsed": false
   },
   "outputs": [
    {
     "data": {
      "image/png": "[encoded data removed]",
      "text/plain": [
       "<matplotlib.figure.Figure at 0x7ff272fbdc50>"
      ]
     },
     "metadata": {},
     "output_type": "display_data"
    },
    {
     "data": {
      "image/png": "[encoded data removed]",
      "text/plain": [
       "<matplotlib.figure.Figure at 0x7ff1f4944c90>"
      ]
     },
     "metadata": {},
     "output_type": "display_data"
    }
   ],
   "source": [
    "from numpy import inf, nan\n",
    "\n",
    "fs_df = firm_sizes\n",
    "\n",
    "for y in [2010, 2011]:\n",
    "    fig, axs = plt.subplots(1, 2, figsize = (16, 5))\n",
    "    for i in [0, 1]:\n",
    "        fs_df_slice = fs_df.loc[(fs_df.YEAR == y) & (fs_df.IMPORT == i)].replace(-inf, nan).dropna()\n",
    "        fs_df_slice['bin'], bins_x = pd.cut(fs_df_slice['log_VART'], 90, retbins=True)\n",
    "\n",
    "        fs_ct_val = fs_df_slice.groupby('bin').agg({'ID': 'count', 'VART': sum}).rename(columns = {'ID': 'counts', 'VART': 'value'})\n",
    "\n",
    "        fs_ct_val/=fs_ct_val.sum()\n",
    "        ax = axs[i]\n",
    "        fs_ct_val['log_VART'] = (bins_x[:-1] + bins_x[1:])/2.\n",
    "        fs_ct_val.plot(x = 'log_VART', y = 'counts', ax = ax)\n",
    "        fs_ct_val.plot(x = 'log_VART', y = 'value', ax = ax)\n",
    "        ax.set_title('IMPORTS, '+str(y)) if i == 1 else ax.set_title('EXPORTS, '+str(y))\n",
    "        ax.set_ylim(0, 0.06)"
   ]
  },
  {
   "cell_type": "markdown",
   "metadata": {},
   "source": [
    "### Value by buyer, seller size"
   ]
  },
  {
   "cell_type": "code",
   "execution_count": 6,
   "metadata": {
    "collapsed": false
   },
   "outputs": [],
   "source": [
    "# drive_path = './../../../../media/miglesia/Elements/export_france/data/type1/DP1610_MAASTRICHT1_1997_2013'\n",
    "\n",
    "# colnames = [u'YEAR', u'MONTH', u'FLUX', u'ID', u'DEPT', u'CN ID 8', u'CPA6',\n",
    "#        u'PYOD', u'PAYP', u'VAT', u'PRIFAC', u'DEVFAC', u'VFTE', u'VART', u'D_MASSE', u'MASSE', u'USUP', u'USUP_MT']\n",
    "\n",
    "# colname_no = dict(zip(colnames, range(18)))\n",
    "# columns = [u'YEAR', u'FLUX', u'ID', u'VAT', u'VART']\n",
    "\n",
    "# df_list = []\n",
    "\n",
    "# for y in range(1997, 2014):\n",
    "#     df_list += [dd.read_table(drive_path+'/DP1610_MAASTRICHT1_'+str(y)+'.txt', \n",
    "#             usecols = map(colname_no.get, columns),\n",
    "#             delimiter = ';', header = None, dtype = {9: 'object'})]\n",
    "\n",
    "# data = dd.concat(df_list)\n",
    "# data.columns = columns\n",
    "# data['IMPORT'] = data['FLUX'] % 2\n",
    "\n",
    "# links = data.groupby(['IMPORT','YEAR','ID','VAT'])['VART'].sum().reset_index()\n"
   ]
  },
  {
   "cell_type": "code",
   "execution_count": 7,
   "metadata": {
    "collapsed": false
   },
   "outputs": [
    {
     "name": "stdout",
     "output_type": "stream",
     "text": [
      "[########################################] | 100% Completed | 16min 41.3s\n"
     ]
    }
   ],
   "source": [
    "# with ProgressBar():\n",
    "#     out = links.compute()\n",
    "# out.to_csv('buyer_seller_links.csv', index = False)"
   ]
  },
  {
   "cell_type": "code",
   "execution_count": 27,
   "metadata": {
    "collapsed": false
   },
   "outputs": [],
   "source": [
    "links = pd.read_csv('./buyer_seller_links.csv')\n",
    "links = links.loc[links.VART > 1000]\n",
    "\n",
    "links['log_VART'] = log10(links.VART)#.replace(-inf, nan).dropna()\n",
    "# links['bin'], bins_x = pd.cut(links['log_VART'], 90, retbins=True)"
   ]
  },
  {
   "cell_type": "code",
   "execution_count": 106,
   "metadata": {
    "collapsed": false
   },
   "outputs": [],
   "source": [
    "links_y = links.loc[links.YEAR > 2010].groupby(['ID', 'VAT'])[['VART']].mean().reset_index()\n",
    "\n",
    "ID_chars = links_y.groupby('ID').agg({'VAT': 'nunique', 'VART': sum}).rename(columns = {'VART': 'log_VART', 'VAT': 'ID_degree'})\n",
    "ID_chars = log10(ID_chars).reset_index()\n",
    "\n",
    "VAT_chars = links_y.groupby('VAT').agg({'ID': 'nunique', 'VART': sum}).rename(columns = {'VART': 'log_VART', 'ID': 'VAT_degree'})\n",
    "VAT_chars = log10(VAT_chars).reset_index()\n",
    "\n",
    "# firm_sizes = pd.read_csv('firm_sizes.csv')\n",
    "# buyr_sizes = pd.read_csv('buyr_sizes.csv')\n",
    "\n",
    "# firm_sizes_y = firm_sizes.loc[(firm_sizes.YEAR == 2013) & (firm_sizes.IMPORT == 0)]\n",
    "# buyr_sizes_y = buyr_sizes.loc[(buyr_sizes.YEAR == 2013) & (buyr_sizes.IMPORT == 0)]"
   ]
  },
  {
   "cell_type": "code",
   "execution_count": 119,
   "metadata": {
    "collapsed": false
   },
   "outputs": [],
   "source": [
    "links_val = links_y.merge(ID_chars[['ID','log_VART', 'ID_degree']], on = 'ID').merge(VAT_chars[['VAT', 'log_VART', 'VAT_degree']], on = 'VAT')\n",
    "links_val = links_val.rename(columns = {'log_VART_x': 'log_VART_ID', 'log_VART_y': 'log_VART_VAT'})"
   ]
  },
  {
   "cell_type": "code",
   "execution_count": 113,
   "metadata": {
    "collapsed": false
   },
   "outputs": [
    {
     "name": "stdout",
     "output_type": "stream",
     "text": [
      "3.50609895993\n",
      "4.13557785334\n"
     ]
    }
   ],
   "source": [
    "print links_val.VAT_degree.max()\n",
    "print links_val.ID_degree.max()"
   ]
  },
  {
   "cell_type": "code",
   "execution_count": 133,
   "metadata": {
    "collapsed": false
   },
   "outputs": [
    {
     "data": {
      "image/png": "[encoded data removed]",
      "text/plain": [
       "<matplotlib.figure.Figure at 0x7ff27089a750>"
      ]
     },
     "metadata": {},
     "output_type": "display_data"
    }
   ],
   "source": [
    "from numpy import arange\n",
    "from matplotlib.colors import Normalize\n",
    "\n",
    "bins = arange(3, 10, .1)\n",
    "links_val['val_x_bin'] = pd.cut(links_val['log_VART_ID'], bins)\n",
    "links_val['val_y_bin'] = pd.cut(links_val['log_VART_VAT'], bins)\n",
    "\n",
    "bins_d = arange(-.1, 4, .1)\n",
    "links_val['deg_x_bin'] = pd.cut(links_val['ID_degree'], bins_d)\n",
    "links_val['deg_y_bin'] = pd.cut(links_val['VAT_degree'], bins_d)\n",
    "\n",
    "fig, axs = plt.subplots(1, 2, figsize = (14, 7))\n",
    "\n",
    "for i in [0, 1]:\n",
    "\n",
    "    if i == 0:\n",
    "        result = links_val.groupby(['val_x_bin','val_y_bin']).agg({'log_VART_ID': 'mean', 'log_VART_VAT': 'mean', \n",
    "                                                           'VART': 'sum', 'ID': 'count'})\n",
    "    elif i == 1:\n",
    "        result = links_val.groupby(['deg_x_bin','deg_y_bin']).agg({'ID_degree': 'mean', 'VAT_degree': 'mean', \n",
    "                                                           'VART': 'sum', 'ID': 'count'}) #ID is just a counter\n",
    "\n",
    "    result['PDF_value'] = result['VART']/result['VART'].sum()\n",
    "    result['PDF_count'] = result['ID']/result['ID'].sum() #ID is just a counter\n",
    "\n",
    "    result_table = result.unstack(0).sort_index(ascending = False)\n",
    "\n",
    "    value = result_table['PDF_value'].fillna(0).values\n",
    "    count = result_table['PDF_count'].fillna(0).values\n",
    "\n",
    "    ax = axs[i]\n",
    "    extent = [(3, 10, 3, 10), (0, 4, 0, 4)][i]\n",
    "    ax.matshow(value - count, extent=extent, cmap=plt.cm.RdYlBu, vmin = -0.003, vmax = .003)\n",
    "\n",
    "axs[0].set_xlabel('size of French seller (log EUR/yr)')\n",
    "axs[0].set_ylabel('size of foreign buyer (log EUR/yr)')\n",
    "axs[0].set_title(\"PDF of counts (red) and value (blue) \\n by partners' SIZE\")\n",
    "axs[1].set_xlabel('degree of French seller (log)')\n",
    "axs[1].set_ylabel('degree of foreign buyer (log)')\n",
    "axs[1].set_title(\"PDF of counts (red) and value (blue) \\n by partners' DEGREE\")\n",
    "plt.show()"
   ]
  },
  {
   "cell_type": "code",
   "execution_count": null,
   "metadata": {
    "collapsed": false
   },
   "outputs": [],
   "source": [
    "# # dd.read_csv('2014-*.csv')\n",
    "\n",
    "# # drive_path = './../export_france/data/type1/DP1610_MAASTRICHT1_1997_2013'\n",
    "# drive_path = './../../../../media/miglesia/Elements/export_france/data/type1/DP1610_MAASTRICHT1_1997_2013'\n",
    "\n",
    "# n_bins = 20\n",
    "# df_list = n_bins * [ 0 ]\n",
    "\n",
    "# for dataset_i in range(n_bins):\n",
    "#     df_list[dataset_i] = dd.read_csv(drive_path+'/samplings/YMxpb_size20'+str(dataset_i).zfill(2)+'.csv')#,\n",
    "# #                                     usecols = ['YEAR','ID','VAT','VART_sum'])\n",
    "\n",
    "# data = dd.concat(df_list)\n",
    "# data = data.groupby(['YEAR','ID','VAT'])['VART_sum'].sum().reset_index()"
   ]
  },
  {
   "cell_type": "code",
   "execution_count": null,
   "metadata": {
    "collapsed": false
   },
   "outputs": [],
   "source": [
    "# with ProgressBar():\n",
    "#     out = data.compute()\n",
    "# out.to_csv('buyer_seller_links.csv', index = False)\n",
    "\n",
    "# data = dd.from_pandas(out, npartitions = 100)"
   ]
  },
  {
   "cell_type": "code",
   "execution_count": 135,
   "metadata": {
    "collapsed": false
   },
   "outputs": [],
   "source": [
    "links = pd.read_csv('./buyer_seller_links.csv')\n",
    "links = links.loc[links.VART > 1000]\n",
    "links_count = links.groupby('YEAR').agg({'VART': 'count', 'ID': 'nunique', 'VAT': 'nunique'})\n",
    "links_count = links_count.rename(columns = {'VART': 'pairs', 'ID': 'FR sellers', 'VAT': 'foreign buyers'})\n",
    "links_pct_change = 100*links_count.pct_change().round(4).fillna('')"
   ]
  },
  {
   "cell_type": "code",
   "execution_count": 136,
   "metadata": {
    "collapsed": false
   },
   "outputs": [
    {
     "data": {
      "text/html": [
       "<div>\n",
       "<style scoped>\n",
       "    .dataframe tbody tr th:only-of-type {\n",
       "        vertical-align: middle;\n",
       "    }\n",
       "\n",
       "    .dataframe tbody tr th {\n",
       "        vertical-align: top;\n",
       "    }\n",
       "\n",
       "    .dataframe thead tr th {\n",
       "        text-align: left;\n",
       "    }\n",
       "\n",
       "    .dataframe thead tr:last-of-type th {\n",
       "        text-align: right;\n",
       "    }\n",
       "</style>\n",
       "<table border=\"1\" class=\"dataframe\">\n",
       "  <thead>\n",
       "    <tr>\n",
       "      <th></th>\n",
       "      <th colspan=\"3\" halign=\"left\">count</th>\n",
       "      <th colspan=\"3\" halign=\"left\">yearly pct change</th>\n",
       "    </tr>\n",
       "    <tr>\n",
       "      <th></th>\n",
       "      <th>pairs</th>\n",
       "      <th>FR sellers</th>\n",
       "      <th>foreign buyers</th>\n",
       "      <th>pairs</th>\n",
       "      <th>FR sellers</th>\n",
       "      <th>foreign buyers</th>\n",
       "    </tr>\n",
       "    <tr>\n",
       "      <th>YEAR</th>\n",
       "      <th></th>\n",
       "      <th></th>\n",
       "      <th></th>\n",
       "      <th></th>\n",
       "      <th></th>\n",
       "      <th></th>\n",
       "    </tr>\n",
       "  </thead>\n",
       "  <tbody>\n",
       "    <tr>\n",
       "      <th>1997</th>\n",
       "      <td>824529</td>\n",
       "      <td>52062</td>\n",
       "      <td>352398</td>\n",
       "      <td></td>\n",
       "      <td></td>\n",
       "      <td></td>\n",
       "    </tr>\n",
       "    <tr>\n",
       "      <th>1998</th>\n",
       "      <td>853034</td>\n",
       "      <td>53380</td>\n",
       "      <td>356449</td>\n",
       "      <td>3.46</td>\n",
       "      <td>2.53</td>\n",
       "      <td>1.15</td>\n",
       "    </tr>\n",
       "    <tr>\n",
       "      <th>1999</th>\n",
       "      <td>879117</td>\n",
       "      <td>54320</td>\n",
       "      <td>367328</td>\n",
       "      <td>3.06</td>\n",
       "      <td>1.76</td>\n",
       "      <td>3.05</td>\n",
       "    </tr>\n",
       "    <tr>\n",
       "      <th>2000</th>\n",
       "      <td>900988</td>\n",
       "      <td>54481</td>\n",
       "      <td>381432</td>\n",
       "      <td>2.49</td>\n",
       "      <td>0.3</td>\n",
       "      <td>3.84</td>\n",
       "    </tr>\n",
       "    <tr>\n",
       "      <th>2001</th>\n",
       "      <td>887826</td>\n",
       "      <td>50259</td>\n",
       "      <td>384110</td>\n",
       "      <td>-1.46</td>\n",
       "      <td>-7.75</td>\n",
       "      <td>0.7</td>\n",
       "    </tr>\n",
       "    <tr>\n",
       "      <th>2002</th>\n",
       "      <td>899477</td>\n",
       "      <td>48530</td>\n",
       "      <td>390763</td>\n",
       "      <td>1.31</td>\n",
       "      <td>-3.44</td>\n",
       "      <td>1.73</td>\n",
       "    </tr>\n",
       "    <tr>\n",
       "      <th>2003</th>\n",
       "      <td>899695</td>\n",
       "      <td>48273</td>\n",
       "      <td>397693</td>\n",
       "      <td>0.02</td>\n",
       "      <td>-0.53</td>\n",
       "      <td>1.77</td>\n",
       "    </tr>\n",
       "    <tr>\n",
       "      <th>2004</th>\n",
       "      <td>955009</td>\n",
       "      <td>48682</td>\n",
       "      <td>426010</td>\n",
       "      <td>6.15</td>\n",
       "      <td>0.85</td>\n",
       "      <td>7.12</td>\n",
       "    </tr>\n",
       "    <tr>\n",
       "      <th>2005</th>\n",
       "      <td>974115</td>\n",
       "      <td>48417</td>\n",
       "      <td>429763</td>\n",
       "      <td>2</td>\n",
       "      <td>-0.54</td>\n",
       "      <td>0.88</td>\n",
       "    </tr>\n",
       "    <tr>\n",
       "      <th>2006</th>\n",
       "      <td>980558</td>\n",
       "      <td>46912</td>\n",
       "      <td>434310</td>\n",
       "      <td>0.66</td>\n",
       "      <td>-3.11</td>\n",
       "      <td>1.06</td>\n",
       "    </tr>\n",
       "    <tr>\n",
       "      <th>2007</th>\n",
       "      <td>1002149</td>\n",
       "      <td>45967</td>\n",
       "      <td>450843</td>\n",
       "      <td>2.2</td>\n",
       "      <td>-2.01</td>\n",
       "      <td>3.81</td>\n",
       "    </tr>\n",
       "    <tr>\n",
       "      <th>2008</th>\n",
       "      <td>985853</td>\n",
       "      <td>45141</td>\n",
       "      <td>447878</td>\n",
       "      <td>-1.63</td>\n",
       "      <td>-1.8</td>\n",
       "      <td>-0.66</td>\n",
       "    </tr>\n",
       "    <tr>\n",
       "      <th>2009</th>\n",
       "      <td>930321</td>\n",
       "      <td>43192</td>\n",
       "      <td>430183</td>\n",
       "      <td>-5.63</td>\n",
       "      <td>-4.32</td>\n",
       "      <td>-3.95</td>\n",
       "    </tr>\n",
       "    <tr>\n",
       "      <th>2010</th>\n",
       "      <td>946037</td>\n",
       "      <td>42463</td>\n",
       "      <td>437200</td>\n",
       "      <td>1.69</td>\n",
       "      <td>-1.69</td>\n",
       "      <td>1.63</td>\n",
       "    </tr>\n",
       "    <tr>\n",
       "      <th>2011</th>\n",
       "      <td>834748</td>\n",
       "      <td>26690</td>\n",
       "      <td>406142</td>\n",
       "      <td>-11.76</td>\n",
       "      <td>-37.15</td>\n",
       "      <td>-7.1</td>\n",
       "    </tr>\n",
       "    <tr>\n",
       "      <th>2012</th>\n",
       "      <td>830036</td>\n",
       "      <td>24846</td>\n",
       "      <td>404678</td>\n",
       "      <td>-0.56</td>\n",
       "      <td>-6.91</td>\n",
       "      <td>-0.36</td>\n",
       "    </tr>\n",
       "    <tr>\n",
       "      <th>2013</th>\n",
       "      <td>829460</td>\n",
       "      <td>24768</td>\n",
       "      <td>403480</td>\n",
       "      <td>-0.07</td>\n",
       "      <td>-0.31</td>\n",
       "      <td>-0.3</td>\n",
       "    </tr>\n",
       "  </tbody>\n",
       "</table>\n",
       "</div>"
      ],
      "text/plain": [
       "        count                           yearly pct change             \\\n",
       "        pairs FR sellers foreign buyers             pairs FR sellers   \n",
       "YEAR                                                                   \n",
       "1997   824529      52062         352398                                \n",
       "1998   853034      53380         356449              3.46       2.53   \n",
       "1999   879117      54320         367328              3.06       1.76   \n",
       "2000   900988      54481         381432              2.49        0.3   \n",
       "2001   887826      50259         384110             -1.46      -7.75   \n",
       "2002   899477      48530         390763              1.31      -3.44   \n",
       "2003   899695      48273         397693              0.02      -0.53   \n",
       "2004   955009      48682         426010              6.15       0.85   \n",
       "2005   974115      48417         429763                 2      -0.54   \n",
       "2006   980558      46912         434310              0.66      -3.11   \n",
       "2007  1002149      45967         450843               2.2      -2.01   \n",
       "2008   985853      45141         447878             -1.63       -1.8   \n",
       "2009   930321      43192         430183             -5.63      -4.32   \n",
       "2010   946037      42463         437200              1.69      -1.69   \n",
       "2011   834748      26690         406142            -11.76     -37.15   \n",
       "2012   830036      24846         404678             -0.56      -6.91   \n",
       "2013   829460      24768         403480             -0.07      -0.31   \n",
       "\n",
       "                     \n",
       "     foreign buyers  \n",
       "YEAR                 \n",
       "1997                 \n",
       "1998           1.15  \n",
       "1999           3.05  \n",
       "2000           3.84  \n",
       "2001            0.7  \n",
       "2002           1.73  \n",
       "2003           1.77  \n",
       "2004           7.12  \n",
       "2005           0.88  \n",
       "2006           1.06  \n",
       "2007           3.81  \n",
       "2008          -0.66  \n",
       "2009          -3.95  \n",
       "2010           1.63  \n",
       "2011           -7.1  \n",
       "2012          -0.36  \n",
       "2013           -0.3  "
      ]
     },
     "execution_count": 136,
     "metadata": {},
     "output_type": "execute_result"
    }
   ],
   "source": [
    "links_summary = pd.concat([links_count,links_pct_change], axis = 1)\n",
    "links_summary.columns = pd.MultiIndex.from_product([['count', 'yearly pct change'], links_count.columns])\n",
    "links_summary"
   ]
  },
  {
   "cell_type": "markdown",
   "metadata": {},
   "source": [
    "### Buyers and selers by foreign country"
   ]
  },
  {
   "cell_type": "code",
   "execution_count": 137,
   "metadata": {
    "collapsed": false
   },
   "outputs": [],
   "source": [
    "drive_path = './../../../../media/miglesia/Elements/export_france/data/type1/DP1610_MAASTRICHT1_1997_2013'\n",
    "\n",
    "colnames = [u'YEAR', u'MONTH', u'FLUX', u'ID', u'DEPT', u'CN ID 8', u'CPA6',\n",
    "       u'PYOD', u'PAYP', u'VAT', u'PRIFAC', u'DEVFAC', u'VFTE', u'VART', u'D_MASSE', u'MASSE', u'USUP', u'USUP_MT']\n",
    "\n",
    "colname_no = dict(zip(colnames, range(18)))\n",
    "columns = [u'YEAR', u'MONTH', u'FLUX', u'ID', u'PYOD', u'VART']\n",
    "\n",
    "df_list = []\n",
    "\n",
    "for y in range(1997, 2014):\n",
    "    df_list += [dd.read_table(drive_path+'/DP1610_MAASTRICHT1_'+str(y)+'.txt', \n",
    "            usecols = map(colname_no.get, columns),\n",
    "            delimiter = ';', header = None, dtype = {9: 'object'})]\n",
    "\n",
    "data = dd.concat(df_list)\n",
    "data.columns = columns\n",
    "data['IMPORT'] = data['FLUX'] % 2\n",
    "\n",
    "data_by_dest = data.groupby(['IMPORT','YEAR','ID','PYOD'])['VART'].sum().reset_index()\n"
   ]
  },
  {
   "cell_type": "code",
   "execution_count": 140,
   "metadata": {
    "collapsed": false
   },
   "outputs": [],
   "source": [
    "result = data_by_dest.groupby(['PYOD', 'YEAR']).agg({'ID': tunique, 'VART': 'sum'})"
   ]
  },
  {
   "cell_type": "code",
   "execution_count": null,
   "metadata": {
    "collapsed": false
   },
   "outputs": [
    {
     "name": "stdout",
     "output_type": "stream",
     "text": [
      "[####                                    ] | 10% Completed |  1min 31.8s"
     ]
    }
   ],
   "source": [
    "\n",
    "with ProgressBar():\n",
    "    out = result.compute()"
   ]
  },
  {
   "cell_type": "code",
   "execution_count": null,
   "metadata": {
    "collapsed": true
   },
   "outputs": [],
   "source": [
    "out.to_csv('./destination.csv')"
   ]
  },
  {
   "cell_type": "code",
   "execution_count": null,
   "metadata": {
    "collapsed": true
   },
   "outputs": [],
   "source": [
    "largest = [u'DZ', u'SE', u'TR', u'PL', u'JP', u'RU', u'CH', u'NL', u'GB', u'CN',\n",
    "       u'US', u'ES', u'IT', u'BE', u'DE']"
   ]
  },
  {
   "cell_type": "code",
   "execution_count": null,
   "metadata": {
    "collapsed": true
   },
   "outputs": [],
   "source": []
  },
  {
   "cell_type": "code",
   "execution_count": null,
   "metadata": {
    "collapsed": false
   },
   "outputs": [],
   "source": [
    "#Largest markets in volume (millions of EUR)\n",
    "(out.loc[largest].unstack()['VART'].T/1e6).round().astype(int).reindex(largest, axis = 1)"
   ]
  },
  {
   "cell_type": "code",
   "execution_count": null,
   "metadata": {
    "collapsed": false
   },
   "outputs": [],
   "source": [
    "#Largest markets in sellers\n",
    "(out.loc[largest].unstack()['ID'].T).round(-1).astype(int).reindex(largest, axis = 1)"
   ]
  },
  {
   "cell_type": "markdown",
   "metadata": {},
   "source": [
    "### Degree distribution"
   ]
  },
  {
   "cell_type": "code",
   "execution_count": null,
   "metadata": {
    "collapsed": false
   },
   "outputs": [],
   "source": [
    "links['PERIOD'] = (links['YEAR'] - 1996) // 2"
   ]
  },
  {
   "cell_type": "code",
   "execution_count": null,
   "metadata": {
    "collapsed": false
   },
   "outputs": [],
   "source": [
    "degrees = links.groupby(['PERIOD', 'ID'])[['VAT']].nunique().rename(columns = {'VAT': 'ID_degree'})"
   ]
  },
  {
   "cell_type": "code",
   "execution_count": null,
   "metadata": {
    "collapsed": false
   },
   "outputs": [],
   "source": [
    "degrees['log_ID_degree'] = log10(degrees['ID_degree'])\n",
    "degrees['bin_ID_degree'] = pd.cut(degrees['log_ID_degree'], arange(-.25, 4.5, 0.25))"
   ]
  },
  {
   "cell_type": "code",
   "execution_count": null,
   "metadata": {
    "collapsed": false
   },
   "outputs": [],
   "source": [
    "degree_dist = degrees.reset_index().groupby(['PERIOD', 'bin_ID_degree'])[['ID']].count()"
   ]
  },
  {
   "cell_type": "code",
   "execution_count": null,
   "metadata": {
    "collapsed": false
   },
   "outputs": [],
   "source": [
    "fig, axs = plt.subplots(1, 2, figsize =(15, 6))\n",
    "\n",
    "ax = axs[0]\n",
    "for t in links['PERIOD'].unique():\n",
    "    log10(degree_dist.loc[t]).reset_index().plot(marker = 'o', linewidth = 0, ax = ax, mec = 'None')"
   ]
  }
 ],
 "metadata": {
  "kernelspec": {
   "display_name": "Python 2",
   "language": "python",
   "name": "python2"
  },
  "language_info": {
   "codemirror_mode": {
    "name": "ipython",
    "version": 2
   },
   "file_extension": ".py",
   "mimetype": "text/x-python",
   "name": "python",
   "nbconvert_exporter": "python",
   "pygments_lexer": "ipython2",
   "version": "2.7.13"
  }
 },
 "nbformat": 4,
 "nbformat_minor": 2
}
