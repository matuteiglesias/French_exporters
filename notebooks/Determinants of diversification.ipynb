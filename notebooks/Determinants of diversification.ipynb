{
 "cells": [
  {
   "cell_type": "markdown",
   "metadata": {
    "collapsed": true
   },
   "source": [
    "### Test for determinants of buyer diversification\n",
    "#### Scatterplots related to Table 3 regressions of [Krammarz 2016](https://www.princeton.edu/~ies/Spring17/KramarzPaper.pdf)\n",
    "#### dissagregated by broad Export sections\n"
   ]
  },
  {
   "cell_type": "code",
   "execution_count": 1,
   "metadata": {
    "collapsed": true
   },
   "outputs": [],
   "source": [
    "#Import modules\n",
    "\n",
    "import pandas as pd\n",
    "\n",
    "import matplotlib.pyplot as plt\n",
    "%matplotlib inline\n",
    "\n",
    "import dask.dataframe as dd\n",
    "from dask.diagnostics import ProgressBar\n",
    "\n",
    "from numpy import arange, log10\n",
    "\n",
    "from functions import chunk, agg, finalize\n",
    "tunique = dd.Aggregation('tunique', chunk, agg,finalize)\n",
    "first = dd.Aggregation('first', chunk, agg,finalize)"
   ]
  },
  {
   "cell_type": "markdown",
   "metadata": {},
   "source": [
    "### Bring data"
   ]
  },
  {
   "cell_type": "code",
   "execution_count": null,
   "metadata": {
    "collapsed": false
   },
   "outputs": [],
   "source": [
    "drive_path = './../../../../../media/miglesia/Elements/export_france/data/type1/DP1610_MAASTRICHT1_1997_2013'\n",
    "colnames = [u'YEAR', u'MONTH', u'FLUX', u'ID', u'DEPT', u'CN ID 8', u'CPA6',\n",
    "       u'PYOD', u'PAYP', u'VAT', u'PRIFAC', u'DEVFAC', u'VFTE', u'VART', u'D_MASSE', u'MASSE', u'USUP', u'USUP_MT']\n",
    "\n",
    "colname_no = dict(zip(colnames, range(18)))\n",
    "columns = [u'YEAR', u'FLUX', u'ID', u'CN ID 8', u'VAT', u'PYOD', u'VART']\n",
    "\n",
    "df_list = []\n",
    "\n",
    "for y in range(2012, 2014):\n",
    "    df_list += [dd.read_table(drive_path+'/DP1610_MAASTRICHT1_'+str(y)+'.txt', \n",
    "            usecols = map(colname_no.get, columns),\n",
    "            delimiter = ';', header = None, dtype = {9: 'object'}).fillna('')]\n",
    "\n",
    "    \n",
    "data = dd.concat(df_list)\n",
    "data.columns = columns\n",
    "data['IMPORT'] = data['FLUX'] % 2\n",
    "\n",
    "grouped = data.groupby(['ID', 'YEAR', 'IMPORT'])\n"
   ]
  },
  {
   "cell_type": "code",
   "execution_count": null,
   "metadata": {
    "collapsed": false
   },
   "outputs": [
    {
     "name": "stdout",
     "output_type": "stream",
     "text": [
      "[                                        ] | 1% Completed |  1min  5.3s"
     ]
    }
   ],
   "source": [
    "with ProgressBar():\n",
    "    df = grouped.agg({'VART': 'sum', u'VAT': tunique, 'CN ID 8': tunique, u'PYOD': tunique}).compute()\n",
    "\n",
    "df.to_csv('dets_of_diversification.csv')"
   ]
  },
  {
   "cell_type": "markdown",
   "metadata": {
    "collapsed": false
   },
   "source": [
    "### Plot. Determinants of diversification"
   ]
  },
  {
   "cell_type": "code",
   "execution_count": null,
   "metadata": {
    "collapsed": true
   },
   "outputs": [],
   "source": [
    "df_exp_fl = df.loc[df.FLUX == 4].groupby('ID')\n",
    "data = aggregate_vars(df_exp_fl)\n",
    "\n",
    "for sec in df['CN ID 1'].unique()[:-4]:\n",
    "    \n",
    "    df_exp_cn = df.loc[df.FLUX == 4].loc[df['CN ID 1'] == sec]\n",
    "    df_exp_cn_fl = df_exp_cn.groupby('ID')\n",
    "        \n",
    "    data_cn = aggregate_vars(df_exp_cn_fl)\n",
    "    print CN_full.loc[CN_full['CN ID 1'] == sec]['CN label 1'].values[0]\n",
    "\n",
    "    fig, axs = plt.subplots(1, 3, figsize = (20, 5))\n",
    "\n",
    "    ax = axs[0]\n",
    "    data.plot(x = 'log_EUR_UE_exp', y = 'ct_Buyers', marker = 'o', linewidth = 0, alpha = .05, mec = 'None', ax = ax, color = '.5')\n",
    "\n",
    "    data_cn.plot(x = 'log_EUR_UE_exp', y = 'ct_Buyers', marker = 'o', linewidth = 0, alpha = .4, mec = 'None', ax = ax, color = 'r')\n",
    "    ax.set_yscale('log')\n",
    "    ax.set_ylabel('ct_Buyers')\n",
    "\n",
    "    ax = axs[1]\n",
    "    data.plot(x = 'log_EUR_UE_exp', y = 'ct_Prods', marker = 'o', linewidth = 0, alpha = .05, mec = 'None', ax = ax, color = '.5')\n",
    "    data_cn.plot(x = 'log_EUR_UE_exp', y = 'ct_Prods', marker = 'o', linewidth = 0, alpha = .4, mec = 'None', ax = ax, color = 'r')\n",
    "    ax.set_yscale('log')\n",
    "    ax.set_ylabel('ct_Prods')\n",
    "    \n",
    "    ax = axs[2]\n",
    "    data.plot(x = 'ct_Prods', y = 'ct_Buyers', marker = 'o', linewidth = 0, alpha = .05, mec = 'None', ax = ax, color = '.5')\n",
    "    data_cn.plot(x = 'ct_Prods', y = 'ct_Buyers', marker = 'o', linewidth = 0, alpha = .4, mec = 'None', ax = ax, color = 'r')\n",
    "    ax.set_xlabel('ct_Prods')\n",
    "    ax.set_ylabel('ct_Buyers')\n",
    "    ax.set_xscale('log')\n",
    "    ax.set_yscale('log')\n",
    "\n",
    "    plt.show()"
   ]
  },
  {
   "cell_type": "code",
   "execution_count": null,
   "metadata": {
    "collapsed": true
   },
   "outputs": [],
   "source": []
  },
  {
   "cell_type": "code",
   "execution_count": null,
   "metadata": {
    "collapsed": true
   },
   "outputs": [],
   "source": []
  },
  {
   "cell_type": "markdown",
   "metadata": {},
   "source": [
    "## Firm sizes"
   ]
  }
 ],
 "metadata": {
  "kernelspec": {
   "display_name": "Python 2",
   "language": "python",
   "name": "python2"
  },
  "language_info": {
   "codemirror_mode": {
    "name": "ipython",
    "version": 2
   },
   "file_extension": ".py",
   "mimetype": "text/x-python",
   "name": "python",
   "nbconvert_exporter": "python",
   "pygments_lexer": "ipython2",
   "version": "2.7.13"
  }
 },
 "nbformat": 4,
 "nbformat_minor": 2
}
