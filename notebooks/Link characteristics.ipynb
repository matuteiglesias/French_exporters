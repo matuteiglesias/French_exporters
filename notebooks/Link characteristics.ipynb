{
 "cells": [
  {
   "cell_type": "code",
   "execution_count": 1,
   "metadata": {
    "collapsed": true
   },
   "outputs": [],
   "source": [
    "#Import modules\n",
    "\n",
    "import pandas as pd\n",
    "\n",
    "import matplotlib.pyplot as plt\n",
    "%matplotlib inline\n",
    "\n",
    "from numpy import arange, log10\n"
   ]
  },
  {
   "cell_type": "markdown",
   "metadata": {},
   "source": [
    "### Summary table"
   ]
  },
  {
   "cell_type": "code",
   "execution_count": 14,
   "metadata": {
    "collapsed": false
   },
   "outputs": [
    {
     "data": {
      "text/html": [
       "<div>\n",
       "<style scoped>\n",
       "    .dataframe tbody tr th:only-of-type {\n",
       "        vertical-align: middle;\n",
       "    }\n",
       "\n",
       "    .dataframe tbody tr th {\n",
       "        vertical-align: top;\n",
       "    }\n",
       "\n",
       "    .dataframe thead tr th {\n",
       "        text-align: left;\n",
       "    }\n",
       "\n",
       "    .dataframe thead tr:last-of-type th {\n",
       "        text-align: right;\n",
       "    }\n",
       "</style>\n",
       "<table border=\"1\" class=\"dataframe\">\n",
       "  <thead>\n",
       "    <tr>\n",
       "      <th></th>\n",
       "      <th colspan=\"3\" halign=\"left\">count</th>\n",
       "      <th colspan=\"3\" halign=\"left\">yearly pct change</th>\n",
       "    </tr>\n",
       "    <tr>\n",
       "      <th></th>\n",
       "      <th>pairs</th>\n",
       "      <th>FR sellers</th>\n",
       "      <th>foreign buyers</th>\n",
       "      <th>pairs</th>\n",
       "      <th>FR sellers</th>\n",
       "      <th>foreign buyers</th>\n",
       "    </tr>\n",
       "    <tr>\n",
       "      <th>YEAR</th>\n",
       "      <th></th>\n",
       "      <th></th>\n",
       "      <th></th>\n",
       "      <th></th>\n",
       "      <th></th>\n",
       "      <th></th>\n",
       "    </tr>\n",
       "  </thead>\n",
       "  <tbody>\n",
       "    <tr>\n",
       "      <th>1997</th>\n",
       "      <td>824529</td>\n",
       "      <td>52062</td>\n",
       "      <td>352398</td>\n",
       "      <td></td>\n",
       "      <td></td>\n",
       "      <td></td>\n",
       "    </tr>\n",
       "    <tr>\n",
       "      <th>1998</th>\n",
       "      <td>853034</td>\n",
       "      <td>53380</td>\n",
       "      <td>356449</td>\n",
       "      <td>3.46</td>\n",
       "      <td>2.53</td>\n",
       "      <td>1.15</td>\n",
       "    </tr>\n",
       "  </tbody>\n",
       "</table>\n",
       "</div>"
      ],
      "text/plain": [
       "       count                           yearly pct change             \\\n",
       "       pairs FR sellers foreign buyers             pairs FR sellers   \n",
       "YEAR                                                                  \n",
       "1997  824529      52062         352398                                \n",
       "1998  853034      53380         356449              3.46       2.53   \n",
       "\n",
       "                     \n",
       "     foreign buyers  \n",
       "YEAR                 \n",
       "1997                 \n",
       "1998           1.15  "
      ]
     },
     "execution_count": 14,
     "metadata": {},
     "output_type": "execute_result"
    }
   ],
   "source": [
    "links = pd.read_csv('./buyer_seller_link_value.csv')\n",
    "links = links.loc[links.VART > 1000]\n",
    "links_count = links.groupby('YEAR').agg({'VART': 'count', 'ID': 'nunique', 'VAT': 'nunique'})\n",
    "links_count = links_count.rename(columns = {'VART': 'pairs', 'ID': 'FR sellers', 'VAT': 'foreign buyers'})\n",
    "links_pct_change = 100*links_count.pct_change().round(4).fillna('')\n",
    "\n",
    "links_summary = pd.concat([links_count,links_pct_change], axis = 1)\n",
    "links_summary.columns = pd.MultiIndex.from_product([['count', 'yearly pct change'], links_count.columns])\n",
    "links_summary\n",
    "# print(links_summary.to_latex())"
   ]
  },
  {
   "cell_type": "markdown",
   "metadata": {},
   "source": [
    "### Value by buyer-seller pair characteristic"
   ]
  },
  {
   "cell_type": "code",
   "execution_count": 3,
   "metadata": {
    "collapsed": false
   },
   "outputs": [],
   "source": [
    "links = pd.read_csv('./buyer_seller_link_value.csv')\n",
    "links = links.loc[links.VART > 1000]\n",
    "\n",
    "links['log_VART'] = log10(links.VART)#.replace(-inf, nan).dropna()\n",
    "# links['bin'], bins_x = pd.cut(links['log_VART'], 90, retbins=True)"
   ]
  },
  {
   "cell_type": "code",
   "execution_count": 7,
   "metadata": {
    "collapsed": false
   },
   "outputs": [],
   "source": [
    "links_y = links.groupby(['ID', 'VAT'])[['VART']].mean().reset_index()\n",
    "\n",
    "ID_chars = links_y.groupby('ID').agg({'VAT': 'nunique', 'VART': sum}).rename(columns = {'VART': 'log_VART', 'VAT': 'ID_degree'})\n",
    "ID_chars = log10(ID_chars).reset_index()\n",
    "\n",
    "VAT_chars = links_y.groupby('VAT').agg({'ID': 'nunique', 'VART': sum}).rename(columns = {'VART': 'log_VART', 'ID': 'VAT_degree'})\n",
    "VAT_chars = log10(VAT_chars).reset_index()\n"
   ]
  },
  {
   "cell_type": "code",
   "execution_count": 8,
   "metadata": {
    "collapsed": false
   },
   "outputs": [],
   "source": [
    "links_val = links_y.merge(ID_chars[['ID','log_VART', 'ID_degree']], on = 'ID').merge(VAT_chars[['VAT', 'log_VART', 'VAT_degree']], on = 'VAT')\n",
    "links_val = links_val.rename(columns = {'log_VART_x': 'log_VART_ID', 'log_VART_y': 'log_VART_VAT'})"
   ]
  },
  {
   "cell_type": "code",
   "execution_count": 9,
   "metadata": {
    "collapsed": false
   },
   "outputs": [
    {
     "name": "stdout",
     "output_type": "stream",
     "text": [
      "3.71999382637\n",
      "3.59802407233\n"
     ]
    }
   ],
   "source": [
    "print links_val.VAT_degree.max()\n",
    "print links_val.ID_degree.max()"
   ]
  },
  {
   "cell_type": "code",
   "execution_count": 25,
   "metadata": {
    "collapsed": false
   },
   "outputs": [
    {
     "name": "stderr",
     "output_type": "stream",
     "text": [
      "/home/miglesia/anaconda2/lib/python2.7/site-packages/IPython/kernel/__main__.py:7: RuntimeWarning: divide by zero encountered in log10\n",
      "/home/miglesia/anaconda2/lib/python2.7/site-packages/IPython/kernel/__main__.py:7: SettingWithCopyWarning: \n",
      "A value is trying to be set on a copy of a slice from a DataFrame.\n",
      "Try using .loc[row_indexer,col_indexer] = value instead\n",
      "\n",
      "See the caveats in the documentation: http://pandas.pydata.org/pandas-docs/stable/indexing.html#indexing-view-versus-copy\n",
      "/home/miglesia/anaconda2/lib/python2.7/site-packages/IPython/kernel/__main__.py:9: RuntimeWarning: divide by zero encountered in log10\n",
      "/home/miglesia/anaconda2/lib/python2.7/site-packages/IPython/kernel/__main__.py:9: SettingWithCopyWarning: \n",
      "A value is trying to be set on a copy of a slice from a DataFrame.\n",
      "Try using .loc[row_indexer,col_indexer] = value instead\n",
      "\n",
      "See the caveats in the documentation: http://pandas.pydata.org/pandas-docs/stable/indexing.html#indexing-view-versus-copy\n"
     ]
    },
    {
     "data": {
      "text/plain": [
       "<matplotlib.image.AxesImage at 0x7f7738e12290>"
      ]
     },
     "execution_count": 25,
     "metadata": {},
     "output_type": "execute_result"
    },
    {
     "data": {
      "image/png": "[encoded data removed]",
      "text/plain": [
       "<matplotlib.figure.Figure at 0x7f7749298590>"
      ]
     },
     "metadata": {},
     "output_type": "display_data"
    }
   ],
   "source": [
    "from numpy import arange\n",
    "\n",
    "y = 1997\n",
    "\n",
    "links_y = links.loc[links.YEAR == y]\n",
    "df = pd.read_csv('./firm_sizes_99.csv'); firm_sizes_y = df.loc[df.YEAR == y]\n",
    "firm_sizes_y['log_VART'] = log10(firm_sizes_y['VART'])\n",
    "df = pd.read_csv('./buyr_sizes_99.csv'); buyr_sizes_y = df.loc[df.YEAR == y]\n",
    "buyr_sizes_y['log_VART'] = log10(buyr_sizes_y['VART'])\n",
    "\n",
    "links_val = links_y.merge(firm_sizes_y[['ID','log_VART']], on = 'ID').merge(buyr_sizes_y[['VAT', 'log_VART']], on = 'VAT')\n",
    "links_val['x_bin'] = pd.cut(links_val['log_VART_x'], arange(3, 10, .2))\n",
    "links_val['y_bin'] = pd.cut(links_val['log_VART_y'], arange(3, 10, .2))\n",
    "result = links_val.groupby(['x_bin','y_bin'])[['VART']].sum()\n",
    "plt.matshow(log10(result.unstack(0).sort_index(ascending = False)).fillna(3).values)\n"
   ]
  },
  {
   "cell_type": "code",
   "execution_count": 15,
   "metadata": {
    "collapsed": false
   },
   "outputs": [
    {
     "data": {
      "image/png": "[encoded data removed]",
      "text/plain": [
       "<matplotlib.figure.Figure at 0x7f77495e7fd0>"
      ]
     },
     "metadata": {},
     "output_type": "display_data"
    }
   ],
   "source": [
    "from numpy import arange\n",
    "from matplotlib.colors import Normalize\n",
    "\n",
    "bins = arange(3, 10, .1)\n",
    "links_val['val_x_bin'] = pd.cut(links_val['log_VART_ID'], bins)\n",
    "links_val['val_y_bin'] = pd.cut(links_val['log_VART_VAT'], bins)\n",
    "\n",
    "bins_d = arange(-.1, 4, .1)\n",
    "links_val['deg_x_bin'] = pd.cut(links_val['ID_degree'], bins_d)\n",
    "links_val['deg_y_bin'] = pd.cut(links_val['VAT_degree'], bins_d)\n",
    "\n",
    "fig, axs = plt.subplots(1, 2, figsize = (14, 7))\n",
    "\n",
    "for i in [0, 1]:\n",
    "\n",
    "    if i == 0:\n",
    "        result = links_val.groupby(['val_x_bin','val_y_bin']).agg({'log_VART_ID': 'mean', 'log_VART_VAT': 'mean', \n",
    "                                                           'VART': 'sum', 'ID': 'count'})\n",
    "    elif i == 1:\n",
    "        result = links_val.groupby(['deg_x_bin','deg_y_bin']).agg({'ID_degree': 'mean', 'VAT_degree': 'mean', \n",
    "                                                           'VART': 'sum', 'ID': 'count'}) #ID is just a counter\n",
    "\n",
    "    result['PDF_value'] = result['VART']/result['VART'].sum()\n",
    "    result['PDF_count'] = result['ID']/result['ID'].sum() #ID is just a counter\n",
    "\n",
    "    result_table = result.unstack(0).sort_index(ascending = False)\n",
    "\n",
    "    value = result_table['PDF_value'].fillna(0).values\n",
    "    count = result_table['PDF_count'].fillna(0).values\n",
    "\n",
    "    ax = axs[i]\n",
    "    extent = [(3, 10, 3, 10), (0, 4, 0, 4)][i]\n",
    "    ax.matshow(value - count, extent=extent, cmap=plt.cm.RdYlBu, vmin = -0.003, vmax = .003)\n",
    "\n",
    "\n",
    "axs[0].plot([3, 10], [3, 10], c = '.5', linestyle = '--')\n",
    "axs[1].plot([0, 4], [0, 4], c = '.5', linestyle = '--')\n",
    "\n",
    "axs[0].set_xlabel('size of French seller (log EUR/yr)')\n",
    "axs[0].set_ylabel('size of foreign buyer (log EUR/yr)')\n",
    "axs[0].set_title(\"PDF of counts (red) and value (blue) by partners' SIZE\")\n",
    "axs[1].set_xlabel('degree of French seller (log)')\n",
    "axs[1].set_ylabel('degree of foreign buyer (log)')\n",
    "axs[1].set_title(\"PDF of counts (red) and value (blue) by partners' DEGREE\")\n",
    "plt.show()"
   ]
  },
  {
   "cell_type": "code",
   "execution_count": null,
   "metadata": {
    "collapsed": true
   },
   "outputs": [],
   "source": []
  }
 ],
 "metadata": {
  "kernelspec": {
   "display_name": "Python 2",
   "language": "python",
   "name": "python2"
  },
  "language_info": {
   "codemirror_mode": {
    "name": "ipython",
    "version": 2
   },
   "file_extension": ".py",
   "mimetype": "text/x-python",
   "name": "python",
   "nbconvert_exporter": "python",
   "pygments_lexer": "ipython2",
   "version": "2.7.13"
  }
 },
 "nbformat": 4,
 "nbformat_minor": 2
}
