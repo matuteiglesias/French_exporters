{
 "cells": [
  {
   "cell_type": "code",
   "execution_count": 1,
   "metadata": {},
   "outputs": [],
   "source": [
    "import pandas as pd\n",
    "import numpy as np\n",
    "\n",
    "import matplotlib.pyplot as plt\n",
    "%matplotlib inline\n",
    "\n",
    "import scipy.linalg as la\n",
    "\n",
    "from numpy.linalg import matrix_power\n"
   ]
  },
  {
   "cell_type": "code",
   "execution_count": 37,
   "metadata": {},
   "outputs": [],
   "source": [
    "## Log of real value added\n",
    "\n",
    "n = 4\n",
    "a = .1\n",
    "\n",
    "\n",
    "# ## Unconstrained power law distribution\n",
    "# S = round(np.power(10, pd.DataFrame(np.random.uniform(2, 4, (n, n)))), -2)\n",
    "# c = round(np.power(10, pd.DataFrame(np.random.uniform(2, 4, (n, 1)))), -2)\n",
    "\n",
    "sij = 100\n",
    "ci = 100\n",
    "\n",
    "### Schematic edge weights\n",
    "S = pd.DataFrame(np.full((n, n), sij))\n",
    "c = pd.DataFrame(np.full(n, ci))\n",
    "\n",
    "# Nw structures\n",
    "\n",
    "# M is the adjacency matrix\n",
    "Mi = np.eye(n)\n",
    "Mo = np.roll(Mi, -n)\n",
    "Mc = np.full((n, n), 1)\n",
    "Ms = np.full((n, n), 0); Ms[0, 1:] = 1; Ms[1:, 0] = 1\n",
    "\n",
    "Si = pd.DataFrame(Mi*S.values)\n",
    "So = pd.DataFrame(Mo*S.mean().mean())\n",
    "Sc = pd.DataFrame(Mc*S.values)\n",
    "Ss = pd.DataFrame(Ms*S.mean().mean())"
   ]
  },
  {
   "cell_type": "code",
   "execution_count": null,
   "metadata": {},
   "outputs": [],
   "source": []
  },
  {
   "cell_type": "code",
   "execution_count": null,
   "metadata": {},
   "outputs": [],
   "source": []
  },
  {
   "cell_type": "code",
   "execution_count": 38,
   "metadata": {},
   "outputs": [],
   "source": [
    "r = 1.5\n",
    "\n",
    "# S = Sc\n",
    "S = Sc\n",
    "ratio = (S.sum().sum()/c.sum())[0]\n",
    "S = S * r/ratio\n",
    "\n",
    "Sc = S"
   ]
  },
  {
   "cell_type": "code",
   "execution_count": 39,
   "metadata": {},
   "outputs": [
    {
     "data": {
      "text/html": [
       "<div>\n",
       "<style scoped>\n",
       "    .dataframe tbody tr th:only-of-type {\n",
       "        vertical-align: middle;\n",
       "    }\n",
       "\n",
       "    .dataframe tbody tr th {\n",
       "        vertical-align: top;\n",
       "    }\n",
       "\n",
       "    .dataframe thead th {\n",
       "        text-align: right;\n",
       "    }\n",
       "</style>\n",
       "<table border=\"1\" class=\"dataframe\">\n",
       "  <thead>\n",
       "    <tr style=\"text-align: right;\">\n",
       "      <th></th>\n",
       "      <th>0</th>\n",
       "      <th>1</th>\n",
       "      <th>2</th>\n",
       "      <th>3</th>\n",
       "    </tr>\n",
       "  </thead>\n",
       "  <tbody>\n",
       "    <tr>\n",
       "      <th>0</th>\n",
       "      <td>0.0</td>\n",
       "      <td>100.0</td>\n",
       "      <td>100.0</td>\n",
       "      <td>100.0</td>\n",
       "    </tr>\n",
       "    <tr>\n",
       "      <th>1</th>\n",
       "      <td>100.0</td>\n",
       "      <td>0.0</td>\n",
       "      <td>0.0</td>\n",
       "      <td>0.0</td>\n",
       "    </tr>\n",
       "    <tr>\n",
       "      <th>2</th>\n",
       "      <td>100.0</td>\n",
       "      <td>0.0</td>\n",
       "      <td>0.0</td>\n",
       "      <td>0.0</td>\n",
       "    </tr>\n",
       "    <tr>\n",
       "      <th>3</th>\n",
       "      <td>100.0</td>\n",
       "      <td>0.0</td>\n",
       "      <td>0.0</td>\n",
       "      <td>0.0</td>\n",
       "    </tr>\n",
       "  </tbody>\n",
       "</table>\n",
       "</div>"
      ],
      "text/plain": [
       "       0      1      2      3\n",
       "0    0.0  100.0  100.0  100.0\n",
       "1  100.0    0.0    0.0    0.0\n",
       "2  100.0    0.0    0.0    0.0\n",
       "3  100.0    0.0    0.0    0.0"
      ]
     },
     "execution_count": 39,
     "metadata": {},
     "output_type": "execute_result"
    }
   ],
   "source": [
    "Ss"
   ]
  },
  {
   "cell_type": "code",
   "execution_count": 40,
   "metadata": {},
   "outputs": [
    {
     "data": {
      "text/html": [
       "<div>\n",
       "<style scoped>\n",
       "    .dataframe tbody tr th:only-of-type {\n",
       "        vertical-align: middle;\n",
       "    }\n",
       "\n",
       "    .dataframe tbody tr th {\n",
       "        vertical-align: top;\n",
       "    }\n",
       "\n",
       "    .dataframe thead th {\n",
       "        text-align: right;\n",
       "    }\n",
       "</style>\n",
       "<table border=\"1\" class=\"dataframe\">\n",
       "  <thead>\n",
       "    <tr style=\"text-align: right;\">\n",
       "      <th></th>\n",
       "      <th>0</th>\n",
       "      <th>1</th>\n",
       "      <th>2</th>\n",
       "      <th>3</th>\n",
       "    </tr>\n",
       "  </thead>\n",
       "  <tbody>\n",
       "    <tr>\n",
       "      <th>0</th>\n",
       "      <td>37.5</td>\n",
       "      <td>37.5</td>\n",
       "      <td>37.5</td>\n",
       "      <td>37.5</td>\n",
       "    </tr>\n",
       "    <tr>\n",
       "      <th>1</th>\n",
       "      <td>37.5</td>\n",
       "      <td>37.5</td>\n",
       "      <td>37.5</td>\n",
       "      <td>37.5</td>\n",
       "    </tr>\n",
       "    <tr>\n",
       "      <th>2</th>\n",
       "      <td>37.5</td>\n",
       "      <td>37.5</td>\n",
       "      <td>37.5</td>\n",
       "      <td>37.5</td>\n",
       "    </tr>\n",
       "    <tr>\n",
       "      <th>3</th>\n",
       "      <td>37.5</td>\n",
       "      <td>37.5</td>\n",
       "      <td>37.5</td>\n",
       "      <td>37.5</td>\n",
       "    </tr>\n",
       "  </tbody>\n",
       "</table>\n",
       "</div>"
      ],
      "text/plain": [
       "      0     1     2     3\n",
       "0  37.5  37.5  37.5  37.5\n",
       "1  37.5  37.5  37.5  37.5\n",
       "2  37.5  37.5  37.5  37.5\n",
       "3  37.5  37.5  37.5  37.5"
      ]
     },
     "metadata": {},
     "output_type": "display_data"
    },
    {
     "data": {
      "text/html": [
       "<div>\n",
       "<style scoped>\n",
       "    .dataframe tbody tr th:only-of-type {\n",
       "        vertical-align: middle;\n",
       "    }\n",
       "\n",
       "    .dataframe tbody tr th {\n",
       "        vertical-align: top;\n",
       "    }\n",
       "\n",
       "    .dataframe thead th {\n",
       "        text-align: right;\n",
       "    }\n",
       "</style>\n",
       "<table border=\"1\" class=\"dataframe\">\n",
       "  <thead>\n",
       "    <tr style=\"text-align: right;\">\n",
       "      <th></th>\n",
       "      <th>0</th>\n",
       "      <th>1</th>\n",
       "      <th>2</th>\n",
       "      <th>3</th>\n",
       "    </tr>\n",
       "  </thead>\n",
       "  <tbody>\n",
       "    <tr>\n",
       "      <th>0</th>\n",
       "      <td>1.375</td>\n",
       "      <td>0.375</td>\n",
       "      <td>0.375</td>\n",
       "      <td>0.375</td>\n",
       "    </tr>\n",
       "    <tr>\n",
       "      <th>1</th>\n",
       "      <td>0.375</td>\n",
       "      <td>1.375</td>\n",
       "      <td>0.375</td>\n",
       "      <td>0.375</td>\n",
       "    </tr>\n",
       "    <tr>\n",
       "      <th>2</th>\n",
       "      <td>0.375</td>\n",
       "      <td>0.375</td>\n",
       "      <td>1.375</td>\n",
       "      <td>0.375</td>\n",
       "    </tr>\n",
       "    <tr>\n",
       "      <th>3</th>\n",
       "      <td>0.375</td>\n",
       "      <td>0.375</td>\n",
       "      <td>0.375</td>\n",
       "      <td>1.375</td>\n",
       "    </tr>\n",
       "  </tbody>\n",
       "</table>\n",
       "</div>"
      ],
      "text/plain": [
       "       0      1      2      3\n",
       "0  1.375  0.375  0.375  0.375\n",
       "1  0.375  1.375  0.375  0.375\n",
       "2  0.375  0.375  1.375  0.375\n",
       "3  0.375  0.375  0.375  1.375"
      ]
     },
     "metadata": {},
     "output_type": "display_data"
    }
   ],
   "source": [
    "stot = pd.DataFrame(S.sum(1)) + c\n",
    "R = S.T.div(stot.values).T ####( don't know if it should be trasposed)\n",
    "I = pd.DataFrame(np.eye(n))\n",
    "L = la.inv(I - R)\n",
    "\n",
    "display(S)\n",
    "display(pd.DataFrame(L).round(3))"
   ]
  },
  {
   "cell_type": "code",
   "execution_count": null,
   "metadata": {},
   "outputs": [],
   "source": []
  },
  {
   "cell_type": "code",
   "execution_count": 41,
   "metadata": {},
   "outputs": [
    {
     "data": {
      "text/plain": [
       "array([[0.275, 0.   , 0.   , 0.   ],\n",
       "       [0.075, 0.   , 0.   , 0.   ],\n",
       "       [0.075, 0.   , 0.   , 0.   ],\n",
       "       [0.075, 0.   , 0.   , 0.   ]])"
      ]
     },
     "metadata": {},
     "output_type": "display_data"
    },
    {
     "data": {
      "text/plain": [
       "array([[0.275, 0.075, 0.075, 0.075],\n",
       "       [0.   , 0.   , 0.   , 0.   ],\n",
       "       [0.   , 0.   , 0.   , 0.   ],\n",
       "       [0.   , 0.   , 0.   , 0.   ]])"
      ]
     },
     "metadata": {},
     "output_type": "display_data"
    },
    {
     "data": {
      "text/plain": [
       "array([[0.378125, 0.103125, 0.103125, 0.103125],\n",
       "       [0.103125, 0.028125, 0.028125, 0.028125],\n",
       "       [0.103125, 0.028125, 0.028125, 0.028125],\n",
       "       [0.103125, 0.028125, 0.028125, 0.028125]])"
      ]
     },
     "metadata": {},
     "output_type": "display_data"
    },
    {
     "data": {
      "text/plain": [
       "1.25"
      ]
     },
     "execution_count": 41,
     "metadata": {},
     "output_type": "execute_result"
    }
   ],
   "source": [
    "\n",
    "s2c = np.zeros(n); s2c[0] = .2;\n",
    "s2c = np.diag(s2c)\n",
    "\n",
    "display(L.dot(s2c))\n",
    "\n",
    "display(s2c.dot(L.T))\n",
    "\n",
    "display(L.dot(s2c).dot(L.T))\n",
    "\n",
    "#\n",
    "L.dot(s2c).dot(L.T).sum().sum()"
   ]
  },
  {
   "cell_type": "code",
   "execution_count": 42,
   "metadata": {},
   "outputs": [
    {
     "data": {
      "text/plain": [
       "array([[0.   , 0.075, 0.   , 0.   ],\n",
       "       [0.   , 0.275, 0.   , 0.   ],\n",
       "       [0.   , 0.075, 0.   , 0.   ],\n",
       "       [0.   , 0.075, 0.   , 0.   ]])"
      ]
     },
     "metadata": {},
     "output_type": "display_data"
    },
    {
     "data": {
      "text/plain": [
       "array([[0.   , 0.   , 0.   , 0.   ],\n",
       "       [0.075, 0.275, 0.075, 0.075],\n",
       "       [0.   , 0.   , 0.   , 0.   ],\n",
       "       [0.   , 0.   , 0.   , 0.   ]])"
      ]
     },
     "metadata": {},
     "output_type": "display_data"
    },
    {
     "data": {
      "text/plain": [
       "array([[0.028125, 0.103125, 0.028125, 0.028125],\n",
       "       [0.103125, 0.378125, 0.103125, 0.103125],\n",
       "       [0.028125, 0.103125, 0.028125, 0.028125],\n",
       "       [0.028125, 0.103125, 0.028125, 0.028125]])"
      ]
     },
     "metadata": {},
     "output_type": "display_data"
    },
    {
     "data": {
      "text/plain": [
       "1.25"
      ]
     },
     "execution_count": 42,
     "metadata": {},
     "output_type": "execute_result"
    }
   ],
   "source": [
    "\n",
    "s2c = np.zeros(n); s2c[1] = .2;\n",
    "s2c = np.diag(s2c)\n",
    "\n",
    "display(L.dot(s2c))\n",
    "\n",
    "display(s2c.dot(L.T))\n",
    "\n",
    "display(L.dot(s2c).dot(L.T))\n",
    "\n",
    "L.dot(s2c).dot(L.T).sum().sum()"
   ]
  },
  {
   "cell_type": "code",
   "execution_count": 43,
   "metadata": {},
   "outputs": [
    {
     "data": {
      "text/plain": [
       "array([[0.275, 0.075, 0.   , 0.   ],\n",
       "       [0.075, 0.275, 0.   , 0.   ],\n",
       "       [0.075, 0.075, 0.   , 0.   ],\n",
       "       [0.075, 0.075, 0.   , 0.   ]])"
      ]
     },
     "metadata": {},
     "output_type": "display_data"
    },
    {
     "data": {
      "text/plain": [
       "array([[0.275, 0.075, 0.075, 0.075],\n",
       "       [0.075, 0.275, 0.075, 0.075],\n",
       "       [0.   , 0.   , 0.   , 0.   ],\n",
       "       [0.   , 0.   , 0.   , 0.   ]])"
      ]
     },
     "metadata": {},
     "output_type": "display_data"
    },
    {
     "data": {
      "text/plain": [
       "array([[0.40625, 0.20625, 0.13125, 0.13125],\n",
       "       [0.20625, 0.40625, 0.13125, 0.13125],\n",
       "       [0.13125, 0.13125, 0.05625, 0.05625],\n",
       "       [0.13125, 0.13125, 0.05625, 0.05625]])"
      ]
     },
     "metadata": {},
     "output_type": "display_data"
    }
   ],
   "source": [
    "\n",
    "s2c = np.zeros(n); s2c[0] = .2; s2c[1] = .2;\n",
    "s2c = np.diag(s2c)\n",
    "\n",
    "display(L.dot(s2c))\n",
    "\n",
    "display(s2c.dot(L.T))\n",
    "\n",
    "display(L.dot(s2c).dot(L.T))"
   ]
  },
  {
   "cell_type": "code",
   "execution_count": 44,
   "metadata": {},
   "outputs": [
    {
     "data": {
      "text/plain": [
       "2.5000000000000004"
      ]
     },
     "execution_count": 44,
     "metadata": {},
     "output_type": "execute_result"
    }
   ],
   "source": [
    "L.dot(s2c).dot(L.T).sum().sum()"
   ]
  },
  {
   "cell_type": "code",
   "execution_count": 45,
   "metadata": {},
   "outputs": [],
   "source": [
    "## sample size\n",
    "m = 10000\n",
    "c_fl = (np.random.normal(0, np.sqrt(.2), size = (n, m)).T*np.array([0, 1, 0, 0])).T\n",
    "c_fl;\n"
   ]
  },
  {
   "cell_type": "code",
   "execution_count": 46,
   "metadata": {},
   "outputs": [
    {
     "data": {
      "text/html": [
       "<div>\n",
       "<style scoped>\n",
       "    .dataframe tbody tr th:only-of-type {\n",
       "        vertical-align: middle;\n",
       "    }\n",
       "\n",
       "    .dataframe tbody tr th {\n",
       "        vertical-align: top;\n",
       "    }\n",
       "\n",
       "    .dataframe thead th {\n",
       "        text-align: right;\n",
       "    }\n",
       "</style>\n",
       "<table border=\"1\" class=\"dataframe\">\n",
       "  <thead>\n",
       "    <tr style=\"text-align: right;\">\n",
       "      <th></th>\n",
       "      <th>0</th>\n",
       "      <th>1</th>\n",
       "      <th>2</th>\n",
       "      <th>3</th>\n",
       "      <th>4</th>\n",
       "      <th>5</th>\n",
       "      <th>6</th>\n",
       "      <th>7</th>\n",
       "      <th>8</th>\n",
       "      <th>9</th>\n",
       "      <th>...</th>\n",
       "      <th>9990</th>\n",
       "      <th>9991</th>\n",
       "      <th>9992</th>\n",
       "      <th>9993</th>\n",
       "      <th>9994</th>\n",
       "      <th>9995</th>\n",
       "      <th>9996</th>\n",
       "      <th>9997</th>\n",
       "      <th>9998</th>\n",
       "      <th>9999</th>\n",
       "    </tr>\n",
       "  </thead>\n",
       "  <tbody>\n",
       "    <tr>\n",
       "      <th>0</th>\n",
       "      <td>100.000000</td>\n",
       "      <td>100.000000</td>\n",
       "      <td>100.000000</td>\n",
       "      <td>100.000000</td>\n",
       "      <td>100.000000</td>\n",
       "      <td>100.000000</td>\n",
       "      <td>100.000000</td>\n",
       "      <td>100.000000</td>\n",
       "      <td>100.000000</td>\n",
       "      <td>100.000000</td>\n",
       "      <td>...</td>\n",
       "      <td>100.00000</td>\n",
       "      <td>100.000000</td>\n",
       "      <td>100.000000</td>\n",
       "      <td>100.000000</td>\n",
       "      <td>100.000000</td>\n",
       "      <td>100.000000</td>\n",
       "      <td>100.000000</td>\n",
       "      <td>100.000000</td>\n",
       "      <td>100.000000</td>\n",
       "      <td>100.000000</td>\n",
       "    </tr>\n",
       "    <tr>\n",
       "      <th>1</th>\n",
       "      <td>99.826966</td>\n",
       "      <td>99.965637</td>\n",
       "      <td>100.478295</td>\n",
       "      <td>99.697432</td>\n",
       "      <td>99.495423</td>\n",
       "      <td>100.757889</td>\n",
       "      <td>100.088075</td>\n",
       "      <td>100.777492</td>\n",
       "      <td>99.007535</td>\n",
       "      <td>100.648049</td>\n",
       "      <td>...</td>\n",
       "      <td>100.07175</td>\n",
       "      <td>100.574664</td>\n",
       "      <td>100.224305</td>\n",
       "      <td>100.033356</td>\n",
       "      <td>99.684416</td>\n",
       "      <td>100.388061</td>\n",
       "      <td>99.527344</td>\n",
       "      <td>100.687941</td>\n",
       "      <td>100.147051</td>\n",
       "      <td>99.677318</td>\n",
       "    </tr>\n",
       "    <tr>\n",
       "      <th>2</th>\n",
       "      <td>100.000000</td>\n",
       "      <td>100.000000</td>\n",
       "      <td>100.000000</td>\n",
       "      <td>100.000000</td>\n",
       "      <td>100.000000</td>\n",
       "      <td>100.000000</td>\n",
       "      <td>100.000000</td>\n",
       "      <td>100.000000</td>\n",
       "      <td>100.000000</td>\n",
       "      <td>100.000000</td>\n",
       "      <td>...</td>\n",
       "      <td>100.00000</td>\n",
       "      <td>100.000000</td>\n",
       "      <td>100.000000</td>\n",
       "      <td>100.000000</td>\n",
       "      <td>100.000000</td>\n",
       "      <td>100.000000</td>\n",
       "      <td>100.000000</td>\n",
       "      <td>100.000000</td>\n",
       "      <td>100.000000</td>\n",
       "      <td>100.000000</td>\n",
       "    </tr>\n",
       "    <tr>\n",
       "      <th>3</th>\n",
       "      <td>100.000000</td>\n",
       "      <td>100.000000</td>\n",
       "      <td>100.000000</td>\n",
       "      <td>100.000000</td>\n",
       "      <td>100.000000</td>\n",
       "      <td>100.000000</td>\n",
       "      <td>100.000000</td>\n",
       "      <td>100.000000</td>\n",
       "      <td>100.000000</td>\n",
       "      <td>100.000000</td>\n",
       "      <td>...</td>\n",
       "      <td>100.00000</td>\n",
       "      <td>100.000000</td>\n",
       "      <td>100.000000</td>\n",
       "      <td>100.000000</td>\n",
       "      <td>100.000000</td>\n",
       "      <td>100.000000</td>\n",
       "      <td>100.000000</td>\n",
       "      <td>100.000000</td>\n",
       "      <td>100.000000</td>\n",
       "      <td>100.000000</td>\n",
       "    </tr>\n",
       "  </tbody>\n",
       "</table>\n",
       "<p>4 rows × 10000 columns</p>\n",
       "</div>"
      ],
      "text/plain": [
       "         0           1           2           3           4           5     \\\n",
       "0  100.000000  100.000000  100.000000  100.000000  100.000000  100.000000   \n",
       "1   99.826966   99.965637  100.478295   99.697432   99.495423  100.757889   \n",
       "2  100.000000  100.000000  100.000000  100.000000  100.000000  100.000000   \n",
       "3  100.000000  100.000000  100.000000  100.000000  100.000000  100.000000   \n",
       "\n",
       "         6           7           8           9     ...       9990        9991  \\\n",
       "0  100.000000  100.000000  100.000000  100.000000  ...  100.00000  100.000000   \n",
       "1  100.088075  100.777492   99.007535  100.648049  ...  100.07175  100.574664   \n",
       "2  100.000000  100.000000  100.000000  100.000000  ...  100.00000  100.000000   \n",
       "3  100.000000  100.000000  100.000000  100.000000  ...  100.00000  100.000000   \n",
       "\n",
       "         9992        9993        9994        9995        9996        9997  \\\n",
       "0  100.000000  100.000000  100.000000  100.000000  100.000000  100.000000   \n",
       "1  100.224305  100.033356   99.684416  100.388061   99.527344  100.687941   \n",
       "2  100.000000  100.000000  100.000000  100.000000  100.000000  100.000000   \n",
       "3  100.000000  100.000000  100.000000  100.000000  100.000000  100.000000   \n",
       "\n",
       "         9998        9999  \n",
       "0  100.000000  100.000000  \n",
       "1  100.147051   99.677318  \n",
       "2  100.000000  100.000000  \n",
       "3  100.000000  100.000000  \n",
       "\n",
       "[4 rows x 10000 columns]"
      ]
     },
     "execution_count": 46,
     "metadata": {},
     "output_type": "execute_result"
    }
   ],
   "source": [
    "# create the base levels of c\n",
    "c_ = np.array(m*[c.values.flatten()]).T\n",
    "\n",
    "## add fluctuations\n",
    "c_ = c_ + c_fl\n",
    "\n",
    "pd.DataFrame(c_)"
   ]
  },
  {
   "cell_type": "code",
   "execution_count": 47,
   "metadata": {},
   "outputs": [
    {
     "data": {
      "text/plain": [
       "array([0.02857276, 0.3841449 , 0.02857276, 0.02857276])"
      ]
     },
     "execution_count": 47,
     "metadata": {},
     "output_type": "execute_result"
    }
   ],
   "source": [
    "## Variance of each of the rows == diagonal of the cov(sales) matrix\n",
    "L.dot(c_).var(1)"
   ]
  },
  {
   "cell_type": "code",
   "execution_count": 25,
   "metadata": {},
   "outputs": [
    {
     "data": {
      "text/plain": [
       "array([0.51779274, 0.03236205, 0.03236205, 0.03236205])"
      ]
     },
     "execution_count": 25,
     "metadata": {},
     "output_type": "execute_result"
    }
   ],
   "source": []
  },
  {
   "cell_type": "code",
   "execution_count": 48,
   "metadata": {},
   "outputs": [
    {
     "data": {
      "text/plain": [
       "1.2699005104066008"
      ]
     },
     "execution_count": 48,
     "metadata": {},
     "output_type": "execute_result"
    }
   ],
   "source": [
    "## Aggregate volatility from Leontieff - cov(c) matrix\n",
    "L.dot(c_).sum(0).var()"
   ]
  },
  {
   "cell_type": "code",
   "execution_count": null,
   "metadata": {},
   "outputs": [],
   "source": []
  },
  {
   "cell_type": "code",
   "execution_count": null,
   "metadata": {},
   "outputs": [],
   "source": []
  },
  {
   "cell_type": "code",
   "execution_count": 49,
   "metadata": {},
   "outputs": [
    {
     "data": {
      "text/plain": [
       "array([[0.        , 0.        , 0.        , 0.        ],\n",
       "       [0.        , 0.20318408, 0.        , 0.        ],\n",
       "       [0.        , 0.        , 0.        , 0.        ],\n",
       "       [0.        , 0.        , 0.        , 0.        ]])"
      ]
     },
     "execution_count": 49,
     "metadata": {},
     "output_type": "execute_result"
    }
   ],
   "source": [
    "## Actual c covariance matrix\n",
    "c_.var(1) # its variance must be near the value we designed\n",
    "\n",
    "s2c = np.zeros(n); s2c[1] = c_.var(1)[1]; \n",
    "s2c = np.diag(s2c)\n",
    "s2c"
   ]
  },
  {
   "cell_type": "code",
   "execution_count": 50,
   "metadata": {},
   "outputs": [
    {
     "data": {
      "text/plain": [
       "array([[0.02857276, 0.10476679, 0.02857276, 0.02857276],\n",
       "       [0.10476679, 0.3841449 , 0.10476679, 0.10476679],\n",
       "       [0.02857276, 0.10476679, 0.02857276, 0.02857276],\n",
       "       [0.02857276, 0.10476679, 0.02857276, 0.02857276]])"
      ]
     },
     "execution_count": 50,
     "metadata": {},
     "output_type": "execute_result"
    }
   ],
   "source": [
    "# Total sales covariance matrix\n",
    "L.dot(s2c).dot(L.T)"
   ]
  },
  {
   "cell_type": "code",
   "execution_count": 28,
   "metadata": {},
   "outputs": [
    {
     "data": {
      "text/plain": [
       "array([[0.51779274, 0.12944819, 0.12944819, 0.12944819],\n",
       "       [0.12944819, 0.03236205, 0.03236205, 0.03236205],\n",
       "       [0.12944819, 0.03236205, 0.03236205, 0.03236205],\n",
       "       [0.12944819, 0.03236205, 0.03236205, 0.03236205]])"
      ]
     },
     "execution_count": 28,
     "metadata": {},
     "output_type": "execute_result"
    }
   ],
   "source": [
    "# Total sales covariance matrix\n",
    "L.dot(s2c).dot(L.T)"
   ]
  },
  {
   "cell_type": "code",
   "execution_count": 215,
   "metadata": {},
   "outputs": [
    {
     "data": {
      "text/plain": [
       "1.8352445428893756"
      ]
     },
     "execution_count": 215,
     "metadata": {},
     "output_type": "execute_result"
    }
   ],
   "source": [
    "# Aggregate volatility, sum of covariance matrix\n",
    "L.dot(s2c).dot(L.T).sum().sum()"
   ]
  },
  {
   "cell_type": "code",
   "execution_count": 216,
   "metadata": {},
   "outputs": [],
   "source": [
    "# The question would be what is the difference if we do the same thing on a star network"
   ]
  },
  {
   "cell_type": "code",
   "execution_count": null,
   "metadata": {},
   "outputs": [],
   "source": [
    "\n",
    "\n",
    "\n",
    "    print(['Isolated', 'Circular', 'Complete', 'Star'][i])\n",
    "    \n",
    "#     Scale Sales to have certain proportion of consumption.\n",
    "\n",
    "    \n",
    "    stot = pd.DataFrame(S.sum(1)) + c\n",
    "    R = S.T.div(stot.values).T ####( don't know if it should be trasposed)\n",
    "    I = pd.DataFrame(np.eye(n))\n",
    "    L = la.inv(I - R)\n",
    "    \n",
    "    display(S)\n",
    "    display(pd.DataFrame(L).round(3))\n",
    "    \n",
    "    _1pct = .01*np.mean(c)[0] # one percent of mean consumption level.\n",
    "    \n",
    "    basis = _1pct*np.eye(n)\n",
    "    for vector in basis:\n",
    "        dc = pd.DataFrame(vector)\n",
    "        dstot = L.dot(c + dc) - L.dot(c) # = L.dot(dc)\n",
    "        print(sum(dstot))\n",
    "    \n",
    "    \n",
    "    print('***')"
   ]
  }
 ],
 "metadata": {
  "kernelspec": {
   "display_name": "Python 3",
   "language": "python",
   "name": "python3"
  },
  "language_info": {
   "codemirror_mode": {
    "name": "ipython",
    "version": 3
   },
   "file_extension": ".py",
   "mimetype": "text/x-python",
   "name": "python",
   "nbconvert_exporter": "python",
   "pygments_lexer": "ipython3",
   "version": "3.6.7"
  }
 },
 "nbformat": 4,
 "nbformat_minor": 2
}
