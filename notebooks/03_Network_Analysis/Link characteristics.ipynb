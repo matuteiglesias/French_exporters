{
 "cells": [
  {
   "cell_type": "code",
   "execution_count": 1,
   "metadata": {
    "collapsed": true
   },
   "outputs": [],
   "source": [
    "#Import modules\n",
    "\n",
    "import pandas as pd\n",
    "\n",
    "import matplotlib.pyplot as plt\n",
    "%matplotlib inline\n",
    "\n",
    "from numpy import arange, log10\n"
   ]
  },
  {
   "cell_type": "markdown",
   "metadata": {},
   "source": [
    "### Summary table"
   ]
  },
  {
   "cell_type": "code",
   "execution_count": 2,
   "metadata": {},
   "outputs": [
    {
     "data": {
      "text/html": [
       "<div>\n",
       "<style scoped>\n",
       "    .dataframe tbody tr th:only-of-type {\n",
       "        vertical-align: middle;\n",
       "    }\n",
       "\n",
       "    .dataframe tbody tr th {\n",
       "        vertical-align: top;\n",
       "    }\n",
       "\n",
       "    .dataframe thead tr th {\n",
       "        text-align: left;\n",
       "    }\n",
       "\n",
       "    .dataframe thead tr:last-of-type th {\n",
       "        text-align: right;\n",
       "    }\n",
       "</style>\n",
       "<table border=\"1\" class=\"dataframe\">\n",
       "  <thead>\n",
       "    <tr>\n",
       "      <th></th>\n",
       "      <th colspan=\"3\" halign=\"left\">count</th>\n",
       "      <th colspan=\"3\" halign=\"left\">yearly pct change</th>\n",
       "    </tr>\n",
       "    <tr>\n",
       "      <th></th>\n",
       "      <th>pairs</th>\n",
       "      <th>FR sellers</th>\n",
       "      <th>foreign buyers</th>\n",
       "      <th>pairs</th>\n",
       "      <th>FR sellers</th>\n",
       "      <th>foreign buyers</th>\n",
       "    </tr>\n",
       "    <tr>\n",
       "      <th>YEAR</th>\n",
       "      <th></th>\n",
       "      <th></th>\n",
       "      <th></th>\n",
       "      <th></th>\n",
       "      <th></th>\n",
       "      <th></th>\n",
       "    </tr>\n",
       "  </thead>\n",
       "  <tbody>\n",
       "    <tr>\n",
       "      <th>1997</th>\n",
       "      <td>824529</td>\n",
       "      <td>52062</td>\n",
       "      <td>352398</td>\n",
       "      <td></td>\n",
       "      <td></td>\n",
       "      <td></td>\n",
       "    </tr>\n",
       "    <tr>\n",
       "      <th>1998</th>\n",
       "      <td>853034</td>\n",
       "      <td>53380</td>\n",
       "      <td>356449</td>\n",
       "      <td>3.46</td>\n",
       "      <td>2.53</td>\n",
       "      <td>1.15</td>\n",
       "    </tr>\n",
       "  </tbody>\n",
       "</table>\n",
       "</div>"
      ],
      "text/plain": [
       "       count                           yearly pct change             \\\n",
       "       pairs FR sellers foreign buyers             pairs FR sellers   \n",
       "YEAR                                                                  \n",
       "1997  824529      52062         352398                                \n",
       "1998  853034      53380         356449              3.46       2.53   \n",
       "\n",
       "                     \n",
       "     foreign buyers  \n",
       "YEAR                 \n",
       "1997                 \n",
       "1998           1.15  "
      ]
     },
     "execution_count": 2,
     "metadata": {},
     "output_type": "execute_result"
    }
   ],
   "source": [
    "links = pd.read_csv('./../data/processed/buyer_seller_link_value.csv')\n",
    "links = links.loc[links.VART > 1000]\n",
    "links_count = links.groupby('YEAR').agg({'VART': 'count', 'ID': 'nunique', 'VAT': 'nunique'})\n",
    "links_count = links_count.rename(columns = {'VART': 'pairs', 'ID': 'FR sellers', 'VAT': 'foreign buyers'})\n",
    "links_pct_change = 100*links_count.pct_change().round(4).fillna('')\n",
    "\n",
    "links_summary = pd.concat([links_count,links_pct_change], axis = 1)\n",
    "links_summary.columns = pd.MultiIndex.from_product([['count', 'yearly pct change'], links_count.columns])\n",
    "links_summary\n",
    "# print(links_summary.to_latex())"
   ]
  },
  {
   "cell_type": "markdown",
   "metadata": {},
   "source": [
    "### Value by buyer-seller pair characteristic"
   ]
  },
  {
   "cell_type": "code",
   "execution_count": 3,
   "metadata": {},
   "outputs": [],
   "source": [
    "links = pd.read_csv('./../data/processed/buyer_seller_link_value.csv')\n",
    "links = links.loc[links.VART > 1000]\n",
    "\n",
    "links['log_VART'] = log10(links.VART)#.replace(-inf, nan).dropna()\n",
    "# links['bin'], bins_x = pd.cut(links['log_VART'], 90, retbins=True)"
   ]
  },
  {
   "cell_type": "code",
   "execution_count": 4,
   "metadata": {},
   "outputs": [],
   "source": [
    "links_y = links.groupby(['ID', 'VAT'])[['VART']].mean().reset_index()\n",
    "\n",
    "ID_chars = links_y.groupby('ID').agg({'VAT': 'nunique', 'VART': sum}).rename(columns = {'VART': 'log_VART', 'VAT': 'ID_degree'})\n",
    "ID_chars = log10(ID_chars).reset_index()\n",
    "\n",
    "VAT_chars = links_y.groupby('VAT').agg({'ID': 'nunique', 'VART': sum}).rename(columns = {'VART': 'log_VART', 'ID': 'VAT_degree'})\n",
    "VAT_chars = log10(VAT_chars).reset_index()\n"
   ]
  },
  {
   "cell_type": "code",
   "execution_count": 5,
   "metadata": {},
   "outputs": [],
   "source": [
    "links_val = links_y.merge(ID_chars[['ID','log_VART', 'ID_degree']], on = 'ID').merge(VAT_chars[['VAT', 'log_VART', 'VAT_degree']], on = 'VAT')\n",
    "links_val = links_val.rename(columns = {'log_VART_x': 'log_VART_ID', 'log_VART_y': 'log_VART_VAT'})"
   ]
  },
  {
   "cell_type": "code",
   "execution_count": 6,
   "metadata": {},
   "outputs": [
    {
     "name": "stdout",
     "output_type": "stream",
     "text": [
      "3.71999382637\n",
      "3.59802407233\n"
     ]
    }
   ],
   "source": [
    "print links_val.VAT_degree.max()\n",
    "print links_val.ID_degree.max()"
   ]
  },
  {
   "cell_type": "code",
   "execution_count": 7,
   "metadata": {},
   "outputs": [
    {
     "name": "stderr",
     "output_type": "stream",
     "text": [
      "/home/miglesia/anaconda2/lib/python2.7/site-packages/IPython/kernel/__main__.py:7: RuntimeWarning: divide by zero encountered in log10\n",
      "/home/miglesia/anaconda2/lib/python2.7/site-packages/IPython/kernel/__main__.py:7: SettingWithCopyWarning: \n",
      "A value is trying to be set on a copy of a slice from a DataFrame.\n",
      "Try using .loc[row_indexer,col_indexer] = value instead\n",
      "\n",
      "See the caveats in the documentation: http://pandas.pydata.org/pandas-docs/stable/indexing.html#indexing-view-versus-copy\n",
      "/home/miglesia/anaconda2/lib/python2.7/site-packages/IPython/kernel/__main__.py:9: RuntimeWarning: divide by zero encountered in log10\n",
      "/home/miglesia/anaconda2/lib/python2.7/site-packages/IPython/kernel/__main__.py:9: SettingWithCopyWarning: \n",
      "A value is trying to be set on a copy of a slice from a DataFrame.\n",
      "Try using .loc[row_indexer,col_indexer] = value instead\n",
      "\n",
      "See the caveats in the documentation: http://pandas.pydata.org/pandas-docs/stable/indexing.html#indexing-view-versus-copy\n"
     ]
    },
    {
     "data": {
      "text/plain": [
       "<matplotlib.image.AxesImage at 0x7f28088b6f10>"
      ]
     },
     "execution_count": 7,
     "metadata": {},
     "output_type": "execute_result"
    },
    {
     "data": {
      "image/png": "[encoded data removed]",
      "text/plain": [
       "<matplotlib.figure.Figure at 0x7f28089bad50>"
      ]
     },
     "metadata": {},
     "output_type": "display_data"
    }
   ],
   "source": [
    "from numpy import arange\n",
    "\n",
    "y = 1997\n",
    "\n",
    "links_y = links.loc[links.YEAR == y]\n",
    "df = pd.read_csv('./../data/processed/firm_sizes_99.csv'); firm_sizes_y = df.loc[df.YEAR == y]\n",
    "firm_sizes_y['log_VART'] = log10(firm_sizes_y['VART'])\n",
    "df = pd.read_csv('./../data/processed/buyr_sizes_99.csv'); buyr_sizes_y = df.loc[df.YEAR == y]\n",
    "buyr_sizes_y['log_VART'] = log10(buyr_sizes_y['VART'])\n",
    "\n",
    "links_val = links_y.merge(firm_sizes_y[['ID','log_VART']], on = 'ID').merge(buyr_sizes_y[['VAT', 'log_VART']], on = 'VAT')\n",
    "links_val['x_bin'] = pd.cut(links_val['log_VART_x'], arange(3, 10, .2))\n",
    "links_val['y_bin'] = pd.cut(links_val['log_VART_y'], arange(3, 10, .2))\n",
    "result = links_val.groupby(['x_bin','y_bin'])[['VART']].sum()\n",
    "plt.matshow(log10(result.unstack(0).sort_index(ascending = False)).fillna(3).values)\n"
   ]
  },
  {
   "cell_type": "code",
   "execution_count": 8,
   "metadata": {},
   "outputs": [
    {
     "data": {
      "text/html": [
       "<div>\n",
       "<style scoped>\n",
       "    .dataframe tbody tr th:only-of-type {\n",
       "        vertical-align: middle;\n",
       "    }\n",
       "\n",
       "    .dataframe tbody tr th {\n",
       "        vertical-align: top;\n",
       "    }\n",
       "\n",
       "    .dataframe thead th {\n",
       "        text-align: right;\n",
       "    }\n",
       "</style>\n",
       "<table border=\"1\" class=\"dataframe\">\n",
       "  <thead>\n",
       "    <tr style=\"text-align: right;\">\n",
       "      <th></th>\n",
       "      <th>IMPORT</th>\n",
       "      <th>YEAR</th>\n",
       "      <th>ID</th>\n",
       "      <th>VAT</th>\n",
       "      <th>VART</th>\n",
       "      <th>log_VART_x</th>\n",
       "      <th>log_VART_y</th>\n",
       "      <th>log_VART</th>\n",
       "      <th>x_bin</th>\n",
       "      <th>y_bin</th>\n",
       "    </tr>\n",
       "  </thead>\n",
       "  <tbody>\n",
       "    <tr>\n",
       "      <th>0</th>\n",
       "      <td>0</td>\n",
       "      <td>1997</td>\n",
       "      <td>215</td>\n",
       "      <td>IT0018705</td>\n",
       "      <td>569748</td>\n",
       "      <td>5.755683</td>\n",
       "      <td>5.817312</td>\n",
       "      <td>6.92455</td>\n",
       "      <td>(5.6, 5.8]</td>\n",
       "      <td>(5.8, 6.0]</td>\n",
       "    </tr>\n",
       "    <tr>\n",
       "      <th>1</th>\n",
       "      <td>0</td>\n",
       "      <td>1997</td>\n",
       "      <td>215</td>\n",
       "      <td>IT0018705</td>\n",
       "      <td>569748</td>\n",
       "      <td>5.755683</td>\n",
       "      <td>3.111263</td>\n",
       "      <td>6.92455</td>\n",
       "      <td>(5.6, 5.8]</td>\n",
       "      <td>(3.0, 3.2]</td>\n",
       "    </tr>\n",
       "    <tr>\n",
       "      <th>2</th>\n",
       "      <td>0</td>\n",
       "      <td>1997</td>\n",
       "      <td>37936</td>\n",
       "      <td>IT0018705</td>\n",
       "      <td>1194</td>\n",
       "      <td>3.077004</td>\n",
       "      <td>6.222146</td>\n",
       "      <td>6.92455</td>\n",
       "      <td>(3.0, 3.2]</td>\n",
       "      <td>(6.2, 6.4]</td>\n",
       "    </tr>\n",
       "    <tr>\n",
       "      <th>3</th>\n",
       "      <td>0</td>\n",
       "      <td>1997</td>\n",
       "      <td>37936</td>\n",
       "      <td>IT0018705</td>\n",
       "      <td>1194</td>\n",
       "      <td>3.077004</td>\n",
       "      <td>4.517328</td>\n",
       "      <td>6.92455</td>\n",
       "      <td>(3.0, 3.2]</td>\n",
       "      <td>(4.4, 4.6]</td>\n",
       "    </tr>\n",
       "    <tr>\n",
       "      <th>4</th>\n",
       "      <td>0</td>\n",
       "      <td>1997</td>\n",
       "      <td>301393542</td>\n",
       "      <td>IT0018705</td>\n",
       "      <td>28668</td>\n",
       "      <td>4.457397</td>\n",
       "      <td>4.312791</td>\n",
       "      <td>6.92455</td>\n",
       "      <td>(4.4, 4.6]</td>\n",
       "      <td>(4.2, 4.4]</td>\n",
       "    </tr>\n",
       "  </tbody>\n",
       "</table>\n",
       "</div>"
      ],
      "text/plain": [
       "   IMPORT  YEAR         ID        VAT    VART  log_VART_x  log_VART_y  \\\n",
       "0       0  1997        215  IT0018705  569748    5.755683    5.817312   \n",
       "1       0  1997        215  IT0018705  569748    5.755683    3.111263   \n",
       "2       0  1997      37936  IT0018705    1194    3.077004    6.222146   \n",
       "3       0  1997      37936  IT0018705    1194    3.077004    4.517328   \n",
       "4       0  1997  301393542  IT0018705   28668    4.457397    4.312791   \n",
       "\n",
       "   log_VART       x_bin       y_bin  \n",
       "0   6.92455  (5.6, 5.8]  (5.8, 6.0]  \n",
       "1   6.92455  (5.6, 5.8]  (3.0, 3.2]  \n",
       "2   6.92455  (3.0, 3.2]  (6.2, 6.4]  \n",
       "3   6.92455  (3.0, 3.2]  (4.4, 4.6]  \n",
       "4   6.92455  (4.4, 4.6]  (4.2, 4.4]  "
      ]
     },
     "execution_count": 8,
     "metadata": {},
     "output_type": "execute_result"
    }
   ],
   "source": [
    "links_val.head()"
   ]
  },
  {
   "cell_type": "code",
   "execution_count": 12,
   "metadata": {},
   "outputs": [
    {
     "data": {
      "image/png": "[encoded data removed]",
      "text/plain": [
       "<matplotlib.figure.Figure at 0x7f27f965f490>"
      ]
     },
     "metadata": {},
     "output_type": "display_data"
    }
   ],
   "source": [
    "from numpy import arange\n",
    "from matplotlib.colors import Normalize\n",
    "\n",
    "bins = arange(3, 10, .1)\n",
    "links_val['val_x_bin'] = pd.cut(links_val['log_VART_x'], bins)\n",
    "links_val['val_y_bin'] = pd.cut(links_val['log_VART_y'], bins)\n",
    "\n",
    "bins_d = arange(-.1, 4, .1)\n",
    "# links_val['deg_x_bin'] = pd.cut(links_val['ID_degree'], bins_d)\n",
    "# links_val['deg_y_bin'] = pd.cut(links_val['VAT_degree'], bins_d)\n",
    "\n",
    "fig, axs = plt.subplots(1, 2, figsize = (14, 7))\n",
    "\n",
    "for i in [0]:\n",
    "\n",
    "    if i == 0:\n",
    "        result = links_val.groupby(['val_x_bin','val_y_bin']).agg({'log_VART_x': 'mean', 'log_VART_y': 'mean', \n",
    "                                                           'VART': 'sum', 'ID': 'count'})\n",
    "    elif i == 1:\n",
    "        result = links_val.groupby(['deg_x_bin','deg_y_bin']).agg({'ID_degree': 'mean', 'VAT_degree': 'mean', \n",
    "                                                           'VART': 'sum', 'ID': 'count'}) #ID is just a counter\n",
    "\n",
    "    result['PDF_value'] = result['VART']/result['VART'].sum()\n",
    "    result['PDF_count'] = result['ID']/result['ID'].sum() #ID is just a counter\n",
    "\n",
    "    result_table = result.unstack(0).sort_index(ascending = False)\n",
    "\n",
    "    value = result_table['PDF_value'].fillna(0).values\n",
    "    count = result_table['PDF_count'].fillna(0).values\n",
    "\n",
    "    ax = axs[i]\n",
    "    extent = [(3, 10, 3, 10), (0, 4, 0, 4)][i]\n",
    "    ax.matshow(value - count, extent=extent, cmap=plt.cm.RdYlBu, vmin = -0.003, vmax = .003)\n",
    "\n",
    "\n",
    "axs[0].plot([3, 10], [3, 10], c = '.5', linestyle = '--')\n",
    "axs[1].plot([0, 4], [0, 4], c = '.5', linestyle = '--')\n",
    "\n",
    "axs[0].set_xlabel('size of French seller (log EUR/yr)')\n",
    "axs[0].set_ylabel('size of foreign buyer (log EUR/yr)')\n",
    "axs[0].set_title(\"PDF of counts (red) and value (blue) by partners' SIZE\")\n",
    "axs[1].set_xlabel('degree of French seller (log)')\n",
    "axs[1].set_ylabel('degree of foreign buyer (log)')\n",
    "axs[1].set_title(\"PDF of counts (red) and value (blue) by partners' DEGREE\")\n",
    "plt.show()"
   ]
  },
  {
   "cell_type": "code",
   "execution_count": null,
   "metadata": {
    "collapsed": true
   },
   "outputs": [],
   "source": [
    "from numpy import arange\n",
    "from matplotlib.colors import Normalize\n",
    "\n",
    "bins = arange(3, 10, .1)\n",
    "links_val['val_x_bin'] = pd.cut(links_val['log_VART_x'], bins)\n",
    "links_val['val_y_bin'] = pd.cut(links_val['log_VART_y'], bins)\n",
    "\n",
    "bins_d = arange(-.1, 4, .1)\n",
    "# links_val['deg_x_bin'] = pd.cut(links_val['ID_degree'], bins_d)\n",
    "# links_val['deg_y_bin'] = pd.cut(links_val['VAT_degree'], bins_d)\n",
    "\n",
    "fig, axs = plt.subplots(1, 2, figsize = (14, 7))\n",
    "\n",
    "for i in [0]:\n",
    "\n",
    "    if i == 0:\n",
    "        result = links_val.groupby(['val_x_bin','val_y_bin']).agg({'log_VART_x': 'mean', 'log_VART_y': 'mean', \n",
    "                                                           'VART': 'sum', 'ID': 'count'})\n",
    "    elif i == 1:\n",
    "        result = links_val.groupby(['deg_x_bin','deg_y_bin']).agg({'ID_degree': 'mean', 'VAT_degree': 'mean', \n",
    "                                                           'VART': 'sum', 'ID': 'count'}) #ID is just a counter\n",
    "\n",
    "    result['PDF_value'] = result['VART']/result['VART'].sum()\n",
    "    result['PDF_count'] = result['ID']/result['ID'].sum() #ID is just a counter\n",
    "\n",
    "    result_table = result.unstack(0).sort_index(ascending = False)\n",
    "\n",
    "    value = result_table['PDF_value'].fillna(0).values\n",
    "    count = result_table['PDF_count'].fillna(0).values\n",
    "\n",
    "    ax = axs[i]\n",
    "    extent = [(3, 10, 3, 10), (0, 4, 0, 4)][i]\n",
    "    ax.matshow(value - count, extent=extent, cmap=plt.cm.RdYlBu, vmin = -0.003, vmax = .003)\n",
    "\n",
    "\n",
    "axs[0].plot([3, 10], [3, 10], c = '.5', linestyle = '--')\n",
    "axs[1].plot([0, 4], [0, 4], c = '.5', linestyle = '--')\n",
    "\n",
    "axs[0].set_xlabel('size of French seller (log EUR/yr)')\n",
    "axs[0].set_ylabel('size of foreign buyer (log EUR/yr)')\n",
    "axs[0].set_title(\"PDF of counts (red) and value (blue) by partners' SIZE\")\n",
    "axs[1].set_xlabel('degree of French seller (log)')\n",
    "axs[1].set_ylabel('degree of foreign buyer (log)')\n",
    "axs[1].set_title(\"PDF of counts (red) and value (blue) by partners' DEGREE\")\n",
    "plt.show()"
   ]
  }
 ],
 "metadata": {
  "kernelspec": {
   "display_name": "Python 2",
   "language": "python",
   "name": "python2"
  },
  "language_info": {
   "codemirror_mode": {
    "name": "ipython",
    "version": 2
   },
   "file_extension": ".py",
   "mimetype": "text/x-python",
   "name": "python",
   "nbconvert_exporter": "python",
   "pygments_lexer": "ipython2",
   "version": "2.7.15"
  }
 },
 "nbformat": 4,
 "nbformat_minor": 2
}
