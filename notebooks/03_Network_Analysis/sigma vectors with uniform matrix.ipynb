{
 "cells": [
  {
   "cell_type": "code",
   "execution_count": 44,
   "metadata": {},
   "outputs": [],
   "source": [
    "import numpy as np\n",
    "import pandas as pd\n",
    "\n",
    "import matplotlib.pyplot as plt\n",
    "%matplotlib inline"
   ]
  },
  {
   "cell_type": "code",
   "execution_count": 174,
   "metadata": {},
   "outputs": [],
   "source": [
    "##3 Quisiera saber cual es la expresion de la suma de una matriz simetrica con valores dados por una uniforme fuera de la diagonal y unos en la diagonal.\n",
    "result = []\n",
    "\n",
    "Q = 3\n",
    "lspace = np.round(np.arange(0, 3.2, .15), 3)\n",
    "\n",
    "for s1 in lspace:\n",
    "    for s2 in lspace:\n",
    "        for s3 in [0, 1]:\n",
    "            s = np.array([s1, s2, s3])\n",
    "\n",
    "            M = 500\n",
    "\n",
    "            for m in range(M):\n",
    "                A = np.random.uniform(-1, 1, (Q, Q))\n",
    "                np.fill_diagonal(A, 0) # Fill it with zeros cause I just take these terms out. \n",
    "                i_lower = np.tril_indices(Q, -1)\n",
    "                A[i_lower] = A.T[i_lower] # lower takes values of upper\n",
    "\n",
    "                result += [[s1, s2, s3, m, np.multiply(np.outer(s, s), A).sum()/2.]]\n",
    "\n",
    "            # La expectativa es siempre cero. El tema es como varia el sigma del resultado segun los sigma que pongo.\n",
    "df = pd.DataFrame(result, columns = ['s1', 's2', 's3', 'm', 'y'])"
   ]
  },
  {
   "cell_type": "code",
   "execution_count": 175,
   "metadata": {},
   "outputs": [
    {
     "data": {
      "text/html": [
       "<div>\n",
       "<style scoped>\n",
       "    .dataframe tbody tr th:only-of-type {\n",
       "        vertical-align: middle;\n",
       "    }\n",
       "\n",
       "    .dataframe tbody tr th {\n",
       "        vertical-align: top;\n",
       "    }\n",
       "\n",
       "    .dataframe thead th {\n",
       "        text-align: right;\n",
       "    }\n",
       "</style>\n",
       "<table border=\"1\" class=\"dataframe\">\n",
       "  <thead>\n",
       "    <tr style=\"text-align: right;\">\n",
       "      <th>s2</th>\n",
       "      <th>0.0</th>\n",
       "      <th>0.15</th>\n",
       "      <th>0.3</th>\n",
       "      <th>0.45</th>\n",
       "      <th>0.6</th>\n",
       "      <th>0.75</th>\n",
       "      <th>0.9</th>\n",
       "      <th>1.05</th>\n",
       "      <th>1.2</th>\n",
       "      <th>1.35</th>\n",
       "      <th>...</th>\n",
       "      <th>1.8</th>\n",
       "      <th>1.95</th>\n",
       "      <th>2.1</th>\n",
       "      <th>2.25</th>\n",
       "      <th>2.4</th>\n",
       "      <th>2.55</th>\n",
       "      <th>2.7</th>\n",
       "      <th>2.85</th>\n",
       "      <th>3.0</th>\n",
       "      <th>3.15</th>\n",
       "    </tr>\n",
       "    <tr>\n",
       "      <th>s1</th>\n",
       "      <th></th>\n",
       "      <th></th>\n",
       "      <th></th>\n",
       "      <th></th>\n",
       "      <th></th>\n",
       "      <th></th>\n",
       "      <th></th>\n",
       "      <th></th>\n",
       "      <th></th>\n",
       "      <th></th>\n",
       "      <th></th>\n",
       "      <th></th>\n",
       "      <th></th>\n",
       "      <th></th>\n",
       "      <th></th>\n",
       "      <th></th>\n",
       "      <th></th>\n",
       "      <th></th>\n",
       "      <th></th>\n",
       "      <th></th>\n",
       "      <th></th>\n",
       "    </tr>\n",
       "  </thead>\n",
       "  <tbody>\n",
       "    <tr>\n",
       "      <th>2.55</th>\n",
       "      <td>2.10</td>\n",
       "      <td>2.20</td>\n",
       "      <td>2.38</td>\n",
       "      <td>2.69</td>\n",
       "      <td>3.00</td>\n",
       "      <td>3.62</td>\n",
       "      <td>3.80</td>\n",
       "      <td>4.55</td>\n",
       "      <td>5.69</td>\n",
       "      <td>6.95</td>\n",
       "      <td>...</td>\n",
       "      <td>9.94</td>\n",
       "      <td>11.88</td>\n",
       "      <td>11.42</td>\n",
       "      <td>14.34</td>\n",
       "      <td>17.50</td>\n",
       "      <td>18.77</td>\n",
       "      <td>21.29</td>\n",
       "      <td>24.61</td>\n",
       "      <td>26.23</td>\n",
       "      <td>28.46</td>\n",
       "    </tr>\n",
       "    <tr>\n",
       "      <th>2.70</th>\n",
       "      <td>2.39</td>\n",
       "      <td>2.39</td>\n",
       "      <td>2.95</td>\n",
       "      <td>3.14</td>\n",
       "      <td>3.46</td>\n",
       "      <td>4.27</td>\n",
       "      <td>4.80</td>\n",
       "      <td>5.57</td>\n",
       "      <td>6.00</td>\n",
       "      <td>7.61</td>\n",
       "      <td>...</td>\n",
       "      <td>9.96</td>\n",
       "      <td>12.79</td>\n",
       "      <td>15.24</td>\n",
       "      <td>16.21</td>\n",
       "      <td>19.19</td>\n",
       "      <td>19.94</td>\n",
       "      <td>22.18</td>\n",
       "      <td>24.89</td>\n",
       "      <td>24.90</td>\n",
       "      <td>31.10</td>\n",
       "    </tr>\n",
       "    <tr>\n",
       "      <th>2.85</th>\n",
       "      <td>2.59</td>\n",
       "      <td>2.85</td>\n",
       "      <td>2.91</td>\n",
       "      <td>3.04</td>\n",
       "      <td>3.70</td>\n",
       "      <td>3.97</td>\n",
       "      <td>4.81</td>\n",
       "      <td>5.89</td>\n",
       "      <td>6.77</td>\n",
       "      <td>9.17</td>\n",
       "      <td>...</td>\n",
       "      <td>13.36</td>\n",
       "      <td>14.34</td>\n",
       "      <td>15.86</td>\n",
       "      <td>18.48</td>\n",
       "      <td>20.36</td>\n",
       "      <td>22.37</td>\n",
       "      <td>25.02</td>\n",
       "      <td>26.33</td>\n",
       "      <td>28.66</td>\n",
       "      <td>32.85</td>\n",
       "    </tr>\n",
       "    <tr>\n",
       "      <th>3.00</th>\n",
       "      <td>2.88</td>\n",
       "      <td>3.17</td>\n",
       "      <td>3.32</td>\n",
       "      <td>3.98</td>\n",
       "      <td>4.42</td>\n",
       "      <td>4.74</td>\n",
       "      <td>5.28</td>\n",
       "      <td>6.90</td>\n",
       "      <td>7.89</td>\n",
       "      <td>9.13</td>\n",
       "      <td>...</td>\n",
       "      <td>14.58</td>\n",
       "      <td>16.29</td>\n",
       "      <td>15.46</td>\n",
       "      <td>19.25</td>\n",
       "      <td>22.94</td>\n",
       "      <td>24.83</td>\n",
       "      <td>24.78</td>\n",
       "      <td>29.00</td>\n",
       "      <td>35.71</td>\n",
       "      <td>35.03</td>\n",
       "    </tr>\n",
       "    <tr>\n",
       "      <th>3.15</th>\n",
       "      <td>3.48</td>\n",
       "      <td>3.52</td>\n",
       "      <td>3.55</td>\n",
       "      <td>4.23</td>\n",
       "      <td>5.03</td>\n",
       "      <td>5.44</td>\n",
       "      <td>5.97</td>\n",
       "      <td>7.28</td>\n",
       "      <td>8.59</td>\n",
       "      <td>9.67</td>\n",
       "      <td>...</td>\n",
       "      <td>15.86</td>\n",
       "      <td>17.29</td>\n",
       "      <td>17.71</td>\n",
       "      <td>22.09</td>\n",
       "      <td>22.57</td>\n",
       "      <td>24.70</td>\n",
       "      <td>27.97</td>\n",
       "      <td>32.59</td>\n",
       "      <td>35.81</td>\n",
       "      <td>38.27</td>\n",
       "    </tr>\n",
       "  </tbody>\n",
       "</table>\n",
       "<p>5 rows × 22 columns</p>\n",
       "</div>"
      ],
      "text/plain": [
       "s2    0.00  0.15  0.30  0.45  0.60  0.75  0.90  1.05  1.20  1.35  ...   1.80  \\\n",
       "s1                                                                ...          \n",
       "2.55  2.10  2.20  2.38  2.69  3.00  3.62  3.80  4.55  5.69  6.95  ...   9.94   \n",
       "2.70  2.39  2.39  2.95  3.14  3.46  4.27  4.80  5.57  6.00  7.61  ...   9.96   \n",
       "2.85  2.59  2.85  2.91  3.04  3.70  3.97  4.81  5.89  6.77  9.17  ...  13.36   \n",
       "3.00  2.88  3.17  3.32  3.98  4.42  4.74  5.28  6.90  7.89  9.13  ...  14.58   \n",
       "3.15  3.48  3.52  3.55  4.23  5.03  5.44  5.97  7.28  8.59  9.67  ...  15.86   \n",
       "\n",
       "s2     1.95   2.10   2.25   2.40   2.55   2.70   2.85   3.00   3.15  \n",
       "s1                                                                   \n",
       "2.55  11.88  11.42  14.34  17.50  18.77  21.29  24.61  26.23  28.46  \n",
       "2.70  12.79  15.24  16.21  19.19  19.94  22.18  24.89  24.90  31.10  \n",
       "2.85  14.34  15.86  18.48  20.36  22.37  25.02  26.33  28.66  32.85  \n",
       "3.00  16.29  15.46  19.25  22.94  24.83  24.78  29.00  35.71  35.03  \n",
       "3.15  17.29  17.71  22.09  22.57  24.70  27.97  32.59  35.81  38.27  \n",
       "\n",
       "[5 rows x 22 columns]"
      ]
     },
     "execution_count": 175,
     "metadata": {},
     "output_type": "execute_result"
    }
   ],
   "source": [
    "df.loc[df.s3 == 1].groupby(['s1', 's2'])['y'].var().unstack().round(2).tail()"
   ]
  },
  {
   "cell_type": "code",
   "execution_count": 176,
   "metadata": {},
   "outputs": [
    {
     "data": {
      "text/html": [
       "<div>\n",
       "<style scoped>\n",
       "    .dataframe tbody tr th:only-of-type {\n",
       "        vertical-align: middle;\n",
       "    }\n",
       "\n",
       "    .dataframe tbody tr th {\n",
       "        vertical-align: top;\n",
       "    }\n",
       "\n",
       "    .dataframe thead th {\n",
       "        text-align: right;\n",
       "    }\n",
       "</style>\n",
       "<table border=\"1\" class=\"dataframe\">\n",
       "  <thead>\n",
       "    <tr style=\"text-align: right;\">\n",
       "      <th>s2</th>\n",
       "      <th>0.0</th>\n",
       "      <th>0.15</th>\n",
       "      <th>0.3</th>\n",
       "      <th>0.45</th>\n",
       "      <th>0.6</th>\n",
       "      <th>0.75</th>\n",
       "      <th>0.9</th>\n",
       "      <th>1.05</th>\n",
       "      <th>1.2</th>\n",
       "      <th>1.35</th>\n",
       "      <th>...</th>\n",
       "      <th>1.8</th>\n",
       "      <th>1.95</th>\n",
       "      <th>2.1</th>\n",
       "      <th>2.25</th>\n",
       "      <th>2.4</th>\n",
       "      <th>2.55</th>\n",
       "      <th>2.7</th>\n",
       "      <th>2.85</th>\n",
       "      <th>3.0</th>\n",
       "      <th>3.15</th>\n",
       "    </tr>\n",
       "    <tr>\n",
       "      <th>s1</th>\n",
       "      <th></th>\n",
       "      <th></th>\n",
       "      <th></th>\n",
       "      <th></th>\n",
       "      <th></th>\n",
       "      <th></th>\n",
       "      <th></th>\n",
       "      <th></th>\n",
       "      <th></th>\n",
       "      <th></th>\n",
       "      <th></th>\n",
       "      <th></th>\n",
       "      <th></th>\n",
       "      <th></th>\n",
       "      <th></th>\n",
       "      <th></th>\n",
       "      <th></th>\n",
       "      <th></th>\n",
       "      <th></th>\n",
       "      <th></th>\n",
       "      <th></th>\n",
       "    </tr>\n",
       "  </thead>\n",
       "  <tbody>\n",
       "    <tr>\n",
       "      <th>2.55</th>\n",
       "      <td>2.11</td>\n",
       "      <td>2.20</td>\n",
       "      <td>2.38</td>\n",
       "      <td>2.69</td>\n",
       "      <td>3.00</td>\n",
       "      <td>3.64</td>\n",
       "      <td>3.80</td>\n",
       "      <td>4.55</td>\n",
       "      <td>5.70</td>\n",
       "      <td>6.94</td>\n",
       "      <td>...</td>\n",
       "      <td>9.92</td>\n",
       "      <td>11.88</td>\n",
       "      <td>11.52</td>\n",
       "      <td>14.31</td>\n",
       "      <td>17.47</td>\n",
       "      <td>18.78</td>\n",
       "      <td>21.26</td>\n",
       "      <td>24.56</td>\n",
       "      <td>26.29</td>\n",
       "      <td>28.43</td>\n",
       "    </tr>\n",
       "    <tr>\n",
       "      <th>2.70</th>\n",
       "      <td>2.38</td>\n",
       "      <td>2.39</td>\n",
       "      <td>2.95</td>\n",
       "      <td>3.14</td>\n",
       "      <td>3.45</td>\n",
       "      <td>4.27</td>\n",
       "      <td>4.79</td>\n",
       "      <td>5.56</td>\n",
       "      <td>6.00</td>\n",
       "      <td>7.60</td>\n",
       "      <td>...</td>\n",
       "      <td>9.94</td>\n",
       "      <td>12.77</td>\n",
       "      <td>15.21</td>\n",
       "      <td>16.31</td>\n",
       "      <td>19.20</td>\n",
       "      <td>19.98</td>\n",
       "      <td>22.18</td>\n",
       "      <td>24.84</td>\n",
       "      <td>25.09</td>\n",
       "      <td>31.07</td>\n",
       "    </tr>\n",
       "    <tr>\n",
       "      <th>2.85</th>\n",
       "      <td>2.59</td>\n",
       "      <td>2.85</td>\n",
       "      <td>2.91</td>\n",
       "      <td>3.04</td>\n",
       "      <td>3.72</td>\n",
       "      <td>3.98</td>\n",
       "      <td>4.81</td>\n",
       "      <td>5.92</td>\n",
       "      <td>6.77</td>\n",
       "      <td>9.16</td>\n",
       "      <td>...</td>\n",
       "      <td>13.38</td>\n",
       "      <td>14.37</td>\n",
       "      <td>15.87</td>\n",
       "      <td>18.44</td>\n",
       "      <td>20.32</td>\n",
       "      <td>22.33</td>\n",
       "      <td>24.98</td>\n",
       "      <td>26.28</td>\n",
       "      <td>28.64</td>\n",
       "      <td>32.81</td>\n",
       "    </tr>\n",
       "    <tr>\n",
       "      <th>3.00</th>\n",
       "      <td>2.87</td>\n",
       "      <td>3.17</td>\n",
       "      <td>3.40</td>\n",
       "      <td>3.99</td>\n",
       "      <td>4.44</td>\n",
       "      <td>4.73</td>\n",
       "      <td>5.28</td>\n",
       "      <td>6.90</td>\n",
       "      <td>7.88</td>\n",
       "      <td>9.17</td>\n",
       "      <td>...</td>\n",
       "      <td>14.57</td>\n",
       "      <td>16.30</td>\n",
       "      <td>15.49</td>\n",
       "      <td>19.26</td>\n",
       "      <td>22.89</td>\n",
       "      <td>24.84</td>\n",
       "      <td>24.75</td>\n",
       "      <td>28.94</td>\n",
       "      <td>35.66</td>\n",
       "      <td>34.96</td>\n",
       "    </tr>\n",
       "    <tr>\n",
       "      <th>3.15</th>\n",
       "      <td>3.48</td>\n",
       "      <td>3.52</td>\n",
       "      <td>3.54</td>\n",
       "      <td>4.22</td>\n",
       "      <td>5.04</td>\n",
       "      <td>5.44</td>\n",
       "      <td>5.96</td>\n",
       "      <td>7.27</td>\n",
       "      <td>8.57</td>\n",
       "      <td>9.67</td>\n",
       "      <td>...</td>\n",
       "      <td>15.85</td>\n",
       "      <td>17.29</td>\n",
       "      <td>17.68</td>\n",
       "      <td>22.15</td>\n",
       "      <td>22.53</td>\n",
       "      <td>24.81</td>\n",
       "      <td>27.93</td>\n",
       "      <td>32.58</td>\n",
       "      <td>35.74</td>\n",
       "      <td>38.22</td>\n",
       "    </tr>\n",
       "  </tbody>\n",
       "</table>\n",
       "<p>5 rows × 22 columns</p>\n",
       "</div>"
      ],
      "text/plain": [
       "s2    0.00  0.15  0.30  0.45  0.60  0.75  0.90  1.05  1.20  1.35  ...   1.80  \\\n",
       "s1                                                                ...          \n",
       "2.55  2.11  2.20  2.38  2.69  3.00  3.64  3.80  4.55  5.70  6.94  ...   9.92   \n",
       "2.70  2.38  2.39  2.95  3.14  3.45  4.27  4.79  5.56  6.00  7.60  ...   9.94   \n",
       "2.85  2.59  2.85  2.91  3.04  3.72  3.98  4.81  5.92  6.77  9.16  ...  13.38   \n",
       "3.00  2.87  3.17  3.40  3.99  4.44  4.73  5.28  6.90  7.88  9.17  ...  14.57   \n",
       "3.15  3.48  3.52  3.54  4.22  5.04  5.44  5.96  7.27  8.57  9.67  ...  15.85   \n",
       "\n",
       "s2     1.95   2.10   2.25   2.40   2.55   2.70   2.85   3.00   3.15  \n",
       "s1                                                                   \n",
       "2.55  11.88  11.52  14.31  17.47  18.78  21.26  24.56  26.29  28.43  \n",
       "2.70  12.77  15.21  16.31  19.20  19.98  22.18  24.84  25.09  31.07  \n",
       "2.85  14.37  15.87  18.44  20.32  22.33  24.98  26.28  28.64  32.81  \n",
       "3.00  16.30  15.49  19.26  22.89  24.84  24.75  28.94  35.66  34.96  \n",
       "3.15  17.29  17.68  22.15  22.53  24.81  27.93  32.58  35.74  38.22  \n",
       "\n",
       "[5 rows x 22 columns]"
      ]
     },
     "execution_count": 176,
     "metadata": {},
     "output_type": "execute_result"
    }
   ],
   "source": [
    "df['y2'] = df['y']**2\n",
    "meany2 = df.loc[df.s3 == 1].groupby(['s1', 's2'])['y2'].mean().unstack()\n",
    "meany2.round(2).tail()"
   ]
  },
  {
   "cell_type": "code",
   "execution_count": 177,
   "metadata": {},
   "outputs": [],
   "source": [
    "# outer2 = pd.DataFrame(np.outer(lspace, lspace)**2, columns = lspace, index = lspace)\n",
    "# outer2.round(2)"
   ]
  },
  {
   "cell_type": "code",
   "execution_count": 178,
   "metadata": {},
   "outputs": [],
   "source": [
    "s12 = np.outer(lspace**2, np.ones(len(lspace)))\n",
    "s22 = s12.T\n",
    "s122 = np.outer(lspace, lspace)**2\n",
    "outer2_comb = pd.DataFrame(s122 + s12 + s22, columns = lspace, index = lspace)\n"
   ]
  },
  {
   "cell_type": "code",
   "execution_count": 179,
   "metadata": {},
   "outputs": [
    {
     "data": {
      "text/plain": [
       "count    483.000000\n",
       "mean       0.333332\n",
       "std        0.017356\n",
       "min        0.290027\n",
       "25%        0.321712\n",
       "50%        0.332782\n",
       "75%        0.344771\n",
       "max        0.390803\n",
       "dtype: float64"
      ]
     },
     "execution_count": 179,
     "metadata": {},
     "output_type": "execute_result"
    }
   ],
   "source": [
    "(meany2/outer2_comb).stack().describe()"
   ]
  },
  {
   "cell_type": "code",
   "execution_count": 156,
   "metadata": {},
   "outputs": [
    {
     "data": {
      "text/plain": [
       "count    441.000000\n",
       "mean       1.335404\n",
       "std        0.052447\n",
       "min        1.178651\n",
       "25%        1.298760\n",
       "50%        1.334072\n",
       "75%        1.368525\n",
       "max        1.492383\n",
       "dtype: float64"
      ]
     },
     "execution_count": 156,
     "metadata": {},
     "output_type": "execute_result"
    }
   ],
   "source": [
    "(meany2/outer2).stack().describe()"
   ]
  },
  {
   "cell_type": "code",
   "execution_count": 96,
   "metadata": {},
   "outputs": [
    {
     "data": {
      "text/plain": [
       "<matplotlib.contour.QuadContourSet at 0x7f5613ca8198>"
      ]
     },
     "execution_count": 96,
     "metadata": {},
     "output_type": "execute_result"
    },
    {
     "data": {
      "image/png": "[encoded data removed]",
      "text/plain": [
       "<Figure size 432x432 with 1 Axes>"
      ]
     },
     "metadata": {},
     "output_type": "display_data"
    }
   ],
   "source": [
    "fig, ax = plt.subplots(1, figsize = (6, 6))\n",
    "\n",
    "X, Y = np.meshgrid(meany2.columns, meany2.index)\n",
    "\n",
    "plt.contour(X, Y, meany2.values, 25)"
   ]
  },
  {
   "cell_type": "code",
   "execution_count": 47,
   "metadata": {},
   "outputs": [
    {
     "data": {
      "image/png": "[encoded data removed]",
      "text/plain": [
       "<Figure size 432x288 with 1 Axes>"
      ]
     },
     "metadata": {},
     "output_type": "display_data"
    }
   ],
   "source": [
    "grid = np.linspace(-1, 1, 101)\n",
    "U2 = np.outer(grid, grid)\n",
    "plt.hist(U2.flatten(), 101)\n",
    "plt.show()\n"
   ]
  },
  {
   "cell_type": "code",
   "execution_count": 69,
   "metadata": {},
   "outputs": [
    {
     "data": {
      "text/plain": [
       "0.34"
      ]
     },
     "execution_count": 69,
     "metadata": {},
     "output_type": "execute_result"
    }
   ],
   "source": [
    "U2.flatten().std()"
   ]
  },
  {
   "cell_type": "code",
   "execution_count": 122,
   "metadata": {},
   "outputs": [
    {
     "data": {
      "image/png": "[encoded data removed]",
      "text/plain": [
       "<Figure size 432x288 with 1 Axes>"
      ]
     },
     "metadata": {},
     "output_type": "display_data"
    }
   ],
   "source": [
    "grid = np.linspace(-1, 1, 10001)\n",
    "\n",
    "plt.hist(grid**2, 101)\n",
    "plt.show()"
   ]
  },
  {
   "cell_type": "code",
   "execution_count": 125,
   "metadata": {},
   "outputs": [
    {
     "data": {
      "text/plain": [
       "0.33340000000000003"
      ]
     },
     "execution_count": 125,
     "metadata": {},
     "output_type": "execute_result"
    }
   ],
   "source": [
    "np.mean(grid**2)"
   ]
  },
  {
   "cell_type": "code",
   "execution_count": null,
   "metadata": {},
   "outputs": [],
   "source": []
  }
 ],
 "metadata": {
  "kernelspec": {
   "display_name": "Python 3",
   "language": "python",
   "name": "python3"
  },
  "language_info": {
   "codemirror_mode": {
    "name": "ipython",
    "version": 3
   },
   "file_extension": ".py",
   "mimetype": "text/x-python",
   "name": "python",
   "nbconvert_exporter": "python",
   "pygments_lexer": "ipython3",
   "version": "3.6.7"
  }
 },
 "nbformat": 4,
 "nbformat_minor": 2
}
