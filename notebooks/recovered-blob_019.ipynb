{
 "cells": [
  {
   "cell_type": "code",
   "execution_count": 1,
   "metadata": {
    "collapsed": true
   },
   "outputs": [],
   "source": [
    "#Import modules\n",
    "\n",
    "import pandas as pd\n",
    "import matplotlib.pyplot as plt\n",
    "%matplotlib inline\n",
    "\n",
    "import dask.dataframe as dd\n",
    "from dask.diagnostics import ProgressBar\n",
    "\n",
    "from numpy import arange, log10\n",
    "\n",
    "from functions import chunk, agg, finalize\n",
    "tunique = dd.Aggregation('tunique', chunk, agg,finalize)\n",
    "first = dd.Aggregation('first', chunk, agg,finalize)"
   ]
  },
  {
   "cell_type": "markdown",
   "metadata": {},
   "source": [
    "## Monthly evolution"
   ]
  },
  {
   "cell_type": "code",
   "execution_count": null,
   "metadata": {
    "collapsed": true
   },
   "outputs": [],
   "source": [
    "# dd.read_csv('2014-*.csv')\n",
    "\n",
    "# drive_path = './../export_france/data/type1/DP1610_MAASTRICHT1_1997_2013'\n",
    "drive_path = './../../../../media/miglesia/Elements/export_france/data/type1/DP1610_MAASTRICHT1_1997_2013'\n",
    "\n",
    "n_bins = 20\n",
    "df_list = n_bins * [ 0 ]\n",
    "\n",
    "for dataset_i in range(n_bins):\n",
    "    df_list[dataset_i] = dd.read_csv(drive_path+'/samplings/YMxpb_size20'+str(dataset_i).zfill(2)+'.csv',\n",
    "                                    usecols = ['YEAR','ID','VAT','VART_sum'])\n",
    "    \n",
    "    "
   ]
  },
  {
   "cell_type": "code",
   "execution_count": 7,
   "metadata": {
    "collapsed": false
   },
   "outputs": [],
   "source": [
    "# yearly_summary_qs = data.loc[data.VART > 1000].groupby(['CN ID 4','YEAR', 'D_MASSE', 'USUP', 'IMPORT'])[['VFTE', 'VART', 'MASSE', 'USUP_MT']].sum()\n",
    "by_product_summary = data.loc[data.VART > 1000].groupby(['IMPORT','YEAR', 'CN ID 4'])[['VART']].sum()"
   ]
  },
  {
   "cell_type": "code",
   "execution_count": 8,
   "metadata": {
    "collapsed": false
   },
   "outputs": [
    {
     "name": "stdout",
     "output_type": "stream",
     "text": [
      "[########################################] | 100% Completed | 22min 56.5s\n"
     ]
    }
   ],
   "source": [
    "with ProgressBar():\n",
    "    out_2 = by_product_summary.compute()\n",
    "\n",
    "out_2.to_csv('by_product.csv')"
   ]
  },
  {
   "cell_type": "markdown",
   "metadata": {},
   "source": [
    "### Load data"
   ]
  },
  {
   "cell_type": "code",
   "execution_count": 57,
   "metadata": {
    "collapsed": false
   },
   "outputs": [],
   "source": [
    "by_prod_df = pd.read_csv('./by_product_summary.csv')\n",
    "\n",
    "# BACI = pd.read_csv('./data/BACI_FRA.csv').drop_duplicates().set_index('year').loc[range(1997, 2014)]"
   ]
  }
 ],
 "metadata": {
  "kernelspec": {
   "display_name": "Python 2",
   "language": "python",
   "name": "python2"
  },
  "language_info": {
   "codemirror_mode": {
    "name": "ipython",
    "version": 2
   },
   "file_extension": ".py",
   "mimetype": "text/x-python",
   "name": "python",
   "nbconvert_exporter": "python",
   "pygments_lexer": "ipython2",
   "version": "2.7.13"
  }
 },
 "nbformat": 4,
 "nbformat_minor": 2
}
