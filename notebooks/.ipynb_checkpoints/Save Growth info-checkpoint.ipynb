{
 "cells": [
  {
   "cell_type": "code",
   "execution_count": 14,
   "metadata": {},
   "outputs": [],
   "source": [
    "# size dist plus growth rates\n",
    "import numpy as np\n",
    "\n",
    "import matplotlib.pyplot as plt\n",
    "import seaborn\n",
    "% matplotlib inline\n",
    "from scipy.stats import norm\n",
    "\n",
    "import pandas as pd"
   ]
  },
  {
   "cell_type": "code",
   "execution_count": 102,
   "metadata": {},
   "outputs": [
    {
     "data": {
      "text/plain": [
       "count    1000000.000000\n",
       "mean           2.125555\n",
       "std            0.912340\n",
       "min            0.106206\n",
       "25%            1.462547\n",
       "50%            1.984726\n",
       "75%            2.636556\n",
       "max           10.296921\n",
       "dtype: float64"
      ]
     },
     "execution_count": 102,
     "metadata": {},
     "output_type": "execute_result"
    }
   ],
   "source": [
    "## Volatility of gaussian vs volatility of its difference.\n",
    "var = 1\n",
    "data = np.random.normal(0, np.sqrt(var), (17, 1000000))\n",
    "\n",
    "df = pd.DataFrame(data).dropna()\n",
    "\n",
    "diff_var = df.diff().var()\n",
    "\n",
    "diff_var.describe()"
   ]
  },
  {
   "cell_type": "code",
   "execution_count": 107,
   "metadata": {},
   "outputs": [
    {
     "data": {
      "text/plain": [
       "<matplotlib.axes._subplots.AxesSubplot at 0x7f44db2f09e8>"
      ]
     },
     "execution_count": 107,
     "metadata": {},
     "output_type": "execute_result"
    },
    {
     "data": {
      "image/png": "[encoded data removed]",
      "text/plain": [
       "<Figure size 432x288 with 1 Axes>"
      ]
     },
     "metadata": {},
     "output_type": "display_data"
    }
   ],
   "source": [
    "diff_var.sample(50000).hist(bins = 100)"
   ]
  },
  {
   "cell_type": "code",
   "execution_count": 15,
   "metadata": {},
   "outputs": [],
   "source": [
    "\n",
    "data_path = './../../data/processed/'\n",
    "\n",
    "df = pd.read_csv(data_path + 'ID_Y.csv')\n",
    "df = df.loc[df.IMPORT == 0]\n",
    "\n",
    "cuadro = df.set_index(['ID', 'YEAR'])[['VART']].unstack()\n",
    "\n",
    "# Firms present in at least some time periods\n",
    "cuadro = cuadro.loc[cuadro.count(1) > 12]\n",
    "cuadro_rolled = cuadro\n",
    "\n",
    "annual_logdiff = np.log10(cuadro_rolled).diff(1, axis = 1).replace(np.inf, np.nan).replace(-np.inf, np.nan).dropna(how = 'all')\n",
    "annual_log = np.log10(cuadro_rolled.reindex(annual_logdiff.index))\n",
    "\n",
    "annual_log.columns = annual_log.columns.set_levels(annual_log.columns.levels[0].str.replace('VART', 'annual_log'), level=0)\n",
    "annual_logdiff.columns = annual_logdiff.columns.set_levels(annual_logdiff.columns.levels[0].str.replace('VART', 'annual_logdiff'), level=0)\n",
    "\n",
    "df_concat = pd.concat([annual_log, annual_logdiff], axis = 1)\n",
    "\n",
    "df_level_g = df_concat.stack()"
   ]
  },
  {
   "cell_type": "code",
   "execution_count": 143,
   "metadata": {},
   "outputs": [],
   "source": [
    "g_rates = df_level_g\n",
    "\n",
    "g_rates = g_rates.reset_index()\n",
    "g_rates['YEAR_diff'] = g_rates['YEAR'].diff()\n",
    "# g_rates = g_rates.loc[g_rates['YEAR_diff'] == 1].set_index(['ID', 'YEAR'])\n",
    "\n",
    "g_rates['pair'] = np.arange(len(g_rates))//2\n",
    "valid_pairs = g_rates.groupby('pair')['annual_logdiff'].count() == 2\n",
    "valid_pairs = valid_pairs.index[valid_pairs].tolist()\n",
    "\n",
    "g_rates = g_rates.loc[g_rates.pair.isin(valid_pairs)]\n",
    "\n",
    "g_rates_info = g_rates.groupby('pair').agg({'annual_log': 'mean', 'annual_logdiff': ['first', 'last']})\n",
    "g_rates_info.columns = ['level', 'logdiff1', 'logdiff2']\n",
    "g_rates_info = g_rates_info.sort_values(by = 'level').reset_index(drop = True)\n",
    "\n",
    "g_rates_info.to_csv('./../../data/processed/g_rates_info.csv', index = False)"
   ]
  },
  {
   "cell_type": "code",
   "execution_count": 16,
   "metadata": {},
   "outputs": [
    {
     "ename": "NameError",
     "evalue": "name 'N' is not defined",
     "output_type": "error",
     "traceback": [
      "\u001b[0;31m---------------------------------------------------------------------------\u001b[0m",
      "\u001b[0;31mNameError\u001b[0m                                 Traceback (most recent call last)",
      "\u001b[0;32m<ipython-input-16-6be5f909b0f4>\u001b[0m in \u001b[0;36m<module>\u001b[0;34m()\u001b[0m\n\u001b[1;32m      1\u001b[0m \u001b[0;31m# Bringing the growth rates. They should actually be on a file instead of being computed over and over.\u001b[0m\u001b[0;34m\u001b[0m\u001b[0;34m\u001b[0m\u001b[0;34m\u001b[0m\u001b[0m\n\u001b[1;32m      2\u001b[0m \u001b[0;34m\u001b[0m\u001b[0m\n\u001b[0;32m----> 3\u001b[0;31m \u001b[0;32mfor\u001b[0m \u001b[0mbin_\u001b[0m\u001b[0;34m,\u001b[0m \u001b[0mn\u001b[0m \u001b[0;32min\u001b[0m \u001b[0menumerate\u001b[0m\u001b[0;34m(\u001b[0m\u001b[0mN\u001b[0m\u001b[0;34m.\u001b[0m\u001b[0mvalues\u001b[0m\u001b[0;34m)\u001b[0m\u001b[0;34m:\u001b[0m\u001b[0;34m\u001b[0m\u001b[0;34m\u001b[0m\u001b[0m\n\u001b[0m\u001b[1;32m      4\u001b[0m     \u001b[0mbin_s\u001b[0m \u001b[0;34m=\u001b[0m \u001b[0mnp\u001b[0m\u001b[0;34m.\u001b[0m\u001b[0mlog10\u001b[0m\u001b[0;34m(\u001b[0m\u001b[0msizes_median\u001b[0m\u001b[0;34m.\u001b[0m\u001b[0miloc\u001b[0m\u001b[0;34m[\u001b[0m\u001b[0mbin_\u001b[0m\u001b[0;34m]\u001b[0m\u001b[0;34m)\u001b[0m\u001b[0;34m\u001b[0m\u001b[0;34m\u001b[0m\u001b[0m\n\u001b[1;32m      5\u001b[0m \u001b[0;34m\u001b[0m\u001b[0m\n",
      "\u001b[0;31mNameError\u001b[0m: name 'N' is not defined"
     ]
    }
   ],
   "source": [
    "# Bringing the growth rates. They should actually be on a file instead of being computed over and over.\n",
    "\n",
    "for bin_, n in enumerate(N.values):\n",
    "    bin_s = np.log10(sizes_median.iloc[bin_])\n",
    "\n",
    "    g_rates = df_level_g.loc[abs(df_level_g.annual_log - bin_s) < .45].dropna()\n",
    "    \n",
    "    g_rates = g_rates.reset_index()\n",
    "    g_rates['YEAR_diff'] = g_rates['YEAR'].diff()\n",
    "    g_rates = g_rates.loc[g_rates['YEAR_diff'] == 1].set_index(['ID', 'YEAR'])\n",
    "    annual_logdiff = g_rates['annual_logdiff'].unstack().T.reindex(range(1998, 2014)).T\n",
    "#     annual_logdiff = g_rates['annual_logdiff'].clip(-1, 1).unstack().T.reindex(range(1998, 2014)).T\n",
    "\n",
    "    vals = np.reshape(annual_logdiff.values, (int(np.prod(annual_logdiff.shape)/2), 2))\n",
    "    growth_rates_2s = pd.DataFrame(vals, columns = [0, 1], index = int(annual_logdiff.shape[1]/2)*list(annual_logdiff.index)).dropna()\n",
    "    \n",
    "    g_rates_val = growth_rates_2s.values"
   ]
  },
  {
   "cell_type": "code",
   "execution_count": 11,
   "metadata": {},
   "outputs": [],
   "source": [
    "\n",
    "n = 1e4\n",
    "x_0 = np.array([norm.ppf(q, 0, 1) for q in np.arange(0, 1, 1/n) + .5/n])"
   ]
  },
  {
   "cell_type": "code",
   "execution_count": 10,
   "metadata": {},
   "outputs": [
    {
     "data": {
      "text/plain": [
       "array([-3.89059189, -3.61530001, -3.4807564 , ...,  3.4807564 ,\n",
       "        3.61530001,  3.89059189])"
      ]
     },
     "execution_count": 10,
     "metadata": {},
     "output_type": "execute_result"
    }
   ],
   "source": [
    "\n",
    "x"
   ]
  },
  {
   "cell_type": "code",
   "execution_count": null,
   "metadata": {},
   "outputs": [],
   "source": []
  }
 ],
 "metadata": {
  "kernelspec": {
   "display_name": "Python 3",
   "language": "python",
   "name": "python3"
  },
  "language_info": {
   "codemirror_mode": {
    "name": "ipython",
    "version": 3
   },
   "file_extension": ".py",
   "mimetype": "text/x-python",
   "name": "python",
   "nbconvert_exporter": "python",
   "pygments_lexer": "ipython3",
   "version": "3.6.7"
  }
 },
 "nbformat": 4,
 "nbformat_minor": 2
}
