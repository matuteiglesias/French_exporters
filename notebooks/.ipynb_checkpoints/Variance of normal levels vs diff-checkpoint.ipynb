{
 "cells": [
  {
   "cell_type": "code",
   "execution_count": null,
   "metadata": {},
   "outputs": [],
   "source": [
    "### "
   ]
  },
  {
   "cell_type": "code",
   "execution_count": null,
   "metadata": {},
   "outputs": [],
   "source": [
    "## Volatility of gaussian vs volatility of its difference.\n",
    "var = 1\n",
    "data = np.random.normal(0, np.sqrt(var), (17, 1000000))\n",
    "\n",
    "df = pd.DataFrame(data).dropna()\n",
    "\n",
    "diff_var = df.diff().var()\n",
    "\n",
    "diff_var.describe()\n",
    "\n",
    "diff_var.sample(50000).hist(bins = 100)"
   ]
  }
 ],
 "metadata": {
  "kernelspec": {
   "display_name": "Python 3",
   "language": "python",
   "name": "python3"
  },
  "language_info": {
   "codemirror_mode": {
    "name": "ipython",
    "version": 3
   },
   "file_extension": ".py",
   "mimetype": "text/x-python",
   "name": "python",
   "nbconvert_exporter": "python",
   "pygments_lexer": "ipython3",
   "version": "3.6.7"
  }
 },
 "nbformat": 4,
 "nbformat_minor": 2
}
