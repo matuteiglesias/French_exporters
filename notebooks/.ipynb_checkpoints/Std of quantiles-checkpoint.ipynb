{
 "cells": [
  {
   "cell_type": "code",
   "execution_count": 2,
   "metadata": {},
   "outputs": [],
   "source": [
    "import pandas as pd\n",
    "import matplotlib.pyplot as plt\n",
    "%matplotlib inline\n",
    "\n",
    "import numpy as np"
   ]
  },
  {
   "cell_type": "markdown",
   "metadata": {},
   "source": [
    "## Empirical growth rates"
   ]
  },
  {
   "cell_type": "code",
   "execution_count": 4,
   "metadata": {},
   "outputs": [
    {
     "name": "stderr",
     "output_type": "stream",
     "text": [
      "/home/miglesia/anaconda2/envs/my_pymc_env/lib/python3.6/site-packages/ipykernel_launcher.py:13: RuntimeWarning: divide by zero encountered in log10\n",
      "  del sys.path[0]\n",
      "/home/miglesia/anaconda2/envs/my_pymc_env/lib/python3.6/site-packages/ipykernel_launcher.py:14: RuntimeWarning: divide by zero encountered in log10\n",
      "  \n"
     ]
    },
    {
     "data": {
      "image/png": "[encoded data removed]",
      "text/plain": [
       "<Figure size 432x288 with 1 Axes>"
      ]
     },
     "metadata": {},
     "output_type": "display_data"
    },
    {
     "data": {
      "text/plain": [
       "0.4524525317965355"
      ]
     },
     "execution_count": 4,
     "metadata": {},
     "output_type": "execute_result"
    }
   ],
   "source": [
    "data_path = './../../data/processed/'\n",
    "\n",
    "df = pd.read_csv(data_path + 'ID_Y.csv')\n",
    "df = df.loc[df.IMPORT == 0]\n",
    "\n",
    "cuadro = df.set_index(['ID', 'YEAR'])[['VART']].unstack()\n",
    "\n",
    "# Firms present in at least some time periods\n",
    "cuadro = cuadro.loc[cuadro.count(1) > 12]\n",
    "cuadro_rolled = cuadro\n",
    "\n",
    "annual_logdiff = np.log10(cuadro_rolled).diff(1, axis = 1).replace(np.inf, np.nan).replace(-np.inf, np.nan).dropna(how = 'all')\n",
    "annual_log = np.log10(cuadro_rolled.reindex(annual_logdiff.index))\n",
    "\n",
    "annual_log.columns = annual_log.columns.set_levels(annual_log.columns.levels[0].str.replace('VART', 'annual_log'), level=0)\n",
    "annual_logdiff.columns = annual_logdiff.columns.set_levels(annual_logdiff.columns.levels[0].str.replace('VART', 'annual_logdiff'), level=0)\n",
    "\n",
    "df_concat = pd.concat([annual_log, annual_logdiff], axis = 1)\n",
    "\n",
    "df_level_g = df_concat.stack()\n",
    "\n",
    "g_rates = df_level_g.dropna()['annual_logdiff']\n",
    "plt.hist(g_rates.values, 150)\n",
    "plt.yscale('log')\n",
    "plt.show()\n",
    "g_rates.std()"
   ]
  },
  {
   "cell_type": "markdown",
   "metadata": {},
   "source": [
    "## split into quantiles"
   ]
  },
  {
   "cell_type": "code",
   "execution_count": 442,
   "metadata": {},
   "outputs": [],
   "source": [
    "df = pd.read_csv('./../../data/processed/ID_Y.csv')\n",
    "df = df.loc[df.IMPORT == 0]\n",
    "\n",
    "# plt.hist(df.groupby(['ID','IMPORT']).count()['YEAR'], range(15))\n",
    "cuadro = df.set_index(['ID', 'YEAR'])['VART'].unstack().dropna()"
   ]
  },
  {
   "cell_type": "code",
   "execution_count": 497,
   "metadata": {
    "scrolled": false
   },
   "outputs": [
    {
     "name": "stderr",
     "output_type": "stream",
     "text": [
      "/home/miglesia/anaconda2/envs/my_pymc_env/lib/python3.6/site-packages/ipykernel_launcher.py:16: RuntimeWarning: divide by zero encountered in log10\n",
      "  app.launch_new_instance()\n",
      "/home/miglesia/anaconda2/envs/my_pymc_env/lib/python3.6/site-packages/numpy/lib/function_base.py:3250: RuntimeWarning: All-NaN slice encountered\n",
      "  r = func(a, **kwargs)\n"
     ]
    }
   ],
   "source": [
    "Q = 10\n",
    "\n",
    "cuadro['quantile'] = pd.cut(cuadro.mean(1).sort_values().cumsum(), Q)\n",
    "# cuadro['quantile'].value_counts() #N.\n",
    "\n",
    "# Sizes\n",
    "sizes = cuadro.groupby('quantile').mean().mean(1)\n",
    "\n",
    "# N\n",
    "N = cuadro['quantile'].value_counts()\n",
    "\n",
    "# firm level Std\n",
    "std_q = []\n",
    "for q in cuadro['quantile'].unique().sort_values():\n",
    "    q_chunk = cuadro.loc[cuadro['quantile'] == q].drop('quantile', axis = 1)\n",
    "    log_chunk = np.log10(q_chunk).replace(-np.inf, np.nan).replace(np.inf, np.nan)\n",
    "    std_q += [log_chunk.diff(axis = 1).dropna(axis = 1, how = 'all').stack().std()]\n",
    "\n",
    "std = pd.Series(std_q, index = cuadro['quantile'].unique(), name='std').sort_index()\n",
    "\n",
    "quantile_total = pd.DataFrame(cuadro.groupby('quantile').sum().values,\n",
    "                              index = range(Q), columns=range(1997, 2014))\n",
    "\n",
    "quantile_diff = np.log10(quantile_total).T.diff()\n",
    "quantile_diff_dem = (quantile_diff.T - quantile_diff.median(1)).T"
   ]
  },
  {
   "cell_type": "code",
   "execution_count": 498,
   "metadata": {},
   "outputs": [],
   "source": [
    "# cuadro.groupby('quantile').std()#.mean(1)\n",
    "# df_concat"
   ]
  },
  {
   "cell_type": "code",
   "execution_count": 499,
   "metadata": {},
   "outputs": [],
   "source": [
    "# quantile_diff_dem.plot(marker = '.')"
   ]
  },
  {
   "cell_type": "code",
   "execution_count": 500,
   "metadata": {},
   "outputs": [],
   "source": [
    "long = quantile_diff_dem.T.stack()\n",
    "# long = long.head()\n",
    "long.index = long.index.get_level_values(0)#.plot()"
   ]
  },
  {
   "cell_type": "code",
   "execution_count": 501,
   "metadata": {},
   "outputs": [
    {
     "data": {
      "image/png": "[encoded data removed]",
      "text/plain": [
       "<Figure size 1152x360 with 1 Axes>"
      ]
     },
     "metadata": {},
     "output_type": "display_data"
    }
   ],
   "source": [
    "fig, ax = plt.subplots(1, figsize = (16, 5))\n",
    "\n",
    "ax.plot(range(len(long)), long, lw = 0, marker = '.', c =  'k')\n",
    "\n",
    "stds = long.groupby(level = 0).std()\n",
    "stds = stds.append(pd.Series({len(stds): stds.loc[len(stds) - 1]}))\n",
    "\n",
    "ax.step((2013 - 1997)*stds.index, stds, where='post', label='post', color = 'r', lw = 1, zorder = -20)\n",
    "ax.step((2013 - 1997)*stds.index, -stds, where='post', label='post', color = 'r', lw = 1, zorder = -20)\n",
    "\n",
    "for l in range(Q + 1):\n",
    "    ax.axvline((2013 - 1997)*l, c = '.9', linestyle = '-', zorder = -10) \n",
    "\n",
    "ax.set_ylim(-.3, .3)\n",
    "plt.show()"
   ]
  },
  {
   "cell_type": "code",
   "execution_count": 502,
   "metadata": {},
   "outputs": [
    {
     "name": "stdout",
     "output_type": "stream",
     "text": [
      "17938\n",
      "1607\n",
      "599\n",
      "282\n",
      "149\n",
      "82\n",
      "45\n",
      "20\n",
      "10\n",
      "3\n"
     ]
    }
   ],
   "source": [
    "# g_rates_val = g_rates.values\n",
    "\n",
    "result_list = []\n",
    "g_rates_result_list = []\n",
    "\n",
    "for bin_, n in enumerate(N.values):\n",
    "    bin_s = np.log10(sizes.iloc[bin_])\n",
    "    g_rates = df_level_g.loc[abs(df_level_g.annual_log - bin_s) < .25].dropna()['annual_logdiff'].clip(-1, .8)\n",
    "    g_rates_result_list += [pd.Series(g_rates).describe()]\n",
    "\n",
    "    g_rates_val = g_rates.values\n",
    "#     print(g_rates.shape)\n",
    "    print(n)\n",
    "    mu0 = bin_s\n",
    "    x0 = mu0*np.ones(n)\n",
    "\n",
    "    t_std = []\n",
    "    for m in range(300):\n",
    "        t = []\n",
    "        for yrs in range((2013 - 1997)):\n",
    "        #     x1 = np.random.normal(0, 0.2, n)\n",
    "            x1 = np.random.choice(g_rates_val, n)\n",
    "    #         t += [np.power(10, x0 + x1).sum()/(n*10**mu0)]\n",
    "            t += [np.log10(np.power(10, x0 + x1).sum()) - np.log10(n) - mu0]\n",
    "        t_std += [np.array(t)[1:].std()]\n",
    "    \n",
    "    s1 = np.array(t_std)\n",
    "    result_list += [pd.Series(s1).describe()]\n",
    "    \n",
    "#     plt.hist(s1, 150, alpha = .5)\n",
    "#     plt.yscale('log')\n",
    "#     plt.xlim(-0.35, 1.5)\n",
    "\n",
    "# plt.show()"
   ]
  },
  {
   "cell_type": "code",
   "execution_count": 503,
   "metadata": {},
   "outputs": [],
   "source": [
    "result = pd.DataFrame(pd.concat(result_list, axis = 1))\n",
    "result.columns = N.values\n",
    "result = result.T\n",
    "# result.head()\n",
    "\n",
    "# fig, ax = plt.subplots(1, figsize = (7, 6))\n",
    "# x = N.values\n",
    "# ax.plot(x, result['75%'], c = '.7')\n",
    "# ax.plot(x, result['50%'], c = '.7', marker = '.')\n",
    "# ax.plot(x, result['25%'], c = '.7')\n",
    "\n",
    "# plt.xscale('log')\n",
    "# # plt.ylim(0, .2)\n",
    "# plt.show()"
   ]
  },
  {
   "cell_type": "code",
   "execution_count": 504,
   "metadata": {},
   "outputs": [],
   "source": [
    "def distrib(sigmas):\n",
    "    result = np.log10(np.array([np.power(10, np.random.normal(0, s, 40000)) for s in sigmas]).sum(0)/len(sigmas))\n",
    "    return result"
   ]
  },
  {
   "cell_type": "code",
   "execution_count": 511,
   "metadata": {},
   "outputs": [
    {
     "data": {
      "image/png": "[encoded data removed]",
      "text/plain": [
       "<Figure size 504x432 with 1 Axes>"
      ]
     },
     "metadata": {},
     "output_type": "display_data"
    }
   ],
   "source": [
    "\n",
    "fig, ax = plt.subplots(1, figsize = (7, 6))\n",
    "x = N.values\n",
    "y = stds[:-1].values\n",
    "# ax.plot(x = N.values, y = stds[:-1].values, marker = 'o')\n",
    "ax.plot(x, y, marker = 'o')\n",
    "\n",
    "# Gaussian expectation with the sigma of each bin\n",
    "sigma = std\n",
    "sigma_correg = np.sqrt((np.exp(sigma**2))*(np.exp(sigma**2) - 1))\n",
    "ax.plot(x, sigma_correg/np.sqrt(x), marker = '.')\n",
    "# ax.plot(x, std/np.sqrt(x), marker = '.')\n",
    "\n",
    "# 1/sqrt(n) dependence\n",
    "sigma = .3\n",
    "sigma_correg = np.sqrt((np.exp(sigma**2))*(np.exp(sigma**2) - 1))\n",
    "# ax.plot(x, sigma_correg/np.sqrt(x), linestyle = '--', c = '.5')\n",
    "sigma = .15\n",
    "sigma_correg = np.sqrt((np.exp(sigma**2))*(np.exp(sigma**2) - 1))\n",
    "# ax.plot(x, sigma_correg/np.sqrt(x), linestyle = '--', c = '.5')\n",
    "\n",
    "# # custom\n",
    "ax.plot(x, .114/np.sqrt(x), linestyle = '--', c = 'r', zorder = 10) #.118 lets the whole dataset std match the empirical blue\n",
    "\n",
    "# this is from using the growth rates around each size to simulate the std\n",
    "ax.plot(x, result['25%'], c = '.7')\n",
    "ax.plot(x, result['50%'], c = '.7', marker = '.')\n",
    "ax.plot(x, result['75%'], c = '.7')\n",
    "\n",
    "# This is the simulated (distrib function) std of the dataset made of all quantiles\n",
    "ax.axhline(np.std(distrib(y)), c = '.5', linestyle = ':')\n",
    "\n",
    "plt.xscale('log')\n",
    "plt.yscale('log')\n",
    "plt.ylim(0.001, 1)\n",
    "plt.show()"
   ]
  },
  {
   "cell_type": "code",
   "execution_count": 459,
   "metadata": {},
   "outputs": [],
   "source": [
    "##### DEBUG\n",
    "# bin_s = np.log10(sizes.iloc[bin_])\n",
    "# g_rates = df_level_g.loc[abs(df_level_g.annual_log - bin_s) < .5].dropna()['annual_logdiff']\n",
    "    \n",
    "\n",
    "# plt.hist(np.log10(firm_sample.drop('quantile', axis = 1)).diff(axis = 1).dropna(axis = 1).values.flatten(), 150, alpha = .5)\n",
    "# plt.yscale('log')\n",
    "\n",
    "# plt.hist(g_rates.sample(frac = .06).values, 150, alpha = .5)\n",
    "# plt.show()"
   ]
  },
  {
   "cell_type": "code",
   "execution_count": 509,
   "metadata": {},
   "outputs": [
    {
     "data": {
      "text/plain": [
       "0.008377239312125116"
      ]
     },
     "execution_count": 509,
     "metadata": {},
     "output_type": "execute_result"
    }
   ],
   "source": [
    "# The empirical sigmas of deciles are something like:\n",
    "sigma_deciles = .114/np.sqrt(x)\n",
    "sigma_deciles\n",
    "\n",
    "dist = distrib(sigma_deciles)\n",
    "np.std(dist)"
   ]
  },
  {
   "cell_type": "code",
   "execution_count": 471,
   "metadata": {},
   "outputs": [
    {
     "data": {
      "text/plain": [
       "0.022828004913221477"
      ]
     },
     "execution_count": 471,
     "metadata": {},
     "output_type": "execute_result"
    }
   ],
   "source": [
    "np.std(dist)"
   ]
  },
  {
   "cell_type": "code",
   "execution_count": 465,
   "metadata": {},
   "outputs": [
    {
     "data": {
      "text/plain": [
       "0.008379989031072902"
      ]
     },
     "execution_count": 465,
     "metadata": {},
     "output_type": "execute_result"
    }
   ],
   "source": [
    "dist = distrib(y)\n"
   ]
  },
  {
   "cell_type": "code",
   "execution_count": 441,
   "metadata": {},
   "outputs": [
    {
     "data": {
      "text/plain": [
       "0.15409504563979834"
      ]
     },
     "execution_count": 441,
     "metadata": {},
     "output_type": "execute_result"
    }
   ],
   "source": []
  },
  {
   "cell_type": "code",
   "execution_count": 466,
   "metadata": {},
   "outputs": [
    {
     "data": {
      "text/plain": [
       "0.03383632513892368"
      ]
     },
     "execution_count": 466,
     "metadata": {},
     "output_type": "execute_result"
    }
   ],
   "source": [
    "# long.iloc[:-32].std()\n",
    "np.log10(cuadro.sum()).diff().dropna().std()"
   ]
  },
  {
   "cell_type": "code",
   "execution_count": null,
   "metadata": {},
   "outputs": [],
   "source": []
  }
 ],
 "metadata": {
  "kernelspec": {
   "display_name": "Python 3",
   "language": "python",
   "name": "python3"
  },
  "language_info": {
   "codemirror_mode": {
    "name": "ipython",
    "version": 3
   },
   "file_extension": ".py",
   "mimetype": "text/x-python",
   "name": "python",
   "nbconvert_exporter": "python",
   "pygments_lexer": "ipython3",
   "version": "3.6.7"
  }
 },
 "nbformat": 4,
 "nbformat_minor": 2
}
