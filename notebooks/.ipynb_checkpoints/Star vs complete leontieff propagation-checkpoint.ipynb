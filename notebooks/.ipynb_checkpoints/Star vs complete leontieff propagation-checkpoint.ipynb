{
 "cells": [
  {
   "cell_type": "code",
   "execution_count": 1,
   "metadata": {},
   "outputs": [],
   "source": [
    "import pandas as pd\n",
    "import numpy as np\n",
    "\n",
    "import matplotlib.pyplot as plt\n",
    "%matplotlib inline\n",
    "\n",
    "import scipy.linalg as la\n",
    "\n",
    "from numpy.linalg import matrix_power\n"
   ]
  },
  {
   "cell_type": "code",
   "execution_count": 110,
   "metadata": {},
   "outputs": [],
   "source": [
    "## Log of real value added\n",
    "\n",
    "n = 4\n",
    "a = .1\n",
    "\n",
    "\n",
    "# ## Unconstrained power law distribution\n",
    "# S = round(np.power(10, pd.DataFrame(np.random.uniform(2, 4, (n, n)))), -2)\n",
    "# c = round(np.power(10, pd.DataFrame(np.random.uniform(2, 4, (n, 1)))), -2)\n",
    "\n",
    "sij = 100\n",
    "ci = 100\n",
    "\n",
    "### Schematic edge weights\n",
    "S = pd.DataFrame(np.full((n, n), sij))\n",
    "c = pd.DataFrame(np.full(n, ci))\n",
    "\n",
    "# Nw structures\n",
    "\n",
    "# M is the adjacency matrix\n",
    "Mi = np.eye(n)\n",
    "Mo = np.roll(Mi, -n)\n",
    "Mc = np.full((n, n), 1)\n",
    "Ms = np.full((n, n), 0); Ms[0, 1:] = 1; Ms[:, 0] = 1\n",
    "\n",
    "Si = pd.DataFrame(Mi*S.values)\n",
    "So = pd.DataFrame(Mo*S.mean().mean())\n",
    "Sc = pd.DataFrame(Mc*S.values)\n",
    "Ss = pd.DataFrame(Ms*S.mean().mean())"
   ]
  },
  {
   "cell_type": "code",
   "execution_count": null,
   "metadata": {},
   "outputs": [],
   "source": []
  },
  {
   "cell_type": "code",
   "execution_count": null,
   "metadata": {},
   "outputs": [],
   "source": []
  },
  {
   "cell_type": "code",
   "execution_count": 111,
   "metadata": {},
   "outputs": [],
   "source": [
    "r = 2\n",
    "\n",
    "S = Sc\n",
    "ratio = (S.sum().sum()/c.sum())[0]\n",
    "S = S * r/ratio\n",
    "\n",
    "Sc = S"
   ]
  },
  {
   "cell_type": "code",
   "execution_count": 112,
   "metadata": {},
   "outputs": [
    {
     "data": {
      "text/html": [
       "<div>\n",
       "<style scoped>\n",
       "    .dataframe tbody tr th:only-of-type {\n",
       "        vertical-align: middle;\n",
       "    }\n",
       "\n",
       "    .dataframe tbody tr th {\n",
       "        vertical-align: top;\n",
       "    }\n",
       "\n",
       "    .dataframe thead th {\n",
       "        text-align: right;\n",
       "    }\n",
       "</style>\n",
       "<table border=\"1\" class=\"dataframe\">\n",
       "  <thead>\n",
       "    <tr style=\"text-align: right;\">\n",
       "      <th></th>\n",
       "      <th>0</th>\n",
       "      <th>1</th>\n",
       "      <th>2</th>\n",
       "      <th>3</th>\n",
       "    </tr>\n",
       "  </thead>\n",
       "  <tbody>\n",
       "    <tr>\n",
       "      <th>0</th>\n",
       "      <td>50.0</td>\n",
       "      <td>50.0</td>\n",
       "      <td>50.0</td>\n",
       "      <td>50.0</td>\n",
       "    </tr>\n",
       "    <tr>\n",
       "      <th>1</th>\n",
       "      <td>50.0</td>\n",
       "      <td>50.0</td>\n",
       "      <td>50.0</td>\n",
       "      <td>50.0</td>\n",
       "    </tr>\n",
       "    <tr>\n",
       "      <th>2</th>\n",
       "      <td>50.0</td>\n",
       "      <td>50.0</td>\n",
       "      <td>50.0</td>\n",
       "      <td>50.0</td>\n",
       "    </tr>\n",
       "    <tr>\n",
       "      <th>3</th>\n",
       "      <td>50.0</td>\n",
       "      <td>50.0</td>\n",
       "      <td>50.0</td>\n",
       "      <td>50.0</td>\n",
       "    </tr>\n",
       "  </tbody>\n",
       "</table>\n",
       "</div>"
      ],
      "text/plain": [
       "      0     1     2     3\n",
       "0  50.0  50.0  50.0  50.0\n",
       "1  50.0  50.0  50.0  50.0\n",
       "2  50.0  50.0  50.0  50.0\n",
       "3  50.0  50.0  50.0  50.0"
      ]
     },
     "metadata": {},
     "output_type": "display_data"
    },
    {
     "data": {
      "text/html": [
       "<div>\n",
       "<style scoped>\n",
       "    .dataframe tbody tr th:only-of-type {\n",
       "        vertical-align: middle;\n",
       "    }\n",
       "\n",
       "    .dataframe tbody tr th {\n",
       "        vertical-align: top;\n",
       "    }\n",
       "\n",
       "    .dataframe thead th {\n",
       "        text-align: right;\n",
       "    }\n",
       "</style>\n",
       "<table border=\"1\" class=\"dataframe\">\n",
       "  <thead>\n",
       "    <tr style=\"text-align: right;\">\n",
       "      <th></th>\n",
       "      <th>0</th>\n",
       "      <th>1</th>\n",
       "      <th>2</th>\n",
       "      <th>3</th>\n",
       "    </tr>\n",
       "  </thead>\n",
       "  <tbody>\n",
       "    <tr>\n",
       "      <th>0</th>\n",
       "      <td>1.5</td>\n",
       "      <td>0.5</td>\n",
       "      <td>0.5</td>\n",
       "      <td>0.5</td>\n",
       "    </tr>\n",
       "    <tr>\n",
       "      <th>1</th>\n",
       "      <td>0.5</td>\n",
       "      <td>1.5</td>\n",
       "      <td>0.5</td>\n",
       "      <td>0.5</td>\n",
       "    </tr>\n",
       "    <tr>\n",
       "      <th>2</th>\n",
       "      <td>0.5</td>\n",
       "      <td>0.5</td>\n",
       "      <td>1.5</td>\n",
       "      <td>0.5</td>\n",
       "    </tr>\n",
       "    <tr>\n",
       "      <th>3</th>\n",
       "      <td>0.5</td>\n",
       "      <td>0.5</td>\n",
       "      <td>0.5</td>\n",
       "      <td>1.5</td>\n",
       "    </tr>\n",
       "  </tbody>\n",
       "</table>\n",
       "</div>"
      ],
      "text/plain": [
       "     0    1    2    3\n",
       "0  1.5  0.5  0.5  0.5\n",
       "1  0.5  1.5  0.5  0.5\n",
       "2  0.5  0.5  1.5  0.5\n",
       "3  0.5  0.5  0.5  1.5"
      ]
     },
     "metadata": {},
     "output_type": "display_data"
    }
   ],
   "source": [
    "stot = pd.DataFrame(S.sum(1)) + c\n",
    "R = S.T.div(stot.values).T ####( don't know if it should be trasposed)\n",
    "I = pd.DataFrame(np.eye(n))\n",
    "L = la.inv(I - R)\n",
    "\n",
    "display(S)\n",
    "display(pd.DataFrame(L).round(3))"
   ]
  },
  {
   "cell_type": "code",
   "execution_count": 113,
   "metadata": {},
   "outputs": [
    {
     "data": {
      "text/plain": [
       "array([[0.3, 0. , 0. , 0. ],\n",
       "       [0.1, 0. , 0. , 0. ],\n",
       "       [0.1, 0. , 0. , 0. ],\n",
       "       [0.1, 0. , 0. , 0. ]])"
      ]
     },
     "metadata": {},
     "output_type": "display_data"
    },
    {
     "data": {
      "text/plain": [
       "array([[0.3, 0.1, 0.1, 0.1],\n",
       "       [0. , 0. , 0. , 0. ],\n",
       "       [0. , 0. , 0. , 0. ],\n",
       "       [0. , 0. , 0. , 0. ]])"
      ]
     },
     "metadata": {},
     "output_type": "display_data"
    },
    {
     "data": {
      "text/plain": [
       "array([[0.45, 0.15, 0.15, 0.15],\n",
       "       [0.15, 0.05, 0.05, 0.05],\n",
       "       [0.15, 0.05, 0.05, 0.05],\n",
       "       [0.15, 0.05, 0.05, 0.05]])"
      ]
     },
     "metadata": {},
     "output_type": "display_data"
    },
    {
     "data": {
      "text/plain": [
       "1.7999999999999992"
      ]
     },
     "execution_count": 113,
     "metadata": {},
     "output_type": "execute_result"
    }
   ],
   "source": [
    "\n",
    "s2c = np.zeros(n); s2c[0] = .2;\n",
    "s2c = np.diag(s2c)\n",
    "\n",
    "display(L.dot(s2c))\n",
    "\n",
    "display(s2c.dot(L.T))\n",
    "\n",
    "display(L.dot(s2c).dot(L.T))\n",
    "\n",
    "L.dot(s2c).dot(L.T).sum().sum()"
   ]
  },
  {
   "cell_type": "code",
   "execution_count": 114,
   "metadata": {},
   "outputs": [
    {
     "data": {
      "text/plain": [
       "array([[0. , 0.1, 0. , 0. ],\n",
       "       [0. , 0.3, 0. , 0. ],\n",
       "       [0. , 0.1, 0. , 0. ],\n",
       "       [0. , 0.1, 0. , 0. ]])"
      ]
     },
     "metadata": {},
     "output_type": "display_data"
    },
    {
     "data": {
      "text/plain": [
       "array([[0. , 0. , 0. , 0. ],\n",
       "       [0.1, 0.3, 0.1, 0.1],\n",
       "       [0. , 0. , 0. , 0. ],\n",
       "       [0. , 0. , 0. , 0. ]])"
      ]
     },
     "metadata": {},
     "output_type": "display_data"
    },
    {
     "data": {
      "text/plain": [
       "array([[0.05, 0.15, 0.05, 0.05],\n",
       "       [0.15, 0.45, 0.15, 0.15],\n",
       "       [0.05, 0.15, 0.05, 0.05],\n",
       "       [0.05, 0.15, 0.05, 0.05]])"
      ]
     },
     "metadata": {},
     "output_type": "display_data"
    },
    {
     "data": {
      "text/plain": [
       "1.7999999999999998"
      ]
     },
     "execution_count": 114,
     "metadata": {},
     "output_type": "execute_result"
    }
   ],
   "source": [
    "\n",
    "s2c = np.zeros(n); s2c[1] = .2;\n",
    "s2c = np.diag(s2c)\n",
    "\n",
    "display(L.dot(s2c))\n",
    "\n",
    "display(s2c.dot(L.T))\n",
    "\n",
    "display(L.dot(s2c).dot(L.T))\n",
    "\n",
    "L.dot(s2c).dot(L.T).sum().sum()"
   ]
  },
  {
   "cell_type": "code",
   "execution_count": 115,
   "metadata": {},
   "outputs": [
    {
     "data": {
      "text/plain": [
       "array([[0.3, 0.1, 0. , 0. ],\n",
       "       [0.1, 0.3, 0. , 0. ],\n",
       "       [0.1, 0.1, 0. , 0. ],\n",
       "       [0.1, 0.1, 0. , 0. ]])"
      ]
     },
     "metadata": {},
     "output_type": "display_data"
    },
    {
     "data": {
      "text/plain": [
       "array([[0.3, 0.1, 0.1, 0.1],\n",
       "       [0.1, 0.3, 0.1, 0.1],\n",
       "       [0. , 0. , 0. , 0. ],\n",
       "       [0. , 0. , 0. , 0. ]])"
      ]
     },
     "metadata": {},
     "output_type": "display_data"
    },
    {
     "data": {
      "text/plain": [
       "array([[0.5, 0.3, 0.2, 0.2],\n",
       "       [0.3, 0.5, 0.2, 0.2],\n",
       "       [0.2, 0.2, 0.1, 0.1],\n",
       "       [0.2, 0.2, 0.1, 0.1]])"
      ]
     },
     "metadata": {},
     "output_type": "display_data"
    }
   ],
   "source": [
    "\n",
    "s2c = np.zeros(n); s2c[0] = .2; s2c[1] = .2;\n",
    "s2c = np.diag(s2c)\n",
    "\n",
    "display(L.dot(s2c))\n",
    "\n",
    "display(s2c.dot(L.T))\n",
    "\n",
    "display(L.dot(s2c).dot(L.T))"
   ]
  },
  {
   "cell_type": "code",
   "execution_count": 116,
   "metadata": {},
   "outputs": [
    {
     "data": {
      "text/plain": [
       "3.5999999999999988"
      ]
     },
     "execution_count": 116,
     "metadata": {},
     "output_type": "execute_result"
    }
   ],
   "source": [
    "L.dot(s2c).dot(L.T).sum().sum()"
   ]
  },
  {
   "cell_type": "code",
   "execution_count": 205,
   "metadata": {},
   "outputs": [],
   "source": [
    "## sample size\n",
    "m = 10000\n",
    "c_fl = (np.random.normal(0, np.sqrt(.2), size = (n, m)).T*np.array([1, 0, 0, 0])).T\n",
    "c_fl;\n"
   ]
  },
  {
   "cell_type": "code",
   "execution_count": 206,
   "metadata": {},
   "outputs": [
    {
     "data": {
      "text/html": [
       "<div>\n",
       "<style scoped>\n",
       "    .dataframe tbody tr th:only-of-type {\n",
       "        vertical-align: middle;\n",
       "    }\n",
       "\n",
       "    .dataframe tbody tr th {\n",
       "        vertical-align: top;\n",
       "    }\n",
       "\n",
       "    .dataframe thead th {\n",
       "        text-align: right;\n",
       "    }\n",
       "</style>\n",
       "<table border=\"1\" class=\"dataframe\">\n",
       "  <thead>\n",
       "    <tr style=\"text-align: right;\">\n",
       "      <th></th>\n",
       "      <th>0</th>\n",
       "      <th>1</th>\n",
       "      <th>2</th>\n",
       "      <th>3</th>\n",
       "      <th>4</th>\n",
       "      <th>5</th>\n",
       "      <th>6</th>\n",
       "      <th>7</th>\n",
       "      <th>8</th>\n",
       "      <th>9</th>\n",
       "      <th>...</th>\n",
       "      <th>9990</th>\n",
       "      <th>9991</th>\n",
       "      <th>9992</th>\n",
       "      <th>9993</th>\n",
       "      <th>9994</th>\n",
       "      <th>9995</th>\n",
       "      <th>9996</th>\n",
       "      <th>9997</th>\n",
       "      <th>9998</th>\n",
       "      <th>9999</th>\n",
       "    </tr>\n",
       "  </thead>\n",
       "  <tbody>\n",
       "    <tr>\n",
       "      <th>0</th>\n",
       "      <td>100.032958</td>\n",
       "      <td>100.491492</td>\n",
       "      <td>99.567595</td>\n",
       "      <td>99.560599</td>\n",
       "      <td>100.861636</td>\n",
       "      <td>100.385172</td>\n",
       "      <td>100.184145</td>\n",
       "      <td>99.550867</td>\n",
       "      <td>100.316603</td>\n",
       "      <td>99.629055</td>\n",
       "      <td>...</td>\n",
       "      <td>99.704581</td>\n",
       "      <td>99.579977</td>\n",
       "      <td>99.456128</td>\n",
       "      <td>99.441258</td>\n",
       "      <td>99.668318</td>\n",
       "      <td>100.816779</td>\n",
       "      <td>100.473776</td>\n",
       "      <td>99.956579</td>\n",
       "      <td>100.128348</td>\n",
       "      <td>99.63801</td>\n",
       "    </tr>\n",
       "    <tr>\n",
       "      <th>1</th>\n",
       "      <td>100.000000</td>\n",
       "      <td>100.000000</td>\n",
       "      <td>100.000000</td>\n",
       "      <td>100.000000</td>\n",
       "      <td>100.000000</td>\n",
       "      <td>100.000000</td>\n",
       "      <td>100.000000</td>\n",
       "      <td>100.000000</td>\n",
       "      <td>100.000000</td>\n",
       "      <td>100.000000</td>\n",
       "      <td>...</td>\n",
       "      <td>100.000000</td>\n",
       "      <td>100.000000</td>\n",
       "      <td>100.000000</td>\n",
       "      <td>100.000000</td>\n",
       "      <td>100.000000</td>\n",
       "      <td>100.000000</td>\n",
       "      <td>100.000000</td>\n",
       "      <td>100.000000</td>\n",
       "      <td>100.000000</td>\n",
       "      <td>100.00000</td>\n",
       "    </tr>\n",
       "    <tr>\n",
       "      <th>2</th>\n",
       "      <td>100.000000</td>\n",
       "      <td>100.000000</td>\n",
       "      <td>100.000000</td>\n",
       "      <td>100.000000</td>\n",
       "      <td>100.000000</td>\n",
       "      <td>100.000000</td>\n",
       "      <td>100.000000</td>\n",
       "      <td>100.000000</td>\n",
       "      <td>100.000000</td>\n",
       "      <td>100.000000</td>\n",
       "      <td>...</td>\n",
       "      <td>100.000000</td>\n",
       "      <td>100.000000</td>\n",
       "      <td>100.000000</td>\n",
       "      <td>100.000000</td>\n",
       "      <td>100.000000</td>\n",
       "      <td>100.000000</td>\n",
       "      <td>100.000000</td>\n",
       "      <td>100.000000</td>\n",
       "      <td>100.000000</td>\n",
       "      <td>100.00000</td>\n",
       "    </tr>\n",
       "    <tr>\n",
       "      <th>3</th>\n",
       "      <td>100.000000</td>\n",
       "      <td>100.000000</td>\n",
       "      <td>100.000000</td>\n",
       "      <td>100.000000</td>\n",
       "      <td>100.000000</td>\n",
       "      <td>100.000000</td>\n",
       "      <td>100.000000</td>\n",
       "      <td>100.000000</td>\n",
       "      <td>100.000000</td>\n",
       "      <td>100.000000</td>\n",
       "      <td>...</td>\n",
       "      <td>100.000000</td>\n",
       "      <td>100.000000</td>\n",
       "      <td>100.000000</td>\n",
       "      <td>100.000000</td>\n",
       "      <td>100.000000</td>\n",
       "      <td>100.000000</td>\n",
       "      <td>100.000000</td>\n",
       "      <td>100.000000</td>\n",
       "      <td>100.000000</td>\n",
       "      <td>100.00000</td>\n",
       "    </tr>\n",
       "  </tbody>\n",
       "</table>\n",
       "<p>4 rows × 10000 columns</p>\n",
       "</div>"
      ],
      "text/plain": [
       "         0           1           2           3           4           5     \\\n",
       "0  100.032958  100.491492   99.567595   99.560599  100.861636  100.385172   \n",
       "1  100.000000  100.000000  100.000000  100.000000  100.000000  100.000000   \n",
       "2  100.000000  100.000000  100.000000  100.000000  100.000000  100.000000   \n",
       "3  100.000000  100.000000  100.000000  100.000000  100.000000  100.000000   \n",
       "\n",
       "         6           7           8           9     ...        9990  \\\n",
       "0  100.184145   99.550867  100.316603   99.629055  ...   99.704581   \n",
       "1  100.000000  100.000000  100.000000  100.000000  ...  100.000000   \n",
       "2  100.000000  100.000000  100.000000  100.000000  ...  100.000000   \n",
       "3  100.000000  100.000000  100.000000  100.000000  ...  100.000000   \n",
       "\n",
       "         9991        9992        9993        9994        9995        9996  \\\n",
       "0   99.579977   99.456128   99.441258   99.668318  100.816779  100.473776   \n",
       "1  100.000000  100.000000  100.000000  100.000000  100.000000  100.000000   \n",
       "2  100.000000  100.000000  100.000000  100.000000  100.000000  100.000000   \n",
       "3  100.000000  100.000000  100.000000  100.000000  100.000000  100.000000   \n",
       "\n",
       "         9997        9998       9999  \n",
       "0   99.956579  100.128348   99.63801  \n",
       "1  100.000000  100.000000  100.00000  \n",
       "2  100.000000  100.000000  100.00000  \n",
       "3  100.000000  100.000000  100.00000  \n",
       "\n",
       "[4 rows x 10000 columns]"
      ]
     },
     "execution_count": 206,
     "metadata": {},
     "output_type": "execute_result"
    }
   ],
   "source": [
    "# create the base levels of c\n",
    "c_ = np.array(m*[c.values.flatten()]).T\n",
    "\n",
    "## add fluctuations\n",
    "c_ = c_ + c_fl\n",
    "\n",
    "pd.DataFrame(c_)"
   ]
  },
  {
   "cell_type": "code",
   "execution_count": 207,
   "metadata": {},
   "outputs": [
    {
     "data": {
      "text/plain": [
       "array([0.20391606, 0.        , 0.        , 0.        ])"
      ]
     },
     "execution_count": 207,
     "metadata": {},
     "output_type": "execute_result"
    }
   ],
   "source": [
    "c_.var(1) # its variance must be near the value we designed"
   ]
  },
  {
   "cell_type": "code",
   "execution_count": 208,
   "metadata": {},
   "outputs": [
    {
     "data": {
      "text/plain": [
       "array([0.45881114, 0.05097902, 0.05097902, 0.05097902])"
      ]
     },
     "execution_count": 208,
     "metadata": {},
     "output_type": "execute_result"
    }
   ],
   "source": [
    "L.dot(c_).var(1)"
   ]
  },
  {
   "cell_type": "code",
   "execution_count": 209,
   "metadata": {},
   "outputs": [
    {
     "data": {
      "text/plain": [
       "1.8352445428893733"
      ]
     },
     "execution_count": 209,
     "metadata": {},
     "output_type": "execute_result"
    }
   ],
   "source": [
    "L.dot(c_).sum(0).var()"
   ]
  },
  {
   "cell_type": "code",
   "execution_count": 213,
   "metadata": {},
   "outputs": [
    {
     "data": {
      "text/plain": [
       "array([[0.20391606, 0.        , 0.        , 0.        ],\n",
       "       [0.        , 0.        , 0.        , 0.        ],\n",
       "       [0.        , 0.        , 0.        , 0.        ],\n",
       "       [0.        , 0.        , 0.        , 0.        ]])"
      ]
     },
     "execution_count": 213,
     "metadata": {},
     "output_type": "execute_result"
    }
   ],
   "source": [
    "s2c = np.zeros(n); s2c[0] = c_.var(1)[0]; \n",
    "s2c = np.diag(s2c)\n",
    "s2c"
   ]
  },
  {
   "cell_type": "code",
   "execution_count": 214,
   "metadata": {},
   "outputs": [
    {
     "data": {
      "text/plain": [
       "array([[0.45881114, 0.15293705, 0.15293705, 0.15293705],\n",
       "       [0.15293705, 0.05097902, 0.05097902, 0.05097902],\n",
       "       [0.15293705, 0.05097902, 0.05097902, 0.05097902],\n",
       "       [0.15293705, 0.05097902, 0.05097902, 0.05097902]])"
      ]
     },
     "execution_count": 214,
     "metadata": {},
     "output_type": "execute_result"
    }
   ],
   "source": [
    "# La covarianza de las partes:\n",
    "L.dot(s2c).dot(L.T)"
   ]
  },
  {
   "cell_type": "code",
   "execution_count": 215,
   "metadata": {},
   "outputs": [
    {
     "data": {
      "text/plain": [
       "1.8352445428893756"
      ]
     },
     "execution_count": 215,
     "metadata": {},
     "output_type": "execute_result"
    }
   ],
   "source": [
    "L.dot(s2c).dot(L.T).sum().sum()"
   ]
  },
  {
   "cell_type": "code",
   "execution_count": 121,
   "metadata": {},
   "outputs": [
    {
     "data": {
      "text/html": [
       "<div>\n",
       "<style scoped>\n",
       "    .dataframe tbody tr th:only-of-type {\n",
       "        vertical-align: middle;\n",
       "    }\n",
       "\n",
       "    .dataframe tbody tr th {\n",
       "        vertical-align: top;\n",
       "    }\n",
       "\n",
       "    .dataframe thead th {\n",
       "        text-align: right;\n",
       "    }\n",
       "</style>\n",
       "<table border=\"1\" class=\"dataframe\">\n",
       "  <thead>\n",
       "    <tr style=\"text-align: right;\">\n",
       "      <th></th>\n",
       "      <th>0</th>\n",
       "    </tr>\n",
       "  </thead>\n",
       "  <tbody>\n",
       "    <tr>\n",
       "      <th>0</th>\n",
       "      <td>300.0</td>\n",
       "    </tr>\n",
       "    <tr>\n",
       "      <th>1</th>\n",
       "      <td>300.0</td>\n",
       "    </tr>\n",
       "    <tr>\n",
       "      <th>2</th>\n",
       "      <td>300.0</td>\n",
       "    </tr>\n",
       "    <tr>\n",
       "      <th>3</th>\n",
       "      <td>300.0</td>\n",
       "    </tr>\n",
       "  </tbody>\n",
       "</table>\n",
       "</div>"
      ],
      "text/plain": [
       "       0\n",
       "0  300.0\n",
       "1  300.0\n",
       "2  300.0\n",
       "3  300.0"
      ]
     },
     "execution_count": 121,
     "metadata": {},
     "output_type": "execute_result"
    }
   ],
   "source": [
    "stot"
   ]
  },
  {
   "cell_type": "code",
   "execution_count": 102,
   "metadata": {},
   "outputs": [
    {
     "data": {
      "text/plain": [
       "(4,)"
      ]
     },
     "execution_count": 102,
     "metadata": {},
     "output_type": "execute_result"
    }
   ],
   "source": [
    "b.shape"
   ]
  },
  {
   "cell_type": "code",
   "execution_count": null,
   "metadata": {},
   "outputs": [],
   "source": [
    "\n",
    "\n",
    "\n",
    "    print(['Isolated', 'Circular', 'Complete', 'Star'][i])\n",
    "    \n",
    "#     Scale Sales to have certain proportion of consumption.\n",
    "\n",
    "    \n",
    "    stot = pd.DataFrame(S.sum(1)) + c\n",
    "    R = S.T.div(stot.values).T ####( don't know if it should be trasposed)\n",
    "    I = pd.DataFrame(np.eye(n))\n",
    "    L = la.inv(I - R)\n",
    "    \n",
    "    display(S)\n",
    "    display(pd.DataFrame(L).round(3))\n",
    "    \n",
    "    _1pct = .01*np.mean(c)[0] # one percent of mean consumption level.\n",
    "    \n",
    "    basis = _1pct*np.eye(n)\n",
    "    for vector in basis:\n",
    "        dc = pd.DataFrame(vector)\n",
    "        dstot = L.dot(c + dc) - L.dot(c) # = L.dot(dc)\n",
    "        print(sum(dstot))\n",
    "    \n",
    "    \n",
    "    print('***')"
   ]
  }
 ],
 "metadata": {
  "kernelspec": {
   "display_name": "Python 3",
   "language": "python",
   "name": "python3"
  },
  "language_info": {
   "codemirror_mode": {
    "name": "ipython",
    "version": 3
   },
   "file_extension": ".py",
   "mimetype": "text/x-python",
   "name": "python",
   "nbconvert_exporter": "python",
   "pygments_lexer": "ipython3",
   "version": "3.6.7"
  }
 },
 "nbformat": 4,
 "nbformat_minor": 2
}
