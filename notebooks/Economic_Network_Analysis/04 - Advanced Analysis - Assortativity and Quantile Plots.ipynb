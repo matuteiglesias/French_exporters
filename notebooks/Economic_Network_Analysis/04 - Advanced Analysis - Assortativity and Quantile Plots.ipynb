{
 "cells": [
  {
   "cell_type": "code",
   "execution_count": null,
   "metadata": {},
   "outputs": [],
   "source": [
    "import pandas as pd\n",
    "import numpy as np\n",
    "import matplotlib.pyplot as plt\n",
    "import seaborn as sns\n",
    "\n",
    "# Enable inline plotting for Jupyter Notebooks\n",
    "%matplotlib inline\n"
   ]
  },
  {
   "cell_type": "code",
   "execution_count": null,
   "metadata": {},
   "outputs": [],
   "source": [
    "# Define paths to the full dataset\n",
    "links_path = './../../data/processed/links.csv'\n",
    "id_degree_path = './../../data/processed/id_degree.csv'\n",
    "vat_degree_path = './../../data/processed/vat_degree.csv'\n",
    "\n",
    "# Load the datasets\n",
    "links_df = pd.read_csv(links_path)\n",
    "id_degree_df = pd.read_csv(id_degree_path)\n",
    "vat_degree_df = pd.read_csv(vat_degree_path)\n"
   ]
  },
  {
   "cell_type": "code",
   "execution_count": null,
   "metadata": {},
   "outputs": [],
   "source": [
    "# Group by ID and VAT to get the assortativity info\n",
    "assortativity_df = links_df.groupby(['ID', 'VAT']).agg({'VART': 'sum'}).reset_index()\n",
    "\n",
    "# Merge with ID and VAT degree information\n",
    "assortativity_df = assortativity_df.merge(id_degree_df, on='ID', how='left')\n",
    "assortativity_df = assortativity_df.merge(vat_degree_df, on='VAT', how='left')\n"
   ]
  },
  {
   "cell_type": "code",
   "execution_count": null,
   "metadata": {},
   "outputs": [],
   "source": [
    "import numpy as np\n",
    "import networkx as nx\n",
    "\n",
    "def calculate_assortativity(df, id_col, vat_col):\n",
    "    \"\"\"\n",
    "    Calculate the assortativity coefficient of a network based on a given DataFrame.\n",
    "    Args:\n",
    "    - df: DataFrame containing the network data.\n",
    "    - id_col: Column name for the IDs (e.g., 'ID_degree').\n",
    "    - vat_col: Column name for the VATs (e.g., 'VAT_degree').\n",
    "\n",
    "    Returns:\n",
    "    - assortativity_coefficient: The assortativity coefficient of the network.\n",
    "    \"\"\"\n",
    "\n",
    "    # Create a graph from the DataFrame\n",
    "    G = nx.Graph()\n",
    "\n",
    "    # Add edges to the graph from the DataFrame\n",
    "    for index, row in df.iterrows():\n",
    "        G.add_edge(row[id_col], row[vat_col])\n",
    "\n",
    "    # Calculate the assortativity coefficient\n",
    "    assortativity_coefficient = nx.degree_pearson_correlation_coefficient(G)\n",
    "\n",
    "    return assortativity_coefficient\n",
    "\n",
    "# Example usage:\n",
    "# assortativity_coefficient = calculate_assortativity(assort_s, 'ID_degree', 'VAT_degree')\n",
    "\n",
    "\n",
    "# Compute the assortativity\n",
    "assortativity_coefficient = calculate_assortativity(assortativity_df, 'ID_degree', 'VAT_degree')\n",
    "print(f'Assortativity Coefficient: {assortativity_coefficient}')\n"
   ]
  },
  {
   "cell_type": "code",
   "execution_count": null,
   "metadata": {},
   "outputs": [],
   "source": [
    "# Quantile plot of ID degrees\n",
    "def plot_quantile(df, column, quantiles):\n",
    "    plt.figure(figsize=(10, 6))\n",
    "    quantile_values = df[column].quantile(quantiles)\n",
    "    sns.lineplot(x=quantiles, y=quantile_values)\n",
    "    plt.xlabel('Quantiles')\n",
    "    plt.ylabel(f'Value for {column}')\n",
    "    plt.title(f'Quantile Plot for {column}')\n",
    "    plt.show()\n",
    "\n",
    "# Call the function for ID degrees\n",
    "plot_quantile(id_degree_df, 'ID_degree', np.linspace(0, 1, num=100))\n",
    "\n",
    "# Call the function for VAT degrees\n",
    "plot_quantile(vat_degree_df, 'VAT_degree', np.linspace(0, 1, num=100))\n"
   ]
  },
  {
   "cell_type": "code",
   "execution_count": null,
   "metadata": {},
   "outputs": [],
   "source": [
    "# Save the assortativity dataframe to a CSV\n",
    "assortativity_df.to_csv('./../../data/analysis/assortativity.csv', index=False)\n",
    "\n",
    "# Save quantile plots\n",
    "def save_quantile_plot(df, column, quantiles, filename):\n",
    "    fig, ax = plt.subplots(figsize=(10, 6))\n",
    "    quantile_values = df[column].quantile(quantiles)\n",
    "    sns.lineplot(x=quantiles, y=quantile_values, ax=ax)\n",
    "    ax.set_xlabel('Quantiles')\n",
    "    ax.set_ylabel(f'Value for {column}')\n",
    "    ax.set_title(f'Quantile Plot for {column}')\n",
    "    fig.savefig(f'./../../data/analysis/{filename}.png', dpi=300)\n",
    "\n",
    "save_quantile_plot(id_degree_df, 'ID_degree', np.linspace(0, 1, num=100), 'id_degree_quantile')\n",
    "save_quantile_plot(vat_degree_df, 'VAT_degree', np.linspace(0, 1, num=100), 'vat_degree_quantile')\n"
   ]
  }
 ],
 "metadata": {
  "language_info": {
   "name": "python"
  }
 },
 "nbformat": 4,
 "nbformat_minor": 2
}
