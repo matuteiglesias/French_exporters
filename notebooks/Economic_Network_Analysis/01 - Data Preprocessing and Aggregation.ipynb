{
 "cells": [
  {
   "cell_type": "code",
   "execution_count": 1,
   "metadata": {},
   "outputs": [],
   "source": [
    "import pandas as pd\n",
    "import dask.dataframe as dd\n",
    "from dask.diagnostics import ProgressBar\n",
    "\n",
    "# Notebook settings for better control over execution and display\n",
    "%matplotlib inline\n",
    "pd.options.display.max_columns = None\n",
    "pd.options.display.max_rows = 10\n"
   ]
  },
  {
   "cell_type": "code",
   "execution_count": 2,
   "metadata": {},
   "outputs": [],
   "source": [
    "# Define the data paths for reading and saving files\n",
    "drive_path = '/media/matias/Elements/export_france/data/type1/'\n",
    "save_path = './../../data/processed/'\n",
    "\n",
    "# Column names and their corresponding numbers in the raw data files\n",
    "colnames = ['YEAR', 'MONTH', 'FLUX', 'ID', 'DEPT', 'CN ID 8', 'CPA6', 'PYOD', 'PAYP', 'VAT', \n",
    "            'PRIFAC', 'DEVFAC', 'VFTE', 'VART', 'D_MASSE', 'MASSE', 'USUP', 'USUP_MT']\n",
    "colname_no = {name: idx for idx, name in enumerate(colnames)}\n"
   ]
  },
  {
   "cell_type": "code",
   "execution_count": 3,
   "metadata": {},
   "outputs": [],
   "source": [
    "# Function to read and preprocess the data\n",
    "def get_data(columns, start_year, end_year):\n",
    "    dtype = {4: 'object', 9: 'object'}  # Specify the correct dtype for known columns\n",
    "    df_list = []\n",
    "    for y in range(start_year, end_year):\n",
    "        df = dd.read_csv(f'{drive_path}DP1610_MAASTRICHT1_{y}.txt', usecols=columns, \n",
    "                         delimiter=';', header=None, dtype=dtype, blocksize='100MB')\n",
    "        df.columns = [colnames[i] for i in columns]  # Set the column names\n",
    "        df_list.append(df)\n",
    "    return dd.concat(df_list)\n",
    "\n",
    "# Example usage:\n",
    "# columns_to_load = [0, 2, 3, 5, 7, 13]  # YEAR, FLUX, ID, CN ID 8, PYOD, VART\n",
    "# data = get_data(columns_to_load, 1997, 2014)\n"
   ]
  },
  {
   "cell_type": "code",
   "execution_count": 5,
   "metadata": {},
   "outputs": [],
   "source": [
    "# Function to calculate and save firm sizes and buyer-seller links\n",
    "def compute_firm_sizes_and_links(data):\n",
    "    firm_sizes = data.groupby(['ID', 'IMPORT', 'YEAR'])['VART'].sum().reset_index()\n",
    "    buyer_seller_links = data.groupby(['ID', 'VAT', 'YEAR'])['VART'].sum().reset_index()\n",
    "\n",
    "    # Persisting the results to avoid re-computation\n",
    "    firm_sizes.to_csv(f'{save_path}firm_sizes.csv', index=False)\n",
    "    buyer_seller_links.to_csv(f'{save_path}buyer_seller_links.csv', index=False)\n",
    "\n",
    "    return firm_sizes, buyer_seller_links\n",
    "\n",
    "# Example usage:\n",
    "# firm_sizes, buyer_seller_links = compute_firm_sizes_and_links(data)\n"
   ]
  },
  {
   "cell_type": "code",
   "execution_count": 8,
   "metadata": {},
   "outputs": [
    {
     "ename": "FileNotFoundError",
     "evalue": "An error occurred while calling the read_csv method registered to the pandas backend.\nOriginal Message: [Errno 2] No such file or directory: '/media/matias/Elements/export_france/data/type1/DP1610_MAASTRICHT1_1997.txt'",
     "output_type": "error",
     "traceback": [
      "\u001b[0;31m---------------------------------------------------------------------------\u001b[0m",
      "\u001b[0;31mFileNotFoundError\u001b[0m                         Traceback (most recent call last)",
      "File \u001b[0;32m~/anaconda3/envs/base2/lib/python3.11/site-packages/dask/backends.py:136\u001b[0m, in \u001b[0;36mCreationDispatch.register_inplace.<locals>.decorator.<locals>.wrapper\u001b[0;34m(*args, **kwargs)\u001b[0m\n\u001b[1;32m    135\u001b[0m \u001b[39mtry\u001b[39;00m:\n\u001b[0;32m--> 136\u001b[0m     \u001b[39mreturn\u001b[39;00m func(\u001b[39m*\u001b[39;49margs, \u001b[39m*\u001b[39;49m\u001b[39m*\u001b[39;49mkwargs)\n\u001b[1;32m    137\u001b[0m \u001b[39mexcept\u001b[39;00m \u001b[39mException\u001b[39;00m \u001b[39mas\u001b[39;00m e:\n",
      "File \u001b[0;32m~/anaconda3/envs/base2/lib/python3.11/site-packages/dask/dataframe/io/csv.py:761\u001b[0m, in \u001b[0;36mmake_reader.<locals>.read\u001b[0;34m(urlpath, blocksize, lineterminator, compression, sample, sample_rows, enforce, assume_missing, storage_options, include_path_column, **kwargs)\u001b[0m\n\u001b[1;32m    748\u001b[0m \u001b[39mdef\u001b[39;00m \u001b[39mread\u001b[39m(\n\u001b[1;32m    749\u001b[0m     urlpath,\n\u001b[1;32m    750\u001b[0m     blocksize\u001b[39m=\u001b[39m\u001b[39m\"\u001b[39m\u001b[39mdefault\u001b[39m\u001b[39m\"\u001b[39m,\n\u001b[0;32m   (...)\u001b[0m\n\u001b[1;32m    759\u001b[0m     \u001b[39m*\u001b[39m\u001b[39m*\u001b[39mkwargs,\n\u001b[1;32m    760\u001b[0m ):\n\u001b[0;32m--> 761\u001b[0m     \u001b[39mreturn\u001b[39;00m read_pandas(\n\u001b[1;32m    762\u001b[0m         reader,\n\u001b[1;32m    763\u001b[0m         urlpath,\n\u001b[1;32m    764\u001b[0m         blocksize\u001b[39m=\u001b[39;49mblocksize,\n\u001b[1;32m    765\u001b[0m         lineterminator\u001b[39m=\u001b[39;49mlineterminator,\n\u001b[1;32m    766\u001b[0m         compression\u001b[39m=\u001b[39;49mcompression,\n\u001b[1;32m    767\u001b[0m         sample\u001b[39m=\u001b[39;49msample,\n\u001b[1;32m    768\u001b[0m         sample_rows\u001b[39m=\u001b[39;49msample_rows,\n\u001b[1;32m    769\u001b[0m         enforce\u001b[39m=\u001b[39;49menforce,\n\u001b[1;32m    770\u001b[0m         assume_missing\u001b[39m=\u001b[39;49massume_missing,\n\u001b[1;32m    771\u001b[0m         storage_options\u001b[39m=\u001b[39;49mstorage_options,\n\u001b[1;32m    772\u001b[0m         include_path_column\u001b[39m=\u001b[39;49minclude_path_column,\n\u001b[1;32m    773\u001b[0m         \u001b[39m*\u001b[39;49m\u001b[39m*\u001b[39;49mkwargs,\n\u001b[1;32m    774\u001b[0m     )\n",
      "File \u001b[0;32m~/anaconda3/envs/base2/lib/python3.11/site-packages/dask/dataframe/io/csv.py:561\u001b[0m, in \u001b[0;36mread_pandas\u001b[0;34m(reader, urlpath, blocksize, lineterminator, compression, sample, sample_rows, enforce, assume_missing, storage_options, include_path_column, **kwargs)\u001b[0m\n\u001b[1;32m    560\u001b[0m b_lineterminator \u001b[39m=\u001b[39m lineterminator\u001b[39m.\u001b[39mencode()\n\u001b[0;32m--> 561\u001b[0m b_out \u001b[39m=\u001b[39m read_bytes(\n\u001b[1;32m    562\u001b[0m     urlpath,\n\u001b[1;32m    563\u001b[0m     delimiter\u001b[39m=\u001b[39;49mb_lineterminator,\n\u001b[1;32m    564\u001b[0m     blocksize\u001b[39m=\u001b[39;49mblocksize,\n\u001b[1;32m    565\u001b[0m     sample\u001b[39m=\u001b[39;49msample,\n\u001b[1;32m    566\u001b[0m     compression\u001b[39m=\u001b[39;49mcompression,\n\u001b[1;32m    567\u001b[0m     include_path\u001b[39m=\u001b[39;49minclude_path_column,\n\u001b[1;32m    568\u001b[0m     \u001b[39m*\u001b[39;49m\u001b[39m*\u001b[39;49m(storage_options \u001b[39mor\u001b[39;49;00m {}),\n\u001b[1;32m    569\u001b[0m )\n\u001b[1;32m    571\u001b[0m \u001b[39mif\u001b[39;00m include_path_column:\n",
      "File \u001b[0;32m~/anaconda3/envs/base2/lib/python3.11/site-packages/dask/bytes/core.py:111\u001b[0m, in \u001b[0;36mread_bytes\u001b[0;34m(urlpath, delimiter, not_zero, blocksize, sample, compression, include_path, **kwargs)\u001b[0m\n\u001b[1;32m    107\u001b[0m     \u001b[39mraise\u001b[39;00m \u001b[39mValueError\u001b[39;00m(\n\u001b[1;32m    108\u001b[0m         \u001b[39m\"\u001b[39m\u001b[39mCannot do chunked reads on compressed files. \u001b[39m\u001b[39m\"\u001b[39m\n\u001b[1;32m    109\u001b[0m         \u001b[39m\"\u001b[39m\u001b[39mTo read, set blocksize=None\u001b[39m\u001b[39m\"\u001b[39m\n\u001b[1;32m    110\u001b[0m     )\n\u001b[0;32m--> 111\u001b[0m size \u001b[39m=\u001b[39m fs\u001b[39m.\u001b[39;49minfo(path)[\u001b[39m\"\u001b[39m\u001b[39msize\u001b[39m\u001b[39m\"\u001b[39m]\n\u001b[1;32m    112\u001b[0m \u001b[39mif\u001b[39;00m size \u001b[39mis\u001b[39;00m \u001b[39mNone\u001b[39;00m:\n",
      "File \u001b[0;32m~/anaconda3/envs/base2/lib/python3.11/site-packages/fsspec/implementations/local.py:87\u001b[0m, in \u001b[0;36mLocalFileSystem.info\u001b[0;34m(self, path, **kwargs)\u001b[0m\n\u001b[1;32m     86\u001b[0m path \u001b[39m=\u001b[39m \u001b[39mself\u001b[39m\u001b[39m.\u001b[39m_strip_protocol(path)\n\u001b[0;32m---> 87\u001b[0m out \u001b[39m=\u001b[39m os\u001b[39m.\u001b[39;49mstat(path, follow_symlinks\u001b[39m=\u001b[39;49m\u001b[39mFalse\u001b[39;49;00m)\n\u001b[1;32m     88\u001b[0m link \u001b[39m=\u001b[39m stat\u001b[39m.\u001b[39mS_ISLNK(out\u001b[39m.\u001b[39mst_mode)\n",
      "\u001b[0;31mFileNotFoundError\u001b[0m: [Errno 2] No such file or directory: '/media/matias/Elements/export_france/data/type1/DP1610_MAASTRICHT1_1997.txt'",
      "\nThe above exception was the direct cause of the following exception:\n",
      "\u001b[0;31mFileNotFoundError\u001b[0m                         Traceback (most recent call last)",
      "\u001b[1;32m/home/matias/repos/French_exporters/notebooks/Economic_Network_Analysis/01 - Data Preprocessing and Aggregation.ipynb Cell 5\u001b[0m line \u001b[0;36m3\n\u001b[1;32m      <a href='vscode-notebook-cell:/home/matias/repos/French_exporters/notebooks/Economic_Network_Analysis/01%20-%20Data%20Preprocessing%20and%20Aggregation.ipynb#W6sZmlsZQ%3D%3D?line=0'>1</a>\u001b[0m \u001b[39m# Example usage:\u001b[39;00m\n\u001b[1;32m      <a href='vscode-notebook-cell:/home/matias/repos/French_exporters/notebooks/Economic_Network_Analysis/01%20-%20Data%20Preprocessing%20and%20Aggregation.ipynb#W6sZmlsZQ%3D%3D?line=1'>2</a>\u001b[0m columns_to_load \u001b[39m=\u001b[39m [\u001b[39m0\u001b[39m, \u001b[39m2\u001b[39m, \u001b[39m3\u001b[39m, \u001b[39m5\u001b[39m, \u001b[39m7\u001b[39m, \u001b[39m13\u001b[39m]  \u001b[39m# YEAR, FLUX, ID, CN ID 8, PYOD, VART\u001b[39;00m\n\u001b[0;32m----> <a href='vscode-notebook-cell:/home/matias/repos/French_exporters/notebooks/Economic_Network_Analysis/01%20-%20Data%20Preprocessing%20and%20Aggregation.ipynb#W6sZmlsZQ%3D%3D?line=2'>3</a>\u001b[0m data \u001b[39m=\u001b[39m get_data(columns_to_load, \u001b[39m1997\u001b[39;49m, \u001b[39m1999\u001b[39;49m)\n\u001b[1;32m      <a href='vscode-notebook-cell:/home/matias/repos/French_exporters/notebooks/Economic_Network_Analysis/01%20-%20Data%20Preprocessing%20and%20Aggregation.ipynb#W6sZmlsZQ%3D%3D?line=4'>5</a>\u001b[0m firm_sizes, buyer_seller_links \u001b[39m=\u001b[39m compute_firm_sizes_and_links(data)\n",
      "\u001b[1;32m/home/matias/repos/French_exporters/notebooks/Economic_Network_Analysis/01 - Data Preprocessing and Aggregation.ipynb Cell 5\u001b[0m line \u001b[0;36m6\n\u001b[1;32m      <a href='vscode-notebook-cell:/home/matias/repos/French_exporters/notebooks/Economic_Network_Analysis/01%20-%20Data%20Preprocessing%20and%20Aggregation.ipynb#W6sZmlsZQ%3D%3D?line=3'>4</a>\u001b[0m df_list \u001b[39m=\u001b[39m []\n\u001b[1;32m      <a href='vscode-notebook-cell:/home/matias/repos/French_exporters/notebooks/Economic_Network_Analysis/01%20-%20Data%20Preprocessing%20and%20Aggregation.ipynb#W6sZmlsZQ%3D%3D?line=4'>5</a>\u001b[0m \u001b[39mfor\u001b[39;00m y \u001b[39min\u001b[39;00m \u001b[39mrange\u001b[39m(start_year, end_year):\n\u001b[0;32m----> <a href='vscode-notebook-cell:/home/matias/repos/French_exporters/notebooks/Economic_Network_Analysis/01%20-%20Data%20Preprocessing%20and%20Aggregation.ipynb#W6sZmlsZQ%3D%3D?line=5'>6</a>\u001b[0m     df \u001b[39m=\u001b[39m dd\u001b[39m.\u001b[39;49mread_csv(\u001b[39mf\u001b[39;49m\u001b[39m'\u001b[39;49m\u001b[39m{\u001b[39;49;00mdrive_path\u001b[39m}\u001b[39;49;00m\u001b[39mDP1610_MAASTRICHT1_\u001b[39;49m\u001b[39m{\u001b[39;49;00my\u001b[39m}\u001b[39;49;00m\u001b[39m.txt\u001b[39;49m\u001b[39m'\u001b[39;49m, usecols\u001b[39m=\u001b[39;49mcolumns, \n\u001b[1;32m      <a href='vscode-notebook-cell:/home/matias/repos/French_exporters/notebooks/Economic_Network_Analysis/01%20-%20Data%20Preprocessing%20and%20Aggregation.ipynb#W6sZmlsZQ%3D%3D?line=6'>7</a>\u001b[0m                      delimiter\u001b[39m=\u001b[39;49m\u001b[39m'\u001b[39;49m\u001b[39m;\u001b[39;49m\u001b[39m'\u001b[39;49m, header\u001b[39m=\u001b[39;49m\u001b[39mNone\u001b[39;49;00m, dtype\u001b[39m=\u001b[39;49mdtype, blocksize\u001b[39m=\u001b[39;49m\u001b[39m'\u001b[39;49m\u001b[39m100MB\u001b[39;49m\u001b[39m'\u001b[39;49m)\n\u001b[1;32m      <a href='vscode-notebook-cell:/home/matias/repos/French_exporters/notebooks/Economic_Network_Analysis/01%20-%20Data%20Preprocessing%20and%20Aggregation.ipynb#W6sZmlsZQ%3D%3D?line=7'>8</a>\u001b[0m     df\u001b[39m.\u001b[39mcolumns \u001b[39m=\u001b[39m [colnames[i] \u001b[39mfor\u001b[39;00m i \u001b[39min\u001b[39;00m columns]  \u001b[39m# Set the column names\u001b[39;00m\n\u001b[1;32m      <a href='vscode-notebook-cell:/home/matias/repos/French_exporters/notebooks/Economic_Network_Analysis/01%20-%20Data%20Preprocessing%20and%20Aggregation.ipynb#W6sZmlsZQ%3D%3D?line=8'>9</a>\u001b[0m     df_list\u001b[39m.\u001b[39mappend(df)\n",
      "File \u001b[0;32m~/anaconda3/envs/base2/lib/python3.11/site-packages/dask/backends.py:138\u001b[0m, in \u001b[0;36mCreationDispatch.register_inplace.<locals>.decorator.<locals>.wrapper\u001b[0;34m(*args, **kwargs)\u001b[0m\n\u001b[1;32m    136\u001b[0m     \u001b[39mreturn\u001b[39;00m func(\u001b[39m*\u001b[39margs, \u001b[39m*\u001b[39m\u001b[39m*\u001b[39mkwargs)\n\u001b[1;32m    137\u001b[0m \u001b[39mexcept\u001b[39;00m \u001b[39mException\u001b[39;00m \u001b[39mas\u001b[39;00m e:\n\u001b[0;32m--> 138\u001b[0m     \u001b[39mraise\u001b[39;00m \u001b[39mtype\u001b[39m(e)(\n\u001b[1;32m    139\u001b[0m         \u001b[39mf\u001b[39m\u001b[39m\"\u001b[39m\u001b[39mAn error occurred while calling the \u001b[39m\u001b[39m{\u001b[39;00mfuncname(func)\u001b[39m}\u001b[39;00m\u001b[39m \u001b[39m\u001b[39m\"\u001b[39m\n\u001b[1;32m    140\u001b[0m         \u001b[39mf\u001b[39m\u001b[39m\"\u001b[39m\u001b[39mmethod registered to the \u001b[39m\u001b[39m{\u001b[39;00m\u001b[39mself\u001b[39m\u001b[39m.\u001b[39mbackend\u001b[39m}\u001b[39;00m\u001b[39m backend.\u001b[39m\u001b[39m\\n\u001b[39;00m\u001b[39m\"\u001b[39m\n\u001b[1;32m    141\u001b[0m         \u001b[39mf\u001b[39m\u001b[39m\"\u001b[39m\u001b[39mOriginal Message: \u001b[39m\u001b[39m{\u001b[39;00me\u001b[39m}\u001b[39;00m\u001b[39m\"\u001b[39m\n\u001b[1;32m    142\u001b[0m     ) \u001b[39mfrom\u001b[39;00m \u001b[39me\u001b[39;00m\n",
      "\u001b[0;31mFileNotFoundError\u001b[0m: An error occurred while calling the read_csv method registered to the pandas backend.\nOriginal Message: [Errno 2] No such file or directory: '/media/matias/Elements/export_france/data/type1/DP1610_MAASTRICHT1_1997.txt'"
     ]
    }
   ],
   "source": [
    "\n",
    "# Example usage:\n",
    "columns_to_load = [0, 2, 3, 5, 7, 13]  # YEAR, FLUX, ID, CN ID 8, PYOD, VART\n",
    "data = get_data(columns_to_load, 1997, 1999)\n",
    "\n",
    "firm_sizes, buyer_seller_links = compute_firm_sizes_and_links(data)\n"
   ]
  },
  {
   "cell_type": "code",
   "execution_count": 4,
   "metadata": {},
   "outputs": [
    {
     "ename": "NameError",
     "evalue": "name 'firm_sizes' is not defined",
     "output_type": "error",
     "traceback": [
      "\u001b[0;31m---------------------------------------------------------------------------\u001b[0m",
      "\u001b[0;31mNameError\u001b[0m                                 Traceback (most recent call last)",
      "\u001b[1;32m/home/matias/repos/French_exporters/notebooks/Economic_Network_Analysis/01 - Data Preprocessing and Aggregation.ipynb Cell 4\u001b[0m line \u001b[0;36m2\n\u001b[1;32m      <a href='vscode-notebook-cell:/home/matias/repos/French_exporters/notebooks/Economic_Network_Analysis/01%20-%20Data%20Preprocessing%20and%20Aggregation.ipynb#W3sZmlsZQ%3D%3D?line=0'>1</a>\u001b[0m \u001b[39m# Save intermediate results for later use\u001b[39;00m\n\u001b[0;32m----> <a href='vscode-notebook-cell:/home/matias/repos/French_exporters/notebooks/Economic_Network_Analysis/01%20-%20Data%20Preprocessing%20and%20Aggregation.ipynb#W3sZmlsZQ%3D%3D?line=1'>2</a>\u001b[0m firm_sizes\u001b[39m.\u001b[39mto_parquet(\u001b[39mf\u001b[39m\u001b[39m'\u001b[39m\u001b[39m{\u001b[39;00msave_path\u001b[39m}\u001b[39;00m\u001b[39mfirm_sizes.parquet\u001b[39m\u001b[39m'\u001b[39m)\n\u001b[1;32m      <a href='vscode-notebook-cell:/home/matias/repos/French_exporters/notebooks/Economic_Network_Analysis/01%20-%20Data%20Preprocessing%20and%20Aggregation.ipynb#W3sZmlsZQ%3D%3D?line=2'>3</a>\u001b[0m buyer_seller_links\u001b[39m.\u001b[39mto_parquet(\u001b[39mf\u001b[39m\u001b[39m'\u001b[39m\u001b[39m{\u001b[39;00msave_path\u001b[39m}\u001b[39;00m\u001b[39mbuyer_seller_links.parquet\u001b[39m\u001b[39m'\u001b[39m)\n\u001b[1;32m      <a href='vscode-notebook-cell:/home/matias/repos/French_exporters/notebooks/Economic_Network_Analysis/01%20-%20Data%20Preprocessing%20and%20Aggregation.ipynb#W3sZmlsZQ%3D%3D?line=4'>5</a>\u001b[0m \u001b[39m# Save Dask dataframe as parquet for efficient access later on\u001b[39;00m\n",
      "\u001b[0;31mNameError\u001b[0m: name 'firm_sizes' is not defined"
     ]
    }
   ],
   "source": [
    "# Save intermediate results for later use\n",
    "firm_sizes.to_parquet(f'{save_path}firm_sizes.parquet')\n",
    "buyer_seller_links.to_parquet(f'{save_path}buyer_seller_links.parquet')\n",
    "\n",
    "# Save Dask dataframe as parquet for efficient access later on\n",
    "data.to_parquet(f'{save_path}full_dataset.parquet')\n"
   ]
  },
  {
   "cell_type": "code",
   "execution_count": null,
   "metadata": {},
   "outputs": [],
   "source": []
  }
 ],
 "metadata": {
  "kernelspec": {
   "display_name": "base2",
   "language": "python",
   "name": "python3"
  },
  "language_info": {
   "codemirror_mode": {
    "name": "ipython",
    "version": 3
   },
   "file_extension": ".py",
   "mimetype": "text/x-python",
   "name": "python",
   "nbconvert_exporter": "python",
   "pygments_lexer": "ipython3",
   "version": "3.11.3"
  }
 },
 "nbformat": 4,
 "nbformat_minor": 2
}
