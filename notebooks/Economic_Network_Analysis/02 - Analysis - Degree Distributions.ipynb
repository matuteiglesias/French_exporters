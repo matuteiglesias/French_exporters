{
 "cells": [
  {
   "cell_type": "code",
   "execution_count": 1,
   "metadata": {},
   "outputs": [],
   "source": [
    "import pandas as pd\n",
    "import matplotlib.pyplot as plt\n",
    "import seaborn as sns\n",
    "from numpy import log10, arange, histogram\n",
    "from dask.diagnostics import ProgressBar\n",
    "from dask.distributed import Client\n",
    "\n",
    "# Start a Dask client to manage the computation\n",
    "client = Client()\n",
    "\n",
    "# Set up the visualizations\n",
    "%matplotlib inline\n",
    "sns.set_style('whitegrid')\n"
   ]
  },
  {
   "cell_type": "code",
   "execution_count": 2,
   "metadata": {},
   "outputs": [
    {
     "ename": "FileNotFoundError",
     "evalue": "[Errno 2] No such file or directory: './../../data/processed/firm_sizes.csv'",
     "output_type": "error",
     "traceback": [
      "\u001b[0;31m---------------------------------------------------------------------------\u001b[0m",
      "\u001b[0;31mFileNotFoundError\u001b[0m                         Traceback (most recent call last)",
      "\u001b[1;32m/home/matias/repos/French_exporters/notebooks/Economic_Network_Analysis/02 - Analysis - Degree Distributions.ipynb Cell 2\u001b[0m line \u001b[0;36m6\n\u001b[1;32m      <a href='vscode-notebook-cell:/home/matias/repos/French_exporters/notebooks/Economic_Network_Analysis/02%20-%20Analysis%20-%20Degree%20Distributions.ipynb#W1sZmlsZQ%3D%3D?line=2'>3</a>\u001b[0m buyer_seller_links_path \u001b[39m=\u001b[39m \u001b[39m'\u001b[39m\u001b[39m./../../data/processed/buyer_seller_links.csv\u001b[39m\u001b[39m'\u001b[39m\n\u001b[1;32m      <a href='vscode-notebook-cell:/home/matias/repos/French_exporters/notebooks/Economic_Network_Analysis/02%20-%20Analysis%20-%20Degree%20Distributions.ipynb#W1sZmlsZQ%3D%3D?line=4'>5</a>\u001b[0m \u001b[39m# Load the data\u001b[39;00m\n\u001b[0;32m----> <a href='vscode-notebook-cell:/home/matias/repos/French_exporters/notebooks/Economic_Network_Analysis/02%20-%20Analysis%20-%20Degree%20Distributions.ipynb#W1sZmlsZQ%3D%3D?line=5'>6</a>\u001b[0m firm_sizes \u001b[39m=\u001b[39m pd\u001b[39m.\u001b[39;49mread_csv(firm_sizes_path)\n\u001b[1;32m      <a href='vscode-notebook-cell:/home/matias/repos/French_exporters/notebooks/Economic_Network_Analysis/02%20-%20Analysis%20-%20Degree%20Distributions.ipynb#W1sZmlsZQ%3D%3D?line=6'>7</a>\u001b[0m buyer_seller_links \u001b[39m=\u001b[39m pd\u001b[39m.\u001b[39mread_csv(buyer_seller_links_path)\n",
      "File \u001b[0;32m~/anaconda3/envs/base2/lib/python3.11/site-packages/pandas/io/parsers/readers.py:912\u001b[0m, in \u001b[0;36mread_csv\u001b[0;34m(filepath_or_buffer, sep, delimiter, header, names, index_col, usecols, dtype, engine, converters, true_values, false_values, skipinitialspace, skiprows, skipfooter, nrows, na_values, keep_default_na, na_filter, verbose, skip_blank_lines, parse_dates, infer_datetime_format, keep_date_col, date_parser, date_format, dayfirst, cache_dates, iterator, chunksize, compression, thousands, decimal, lineterminator, quotechar, quoting, doublequote, escapechar, comment, encoding, encoding_errors, dialect, on_bad_lines, delim_whitespace, low_memory, memory_map, float_precision, storage_options, dtype_backend)\u001b[0m\n\u001b[1;32m    899\u001b[0m kwds_defaults \u001b[39m=\u001b[39m _refine_defaults_read(\n\u001b[1;32m    900\u001b[0m     dialect,\n\u001b[1;32m    901\u001b[0m     delimiter,\n\u001b[0;32m   (...)\u001b[0m\n\u001b[1;32m    908\u001b[0m     dtype_backend\u001b[39m=\u001b[39mdtype_backend,\n\u001b[1;32m    909\u001b[0m )\n\u001b[1;32m    910\u001b[0m kwds\u001b[39m.\u001b[39mupdate(kwds_defaults)\n\u001b[0;32m--> 912\u001b[0m \u001b[39mreturn\u001b[39;00m _read(filepath_or_buffer, kwds)\n",
      "File \u001b[0;32m~/anaconda3/envs/base2/lib/python3.11/site-packages/pandas/io/parsers/readers.py:577\u001b[0m, in \u001b[0;36m_read\u001b[0;34m(filepath_or_buffer, kwds)\u001b[0m\n\u001b[1;32m    574\u001b[0m _validate_names(kwds\u001b[39m.\u001b[39mget(\u001b[39m\"\u001b[39m\u001b[39mnames\u001b[39m\u001b[39m\"\u001b[39m, \u001b[39mNone\u001b[39;00m))\n\u001b[1;32m    576\u001b[0m \u001b[39m# Create the parser.\u001b[39;00m\n\u001b[0;32m--> 577\u001b[0m parser \u001b[39m=\u001b[39m TextFileReader(filepath_or_buffer, \u001b[39m*\u001b[39;49m\u001b[39m*\u001b[39;49mkwds)\n\u001b[1;32m    579\u001b[0m \u001b[39mif\u001b[39;00m chunksize \u001b[39mor\u001b[39;00m iterator:\n\u001b[1;32m    580\u001b[0m     \u001b[39mreturn\u001b[39;00m parser\n",
      "File \u001b[0;32m~/anaconda3/envs/base2/lib/python3.11/site-packages/pandas/io/parsers/readers.py:1407\u001b[0m, in \u001b[0;36mTextFileReader.__init__\u001b[0;34m(self, f, engine, **kwds)\u001b[0m\n\u001b[1;32m   1404\u001b[0m     \u001b[39mself\u001b[39m\u001b[39m.\u001b[39moptions[\u001b[39m\"\u001b[39m\u001b[39mhas_index_names\u001b[39m\u001b[39m\"\u001b[39m] \u001b[39m=\u001b[39m kwds[\u001b[39m\"\u001b[39m\u001b[39mhas_index_names\u001b[39m\u001b[39m\"\u001b[39m]\n\u001b[1;32m   1406\u001b[0m \u001b[39mself\u001b[39m\u001b[39m.\u001b[39mhandles: IOHandles \u001b[39m|\u001b[39m \u001b[39mNone\u001b[39;00m \u001b[39m=\u001b[39m \u001b[39mNone\u001b[39;00m\n\u001b[0;32m-> 1407\u001b[0m \u001b[39mself\u001b[39m\u001b[39m.\u001b[39m_engine \u001b[39m=\u001b[39m \u001b[39mself\u001b[39;49m\u001b[39m.\u001b[39;49m_make_engine(f, \u001b[39mself\u001b[39;49m\u001b[39m.\u001b[39;49mengine)\n",
      "File \u001b[0;32m~/anaconda3/envs/base2/lib/python3.11/site-packages/pandas/io/parsers/readers.py:1661\u001b[0m, in \u001b[0;36mTextFileReader._make_engine\u001b[0;34m(self, f, engine)\u001b[0m\n\u001b[1;32m   1659\u001b[0m     \u001b[39mif\u001b[39;00m \u001b[39m\"\u001b[39m\u001b[39mb\u001b[39m\u001b[39m\"\u001b[39m \u001b[39mnot\u001b[39;00m \u001b[39min\u001b[39;00m mode:\n\u001b[1;32m   1660\u001b[0m         mode \u001b[39m+\u001b[39m\u001b[39m=\u001b[39m \u001b[39m\"\u001b[39m\u001b[39mb\u001b[39m\u001b[39m\"\u001b[39m\n\u001b[0;32m-> 1661\u001b[0m \u001b[39mself\u001b[39m\u001b[39m.\u001b[39mhandles \u001b[39m=\u001b[39m get_handle(\n\u001b[1;32m   1662\u001b[0m     f,\n\u001b[1;32m   1663\u001b[0m     mode,\n\u001b[1;32m   1664\u001b[0m     encoding\u001b[39m=\u001b[39;49m\u001b[39mself\u001b[39;49m\u001b[39m.\u001b[39;49moptions\u001b[39m.\u001b[39;49mget(\u001b[39m\"\u001b[39;49m\u001b[39mencoding\u001b[39;49m\u001b[39m\"\u001b[39;49m, \u001b[39mNone\u001b[39;49;00m),\n\u001b[1;32m   1665\u001b[0m     compression\u001b[39m=\u001b[39;49m\u001b[39mself\u001b[39;49m\u001b[39m.\u001b[39;49moptions\u001b[39m.\u001b[39;49mget(\u001b[39m\"\u001b[39;49m\u001b[39mcompression\u001b[39;49m\u001b[39m\"\u001b[39;49m, \u001b[39mNone\u001b[39;49;00m),\n\u001b[1;32m   1666\u001b[0m     memory_map\u001b[39m=\u001b[39;49m\u001b[39mself\u001b[39;49m\u001b[39m.\u001b[39;49moptions\u001b[39m.\u001b[39;49mget(\u001b[39m\"\u001b[39;49m\u001b[39mmemory_map\u001b[39;49m\u001b[39m\"\u001b[39;49m, \u001b[39mFalse\u001b[39;49;00m),\n\u001b[1;32m   1667\u001b[0m     is_text\u001b[39m=\u001b[39;49mis_text,\n\u001b[1;32m   1668\u001b[0m     errors\u001b[39m=\u001b[39;49m\u001b[39mself\u001b[39;49m\u001b[39m.\u001b[39;49moptions\u001b[39m.\u001b[39;49mget(\u001b[39m\"\u001b[39;49m\u001b[39mencoding_errors\u001b[39;49m\u001b[39m\"\u001b[39;49m, \u001b[39m\"\u001b[39;49m\u001b[39mstrict\u001b[39;49m\u001b[39m\"\u001b[39;49m),\n\u001b[1;32m   1669\u001b[0m     storage_options\u001b[39m=\u001b[39;49m\u001b[39mself\u001b[39;49m\u001b[39m.\u001b[39;49moptions\u001b[39m.\u001b[39;49mget(\u001b[39m\"\u001b[39;49m\u001b[39mstorage_options\u001b[39;49m\u001b[39m\"\u001b[39;49m, \u001b[39mNone\u001b[39;49;00m),\n\u001b[1;32m   1670\u001b[0m )\n\u001b[1;32m   1671\u001b[0m \u001b[39massert\u001b[39;00m \u001b[39mself\u001b[39m\u001b[39m.\u001b[39mhandles \u001b[39mis\u001b[39;00m \u001b[39mnot\u001b[39;00m \u001b[39mNone\u001b[39;00m\n\u001b[1;32m   1672\u001b[0m f \u001b[39m=\u001b[39m \u001b[39mself\u001b[39m\u001b[39m.\u001b[39mhandles\u001b[39m.\u001b[39mhandle\n",
      "File \u001b[0;32m~/anaconda3/envs/base2/lib/python3.11/site-packages/pandas/io/common.py:859\u001b[0m, in \u001b[0;36mget_handle\u001b[0;34m(path_or_buf, mode, encoding, compression, memory_map, is_text, errors, storage_options)\u001b[0m\n\u001b[1;32m    854\u001b[0m \u001b[39melif\u001b[39;00m \u001b[39misinstance\u001b[39m(handle, \u001b[39mstr\u001b[39m):\n\u001b[1;32m    855\u001b[0m     \u001b[39m# Check whether the filename is to be opened in binary mode.\u001b[39;00m\n\u001b[1;32m    856\u001b[0m     \u001b[39m# Binary mode does not support 'encoding' and 'newline'.\u001b[39;00m\n\u001b[1;32m    857\u001b[0m     \u001b[39mif\u001b[39;00m ioargs\u001b[39m.\u001b[39mencoding \u001b[39mand\u001b[39;00m \u001b[39m\"\u001b[39m\u001b[39mb\u001b[39m\u001b[39m\"\u001b[39m \u001b[39mnot\u001b[39;00m \u001b[39min\u001b[39;00m ioargs\u001b[39m.\u001b[39mmode:\n\u001b[1;32m    858\u001b[0m         \u001b[39m# Encoding\u001b[39;00m\n\u001b[0;32m--> 859\u001b[0m         handle \u001b[39m=\u001b[39m \u001b[39mopen\u001b[39;49m(\n\u001b[1;32m    860\u001b[0m             handle,\n\u001b[1;32m    861\u001b[0m             ioargs\u001b[39m.\u001b[39;49mmode,\n\u001b[1;32m    862\u001b[0m             encoding\u001b[39m=\u001b[39;49mioargs\u001b[39m.\u001b[39;49mencoding,\n\u001b[1;32m    863\u001b[0m             errors\u001b[39m=\u001b[39;49merrors,\n\u001b[1;32m    864\u001b[0m             newline\u001b[39m=\u001b[39;49m\u001b[39m\"\u001b[39;49m\u001b[39m\"\u001b[39;49m,\n\u001b[1;32m    865\u001b[0m         )\n\u001b[1;32m    866\u001b[0m     \u001b[39melse\u001b[39;00m:\n\u001b[1;32m    867\u001b[0m         \u001b[39m# Binary mode\u001b[39;00m\n\u001b[1;32m    868\u001b[0m         handle \u001b[39m=\u001b[39m \u001b[39mopen\u001b[39m(handle, ioargs\u001b[39m.\u001b[39mmode)\n",
      "\u001b[0;31mFileNotFoundError\u001b[0m: [Errno 2] No such file or directory: './../../data/processed/firm_sizes.csv'"
     ]
    }
   ],
   "source": [
    "# Assuming firm sizes and buyer-seller links were saved as CSV files\n",
    "firm_sizes_path = './../../data/processed/firm_sizes.csv'\n",
    "buyer_seller_links_path = './../../data/processed/buyer_seller_links.csv'\n",
    "\n",
    "# Load the data\n",
    "firm_sizes = pd.read_csv(firm_sizes_path)\n",
    "buyer_seller_links = pd.read_csv(buyer_seller_links_path)\n"
   ]
  },
  {
   "cell_type": "code",
   "execution_count": 3,
   "metadata": {},
   "outputs": [
    {
     "ename": "NameError",
     "evalue": "name 'buyer_seller_links' is not defined",
     "output_type": "error",
     "traceback": [
      "\u001b[0;31m---------------------------------------------------------------------------\u001b[0m",
      "\u001b[0;31mNameError\u001b[0m                                 Traceback (most recent call last)",
      "\u001b[1;32m/home/matias/repos/French_exporters/notebooks/Economic_Network_Analysis/02 - Analysis - Degree Distributions.ipynb Cell 3\u001b[0m line \u001b[0;36m1\n\u001b[1;32m      <a href='vscode-notebook-cell:/home/matias/repos/French_exporters/notebooks/Economic_Network_Analysis/02%20-%20Analysis%20-%20Degree%20Distributions.ipynb#W2sZmlsZQ%3D%3D?line=7'>8</a>\u001b[0m     \u001b[39mreturn\u001b[39;00m degree_counts\n\u001b[1;32m     <a href='vscode-notebook-cell:/home/matias/repos/French_exporters/notebooks/Economic_Network_Analysis/02%20-%20Analysis%20-%20Degree%20Distributions.ipynb#W2sZmlsZQ%3D%3D?line=9'>10</a>\u001b[0m \u001b[39m# Example usage for ID and VAT degrees\u001b[39;00m\n\u001b[0;32m---> <a href='vscode-notebook-cell:/home/matias/repos/French_exporters/notebooks/Economic_Network_Analysis/02%20-%20Analysis%20-%20Degree%20Distributions.ipynb#W2sZmlsZQ%3D%3D?line=10'>11</a>\u001b[0m id_degree_dist \u001b[39m=\u001b[39m compute_degree_distributions(buyer_seller_links, \u001b[39m'\u001b[39m\u001b[39mID\u001b[39m\u001b[39m'\u001b[39m, \u001b[39m2\u001b[39m)\n\u001b[1;32m     <a href='vscode-notebook-cell:/home/matias/repos/French_exporters/notebooks/Economic_Network_Analysis/02%20-%20Analysis%20-%20Degree%20Distributions.ipynb#W2sZmlsZQ%3D%3D?line=11'>12</a>\u001b[0m vat_degree_dist \u001b[39m=\u001b[39m compute_degree_distributions(buyer_seller_links, \u001b[39m'\u001b[39m\u001b[39mVAT\u001b[39m\u001b[39m'\u001b[39m, \u001b[39m2\u001b[39m)\n",
      "\u001b[0;31mNameError\u001b[0m: name 'buyer_seller_links' is not defined"
     ]
    }
   ],
   "source": [
    "def compute_degree_distributions(df, column, time_window):\n",
    "    \"\"\"\n",
    "    Compute the degree distributions for the given column over the specified time window.\n",
    "    \"\"\"\n",
    "    df['time_window'] = ((df['YEAR'] - df['YEAR'].min()) // time_window) * time_window\n",
    "    degree_counts = df.groupby(['time_window', column]).size().reset_index(name='counts')\n",
    "    degree_counts['log_counts'] = log10(degree_counts['counts'])\n",
    "    return degree_counts\n",
    "\n",
    "# Example usage for ID and VAT degrees\n",
    "id_degree_dist = compute_degree_distributions(buyer_seller_links, 'ID', 2)\n",
    "vat_degree_dist = compute_degree_distributions(buyer_seller_links, 'VAT', 2)\n"
   ]
  },
  {
   "cell_type": "code",
   "execution_count": 4,
   "metadata": {},
   "outputs": [
    {
     "ename": "NameError",
     "evalue": "name 'id_degree_dist' is not defined",
     "output_type": "error",
     "traceback": [
      "\u001b[0;31m---------------------------------------------------------------------------\u001b[0m",
      "\u001b[0;31mNameError\u001b[0m                                 Traceback (most recent call last)",
      "\u001b[1;32m/home/matias/repos/French_exporters/notebooks/Economic_Network_Analysis/02 - Analysis - Degree Distributions.ipynb Cell 4\u001b[0m line \u001b[0;36m2\n\u001b[1;32m      <a href='vscode-notebook-cell:/home/matias/repos/French_exporters/notebooks/Economic_Network_Analysis/02%20-%20Analysis%20-%20Degree%20Distributions.ipynb#W3sZmlsZQ%3D%3D?line=0'>1</a>\u001b[0m \u001b[39m# Save the degree distribution dataframes for future use\u001b[39;00m\n\u001b[0;32m----> <a href='vscode-notebook-cell:/home/matias/repos/French_exporters/notebooks/Economic_Network_Analysis/02%20-%20Analysis%20-%20Degree%20Distributions.ipynb#W3sZmlsZQ%3D%3D?line=1'>2</a>\u001b[0m id_degree_dist\u001b[39m.\u001b[39mto_csv(\u001b[39m'\u001b[39m\u001b[39m./../../data/analysis/id_degree_distribution.csv\u001b[39m\u001b[39m'\u001b[39m, index\u001b[39m=\u001b[39m\u001b[39mFalse\u001b[39;00m)\n\u001b[1;32m      <a href='vscode-notebook-cell:/home/matias/repos/French_exporters/notebooks/Economic_Network_Analysis/02%20-%20Analysis%20-%20Degree%20Distributions.ipynb#W3sZmlsZQ%3D%3D?line=2'>3</a>\u001b[0m vat_degree_dist\u001b[39m.\u001b[39mto_csv(\u001b[39m'\u001b[39m\u001b[39m./../../data/analysis/vat_degree_distribution.csv\u001b[39m\u001b[39m'\u001b[39m, index\u001b[39m=\u001b[39m\u001b[39mFalse\u001b[39;00m)\n\u001b[1;32m      <a href='vscode-notebook-cell:/home/matias/repos/French_exporters/notebooks/Economic_Network_Analysis/02%20-%20Analysis%20-%20Degree%20Distributions.ipynb#W3sZmlsZQ%3D%3D?line=4'>5</a>\u001b[0m \u001b[39m# Simple visualization of the degree distributions\u001b[39;00m\n",
      "\u001b[0;31mNameError\u001b[0m: name 'id_degree_dist' is not defined"
     ]
    }
   ],
   "source": [
    "# Save the degree distribution dataframes for future use\n",
    "id_degree_dist.to_csv('./../../data/analysis/id_degree_distribution.csv', index=False)\n",
    "vat_degree_dist.to_csv('./../../data/analysis/vat_degree_distribution.csv', index=False)\n",
    "\n",
    "# Simple visualization of the degree distributions\n",
    "def plot_degree_distribution(df, time_window_col='time_window', degree_col='ID', log_count_col='log_counts'):\n",
    "    plt.figure(figsize=(12, 6))\n",
    "    for period, group_df in df.groupby(time_window_col):\n",
    "        plt.plot(group_df[degree_col], group_df[log_count_col], marker='o', linestyle='', label=f'Period: {period}')\n",
    "    plt.xlabel(f'Log of {degree_col} Degree')\n",
    "    plt.ylabel('Log of Counts')\n",
    "    plt.legend()\n",
    "    plt.show()\n",
    "\n",
    "# Plotting the degree distributions\n",
    "plot_degree_distribution(id_degree_dist)\n",
    "plot_degree_distribution(vat_degree_dist)\n"
   ]
  },
  {
   "cell_type": "code",
   "execution_count": null,
   "metadata": {},
   "outputs": [],
   "source": []
  }
 ],
 "metadata": {
  "kernelspec": {
   "display_name": "base2",
   "language": "python",
   "name": "python3"
  },
  "language_info": {
   "codemirror_mode": {
    "name": "ipython",
    "version": 3
   },
   "file_extension": ".py",
   "mimetype": "text/x-python",
   "name": "python",
   "nbconvert_exporter": "python",
   "pygments_lexer": "ipython3",
   "version": "3.11.3"
  }
 },
 "nbformat": 4,
 "nbformat_minor": 2
}
