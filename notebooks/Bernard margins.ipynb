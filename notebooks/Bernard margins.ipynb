{
 "cells": [
  {
   "cell_type": "code",
   "execution_count": 1,
   "metadata": {
    "collapsed": true
   },
   "outputs": [],
   "source": [
    "#Import modules\n",
    "\n",
    "import pandas as pd\n",
    "# from IPython.display import display, HTML\n",
    "# from numpy import log10, nan, inf, random, clip, arange\n",
    "\n",
    "# path = './../export_france/data/type1/DP1610_MAASTRICHT1_1997_2013'\n",
    "\n",
    "# display(HTML(\"<style>.container { width:100% !important; }</style>\"))\n",
    "\n",
    "import matplotlib.pyplot as plt\n",
    "%matplotlib inline\n",
    "\n",
    "import dask.dataframe as dd\n",
    "from dask.diagnostics import ProgressBar\n",
    "\n",
    "from numpy import arange, log10\n",
    "\n",
    "from functions import chunk, agg, finalize\n",
    "tunique = dd.Aggregation('tunique', chunk, agg,finalize)\n",
    "first = dd.Aggregation('first', chunk, agg,finalize)"
   ]
  },
  {
   "cell_type": "code",
   "execution_count": 2,
   "metadata": {
    "collapsed": false
   },
   "outputs": [],
   "source": [
    "# dd.read_csv('2014-*.csv')\n",
    "\n",
    "# drive_path = './../export_france/data/type1/DP1610_MAASTRICHT1_1997_2013'\n",
    "drive_path = './../../../../../media/miglesia/Elements/export_france/data/type1/DP1610_MAASTRICHT1_1997_2013'\n",
    "\n",
    "n_bins = 20\n",
    "df_list = n_bins * [ 0 ]\n",
    "\n",
    "for dataset_i in range(n_bins):\n",
    "    df_list[dataset_i] = dd.read_csv(drive_path+'/samplings/YMxpb_size20'+str(dataset_i).zfill(2)+'.csv',\n",
    "                                    usecols = ['YEAR','ID','VAT','CN ID 8', 'VART_sum'])\n",
    "    \n",
    "    "
   ]
  },
  {
   "cell_type": "code",
   "execution_count": 3,
   "metadata": {
    "collapsed": false
   },
   "outputs": [],
   "source": [
    "data = dd.concat(df_list[8:])\n",
    "data = data.groupby(['YEAR','ID', 'VAT', 'CN ID 8'])['VART_sum'].sum().reset_index()"
   ]
  },
  {
   "cell_type": "code",
   "execution_count": 4,
   "metadata": {
    "collapsed": false
   },
   "outputs": [
    {
     "name": "stdout",
     "output_type": "stream",
     "text": [
      "[########################################] | 100% Completed |  1min 24.8s\n"
     ]
    }
   ],
   "source": [
    "with ProgressBar():\n",
    "    out = data.compute()\n",
    "\n",
    "data = dd.from_pandas(out, npartitions = 500)"
   ]
  },
  {
   "cell_type": "code",
   "execution_count": null,
   "metadata": {
    "collapsed": false
   },
   "outputs": [],
   "source": [
    "df = data.compute()"
   ]
  },
  {
   "cell_type": "code",
   "execution_count": null,
   "metadata": {
    "collapsed": false
   },
   "outputs": [],
   "source": [
    "grouped = df.groupby(['YEAR', 'ID'])\n",
    "margins_df = grouped.agg({'VAT': 'nunique', 'CN ID 8': 'nunique'}).add_suffix('_nunique')\n",
    "\n",
    "margins_df['density'] = grouped.count().iloc[:, 1] / (margins_df['CN ID 8_nunique']*margins_df['VAT_nunique'])\n",
    "margins_df['avg_x'] = grouped['VART_sum'].mean()\n",
    "margins_df['sum_x'] = grouped['VART_sum'].sum()"
   ]
  },
  {
   "cell_type": "code",
   "execution_count": null,
   "metadata": {
    "collapsed": false
   },
   "outputs": [],
   "source": [
    "margins_table = margins_df.unstack().swaplevel(axis = 1).sort_index(axis = 1)\n",
    "margins_table"
   ]
  },
  {
   "cell_type": "code",
   "execution_count": null,
   "metadata": {
    "collapsed": false
   },
   "outputs": [],
   "source": [
    "log_growth_margins_table = log10(margins_table).diff()\n",
    "log_growth_margins_table"
   ]
  },
  {
   "cell_type": "code",
   "execution_count": null,
   "metadata": {
    "collapsed": false
   },
   "outputs": [],
   "source": [
    "# pd.DataFrame(log_growth_margins_table.mean()).unstack().sort_values(by = (0, 'sum_x'))\n",
    "pd.DataFrame(log_growth_margins_table.mean()).reset_index().groupby('level_1')[0].describe()"
   ]
  },
  {
   "cell_type": "code",
   "execution_count": null,
   "metadata": {
    "collapsed": false
   },
   "outputs": [],
   "source": [
    "# firm_sizes = log10(data.groupby(['ID', 'YEAR'])['VART_sum'].sum().reset_index().groupby('ID')[['VART_sum']].mean().compute())"
   ]
  }
 ],
 "metadata": {
  "kernelspec": {
   "display_name": "Python 2",
   "language": "python",
   "name": "python2"
  },
  "language_info": {
   "codemirror_mode": {
    "name": "ipython",
    "version": 2
   },
   "file_extension": ".py",
   "mimetype": "text/x-python",
   "name": "python",
   "nbconvert_exporter": "python",
   "pygments_lexer": "ipython2",
   "version": "2.7.13"
  }
 },
 "nbformat": 4,
 "nbformat_minor": 2
}
