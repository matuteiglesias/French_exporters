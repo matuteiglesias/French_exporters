{
 "cells": [
  {
   "cell_type": "markdown",
   "metadata": {},
   "source": [
    "### Set up"
   ]
  },
  {
   "cell_type": "code",
   "execution_count": 1,
   "metadata": {},
   "outputs": [
    {
     "data": {
      "text/html": [
       "<style>.container { width:100% !important; }</style>"
      ],
      "text/plain": [
       "<IPython.core.display.HTML object>"
      ]
     },
     "metadata": {},
     "output_type": "display_data"
    }
   ],
   "source": [
    "#Import modules\n",
    "\n",
    "import pandas as pd\n",
    "pd.options.display.max_columns = 99\n",
    "from IPython.core.display import display, HTML\n",
    "display(HTML(\"<style>.container { width:100% !important; }</style>\"))\n",
    "\n",
    "import dask.dataframe as dd\n",
    "from dask.diagnostics import ProgressBar\n",
    "\n",
    "# from numpy import arange, log10\n",
    "\n",
    "from functions import chunk, agg, finalize\n",
    "tunique = dd.Aggregation('tunique', chunk, agg,finalize)\n",
    "first = dd.Aggregation('first', chunk, agg,finalize)"
   ]
  },
  {
   "cell_type": "markdown",
   "metadata": {},
   "source": [
    "## Sourcing info\n",
    "### Arrange data"
   ]
  },
  {
   "cell_type": "code",
   "execution_count": 3,
   "metadata": {},
   "outputs": [
    {
     "name": "stdout",
     "output_type": "stream",
     "text": [
      "[########################################] | 100% Completed |  1min 22.0s\n"
     ]
    }
   ],
   "source": [
    "drive_path = './../../../../../../media/miglesia/Elements/export_france/data/type1/DP1610_MAASTRICHT1_1997_2013'\n",
    "\n",
    "colnames = [u'YEAR', u'MONTH', u'FLUX', u'ID', u'DEPT', u'CN ID 8', u'CPA6',\n",
    "       u'PYOD', u'PAYP', u'VAT', u'PRIFAC', u'DEVFAC', u'VFTE', u'VART', u'D_MASSE', u'MASSE', u'USUP', u'USUP_MT']\n",
    "\n",
    "colname_no = dict(zip(colnames, range(18)))\n",
    "# columns = [u'YEAR', u'MONTH', u'FLUX', u'ID', u'VART']\n",
    "columns = [u'YEAR', u'MONTH', u'FLUX', u'ID', u'CN ID 8', 'PYOD', u'VART']\n",
    "\n",
    "df_list = []\n",
    "\n",
    "for y in range(2007, 2014):\n",
    "    df_list += [dd.read_table(drive_path+'/DP1610_MAASTRICHT1_'+str(y)+'.txt', \n",
    "            usecols = map(colname_no.get, columns),\n",
    "            delimiter = ';', header = None, dtype = {9: 'object'})]\n",
    "\n",
    "data = dd.concat(df_list)\n",
    "data.columns = columns\n",
    "data['IMPORT'] = data['FLUX'] % 2\n",
    "data['QUARTER'] = (data['MONTH'] // 3) + 1\n",
    "\n",
    "CN_full = pd.read_csv('./../data/CN_full.csv', encoding = 'utf-8')\n",
    "data = data.merge(CN_full[['CN ID 8', 'CN ID 4', 'CN label 4']])\n",
    "\n",
    "sourcing_strategies = data.loc[data.IMPORT == 1].groupby(['YEAR', 'QUARTER', 'ID', 'CN ID 4', 'PYOD'])[['VART']].sum()\n",
    "\n",
    "## Compute and save\n",
    "\n",
    "with ProgressBar():\n",
    "    out = sourcing_strategies.compute()\n",
    "\n",
    "out.to_csv('./../data/sourcing_strategies.csv')"
   ]
  },
  {
   "cell_type": "markdown",
   "metadata": {},
   "source": [
    "### Load data directly"
   ]
  },
  {
   "cell_type": "code",
   "execution_count": null,
   "metadata": {},
   "outputs": [],
   "source": [
    "out = pd.read_csv('./../data/sourcing_strategies.csv')\n",
    "out_ri = out.reset_index()\n",
    "# product_count = out_ri.groupby('ID')[['CN ID 4']].nunique()\n",
    "sources_count = out_ri.groupby('ID')[['PYOD']].nunique()\n",
    "multisourcing_firms = sources_count[sources_count['PYOD'] > 1].index\n",
    "df = out_ri.loc[out_ri.ID.isin(multisourcing_firms)]"
   ]
  },
  {
   "cell_type": "code",
   "execution_count": null,
   "metadata": {
    "scrolled": false
   },
   "outputs": [],
   "source": [
    "len(out_ri)"
   ]
  },
  {
   "cell_type": "markdown",
   "metadata": {},
   "source": [
    "### Show some examples of firm sourcing strategies in time"
   ]
  },
  {
   "cell_type": "code",
   "execution_count": null,
   "metadata": {
    "scrolled": false
   },
   "outputs": [],
   "source": [
    "\n",
    "# sample_ids = df.sample(10)['ID'].values\n",
    "# for id_ in sample_ids:\n",
    "#     df_ID = df.loc[df.ID == id_]\n",
    "    \n",
    "#     by_product = df_ID.groupby('CN ID 4')['VART'].sum().sort_values(ascending = False)\n",
    "#     by_product/=by_product.sum()\n",
    "#     main_prods = by_product[by_product.cumsum() < .99].index\n",
    "#     df_ID_mp = df_ID.loc[df_ID['CN ID 4'].isin(main_prods)]\n",
    "    \n",
    "#     table = df_ID_mp.set_index([u'CN ID 4', u'PYOD',u'MONTH', u'YEAR'])['VART'].unstack([-1, -2]).fillna(0)\n",
    "#     table[('min','')] = 0; table[('max','')] = table.max().max()\n",
    "\n",
    "#     display(CN_full.set_index('CN ID 4')[['CN label 4']].drop_duplicates().loc[df_ID_mp['CN ID 4'].unique()].sort_index())\n",
    "\n",
    "#     display(table.T.style.bar(color='#d65f5f'))"
   ]
  },
  {
   "cell_type": "code",
   "execution_count": null,
   "metadata": {},
   "outputs": [],
   "source": []
  }
 ],
 "metadata": {
  "kernelspec": {
   "display_name": "Python 2",
   "language": "python",
   "name": "python2"
  },
  "language_info": {
   "codemirror_mode": {
    "name": "ipython",
    "version": 2
   },
   "file_extension": ".py",
   "mimetype": "text/x-python",
   "name": "python",
   "nbconvert_exporter": "python",
   "pygments_lexer": "ipython2",
   "version": "2.7.13"
  }
 },
 "nbformat": 4,
 "nbformat_minor": 2
}
