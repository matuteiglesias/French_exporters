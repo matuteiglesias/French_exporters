{
 "cells": [
  {
   "cell_type": "markdown",
   "metadata": {
    "collapsed": true
   },
   "source": [
    "# Intensive and extensive margins (from monthly data)"
   ]
  },
  {
   "cell_type": "code",
   "execution_count": 1,
   "metadata": {
    "collapsed": true
   },
   "outputs": [],
   "source": [
    "# This notebook adds up growth in exports and imports of french firms, counting separately growth associated to a firm on its first 12 months of activity."
   ]
  },
  {
   "cell_type": "code",
   "execution_count": 2,
   "metadata": {
    "collapsed": false
   },
   "outputs": [
    {
     "data": {
      "text/html": [
       "<style>.container { width:100% !important; }</style>"
      ],
      "text/plain": [
       "<IPython.core.display.HTML object>"
      ]
     },
     "metadata": {},
     "output_type": "display_data"
    }
   ],
   "source": [
    "#Import modules\n",
    "\n",
    "import pandas as pd\n",
    "from IPython.display import display, HTML\n",
    "from numpy import log10, nan, inf, random, clip, arange\n",
    "\n",
    "display(HTML(\"<style>.container { width:100% !important; }</style>\"))\n",
    "\n",
    "import matplotlib.pyplot as plt\n",
    "%matplotlib inline"
   ]
  },
  {
   "cell_type": "code",
   "execution_count": 3,
   "metadata": {
    "collapsed": false
   },
   "outputs": [],
   "source": [
    "# Sampling of firms with size around 1M EUR (size is trade volume)\n",
    "path1 = './../../../../../media/miglesia/Elements/export_france/data/type1/DP1610_MAASTRICHT1_1997_2013'\n",
    "\n",
    "df = pd.read_csv(path1+'/samplings/firm_sample_YMmxp_02_05_nmax.csv')\n"
   ]
  },
  {
   "cell_type": "code",
   "execution_count": 4,
   "metadata": {
    "collapsed": false,
    "scrolled": true
   },
   "outputs": [
    {
     "data": {
      "text/html": [
       "<div>\n",
       "<style scoped>\n",
       "    .dataframe tbody tr th:only-of-type {\n",
       "        vertical-align: middle;\n",
       "    }\n",
       "\n",
       "    .dataframe tbody tr th {\n",
       "        vertical-align: top;\n",
       "    }\n",
       "\n",
       "    .dataframe thead th {\n",
       "        text-align: right;\n",
       "    }\n",
       "</style>\n",
       "<table border=\"1\" class=\"dataframe\">\n",
       "  <thead>\n",
       "    <tr style=\"text-align: right;\">\n",
       "      <th></th>\n",
       "      <th>ID</th>\n",
       "      <th>380725473</th>\n",
       "      <th>409876083</th>\n",
       "      <th>408479806</th>\n",
       "      <th>316879030</th>\n",
       "      <th>572029163</th>\n",
       "    </tr>\n",
       "    <tr>\n",
       "      <th>YEAR</th>\n",
       "      <th>MONTH</th>\n",
       "      <th></th>\n",
       "      <th></th>\n",
       "      <th></th>\n",
       "      <th></th>\n",
       "      <th></th>\n",
       "    </tr>\n",
       "  </thead>\n",
       "  <tbody>\n",
       "    <tr>\n",
       "      <th rowspan=\"12\" valign=\"top\">2002</th>\n",
       "      <th>1</th>\n",
       "      <td>NaN</td>\n",
       "      <td>NaN</td>\n",
       "      <td>NaN</td>\n",
       "      <td>NaN</td>\n",
       "      <td>112570.0</td>\n",
       "    </tr>\n",
       "    <tr>\n",
       "      <th>2</th>\n",
       "      <td>NaN</td>\n",
       "      <td>NaN</td>\n",
       "      <td>NaN</td>\n",
       "      <td>NaN</td>\n",
       "      <td>38191.0</td>\n",
       "    </tr>\n",
       "    <tr>\n",
       "      <th>3</th>\n",
       "      <td>NaN</td>\n",
       "      <td>NaN</td>\n",
       "      <td>3147.0</td>\n",
       "      <td>NaN</td>\n",
       "      <td>164117.0</td>\n",
       "    </tr>\n",
       "    <tr>\n",
       "      <th>4</th>\n",
       "      <td>NaN</td>\n",
       "      <td>NaN</td>\n",
       "      <td>NaN</td>\n",
       "      <td>NaN</td>\n",
       "      <td>182731.0</td>\n",
       "    </tr>\n",
       "    <tr>\n",
       "      <th>5</th>\n",
       "      <td>NaN</td>\n",
       "      <td>NaN</td>\n",
       "      <td>NaN</td>\n",
       "      <td>NaN</td>\n",
       "      <td>101676.0</td>\n",
       "    </tr>\n",
       "    <tr>\n",
       "      <th>6</th>\n",
       "      <td>11260.0</td>\n",
       "      <td>NaN</td>\n",
       "      <td>NaN</td>\n",
       "      <td>NaN</td>\n",
       "      <td>14285.0</td>\n",
       "    </tr>\n",
       "    <tr>\n",
       "      <th>7</th>\n",
       "      <td>NaN</td>\n",
       "      <td>NaN</td>\n",
       "      <td>NaN</td>\n",
       "      <td>NaN</td>\n",
       "      <td>80799.0</td>\n",
       "    </tr>\n",
       "    <tr>\n",
       "      <th>8</th>\n",
       "      <td>NaN</td>\n",
       "      <td>NaN</td>\n",
       "      <td>NaN</td>\n",
       "      <td>2030.0</td>\n",
       "      <td>79879.0</td>\n",
       "    </tr>\n",
       "    <tr>\n",
       "      <th>9</th>\n",
       "      <td>NaN</td>\n",
       "      <td>NaN</td>\n",
       "      <td>NaN</td>\n",
       "      <td>NaN</td>\n",
       "      <td>34927.0</td>\n",
       "    </tr>\n",
       "    <tr>\n",
       "      <th>10</th>\n",
       "      <td>NaN</td>\n",
       "      <td>NaN</td>\n",
       "      <td>NaN</td>\n",
       "      <td>NaN</td>\n",
       "      <td>39142.0</td>\n",
       "    </tr>\n",
       "    <tr>\n",
       "      <th>11</th>\n",
       "      <td>NaN</td>\n",
       "      <td>NaN</td>\n",
       "      <td>NaN</td>\n",
       "      <td>NaN</td>\n",
       "      <td>27678.0</td>\n",
       "    </tr>\n",
       "    <tr>\n",
       "      <th>12</th>\n",
       "      <td>NaN</td>\n",
       "      <td>NaN</td>\n",
       "      <td>NaN</td>\n",
       "      <td>NaN</td>\n",
       "      <td>138967.0</td>\n",
       "    </tr>\n",
       "    <tr>\n",
       "      <th rowspan=\"12\" valign=\"top\">2003</th>\n",
       "      <th>1</th>\n",
       "      <td>NaN</td>\n",
       "      <td>NaN</td>\n",
       "      <td>NaN</td>\n",
       "      <td>NaN</td>\n",
       "      <td>44663.0</td>\n",
       "    </tr>\n",
       "    <tr>\n",
       "      <th>2</th>\n",
       "      <td>NaN</td>\n",
       "      <td>NaN</td>\n",
       "      <td>NaN</td>\n",
       "      <td>NaN</td>\n",
       "      <td>137640.0</td>\n",
       "    </tr>\n",
       "    <tr>\n",
       "      <th>3</th>\n",
       "      <td>NaN</td>\n",
       "      <td>NaN</td>\n",
       "      <td>NaN</td>\n",
       "      <td>NaN</td>\n",
       "      <td>68699.0</td>\n",
       "    </tr>\n",
       "    <tr>\n",
       "      <th>4</th>\n",
       "      <td>NaN</td>\n",
       "      <td>NaN</td>\n",
       "      <td>NaN</td>\n",
       "      <td>NaN</td>\n",
       "      <td>111401.0</td>\n",
       "    </tr>\n",
       "    <tr>\n",
       "      <th>5</th>\n",
       "      <td>NaN</td>\n",
       "      <td>NaN</td>\n",
       "      <td>NaN</td>\n",
       "      <td>NaN</td>\n",
       "      <td>60893.0</td>\n",
       "    </tr>\n",
       "    <tr>\n",
       "      <th>6</th>\n",
       "      <td>NaN</td>\n",
       "      <td>NaN</td>\n",
       "      <td>NaN</td>\n",
       "      <td>NaN</td>\n",
       "      <td>210182.0</td>\n",
       "    </tr>\n",
       "    <tr>\n",
       "      <th>7</th>\n",
       "      <td>NaN</td>\n",
       "      <td>NaN</td>\n",
       "      <td>NaN</td>\n",
       "      <td>NaN</td>\n",
       "      <td>221605.0</td>\n",
       "    </tr>\n",
       "    <tr>\n",
       "      <th>8</th>\n",
       "      <td>NaN</td>\n",
       "      <td>NaN</td>\n",
       "      <td>NaN</td>\n",
       "      <td>NaN</td>\n",
       "      <td>32802.0</td>\n",
       "    </tr>\n",
       "    <tr>\n",
       "      <th>9</th>\n",
       "      <td>NaN</td>\n",
       "      <td>NaN</td>\n",
       "      <td>NaN</td>\n",
       "      <td>NaN</td>\n",
       "      <td>208981.0</td>\n",
       "    </tr>\n",
       "    <tr>\n",
       "      <th>10</th>\n",
       "      <td>NaN</td>\n",
       "      <td>NaN</td>\n",
       "      <td>NaN</td>\n",
       "      <td>NaN</td>\n",
       "      <td>35393.0</td>\n",
       "    </tr>\n",
       "    <tr>\n",
       "      <th>11</th>\n",
       "      <td>NaN</td>\n",
       "      <td>NaN</td>\n",
       "      <td>NaN</td>\n",
       "      <td>NaN</td>\n",
       "      <td>82978.0</td>\n",
       "    </tr>\n",
       "    <tr>\n",
       "      <th>12</th>\n",
       "      <td>NaN</td>\n",
       "      <td>NaN</td>\n",
       "      <td>NaN</td>\n",
       "      <td>NaN</td>\n",
       "      <td>195515.0</td>\n",
       "    </tr>\n",
       "    <tr>\n",
       "      <th rowspan=\"12\" valign=\"top\">2004</th>\n",
       "      <th>1</th>\n",
       "      <td>NaN</td>\n",
       "      <td>NaN</td>\n",
       "      <td>NaN</td>\n",
       "      <td>NaN</td>\n",
       "      <td>98855.0</td>\n",
       "    </tr>\n",
       "    <tr>\n",
       "      <th>2</th>\n",
       "      <td>NaN</td>\n",
       "      <td>NaN</td>\n",
       "      <td>NaN</td>\n",
       "      <td>NaN</td>\n",
       "      <td>107455.0</td>\n",
       "    </tr>\n",
       "    <tr>\n",
       "      <th>3</th>\n",
       "      <td>NaN</td>\n",
       "      <td>NaN</td>\n",
       "      <td>NaN</td>\n",
       "      <td>NaN</td>\n",
       "      <td>146810.0</td>\n",
       "    </tr>\n",
       "    <tr>\n",
       "      <th>4</th>\n",
       "      <td>NaN</td>\n",
       "      <td>4000.0</td>\n",
       "      <td>NaN</td>\n",
       "      <td>NaN</td>\n",
       "      <td>91940.0</td>\n",
       "    </tr>\n",
       "    <tr>\n",
       "      <th>5</th>\n",
       "      <td>NaN</td>\n",
       "      <td>NaN</td>\n",
       "      <td>NaN</td>\n",
       "      <td>NaN</td>\n",
       "      <td>67641.0</td>\n",
       "    </tr>\n",
       "    <tr>\n",
       "      <th>6</th>\n",
       "      <td>NaN</td>\n",
       "      <td>13470.0</td>\n",
       "      <td>NaN</td>\n",
       "      <td>NaN</td>\n",
       "      <td>225139.0</td>\n",
       "    </tr>\n",
       "    <tr>\n",
       "      <th>7</th>\n",
       "      <td>NaN</td>\n",
       "      <td>4400.0</td>\n",
       "      <td>NaN</td>\n",
       "      <td>NaN</td>\n",
       "      <td>234466.0</td>\n",
       "    </tr>\n",
       "    <tr>\n",
       "      <th>8</th>\n",
       "      <td>NaN</td>\n",
       "      <td>NaN</td>\n",
       "      <td>NaN</td>\n",
       "      <td>NaN</td>\n",
       "      <td>20067.0</td>\n",
       "    </tr>\n",
       "    <tr>\n",
       "      <th>9</th>\n",
       "      <td>NaN</td>\n",
       "      <td>NaN</td>\n",
       "      <td>NaN</td>\n",
       "      <td>NaN</td>\n",
       "      <td>112351.0</td>\n",
       "    </tr>\n",
       "    <tr>\n",
       "      <th>10</th>\n",
       "      <td>NaN</td>\n",
       "      <td>NaN</td>\n",
       "      <td>NaN</td>\n",
       "      <td>NaN</td>\n",
       "      <td>106972.0</td>\n",
       "    </tr>\n",
       "    <tr>\n",
       "      <th>11</th>\n",
       "      <td>NaN</td>\n",
       "      <td>NaN</td>\n",
       "      <td>NaN</td>\n",
       "      <td>NaN</td>\n",
       "      <td>130628.0</td>\n",
       "    </tr>\n",
       "    <tr>\n",
       "      <th>12</th>\n",
       "      <td>NaN</td>\n",
       "      <td>NaN</td>\n",
       "      <td>NaN</td>\n",
       "      <td>NaN</td>\n",
       "      <td>101168.0</td>\n",
       "    </tr>\n",
       "    <tr>\n",
       "      <th rowspan=\"12\" valign=\"top\">2005</th>\n",
       "      <th>1</th>\n",
       "      <td>NaN</td>\n",
       "      <td>NaN</td>\n",
       "      <td>NaN</td>\n",
       "      <td>NaN</td>\n",
       "      <td>254521.0</td>\n",
       "    </tr>\n",
       "    <tr>\n",
       "      <th>2</th>\n",
       "      <td>NaN</td>\n",
       "      <td>NaN</td>\n",
       "      <td>NaN</td>\n",
       "      <td>NaN</td>\n",
       "      <td>196531.0</td>\n",
       "    </tr>\n",
       "    <tr>\n",
       "      <th>3</th>\n",
       "      <td>NaN</td>\n",
       "      <td>NaN</td>\n",
       "      <td>NaN</td>\n",
       "      <td>NaN</td>\n",
       "      <td>108802.0</td>\n",
       "    </tr>\n",
       "    <tr>\n",
       "      <th>4</th>\n",
       "      <td>NaN</td>\n",
       "      <td>NaN</td>\n",
       "      <td>NaN</td>\n",
       "      <td>NaN</td>\n",
       "      <td>238679.0</td>\n",
       "    </tr>\n",
       "    <tr>\n",
       "      <th>5</th>\n",
       "      <td>NaN</td>\n",
       "      <td>NaN</td>\n",
       "      <td>NaN</td>\n",
       "      <td>NaN</td>\n",
       "      <td>167434.0</td>\n",
       "    </tr>\n",
       "    <tr>\n",
       "      <th>6</th>\n",
       "      <td>NaN</td>\n",
       "      <td>NaN</td>\n",
       "      <td>NaN</td>\n",
       "      <td>NaN</td>\n",
       "      <td>192864.0</td>\n",
       "    </tr>\n",
       "    <tr>\n",
       "      <th>7</th>\n",
       "      <td>NaN</td>\n",
       "      <td>NaN</td>\n",
       "      <td>NaN</td>\n",
       "      <td>NaN</td>\n",
       "      <td>243917.0</td>\n",
       "    </tr>\n",
       "    <tr>\n",
       "      <th>8</th>\n",
       "      <td>NaN</td>\n",
       "      <td>NaN</td>\n",
       "      <td>NaN</td>\n",
       "      <td>NaN</td>\n",
       "      <td>55252.0</td>\n",
       "    </tr>\n",
       "    <tr>\n",
       "      <th>9</th>\n",
       "      <td>NaN</td>\n",
       "      <td>NaN</td>\n",
       "      <td>NaN</td>\n",
       "      <td>NaN</td>\n",
       "      <td>191470.0</td>\n",
       "    </tr>\n",
       "    <tr>\n",
       "      <th>10</th>\n",
       "      <td>NaN</td>\n",
       "      <td>NaN</td>\n",
       "      <td>NaN</td>\n",
       "      <td>NaN</td>\n",
       "      <td>179816.0</td>\n",
       "    </tr>\n",
       "    <tr>\n",
       "      <th>11</th>\n",
       "      <td>NaN</td>\n",
       "      <td>NaN</td>\n",
       "      <td>NaN</td>\n",
       "      <td>NaN</td>\n",
       "      <td>154467.0</td>\n",
       "    </tr>\n",
       "    <tr>\n",
       "      <th>12</th>\n",
       "      <td>NaN</td>\n",
       "      <td>NaN</td>\n",
       "      <td>NaN</td>\n",
       "      <td>NaN</td>\n",
       "      <td>298235.0</td>\n",
       "    </tr>\n",
       "  </tbody>\n",
       "</table>\n",
       "</div>"
      ],
      "text/plain": [
       "ID          380725473  409876083  408479806  316879030  572029163\n",
       "YEAR MONTH                                                       \n",
       "2002 1            NaN        NaN        NaN        NaN   112570.0\n",
       "     2            NaN        NaN        NaN        NaN    38191.0\n",
       "     3            NaN        NaN     3147.0        NaN   164117.0\n",
       "     4            NaN        NaN        NaN        NaN   182731.0\n",
       "     5            NaN        NaN        NaN        NaN   101676.0\n",
       "     6        11260.0        NaN        NaN        NaN    14285.0\n",
       "     7            NaN        NaN        NaN        NaN    80799.0\n",
       "     8            NaN        NaN        NaN     2030.0    79879.0\n",
       "     9            NaN        NaN        NaN        NaN    34927.0\n",
       "     10           NaN        NaN        NaN        NaN    39142.0\n",
       "     11           NaN        NaN        NaN        NaN    27678.0\n",
       "     12           NaN        NaN        NaN        NaN   138967.0\n",
       "2003 1            NaN        NaN        NaN        NaN    44663.0\n",
       "     2            NaN        NaN        NaN        NaN   137640.0\n",
       "     3            NaN        NaN        NaN        NaN    68699.0\n",
       "     4            NaN        NaN        NaN        NaN   111401.0\n",
       "     5            NaN        NaN        NaN        NaN    60893.0\n",
       "     6            NaN        NaN        NaN        NaN   210182.0\n",
       "     7            NaN        NaN        NaN        NaN   221605.0\n",
       "     8            NaN        NaN        NaN        NaN    32802.0\n",
       "     9            NaN        NaN        NaN        NaN   208981.0\n",
       "     10           NaN        NaN        NaN        NaN    35393.0\n",
       "     11           NaN        NaN        NaN        NaN    82978.0\n",
       "     12           NaN        NaN        NaN        NaN   195515.0\n",
       "2004 1            NaN        NaN        NaN        NaN    98855.0\n",
       "     2            NaN        NaN        NaN        NaN   107455.0\n",
       "     3            NaN        NaN        NaN        NaN   146810.0\n",
       "     4            NaN     4000.0        NaN        NaN    91940.0\n",
       "     5            NaN        NaN        NaN        NaN    67641.0\n",
       "     6            NaN    13470.0        NaN        NaN   225139.0\n",
       "     7            NaN     4400.0        NaN        NaN   234466.0\n",
       "     8            NaN        NaN        NaN        NaN    20067.0\n",
       "     9            NaN        NaN        NaN        NaN   112351.0\n",
       "     10           NaN        NaN        NaN        NaN   106972.0\n",
       "     11           NaN        NaN        NaN        NaN   130628.0\n",
       "     12           NaN        NaN        NaN        NaN   101168.0\n",
       "2005 1            NaN        NaN        NaN        NaN   254521.0\n",
       "     2            NaN        NaN        NaN        NaN   196531.0\n",
       "     3            NaN        NaN        NaN        NaN   108802.0\n",
       "     4            NaN        NaN        NaN        NaN   238679.0\n",
       "     5            NaN        NaN        NaN        NaN   167434.0\n",
       "     6            NaN        NaN        NaN        NaN   192864.0\n",
       "     7            NaN        NaN        NaN        NaN   243917.0\n",
       "     8            NaN        NaN        NaN        NaN    55252.0\n",
       "     9            NaN        NaN        NaN        NaN   191470.0\n",
       "     10           NaN        NaN        NaN        NaN   179816.0\n",
       "     11           NaN        NaN        NaN        NaN   154467.0\n",
       "     12           NaN        NaN        NaN        NaN   298235.0"
      ]
     },
     "execution_count": 4,
     "metadata": {},
     "output_type": "execute_result"
    }
   ],
   "source": [
    "df_table = df.loc[df.IMPORT == 0].groupby(['YEAR', 'MONTH', 'ID'])[['VART_sum']].sum().unstack()\n",
    "df_table.columns = df_table.columns.droplevel(0)\n",
    "\n",
    "# sample data. Monthly exports, one column for each firm.\n",
    "df_table.sample(5, axis = 1)"
   ]
  },
  {
   "cell_type": "markdown",
   "metadata": {},
   "source": [
    "### Example: Exporter (Importer) size distribution along time"
   ]
  },
  {
   "cell_type": "code",
   "execution_count": 5,
   "metadata": {
    "collapsed": false
   },
   "outputs": [],
   "source": [
    "def moving_avg(df_table, n = 12):\n",
    "    \"\"\"\n",
    "    df_table: DataFrame,\n",
    "        columns: Firm IDs\n",
    "        rows: (YEAR, MONTH)\n",
    "    \"\"\"\n",
    "    return df_table.rolling(12, center = True).mean()\n",
    "\n",
    "def log10_(df_table, n = 12):\n",
    "    \"\"\"\n",
    "    Take logs\n",
    "    \"\"\"\n",
    "    return log10(df_table).replace(-inf, nan).dropna(how = 'all')\n"
   ]
  },
  {
   "cell_type": "code",
   "execution_count": 6,
   "metadata": {
    "collapsed": false
   },
   "outputs": [
    {
     "name": "stderr",
     "output_type": "stream",
     "text": [
      "/home/miglesia/anaconda2/lib/python2.7/site-packages/pandas/core/indexes/multi.py:1565: VisibleDeprecationWarning: using a non-integer number instead of an integer will result in an error in the future\n",
      "  if lab[key] == -1:\n",
      "/home/miglesia/anaconda2/lib/python2.7/site-packages/pandas/core/indexes/multi.py:1568: VisibleDeprecationWarning: using a non-integer number instead of an integer will result in an error in the future\n",
      "  retval.append(lev[lab[key]])\n"
     ]
    },
    {
     "data": {
      "text/plain": [
       "<matplotlib.axes._subplots.AxesSubplot at 0x7f7a53f94fd0>"
      ]
     },
     "execution_count": 6,
     "metadata": {},
     "output_type": "execute_result"
    },
    {
     "data": {
      "image/png": "[encoded data removed]",
      "text/plain": [
       "<matplotlib.figure.Figure at 0x7f7a53f94690>"
      ]
     },
     "metadata": {},
     "output_type": "display_data"
    }
   ],
   "source": [
    "log_mavg_table = log10_(moving_avg(df_table))\n",
    "\n",
    "# select firms by column characteristic\n",
    "firm_measure = log10_(df_table).quantile(0.5)   # eg median\n",
    "condition = firm_measure.loc[firm_measure > 3.5].index.values  # eg median > 3.5\n",
    "\n",
    "# eg. clean small firms\n",
    "log_mavg_table_sample = log_mavg_table[condition]\n",
    "\n",
    "#Horizontal plot of time evolution:\n",
    "df_plot = log_mavg_table_sample\n",
    "df_plot.sample(20, axis = 1).plot(marker = 'o', legend=False, alpha = .2, linewidth = 0, mec = 'None', color = '.5')"
   ]
  },
  {
   "cell_type": "code",
   "execution_count": 7,
   "metadata": {
    "collapsed": true
   },
   "outputs": [],
   "source": [
    "def to_phase(df_table):\n",
    "    \"\"\"\n",
    "    Computes size and growth for each firm at each time\n",
    "    \"\"\"\n",
    "    growth = pd.DataFrame(df_table.diff().stack(), columns=['growth'])\n",
    "    size = pd.DataFrame(df_table.stack(), columns=['size'])\n",
    "\n",
    "    phase_df = pd.concat([size, growth], axis = 1).dropna().unstack()\n",
    "    phase_df.columns = phase_df.columns.swaplevel()\n",
    "    \n",
    "    return phase_df\n"
   ]
  },
  {
   "cell_type": "code",
   "execution_count": 8,
   "metadata": {
    "collapsed": false
   },
   "outputs": [],
   "source": [
    "def DAY_MONTH_to_time(df_table):\n",
    "    df_table_ = df_table.reset_index()\n",
    "    df_table_['DAY'] = 1\n",
    "    df_table_['date'] = pd.to_datetime(df_table_.YEAR*10000+df_table_.MONTH*100+df_table_.DAY,format='%Y%m%d')\n",
    "    df_table_ = df_table_.set_index('date', drop = True).drop(['YEAR','MONTH'], axis = 1)\n",
    "#     df_table_ = df_table_[df_table_.columns]\n",
    "    return df_table_"
   ]
  },
  {
   "cell_type": "code",
   "execution_count": 9,
   "metadata": {
    "collapsed": false
   },
   "outputs": [
    {
     "name": "stderr",
     "output_type": "stream",
     "text": [
      "/home/miglesia/anaconda2/lib/python2.7/site-packages/numexpr/cpuinfo.py:42: UserWarning: [Errno 12] Cannot allocate memory\n",
      "  warnings.warn(str(e), UserWarning, stacklevel=stacklevel)\n"
     ]
    },
    {
     "data": {
      "text/plain": [
       "<matplotlib.axes._subplots.AxesSubplot at 0x7f7a543274d0>"
      ]
     },
     "execution_count": 9,
     "metadata": {},
     "output_type": "execute_result"
    },
    {
     "data": {
      "image/png": "[encoded data removed]",
      "text/plain": [
       "<matplotlib.figure.Figure at 0x7f7a817c40d0>"
      ]
     },
     "metadata": {},
     "output_type": "display_data"
    }
   ],
   "source": [
    "log_mavg_table_sample_ = DAY_MONTH_to_time(log_mavg_table_sample)\n",
    "\n",
    "# Vertical plot\n",
    "df_plot = log_mavg_table_sample_\n",
    "df_plot.stack().reset_index().plot(x = 0, y = 'date',marker = 'o', legend=False, alpha = .01, linewidth = 0, mec = 'None', color = '.5')\n"
   ]
  },
  {
   "cell_type": "markdown",
   "metadata": {},
   "source": [
    "### Trajectories in phase diagram"
   ]
  },
  {
   "cell_type": "code",
   "execution_count": 10,
   "metadata": {
    "collapsed": false
   },
   "outputs": [],
   "source": [
    "phase_df = to_phase(log_mavg_table_sample_)\n",
    "tray = phase_df.sort_index(axis = 1)\n",
    "sample = tray.columns.get_level_values('ID')\n"
   ]
  },
  {
   "cell_type": "code",
   "execution_count": null,
   "metadata": {
    "collapsed": false
   },
   "outputs": [
    {
     "data": {
      "image/png": "[encoded data removed]",
      "text/plain": [
       "<matplotlib.figure.Figure at 0x7f7a817c4a90>"
      ]
     },
     "metadata": {},
     "output_type": "display_data"
    }
   ],
   "source": [
    "# i, id\n",
    "plot_n = 3\n",
    "tray_n = 5\n",
    "\n",
    "fig, axs = plt.subplots(1, plot_n, figsize = (20, 3))\n",
    "\n",
    "for j in range(plot_n):\n",
    "    ax = axs[j]\n",
    "    tray_sample = tray.iloc[:, sample.isin(random.choice(sample, tray_n))]\n",
    "    for date, tray_i in tray_sample.groupby(axis = 1, level=0): \n",
    "        i = tray_i.columns.get_level_values(0).drop_duplicates()[0]\n",
    "        tray_i.plot(x = (i,'size'), y = (i,'growth'),marker = 'o', legend=False, alpha = .5, mec = 'None', ax = ax)\n",
    "\n",
    "    ax.set_ylabel('Log growth')\n",
    "    ax.set_xlabel('Log size')\n",
    "    ax.set_xlim(4, 9)\n",
    "    ax.set_ylim(-1, 1)\n",
    "plt.show()"
   ]
  },
  {
   "cell_type": "code",
   "execution_count": null,
   "metadata": {
    "collapsed": true
   },
   "outputs": [],
   "source": [
    "# Determine activity periods\n",
    "for years in arange(1998, 2014).reshape(4, 4):\n",
    "    s = str(years[0])[-2:]; e = str(years[-1])[-2:];\n",
    "    df_ = pd.read_csv(path1+'/samplings/firm_sample_YMmxp_'+s+'_'+e+'_nmax.csv')\n",
    "    locals()['df_'+s+'_'+e] = df_\n",
    "    \n",
    "    for I in [0, 1]:\n",
    "        df_i = df_.loc[df_.IMPORT == I]\n",
    "        df_i = df_i.groupby(['ID', 'IMPORT','YEAR', 'MONTH'])[['VART_sum']].sum().unstack(level = (0))\n",
    "        df_i.index = df_i.index.droplevel('IMPORT')\n",
    "        df_i.columns = df_i.columns.droplevel(0)\n",
    "\n",
    "        if I==0: locals()['df_'+s+'_'+e+'_x'] = df_i\n",
    "        else: locals()['df_'+s+'_'+e+'_m'] = df_i\n",
    "        \n",
    "        \n",
    "            "
   ]
  },
  {
   "cell_type": "code",
   "execution_count": null,
   "metadata": {
    "collapsed": false
   },
   "outputs": [],
   "source": [
    "def reverse(df):\n",
    "    return (1 - df.fillna(0)).replace(0, nan)\n",
    "\n",
    "def fill_inactivity_gaps(activity_df, n = 12):\n",
    "    activity_ffil = activity_0.replace(0, nan).fillna(method = 'ffill', limit = n) # fill up to 12 months since last activity\n",
    "    condition_0 = reverse(activity_ffil).fillna(limit = n, method = 'bfill') # undo fills that didn't bridge inactivity gap\n",
    "    activity_bfil = reverse(condition_0) # fix boolean\n",
    "    return (activity_ffil*activity_bfil).fillna(0).astype(int)\n",
    "\n",
    "def margins(change_df, activity_n):\n",
    "    entry = (activity_n.diff(12) == 1).astype(int)\n",
    "    exit = (activity_n.diff(12) == -1).astype(int)\n",
    "    \n",
    "    growth = clip(change_df, 0, inf)\n",
    "    shrink  = clip(change_df, -inf, 0)\n",
    "    \n",
    "    int_growth = growth * (activity_n - entry) # growth of non-entrants\n",
    "    int_shrink = shrink * (activity_n - entry)\n",
    "    ext_growth = change_df * entry\n",
    "    ext_shrink = change_df * exit\n",
    "\n",
    "    return ext_shrink, int_shrink, ext_growth, int_growth, growth, shrink"
   ]
  },
  {
   "cell_type": "code",
   "execution_count": null,
   "metadata": {
    "collapsed": false
   },
   "outputs": [],
   "source": [
    "# df_10_13_m = df_98_01_m\n",
    "# df_10_13_x = df_98_01_x\n",
    "\n",
    "df_98_01_x"
   ]
  },
  {
   "cell_type": "code",
   "execution_count": null,
   "metadata": {
    "collapsed": false
   },
   "outputs": [],
   "source": [
    "result = []\n",
    "\n",
    "yrs = 3.\n",
    "relative_to_sign = False\n",
    "relative_to_abs = True\n",
    "\n",
    "n = 40\n",
    "\n",
    "for i in range(8):\n",
    "\n",
    "    df_ = [df_98_01_x, df_02_05_x, df_06_09_x, df_10_13_x,\n",
    "       df_98_01_m, df_02_05_m, df_06_09_m, df_10_13_m][i]\n",
    "\n",
    "    IMPORT = i / 4\n",
    "    time_period = i%4\n",
    "\n",
    "    log_exp = log10(df_).mean()\n",
    "    size_bins = pd.cut(log_exp.replace(-inf, nan).fillna(0), n, labels = False)\n",
    "\n",
    "    for size in range(n):\n",
    "        df_size = df_[list(size_bins.loc[size_bins == size].index)] # Firms of the given size\n",
    "\n",
    "        activity_0 = (df_size > 0).astype(int)\n",
    "        activity_12 = fill_inactivity_gaps(activity_0)\n",
    "\n",
    "        change = df_size.fillna(0).diff(12)\n",
    "\n",
    "        ext_shrink, int_shrink, ext_growth, int_growth, growth, shrink = margins(change, activity_12)\n",
    "\n",
    "        if relative_to_sign:\n",
    "            for df in [ext_shrink, int_shrink]:\n",
    "                df /= shrink.sum().sum()\n",
    "            for df in [ext_growth, int_growth]:\n",
    "                df /= growth.sum().sum()\n",
    "            yrs = 1\n",
    "\n",
    "        elif relative_to_abs:\n",
    "            for df in [ext_shrink, int_shrink, ext_growth, int_growth]:\n",
    "                df /= growth.sum().sum() - shrink.sum().sum()\n",
    "            yrs = 1\n",
    "\n",
    "        result += [{'Time_period': time_period, 'IMPORT': IMPORT, 'size_bin': size,\n",
    "                'no_firms': len(df_size.dropna(axis = 1, how = 'all').columns),\n",
    "                'export_volume': df_size.sum().sum()/yrs,\n",
    "                'change': change.sum().sum()/yrs,\n",
    "                'int_growth': int_growth.sum().sum()/yrs,\n",
    "                'ext_growth': ext_growth.sum().sum()/yrs,\n",
    "                'int_shrink': int_shrink.sum().sum()/yrs,\n",
    "                'ext_shrink': ext_shrink.sum().sum()/yrs}]\n",
    "\n",
    "result_df = pd.DataFrame(result)"
   ]
  },
  {
   "cell_type": "code",
   "execution_count": null,
   "metadata": {
    "collapsed": false
   },
   "outputs": [],
   "source": [
    "import seaborn as sns\n",
    "\n",
    "fig, axs = plt.subplots(2, 4, figsize = (24, 10))\n",
    "\n",
    "for i in range(2):\n",
    "    for j in range(4):\n",
    "        ax = axs[i][j]\n",
    "        plot_df = result_df.loc[(result_df.IMPORT == i) & (result_df.Time_period == j)]\n",
    "        plot_df[['size_bin', u'ext_shrink', u'int_shrink', u'ext_growth', u'int_growth']].plot.bar(x = 'size_bin', stacked=True, ax = ax, linewidth = 0, width = 1, legend=False)\n",
    "        ax.set_xlim(5, n - 5)\n",
    "plt.show()\n",
    "\n",
    "fig, axs = plt.subplots(1, 4, figsize = (24, 4))\n",
    "\n",
    "for j in range(4):\n",
    "    ax = axs[j]\n",
    "    plot_df = result_df.loc[result_df.Time_period == j]\n",
    "    plot_df.loc[plot_df.IMPORT == 0][['size_bin','no_firms']].plot(x = 'size_bin', marker = 'o', color = '.7', mec = 'w', ax = ax, label = 'M')\n",
    "    plot_df.loc[plot_df.IMPORT == 1][['size_bin','no_firms']].plot(x = 'size_bin', marker = '>', color = '.7', mec = 'w', ax = ax, label = 'X')\n",
    "    ax.set_xlim(5, n - 5)\n",
    "    ax.set_ylim(0, 30000)\n",
    "    ax.legend([\"M\", \"X\"])\n",
    "\n",
    "plt.show()\n"
   ]
  },
  {
   "cell_type": "code",
   "execution_count": null,
   "metadata": {
    "collapsed": false
   },
   "outputs": [],
   "source": [
    "import seaborn as sns\n",
    "\n",
    "result_df = pd.DataFrame(result).dropna()\n",
    "\n",
    "fig, ax = plt.subplots(1, figsize = (6, 6))\n",
    "result_df[[u'extensive_change_neg', u'intensive_change_neg', u'extensive_change_pos', u'intensive_change_pos'\n",
    "         ]].plot.bar(stacked=True, ax = ax, linewidth = 0, width = 1)\n",
    "# (result_df['export_volume']/10).plot(ax = ax, color = '.8', marker = 'o', linewidth = 1, label = 'exp volume', mec = '.8', mfc = '.8', alpha = .7)\n",
    "# (result_df.iloc[:, 0]/100).plot(ax = ax, color = 'w', marker = '*', linewidth = 1, label = 'exp volume', mec = 'w', mfc = 'w', alpha = .5)\n",
    "# (-result_df['export_volume']/10).plot(ax = ax, color = '.8', marker = 'o', linewidth = 1, label = 'exp volume', mec = '.8', mfc = '.8', alpha = .7)\n",
    "# (-result_df.iloc[:, 0]/100).plot(ax = ax, color = 'w', marker = '*', linewidth = 1, label = 'exp volume', mec = 'w', mfc = 'w', alpha = .5)\n",
    "\n",
    "# (result_df['change']).plot(marker = '', color = 'k', mec = 'w', ax = ax, linewidth = 1.5)\n",
    "ax.set_xlim(5, n - 5)\n",
    "plt.show()\n",
    "\n",
    "fig, ax = plt.subplots(1, figsize = (6, 2))\n",
    "result_df['no_firms'].plot(marker = 'o', color = '.7', mec = 'w', ax = ax)\n",
    "ax.set_xlim(5, n - 5)\n",
    "plt.show()\n"
   ]
  },
  {
   "cell_type": "code",
   "execution_count": null,
   "metadata": {
    "collapsed": false
   },
   "outputs": [],
   "source": [
    "# Imports 2002 - 2005"
   ]
  },
  {
   "cell_type": "code",
   "execution_count": null,
   "metadata": {
    "collapsed": false
   },
   "outputs": [],
   "source": [
    "# Exports 2002-2005"
   ]
  },
  {
   "cell_type": "code",
   "execution_count": null,
   "metadata": {
    "collapsed": true
   },
   "outputs": [],
   "source": [
    "n = 50\n",
    "log_exp = \n",
    "size_bins = pd.cut(log10(df_.mean()).replace(-inf, nan).fillna(0), n, labels = False)\n",
    "df_size = df_[list(size_bins.loc[size_bins == size].index)]\n",
    "change = df_size.fillna(0).diff(12)"
   ]
  },
  {
   "cell_type": "code",
   "execution_count": null,
   "metadata": {
    "collapsed": false
   },
   "outputs": [],
   "source": [
    "# df_size = df_[list(size_bins.loc[size_bins == 30].index)]\n",
    "# change = df_size.fillna(0).diff(12)\n",
    "# change\n",
    "\n",
    "# clip(change, 0, inf).sum().sum()\n",
    "result_df.iloc[:, 2:-2].columns"
   ]
  },
  {
   "cell_type": "code",
   "execution_count": null,
   "metadata": {
    "collapsed": true
   },
   "outputs": [],
   "source": []
  }
 ],
 "metadata": {
  "kernelspec": {
   "display_name": "Python 2",
   "language": "python",
   "name": "python2"
  },
  "language_info": {
   "codemirror_mode": {
    "name": "ipython",
    "version": 2
   },
   "file_extension": ".py",
   "mimetype": "text/x-python",
   "name": "python",
   "nbconvert_exporter": "python",
   "pygments_lexer": "ipython2",
   "version": "2.7.13"
  }
 },
 "nbformat": 4,
 "nbformat_minor": 2
}
