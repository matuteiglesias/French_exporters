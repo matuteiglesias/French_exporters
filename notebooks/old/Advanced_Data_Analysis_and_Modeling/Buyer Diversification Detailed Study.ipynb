{
 "cells": [
  {
   "cell_type": "markdown",
   "metadata": {
    "collapsed": true
   },
   "source": [
    "### Test for determinants of buyer diversification\n",
    "#### Scatterplots related to Table 3 regressions of [Krammarz 2016](https://www.princeton.edu/~ies/Spring17/KramarzPaper.pdf)\n",
    "#### dissagregated by broad Export sections\n"
   ]
  },
  {
   "cell_type": "code",
   "execution_count": 1,
   "metadata": {
    "collapsed": true
   },
   "outputs": [],
   "source": [
    "#Import modules\n",
    "\n",
    "import pandas as pd\n",
    "\n",
    "import matplotlib.pyplot as plt\n",
    "%matplotlib inline\n",
    "from numpy import arange, log10"
   ]
  },
  {
   "cell_type": "code",
   "execution_count": 1,
   "metadata": {
    "collapsed": true
   },
   "outputs": [
    {
     "ename": "NameError",
     "evalue": "name 'pd' is not defined",
     "output_type": "error",
     "traceback": [
      "\u001b[1;31m---------------------------------------------------------------------------\u001b[0m",
      "\u001b[1;31mNameError\u001b[0m                                 Traceback (most recent call last)",
      "\u001b[1;32m<ipython-input-1-85494ee7960b>\u001b[0m in \u001b[0;36m<module>\u001b[1;34m()\u001b[0m\n\u001b[1;32m----> 1\u001b[1;33m \u001b[0mdf\u001b[0m \u001b[1;33m=\u001b[0m \u001b[0mpd\u001b[0m\u001b[1;33m.\u001b[0m\u001b[0mread_csv\u001b[0m\u001b[1;33m(\u001b[0m\u001b[1;34m'./dets_of_diversification.csv'\u001b[0m\u001b[1;33m)\u001b[0m\u001b[1;33m\u001b[0m\u001b[0m\n\u001b[0m",
      "\u001b[1;31mNameError\u001b[0m: name 'pd' is not defined"
     ]
    }
   ],
   "source": [
    "df = pd.read_csv('./dets_of_diversification.csv')"
   ]
  },
  {
   "cell_type": "markdown",
   "metadata": {
    "collapsed": false
   },
   "source": [
    "### Plot. Determinants of diversification"
   ]
  },
  {
   "cell_type": "code",
   "execution_count": null,
   "metadata": {
    "collapsed": true
   },
   "outputs": [],
   "source": [
    "df_exp_fl = df.loc[df.FLUX == 4].groupby('ID')\n",
    "data = aggregate_vars(df_exp_fl)\n",
    "\n",
    "for sec in df['CN ID 1'].unique()[:-4]:\n",
    "    \n",
    "    df_exp_cn = df.loc[df.FLUX == 4].loc[df['CN ID 1'] == sec]\n",
    "    df_exp_cn_fl = df_exp_cn.groupby('ID')\n",
    "        \n",
    "    data_cn = aggregate_vars(df_exp_cn_fl)\n",
    "    print CN_full.loc[CN_full['CN ID 1'] == sec]['CN label 1'].values[0]\n",
    "\n",
    "    fig, axs = plt.subplots(1, 3, figsize = (20, 5))\n",
    "\n",
    "    ax = axs[0]\n",
    "    data.plot(x = 'log_EUR_UE_exp', y = 'ct_Buyers', marker = 'o', linewidth = 0, alpha = .05, mec = 'None', ax = ax, color = '.5')\n",
    "\n",
    "    data_cn.plot(x = 'log_EUR_UE_exp', y = 'ct_Buyers', marker = 'o', linewidth = 0, alpha = .4, mec = 'None', ax = ax, color = 'r')\n",
    "    ax.set_yscale('log')\n",
    "    ax.set_ylabel('ct_Buyers')\n",
    "\n",
    "    ax = axs[1]\n",
    "    data.plot(x = 'log_EUR_UE_exp', y = 'ct_Prods', marker = 'o', linewidth = 0, alpha = .05, mec = 'None', ax = ax, color = '.5')\n",
    "    data_cn.plot(x = 'log_EUR_UE_exp', y = 'ct_Prods', marker = 'o', linewidth = 0, alpha = .4, mec = 'None', ax = ax, color = 'r')\n",
    "    ax.set_yscale('log')\n",
    "    ax.set_ylabel('ct_Prods')\n",
    "    \n",
    "    ax = axs[2]\n",
    "    data.plot(x = 'ct_Prods', y = 'ct_Buyers', marker = 'o', linewidth = 0, alpha = .05, mec = 'None', ax = ax, color = '.5')\n",
    "    data_cn.plot(x = 'ct_Prods', y = 'ct_Buyers', marker = 'o', linewidth = 0, alpha = .4, mec = 'None', ax = ax, color = 'r')\n",
    "    ax.set_xlabel('ct_Prods')\n",
    "    ax.set_ylabel('ct_Buyers')\n",
    "    ax.set_xscale('log')\n",
    "    ax.set_yscale('log')\n",
    "\n",
    "    plt.show()"
   ]
  },
  {
   "cell_type": "code",
   "execution_count": null,
   "metadata": {
    "collapsed": true
   },
   "outputs": [],
   "source": []
  },
  {
   "cell_type": "code",
   "execution_count": null,
   "metadata": {
    "collapsed": true
   },
   "outputs": [],
   "source": []
  },
  {
   "cell_type": "markdown",
   "metadata": {},
   "source": [
    "## Firm sizes"
   ]
  }
 ],
 "metadata": {
  "kernelspec": {
   "display_name": "Python 2",
   "language": "python",
   "name": "python2"
  },
  "language_info": {
   "codemirror_mode": {
    "name": "ipython",
    "version": 2
   },
   "file_extension": ".py",
   "mimetype": "text/x-python",
   "name": "python",
   "nbconvert_exporter": "python",
   "pygments_lexer": "ipython2",
   "version": "2.7.13"
  }
 },
 "nbformat": 4,
 "nbformat_minor": 2
}
