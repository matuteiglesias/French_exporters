{
 "cells": [
  {
   "cell_type": "code",
   "execution_count": 1,
   "metadata": {
    "hideCode": false,
    "hidePrompt": false
   },
   "outputs": [
    {
     "name": "stdout",
     "output_type": "stream",
     "text": [
      "Warning: No module named community found.\n",
      "Warning: No module named graph_tool found.\n"
     ]
    },
    {
     "name": "stderr",
     "output_type": "stream",
     "text": [
      "/home/miglesia/anaconda2/lib/python2.7/site-packages/statsmodels/compat/pandas.py:56: FutureWarning: The pandas.core.datetools module is deprecated and will be removed in a future version. Please use the pandas.tseries module instead.\n",
      "  from pandas.core import datetools\n"
     ]
    }
   ],
   "source": [
    "import pandas as pd\n",
    "import numpy as np\n",
    "import binet as bnt"
   ]
  },
  {
   "cell_type": "markdown",
   "metadata": {
    "hideCode": false,
    "hidePrompt": false
   },
   "source": [
    "# CID Atlas data vs French customs data"
   ]
  },
  {
   "cell_type": "code",
   "execution_count": 2,
   "metadata": {
    "hideCode": false,
    "hidePrompt": false
   },
   "outputs": [],
   "source": [
    "#Or from file if you have it.\n",
    "wt = pd.read_csv('./../../data/wt/wt.csv')\n",
    "wt = wt.loc[(wt.year > 2005) & (wt.year < 2014)]\n",
    "pr = pd.read_csv('./../../data/wt/pr.csv')\n",
    "co = pd.read_csv('./../../data/wt/co.csv')\n",
    "wt_fra = wt.loc[wt.ccode == 'fra']"
   ]
  },
  {
   "cell_type": "code",
   "execution_count": 3,
   "metadata": {
    "hideCode": false,
    "hidePrompt": false
   },
   "outputs": [],
   "source": [
    "df = pd.read_csv('./../../data/processed/CN_ID_4_FY.csv')\n",
    "df = df.loc[df.IMPORT == 0]\n",
    "df = df.rename(columns = {'YEAR': 'year'})\n",
    "fl_fra = df.groupby(['year', 'CN ID 4'])['VART'].sum().reset_index()"
   ]
  },
  {
   "cell_type": "code",
   "execution_count": 4,
   "metadata": {
    "hideCode": false,
    "hidePrompt": false
   },
   "outputs": [],
   "source": [
    "prods_wt = wt_fra.groupby(['year','pcode'])['x'].sum().sort_values(ascending = False).reset_index()\n",
    "prods_fl = fl_fra.groupby(['year','CN ID 4'])['VART'].sum().sort_values(ascending = False).reset_index()\n",
    "\n",
    "merged = prods_wt.merge(prods_fl, left_on = ['pcode', 'year'], right_on = ['CN ID 4', 'year'], how = 'outer')\n",
    "\n",
    "merged = merged.dropna()\n",
    "merged = merged.set_index(['year', 'pcode'])\n",
    "df = pd.DataFrame(merged.x/merged.VART, columns=['ratio'])"
   ]
  },
  {
   "cell_type": "markdown",
   "metadata": {
    "hideCode": false,
    "hidePrompt": false
   },
   "source": [
    "### Distribution"
   ]
  },
  {
   "cell_type": "code",
   "execution_count": 5,
   "metadata": {
    "hideCode": false,
    "hidePrompt": false,
    "scrolled": false
   },
   "outputs": [
    {
     "data": {
      "image/png": "[encoded data removed]",
      "text/plain": [
       "<Figure size 600x400 with 1 Axes>"
      ]
     },
     "metadata": {},
     "output_type": "display_data"
    }
   ],
   "source": [
    "import matplotlib.pyplot as plt\n",
    "%matplotlib inline\n",
    "\n",
    "plt.hist((merged.x/merged.VART).clip(0, 4), 100, lw = 0)\n",
    "plt.show()"
   ]
  },
  {
   "cell_type": "code",
   "execution_count": 2,
   "metadata": {},
   "outputs": [
    {
     "ename": "NameError",
     "evalue": "name 'merged' is not defined",
     "output_type": "error",
     "traceback": [
      "\u001b[1;31m---------------------------------------------------------------------------\u001b[0m",
      "\u001b[1;31mNameError\u001b[0m                                 Traceback (most recent call last)",
      "\u001b[1;32m<ipython-input-2-616845022199>\u001b[0m in \u001b[0;36m<module>\u001b[1;34m()\u001b[0m\n\u001b[0;32m      1\u001b[0m \u001b[1;31m## Approx median (would tell some effective EUR / USD ratio)\u001b[0m\u001b[1;33m\u001b[0m\u001b[1;33m\u001b[0m\u001b[0m\n\u001b[1;32m----> 2\u001b[1;33m \u001b[1;33m(\u001b[0m\u001b[0mmerged\u001b[0m\u001b[1;33m.\u001b[0m\u001b[0mx\u001b[0m\u001b[1;33m/\u001b[0m\u001b[0mmerged\u001b[0m\u001b[1;33m.\u001b[0m\u001b[0mVART\u001b[0m\u001b[1;33m)\u001b[0m\u001b[1;33m.\u001b[0m\u001b[0mreset_index\u001b[0m\u001b[1;33m(\u001b[0m\u001b[1;33m)\u001b[0m\u001b[1;33m.\u001b[0m\u001b[0mgroupby\u001b[0m\u001b[1;33m(\u001b[0m\u001b[1;34m'year'\u001b[0m\u001b[1;33m)\u001b[0m\u001b[1;33m[\u001b[0m\u001b[1;36m0\u001b[0m\u001b[1;33m]\u001b[0m\u001b[1;33m.\u001b[0m\u001b[0mmedian\u001b[0m\u001b[1;33m(\u001b[0m\u001b[1;33m)\u001b[0m\u001b[1;33m.\u001b[0m\u001b[0mplot\u001b[0m\u001b[1;33m(\u001b[0m\u001b[1;33m)\u001b[0m\u001b[1;33m\u001b[0m\u001b[0m\n\u001b[0m",
      "\u001b[1;31mNameError\u001b[0m: name 'merged' is not defined"
     ]
    }
   ],
   "source": [
    "## Approx median (would tell some effective EUR / USD ratio)\n",
    "(merged.x/merged.VART).reset_index().groupby('year')[0].median().plot()"
   ]
  },
  {
   "cell_type": "markdown",
   "metadata": {
    "hideCode": false,
    "hidePrompt": false
   },
   "source": [
    "### Sample values"
   ]
  },
  {
   "cell_type": "code",
   "execution_count": 9,
   "metadata": {
    "hideCode": false,
    "hidePrompt": false,
    "scrolled": false
   },
   "outputs": [
    {
     "data": {
      "text/html": [
       "<div>\n",
       "<style scoped>\n",
       "    .dataframe tbody tr th:only-of-type {\n",
       "        vertical-align: middle;\n",
       "    }\n",
       "\n",
       "    .dataframe tbody tr th {\n",
       "        vertical-align: top;\n",
       "    }\n",
       "\n",
       "    .dataframe thead th {\n",
       "        text-align: right;\n",
       "    }\n",
       "</style>\n",
       "<table border=\"1\" class=\"dataframe\">\n",
       "  <thead>\n",
       "    <tr style=\"text-align: right;\">\n",
       "      <th></th>\n",
       "      <th>year</th>\n",
       "      <th>2006</th>\n",
       "      <th>2007</th>\n",
       "      <th>2008</th>\n",
       "      <th>2009</th>\n",
       "      <th>2010</th>\n",
       "      <th>2011</th>\n",
       "      <th>2012</th>\n",
       "      <th>2013</th>\n",
       "    </tr>\n",
       "    <tr>\n",
       "      <th></th>\n",
       "      <th>pcode</th>\n",
       "      <th></th>\n",
       "      <th></th>\n",
       "      <th></th>\n",
       "      <th></th>\n",
       "      <th></th>\n",
       "      <th></th>\n",
       "      <th></th>\n",
       "      <th></th>\n",
       "    </tr>\n",
       "  </thead>\n",
       "  <tbody>\n",
       "    <tr>\n",
       "      <th rowspan=\"20\" valign=\"top\">ratio</th>\n",
       "      <th>4303.0</th>\n",
       "      <td>1.07</td>\n",
       "      <td>1.12</td>\n",
       "      <td>1.17</td>\n",
       "      <td>1.12</td>\n",
       "      <td>1.16</td>\n",
       "      <td>1.15</td>\n",
       "      <td>1.08</td>\n",
       "      <td>1.15</td>\n",
       "    </tr>\n",
       "    <tr>\n",
       "      <th>1506.0</th>\n",
       "      <td>1.16</td>\n",
       "      <td>1.38</td>\n",
       "      <td>1.29</td>\n",
       "      <td>1.07</td>\n",
       "      <td>0.93</td>\n",
       "      <td>0.93</td>\n",
       "      <td>0.82</td>\n",
       "      <td>1.05</td>\n",
       "    </tr>\n",
       "    <tr>\n",
       "      <th>2846.0</th>\n",
       "      <td>1.17</td>\n",
       "      <td>1.25</td>\n",
       "      <td>1.40</td>\n",
       "      <td>1.69</td>\n",
       "      <td>1.93</td>\n",
       "      <td>1.24</td>\n",
       "      <td>1.32</td>\n",
       "      <td>1.43</td>\n",
       "    </tr>\n",
       "    <tr>\n",
       "      <th>8709.0</th>\n",
       "      <td>0.96</td>\n",
       "      <td>1.28</td>\n",
       "      <td>1.58</td>\n",
       "      <td>1.60</td>\n",
       "      <td>1.36</td>\n",
       "      <td>1.64</td>\n",
       "      <td>1.27</td>\n",
       "      <td>1.46</td>\n",
       "    </tr>\n",
       "    <tr>\n",
       "      <th>6206.0</th>\n",
       "      <td>1.21</td>\n",
       "      <td>1.31</td>\n",
       "      <td>1.40</td>\n",
       "      <td>1.32</td>\n",
       "      <td>1.22</td>\n",
       "      <td>1.26</td>\n",
       "      <td>1.12</td>\n",
       "      <td>1.16</td>\n",
       "    </tr>\n",
       "    <tr>\n",
       "      <th>2203.0</th>\n",
       "      <td>0.64</td>\n",
       "      <td>0.72</td>\n",
       "      <td>0.80</td>\n",
       "      <td>0.80</td>\n",
       "      <td>0.82</td>\n",
       "      <td>0.87</td>\n",
       "      <td>0.86</td>\n",
       "      <td>0.95</td>\n",
       "    </tr>\n",
       "    <tr>\n",
       "      <th>206.0</th>\n",
       "      <td>3.50</td>\n",
       "      <td>4.77</td>\n",
       "      <td>1.55</td>\n",
       "      <td>1.26</td>\n",
       "      <td>1.17</td>\n",
       "      <td>1.22</td>\n",
       "      <td>1.09</td>\n",
       "      <td>1.18</td>\n",
       "    </tr>\n",
       "    <tr>\n",
       "      <th>7411.0</th>\n",
       "      <td>2.66</td>\n",
       "      <td>1.48</td>\n",
       "      <td>1.83</td>\n",
       "      <td>1.65</td>\n",
       "      <td>1.66</td>\n",
       "      <td>1.37</td>\n",
       "      <td>1.29</td>\n",
       "      <td>1.26</td>\n",
       "    </tr>\n",
       "    <tr>\n",
       "      <th>8307.0</th>\n",
       "      <td>1.10</td>\n",
       "      <td>1.28</td>\n",
       "      <td>1.32</td>\n",
       "      <td>1.32</td>\n",
       "      <td>1.08</td>\n",
       "      <td>1.21</td>\n",
       "      <td>0.78</td>\n",
       "      <td>0.62</td>\n",
       "    </tr>\n",
       "    <tr>\n",
       "      <th>6909.0</th>\n",
       "      <td>0.69</td>\n",
       "      <td>0.82</td>\n",
       "      <td>1.08</td>\n",
       "      <td>0.90</td>\n",
       "      <td>0.73</td>\n",
       "      <td>1.18</td>\n",
       "      <td>1.15</td>\n",
       "      <td>1.21</td>\n",
       "    </tr>\n",
       "    <tr>\n",
       "      <th>5209.0</th>\n",
       "      <td>1.11</td>\n",
       "      <td>1.26</td>\n",
       "      <td>1.47</td>\n",
       "      <td>1.42</td>\n",
       "      <td>1.30</td>\n",
       "      <td>1.39</td>\n",
       "      <td>1.18</td>\n",
       "      <td>1.35</td>\n",
       "    </tr>\n",
       "    <tr>\n",
       "      <th>4823.0</th>\n",
       "      <td>2.91</td>\n",
       "      <td>1.23</td>\n",
       "      <td>1.24</td>\n",
       "      <td>1.20</td>\n",
       "      <td>1.14</td>\n",
       "      <td>1.20</td>\n",
       "      <td>3.71</td>\n",
       "      <td>3.49</td>\n",
       "    </tr>\n",
       "    <tr>\n",
       "      <th>404.0</th>\n",
       "      <td>0.38</td>\n",
       "      <td>0.44</td>\n",
       "      <td>0.52</td>\n",
       "      <td>0.52</td>\n",
       "      <td>0.50</td>\n",
       "      <td>0.52</td>\n",
       "      <td>0.46</td>\n",
       "      <td>0.46</td>\n",
       "    </tr>\n",
       "    <tr>\n",
       "      <th>7011.0</th>\n",
       "      <td>1.63</td>\n",
       "      <td>1.47</td>\n",
       "      <td>1.74</td>\n",
       "      <td>1.53</td>\n",
       "      <td>1.36</td>\n",
       "      <td>1.49</td>\n",
       "      <td>1.71</td>\n",
       "      <td>1.30</td>\n",
       "    </tr>\n",
       "    <tr>\n",
       "      <th>7003.0</th>\n",
       "      <td>1.73</td>\n",
       "      <td>2.00</td>\n",
       "      <td>2.09</td>\n",
       "      <td>2.53</td>\n",
       "      <td>1.35</td>\n",
       "      <td>1.48</td>\n",
       "      <td>1.41</td>\n",
       "      <td>1.25</td>\n",
       "    </tr>\n",
       "    <tr>\n",
       "      <th>2829.0</th>\n",
       "      <td>0.70</td>\n",
       "      <td>0.81</td>\n",
       "      <td>0.50</td>\n",
       "      <td>0.57</td>\n",
       "      <td>0.47</td>\n",
       "      <td>0.49</td>\n",
       "      <td>0.54</td>\n",
       "      <td>0.54</td>\n",
       "    </tr>\n",
       "    <tr>\n",
       "      <th>1514.0</th>\n",
       "      <td>1.18</td>\n",
       "      <td>1.33</td>\n",
       "      <td>1.57</td>\n",
       "      <td>1.44</td>\n",
       "      <td>1.40</td>\n",
       "      <td>1.36</td>\n",
       "      <td>1.35</td>\n",
       "      <td>1.50</td>\n",
       "    </tr>\n",
       "    <tr>\n",
       "      <th>3302.0</th>\n",
       "      <td>1.05</td>\n",
       "      <td>1.14</td>\n",
       "      <td>1.20</td>\n",
       "      <td>1.14</td>\n",
       "      <td>1.09</td>\n",
       "      <td>1.12</td>\n",
       "      <td>1.08</td>\n",
       "      <td>1.17</td>\n",
       "    </tr>\n",
       "    <tr>\n",
       "      <th>4822.0</th>\n",
       "      <td>1.27</td>\n",
       "      <td>1.51</td>\n",
       "      <td>1.83</td>\n",
       "      <td>1.93</td>\n",
       "      <td>1.48</td>\n",
       "      <td>1.49</td>\n",
       "      <td>1.34</td>\n",
       "      <td>1.39</td>\n",
       "    </tr>\n",
       "    <tr>\n",
       "      <th>4406.0</th>\n",
       "      <td>1.16</td>\n",
       "      <td>1.32</td>\n",
       "      <td>1.42</td>\n",
       "      <td>1.31</td>\n",
       "      <td>1.35</td>\n",
       "      <td>1.49</td>\n",
       "      <td>1.25</td>\n",
       "      <td>1.46</td>\n",
       "    </tr>\n",
       "  </tbody>\n",
       "</table>\n",
       "</div>"
      ],
      "text/plain": [
       "year          2006  2007  2008  2009  2010  2011  2012  2013\n",
       "      pcode                                                 \n",
       "ratio 4303.0  1.07  1.12  1.17  1.12  1.16  1.15  1.08  1.15\n",
       "      1506.0  1.16  1.38  1.29  1.07  0.93  0.93  0.82  1.05\n",
       "      2846.0  1.17  1.25  1.40  1.69  1.93  1.24  1.32  1.43\n",
       "      8709.0  0.96  1.28  1.58  1.60  1.36  1.64  1.27  1.46\n",
       "      6206.0  1.21  1.31  1.40  1.32  1.22  1.26  1.12  1.16\n",
       "      2203.0  0.64  0.72  0.80  0.80  0.82  0.87  0.86  0.95\n",
       "      206.0   3.50  4.77  1.55  1.26  1.17  1.22  1.09  1.18\n",
       "      7411.0  2.66  1.48  1.83  1.65  1.66  1.37  1.29  1.26\n",
       "      8307.0  1.10  1.28  1.32  1.32  1.08  1.21  0.78  0.62\n",
       "      6909.0  0.69  0.82  1.08  0.90  0.73  1.18  1.15  1.21\n",
       "      5209.0  1.11  1.26  1.47  1.42  1.30  1.39  1.18  1.35\n",
       "      4823.0  2.91  1.23  1.24  1.20  1.14  1.20  3.71  3.49\n",
       "      404.0   0.38  0.44  0.52  0.52  0.50  0.52  0.46  0.46\n",
       "      7011.0  1.63  1.47  1.74  1.53  1.36  1.49  1.71  1.30\n",
       "      7003.0  1.73  2.00  2.09  2.53  1.35  1.48  1.41  1.25\n",
       "      2829.0  0.70  0.81  0.50  0.57  0.47  0.49  0.54  0.54\n",
       "      1514.0  1.18  1.33  1.57  1.44  1.40  1.36  1.35  1.50\n",
       "      3302.0  1.05  1.14  1.20  1.14  1.09  1.12  1.08  1.17\n",
       "      4822.0  1.27  1.51  1.83  1.93  1.48  1.49  1.34  1.39\n",
       "      4406.0  1.16  1.32  1.42  1.31  1.35  1.49  1.25  1.46"
      ]
     },
     "execution_count": 9,
     "metadata": {},
     "output_type": "execute_result"
    }
   ],
   "source": [
    "df.unstack().T.round(2).sample(20).dropna()"
   ]
  },
  {
   "cell_type": "code",
   "execution_count": null,
   "metadata": {
    "hideCode": false,
    "hidePrompt": false
   },
   "outputs": [],
   "source": []
  }
 ],
 "metadata": {
  "hide_code_all_hidden": false,
  "kernelspec": {
   "display_name": "Python 2",
   "language": "python",
   "name": "python2"
  },
  "language_info": {
   "codemirror_mode": {
    "name": "ipython",
    "version": 2
   },
   "file_extension": ".py",
   "mimetype": "text/x-python",
   "name": "python",
   "nbconvert_exporter": "python",
   "pygments_lexer": "ipython2",
   "version": "2.7.15"
  }
 },
 "nbformat": 4,
 "nbformat_minor": 2
}
