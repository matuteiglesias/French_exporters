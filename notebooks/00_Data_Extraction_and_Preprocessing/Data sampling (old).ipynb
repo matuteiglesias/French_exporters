{
 "cells": [
  {
   "cell_type": "markdown",
   "metadata": {
    "collapsed": false
   },
   "source": [
    "# Data reading and sampling"
   ]
  },
  {
   "cell_type": "code",
   "execution_count": 1,
   "metadata": {
    "collapsed": true
   },
   "outputs": [],
   "source": [
    "import pandas as pd\n",
    "import numpy as np\n",
    "import time"
   ]
  },
  {
   "cell_type": "markdown",
   "metadata": {},
   "source": [
    "### Useful functions for chunk filtering and aggregation"
   ]
  },
  {
   "cell_type": "code",
   "execution_count": 2,
   "metadata": {
    "collapsed": false
   },
   "outputs": [
    {
     "ename": "IOError",
     "evalue": "[Errno 2] No such file or directory: './../../../../media/miglesia/Elements/export_france/data//type1_row_ct'",
     "output_type": "error",
     "traceback": [
      "\u001b[1;31m---------------------------------------------------------------------------\u001b[0m",
      "\u001b[1;31mIOError\u001b[0m                                   Traceback (most recent call last)",
      "\u001b[1;32m<ipython-input-2-b27b337a6373>\u001b[0m in \u001b[0;36m<module>\u001b[1;34m()\u001b[0m\n\u001b[0;32m     20\u001b[0m \u001b[1;33m\u001b[0m\u001b[0m\n\u001b[0;32m     21\u001b[0m \u001b[0ml\u001b[0m \u001b[1;33m=\u001b[0m \u001b[1;33m[\u001b[0m\u001b[1;33m]\u001b[0m\u001b[1;33m\u001b[0m\u001b[0m\n\u001b[1;32m---> 22\u001b[1;33m \u001b[1;32mwith\u001b[0m \u001b[0mopen\u001b[0m\u001b[1;33m(\u001b[0m\u001b[0mpath\u001b[0m\u001b[1;33m+\u001b[0m\u001b[1;34m'/type1_row_ct'\u001b[0m\u001b[1;33m)\u001b[0m \u001b[1;32mas\u001b[0m \u001b[0mf\u001b[0m\u001b[1;33m:\u001b[0m\u001b[1;33m\u001b[0m\u001b[0m\n\u001b[0m\u001b[0;32m     23\u001b[0m     \u001b[1;32mfor\u001b[0m \u001b[0mline\u001b[0m \u001b[1;32min\u001b[0m \u001b[0mf\u001b[0m\u001b[1;33m:\u001b[0m\u001b[1;33m\u001b[0m\u001b[0m\n\u001b[0;32m     24\u001b[0m         \u001b[0ml\u001b[0m \u001b[1;33m+=\u001b[0m \u001b[1;33m[\u001b[0m\u001b[0mint\u001b[0m\u001b[1;33m(\u001b[0m\u001b[0mline\u001b[0m\u001b[1;33m.\u001b[0m\u001b[0mstrip\u001b[0m\u001b[1;33m(\u001b[0m\u001b[1;33m)\u001b[0m\u001b[1;33m)\u001b[0m\u001b[1;33m]\u001b[0m\u001b[1;33m\u001b[0m\u001b[0m\n",
      "\u001b[1;31mIOError\u001b[0m: [Errno 2] No such file or directory: './../../../../media/miglesia/Elements/export_france/data//type1_row_ct'"
     ]
    }
   ],
   "source": [
    "\n",
    "path = './../../../../media/miglesia/Elements/export_france/data/'\n",
    "path1 = path+'type1/DP1610_MAASTRICHT1_1997_2013'\n",
    "path2 = path+'type2/DP1611_MAASTRICHT2_1997_2013'\n",
    "\n",
    "# Writing as a function\n",
    "\n",
    "def aggregation(chunk, index, func):\n",
    "    grouped_object = chunk.groupby(index,sort = False)\n",
    "    # not sorting results in a minor speedup\n",
    "    return grouped_object.agg(func)\n",
    "                                \n",
    "colnames = [u'YEAR', u'MONTH', u'FLUX', u'ID', u'DEPT', u'CN ID 8', u'CPA6',\n",
    "       u'PYOD', u'PAYP', u'VAT', u'PRIFAC', u'DEVFAC', u'VFTE', u'VART', u'D_MASSE', u'MASSE', u'USUP', u'USUP_MT']\n",
    "\n",
    "colname_no = dict(zip(colnames, range(18)))\n",
    "colno_name = dict(zip(range(18), colnames))\n",
    "\n",
    "#We need to know number of rows of each file:\n",
    "\n",
    "l = []\n",
    "with open(path+'/type1_row_ct') as f:\n",
    "    for line in f:\n",
    "        l += [int(line.strip())]\n",
    "nrows1 = dict(zip(range(1997, 2014), l))\n",
    "\n",
    "l = []\n",
    "with open(path+'/type2_row_ct') as f:\n",
    "    for line in f:\n",
    "        l += [int(line.strip())]\n",
    "nrows2 = dict(zip(range(1997, 2014), l))\n",
    "\n",
    "def merge_ref(df, filter_ref, filter_ix):\n",
    "    return df.reset_index().merge(filter_ref, on = filter_ix, how = 'left').set_index('index')\n",
    "     \n",
    "def select_entries(df, filter_col, value, by_df = None):\n",
    "    if by_df is None:\n",
    "        by_df = df\n",
    "        \n",
    "    if isinstance(value, (list,)):\n",
    "        return df.loc[by_df[filter_col].isin(value)]\n",
    "    else:\n",
    "        return df.loc[by_df[filter_col] == value]"
   ]
  },
  {
   "cell_type": "markdown",
   "metadata": {},
   "source": [
    "### Load and process references for filtering (eg. data on firm sizes to filter by size)"
   ]
  },
  {
   "cell_type": "code",
   "execution_count": null,
   "metadata": {
    "collapsed": false
   },
   "outputs": [],
   "source": [
    "\n",
    "sizes_index = pd.read_csv('./../export_france/data/formatted/sizes_index.csv')\n",
    "\n",
    "n_bins = 20\n",
    "\n",
    "sizes_index['log_exp_mma'] = np.log10(sizes_index.exp_mma).round(3)\n",
    "cuts = pd.cut(sizes_index.groupby(sizes_index['log_exp_mma']).sum().cumsum()['exp_mma'],n_bins, labels=range(n_bins))\n",
    "exp_index = sizes_index.merge(cuts.reset_index().rename({'exp_mma': 'exp_mma_cat'}, axis = 1), on = 'log_exp_mma').dropna(subset = ['exp_mma'])\n",
    "\n",
    "exp_size_ref = exp_index[['ID', 'exp_mma_cat']]; filter_ix = 'ID'; filter_col = 'exp_mma_cat';"
   ]
  },
  {
   "cell_type": "code",
   "execution_count": null,
   "metadata": {
    "collapsed": false
   },
   "outputs": [],
   "source": [
    "colname_no"
   ]
  },
  {
   "cell_type": "markdown",
   "metadata": {},
   "source": [
    "### Main loop for reading from hard drive and saving"
   ]
  },
  {
   "cell_type": "code",
   "execution_count": null,
   "metadata": {
    "collapsed": false,
    "scrolled": true
   },
   "outputs": [],
   "source": [
    "# names = tuple(index)\n",
    "# sampling_name = name\n",
    "\n",
    "years = list(reversed(range(1997, 2014)))\n",
    "n_chunks = 5\n",
    "data_path = path+'type1/DP1610_MAASTRICHT1_1997_2013'\n",
    "columns = ['YEAR', 'MONTH', 'FLUX', 'ID', 'CN ID 8', 'VAT','VART']\n",
    "aggregate_chunks = True\n",
    "chunk_agg_func = {'VART':['sum']}\n",
    "aggregate_years = True\n",
    "yr_agg_func = {'VART_sum':['sum']}\n",
    "verbose = True\n",
    "output_index = ['YEAR', 'MONTH', 'IMPORT', 'ID', 'CN ID 8', 'VAT']\n",
    "\n",
    "save_yr_agg_result = True\n",
    "save_path = path1+'/samplings'\n",
    "\n",
    "for bin_ in list(reversed(range(5))): #n_bins\n",
    "    print 'bin no. '+str(bin_)\n",
    "    sampling_name = 'YMxpb_size'+str(n_bins).zfill(2)+str(bin_).zfill(2)\n",
    "    l = []\n",
    "\n",
    "    for y in years:\n",
    "        print 'year: '+str(y)\n",
    "        #Rows for each chunk\n",
    "        size = np.ceil(nrows1[y]/n_chunks)\n",
    "        print 'max_chunk_size: '+str(size)\n",
    "\n",
    "        reader = pd.read_csv(data_path+'/DP1610_MAASTRICHT1_'+str(y)+'.txt', chunksize = size, \n",
    "                             usecols = map(colname_no.get, columns)\n",
    "                             , delimiter = ';', header = None) #'CN ID 8', 'PYOD'\n",
    "\n",
    "        yr_result_list = []\n",
    "\n",
    "        #Loop over chunks\n",
    "        for i in range(int(n_chunks)):\n",
    "            start_time = time.time()\n",
    "            chunk = next(reader).rename(colno_name, axis = 1)\n",
    "            chunk['IMPORT'] = chunk['FLUX'] % 2 # so that '1' indicates imports\n",
    "\n",
    "            \"\"\"\n",
    "            Chunk filtering\n",
    "            \"\"\"\n",
    "            #select imports/exports\n",
    "            chunk = select_entries(chunk, filter_col = 'IMPORT', value = 0)\n",
    "\n",
    "            # select by firm size\n",
    "            chunk_ = merge_ref(chunk, exp_size_ref, filter_ix = 'ID')\n",
    "            chunk = select_entries(chunk, filter_col = 'exp_mma_cat', value = bin_, by_df = chunk_)\n",
    "\n",
    "            \"\"\"\n",
    "            Chunk aggregation\n",
    "            \"\"\"\n",
    "            if aggregate_chunks: \n",
    "                result_chunk = aggregation(chunk, output_index, chunk_agg_func)\n",
    "            else: \n",
    "                result_chunk = chunk\n",
    "\n",
    "    #             print result_chunk.head()\n",
    "\n",
    "            yr_result_list += [result_chunk]\n",
    "            if verbose: print(\"Number of rows \",result_chunk.shape[0])\n",
    "            if verbose: print(\"Loop \",i,\"took %s seconds\" % (time.time() - start_time))\n",
    "            del(result_chunk) \n",
    "\n",
    "\n",
    "        concat_result = pd.concat(yr_result_list)\n",
    "    #         print concat_result.head()\n",
    "\n",
    "        # Unique users vs Number of rows after the first computation    \n",
    "        if verbose: print(\"size of concat_result:\", len(concat_result))\n",
    "    #         if verbose: print(\"unique firms in concat_result:\", len(concat_result.index.unique()))\n",
    "\n",
    "        result = concat_result\n",
    "        result.columns = ['_'.join(col).strip() for col in result.columns.values]\n",
    "\n",
    "        if aggregate_years:\n",
    "    #             yr_agg_result = result.groupby(index).agg(yr_agg_func)\n",
    "            yr_agg_result = aggregation(result, output_index, yr_agg_func)\n",
    "            yr_agg_result.index = pd.MultiIndex.from_tuples(list(yr_agg_result.index), names=tuple(output_index))\n",
    "            yr_agg_result.columns = yr_agg_result.columns.droplevel(1)\n",
    "\n",
    "        else:\n",
    "            yr_agg_result = result\n",
    "\n",
    "        if verbose: print(\"size of yr_agg_result:\", len(yr_agg_result))\n",
    "\n",
    "        l += [yr_agg_result]\n",
    "\n",
    "        if save_yr_agg_result:\n",
    "            yr_agg_result.to_csv(save_path+'/'+sampling_name+'_'+str(y)+'.csv')\n",
    "\n",
    "    filename = save_path+'/'+sampling_name+'.csv'\n",
    "    pd.concat(l).to_csv(filename, index = True)\n",
    "    print 'saved at: '+str(filename)\n",
    "\n"
   ]
  },
  {
   "cell_type": "code",
   "execution_count": null,
   "metadata": {
    "collapsed": false,
    "scrolled": true
   },
   "outputs": [],
   "source": [
    "# # Imports and exports by firm/year\n",
    "\n",
    "# IDs = firm_stats['ID']\n",
    "# Mns = [1, 2, 3]\n",
    "\n",
    "# def sample_data(columns, index = ['ID', 'IMPORT','YEAR'], chunk_agg = True, chunk_agg_func = {}, \n",
    "#             yr_agg_func = {}, name = 'test_sampling', n_chunks = 30.,\n",
    "#                 firm_filtering = True, firm_filtering_cols = ['ID'], firm_filtering_arrays = [IDs],\n",
    "#                 time_filtering = False, time_filtering_arrays = [Mns],\n",
    "#                 verbose = False, yr_chunks_agg = True, save_yr_agg_result = False,\n",
    "#                data_path = path1, save_path = path1+'/samplings/', select_IMPORTS = None):\n",
    "\n",
    "#     names = tuple(index)\n",
    "#     sampling_name = name\n",
    "\n",
    "#     l = []\n",
    "\n",
    "#     for y in years:\n",
    "#         print 'year: '+str(y)\n",
    "#         #Rows for each chunk\n",
    "#         size = np.ceil(nrows1[y]/n_chunks)\n",
    "#         print 'max_chunk_size: '+str(size)\n",
    "\n",
    "#         reader = pd.read_csv(data_path+'/DP1610_MAASTRICHT1_'+str(y)+'.txt', chunksize = size, \n",
    "#                              usecols = map(colname_no.get, columns)\n",
    "#                              , delimiter = ';', header = None) #'CN ID 8', 'PYOD'\n",
    "\n",
    "#         yr_result_list = []\n",
    "\n",
    "#         for i in range(int(n_chunks)):\n",
    "#             start_time = time.time()\n",
    "#             chunk = next(reader).rename(colno_name, axis = 1)\n",
    "#             chunk['IMPORT'] = chunk['FLUX'] % 2 # so that '1' indicates imports\n",
    "# #             print chunk.head()\n",
    "\n",
    "#             if firm_filtering == True:\n",
    "#                 for i in range(len(firm_filtering_cols)):\n",
    "#                     chunk = chunk.loc[chunk[firm_filtering_cols[i]].isin(firm_filtering_arrays[i])]\n",
    "#                     print 'filtered_chunk_size: '+str(len(chunk))\n",
    "# #             print chunk.head()\n",
    "                    \n",
    "#             if time_filtering == True:\n",
    "#                 time_filtering_cols = ['MONTH']\n",
    "#                 for i in range(len(time_filtering_cols)):\n",
    "#                     chunk = chunk.loc[chunk[time_filtering_cols[i]].isin(time_filtering_arrays[i])]\n",
    "#                     print 'filtered_chunk_size: '+str(len(chunk))\n",
    "\n",
    "#             if select_IMPORTS != None: chunk = chunk.loc[chunk.IMPORT == select_IMPORTS]\n",
    "\n",
    "#             if chunk_agg: \n",
    "#                 result_chunk = aggregation(chunk, index, chunk_agg_func)\n",
    "#             else: \n",
    "#                 result_chunk = chunk\n",
    "                \n",
    "# #             print result_chunk.head()\n",
    "\n",
    "#             yr_result_list += [result_chunk]\n",
    "#             if verbose: print(\"Number of rows \",result_chunk.shape[0])\n",
    "#             if verbose: print(\"Loop \",i,\"took %s seconds\" % (time.time() - start_time))\n",
    "#             del(result_chunk) \n",
    "\n",
    "\n",
    "#         concat_result = pd.concat(yr_result_list)\n",
    "# #         print concat_result.head()\n",
    "        \n",
    "#         # Unique users vs Number of rows after the first computation    \n",
    "#         if verbose: print(\"size of concat_result:\", len(concat_result))\n",
    "# #         if verbose: print(\"unique firms in concat_result:\", len(concat_result.index.unique()))\n",
    "\n",
    "#         result = concat_result\n",
    "#         result.columns = ['_'.join(col).strip() for col in result.columns.values]\n",
    "\n",
    "#         if yr_chunks_agg:\n",
    "# #             yr_agg_result = result.groupby(index).agg(yr_agg_func)\n",
    "#             yr_agg_result = aggregation(result, index, yr_agg_func)\n",
    "#             yr_agg_result.index = pd.MultiIndex.from_tuples(list(yr_agg_result.index), names=names)\n",
    "#             yr_agg_result.columns = yr_agg_result.columns.droplevel(1)\n",
    "\n",
    "#         else:\n",
    "#             yr_agg_result = result\n",
    "\n",
    "#         if verbose: print(\"size of yr_agg_result:\", len(yr_agg_result))\n",
    "\n",
    "#         l += [yr_agg_result]\n",
    "\n",
    "#         if save_yr_agg_result:\n",
    "#             yr_agg_result.to_csv(save_path+'/'+sampling_name+'_'+str(y)+'.csv')\n",
    "    \n",
    "#     filename = save_path+'/'+sampling_name+'.csv'\n",
    "#     pd.concat(l).to_csv(filename, index = True)\n",
    "#     print 'saved at: '+str(filename)\n",
    "\n"
   ]
  },
  {
   "cell_type": "code",
   "execution_count": null,
   "metadata": {
    "collapsed": true
   },
   "outputs": [],
   "source": [
    "# sizes_index = pd.read_csv('./../export_france/data/formatted/sizes_index.csv')\n",
    "\n",
    "# n = 10\n",
    "\n",
    "# sizes_index['log_exp_mma'] = np.log10(sizes_index.exp_mma).round(3)\n",
    "# cuts = pd.cut(sizes_index.groupby(sizes_index['log_exp_mma']).sum().cumsum()['exp_mma'],n, labels=range(n))\n",
    "# exp_index = sizes_index.merge(cuts.reset_index().rename({'exp_mma': 'exp_mma_cat'}, axis = 1), on = 'log_exp_mma').dropna(subset = ['exp_mma'])"
   ]
  },
  {
   "cell_type": "code",
   "execution_count": null,
   "metadata": {
    "collapsed": false
   },
   "outputs": [],
   "source": [
    "# # Oct 4\n",
    "# sizes_index = pd.read_csv('./../export_france/data/formatted/sizes_index.csv', index_col=0)\n",
    "# n = 20\n",
    "# exp_index = sizes_index.dropna(subset = ['exp_mma'])\n",
    "# exp_index['exp_qcut_'+str(n)+'_label'] = pd.qcut(exp_index['exp_mma'], n, labels=range(n))\n",
    "# exp_index['exp_qcut_'+str(n)] = pd.qcut(exp_index['exp_mma'], n)\n",
    "\n",
    "# # imp_index = sizes_index.dropna(subset = ['imp_mma'])\n",
    "# # imp_index['imp_cut_'+str(n)+'_label'] = pd.cut(imp_index['imp_mma'], n, labels=range(n))\n",
    "# # imp_index['imp_cut_'+str(n)] = pd.cut(imp_index['imp_mma'], n)"
   ]
  },
  {
   "cell_type": "code",
   "execution_count": null,
   "metadata": {
    "collapsed": true
   },
   "outputs": [],
   "source": [
    "\n",
    "# Mns = range(1,13)\n",
    "# time_filtering_arrays = [Mns]\n",
    "\n",
    "# # use all firms\n",
    "# sample_n_firms = 'max'\n",
    "\n",
    "# years = list(reversed(range(1997, 2014)))\n",
    "\n",
    "# for bin_label in list(reversed(range(n))):\n",
    "#     print 'bin label: '+str(bin_label)\n",
    "#     IDs = exp_index.loc[exp_index.exp_mma_cat == bin_label].index\n",
    "#     print IDs\n",
    "# #     IDs = imp_index.loc[imp_index.imp_cut_20_label == bin_label].index\n",
    "#     columns = ['YEAR', 'MONTH', 'FLUX', 'ID', 'CN ID 8', 'VAT','VART']\n",
    "#     sample_data(columns, index = ['YEAR', 'MONTH', 'IMPORT', 'ID', 'CN ID 8', 'VAT'], chunk_agg_func = {'VART':['sum']}, \n",
    "#                 firm_filtering = True, firm_filtering_cols = ['ID'], firm_filtering_arrays = [IDs],\n",
    "#                 yr_agg_func = {'VART_sum':['sum']}, n_chunks = 10., \n",
    "#                 name = 'firm_sample_YMxpb_n'+str(n).zfill(2)+str(bin_label).zfill(2),\n",
    "#                 verbose = False, yr_chunks_agg = True, select_IMPORTS = 0, save_yr_agg_result = True)\n"
   ]
  },
  {
   "cell_type": "code",
   "execution_count": null,
   "metadata": {
    "collapsed": true
   },
   "outputs": [],
   "source": []
  }
 ],
 "metadata": {
  "kernelspec": {
   "display_name": "Python 2",
   "language": "python",
   "name": "python2"
  },
  "language_info": {
   "codemirror_mode": {
    "name": "ipython",
    "version": 2
   },
   "file_extension": ".py",
   "mimetype": "text/x-python",
   "name": "python",
   "nbconvert_exporter": "python",
   "pygments_lexer": "ipython2",
   "version": "2.7.13"
  }
 },
 "nbformat": 4,
 "nbformat_minor": 2
}
