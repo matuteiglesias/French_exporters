{
 "cells": [
  {
   "cell_type": "code",
   "execution_count": 1,
   "metadata": {},
   "outputs": [
    {
     "data": {
      "text/html": [
       "<style>.container { width:100% !important; }</style>"
      ],
      "text/plain": [
       "<IPython.core.display.HTML object>"
      ]
     },
     "metadata": {},
     "output_type": "display_data"
    }
   ],
   "source": [
    "import pandas as pd\n",
    "import matplotlib.pyplot as plt\n",
    "%matplotlib inline\n",
    "import numpy as np\n",
    "\n",
    "from IPython.core.display import display, HTML\n",
    "display(HTML(\"<style>.container { width:100% !important; }</style>\"))"
   ]
  },
  {
   "cell_type": "code",
   "execution_count": 2,
   "metadata": {},
   "outputs": [
    {
     "data": {
      "text/plain": [
       "0    98643\n",
       "1     4212\n",
       "2     1414\n",
       "3      635\n",
       "4      319\n",
       "5      168\n",
       "6       92\n",
       "7       46\n",
       "8       17\n",
       "9        5\n",
       "dtype: int64"
      ]
     },
     "execution_count": 2,
     "metadata": {},
     "output_type": "execute_result"
    }
   ],
   "source": [
    "df = pd.read_csv('./../../data/processed/ID_Y.csv')\n",
    "# df = pd.read_csv('./../../data/processed/.csv')\n",
    "\n",
    "Mbool = 0\n",
    "sales = df.loc[df.IMPORT == Mbool].groupby(['ID', 'YEAR'])['VART'].sum().unstack()\n",
    "\n",
    "sales = sales.loc[sales.sum(1).sort_values().index]\n",
    "\n",
    "logsales = np.log10(sales)\n",
    "demlogsales = logsales.subtract(logsales.mean(1), axis = 0)\n",
    "\n",
    "sizes = sales.loc[sales.sum(1).sort_values().index].sum(1)\n",
    "\n",
    "Q = 10\n",
    "parts = pd.cut(sizes.cumsum()/sizes.sum(), Q, labels = range(Q)).sort_index()\n",
    "\n",
    "## Effective Nq\n",
    "eff_nq = sales.groupby(parts).count().mean(1).round().astype(int)\n",
    "eff_nq"
   ]
  },
  {
   "cell_type": "code",
   "execution_count": 3,
   "metadata": {},
   "outputs": [
    {
     "data": {
      "text/plain": [
       "6908"
      ]
     },
     "execution_count": 3,
     "metadata": {},
     "output_type": "execute_result"
    }
   ],
   "source": [
    "eff_nq[1:].sum()"
   ]
  },
  {
   "cell_type": "code",
   "execution_count": 4,
   "metadata": {},
   "outputs": [],
   "source": [
    "## Microshocks\n",
    "demlogsales['parts'] = parts\n",
    "std_data = demlogsales.loc[demlogsales.iloc[:, :-1].count(1) > 1]\n",
    "\n",
    "std_info = std_data.reset_index().set_index(['ID', 'parts']).stack()\n",
    "sdt_q = std_info.groupby(level = 'parts').std()\n",
    "avg_std = std_info.std()\n",
    "\n",
    "# Un array de donde samplear shocks empiricos.\n",
    "emp_shocks = std_info.values\n",
    "# len(emp_shocks)"
   ]
  },
  {
   "cell_type": "code",
   "execution_count": 5,
   "metadata": {},
   "outputs": [
    {
     "name": "stdout",
     "output_type": "stream",
     "text": [
      "0.49146737237448623\n"
     ]
    },
    {
     "data": {
      "text/plain": [
       "parts\n",
       "0    0.481817\n",
       "1    0.584927\n",
       "2    0.604532\n",
       "3    0.640641\n",
       "4    0.664912\n",
       "5    0.620892\n",
       "6    0.610946\n",
       "7    0.722794\n",
       "8    0.519787\n",
       "9    1.395501\n",
       "dtype: float64"
      ]
     },
     "execution_count": 5,
     "metadata": {},
     "output_type": "execute_result"
    }
   ],
   "source": [
    "print(avg_std)\n",
    "\n",
    "sdt_q"
   ]
  },
  {
   "cell_type": "code",
   "execution_count": 6,
   "metadata": {},
   "outputs": [],
   "source": [
    "# emp_nqs = np.round(nq.sort_values()).astype(int)\n",
    "partition = eff_nq.astype(int)\n",
    "ss = np.arange(0.1, .8, .1)\n",
    "M = 200\n",
    "\n",
    "T = 17"
   ]
  },
  {
   "cell_type": "code",
   "execution_count": 7,
   "metadata": {},
   "outputs": [
    {
     "data": {
      "text/plain": [
       "1.2571764836772036e-18"
      ]
     },
     "execution_count": 7,
     "metadata": {},
     "output_type": "execute_result"
    }
   ],
   "source": [
    "# I don't knwo the possible mus, because on every firm I subtracted the observed mean value.\n",
    "# Still, one can say they are well below mu = 0.1.\n",
    "\n",
    "emp_shocks.mean()"
   ]
  },
  {
   "cell_type": "code",
   "execution_count": 8,
   "metadata": {},
   "outputs": [],
   "source": [
    "mus = [0, 0.01, 0.02, 0.05, 0.1]"
   ]
  },
  {
   "cell_type": "code",
   "execution_count": 13,
   "metadata": {
    "collapsed": true
   },
   "outputs": [
    {
     "name": "stdout",
     "output_type": "stream",
     "text": [
      "1 4212\n"
     ]
    },
    {
     "name": "stderr",
     "output_type": "stream",
     "text": [
      "ERROR:root:Internal Python error in the inspect module.\n",
      "Below is the traceback from this internal error.\n",
      "\n"
     ]
    },
    {
     "name": "stdout",
     "output_type": "stream",
     "text": [
      "Traceback (most recent call last):\n",
      "  File \"/home/miglesia/anaconda2/envs/my_pymc_env/lib/python3.6/site-packages/IPython/core/interactiveshell.py\", line 2961, in run_code\n",
      "    exec(code_obj, self.user_global_ns, self.user_ns)\n",
      "  File \"<ipython-input-13-aee6c178136e>\", line 25, in <module>\n",
      "    ratio = np.power(10, shocks).sum(0)/n #M?\n",
      "KeyboardInterrupt\n",
      "\n",
      "During handling of the above exception, another exception occurred:\n",
      "\n",
      "Traceback (most recent call last):\n",
      "  File \"/home/miglesia/anaconda2/envs/my_pymc_env/lib/python3.6/site-packages/IPython/core/interactiveshell.py\", line 1863, in showtraceback\n",
      "    stb = value._render_traceback_()\n",
      "AttributeError: 'KeyboardInterrupt' object has no attribute '_render_traceback_'\n",
      "\n",
      "During handling of the above exception, another exception occurred:\n",
      "\n",
      "Traceback (most recent call last):\n",
      "  File \"/home/miglesia/anaconda2/envs/my_pymc_env/lib/python3.6/site-packages/IPython/core/ultratb.py\", line 1095, in get_records\n",
      "    return _fixed_getinnerframes(etb, number_of_lines_of_context, tb_offset)\n",
      "  File \"/home/miglesia/anaconda2/envs/my_pymc_env/lib/python3.6/site-packages/IPython/core/ultratb.py\", line 311, in wrapped\n",
      "    return f(*args, **kwargs)\n",
      "  File \"/home/miglesia/anaconda2/envs/my_pymc_env/lib/python3.6/site-packages/IPython/core/ultratb.py\", line 345, in _fixed_getinnerframes\n",
      "    records = fix_frame_records_filenames(inspect.getinnerframes(etb, context))\n",
      "  File \"/home/miglesia/anaconda2/envs/my_pymc_env/lib/python3.6/inspect.py\", line 1488, in getinnerframes\n",
      "    frameinfo = (tb.tb_frame,) + getframeinfo(tb, context)\n",
      "  File \"/home/miglesia/anaconda2/envs/my_pymc_env/lib/python3.6/inspect.py\", line 1446, in getframeinfo\n",
      "    filename = getsourcefile(frame) or getfile(frame)\n",
      "  File \"/home/miglesia/anaconda2/envs/my_pymc_env/lib/python3.6/inspect.py\", line 696, in getsourcefile\n",
      "    if getattr(getmodule(object, filename), '__loader__', None) is not None:\n",
      "  File \"/home/miglesia/anaconda2/envs/my_pymc_env/lib/python3.6/inspect.py\", line 725, in getmodule\n",
      "    file = getabsfile(object, _filename)\n",
      "  File \"/home/miglesia/anaconda2/envs/my_pymc_env/lib/python3.6/inspect.py\", line 709, in getabsfile\n",
      "    return os.path.normcase(os.path.abspath(_filename))\n",
      "  File \"/home/miglesia/anaconda2/envs/my_pymc_env/lib/python3.6/posixpath.py\", line 376, in abspath\n",
      "    cwd = os.getcwd()\n",
      "OSError: [Errno 5] Input/output error\n"
     ]
    },
    {
     "ename": "KeyboardInterrupt",
     "evalue": "",
     "output_type": "error",
     "traceback": [
      "\u001b[0;31m---------------------------------------------------------------------------\u001b[0m"
     ]
    }
   ],
   "source": [
    "\n",
    "### Experiments (gaussian and laplace deviations from mean)\n",
    "\n",
    "results = []\n",
    "\n",
    "s0 = emp_shocks.std()\n",
    "\n",
    "for dist in ['norm', 'lapl', 'emp']:\n",
    "    for q in range(Q)[1:]:\n",
    "        part = partition.index[q]\n",
    "        n = partition.values[q]\n",
    "#         x0 = np.log10(sizes.loc[parts == part]).values # comment for narrow bin limit\n",
    "        print(q, n)\n",
    "        for s in ss:\n",
    "            for mu in mus:\n",
    "\n",
    "                for m in range(M):\n",
    "                    if dist == 'norm':\n",
    "                        shocks = np.random.normal(mu, s, (n, T))\n",
    "                    elif dist == 'lapl':\n",
    "                        shocks = np.random.laplace(mu, s/np.sqrt(2), (n, T))\n",
    "                    elif dist == 'emp':\n",
    "                        shocks = (mu + np.random.choice(emp_shocks, n * T)*(s/s0)).reshape(n, T)\n",
    "\n",
    "                    ratio = np.power(10, shocks).sum(0)/n #M?\n",
    "                    log_ratio = np.log10(ratio) #M?\n",
    "    #                 values = np.log10(np.power(10, x0[:, None] + shocks).sum(0)/np.power(10, x0[:, None]).sum(0)) #M? # comment for narrow bin limit\n",
    "\n",
    "    #             t += [np.power(10, x0 + x1).sum()/(n*10**mu0)]\n",
    "                    results += [[dist, s, mu, n, m, ratio.mean(), ratio.std(), ratio.var(), log_ratio.mean(), log_ratio.std(), log_ratio.var()]]\n",
    "\n",
    "result = pd.DataFrame(results, columns = ['dist', 's', 'mu', 'nq', 'repeat', 'mean_ratio', 'std_ratio', 'var_ratio', 'mean_log_ratio', 'std_log_ratio', 'var_log_ratio'])\n"
   ]
  },
  {
   "cell_type": "code",
   "execution_count": 10,
   "metadata": {},
   "outputs": [],
   "source": [
    "result.to_csv('./experiment_3.csv', index = False)"
   ]
  },
  {
   "cell_type": "code",
   "execution_count": 11,
   "metadata": {},
   "outputs": [
    {
     "data": {
      "text/html": [
       "<div>\n",
       "<style scoped>\n",
       "    .dataframe tbody tr th:only-of-type {\n",
       "        vertical-align: middle;\n",
       "    }\n",
       "\n",
       "    .dataframe tbody tr th {\n",
       "        vertical-align: top;\n",
       "    }\n",
       "\n",
       "    .dataframe thead th {\n",
       "        text-align: right;\n",
       "    }\n",
       "</style>\n",
       "<table border=\"1\" class=\"dataframe\">\n",
       "  <thead>\n",
       "    <tr style=\"text-align: right;\">\n",
       "      <th></th>\n",
       "      <th>dist</th>\n",
       "      <th>s</th>\n",
       "      <th>mu</th>\n",
       "      <th>nq</th>\n",
       "      <th>repeat</th>\n",
       "      <th>mean_ratio</th>\n",
       "      <th>std_ratio</th>\n",
       "      <th>var_ratio</th>\n",
       "      <th>mean_log_ratio</th>\n",
       "      <th>std_log_ratio</th>\n",
       "      <th>var_log_ratio</th>\n",
       "    </tr>\n",
       "  </thead>\n",
       "  <tbody>\n",
       "    <tr>\n",
       "      <th>0</th>\n",
       "      <td>norm</td>\n",
       "      <td>0.1</td>\n",
       "      <td>0.0</td>\n",
       "      <td>4212</td>\n",
       "      <td>0</td>\n",
       "      <td>1.027992</td>\n",
       "      <td>0.004581</td>\n",
       "      <td>0.000021</td>\n",
       "      <td>0.011985</td>\n",
       "      <td>0.001936</td>\n",
       "      <td>0.000004</td>\n",
       "    </tr>\n",
       "    <tr>\n",
       "      <th>1</th>\n",
       "      <td>norm</td>\n",
       "      <td>0.1</td>\n",
       "      <td>0.0</td>\n",
       "      <td>4212</td>\n",
       "      <td>1</td>\n",
       "      <td>1.025738</td>\n",
       "      <td>0.004398</td>\n",
       "      <td>0.000019</td>\n",
       "      <td>0.011032</td>\n",
       "      <td>0.001861</td>\n",
       "      <td>0.000003</td>\n",
       "    </tr>\n",
       "    <tr>\n",
       "      <th>2</th>\n",
       "      <td>norm</td>\n",
       "      <td>0.1</td>\n",
       "      <td>0.0</td>\n",
       "      <td>4212</td>\n",
       "      <td>2</td>\n",
       "      <td>1.026318</td>\n",
       "      <td>0.002923</td>\n",
       "      <td>0.000009</td>\n",
       "      <td>0.011280</td>\n",
       "      <td>0.001236</td>\n",
       "      <td>0.000002</td>\n",
       "    </tr>\n",
       "    <tr>\n",
       "      <th>3</th>\n",
       "      <td>norm</td>\n",
       "      <td>0.1</td>\n",
       "      <td>0.0</td>\n",
       "      <td>4212</td>\n",
       "      <td>3</td>\n",
       "      <td>1.027716</td>\n",
       "      <td>0.003463</td>\n",
       "      <td>0.000012</td>\n",
       "      <td>0.011871</td>\n",
       "      <td>0.001463</td>\n",
       "      <td>0.000002</td>\n",
       "    </tr>\n",
       "    <tr>\n",
       "      <th>4</th>\n",
       "      <td>norm</td>\n",
       "      <td>0.1</td>\n",
       "      <td>0.0</td>\n",
       "      <td>4212</td>\n",
       "      <td>4</td>\n",
       "      <td>1.026964</td>\n",
       "      <td>0.002398</td>\n",
       "      <td>0.000006</td>\n",
       "      <td>0.011554</td>\n",
       "      <td>0.001014</td>\n",
       "      <td>0.000001</td>\n",
       "    </tr>\n",
       "  </tbody>\n",
       "</table>\n",
       "</div>"
      ],
      "text/plain": [
       "   dist    s   mu    nq  repeat  mean_ratio  std_ratio  var_ratio  \\\n",
       "0  norm  0.1  0.0  4212       0    1.027992   0.004581   0.000021   \n",
       "1  norm  0.1  0.0  4212       1    1.025738   0.004398   0.000019   \n",
       "2  norm  0.1  0.0  4212       2    1.026318   0.002923   0.000009   \n",
       "3  norm  0.1  0.0  4212       3    1.027716   0.003463   0.000012   \n",
       "4  norm  0.1  0.0  4212       4    1.026964   0.002398   0.000006   \n",
       "\n",
       "   mean_log_ratio  std_log_ratio  var_log_ratio  \n",
       "0        0.011985       0.001936       0.000004  \n",
       "1        0.011032       0.001861       0.000003  \n",
       "2        0.011280       0.001236       0.000002  \n",
       "3        0.011871       0.001463       0.000002  \n",
       "4        0.011554       0.001014       0.000001  "
      ]
     },
     "execution_count": 11,
     "metadata": {},
     "output_type": "execute_result"
    }
   ],
   "source": [
    "result.head()"
   ]
  },
  {
   "cell_type": "code",
   "execution_count": 12,
   "metadata": {},
   "outputs": [
    {
     "data": {
      "text/html": [
       "<div>\n",
       "<style scoped>\n",
       "    .dataframe tbody tr th:only-of-type {\n",
       "        vertical-align: middle;\n",
       "    }\n",
       "\n",
       "    .dataframe tbody tr th {\n",
       "        vertical-align: top;\n",
       "    }\n",
       "\n",
       "    .dataframe thead th {\n",
       "        text-align: right;\n",
       "    }\n",
       "</style>\n",
       "<table border=\"1\" class=\"dataframe\">\n",
       "  <thead>\n",
       "    <tr style=\"text-align: right;\">\n",
       "      <th></th>\n",
       "      <th>dist</th>\n",
       "      <th>s</th>\n",
       "      <th>mu</th>\n",
       "      <th>nq</th>\n",
       "      <th>repeat</th>\n",
       "      <th>mean_ratio</th>\n",
       "      <th>std_ratio</th>\n",
       "      <th>var_ratio</th>\n",
       "      <th>mean_log_ratio</th>\n",
       "      <th>std_log_ratio</th>\n",
       "      <th>var_log_ratio</th>\n",
       "    </tr>\n",
       "  </thead>\n",
       "  <tbody>\n",
       "    <tr>\n",
       "      <th>188995</th>\n",
       "      <td>emp</td>\n",
       "      <td>0.7</td>\n",
       "      <td>0.1</td>\n",
       "      <td>5</td>\n",
       "      <td>195</td>\n",
       "      <td>17.212552</td>\n",
       "      <td>30.667720</td>\n",
       "      <td>940.509075</td>\n",
       "      <td>0.740966</td>\n",
       "      <td>0.597533</td>\n",
       "      <td>0.357046</td>\n",
       "    </tr>\n",
       "    <tr>\n",
       "      <th>188996</th>\n",
       "      <td>emp</td>\n",
       "      <td>0.7</td>\n",
       "      <td>0.1</td>\n",
       "      <td>5</td>\n",
       "      <td>196</td>\n",
       "      <td>3.811210</td>\n",
       "      <td>3.621271</td>\n",
       "      <td>13.113606</td>\n",
       "      <td>0.442794</td>\n",
       "      <td>0.340137</td>\n",
       "      <td>0.115693</td>\n",
       "    </tr>\n",
       "    <tr>\n",
       "      <th>188997</th>\n",
       "      <td>emp</td>\n",
       "      <td>0.7</td>\n",
       "      <td>0.1</td>\n",
       "      <td>5</td>\n",
       "      <td>197</td>\n",
       "      <td>28.219017</td>\n",
       "      <td>102.976585</td>\n",
       "      <td>10604.176991</td>\n",
       "      <td>0.465511</td>\n",
       "      <td>0.590461</td>\n",
       "      <td>0.348644</td>\n",
       "    </tr>\n",
       "    <tr>\n",
       "      <th>188998</th>\n",
       "      <td>emp</td>\n",
       "      <td>0.7</td>\n",
       "      <td>0.1</td>\n",
       "      <td>5</td>\n",
       "      <td>198</td>\n",
       "      <td>2.725077</td>\n",
       "      <td>3.014994</td>\n",
       "      <td>9.090187</td>\n",
       "      <td>0.271304</td>\n",
       "      <td>0.349368</td>\n",
       "      <td>0.122058</td>\n",
       "    </tr>\n",
       "    <tr>\n",
       "      <th>188999</th>\n",
       "      <td>emp</td>\n",
       "      <td>0.7</td>\n",
       "      <td>0.1</td>\n",
       "      <td>5</td>\n",
       "      <td>199</td>\n",
       "      <td>5.138255</td>\n",
       "      <td>6.685347</td>\n",
       "      <td>44.693863</td>\n",
       "      <td>0.523427</td>\n",
       "      <td>0.365735</td>\n",
       "      <td>0.133762</td>\n",
       "    </tr>\n",
       "  </tbody>\n",
       "</table>\n",
       "</div>"
      ],
      "text/plain": [
       "       dist    s   mu  nq  repeat  mean_ratio   std_ratio     var_ratio  \\\n",
       "188995  emp  0.7  0.1   5     195   17.212552   30.667720    940.509075   \n",
       "188996  emp  0.7  0.1   5     196    3.811210    3.621271     13.113606   \n",
       "188997  emp  0.7  0.1   5     197   28.219017  102.976585  10604.176991   \n",
       "188998  emp  0.7  0.1   5     198    2.725077    3.014994      9.090187   \n",
       "188999  emp  0.7  0.1   5     199    5.138255    6.685347     44.693863   \n",
       "\n",
       "        mean_log_ratio  std_log_ratio  var_log_ratio  \n",
       "188995        0.740966       0.597533       0.357046  \n",
       "188996        0.442794       0.340137       0.115693  \n",
       "188997        0.465511       0.590461       0.348644  \n",
       "188998        0.271304       0.349368       0.122058  \n",
       "188999        0.523427       0.365735       0.133762  "
      ]
     },
     "execution_count": 12,
     "metadata": {},
     "output_type": "execute_result"
    }
   ],
   "source": [
    "result.tail()"
   ]
  },
  {
   "cell_type": "code",
   "execution_count": null,
   "metadata": {},
   "outputs": [],
   "source": []
  }
 ],
 "metadata": {
  "kernelspec": {
   "display_name": "Python 3",
   "language": "python",
   "name": "python3"
  },
  "language_info": {
   "codemirror_mode": {
    "name": "ipython",
    "version": 3
   },
   "file_extension": ".py",
   "mimetype": "text/x-python",
   "name": "python",
   "nbconvert_exporter": "python",
   "pygments_lexer": "ipython3",
   "version": "3.6.7"
  }
 },
 "nbformat": 4,
 "nbformat_minor": 2
}
