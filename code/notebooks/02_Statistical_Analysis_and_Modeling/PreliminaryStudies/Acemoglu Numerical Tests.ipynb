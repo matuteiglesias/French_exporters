{
 "cells": [
  {
   "cell_type": "code",
   "execution_count": 1,
   "metadata": {},
   "outputs": [],
   "source": [
    "import pandas as pd\n",
    "import numpy as np\n",
    "\n",
    "import matplotlib.pyplot as plt\n",
    "%matplotlib inline\n",
    "\n",
    "import scipy.linalg as la\n",
    "\n",
    "from numpy.linalg import matrix_power\n"
   ]
  },
  {
   "cell_type": "markdown",
   "metadata": {},
   "source": [
    "#### With consumption vector"
   ]
  },
  {
   "cell_type": "code",
   "execution_count": 2,
   "metadata": {},
   "outputs": [],
   "source": [
    "## Log of real value added\n",
    "\n",
    "n = 4\n",
    "a = .1\n",
    "\n",
    "\n",
    "# ## Unconstrained power law distribution\n",
    "# S = round(np.power(10, pd.DataFrame(np.random.uniform(2, 4, (n, n)))), -2)\n",
    "# c = round(np.power(10, pd.DataFrame(np.random.uniform(2, 4, (n, 1)))), -2)\n",
    "\n",
    "\n",
    "### Schematic edge weights\n",
    "S = pd.DataFrame(np.full((n, n), 100))\n",
    "c = pd.DataFrame(np.full(n, 100))\n"
   ]
  },
  {
   "cell_type": "markdown",
   "metadata": {},
   "source": [
    "### Different nw structures"
   ]
  },
  {
   "cell_type": "code",
   "execution_count": 3,
   "metadata": {},
   "outputs": [],
   "source": [
    "# M is the adjacency matrix\n",
    "Mi = np.eye(n)\n",
    "Mo = np.roll(Mi, -n)\n",
    "Mc = np.full((n, n), 1)\n",
    "Ms = np.full((n, n), 0); Ms[0, 1:] = 1; Ms[1:, 0] = 1\n",
    "\n",
    "Si = pd.DataFrame(Mi*S.values)\n",
    "So = pd.DataFrame(Mo*S.mean().mean())\n",
    "Sc = pd.DataFrame(Mc*S.values)\n",
    "Ss = pd.DataFrame(Ms*S.mean().mean())\n"
   ]
  },
  {
   "cell_type": "code",
   "execution_count": 4,
   "metadata": {},
   "outputs": [],
   "source": [
    "# s = 100\n",
    "# c = 100\n",
    "# ct = n*100\n",
    "# n = 5\n",
    "# s / ( (c + n*s) *(1 - s *(  n / (c + n*100) ) ) )"
   ]
  },
  {
   "cell_type": "code",
   "execution_count": 5,
   "metadata": {
    "scrolled": false
   },
   "outputs": [
    {
     "name": "stdout",
     "output_type": "stream",
     "text": [
      "Isolated\n"
     ]
    },
    {
     "data": {
      "text/html": [
       "<div>\n",
       "<style scoped>\n",
       "    .dataframe tbody tr th:only-of-type {\n",
       "        vertical-align: middle;\n",
       "    }\n",
       "\n",
       "    .dataframe tbody tr th {\n",
       "        vertical-align: top;\n",
       "    }\n",
       "\n",
       "    .dataframe thead th {\n",
       "        text-align: right;\n",
       "    }\n",
       "</style>\n",
       "<table border=\"1\" class=\"dataframe\">\n",
       "  <thead>\n",
       "    <tr style=\"text-align: right;\">\n",
       "      <th></th>\n",
       "      <th>0</th>\n",
       "      <th>1</th>\n",
       "      <th>2</th>\n",
       "      <th>3</th>\n",
       "    </tr>\n",
       "  </thead>\n",
       "  <tbody>\n",
       "    <tr>\n",
       "      <th>0</th>\n",
       "      <td>10.0</td>\n",
       "      <td>0.0</td>\n",
       "      <td>0.0</td>\n",
       "      <td>0.0</td>\n",
       "    </tr>\n",
       "    <tr>\n",
       "      <th>1</th>\n",
       "      <td>0.0</td>\n",
       "      <td>10.0</td>\n",
       "      <td>0.0</td>\n",
       "      <td>0.0</td>\n",
       "    </tr>\n",
       "    <tr>\n",
       "      <th>2</th>\n",
       "      <td>0.0</td>\n",
       "      <td>0.0</td>\n",
       "      <td>10.0</td>\n",
       "      <td>0.0</td>\n",
       "    </tr>\n",
       "    <tr>\n",
       "      <th>3</th>\n",
       "      <td>0.0</td>\n",
       "      <td>0.0</td>\n",
       "      <td>0.0</td>\n",
       "      <td>10.0</td>\n",
       "    </tr>\n",
       "  </tbody>\n",
       "</table>\n",
       "</div>"
      ],
      "text/plain": [
       "      0     1     2     3\n",
       "0  10.0   0.0   0.0   0.0\n",
       "1   0.0  10.0   0.0   0.0\n",
       "2   0.0   0.0  10.0   0.0\n",
       "3   0.0   0.0   0.0  10.0"
      ]
     },
     "metadata": {},
     "output_type": "display_data"
    },
    {
     "data": {
      "text/html": [
       "<div>\n",
       "<style scoped>\n",
       "    .dataframe tbody tr th:only-of-type {\n",
       "        vertical-align: middle;\n",
       "    }\n",
       "\n",
       "    .dataframe tbody tr th {\n",
       "        vertical-align: top;\n",
       "    }\n",
       "\n",
       "    .dataframe thead th {\n",
       "        text-align: right;\n",
       "    }\n",
       "</style>\n",
       "<table border=\"1\" class=\"dataframe\">\n",
       "  <thead>\n",
       "    <tr style=\"text-align: right;\">\n",
       "      <th></th>\n",
       "      <th>0</th>\n",
       "      <th>1</th>\n",
       "      <th>2</th>\n",
       "      <th>3</th>\n",
       "    </tr>\n",
       "  </thead>\n",
       "  <tbody>\n",
       "    <tr>\n",
       "      <th>0</th>\n",
       "      <td>1.1</td>\n",
       "      <td>0.0</td>\n",
       "      <td>0.0</td>\n",
       "      <td>-0.0</td>\n",
       "    </tr>\n",
       "    <tr>\n",
       "      <th>1</th>\n",
       "      <td>0.0</td>\n",
       "      <td>1.1</td>\n",
       "      <td>0.0</td>\n",
       "      <td>-0.0</td>\n",
       "    </tr>\n",
       "    <tr>\n",
       "      <th>2</th>\n",
       "      <td>0.0</td>\n",
       "      <td>0.0</td>\n",
       "      <td>1.1</td>\n",
       "      <td>-0.0</td>\n",
       "    </tr>\n",
       "    <tr>\n",
       "      <th>3</th>\n",
       "      <td>0.0</td>\n",
       "      <td>0.0</td>\n",
       "      <td>0.0</td>\n",
       "      <td>1.1</td>\n",
       "    </tr>\n",
       "  </tbody>\n",
       "</table>\n",
       "</div>"
      ],
      "text/plain": [
       "     0    1    2    3\n",
       "0  1.1  0.0  0.0 -0.0\n",
       "1  0.0  1.1  0.0 -0.0\n",
       "2  0.0  0.0  1.1 -0.0\n",
       "3  0.0  0.0  0.0  1.1"
      ]
     },
     "metadata": {},
     "output_type": "display_data"
    },
    {
     "name": "stdout",
     "output_type": "stream",
     "text": [
      "[1.1]\n",
      "[1.1]\n",
      "[1.1]\n",
      "[1.1]\n",
      "***\n",
      "Circular\n"
     ]
    },
    {
     "data": {
      "text/html": [
       "<div>\n",
       "<style scoped>\n",
       "    .dataframe tbody tr th:only-of-type {\n",
       "        vertical-align: middle;\n",
       "    }\n",
       "\n",
       "    .dataframe tbody tr th {\n",
       "        vertical-align: top;\n",
       "    }\n",
       "\n",
       "    .dataframe thead th {\n",
       "        text-align: right;\n",
       "    }\n",
       "</style>\n",
       "<table border=\"1\" class=\"dataframe\">\n",
       "  <thead>\n",
       "    <tr style=\"text-align: right;\">\n",
       "      <th></th>\n",
       "      <th>0</th>\n",
       "      <th>1</th>\n",
       "      <th>2</th>\n",
       "      <th>3</th>\n",
       "    </tr>\n",
       "  </thead>\n",
       "  <tbody>\n",
       "    <tr>\n",
       "      <th>0</th>\n",
       "      <td>0.0</td>\n",
       "      <td>10.0</td>\n",
       "      <td>0.0</td>\n",
       "      <td>0.0</td>\n",
       "    </tr>\n",
       "    <tr>\n",
       "      <th>1</th>\n",
       "      <td>0.0</td>\n",
       "      <td>0.0</td>\n",
       "      <td>10.0</td>\n",
       "      <td>0.0</td>\n",
       "    </tr>\n",
       "    <tr>\n",
       "      <th>2</th>\n",
       "      <td>0.0</td>\n",
       "      <td>0.0</td>\n",
       "      <td>0.0</td>\n",
       "      <td>10.0</td>\n",
       "    </tr>\n",
       "    <tr>\n",
       "      <th>3</th>\n",
       "      <td>10.0</td>\n",
       "      <td>0.0</td>\n",
       "      <td>0.0</td>\n",
       "      <td>0.0</td>\n",
       "    </tr>\n",
       "  </tbody>\n",
       "</table>\n",
       "</div>"
      ],
      "text/plain": [
       "      0     1     2     3\n",
       "0   0.0  10.0   0.0   0.0\n",
       "1   0.0   0.0  10.0   0.0\n",
       "2   0.0   0.0   0.0  10.0\n",
       "3  10.0   0.0   0.0   0.0"
      ]
     },
     "metadata": {},
     "output_type": "display_data"
    },
    {
     "data": {
      "text/html": [
       "<div>\n",
       "<style scoped>\n",
       "    .dataframe tbody tr th:only-of-type {\n",
       "        vertical-align: middle;\n",
       "    }\n",
       "\n",
       "    .dataframe tbody tr th {\n",
       "        vertical-align: top;\n",
       "    }\n",
       "\n",
       "    .dataframe thead th {\n",
       "        text-align: right;\n",
       "    }\n",
       "</style>\n",
       "<table border=\"1\" class=\"dataframe\">\n",
       "  <thead>\n",
       "    <tr style=\"text-align: right;\">\n",
       "      <th></th>\n",
       "      <th>0</th>\n",
       "      <th>1</th>\n",
       "      <th>2</th>\n",
       "      <th>3</th>\n",
       "    </tr>\n",
       "  </thead>\n",
       "  <tbody>\n",
       "    <tr>\n",
       "      <th>0</th>\n",
       "      <td>1.000</td>\n",
       "      <td>0.091</td>\n",
       "      <td>0.008</td>\n",
       "      <td>0.001</td>\n",
       "    </tr>\n",
       "    <tr>\n",
       "      <th>1</th>\n",
       "      <td>0.001</td>\n",
       "      <td>1.000</td>\n",
       "      <td>0.091</td>\n",
       "      <td>0.008</td>\n",
       "    </tr>\n",
       "    <tr>\n",
       "      <th>2</th>\n",
       "      <td>0.008</td>\n",
       "      <td>0.001</td>\n",
       "      <td>1.000</td>\n",
       "      <td>0.091</td>\n",
       "    </tr>\n",
       "    <tr>\n",
       "      <th>3</th>\n",
       "      <td>0.091</td>\n",
       "      <td>0.008</td>\n",
       "      <td>0.001</td>\n",
       "      <td>1.000</td>\n",
       "    </tr>\n",
       "  </tbody>\n",
       "</table>\n",
       "</div>"
      ],
      "text/plain": [
       "       0      1      2      3\n",
       "0  1.000  0.091  0.008  0.001\n",
       "1  0.001  1.000  0.091  0.008\n",
       "2  0.008  0.001  1.000  0.091\n",
       "3  0.091  0.008  0.001  1.000"
      ]
     },
     "metadata": {},
     "output_type": "display_data"
    },
    {
     "name": "stdout",
     "output_type": "stream",
     "text": [
      "[1.1]\n",
      "[1.1]\n",
      "[1.1]\n",
      "[1.1]\n",
      "***\n",
      "Complete\n"
     ]
    },
    {
     "data": {
      "text/html": [
       "<div>\n",
       "<style scoped>\n",
       "    .dataframe tbody tr th:only-of-type {\n",
       "        vertical-align: middle;\n",
       "    }\n",
       "\n",
       "    .dataframe tbody tr th {\n",
       "        vertical-align: top;\n",
       "    }\n",
       "\n",
       "    .dataframe thead th {\n",
       "        text-align: right;\n",
       "    }\n",
       "</style>\n",
       "<table border=\"1\" class=\"dataframe\">\n",
       "  <thead>\n",
       "    <tr style=\"text-align: right;\">\n",
       "      <th></th>\n",
       "      <th>0</th>\n",
       "      <th>1</th>\n",
       "      <th>2</th>\n",
       "      <th>3</th>\n",
       "    </tr>\n",
       "  </thead>\n",
       "  <tbody>\n",
       "    <tr>\n",
       "      <th>0</th>\n",
       "      <td>2.5</td>\n",
       "      <td>2.5</td>\n",
       "      <td>2.5</td>\n",
       "      <td>2.5</td>\n",
       "    </tr>\n",
       "    <tr>\n",
       "      <th>1</th>\n",
       "      <td>2.5</td>\n",
       "      <td>2.5</td>\n",
       "      <td>2.5</td>\n",
       "      <td>2.5</td>\n",
       "    </tr>\n",
       "    <tr>\n",
       "      <th>2</th>\n",
       "      <td>2.5</td>\n",
       "      <td>2.5</td>\n",
       "      <td>2.5</td>\n",
       "      <td>2.5</td>\n",
       "    </tr>\n",
       "    <tr>\n",
       "      <th>3</th>\n",
       "      <td>2.5</td>\n",
       "      <td>2.5</td>\n",
       "      <td>2.5</td>\n",
       "      <td>2.5</td>\n",
       "    </tr>\n",
       "  </tbody>\n",
       "</table>\n",
       "</div>"
      ],
      "text/plain": [
       "     0    1    2    3\n",
       "0  2.5  2.5  2.5  2.5\n",
       "1  2.5  2.5  2.5  2.5\n",
       "2  2.5  2.5  2.5  2.5\n",
       "3  2.5  2.5  2.5  2.5"
      ]
     },
     "metadata": {},
     "output_type": "display_data"
    },
    {
     "data": {
      "text/html": [
       "<div>\n",
       "<style scoped>\n",
       "    .dataframe tbody tr th:only-of-type {\n",
       "        vertical-align: middle;\n",
       "    }\n",
       "\n",
       "    .dataframe tbody tr th {\n",
       "        vertical-align: top;\n",
       "    }\n",
       "\n",
       "    .dataframe thead th {\n",
       "        text-align: right;\n",
       "    }\n",
       "</style>\n",
       "<table border=\"1\" class=\"dataframe\">\n",
       "  <thead>\n",
       "    <tr style=\"text-align: right;\">\n",
       "      <th></th>\n",
       "      <th>0</th>\n",
       "      <th>1</th>\n",
       "      <th>2</th>\n",
       "      <th>3</th>\n",
       "    </tr>\n",
       "  </thead>\n",
       "  <tbody>\n",
       "    <tr>\n",
       "      <th>0</th>\n",
       "      <td>1.025</td>\n",
       "      <td>0.025</td>\n",
       "      <td>0.025</td>\n",
       "      <td>0.025</td>\n",
       "    </tr>\n",
       "    <tr>\n",
       "      <th>1</th>\n",
       "      <td>0.025</td>\n",
       "      <td>1.025</td>\n",
       "      <td>0.025</td>\n",
       "      <td>0.025</td>\n",
       "    </tr>\n",
       "    <tr>\n",
       "      <th>2</th>\n",
       "      <td>0.025</td>\n",
       "      <td>0.025</td>\n",
       "      <td>1.025</td>\n",
       "      <td>0.025</td>\n",
       "    </tr>\n",
       "    <tr>\n",
       "      <th>3</th>\n",
       "      <td>0.025</td>\n",
       "      <td>0.025</td>\n",
       "      <td>0.025</td>\n",
       "      <td>1.025</td>\n",
       "    </tr>\n",
       "  </tbody>\n",
       "</table>\n",
       "</div>"
      ],
      "text/plain": [
       "       0      1      2      3\n",
       "0  1.025  0.025  0.025  0.025\n",
       "1  0.025  1.025  0.025  0.025\n",
       "2  0.025  0.025  1.025  0.025\n",
       "3  0.025  0.025  0.025  1.025"
      ]
     },
     "metadata": {},
     "output_type": "display_data"
    },
    {
     "name": "stdout",
     "output_type": "stream",
     "text": [
      "[1.1]\n",
      "[1.1]\n",
      "[1.1]\n",
      "[1.1]\n",
      "***\n",
      "Star\n"
     ]
    },
    {
     "data": {
      "text/html": [
       "<div>\n",
       "<style scoped>\n",
       "    .dataframe tbody tr th:only-of-type {\n",
       "        vertical-align: middle;\n",
       "    }\n",
       "\n",
       "    .dataframe tbody tr th {\n",
       "        vertical-align: top;\n",
       "    }\n",
       "\n",
       "    .dataframe thead th {\n",
       "        text-align: right;\n",
       "    }\n",
       "</style>\n",
       "<table border=\"1\" class=\"dataframe\">\n",
       "  <thead>\n",
       "    <tr style=\"text-align: right;\">\n",
       "      <th></th>\n",
       "      <th>0</th>\n",
       "      <th>1</th>\n",
       "      <th>2</th>\n",
       "      <th>3</th>\n",
       "    </tr>\n",
       "  </thead>\n",
       "  <tbody>\n",
       "    <tr>\n",
       "      <th>0</th>\n",
       "      <td>0.000000</td>\n",
       "      <td>6.666667</td>\n",
       "      <td>6.666667</td>\n",
       "      <td>6.666667</td>\n",
       "    </tr>\n",
       "    <tr>\n",
       "      <th>1</th>\n",
       "      <td>6.666667</td>\n",
       "      <td>0.000000</td>\n",
       "      <td>0.000000</td>\n",
       "      <td>0.000000</td>\n",
       "    </tr>\n",
       "    <tr>\n",
       "      <th>2</th>\n",
       "      <td>6.666667</td>\n",
       "      <td>0.000000</td>\n",
       "      <td>0.000000</td>\n",
       "      <td>0.000000</td>\n",
       "    </tr>\n",
       "    <tr>\n",
       "      <th>3</th>\n",
       "      <td>6.666667</td>\n",
       "      <td>0.000000</td>\n",
       "      <td>0.000000</td>\n",
       "      <td>0.000000</td>\n",
       "    </tr>\n",
       "  </tbody>\n",
       "</table>\n",
       "</div>"
      ],
      "text/plain": [
       "          0         1         2         3\n",
       "0  0.000000  6.666667  6.666667  6.666667\n",
       "1  6.666667  0.000000  0.000000  0.000000\n",
       "2  6.666667  0.000000  0.000000  0.000000\n",
       "3  6.666667  0.000000  0.000000  0.000000"
      ]
     },
     "metadata": {},
     "output_type": "display_data"
    },
    {
     "data": {
      "text/html": [
       "<div>\n",
       "<style scoped>\n",
       "    .dataframe tbody tr th:only-of-type {\n",
       "        vertical-align: middle;\n",
       "    }\n",
       "\n",
       "    .dataframe tbody tr th {\n",
       "        vertical-align: top;\n",
       "    }\n",
       "\n",
       "    .dataframe thead th {\n",
       "        text-align: right;\n",
       "    }\n",
       "</style>\n",
       "<table border=\"1\" class=\"dataframe\">\n",
       "  <thead>\n",
       "    <tr style=\"text-align: right;\">\n",
       "      <th></th>\n",
       "      <th>0</th>\n",
       "      <th>1</th>\n",
       "      <th>2</th>\n",
       "      <th>3</th>\n",
       "    </tr>\n",
       "  </thead>\n",
       "  <tbody>\n",
       "    <tr>\n",
       "      <th>0</th>\n",
       "      <td>1.011</td>\n",
       "      <td>0.063</td>\n",
       "      <td>0.063</td>\n",
       "      <td>0.063</td>\n",
       "    </tr>\n",
       "    <tr>\n",
       "      <th>1</th>\n",
       "      <td>0.056</td>\n",
       "      <td>1.004</td>\n",
       "      <td>0.004</td>\n",
       "      <td>0.004</td>\n",
       "    </tr>\n",
       "    <tr>\n",
       "      <th>2</th>\n",
       "      <td>0.056</td>\n",
       "      <td>0.004</td>\n",
       "      <td>1.004</td>\n",
       "      <td>0.004</td>\n",
       "    </tr>\n",
       "    <tr>\n",
       "      <th>3</th>\n",
       "      <td>0.056</td>\n",
       "      <td>0.004</td>\n",
       "      <td>0.004</td>\n",
       "      <td>1.004</td>\n",
       "    </tr>\n",
       "  </tbody>\n",
       "</table>\n",
       "</div>"
      ],
      "text/plain": [
       "       0      1      2      3\n",
       "0  1.011  0.063  0.063  0.063\n",
       "1  0.056  1.004  0.004  0.004\n",
       "2  0.056  0.004  1.004  0.004\n",
       "3  0.056  0.004  0.004  1.004"
      ]
     },
     "metadata": {},
     "output_type": "display_data"
    },
    {
     "name": "stdout",
     "output_type": "stream",
     "text": [
      "[1.17894737]\n",
      "[1.07368421]\n",
      "[1.07368421]\n",
      "[1.07368421]\n",
      "***\n"
     ]
    }
   ],
   "source": [
    "r = .1\n",
    "\n",
    "for i, S in enumerate([Si, So, Sc, Ss]):\n",
    "    print(['Isolated', 'Circular', 'Complete', 'Star'][i])\n",
    "    \n",
    "#     Scale Sales to have certain proportion of consumption.\n",
    "    ratio = (S.sum().sum()/c.sum())[0]\n",
    "    S = S * r/ratio\n",
    "    \n",
    "    stot = pd.DataFrame(S.sum(1)) + c\n",
    "    R = S.T.div(stot.values).T ####( don't know if it should be trasposed)\n",
    "    I = pd.DataFrame(np.eye(n))\n",
    "    L = la.inv(I - R)\n",
    "    \n",
    "    display(S)\n",
    "    display(pd.DataFrame(L).round(3))\n",
    "    \n",
    "    _1pct = .01*np.mean(c)[0] # one percent of mean consumption level.\n",
    "    \n",
    "    basis = _1pct*np.eye(n)\n",
    "    for vector in basis:\n",
    "        dc = pd.DataFrame(vector)\n",
    "        dstot = L.dot(c + dc) - L.dot(c) # = L.dot(dc)\n",
    "        print(sum(dstot))\n",
    "    \n",
    "    \n",
    "    print('***')"
   ]
  },
  {
   "cell_type": "code",
   "execution_count": 6,
   "metadata": {},
   "outputs": [],
   "source": [
    "y = np.array([[11.46511628],[10.88372093],[10.88372093],[10.88372093],[10.88372093]]).flatten()  # IO dominant\n",
    "\n",
    "x = np.array([[1.21428571], [1.07142857], [1.07142857], [1.07142857], [1.07142857]]).flatten() \n",
    "# Consumption dominant, star propagation is slightly more impactful."
   ]
  },
  {
   "cell_type": "code",
   "execution_count": 7,
   "metadata": {},
   "outputs": [
    {
     "data": {
      "text/plain": [
       "array([ 9.4418605 , 10.15813955, 10.15813955, 10.15813955, 10.15813955])"
      ]
     },
     "execution_count": 7,
     "metadata": {},
     "output_type": "execute_result"
    }
   ],
   "source": [
    "y/x"
   ]
  },
  {
   "cell_type": "markdown",
   "metadata": {},
   "source": [
    "### Matrix plot"
   ]
  },
  {
   "cell_type": "code",
   "execution_count": 9,
   "metadata": {},
   "outputs": [],
   "source": [
    "import networkx as nx\n",
    "\n",
    "## Log of real value added\n",
    "\n",
    "n = 10\n",
    "a = .1\n",
    "\n",
    "### Schematic edge weights\n",
    "S = pd.DataFrame(np.full((n, n), 100))\n",
    "c = pd.DataFrame(np.full(n, 100))\n",
    "\n",
    "# M is the adjacency matrix\n",
    "Mi = np.eye(n)\n",
    "Mo = np.roll(Mi, -n)\n",
    "Mc = np.full((n, n), 1)\n",
    "Ms = np.full((n, n), 0); Ms[0, 1:] = 1; Ms[1:, 0] = 1\n",
    "\n",
    "# Si = pd.DataFrame(Mi*S.values)\n",
    "# So = pd.DataFrame(Mo*S.mean().mean())\n",
    "# Sc = pd.DataFrame(Mc*S.values)\n",
    "# Ss = pd.DataFrame(Ms*S.mean().mean())\n"
   ]
  },
  {
   "cell_type": "code",
   "execution_count": 10,
   "metadata": {},
   "outputs": [
    {
     "data": {
      "image/png": "[encoded data removed]",
      "text/plain": [
       "<Figure size 1152x576 with 8 Axes>"
      ]
     },
     "metadata": {},
     "output_type": "display_data"
    }
   ],
   "source": [
    "fig, axs = plt.subplots(2, 4, figsize = (16, 8))\n",
    "\n",
    "for i, M in enumerate([Mi, Mo, Mc, Ms]):\n",
    "    G = nx.from_numpy_matrix(M)\n",
    "    axs[0, i].set_title(['Isolated', 'Circular', 'Complete', 'Star'][i], fontsize = 18)\n",
    "    nx.draw(G, pos=nx.spring_layout(G), ax = axs[0, i])\n",
    "    axs[1, i].matshow(M, cmap = 'Greys', vmin = 0, vmax = 1)\n",
    "    \n",
    "# plt.savefig('./../../../WRITING/paper1_writing/figures/network_plots.png')\n",
    "plt.tight_layout()\n",
    "plt.show()"
   ]
  },
  {
   "cell_type": "code",
   "execution_count": null,
   "metadata": {},
   "outputs": [],
   "source": []
  },
  {
   "cell_type": "code",
   "execution_count": 15,
   "metadata": {},
   "outputs": [],
   "source": [
    "n = 10\n",
    "a = .1\n",
    "\n",
    "### Schematic edge weights\n",
    "S = pd.DataFrame(np.full((n, n), 100))\n",
    "c = pd.DataFrame(np.full(n, 100))\n",
    "\n",
    "# M is the adjacency matrix\n",
    "Mi = np.eye(n)\n",
    "Mo = np.roll(Mi, -n)\n",
    "Mc = np.full((n, n), 1)\n",
    "Ms = np.full((n, n), 0); Ms[0, 1:] = 1; Ms[1:, 0] = 1\n",
    "\n",
    "Si = pd.DataFrame(Mi*S.values)\n",
    "So = pd.DataFrame(Mo*S.mean().mean())\n",
    "Sc = pd.DataFrame(Mc*S.values)\n",
    "Ss = pd.DataFrame(Ms*S.mean().mean())\n"
   ]
  },
  {
   "cell_type": "code",
   "execution_count": 22,
   "metadata": {},
   "outputs": [
    {
     "name": "stdout",
     "output_type": "stream",
     "text": [
      "40.0\n",
      "39.99999999999999\n",
      "39.999999999999986\n",
      "40.41367423154266\n"
     ]
    },
    {
     "data": {
      "image/png": "[encoded data removed]",
      "text/plain": [
       "<Figure size 576x576 with 16 Axes>"
      ]
     },
     "metadata": {},
     "output_type": "display_data"
    }
   ],
   "source": [
    "\n",
    "fig, axs = plt.subplots(4, 4, figsize = (8, 8))\n",
    "r = 1\n",
    "\n",
    "for i, S in enumerate([Si, So, Sc, Ss]):\n",
    "#     Scale Sales to have certain proportion of consumption.\n",
    "    ratio = (S.sum().sum()/c.sum())[0]\n",
    "    S = S * r/ratio\n",
    "    \n",
    "    stot = pd.DataFrame(S.sum(1)) + c\n",
    "    R = S.T.div(stot.values).T\n",
    "    I = pd.DataFrame(np.eye(n))\n",
    "    L = la.inv(I - R)\n",
    "    \n",
    "#     display(S)\n",
    "#     display(L.round(3))\n",
    "    \n",
    "    _1pct = .01*np.mean(c)[0] # one percent of mean consumption level.\n",
    "    \n",
    "    basis = _1pct*np.eye(n)\n",
    "    for vector in basis:\n",
    "        dc = pd.DataFrame(vector)\n",
    "        dstot = L.dot(c + dc) - L.dot(c) # = L.dot(dc)\n",
    "#         print(sum(dstot))\n",
    "\n",
    "\n",
    "    covC = np.eye(n)\n",
    "    covS = L.dot(covC).dot(L.T)\n",
    "    print(covS.sum())\n",
    "    \n",
    "    if i == 0: \n",
    "        for j in range(4):\n",
    "            axs[i, j].set_title(['Sales Cov', r'$L$', 'Final Demand Cov', r'$L^{T}$'][j])\n",
    "        \n",
    "    axs[i, 0].matshow(covS, cmap = 'Greys', vmin = 0, vmax = 1)\n",
    "    axs[i, 0].set_ylabel(['Isolated', 'Circular', 'Complete', 'Star'][i])\n",
    "    axs[i, 1].matshow(L, cmap = 'Greys', vmin = 0, vmax = 1)\n",
    "    axs[i, 2].matshow(covC, cmap = 'Greys', vmin = 0, vmax = 1)\n",
    "    axs[i, 3].matshow(L.T, cmap = 'Greys', vmin = 0, vmax = 1)\n",
    "    \n",
    "    for j in range(4): axs[i, j].set_xticklabels([])\n",
    "    for j in range(4): axs[i, j].set_yticklabels([])\n",
    "        \n",
    "# ax = axs[0, 0]\n",
    "# ax.annotate('=', xy = (.27, .125), fontsize = 15, xycoords = 'figure fraction', ha = 'center', va = 'center')\n",
    "# ax.annotate('=', xy = (.27, .375), fontsize = 15, xycoords = 'figure fraction', ha = 'center', va = 'center')\n",
    "# ax.annotate('=', xy = (.27, .625), fontsize = 15, xycoords = 'figure fraction', ha = 'center', va = 'center')\n",
    "# ax.annotate('=', xy = (.27, .85), fontsize = 15, xycoords = 'figure fraction', ha = 'center', va = 'center')\n",
    "\n",
    "# ax = axs[0, 0]\n",
    "# ax.annotate('x', xy = (.515, .125), fontsize = 8, xycoords = 'figure fraction', ha = 'center', va = 'center')\n",
    "# ax.annotate('x', xy = (.515, .375), fontsize = 8, xycoords = 'figure fraction', ha = 'center', va = 'center')\n",
    "# ax.annotate('x', xy = (.515, .625), fontsize = 8, xycoords = 'figure fraction', ha = 'center', va = 'center')\n",
    "# ax.annotate('x', xy = (.515, .85), fontsize = 8, xycoords = 'figure fraction', ha = 'center', va = 'center')\n",
    "\n",
    "# ax = axs[0, 0]\n",
    "# ax.annotate('x', xy = (.76, .125), fontsize = 8, xycoords = 'figure fraction', ha = 'center', va = 'center')\n",
    "# ax.annotate('x', xy = (.76, .375), fontsize = 8, xycoords = 'figure fraction', ha = 'center', va = 'center')\n",
    "# ax.annotate('x', xy = (.76, .625), fontsize = 8, xycoords = 'figure fraction', ha = 'center', va = 'center')\n",
    "# ax.annotate('x', xy = (.76, .85), fontsize = 8, xycoords = 'figure fraction', ha = 'center', va = 'center')\n",
    "\n",
    "plt.tight_layout(pad = 2)\n",
    "\n",
    "plt.savefig('./../../../WRITING/paper1_writing/figures/demand_cov.png')"
   ]
  },
  {
   "cell_type": "code",
   "execution_count": null,
   "metadata": {},
   "outputs": [],
   "source": [
    "xx"
   ]
  },
  {
   "cell_type": "code",
   "execution_count": 43,
   "metadata": {},
   "outputs": [],
   "source": [
    "# L.dot(covC).dot(L.T)\n",
    "# pd.DataFrame(L)\n",
    "\n",
    "S_diag_star = Ss.copy()\n",
    "for i in range(1, len(Ss)):\n",
    "    S_diag_star.iloc[i, i] = (S_diag_star.sum()[0] - S_diag_star[0])[i]\n",
    "\n",
    "S = S_diag_star\n",
    "\n",
    "ratio = (S.sum().sum()/c.sum())[0]\n",
    "S = S * r/ratio\n",
    "    \n",
    "stot = pd.DataFrame(S.sum(1)) + c\n",
    "R = S.T.div(stot.values).T\n",
    "I = pd.DataFrame(np.eye(n))\n",
    "L = la.inv(I - R)\n",
    "\n",
    "covC = np.eye(n)\n",
    "covS = L.dot(covC).dot(L.T)"
   ]
  },
  {
   "cell_type": "code",
   "execution_count": 44,
   "metadata": {},
   "outputs": [
    {
     "data": {
      "text/plain": [
       "40.0"
      ]
     },
     "execution_count": 44,
     "metadata": {},
     "output_type": "execute_result"
    }
   ],
   "source": [
    "covS.sum()"
   ]
  },
  {
   "cell_type": "code",
   "execution_count": null,
   "metadata": {},
   "outputs": [],
   "source": [
    "xx"
   ]
  },
  {
   "cell_type": "code",
   "execution_count": null,
   "metadata": {},
   "outputs": [],
   "source": [
    "\n",
    "for i, S in enumerate([Si, So, Sc, Ss]):\n",
    "#     Scale Sales to have certain proportion of consumption.\n",
    "    ratio = (S.sum().sum()/c.sum())[0]\n",
    "    S = S * r/ratio\n",
    "    \n",
    "    stot = pd.DataFrame(S.sum(1)) + c\n",
    "    R = S.T.div(stot.values).T\n",
    "    I = pd.DataFrame(np.eye(n))\n",
    "    L = la.inv(I - R)\n",
    "    \n",
    "    "
   ]
  },
  {
   "cell_type": "code",
   "execution_count": null,
   "metadata": {},
   "outputs": [],
   "source": [
    "\n",
    "sum([matrix_power(R, k) for k in range(5)])"
   ]
  },
  {
   "cell_type": "code",
   "execution_count": null,
   "metadata": {},
   "outputs": [],
   "source": [
    "L"
   ]
  },
  {
   "cell_type": "code",
   "execution_count": null,
   "metadata": {},
   "outputs": [],
   "source": [
    "## Log of real value added\n",
    "\n",
    "n = 10\n",
    "a = .1\n",
    "\n",
    "S = round(np.power(10, pd.DataFrame(np.random.uniform(2, 4, (n, n)))), -2)\n",
    "\n",
    "# # S.sum(1) # row sum\n",
    "# # S.sum(0) # col sum\n",
    "# S.div(S.sum(1), axis = 0) # row wise division. \n",
    "# S.div(S.sum(0), axis = 1) # col wise division\n",
    "\n",
    "M = S.div(S.sum(0), axis = 1) # W\n",
    "At = S.div(S.sum(1), axis  = 1)\n",
    "A = S.T.div(S.sum(1), axis  = 0)\n",
    "s = S.sum(1) #sales vector\n"
   ]
  },
  {
   "cell_type": "code",
   "execution_count": null,
   "metadata": {},
   "outputs": [],
   "source": []
  },
  {
   "cell_type": "code",
   "execution_count": null,
   "metadata": {},
   "outputs": [],
   "source": [
    "avals, avecs = la.eig(At)"
   ]
  },
  {
   "cell_type": "code",
   "execution_count": null,
   "metadata": {},
   "outputs": [],
   "source": [
    "# # The kth power can be obtained from the diagonalized version as:\n",
    "\n",
    "# k = 10;\n",
    "# pd.DataFrame(np.round(np.dot(avecs, np.dot(np.diag(avals)**k, la.inv(avecs))), 2))\n",
    "\n",
    "# # no me estaria funcionando... i.e. no ma da igual que np.round(np.power(At, 10), 5), porque esta ultime me hace los numeros al cuadrado..."
   ]
  },
  {
   "cell_type": "code",
   "execution_count": null,
   "metadata": {},
   "outputs": [],
   "source": [
    "A\n",
    "# (np.eye(n) - A)"
   ]
  },
  {
   "cell_type": "code",
   "execution_count": null,
   "metadata": {},
   "outputs": [],
   "source": [
    "At_ = np.eye(n) + At + np.dot(At, At)"
   ]
  },
  {
   "cell_type": "code",
   "execution_count": null,
   "metadata": {},
   "outputs": [],
   "source": [
    "round(np.eye(n) + At, 1)"
   ]
  },
  {
   "cell_type": "code",
   "execution_count": null,
   "metadata": {},
   "outputs": [],
   "source": [
    "np.round(np.dot(At, At), 2)"
   ]
  },
  {
   "cell_type": "code",
   "execution_count": null,
   "metadata": {},
   "outputs": [],
   "source": [
    "[k for k in range(2, 10)]"
   ]
  },
  {
   "cell_type": "code",
   "execution_count": null,
   "metadata": {},
   "outputs": [],
   "source": [
    "pd.DataFrame(np.real(np.array([np.dot(avecs, np.dot(np.diag(avals)**k, la.inv(avecs))) for k in range(2, 4)]).sum(0)))"
   ]
  },
  {
   "cell_type": "code",
   "execution_count": null,
   "metadata": {},
   "outputs": [],
   "source": [
    "avals, avecs = la.eig(At)\n",
    "i = 0\n",
    "plt.plot(np.real(np.dot(At,avecs)[:, i]), np.real(avecs[:,i]), marker = '.', lw = 0)"
   ]
  },
  {
   "cell_type": "code",
   "execution_count": null,
   "metadata": {},
   "outputs": [],
   "source": [
    "avecs"
   ]
  },
  {
   "cell_type": "code",
   "execution_count": null,
   "metadata": {},
   "outputs": [],
   "source": [
    "np.real(np.dot(At,avecs)[:, i]) #first col == first eigenvec\n"
   ]
  },
  {
   "cell_type": "code",
   "execution_count": null,
   "metadata": {},
   "outputs": [],
   "source": [
    "At"
   ]
  },
  {
   "cell_type": "code",
   "execution_count": null,
   "metadata": {
    "scrolled": false
   },
   "outputs": [],
   "source": [
    "plt.plot(S.sum(1), np.array(np.real(avecs[:,i])), marker = '.', lw = 0)"
   ]
  },
  {
   "cell_type": "code",
   "execution_count": null,
   "metadata": {},
   "outputs": [],
   "source": [
    "# avals, avecs = la.eig(M)\n",
    "\n",
    "# i = 0\n",
    "# # print(np.dot(W,avecs)[:, i])\n",
    "# # print(avals[i]*avecs[:,i])\n",
    "# # En gral\n",
    "# # plt.plot(np.real(np.dot(W,avecs)[:, i]), np.real(avals[i]*avecs[:,i]), marker = '.', lw = 0)\n",
    "# # El primer aval es 1\n",
    "# plt.plot(np.real(np.dot(M,avecs)[:, i]), np.real(avecs[:,i]), marker = '.', lw = 0)"
   ]
  },
  {
   "cell_type": "code",
   "execution_count": null,
   "metadata": {
    "scrolled": false
   },
   "outputs": [],
   "source": [
    "Sgr = pd.DataFrame(S)\n",
    "Sgr.index = pd.cut(Sgr.index, 10)\n",
    "Sgr.columns = pd.cut(Sgr.columns, 10)\n",
    "\n",
    "Sgr_ = Sgr.groupby(level = 0).sum().T\n",
    "Sgr = Sgr_.groupby(level = 0).sum().T\n",
    "\n",
    "Sgr = Sgr.values"
   ]
  },
  {
   "cell_type": "code",
   "execution_count": null,
   "metadata": {},
   "outputs": [],
   "source": [
    "Sgr.sum(1)\n",
    "Wgr = Sgr/Sgr.sum(0)\n"
   ]
  },
  {
   "cell_type": "code",
   "execution_count": null,
   "metadata": {},
   "outputs": [],
   "source": [
    "avalsgr, avecsgr = la.eig(Wgr)\n",
    "plt.plot(np.real(np.dot(Wgr,avecsgr)[:, i]), np.real(avecsgr[:,i]), marker = '.', lw = 0)"
   ]
  },
  {
   "cell_type": "code",
   "execution_count": null,
   "metadata": {},
   "outputs": [],
   "source": [
    "# Vector (solucion estacionaria de ventas) (agrupadas)\n",
    "sol = pd.Series(np.real(avecsgr[:,i]))\n",
    "sol_gr = sol.copy()\n",
    "sol_gr.index = pd.cut(sol.index, 10)\n",
    "sol_gr = sol_gr.groupby(level = 0).sum()\n",
    "sol_gr"
   ]
  },
  {
   "cell_type": "code",
   "execution_count": null,
   "metadata": {},
   "outputs": [],
   "source": [
    "# Vector (solucion estacionaria) de (ventas agrupadas)\n",
    "np.real(avecsgr[:,i])"
   ]
  },
  {
   "cell_type": "code",
   "execution_count": null,
   "metadata": {},
   "outputs": [],
   "source": [
    "W.shape"
   ]
  },
  {
   "cell_type": "code",
   "execution_count": null,
   "metadata": {},
   "outputs": [],
   "source": [
    "Wgr.shape"
   ]
  },
  {
   "cell_type": "code",
   "execution_count": null,
   "metadata": {},
   "outputs": [],
   "source": []
  },
  {
   "cell_type": "code",
   "execution_count": null,
   "metadata": {},
   "outputs": [],
   "source": [
    "\n",
    "Wgr2 = pd.DataFrame(W)\n",
    "Wgr2.index = pd.cut(Wgr2.index, 10)\n",
    "Wgr2.columns = pd.cut(Wgr2.columns, 10)\n",
    "\n",
    "Wgr_ = Wgr2.groupby(level = 0).sum().T\n",
    "Wgr2 = Wgr_.groupby(level = 0).sum().T\n",
    "Wgr2 = pd.DataFrame(Wgr2.values/5)\n",
    "Wgr2"
   ]
  },
  {
   "cell_type": "code",
   "execution_count": null,
   "metadata": {},
   "outputs": [],
   "source": [
    "np.round(pd.DataFrame(Wgr) - Wgr2, 3)"
   ]
  },
  {
   "cell_type": "code",
   "execution_count": null,
   "metadata": {},
   "outputs": [],
   "source": [
    "np.linalg.inv(np.eye(n) - (1 - a)*W.T)"
   ]
  },
  {
   "cell_type": "code",
   "execution_count": null,
   "metadata": {},
   "outputs": [],
   "source": [
    "\n",
    "M = W\n",
    "\n",
    "avals, avecs = la.eig(M)\n",
    "\n",
    "avals = np.real(avals) # == np.abs(avals)\n",
    "def component(k, avals = avals, avecs = avecs):\n",
    "    uk = np.array(len(avals)*[avecs.T[k]]).reshape(avecs.shape) # la componente k agarra el elemento k de todos los autovectores.\n",
    "    return np.real(avals[k]*np.multiply(uk.T, uk))\n",
    "\n",
    "C_s = component(0) # structural component"
   ]
  },
  {
   "cell_type": "code",
   "execution_count": null,
   "metadata": {},
   "outputs": [],
   "source": [
    "avals"
   ]
  },
  {
   "cell_type": "code",
   "execution_count": null,
   "metadata": {},
   "outputs": [],
   "source": [
    "plt.matshow(np.linalg.inv(np.eye(n) - (1 - a)*W.T))"
   ]
  },
  {
   "cell_type": "code",
   "execution_count": null,
   "metadata": {},
   "outputs": [],
   "source": [
    "np.linalg.inv(np.eye(n) - (1 - a)*W.T).sum(0)"
   ]
  },
  {
   "cell_type": "code",
   "execution_count": null,
   "metadata": {},
   "outputs": [],
   "source": [
    "np.linalg.inv(np.eye(n) - (1 - a)*W.T).sum(0)"
   ]
  },
  {
   "cell_type": "code",
   "execution_count": null,
   "metadata": {},
   "outputs": [],
   "source": []
  }
 ],
 "metadata": {
  "kernelspec": {
   "display_name": "Python 3",
   "language": "python",
   "name": "python3"
  },
  "language_info": {
   "codemirror_mode": {
    "name": "ipython",
    "version": 3
   },
   "file_extension": ".py",
   "mimetype": "text/x-python",
   "name": "python",
   "nbconvert_exporter": "python",
   "pygments_lexer": "ipython3",
   "version": "3.6.7"
  }
 },
 "nbformat": 4,
 "nbformat_minor": 2
}
