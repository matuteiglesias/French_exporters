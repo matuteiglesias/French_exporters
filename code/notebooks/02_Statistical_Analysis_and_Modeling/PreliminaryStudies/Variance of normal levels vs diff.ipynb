{
 "cells": [
  {
   "cell_type": "code",
   "execution_count": 2,
   "metadata": {},
   "outputs": [],
   "source": [
    "### \n",
    "import numpy as np\n",
    "import pandas as pd\n",
    "\n",
    "import matplotlib.pyplot as plt\n",
    "%matplotlib inline"
   ]
  },
  {
   "cell_type": "code",
   "execution_count": 3,
   "metadata": {},
   "outputs": [
    {
     "name": "stdout",
     "output_type": "stream",
     "text": [
      "0\n",
      "1\n",
      "0\n",
      "1\n"
     ]
    }
   ],
   "source": [
    "for i in range(4):\n",
    "    print(i%2)"
   ]
  },
  {
   "cell_type": "code",
   "execution_count": 5,
   "metadata": {},
   "outputs": [
    {
     "name": "stderr",
     "output_type": "stream",
     "text": [
      "/home/miglesia/anaconda2/envs/my_pymc_env/lib/python3.6/site-packages/matplotlib/axes/_axes.py:6521: MatplotlibDeprecationWarning: \n",
      "The 'normed' kwarg was deprecated in Matplotlib 2.1 and will be removed in 3.1. Use 'density' instead.\n",
      "  alternative=\"'density'\", removal=\"3.1\")\n"
     ]
    },
    {
     "data": {
      "image/png": "[encoded data removed]",
      "text/plain": [
       "<Figure size 864x288 with 2 Axes>"
      ]
     },
     "metadata": {},
     "output_type": "display_data"
    }
   ],
   "source": [
    "## Volatility of gaussian vs volatility of its difference.\n",
    "var = 2\n",
    "data_lap_17 = np.random.laplace(0, np.sqrt(var), (17, 100000))/np.sqrt(2)\n",
    "data_norm_17 = np.random.normal(0, np.sqrt(var), (17, 100000))\n",
    "\n",
    "data_lap_100 = np.random.laplace(0, np.sqrt(var), (100, 100000))/np.sqrt(2)\n",
    "data_norm_100 = np.random.normal(0, np.sqrt(var), (100, 100000))\n",
    "\n",
    "fig, axs = plt.subplots(1, 2, figsize = (12, 4))\n",
    "\n",
    "for i, data in enumerate([data_norm_17, data_lap_17, data_norm_100, data_lap_100]):\n",
    "    \n",
    "    ax = axs[i%2]\n",
    "    ax.set_title(['Variance of diff dist. (Normal)', 'Variance of diff dist. (Laplace)'][i%2])\n",
    "    ax.set_ylim(0, 1.4/var)\n",
    "    \n",
    "    df = pd.DataFrame(data).dropna()\n",
    "\n",
    "    diff_var = df.diff().var()\n",
    "\n",
    "    diff_var.describe()\n",
    "\n",
    "    diff_var.hist(bins = np.arange(0, 4*var, .04*var), ax = ax, normed = True, alpha = .5, label = ['T = 17', 'T = 100'][i//2])\n",
    "    ax.legend()\n",
    "\n",
    "    out = pd.DataFrame(pd.concat([df.var().describe(), diff_var.describe()], axis = 1))\n",
    "    out.columns = ['Distrib', 'Difference Distrib']\n",
    "\n",
    "#     print(out.round(2).to_latex())\n",
    "    \n",
    "plt.savefig('./../../../WRITING/FIGURES/trade/diff_dists_var'+str(var)+'.png')\n"
   ]
  },
  {
   "cell_type": "code",
   "execution_count": 6,
   "metadata": {},
   "outputs": [
    {
     "data": {
      "text/plain": [
       "'/diff_dists_var2.png'"
      ]
     },
     "execution_count": 6,
     "metadata": {},
     "output_type": "execute_result"
    }
   ],
   "source": [
    "'/diff_dists_var'+str(var)+'.png'"
   ]
  },
  {
   "cell_type": "code",
   "execution_count": 10,
   "metadata": {},
   "outputs": [
    {
     "data": {
      "text/plain": [
       "0.4704793054972684"
      ]
     },
     "execution_count": 10,
     "metadata": {},
     "output_type": "execute_result"
    }
   ],
   "source": [
    "1/2.125492"
   ]
  },
  {
   "cell_type": "code",
   "execution_count": null,
   "metadata": {},
   "outputs": [],
   "source": []
  }
 ],
 "metadata": {
  "kernelspec": {
   "display_name": "Python 3",
   "language": "python",
   "name": "python3"
  },
  "language_info": {
   "codemirror_mode": {
    "name": "ipython",
    "version": 3
   },
   "file_extension": ".py",
   "mimetype": "text/x-python",
   "name": "python",
   "nbconvert_exporter": "python",
   "pygments_lexer": "ipython3",
   "version": "3.6.7"
  }
 },
 "nbformat": 4,
 "nbformat_minor": 2
}
