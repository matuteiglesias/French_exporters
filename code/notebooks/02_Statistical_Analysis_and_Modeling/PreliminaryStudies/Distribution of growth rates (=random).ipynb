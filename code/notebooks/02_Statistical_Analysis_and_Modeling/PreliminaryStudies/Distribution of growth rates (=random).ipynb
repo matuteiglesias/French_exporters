{
 "cells": [
  {
   "cell_type": "markdown",
   "metadata": {
    "collapsed": true
   },
   "source": [
    "# Growth decomposition"
   ]
  },
  {
   "cell_type": "code",
   "execution_count": 1,
   "metadata": {},
   "outputs": [
    {
     "data": {
      "text/html": [
       "<style>.container { width:100% !important; }</style>"
      ],
      "text/plain": [
       "<IPython.core.display.HTML object>"
      ]
     },
     "metadata": {},
     "output_type": "display_data"
    }
   ],
   "source": [
    "import pandas as pd\n",
    "from IPython.display import display, HTML\n",
    "import numpy as np\n",
    "\n",
    "import matplotlib.pyplot as plt\n",
    "%matplotlib inline\n",
    "\n",
    "path1 = './../../../../../media/miglesia/Elements/export_france/data/type1/DP1610_MAASTRICHT1_1997_2013'\n",
    "\n",
    "display(HTML(\"<style>.container { width:100% !important; }</style>\"))"
   ]
  },
  {
   "cell_type": "markdown",
   "metadata": {
    "collapsed": true
   },
   "source": [
    "### Growth rates (Aug 16)"
   ]
  },
  {
   "cell_type": "code",
   "execution_count": 2,
   "metadata": {},
   "outputs": [],
   "source": [
    "df_04_13 = pd.read_csv(path1+'/samplings/time_sample_nw_detail_04_13.csv')"
   ]
  },
  {
   "cell_type": "code",
   "execution_count": 3,
   "metadata": {},
   "outputs": [
    {
     "data": {
      "text/html": [
       "<div>\n",
       "<style scoped>\n",
       "    .dataframe tbody tr th:only-of-type {\n",
       "        vertical-align: middle;\n",
       "    }\n",
       "\n",
       "    .dataframe tbody tr th {\n",
       "        vertical-align: top;\n",
       "    }\n",
       "\n",
       "    .dataframe thead th {\n",
       "        text-align: right;\n",
       "    }\n",
       "</style>\n",
       "<table border=\"1\" class=\"dataframe\">\n",
       "  <thead>\n",
       "    <tr style=\"text-align: right;\">\n",
       "      <th></th>\n",
       "      <th>YEAR</th>\n",
       "      <th>IMPORT</th>\n",
       "      <th>ID</th>\n",
       "      <th>CN ID 8</th>\n",
       "      <th>PYOD</th>\n",
       "      <th>VAT</th>\n",
       "      <th>VART_sum</th>\n",
       "    </tr>\n",
       "  </thead>\n",
       "  <tbody>\n",
       "    <tr>\n",
       "      <th>1327426</th>\n",
       "      <td>2004</td>\n",
       "      <td>0</td>\n",
       "      <td>440966919</td>\n",
       "      <td>65059030</td>\n",
       "      <td>IT</td>\n",
       "      <td>IT0179724</td>\n",
       "      <td>173</td>\n",
       "    </tr>\n",
       "    <tr>\n",
       "      <th>14192853</th>\n",
       "      <td>2010</td>\n",
       "      <td>0</td>\n",
       "      <td>410038459</td>\n",
       "      <td>7052900</td>\n",
       "      <td>DE</td>\n",
       "      <td>DE0570289</td>\n",
       "      <td>15924</td>\n",
       "    </tr>\n",
       "    <tr>\n",
       "      <th>11818021</th>\n",
       "      <td>2009</td>\n",
       "      <td>0</td>\n",
       "      <td>399315613</td>\n",
       "      <td>19059060</td>\n",
       "      <td>DE</td>\n",
       "      <td>DE0207050</td>\n",
       "      <td>47</td>\n",
       "    </tr>\n",
       "    <tr>\n",
       "      <th>9035902</th>\n",
       "      <td>2008</td>\n",
       "      <td>0</td>\n",
       "      <td>342700648</td>\n",
       "      <td>85166070</td>\n",
       "      <td>NL</td>\n",
       "      <td>NL2052985</td>\n",
       "      <td>40</td>\n",
       "    </tr>\n",
       "    <tr>\n",
       "      <th>19965554</th>\n",
       "      <td>2013</td>\n",
       "      <td>0</td>\n",
       "      <td>308235175</td>\n",
       "      <td>20049091</td>\n",
       "      <td>GB</td>\n",
       "      <td>GB0056216</td>\n",
       "      <td>6004</td>\n",
       "    </tr>\n",
       "    <tr>\n",
       "      <th>8123306</th>\n",
       "      <td>2007</td>\n",
       "      <td>0</td>\n",
       "      <td>672014099</td>\n",
       "      <td>74071000</td>\n",
       "      <td>BE</td>\n",
       "      <td>BE0044620</td>\n",
       "      <td>4106</td>\n",
       "    </tr>\n",
       "    <tr>\n",
       "      <th>16297873</th>\n",
       "      <td>2011</td>\n",
       "      <td>0</td>\n",
       "      <td>398360123</td>\n",
       "      <td>33049900</td>\n",
       "      <td>DE</td>\n",
       "      <td>DE0601084</td>\n",
       "      <td>1515</td>\n",
       "    </tr>\n",
       "    <tr>\n",
       "      <th>3391764</th>\n",
       "      <td>2005</td>\n",
       "      <td>0</td>\n",
       "      <td>477902308</td>\n",
       "      <td>22042179</td>\n",
       "      <td>BE</td>\n",
       "      <td>BE2332781</td>\n",
       "      <td>1050</td>\n",
       "    </tr>\n",
       "    <tr>\n",
       "      <th>1370775</th>\n",
       "      <td>2004</td>\n",
       "      <td>0</td>\n",
       "      <td>448754283</td>\n",
       "      <td>61091000</td>\n",
       "      <td>IT</td>\n",
       "      <td>IT0315945</td>\n",
       "      <td>29</td>\n",
       "    </tr>\n",
       "    <tr>\n",
       "      <th>19819669</th>\n",
       "      <td>2012</td>\n",
       "      <td>0</td>\n",
       "      <td>954506077</td>\n",
       "      <td>85119000</td>\n",
       "      <td>DK</td>\n",
       "      <td>DK0046313</td>\n",
       "      <td>172</td>\n",
       "    </tr>\n",
       "  </tbody>\n",
       "</table>\n",
       "</div>"
      ],
      "text/plain": [
       "          YEAR  IMPORT         ID   CN ID 8 PYOD        VAT  VART_sum\n",
       "1327426   2004       0  440966919  65059030   IT  IT0179724       173\n",
       "14192853  2010       0  410038459   7052900   DE  DE0570289     15924\n",
       "11818021  2009       0  399315613  19059060   DE  DE0207050        47\n",
       "9035902   2008       0  342700648  85166070   NL  NL2052985        40\n",
       "19965554  2013       0  308235175  20049091   GB  GB0056216      6004\n",
       "8123306   2007       0  672014099  74071000   BE  BE0044620      4106\n",
       "16297873  2011       0  398360123  33049900   DE  DE0601084      1515\n",
       "3391764   2005       0  477902308  22042179   BE  BE2332781      1050\n",
       "1370775   2004       0  448754283  61091000   IT  IT0315945        29\n",
       "19819669  2012       0  954506077  85119000   DK  DK0046313       172"
      ]
     },
     "execution_count": 3,
     "metadata": {},
     "output_type": "execute_result"
    }
   ],
   "source": [
    "df_04_13.sample(10)"
   ]
  },
  {
   "cell_type": "code",
   "execution_count": 4,
   "metadata": {},
   "outputs": [
    {
     "data": {
      "text/plain": [
       "22029841"
      ]
     },
     "execution_count": 4,
     "metadata": {},
     "output_type": "execute_result"
    }
   ],
   "source": [
    "len(df_04_13)"
   ]
  },
  {
   "cell_type": "code",
   "execution_count": 5,
   "metadata": {},
   "outputs": [
    {
     "data": {
      "text/plain": [
       "(0, 3)"
      ]
     },
     "execution_count": 5,
     "metadata": {},
     "output_type": "execute_result"
    },
    {
     "data": {
      "image/png": "[encoded data removed]",
      "text/plain": [
       "<matplotlib.figure.Figure at 0x7fe8f1ec1d90>"
      ]
     },
     "metadata": {},
     "output_type": "display_data"
    }
   ],
   "source": [
    "col = 'VAT'\n",
    "\n",
    "sample = df_04_13.loc[df_04_13[col].isin(np.random.choice(df_04_13[col].unique(), 25000))]\n",
    "\n",
    "df = sample\n",
    "diff = np.log10(df.set_index([u'ID', u'CN ID 8', u'PYOD', u'VAT','YEAR'])[['VART_sum']]).unstack().diff(axis = 1)\n",
    "growth = diff.stack().reset_index()\n",
    "\n",
    "growth.groupby(col).std()['VART_sum'].hist(bins = 50)\n",
    "plt.xlim(0, 3)"
   ]
  },
  {
   "cell_type": "code",
   "execution_count": 6,
   "metadata": {},
   "outputs": [],
   "source": [
    "# x = np.log10(df.set_index([u'ID', u'CN ID 8', u'PYOD', u'VAT','YEAR'])[['VART_sum']]).unstack()"
   ]
  },
  {
   "cell_type": "code",
   "execution_count": null,
   "metadata": {},
   "outputs": [],
   "source": [
    "col = 'CN ID 8'\n"
   ]
  },
  {
   "cell_type": "code",
   "execution_count": null,
   "metadata": {},
   "outputs": [],
   "source": [
    "col = 'ID'\n",
    "\n",
    "sample = df_04_13.loc[df_04_13[col].isin(np.random.choice(df_04_13[col].unique(), 25000))]\n",
    "\n",
    "df = sample\n",
    "diff = np.log10(df.set_index([u'ID', u'CN ID 8', u'PYOD', u'VAT','YEAR'])[['VART_sum']]).unstack().diff(axis = 1)\n",
    "growth = diff.stack().reset_index()\n",
    "\n",
    "growth.groupby(col).std()['VART_sum'].hist(bins = 50)\n",
    "plt.xlim(0, 3)"
   ]
  },
  {
   "cell_type": "markdown",
   "metadata": {},
   "source": [
    "### Growth rates (Aug 15)"
   ]
  },
  {
   "cell_type": "code",
   "execution_count": null,
   "metadata": {
    "scrolled": false
   },
   "outputs": [],
   "source": [
    "df_11_13 = pd.read_csv(path1+'/samplings/time_sample_nw_detail_11_13.csv')\n",
    "\n",
    "df = df_11_13.loc[df_11_13.ID == 612039073].loc[df_11_13.VAT == 'PT0077741']\n"
   ]
  },
  {
   "cell_type": "code",
   "execution_count": null,
   "metadata": {},
   "outputs": [],
   "source": [
    "np.log10(df.set_index([u'ID', u'CN ID 8', u'PYOD', u'VAT','YEAR'])[['VART_sum']]).unstack().diff(axis = 1)"
   ]
  },
  {
   "cell_type": "code",
   "execution_count": null,
   "metadata": {},
   "outputs": [],
   "source": [
    "col = 'ID'\n",
    "sample = df_04_13.loc[df_04_13[col].isin(np.random.choice(df_04_13[col].unique(), 25000))]\n",
    "\n",
    "# df = df_04_13\n",
    "df = sample\n",
    "diff = np.log10(df.set_index([u'ID', u'CN ID 8', u'PYOD', u'VAT','YEAR'])[['VART_sum']]).unstack().diff(axis = 1)\n",
    "growth = diff.stack().reset_index()"
   ]
  },
  {
   "cell_type": "code",
   "execution_count": null,
   "metadata": {},
   "outputs": [],
   "source": [
    "# Randomising step\n",
    "# growth['VART_sum'] = np.random.permutation(growth['VART_sum'])"
   ]
  },
  {
   "cell_type": "code",
   "execution_count": null,
   "metadata": {},
   "outputs": [],
   "source": [
    "seller_coef = growth.groupby('ID')[['VART_sum']].mean()\n",
    "buyer_coef = growth.groupby('VAT')[['VART_sum']].mean()\n",
    "pair_coef = growth.groupby(['ID','VAT'])[['VART_sum']].mean()\n",
    "year_coef = growth.groupby(['YEAR'])[['VART_sum']].mean()\n",
    "prod_coef = growth.groupby(['CN ID 8'])[['VART_sum']].mean()\n",
    "dest_coef = growth.groupby(['PYOD'])[['VART_sum']].mean()"
   ]
  },
  {
   "cell_type": "code",
   "execution_count": null,
   "metadata": {},
   "outputs": [],
   "source": [
    "growth[['VART_sum']].mean()"
   ]
  },
  {
   "cell_type": "code",
   "execution_count": null,
   "metadata": {
    "scrolled": true
   },
   "outputs": [],
   "source": [
    "year_coef\n",
    "dest_coef.sort_values(by = 'VART_sum')"
   ]
  },
  {
   "cell_type": "code",
   "execution_count": null,
   "metadata": {},
   "outputs": [],
   "source": [
    "fig, axs = plt.subplots(1, 4, figsize = (25, 5))\n",
    "dfs = [seller_coef, buyer_coef, pair_coef, prod_coef]\n",
    "titles = ['seller_coef', 'buyer_coef', 'pair_coef', 'prod_coef']\n",
    "for i in range(4):\n",
    "    ax = axs[i]\n",
    "    dfs[i].hist(bins = 100, ax = ax, normed = True)\n",
    "    ax.set_xlim(-2, 2)\n",
    "    ax.set_yscale('log')\n",
    "    ax.set_title(titles[i])"
   ]
  },
  {
   "cell_type": "code",
   "execution_count": null,
   "metadata": {},
   "outputs": [],
   "source": [
    "# df_13.groupby(['ID', 'VAT']).agg({'CN ID 8': 'nunique', 'PYOD':'nunique', 'VART_sum': 'sum'})"
   ]
  },
  {
   "cell_type": "code",
   "execution_count": null,
   "metadata": {},
   "outputs": [],
   "source": [
    "df = df_11_13\n",
    "df_by_VAT = df.groupby(['VAT']).agg({'CN ID 8': 'nunique', 'ID': 'nunique', 'PYOD':'nunique', 'VART_sum': 'sum'})\n",
    "df_by_VAT.sort_values(by = 'ID', ascending = False).head(15)"
   ]
  },
  {
   "cell_type": "code",
   "execution_count": null,
   "metadata": {},
   "outputs": [],
   "source": [
    "df_by_ID = df.groupby(['ID']).agg({'CN ID 8': 'nunique', 'VAT': 'nunique', 'PYOD':'nunique', 'VART_sum': 'sum'})\n",
    "df_by_ID.sort_values(by = 'VAT', ascending = False).head(15)"
   ]
  },
  {
   "cell_type": "code",
   "execution_count": null,
   "metadata": {
    "scrolled": false
   },
   "outputs": [],
   "source": [
    "VAT_degree = df_by_VAT[['ID']].rename({'ID': 'ID_nunique'}, axis = 1).reset_index()\n",
    "ID_degree = df_by_ID[['VAT']].rename({'VAT': 'VAT_nunique'}, axis = 1).reset_index()"
   ]
  },
  {
   "cell_type": "code",
   "execution_count": null,
   "metadata": {},
   "outputs": [],
   "source": [
    "df_degrees = df_13.merge(ID_degree, on = 'ID').merge(VAT_degree, on = 'VAT')"
   ]
  },
  {
   "cell_type": "code",
   "execution_count": null,
   "metadata": {},
   "outputs": [],
   "source": [
    "\n",
    "\n",
    "df_ = df_degrees\n",
    "df_ = df_.merge(df_.groupby('VAT')[['VART_sum']].sum().reset_index().rename({'VART_sum': 'VAT_tot'}, axis = 1), on = 'VAT')\n",
    "df_ = df_.merge(df_.groupby('ID')[['VART_sum']].sum().reset_index().rename({'VART_sum': 'ID_tot'}, axis = 1), on = 'ID')\n",
    "\n",
    "df_['wt_in_VAT'] = df_['VART_sum'].div(df_['VAT_tot'])\n",
    "df_['wt_in_ID'] = df_['VART_sum'].div(df_['ID_tot'])\n",
    "\n",
    "df_['ID_wt_deg'] = df_['ID_nunique']*df_['wt_in_ID']\n",
    "df_['VAT_wt_deg'] = df_['VAT_nunique']*df_['wt_in_VAT']\n",
    "\n",
    "ID_wt_deg = df_.groupby('ID')[['ID_wt_deg']].sum().reset_index()\n",
    "VAT_wt_deg = df_.groupby('VAT')[['VAT_wt_deg']].sum().reset_index()"
   ]
  },
  {
   "cell_type": "code",
   "execution_count": null,
   "metadata": {},
   "outputs": [],
   "source": [
    "df_degrees = df_degrees.merge(ID_wt_deg).merge(VAT_wt_deg)\n",
    "\n",
    "df_degrees = df_degrees.drop_duplicates(subset=['ID','VAT'])"
   ]
  },
  {
   "cell_type": "code",
   "execution_count": null,
   "metadata": {
    "collapsed": true
   },
   "outputs": [],
   "source": [
    "import numpy as np"
   ]
  },
  {
   "cell_type": "code",
   "execution_count": null,
   "metadata": {},
   "outputs": [],
   "source": [
    "df_degrees['VAT_wt_deg_bin'] = pd.cut(np.log10(df_degrees['VAT_wt_deg']), 50)\n",
    "df_degrees['ID_wt_deg_bin'] = pd.cut(np.log10(df_degrees['ID_wt_deg']), 50)\n",
    "\n",
    "df_degrees['VAT_nunique_bin'] = pd.cut(np.log10(df_degrees['VAT_nunique']), 50)\n",
    "df_degrees['ID_nunique_bin'] = pd.cut(np.log10(df_degrees['ID_nunique']), 50)"
   ]
  },
  {
   "cell_type": "code",
   "execution_count": null,
   "metadata": {
    "collapsed": true
   },
   "outputs": [],
   "source": []
  },
  {
   "cell_type": "code",
   "execution_count": null,
   "metadata": {
    "scrolled": true
   },
   "outputs": [],
   "source": [
    "fig, ax = plt.subplots(1, figsize = (6, 6))\n",
    "\n",
    "sample = df_degrees.groupby(['ID_wt_deg_bin']).apply(lambda x: x.sample(500, replace = True))\n",
    "sample[['ID_wt_deg', 'VAT_wt_deg']].plot(x = 'ID_wt_deg', y = 'VAT_wt_deg', alpha = .05, marker = '.', linewidth = 0, ax = ax)\n",
    "                                                               \n",
    "ax.set_xscale('log')\n",
    "ax.set_xlim(1, 1000)\n",
    "ax.set_yscale('log')\n",
    "ax.set_ylim(1, 1000)"
   ]
  },
  {
   "cell_type": "code",
   "execution_count": null,
   "metadata": {},
   "outputs": [],
   "source": [
    "df_degrees\n",
    "\n",
    "fig, axs = plt.subplots(1,2, figsize = (10, 5))\n",
    "\n",
    "ax = axs[0]\n",
    "# df_degrees.groupby('VAT_wt_deg_bin')[['VAT_wt_deg', 'ID_nunique']].median().plot(x = 'VAT_wt_deg', y = 'ID_nunique', marker = '.', ax = ax)\n",
    "df_degrees.groupby('VAT_wt_deg_bin')[['VAT_wt_deg', 'ID_nunique']].mean().plot(x = 'VAT_wt_deg', y = 'ID_nunique', marker = '.', linewidth = 0, ax = ax)\n",
    "ax.set_xscale('log')\n",
    "ax.set_yscale('log')\n",
    "\n",
    "ax = axs[1]\n",
    "# df_degrees.groupby('ID_wt_deg_bin')[['ID_wt_deg', 'VAT_nunique']].median().plot(x = 'ID_wt_deg', y = 'VAT_nunique', marker = '.', ax = ax)\n",
    "df_degrees.groupby('ID_wt_deg_bin')[['ID_wt_deg', 'VAT_nunique']].mean().plot(x = 'ID_wt_deg', y = 'VAT_nunique', marker = '.', linewidth = 0, ax = ax)\n",
    "ax.set_xscale('log')\n",
    "ax.set_yscale('log')"
   ]
  },
  {
   "cell_type": "code",
   "execution_count": null,
   "metadata": {},
   "outputs": [],
   "source": [
    "# df_degrees.groupby('VAT_wt_deg_bin')[['VAT_wt_deg', 'ID_wt_deg']].median()\n",
    "\n",
    "fig, ax = plt.subplots(1)\n",
    "df_degrees.groupby('VAT_nunique_bin')['VAT_nunique','ID_nunique'].quantile(.25).plot(x = 'VAT_nunique', y = 'ID_nunique', marker = '', ax = ax)\n",
    "df_degrees.groupby('VAT_nunique_bin')['VAT_nunique','ID_nunique'].quantile(.5).plot(x = 'VAT_nunique', y = 'ID_nunique', marker = '', ax = ax)\n",
    "df_degrees.groupby('VAT_nunique_bin')['VAT_nunique','ID_nunique'].quantile(.75).plot(x = 'VAT_nunique', y = 'ID_nunique', marker = '', ax = ax)\n",
    "df_degrees.groupby('VAT_nunique')['ID_nunique'].median().plot(x = 'index', y = 'ID_nunique', marker = '.', linewidth = 0, ax = ax)\n",
    "# df_degrees.groupby('VAT_nunique')['ID_nunique'].count().plot(y = 'ID_nunique', marker = '.', linewidth = 0, ax = ax)\n",
    "ax.set_xscale('log')\n",
    "ax.set_yscale('log')"
   ]
  },
  {
   "cell_type": "code",
   "execution_count": null,
   "metadata": {},
   "outputs": [],
   "source": [
    "fig, ax = plt.subplots(1)\n",
    "df_degrees.groupby('ID_nunique_bin')['VAT_nunique','ID_nunique'].quantile(.25).plot(x = 'ID_nunique', y = 'VAT_nunique', marker = '', ax = ax)\n",
    "df_degrees.groupby('ID_nunique_bin')['VAT_nunique','ID_nunique'].quantile(.5).plot(x = 'ID_nunique', y = 'VAT_nunique', marker = '', ax = ax)\n",
    "df_degrees.groupby('ID_nunique_bin')['VAT_nunique','ID_nunique'].quantile(.75).plot(x = 'ID_nunique', y = 'VAT_nunique', marker = '', ax = ax)\n",
    "\n",
    "# df_degrees.groupby('ID_nunique_bin')['VAT_nunique','ID_nunique'].mean().plot(x = 'ID_nunique', y = 'VAT_nunique', marker = 'o', ax = ax)\n",
    "df_degrees.groupby('ID_nunique')['VAT_nunique'].median().plot(x = 'index', y = 'VAT_nunique', marker = '.', linewidth = 0, ax = ax)\n",
    "ax.set_xscale('log')\n",
    "ax.set_yscale('log')"
   ]
  },
  {
   "cell_type": "code",
   "execution_count": null,
   "metadata": {
    "collapsed": true
   },
   "outputs": [],
   "source": []
  }
 ],
 "metadata": {
  "kernelspec": {
   "display_name": "Python 2",
   "language": "python",
   "name": "python2"
  },
  "language_info": {
   "codemirror_mode": {
    "name": "ipython",
    "version": 2
   },
   "file_extension": ".py",
   "mimetype": "text/x-python",
   "name": "python",
   "nbconvert_exporter": "python",
   "pygments_lexer": "ipython2",
   "version": "2.7.15"
  }
 },
 "nbformat": 4,
 "nbformat_minor": 2
}
