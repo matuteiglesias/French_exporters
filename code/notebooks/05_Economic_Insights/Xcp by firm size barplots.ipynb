{
 "cells": [
  {
   "cell_type": "code",
   "execution_count": 2,
   "metadata": {},
   "outputs": [],
   "source": [
    "import matplotlib.pyplot as plt\n",
    "import seaborn as sns\n",
    "%matplotlib inline\n",
    "\n",
    "import numpy as np\n",
    "import pandas as pd\n",
    "import warnings\n",
    "warnings.filterwarnings('ignore')\n",
    "\n",
    "import dask.dataframe as dd\n",
    "from dask.diagnostics import ProgressBar"
   ]
  },
  {
   "cell_type": "code",
   "execution_count": null,
   "metadata": {},
   "outputs": [
    {
     "name": "stdout",
     "output_type": "stream",
     "text": [
      "[########                                ] | 21% Completed | 32.7s"
     ]
    }
   ],
   "source": [
    "## LOAD FILES\n",
    "\n",
    "# df = pd.read_csv('./../../data/processed/_FCPY.csv', nrows = 100000)\n",
    "df = dd.read_csv('./../../data/processed/_FCPY.csv')\n",
    "\n",
    "df['PERIOD'] = (df.YEAR - 1997)//6\n",
    "\n",
    "# df = df.groupby(['IMPORT', 'ID', 'CN ID 4', 'PYOD', 'PERIOD'])[['VART']].mean().reset_index()\n",
    "with ProgressBar():\n",
    "    df = df.groupby(['IMPORT', 'ID', 'CN ID 4', 'PYOD', 'PERIOD'])[['VART']].mean().reset_index().compute()\n",
    "\n",
    "\n",
    "firm_sizes = df.groupby(['IMPORT', 'ID', 'PERIOD'])['VART'].sum().reset_index()\n",
    "# firm_sizes = pd.read_csv('./../../data/processed/firm_sizes.csv')\n",
    "\n",
    "df = df.merge(firm_sizes, on = ['IMPORT', 'PERIOD', 'ID'])\n",
    "df['log_size'] = np.log10(df.VART_y)\n",
    "\n",
    "df['log_size_bin'] = pd.cut(df['log_size'], np.arange(3, 10, .5))\n",
    "# # small cases are discarded\n",
    "\n",
    "# # map LU and BE to XU and regroup."
   ]
  },
  {
   "cell_type": "code",
   "execution_count": null,
   "metadata": {},
   "outputs": [],
   "source": [
    "# Taking count is a shortcut for taking ['ID'].unique(). \n",
    "# Think about using gross countries and aggregating into them before the unique count of firms..\n",
    "info = df.groupby(['IMPORT', 'PERIOD', 'log_size_bin', 'CN ID 4', 'PYOD'])['VART_x'].agg(['count', 'sum']).reset_index()"
   ]
  },
  {
   "cell_type": "code",
   "execution_count": null,
   "metadata": {},
   "outputs": [],
   "source": [
    "main_prods = info.groupby(['CN ID 4'])['sum'].sum().sort_values().tail(26).index.values\n",
    "main_pyods = info.groupby(['PYOD'])['sum'].sum().sort_values().tail(10).index.values"
   ]
  },
  {
   "cell_type": "code",
   "execution_count": null,
   "metadata": {},
   "outputs": [],
   "source": [
    "# have a list of countries\n",
    "main_pyods\n",
    "\n",
    "#have a list of products\n",
    "main_prods\n",
    "\n",
    "# make up plot data:\n",
    "data = info.loc[info['CN ID 4'].isin(main_prods)]\n",
    "\n",
    "countries = pd.read_csv('./../../data/c_table.csv')[['Country or area', 'ISO3166-1-Alpha-2']]\n",
    "name_mapper = countries.set_index('ISO3166-1-Alpha-2').loc[main_pyods].to_dict()['Country or area']\n",
    "name_mapper['US'] ='United States'; name_mapper['GB']='United Kingdom'\n",
    "\n",
    "data['Country'] = data['PYOD'].map(name_mapper).fillna('_Rest')\n",
    "\n",
    "data = data.groupby(['CN ID 4','IMPORT','PERIOD','log_size_bin','Country'])[['count', 'sum']].sum()"
   ]
  },
  {
   "cell_type": "code",
   "execution_count": null,
   "metadata": {},
   "outputs": [],
   "source": [
    "# slice_ = data.loc[2204].loc[0].loc[0].sort_index()\n",
    "\n",
    "# display(slice_['count'].unstack())\n",
    "\n",
    "# display(slice_['sum'].unstack())"
   ]
  },
  {
   "cell_type": "code",
   "execution_count": null,
   "metadata": {},
   "outputs": [],
   "source": [
    "CN_full = pd.read_csv('./../../data/CN_full.csv', encoding = 'utf-8')"
   ]
  },
  {
   "cell_type": "code",
   "execution_count": null,
   "metadata": {
    "scrolled": false
   },
   "outputs": [],
   "source": [
    "from pylab import *\n",
    "barWidth = 0.85\n",
    "\n",
    "import matplotlib.ticker as ticker\n",
    "@ticker.FuncFormatter\n",
    "def major_formatter(x, pos):\n",
    "    label = str(int(round(-x))) if x < 0 else str(int(round(x)))\n",
    "    return label\n",
    "\n",
    "\n",
    "for p in main_prods:\n",
    "\n",
    "    print(p, CN_full.set_index('CN ID 4')[['CN label 4']].drop_duplicates().loc[p]['CN label 4'])\n",
    "\n",
    "\n",
    "    fig, axs = plt.subplots(3, 2, figsize = (15, 15))\n",
    "    \n",
    "\n",
    "    for i in range(2):\n",
    "        for j in range(3):\n",
    "            slice_ = data.loc[p].loc[i].loc[j].sort_index()\n",
    "            ## RIGHT PLOT\n",
    "            ax = axs[j][i]\n",
    "\n",
    "            table = slice_.unstack(0, 1)[['sum']]\n",
    "            bar_ctries = table.index.values\n",
    "\n",
    "            nrows, nbins = table.shape\n",
    "            \n",
    "            cmap = cm.get_cmap('tab10', nrows)\n",
    "            colors = [matplotlib.colors.rgb2hex(cmap(i)[:3]) for i in range(cmap.N)]\n",
    "            colors[-1] = '.85'\n",
    "\n",
    "            for c in range(nrows):\n",
    "                if c == 0:\n",
    "                    ax.bar(range(nbins), 100* table.loc[bar_ctries[0]]/table.sum().sum(), \n",
    "                            edgecolor='None', width=barWidth, label = '_'+bar_ctries[0], color = colors[c], alpha = .8)\n",
    "                else:\n",
    "                    ax.bar(range(nbins), 100* table.loc[bar_ctries[c]]/table.sum().sum(), \n",
    "                           bottom=100* table.loc[bar_ctries[:c]].sum()/table.sum().sum(), \n",
    "                            edgecolor='None', width=barWidth, label = '_'+bar_ctries[c], color = colors[c], alpha = .8)\n",
    "            ax.set_ylim(0, 1)\n",
    "\n",
    "            ax1 = ax#.twinx()\n",
    "            ax.set_ylim(-50, 50)\n",
    "\n",
    "            table = slice_.unstack(0, 1)[['count']].sort_index()\n",
    "            bar_ctries = table.index.values\n",
    "            for c in range(nrows):\n",
    "                if c == 0:\n",
    "                    ax1.bar(range(nbins), -100* table.loc[bar_ctries[0]]/table.sum().sum(), \n",
    "                            edgecolor='None', width=barWidth, label = bar_ctries[0], color = colors[c], alpha = .8)\n",
    "                else:\n",
    "                    ax1.bar(range(nbins), -100* table.loc[bar_ctries[c]]/table.sum().sum(), \n",
    "                           bottom=-100* table.loc[bar_ctries[:c]].sum()/table.sum().sum(), \n",
    "                            edgecolor='None', width=barWidth, label = bar_ctries[c], color = colors[c], alpha = .8)\n",
    "#             ax1.set_ylim(0, -1)\n",
    "#             ax1.invert_yaxis()\n",
    "\n",
    "            ax.annotate(['Exports', 'Imports'][i] + ', '+ ['1997 - 2002', '2003 - 2008', '2009 - 2013'][j],\n",
    "                       xy=(nrows/2., 40), ha = 'center', fontsize = 14)\n",
    "    \n",
    "            ax.annotate('Cases', xy=(0, -10), ha = 'left', fontsize = 14, color = '.4')\n",
    "            ax.annotate('Value', xy=(0, 10), ha = 'left', fontsize = 14, color = '.4')\n",
    "        \n",
    "            if i == 1:\n",
    "                ax.legend(loc = (1.02, 0))\n",
    "                \n",
    "            ax.axhline(0, c = 'w', lw = 2)\n",
    "            ax.yaxis.set_major_formatter(major_formatter) # No negative vals\n",
    "            \n",
    "            ax1.set_xticks(range(nbins))\n",
    "            ax1.set_xticklabels(table.columns.get_level_values(1).astype(str).values, rotation = 45, ha = 'right')\n",
    "            \n",
    "            if i == 0: ax.set_ylabel('percentage', fontsize = 14)\n",
    "            if j == 2: ax.set_xlabel('Firm annual size (log EUR)', fontsize = 14)\n",
    "                \n",
    "            # Hide the right and top spines\n",
    "            ax.spines['right'].set_visible(False)\n",
    "            ax.spines['top'].set_visible(False)\n",
    "\n",
    "    plt.tight_layout()\n",
    "#     plt.savefig('./../../../WRITING/thesis_writing/figures/xcp_firmsizeBars_p'+str(p)+'.png', bbox_inches='tight')\n",
    "    plt.show()"
   ]
  },
  {
   "cell_type": "code",
   "execution_count": null,
   "metadata": {},
   "outputs": [],
   "source": []
  }
 ],
 "metadata": {
  "kernelspec": {
   "display_name": "Python 3",
   "language": "python",
   "name": "python3"
  },
  "language_info": {
   "codemirror_mode": {
    "name": "ipython",
    "version": 3
   },
   "file_extension": ".py",
   "mimetype": "text/x-python",
   "name": "python",
   "nbconvert_exporter": "python",
   "pygments_lexer": "ipython3",
   "version": "3.6.7"
  }
 },
 "nbformat": 4,
 "nbformat_minor": 2
}
