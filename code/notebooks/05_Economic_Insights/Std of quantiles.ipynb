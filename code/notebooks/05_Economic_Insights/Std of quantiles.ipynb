{
 "cells": [
  {
   "cell_type": "code",
   "execution_count": 1,
   "metadata": {},
   "outputs": [],
   "source": [
    "import pandas as pd\n",
    "import matplotlib.pyplot as plt\n",
    "%matplotlib inline\n",
    "\n",
    "import numpy as np\n",
    "\n",
    "import warnings\n",
    "warnings.filterwarnings('ignore')"
   ]
  },
  {
   "cell_type": "code",
   "execution_count": 2,
   "metadata": {},
   "outputs": [],
   "source": [
    "# The line of reasoning is \n",
    "\n",
    "# Quantiles have some volatility that depends on their n. \n",
    "\n",
    "#Factors that play a role are:\n",
    "\n",
    "# gaussian vs actual growth rates.\n",
    "# 2 step growth rates (ie. include autocorrelation)\n"
   ]
  },
  {
   "cell_type": "markdown",
   "metadata": {},
   "source": [
    "## Empirical growth rates"
   ]
  },
  {
   "cell_type": "code",
   "execution_count": 3,
   "metadata": {},
   "outputs": [
    {
     "data": {
      "image/png": "[encoded data removed]",
      "text/plain": [
       "<Figure size 432x288 with 1 Axes>"
      ]
     },
     "metadata": {},
     "output_type": "display_data"
    },
    {
     "data": {
      "text/plain": [
       "0.4273679067783249"
      ]
     },
     "execution_count": 3,
     "metadata": {},
     "output_type": "execute_result"
    }
   ],
   "source": [
    "data_path = './../../data/processed/'\n",
    "\n",
    "df = pd.read_csv(data_path + 'ID_Y.csv')\n",
    "df = df.loc[df.IMPORT == 0]\n",
    "\n",
    "cuadro = df.set_index(['ID', 'YEAR'])[['VART']].unstack()\n",
    "\n",
    "# Firms present in at least some time periods\n",
    "cuadro = cuadro.loc[cuadro.count(1) > 12]\n",
    "cuadro_rolled = cuadro\n",
    "\n",
    "annual_logdiff = np.log10(cuadro_rolled).diff(1, axis = 1).replace(np.inf, np.nan).replace(-np.inf, np.nan).dropna(how = 'all')\n",
    "annual_log = np.log10(cuadro_rolled.reindex(annual_logdiff.index))\n",
    "\n",
    "annual_log.columns = annual_log.columns.set_levels(annual_log.columns.levels[0].str.replace('VART', 'annual_log'), level=0)\n",
    "annual_logdiff.columns = annual_logdiff.columns.set_levels(annual_logdiff.columns.levels[0].str.replace('VART', 'annual_logdiff'), level=0)\n",
    "\n",
    "df_concat = pd.concat([annual_log, annual_logdiff], axis = 1)\n",
    "\n",
    "df_level_g = df_concat.stack()\n",
    "\n",
    "g_rates = df_level_g.dropna()['annual_logdiff']\n",
    "plt.hist(g_rates.values, 150)\n",
    "plt.yscale('log')\n",
    "plt.show()\n",
    "g_rates.std()"
   ]
  },
  {
   "cell_type": "markdown",
   "metadata": {},
   "source": [
    "### 2 step growth rates"
   ]
  },
  {
   "cell_type": "code",
   "execution_count": 4,
   "metadata": {},
   "outputs": [],
   "source": [
    "annual_logdiff = annual_logdiff.dropna(how = 'all').dropna(axis = 1, how = 'all')#.head(50000)\n",
    "\n",
    "vals = np.reshape(annual_logdiff.values, (int(np.prod(annual_logdiff.shape)/2), 2))\n",
    "growth_rates_2s = pd.DataFrame(vals, columns = [0, 1], index = int(annual_logdiff.shape[1]/2)*list(annual_logdiff.index)).dropna()"
   ]
  },
  {
   "cell_type": "markdown",
   "metadata": {},
   "source": [
    "## split into quantiles"
   ]
  },
  {
   "cell_type": "code",
   "execution_count": 5,
   "metadata": {},
   "outputs": [],
   "source": [
    "df = pd.read_csv('./../../data/processed/ID_Y.csv')\n",
    "df = df.loc[df.IMPORT == 0]\n",
    "\n",
    "# plt.hist(df.groupby(['ID','IMPORT']).count()['YEAR'], range(15))\n"
   ]
  },
  {
   "cell_type": "code",
   "execution_count": 6,
   "metadata": {},
   "outputs": [],
   "source": [
    "cuadro = df.set_index(['ID', 'YEAR'])['VART'].unstack().dropna()\n",
    "\n",
    "Q = 14\n",
    "cuadro['quantile'] = pd.cut(cuadro.mean(1).sort_values().cumsum(), Q)\n",
    "I = Q\n",
    "\n",
    "# cuadroq_ = cuadro.loc[cuadro['quantile'] != cuadro['quantile'].sort_values().values[0]]\n",
    "# cuadroq1 = cuadro.loc[cuadro['quantile'] == cuadro['quantile'].sort_values().values[0]]\n",
    "# cuadroq1['quantile'] = pd.cut(cuadroq1.mean(1).sort_values().cumsum()**(1/2), Q)\n",
    "# cuadro = pd.concat([cuadroq_, cuadroq1])\n",
    "# I = Q + Q -1\n"
   ]
  },
  {
   "cell_type": "code",
   "execution_count": 7,
   "metadata": {
    "scrolled": false
   },
   "outputs": [],
   "source": [
    "\n",
    "# cuadro['quantile'].value_counts() #N.\n",
    "\n",
    "# Sizes\n",
    "sizes = cuadro.groupby('quantile').mean().mean(1)\n",
    "\n",
    "sizes_median = cuadro.groupby('quantile').median().median(1)\n",
    "\n",
    "# N\n",
    "N = cuadro['quantile'].value_counts()\n",
    "\n",
    "# firm level Std\n",
    "std_q = []\n",
    "for q in cuadro['quantile'].sort_values().unique():\n",
    "    q_chunk = cuadro.loc[cuadro['quantile'] == q].drop('quantile', axis = 1)\n",
    "    log_chunk = np.log10(q_chunk).replace(-np.inf, np.nan).replace(np.inf, np.nan)\n",
    "    std_q += [log_chunk.diff(axis = 1).dropna(axis = 1, how = 'all').stack().std()]\n",
    "\n",
    "std = pd.Series(std_q, index = cuadro['quantile'].unique(), name='std').sort_index()\n",
    "\n",
    "quantile_total = pd.DataFrame(cuadro.groupby('quantile').sum().values,\n",
    "                              index = range(I), columns=range(1997, 2014))\n",
    "\n",
    "quantile_diff = np.log10(quantile_total).T.diff()\n",
    "quantile_diff_dem = (quantile_diff.T - quantile_diff.median(1)).T"
   ]
  },
  {
   "cell_type": "code",
   "execution_count": 8,
   "metadata": {
    "scrolled": true
   },
   "outputs": [],
   "source": [
    "# y = np.log10(quantile_total).T.diff().dropna().values.flatten()\n",
    "# # it is about 1/2 of using pct change\n",
    "# x = quantile_total.T.pct_change().dropna().values.flatten()\n",
    "\n",
    "# plt.plot(x, y, marker = '.', lw = 0)"
   ]
  },
  {
   "cell_type": "code",
   "execution_count": null,
   "metadata": {},
   "outputs": [],
   "source": []
  },
  {
   "cell_type": "code",
   "execution_count": 9,
   "metadata": {},
   "outputs": [],
   "source": [
    "# cuadro.groupby('quantile').std()#.mean(1)\n",
    "# df_concat"
   ]
  },
  {
   "cell_type": "code",
   "execution_count": 10,
   "metadata": {},
   "outputs": [],
   "source": [
    "# quantile_diff_dem.plot(marker = '.')"
   ]
  },
  {
   "cell_type": "code",
   "execution_count": 11,
   "metadata": {},
   "outputs": [],
   "source": [
    "long = quantile_diff_dem.T.stack()\n",
    "# long = long.head()\n",
    "long.index = long.index.get_level_values(0)#.plot()"
   ]
  },
  {
   "cell_type": "code",
   "execution_count": 12,
   "metadata": {},
   "outputs": [
    {
     "data": {
      "image/png": "[encoded data removed]",
      "text/plain": [
       "<Figure size 1152x360 with 1 Axes>"
      ]
     },
     "metadata": {},
     "output_type": "display_data"
    }
   ],
   "source": [
    "fig, ax = plt.subplots(1, figsize = (16, 5))\n",
    "\n",
    "ax.plot(range(len(long)), long, lw = 0, marker = '.', c =  'k')\n",
    "\n",
    "stds = long.groupby(level = 0).var()\n",
    "stds = stds.append(pd.Series({len(stds): stds.loc[len(stds) - 1]}))\n",
    "\n",
    "ax.step((2013 - 1997)*stds.index, stds, where='post', label='post', color = 'r', lw = 1, zorder = -20)\n",
    "ax.step((2013 - 1997)*stds.index, -stds, where='post', label='post', color = 'r', lw = 1, zorder = -20)\n",
    "\n",
    "for l in range(I + 1):\n",
    "    ax.axvline((2013 - 1997)*l, c = '.9', linestyle = '-', zorder = -10) \n",
    "\n",
    "ax.set_ylim(-.3, .25)\n",
    "\n",
    "for q in range(I):\n",
    "#     print()\n",
    "    ax.annotate('q: '+str(q), \n",
    "            xy=(16*q + 8, -.2), ha=\"center\", fontsize=14)\n",
    "    ax.annotate('N= '+str(N.iloc[q]), \n",
    "            xy=(16*q + 8, -.25), ha=\"center\", fontsize=14)\n",
    "\n",
    "ax.set_xticks([])\n",
    "ax.set_ylabel('standard deviation', fontsize = 14)\n",
    "ax.set_title('Volatility of growth rates by quantile', fontsize = 16)\n",
    "# plt.savefig('./../../../thesis_writing/figures/volatilities_quantile.png', dpi = 300)\n",
    "plt.show()"
   ]
  },
  {
   "cell_type": "markdown",
   "metadata": {},
   "source": [
    "## Simulate volatility\n",
    "### Empirical, size dependent"
   ]
  },
  {
   "cell_type": "code",
   "execution_count": 13,
   "metadata": {},
   "outputs": [],
   "source": [
    "# g_rates_val = g_rates.values\n",
    "\n",
    "result_list = []\n",
    "g_rates_result_list = []\n",
    "\n",
    "for bin_, n in enumerate(N.values):\n",
    "    bin_s = np.log10(sizes_median.iloc[bin_])\n",
    "    g_rates = df_level_g.loc[abs(df_level_g.annual_log - bin_s) < .45].dropna()\n",
    "    g_rates = g_rates['annual_logdiff'].clip(-.8, .8)\n",
    "    g_rates_result_list += [pd.Series(g_rates).describe()]\n",
    "\n",
    "    g_rates_val = g_rates.values\n",
    "#     print(n)\n",
    "    mu0 = bin_s\n",
    "    x0 = mu0*np.ones(n)\n",
    "\n",
    "    t_var = []\n",
    "    for m in range(300):\n",
    "        t = []\n",
    "        for yrs in range((2013 - 1997)):\n",
    "        #     x1 = np.random.normal(0, 0.2, n)\n",
    "            x1 = np.random.choice(g_rates_val, n)\n",
    "    #         t += [np.power(10, x0 + x1).sum()/(n*10**mu0)]\n",
    "            t += [np.log10(np.power(10, x0 + x1).sum()) - np.log10(n) - mu0]\n",
    "        t_var += [np.array(t)[1:].var()]\n",
    "    \n",
    "    s1 = np.array(t_var)\n",
    "    result_list += [pd.Series(s1).describe()]\n",
    "\n",
    "result = pd.DataFrame(pd.concat(result_list, axis = 1))\n",
    "result.columns = N.values\n",
    "result = result.T"
   ]
  },
  {
   "cell_type": "markdown",
   "metadata": {},
   "source": [
    "## Empirical 2 step, size dependent"
   ]
  },
  {
   "cell_type": "code",
   "execution_count": 14,
   "metadata": {},
   "outputs": [],
   "source": [
    "# g_rates_val = g_rates.values\n",
    "\n",
    "result_list = []\n",
    "g_rates_result_list = []\n",
    "\n",
    "for bin_, n in enumerate(N.values):\n",
    "    bin_s = np.log10(sizes_median.iloc[bin_])\n",
    "\n",
    "    g_rates = df_level_g.loc[abs(df_level_g.annual_log - bin_s) < .45].dropna()\n",
    "    \n",
    "    g_rates = g_rates.reset_index()\n",
    "    g_rates['YEAR_diff'] = g_rates['YEAR'].diff()\n",
    "    g_rates = g_rates.loc[g_rates['YEAR_diff'] == 1].set_index(['ID', 'YEAR'])\n",
    "    annual_logdiff = g_rates['annual_logdiff'].unstack().T.reindex(range(1998, 2014)).T\n",
    "#     annual_logdiff = g_rates['annual_logdiff'].clip(-1, 1).unstack().T.reindex(range(1998, 2014)).T\n",
    "\n",
    "    vals = np.reshape(annual_logdiff.values, (int(np.prod(annual_logdiff.shape)/2), 2))\n",
    "    growth_rates_2s = pd.DataFrame(vals, columns = [0, 1], index = int(annual_logdiff.shape[1]/2)*list(annual_logdiff.index)).dropna()\n",
    "    \n",
    "    g_rates_val = growth_rates_2s.values\n",
    "#     print(n)\n",
    "    mu0 = bin_s\n",
    "    x0 = mu0*np.ones(n)\n",
    "\n",
    "    t_var = []\n",
    "    for m in range(300):\n",
    "        t = []\n",
    "        for yrs in np.arange(1997, 2013, 2):\n",
    "            x1 = g_rates_val[np.random.choice(range(len(g_rates_val)), n)]\n",
    "            t += [np.log10(np.power(10, x0 + x1[:, 0] + x1[:, 1]).sum()) - np.log10(n) - mu0]\n",
    "        t_var += [np.array(t)[1:].var()]\n",
    "    \n",
    "    s1 = np.array(t_var)\n",
    "    result_list += [pd.Series(s1).describe()]\n",
    "\n",
    "result1 = pd.DataFrame(pd.concat(result_list, axis = 1))\n",
    "result1.columns = N.values\n",
    "result1 = result1.T"
   ]
  },
  {
   "cell_type": "markdown",
   "metadata": {},
   "source": [
    "### Gaussian"
   ]
  },
  {
   "cell_type": "code",
   "execution_count": 15,
   "metadata": {},
   "outputs": [],
   "source": [
    "# g_rates_val = g_rates.values\n",
    "\n",
    "result_list = []\n",
    "g_rates_result_list = []\n",
    "\n",
    "for bin_, n in enumerate(N.values):\n",
    "    bin_s = np.log10(sizes_median.iloc[bin_])\n",
    "#     bin_std = std.iloc[bin_]\n",
    "    bin_std = std.median() # same std for all gaussian approxs\n",
    "\n",
    "    mu0 = bin_s\n",
    "    x0 = mu0*np.ones(n)\n",
    "\n",
    "    t_var = []\n",
    "    for m in range(300):\n",
    "        t = []\n",
    "        for yrs in range((2013 - 1997)):\n",
    "            x1 = np.random.normal(0, bin_std, n)\n",
    "#             x1 = np.random.choice(g_rates_val, n)\n",
    "    #         t += [np.power(10, x0 + x1).sum()/(n*10**mu0)]\n",
    "            t += [np.log10(np.power(10, x0 + x1).sum()) - np.log10(n) - mu0]\n",
    "        t_var += [np.array(t)[1:].var()]\n",
    "    \n",
    "    s1 = np.array(t_var)\n",
    "    result_list += [pd.Series(s1).describe()]\n",
    "result2 = pd.DataFrame(pd.concat(result_list, axis = 1))\n",
    "result2.columns = N.values\n",
    "result2 = result2.T"
   ]
  },
  {
   "cell_type": "markdown",
   "metadata": {},
   "source": [
    "### Empirical, size INdependent"
   ]
  },
  {
   "cell_type": "code",
   "execution_count": 16,
   "metadata": {},
   "outputs": [],
   "source": [
    "# g_rates_val = g_rates.values\n",
    "\n",
    "result_list = []\n",
    "g_rates_result_list = []\n",
    "\n",
    "for bin_, n in enumerate(N.values):\n",
    "    bin_s = np.log10(sizes_median.iloc[bin_])\n",
    "    g_rates = df_level_g.dropna()['annual_logdiff'].clip(-1, 1)\n",
    "    g_rates_result_list += [pd.Series(g_rates).describe()]\n",
    "\n",
    "    g_rates_val = g_rates.values\n",
    "#     print(n)\n",
    "    mu0 = bin_s\n",
    "    x0 = mu0*np.ones(n)\n",
    "\n",
    "    t_var = []\n",
    "    for m in range(300):\n",
    "        t = []\n",
    "        for yrs in range((2013 - 1997)):\n",
    "        #     x1 = np.random.normal(0, 0.2, n)\n",
    "            x1 = np.random.choice(g_rates_val, n)\n",
    "    #         t += [np.power(10, x0 + x1).sum()/(n*10**mu0)]\n",
    "            t += [np.log10(np.power(10, x0 + x1).sum()) - np.log10(n) - mu0]\n",
    "        t_var += [np.array(t)[1:].var()]\n",
    "    \n",
    "    s1 = np.array(t_var)\n",
    "    result_list += [pd.Series(s1).describe()]\n",
    "\n",
    "result3 = pd.DataFrame(pd.concat(result_list, axis = 1))\n",
    "result3.columns = N.values\n",
    "result3 = result3.T"
   ]
  },
  {
   "cell_type": "code",
   "execution_count": 17,
   "metadata": {},
   "outputs": [],
   "source": [
    "\n",
    "# result.head()\n",
    "\n",
    "# fig, ax = plt.subplots(1, figsize = (7, 6))\n",
    "# x = N.values\n",
    "# ax.plot(x, result['75%'], c = '.7')\n",
    "# ax.plot(x, result['50%'], c = '.7', marker = '.')\n",
    "# ax.plot(x, result['25%'], c = '.7')\n",
    "\n",
    "# plt.xscale('log')\n",
    "# # plt.ylim(0, .2)\n",
    "# plt.show()"
   ]
  },
  {
   "cell_type": "code",
   "execution_count": 18,
   "metadata": {},
   "outputs": [],
   "source": [
    "def distrib(sigmas):\n",
    "    result = np.log10(np.array([np.power(10, np.random.normal(0, s, 40000)) for s in sigmas]).sum(0)/len(sigmas))\n",
    "    return result\n",
    "\n",
    "### ns = np.round((.3/y)**2)"
   ]
  },
  {
   "cell_type": "markdown",
   "metadata": {},
   "source": [
    "## Simulation, effect of n only"
   ]
  },
  {
   "cell_type": "code",
   "execution_count": 19,
   "metadata": {},
   "outputs": [],
   "source": [
    "cuadroq1 = cuadro.drop('quantile', axis = 1).loc[cuadro['quantile'] == cuadro['quantile'].sort_values().values[0]]\n",
    "# cuadroq1['quantile'] = pd.cut(cuadroq1.mean(1).sort_values().cumsum()**(1/2), Q)\n",
    "\n",
    "std_sample = []; n_sample = [];\n",
    "for m in range(50):\n",
    "    for l in np.arange(2, 4.4, .2):\n",
    "        n = int(np.round(np.power(10, l)))\n",
    "        q_chunk_sum = cuadroq1.sample(n, replace = True).sum()\n",
    "        sample_diff = np.log10(q_chunk_sum).replace(-np.inf, np.nan).replace(np.inf, np.nan).diff()#\n",
    "        sample_diff_dem = (sample_diff - quantile_diff.median(1)) # I subtract the median of the years...\n",
    "        std_sample += [sample_diff_dem.var()]\n",
    "        n_sample += [n]\n",
    "        \n",
    "x_ = np.array(n_sample)\n",
    "y_ = np.array(std_sample)\n",
    "\n",
    "sample_size_test = pd.DataFrame([x_, y_], index = ['N', 'var']).T.groupby('N').describe()['var']"
   ]
  },
  {
   "cell_type": "code",
   "execution_count": 20,
   "metadata": {},
   "outputs": [],
   "source": [
    "# fig, ax = plt.subplots(1, figsize = (7, 6))\n",
    "# x = N.values\n",
    "# y = stds[1:].values\n",
    "# ax.plot(x, y, marker = 'o')\n",
    "# ax.plot(sample_size_test.index, sample_size_test['50%'], marker = '.', lw = 0, color = 'b')\n",
    "# ax.fill_between(sample_size_test.index, sample_size_test['75%'], sample_size_test['25%'], color = 'b', alpha = .15, label = 'aggregate')\n",
    "# # \n",
    "# ax.set_xscale('log')\n",
    "# ax.set_yscale('log')"
   ]
  },
  {
   "cell_type": "code",
   "execution_count": null,
   "metadata": {},
   "outputs": [],
   "source": []
  },
  {
   "cell_type": "code",
   "execution_count": 21,
   "metadata": {},
   "outputs": [
    {
     "ename": "FileNotFoundError",
     "evalue": "[Errno 2] No such file or directory: './../../../thesis_writing/figures/quantiles_std_bands.png'",
     "output_type": "error",
     "traceback": [
      "\u001b[0;31m---------------------------------------------------------------------------\u001b[0m",
      "\u001b[0;31mFileNotFoundError\u001b[0m                         Traceback (most recent call last)",
      "\u001b[0;32m<ipython-input-21-dd3de2d76d92>\u001b[0m in \u001b[0;36m<module>\u001b[0;34m()\u001b[0m\n\u001b[1;32m     56\u001b[0m \u001b[0;34m\u001b[0m\u001b[0m\n\u001b[1;32m     57\u001b[0m \u001b[0;34m\u001b[0m\u001b[0m\n\u001b[0;32m---> 58\u001b[0;31m \u001b[0mplt\u001b[0m\u001b[0;34m.\u001b[0m\u001b[0msavefig\u001b[0m\u001b[0;34m(\u001b[0m\u001b[0;34m'./../../../thesis_writing/figures/quantiles_std_bands.png'\u001b[0m\u001b[0;34m,\u001b[0m \u001b[0mdpi\u001b[0m \u001b[0;34m=\u001b[0m \u001b[0;36m300\u001b[0m\u001b[0;34m)\u001b[0m\u001b[0;34m\u001b[0m\u001b[0;34m\u001b[0m\u001b[0m\n\u001b[0m\u001b[1;32m     59\u001b[0m \u001b[0;34m\u001b[0m\u001b[0m\n\u001b[1;32m     60\u001b[0m \u001b[0mplt\u001b[0m\u001b[0;34m.\u001b[0m\u001b[0mshow\u001b[0m\u001b[0;34m(\u001b[0m\u001b[0;34m)\u001b[0m\u001b[0;34m\u001b[0m\u001b[0;34m\u001b[0m\u001b[0m\n",
      "\u001b[0;32m~/anaconda2/envs/my_pymc_env/lib/python3.6/site-packages/matplotlib/pyplot.py\u001b[0m in \u001b[0;36msavefig\u001b[0;34m(*args, **kwargs)\u001b[0m\n\u001b[1;32m    687\u001b[0m \u001b[0;32mdef\u001b[0m \u001b[0msavefig\u001b[0m\u001b[0;34m(\u001b[0m\u001b[0;34m*\u001b[0m\u001b[0margs\u001b[0m\u001b[0;34m,\u001b[0m \u001b[0;34m**\u001b[0m\u001b[0mkwargs\u001b[0m\u001b[0;34m)\u001b[0m\u001b[0;34m:\u001b[0m\u001b[0;34m\u001b[0m\u001b[0;34m\u001b[0m\u001b[0m\n\u001b[1;32m    688\u001b[0m     \u001b[0mfig\u001b[0m \u001b[0;34m=\u001b[0m \u001b[0mgcf\u001b[0m\u001b[0;34m(\u001b[0m\u001b[0;34m)\u001b[0m\u001b[0;34m\u001b[0m\u001b[0;34m\u001b[0m\u001b[0m\n\u001b[0;32m--> 689\u001b[0;31m     \u001b[0mres\u001b[0m \u001b[0;34m=\u001b[0m \u001b[0mfig\u001b[0m\u001b[0;34m.\u001b[0m\u001b[0msavefig\u001b[0m\u001b[0;34m(\u001b[0m\u001b[0;34m*\u001b[0m\u001b[0margs\u001b[0m\u001b[0;34m,\u001b[0m \u001b[0;34m**\u001b[0m\u001b[0mkwargs\u001b[0m\u001b[0;34m)\u001b[0m\u001b[0;34m\u001b[0m\u001b[0;34m\u001b[0m\u001b[0m\n\u001b[0m\u001b[1;32m    690\u001b[0m     \u001b[0mfig\u001b[0m\u001b[0;34m.\u001b[0m\u001b[0mcanvas\u001b[0m\u001b[0;34m.\u001b[0m\u001b[0mdraw_idle\u001b[0m\u001b[0;34m(\u001b[0m\u001b[0;34m)\u001b[0m   \u001b[0;31m# need this if 'transparent=True' to reset colors\u001b[0m\u001b[0;34m\u001b[0m\u001b[0;34m\u001b[0m\u001b[0m\n\u001b[1;32m    691\u001b[0m     \u001b[0;32mreturn\u001b[0m \u001b[0mres\u001b[0m\u001b[0;34m\u001b[0m\u001b[0;34m\u001b[0m\u001b[0m\n",
      "\u001b[0;32m~/anaconda2/envs/my_pymc_env/lib/python3.6/site-packages/matplotlib/figure.py\u001b[0m in \u001b[0;36msavefig\u001b[0;34m(self, fname, frameon, transparent, **kwargs)\u001b[0m\n\u001b[1;32m   2092\u001b[0m             \u001b[0mself\u001b[0m\u001b[0;34m.\u001b[0m\u001b[0mset_frameon\u001b[0m\u001b[0;34m(\u001b[0m\u001b[0mframeon\u001b[0m\u001b[0;34m)\u001b[0m\u001b[0;34m\u001b[0m\u001b[0;34m\u001b[0m\u001b[0m\n\u001b[1;32m   2093\u001b[0m \u001b[0;34m\u001b[0m\u001b[0m\n\u001b[0;32m-> 2094\u001b[0;31m         \u001b[0mself\u001b[0m\u001b[0;34m.\u001b[0m\u001b[0mcanvas\u001b[0m\u001b[0;34m.\u001b[0m\u001b[0mprint_figure\u001b[0m\u001b[0;34m(\u001b[0m\u001b[0mfname\u001b[0m\u001b[0;34m,\u001b[0m \u001b[0;34m**\u001b[0m\u001b[0mkwargs\u001b[0m\u001b[0;34m)\u001b[0m\u001b[0;34m\u001b[0m\u001b[0;34m\u001b[0m\u001b[0m\n\u001b[0m\u001b[1;32m   2095\u001b[0m \u001b[0;34m\u001b[0m\u001b[0m\n\u001b[1;32m   2096\u001b[0m         \u001b[0;32mif\u001b[0m \u001b[0mframeon\u001b[0m\u001b[0;34m:\u001b[0m\u001b[0;34m\u001b[0m\u001b[0;34m\u001b[0m\u001b[0m\n",
      "\u001b[0;32m~/anaconda2/envs/my_pymc_env/lib/python3.6/site-packages/matplotlib/backend_bases.py\u001b[0m in \u001b[0;36mprint_figure\u001b[0;34m(self, filename, dpi, facecolor, edgecolor, orientation, format, bbox_inches, **kwargs)\u001b[0m\n\u001b[1;32m   2073\u001b[0m                     \u001b[0morientation\u001b[0m\u001b[0;34m=\u001b[0m\u001b[0morientation\u001b[0m\u001b[0;34m,\u001b[0m\u001b[0;34m\u001b[0m\u001b[0;34m\u001b[0m\u001b[0m\n\u001b[1;32m   2074\u001b[0m                     \u001b[0mbbox_inches_restore\u001b[0m\u001b[0;34m=\u001b[0m\u001b[0m_bbox_inches_restore\u001b[0m\u001b[0;34m,\u001b[0m\u001b[0;34m\u001b[0m\u001b[0;34m\u001b[0m\u001b[0m\n\u001b[0;32m-> 2075\u001b[0;31m                     **kwargs)\n\u001b[0m\u001b[1;32m   2076\u001b[0m             \u001b[0;32mfinally\u001b[0m\u001b[0;34m:\u001b[0m\u001b[0;34m\u001b[0m\u001b[0;34m\u001b[0m\u001b[0m\n\u001b[1;32m   2077\u001b[0m                 \u001b[0;32mif\u001b[0m \u001b[0mbbox_inches\u001b[0m \u001b[0;32mand\u001b[0m \u001b[0mrestore_bbox\u001b[0m\u001b[0;34m:\u001b[0m\u001b[0;34m\u001b[0m\u001b[0;34m\u001b[0m\u001b[0m\n",
      "\u001b[0;32m~/anaconda2/envs/my_pymc_env/lib/python3.6/site-packages/matplotlib/backends/backend_agg.py\u001b[0m in \u001b[0;36mprint_png\u001b[0;34m(self, filename_or_obj, *args, **kwargs)\u001b[0m\n\u001b[1;32m    519\u001b[0m \u001b[0;34m\u001b[0m\u001b[0m\n\u001b[1;32m    520\u001b[0m         \u001b[0;32mwith\u001b[0m \u001b[0mcbook\u001b[0m\u001b[0;34m.\u001b[0m\u001b[0m_setattr_cm\u001b[0m\u001b[0;34m(\u001b[0m\u001b[0mrenderer\u001b[0m\u001b[0;34m,\u001b[0m \u001b[0mdpi\u001b[0m\u001b[0;34m=\u001b[0m\u001b[0mself\u001b[0m\u001b[0;34m.\u001b[0m\u001b[0mfigure\u001b[0m\u001b[0;34m.\u001b[0m\u001b[0mdpi\u001b[0m\u001b[0;34m)\u001b[0m\u001b[0;34m,\u001b[0m\u001b[0;31m \u001b[0m\u001b[0;31m\\\u001b[0m\u001b[0;34m\u001b[0m\u001b[0;34m\u001b[0m\u001b[0m\n\u001b[0;32m--> 521\u001b[0;31m                 \u001b[0mcbook\u001b[0m\u001b[0;34m.\u001b[0m\u001b[0mopen_file_cm\u001b[0m\u001b[0;34m(\u001b[0m\u001b[0mfilename_or_obj\u001b[0m\u001b[0;34m,\u001b[0m \u001b[0;34m\"wb\"\u001b[0m\u001b[0;34m)\u001b[0m \u001b[0;32mas\u001b[0m \u001b[0mfh\u001b[0m\u001b[0;34m:\u001b[0m\u001b[0;34m\u001b[0m\u001b[0;34m\u001b[0m\u001b[0m\n\u001b[0m\u001b[1;32m    522\u001b[0m             _png.write_png(renderer._renderer, fh,\n\u001b[1;32m    523\u001b[0m                             self.figure.dpi, metadata=metadata)\n",
      "\u001b[0;32m~/anaconda2/envs/my_pymc_env/lib/python3.6/contextlib.py\u001b[0m in \u001b[0;36m__enter__\u001b[0;34m(self)\u001b[0m\n\u001b[1;32m     79\u001b[0m     \u001b[0;32mdef\u001b[0m \u001b[0m__enter__\u001b[0m\u001b[0;34m(\u001b[0m\u001b[0mself\u001b[0m\u001b[0;34m)\u001b[0m\u001b[0;34m:\u001b[0m\u001b[0;34m\u001b[0m\u001b[0;34m\u001b[0m\u001b[0m\n\u001b[1;32m     80\u001b[0m         \u001b[0;32mtry\u001b[0m\u001b[0;34m:\u001b[0m\u001b[0;34m\u001b[0m\u001b[0;34m\u001b[0m\u001b[0m\n\u001b[0;32m---> 81\u001b[0;31m             \u001b[0;32mreturn\u001b[0m \u001b[0mnext\u001b[0m\u001b[0;34m(\u001b[0m\u001b[0mself\u001b[0m\u001b[0;34m.\u001b[0m\u001b[0mgen\u001b[0m\u001b[0;34m)\u001b[0m\u001b[0;34m\u001b[0m\u001b[0;34m\u001b[0m\u001b[0m\n\u001b[0m\u001b[1;32m     82\u001b[0m         \u001b[0;32mexcept\u001b[0m \u001b[0mStopIteration\u001b[0m\u001b[0;34m:\u001b[0m\u001b[0;34m\u001b[0m\u001b[0;34m\u001b[0m\u001b[0m\n\u001b[1;32m     83\u001b[0m             \u001b[0;32mraise\u001b[0m \u001b[0mRuntimeError\u001b[0m\u001b[0;34m(\u001b[0m\u001b[0;34m\"generator didn't yield\"\u001b[0m\u001b[0;34m)\u001b[0m \u001b[0;32mfrom\u001b[0m \u001b[0;32mNone\u001b[0m\u001b[0;34m\u001b[0m\u001b[0;34m\u001b[0m\u001b[0m\n",
      "\u001b[0;32m~/anaconda2/envs/my_pymc_env/lib/python3.6/site-packages/matplotlib/cbook/__init__.py\u001b[0m in \u001b[0;36mopen_file_cm\u001b[0;34m(path_or_file, mode, encoding)\u001b[0m\n\u001b[1;32m    405\u001b[0m \u001b[0;32mdef\u001b[0m \u001b[0mopen_file_cm\u001b[0m\u001b[0;34m(\u001b[0m\u001b[0mpath_or_file\u001b[0m\u001b[0;34m,\u001b[0m \u001b[0mmode\u001b[0m\u001b[0;34m=\u001b[0m\u001b[0;34m\"r\"\u001b[0m\u001b[0;34m,\u001b[0m \u001b[0mencoding\u001b[0m\u001b[0;34m=\u001b[0m\u001b[0;32mNone\u001b[0m\u001b[0;34m)\u001b[0m\u001b[0;34m:\u001b[0m\u001b[0;34m\u001b[0m\u001b[0;34m\u001b[0m\u001b[0m\n\u001b[1;32m    406\u001b[0m     \u001b[0;34mr\"\"\"Pass through file objects and context-manage `.PathLike`\\s.\"\"\"\u001b[0m\u001b[0;34m\u001b[0m\u001b[0;34m\u001b[0m\u001b[0m\n\u001b[0;32m--> 407\u001b[0;31m     \u001b[0mfh\u001b[0m\u001b[0;34m,\u001b[0m \u001b[0mopened\u001b[0m \u001b[0;34m=\u001b[0m \u001b[0mto_filehandle\u001b[0m\u001b[0;34m(\u001b[0m\u001b[0mpath_or_file\u001b[0m\u001b[0;34m,\u001b[0m \u001b[0mmode\u001b[0m\u001b[0;34m,\u001b[0m \u001b[0;32mTrue\u001b[0m\u001b[0;34m,\u001b[0m \u001b[0mencoding\u001b[0m\u001b[0;34m)\u001b[0m\u001b[0;34m\u001b[0m\u001b[0;34m\u001b[0m\u001b[0m\n\u001b[0m\u001b[1;32m    408\u001b[0m     \u001b[0;32mif\u001b[0m \u001b[0mopened\u001b[0m\u001b[0;34m:\u001b[0m\u001b[0;34m\u001b[0m\u001b[0;34m\u001b[0m\u001b[0m\n\u001b[1;32m    409\u001b[0m         \u001b[0;32mwith\u001b[0m \u001b[0mfh\u001b[0m\u001b[0;34m:\u001b[0m\u001b[0;34m\u001b[0m\u001b[0;34m\u001b[0m\u001b[0m\n",
      "\u001b[0;32m~/anaconda2/envs/my_pymc_env/lib/python3.6/site-packages/matplotlib/cbook/__init__.py\u001b[0m in \u001b[0;36mto_filehandle\u001b[0;34m(fname, flag, return_opened, encoding)\u001b[0m\n\u001b[1;32m    390\u001b[0m             \u001b[0mfh\u001b[0m \u001b[0;34m=\u001b[0m \u001b[0mbz2\u001b[0m\u001b[0;34m.\u001b[0m\u001b[0mBZ2File\u001b[0m\u001b[0;34m(\u001b[0m\u001b[0mfname\u001b[0m\u001b[0;34m,\u001b[0m \u001b[0mflag\u001b[0m\u001b[0;34m)\u001b[0m\u001b[0;34m\u001b[0m\u001b[0;34m\u001b[0m\u001b[0m\n\u001b[1;32m    391\u001b[0m         \u001b[0;32melse\u001b[0m\u001b[0;34m:\u001b[0m\u001b[0;34m\u001b[0m\u001b[0;34m\u001b[0m\u001b[0m\n\u001b[0;32m--> 392\u001b[0;31m             \u001b[0mfh\u001b[0m \u001b[0;34m=\u001b[0m \u001b[0mopen\u001b[0m\u001b[0;34m(\u001b[0m\u001b[0mfname\u001b[0m\u001b[0;34m,\u001b[0m \u001b[0mflag\u001b[0m\u001b[0;34m,\u001b[0m \u001b[0mencoding\u001b[0m\u001b[0;34m=\u001b[0m\u001b[0mencoding\u001b[0m\u001b[0;34m)\u001b[0m\u001b[0;34m\u001b[0m\u001b[0;34m\u001b[0m\u001b[0m\n\u001b[0m\u001b[1;32m    393\u001b[0m         \u001b[0mopened\u001b[0m \u001b[0;34m=\u001b[0m \u001b[0;32mTrue\u001b[0m\u001b[0;34m\u001b[0m\u001b[0;34m\u001b[0m\u001b[0m\n\u001b[1;32m    394\u001b[0m     \u001b[0;32melif\u001b[0m \u001b[0mhasattr\u001b[0m\u001b[0;34m(\u001b[0m\u001b[0mfname\u001b[0m\u001b[0;34m,\u001b[0m \u001b[0;34m'seek'\u001b[0m\u001b[0;34m)\u001b[0m\u001b[0;34m:\u001b[0m\u001b[0;34m\u001b[0m\u001b[0;34m\u001b[0m\u001b[0m\n",
      "\u001b[0;31mFileNotFoundError\u001b[0m: [Errno 2] No such file or directory: './../../../thesis_writing/figures/quantiles_std_bands.png'"
     ]
    },
    {
     "data": {
      "image/png": "[encoded data removed]",
      "text/plain": [
       "<Figure size 576x396 with 1 Axes>"
      ]
     },
     "metadata": {},
     "output_type": "display_data"
    }
   ],
   "source": [
    "# fit bad data points\n",
    "result1['75%'][774] = .5*(0.000027 + 0.000087)\n",
    "\n",
    "fig, ax = plt.subplots(1, figsize = (8, 5.5))\n",
    "x = N.values\n",
    "y = stds[:-1].values\n",
    "# ax.plot(x = N.values, y = stds[:-1].values, marker = 'o')\n",
    "ax.plot(x, y, marker = 'o')\n",
    "\n",
    "# # Gaussian expectation with the sigma of each bin\n",
    "sigma = std\n",
    "sigma = std.median()\n",
    "sigma_correg = np.sqrt((np.exp(sigma**2))*(np.exp(sigma**2) - 1))\n",
    "ax.plot(x, sigma_correg**2/x, marker = '.', c = 'g', label = r'$\\Sigma(n)$, eq 1.10') # we can confirm it's a good approx\n",
    "# ax.plot(x, std/np.sqrt(x), marker = '.', c= 'g')\n",
    "\n",
    "# this is from using GAUSSIAN growth rates around each size to simulate the std\n",
    "ax.fill_between(x, result2['25%'], result2['75%'], color = '#2ca02c', alpha = .2, label = 'gaussian')\n",
    "\n",
    "# this is from using EMPIRICAL growth rates around each size to simulate the std\n",
    "ax.fill_between(x, result['25%'], result['75%'], color = '#d62728', alpha = .2, label = 'empirical')\n",
    "\n",
    "# this is from using EMPIRICAL 2 STEP growth rates around each size to simulate the std\n",
    "ax.fill_between(x, result1['25%'], result1['75%'], color = '#9467bd', alpha = .2, label = 'empirical \\n autocorr')\n",
    "\n",
    "# # this is from using EMPIRICAL growth rates around each size to simulate the std\n",
    "# ax.fill_between(x, result3['25%'], result3['75%'], color = '#9467bd', alpha = .2, label = 'empirical \\n constant g')\n",
    "# What happens here is in the end it's like using the massive smaller quantile. as it weighs much more.\n",
    "\n",
    "# this is from changing sample size, with the same composition of the quantile of many small firms\n",
    "ax.fill_between(sample_size_test.index, sample_size_test['75%'], sample_size_test['25%'], color = '#1f77b4', alpha = .25, label = 'depce w. n')\n",
    "\n",
    "# This is the simulated (distrib function) std of the dataset made of all quantiles\n",
    "# ax.axhline(np.std(distrib(stds.values)), c = '.5', linestyle = ':')\n",
    "\n",
    "# This is the aggregate std (the quantity we want to explain). However it could have A LOT of error\n",
    "# We could estimate some error bar under gaussian hypothesis\n",
    "agg_volatility = np.log10(cuadro.sum()).diff().dropna()\n",
    "ax.fill_between(x, agg_volatility.var(), agg_volatility.drop(2009).var(), color = '.7', alpha = .2, label = 'agg '+r'$\\sigma^2$')\n",
    "\n",
    "# If it doesnt coincide with the grey dotted above it's because quantiles are not 'lognormal'\n",
    "# which we have kind of seem becuse the grey line is better than the greens\n",
    "\n",
    "# # custom\n",
    "# ax.plot(x, .108/np.sqrt(x), linestyle = '--', c = 'r', zorder = 10) #.118 lets the whole dataset std match the empirical blue\n",
    "# ax.plot(x, .765/np.sqrt(x), linestyle = '--', c = 'r', zorder = 10) #\n",
    "# ax.plot(x, .3/np.sqrt(x), linestyle = '-', c = '.3', zorder = 10, label = r'${N}^{-1/2}$') #\n",
    "\n",
    "ax.set_xlabel('N (log)', fontsize = 14)\n",
    "ax.set_ylabel('Standard deviation (log)', fontsize = 14)\n",
    "ax.legend()\n",
    "ax.set_xlim(1, 1e5)\n",
    "ax.set_ylim(1e-5, .1)\n",
    "plt.xscale('log')\n",
    "plt.yscale('log')\n",
    "\n",
    "\n",
    "plt.savefig('./../../../thesis_writing/figures/quantiles_std_bands.png', dpi = 300)\n",
    "\n",
    "plt.show()"
   ]
  },
  {
   "cell_type": "markdown",
   "metadata": {},
   "source": [
    "### Load simulated \n"
   ]
  },
  {
   "cell_type": "code",
   "execution_count": null,
   "metadata": {},
   "outputs": [],
   "source": [
    "old half broken..."
   ]
  },
  {
   "cell_type": "code",
   "execution_count": null,
   "metadata": {},
   "outputs": [],
   "source": [
    "\n",
    "## List the datasets for quicker access\n",
    "\n",
    "T = 15\n",
    "\n",
    "rows = []\n",
    "for sizes in ['pareto', 'logn90', 'logn']:\n",
    "    cols = []\n",
    "    for k, dist in enumerate(['emp_szd_T16', 'lapl', 'norm']):        \n",
    "        filename = './../../data/processed/exp_var_'+dist+'_1s_'+sizes+'_5s_70Qqs_200i_.csv'\n",
    "        \n",
    "        \n",
    "        df1 = pd.read_csv('./../../data/processed/exp_var_'+dist+'_1s_'+sizes+'_5s_70Qqs_200i_.csv')\n",
    "        df2 = pd.read_csv('./../../data/processed/exp_var_'+dist+'_1s_'+sizes+'_2s_70Qqs_200i_.csv')\n",
    "        if k == 0:\n",
    "            df2['var_diff_qi'] = np.log10(df2[[str(t) for t in range(T)]]).diff(axis = 1).var(axis = 1) #fix previous problem\n",
    "        df = pd.concat([df1, df2])\n",
    "        \n",
    "        I = df['i'].max() + 1; keep = int(.5*I)    \n",
    "        ### \n",
    "        # DROP CASES WHERE QUANTILES ARE FAR FROM BALANCED\n",
    "        ###\n",
    "        df = df.reset_index().set_index(['s','Q', 'q', 'i'])\n",
    "        df_lin_vals = df[[str(t) for t in range(T + 1)]]\n",
    "        grouped = df_lin_vals.mean(1).groupby(level = [0, 1, 3]) \n",
    "        acceptables = (np.log10(grouped.max()) - np.log10(grouped.min())).groupby(level = [0, 1]).nsmallest(keep).sort_index()\n",
    "        acceptables.index = acceptables.index.droplevel([0, 1])\n",
    "        df = df.reset_index().set_index(['s', 'Q', 'i']).loc[acceptables.index].reset_index()#.set_index(['Q', 's', 'i'])\n",
    "        table = df\n",
    "            \n",
    "            \n",
    "#         table = pd.read_csv(filename)\n",
    "        cols += [table]\n",
    "    rows += [cols]\n",
    "data2 = rows\n"
   ]
  },
  {
   "cell_type": "markdown",
   "metadata": {},
   "source": [
    "### Set up size dists"
   ]
  },
  {
   "cell_type": "code",
   "execution_count": null,
   "metadata": {},
   "outputs": [],
   "source": [
    "from scipy.special import erf\n",
    "from scipy.stats import norm\n",
    "from scipy.stats import pareto\n",
    "\n",
    "# Now we can have the n(Q, q)\n",
    "def get_n(x1, Q):\n",
    "    x_lin = np.power(10, x1)\n",
    "    bins = pd.cut(pd.Series(np.cumsum(x_lin)), Q)\n",
    "    ns = bins.value_counts().values\n",
    "    return bins, ns\n",
    "\n",
    "#  - Lognormal clipped x > 3. \n",
    "sigma = 1.2810683494198207 # 1.3149476902828778\n",
    "mu = 4.536908110675739 # 4.470439741406725\n",
    "# 13% of guys that would be below the .3 threshold.\n",
    "z = (mu - 3)/sigma\n",
    "cum_th = 1 - .5*(1 + erf(z/np.sqrt(2)))\n",
    "# From the theoretical N and the ppf we can know the theoretical quantiles\n",
    "N0 = int(1e5)\n",
    "N_ = int(round(N0/(1 - cum_th))) # We use a larger N ..\n",
    "x_logn_clip3 = np.array([norm.ppf(q, mu, sigma) for q in np.arange(0, 1, 1/N_) + .5/N_])\n",
    "x_logn_clip3 = x_logn_clip3[(-N0 - 1):-1]\n",
    "\n",
    "## N tail for pareto and lognormal tail\n",
    "N_tail = get_n(x_logn_clip3, 10)[1][1:].sum()\n",
    "x_logn_clip3_90 = x_logn_clip3[-N_tail:]\n",
    "\n",
    "# PARETO\n",
    "z_0 = -1.1042021 #-1.1771\n",
    "# value_qs_1 = x_logn_clip3_90.min() # 6.761 in the original fit\n",
    "value_qs_1 = 6.67465\n",
    "\n",
    "norm = 1.375\n",
    "x1 = np.array([pareto.ppf(b = -z_0, scale = 10**value_qs_1, q = q) for q in np.arange(0, 1, 1/(norm*N_tail)) + .5/(norm*N_tail)])\n",
    "np.log10(pareto.rvs(b = -z_0, size = N_tail, scale = 10**value_qs_1) + 1)\n",
    "x1 = x1[int(-norm*N_tail - 1):-1]\n",
    "x_pareto = np.log10(x1)"
   ]
  },
  {
   "cell_type": "code",
   "execution_count": null,
   "metadata": {
    "scrolled": false
   },
   "outputs": [],
   "source": [
    "fig, axs = plt.subplots(1, 3, figsize = (15, 4))\n",
    "\n",
    "Q_ = 15\n",
    "for i, sizes in enumerate(['pareto', 'logn', 'logn90']):\n",
    "    for j, dist in enumerate(['emp_szd_T16', 'lapl']):\n",
    "        ax = axs[i]\n",
    "        ax.set_title(sizes +', '+ dist)\n",
    "        result = data2[i][j]\n",
    "        result = result.loc[result.Q == Q_]\n",
    "\n",
    "        y = 'var_diff_qi'\n",
    "\n",
    "        # Merge the Ns\n",
    "        bins, ns = get_n([x_pareto, x_logn_clip3, x_logn_clip3_90][i], Q_)\n",
    "        ns = pd.DataFrame([range(Q_), ns], index = ['q', 'n']).T\n",
    "        result = result.merge(ns)\n",
    "        result['log_n'] = np.log10(result.n)\n",
    "#         result['log_var_diff_qi'] = np.log10(result.var_diff_qi)\n",
    "\n",
    "        sorted_ = result.sort_values(by = ['dist','s', 'q', y])\n",
    "#         Ss = sorted_.s.unique()[::2]\n",
    "        Ss = [.2]\n",
    "        for k, s in enumerate(Ss):\n",
    "            sorted_s = sorted_.loc[sorted_.s == s]\n",
    "#             sorted_s.reset_index()[[y]].plot(ax = ax, marker = '.', lw = 0, c = colors[k])\n",
    "#                     sorted_s.reset_index()[['var_diff_agg_i']].plot(ax = ax, marker = '.', lw = 0, c = colors[k], alpha = .1, legend = False)\n",
    "            agg_vals = sorted_s.reset_index()['var_diff_agg_i'].describe()\n",
    "            bin_vals = sorted_s.groupby('n')['var_diff_qi'].describe()\n",
    "\n",
    "            xn = bin_vals.index.values\n",
    "            ax.plot([xn.min(), xn.max()], [agg_vals['50%'], agg_vals['50%']], alpha = .6, zorder = 10)\n",
    "            ax.plot([xn.min(), xn.max()], [1/xn.min(), 1/xn.max()], color = '.5', alpha = .6, zorder = 10)\n",
    "            ax.fill_between(xn, bin_vals['25%'], bin_vals['75%'], alpha = .35, zorder = 10)\n",
    "\n",
    "        ax.legend(Ss, loc = (1, 0))\n",
    "#         [ax.axvline(l, linestyle = '--') for l in sorted_s.groupby(['q']).count().iloc[:, 0].cumsum().values]\n",
    "        ax.set_xscale('log')\n",
    "        ax.set_xlim(1, 1e5)\n",
    "        ax.set_yscale('log')\n",
    "        ax.set_ylim(1e-5, .1)\n",
    "\n",
    "plt.tight_layout()\n"
   ]
  },
  {
   "cell_type": "code",
   "execution_count": null,
   "metadata": {},
   "outputs": [],
   "source": [
    "## Direct contrast of older and newer observations..."
   ]
  },
  {
   "cell_type": "code",
   "execution_count": null,
   "metadata": {},
   "outputs": [],
   "source": [
    "\n",
    "fig, ax = plt.subplots(1, figsize = (7, 6))\n",
    "x = N.values\n",
    "y = stds[:-1].values\n",
    "ax.plot(x, y, marker = 'o')\n",
    "\n",
    "# this is from using EMPIRICAL 2 STEP growth rates around each size to simulate the std\n",
    "ax.fill_between(x, result1['25%'], result1['75%'], color = '#9467bd', alpha = .2, label = 'empirical \\n autocorr')\n",
    "\n",
    "\n",
    "Q_ = 15\n",
    "for i, sizes in enumerate(['pareto', 'logn', 'logn90']):\n",
    "    for j, dist in enumerate(['emp_szd_T16']):\n",
    "        ax.set_title(sizes +', '+ dist)\n",
    "        result = data2[i][0] # 0 for 'emp_szd_T16'\n",
    "        result = result.loc[result.Q == Q_]\n",
    "\n",
    "        y = 'var_diff_qi'\n",
    "\n",
    "        # Merge the Ns\n",
    "        bins, ns = get_n([x_pareto, x_logn_clip3, x_logn_clip3_90][i], Q_)\n",
    "        ns = pd.DataFrame([range(Q_), ns], index = ['q', 'n']).T\n",
    "        result = result.merge(ns)\n",
    "        result['log_n'] = np.log10(result.n)\n",
    "#         result['log_var_diff_qi'] = np.log10(result.var_diff_qi)\n",
    "\n",
    "        sorted_ = result.sort_values(by = ['dist','s', 'q', y])\n",
    "#         Ss = sorted_.s.unique()[::2]\n",
    "        Ss = [.5]\n",
    "        for k, s in enumerate(Ss):\n",
    "            sorted_s = sorted_.loc[sorted_.s == s]\n",
    "#             sorted_s.reset_index()[[y]].plot(ax = ax, marker = '.', lw = 0, c = colors[k])\n",
    "#                     sorted_s.reset_index()[['var_diff_agg_i']].plot(ax = ax, marker = '.', lw = 0, c = colors[k], alpha = .1, legend = False)\n",
    "            agg_vals = sorted_s.reset_index()['var_diff_agg_i'].describe()\n",
    "            bin_vals = sorted_s.groupby('n')['var_diff_qi'].describe()\n",
    "\n",
    "            xn = bin_vals.index.values\n",
    "#             ax.plot([xn.min(), xn.max()], [agg_vals['50%'], agg_vals['50%']], alpha = .6, zorder = 10)\n",
    "#             ax.plot([xn.min(), xn.max()], [1/xn.min(), 1/xn.max()], color = '.5', alpha = .6, zorder = 10)\n",
    "            ax.fill_between(xn, bin_vals['25%'], bin_vals['75%'], alpha = .35, zorder = 10)\n",
    "\n",
    "            \n",
    "ax.set_xlabel('N (log)', fontsize = 14)\n",
    "ax.set_ylabel('Standard deviation (log)', fontsize = 14)\n",
    "ax.legend()\n",
    "ax.set_xlim(1, 1e5)\n",
    "# ax.set_ylim(1e-5, .1)\n",
    "plt.xscale('log')\n",
    "plt.yscale('log')\n",
    "\n",
    "plt.show()"
   ]
  },
  {
   "cell_type": "code",
   "execution_count": null,
   "metadata": {},
   "outputs": [],
   "source": [
    "\n",
    "result_list = []\n",
    "g_rates_result_list = []\n",
    "\n",
    "for bin_, n in enumerate(N.values):\n",
    "    bin_s = np.log10(sizes_median.iloc[bin_])\n",
    "#     bin_std = std.iloc[bin_]\n",
    "    bin_std = std.median() # same std for all gaussian approxs\n",
    "\n",
    "    mu0 = bin_s\n",
    "    x0 = mu0*np.ones(n)\n",
    "\n",
    "    t_var = []\n",
    "    for m in range(100):\n",
    "        t = []\n",
    "        for yrs in range((2013 - 1997)):\n",
    "            x1 = np.random.normal(0, bin_std, n)\n",
    "#             x1 = np.random.choice(g_rates_val, n)\n",
    "    #         t += [np.power(10, x0 + x1).sum()/(n*10**mu0)]\n",
    "            t += [np.log10(np.power(10, x0 + x1).sum()) - np.log10(n) - mu0]\n",
    "        t_var += [np.array(t)[1:].var()]\n",
    "    \n",
    "    s1 = np.array(t_var)\n",
    "    result_list += [pd.Series(s1).describe()]\n",
    "# result2 = pd.DataFrame(pd.concat(result_list, axis = 1))\n",
    "# result2.columns = N.values\n",
    "# result2 = result2.T"
   ]
  },
  {
   "cell_type": "code",
   "execution_count": null,
   "metadata": {},
   "outputs": [],
   "source": [
    "bin_std"
   ]
  },
  {
   "cell_type": "code",
   "execution_count": null,
   "metadata": {},
   "outputs": [],
   "source": [
    "\n",
    "fig, ax = plt.subplots(1)\n",
    "\n",
    "# # Gaussian expectation with the sigma of each bin\n",
    "sigma = std\n",
    "sigma = std.median()\n",
    "sigma_correg = np.sqrt((np.exp(sigma**2))*(np.exp(sigma**2) - 1))\n",
    "ax.plot(x, sigma_correg**2/x, marker = '.', c = 'g', label = r'$\\Sigma(n)$, eq 1.10') # we can confirm it's a good approx\n",
    "# ax.plot(x, std/np.sqrt(x), marker = '.', c= 'g')\n",
    "\n",
    "# this is from using GAUSSIAN growth rates around each size to simulate the std\n",
    "ax.fill_between(x, result2['25%'], result2['75%'], color = '#2ca02c', alpha = .2, label = 'gaussian')\n",
    "\n",
    "\n",
    "Q_ = 15\n",
    "for i, sizes in enumerate(['pareto', 'logn', 'logn90']):\n",
    "    for j, dist in enumerate(['norm']):\n",
    "        ax.set_title(sizes +', '+ dist)\n",
    "        result = data2[i][2] #2 for 'norm'\n",
    "        result = result.loc[result.Q == Q_]\n",
    "\n",
    "        y = 'var_diff_qi'\n",
    "\n",
    "        # Merge the Ns\n",
    "        bins, ns = get_n([x_pareto, x_logn_clip3, x_logn_clip3_90][i], Q_)\n",
    "        ns = pd.DataFrame([range(Q_), ns], index = ['q', 'n']).T\n",
    "        result = result.merge(ns)\n",
    "        result['log_n'] = np.log10(result.n)\n",
    "#         result['log_var_diff_qi'] = np.log10(result.var_diff_qi)\n",
    "\n",
    "        sorted_ = result.sort_values(by = ['dist','s', 'q', y])\n",
    "#         Ss = sorted_.s.unique()[::2]\n",
    "        Ss = [.3]\n",
    "        for k, s in enumerate(Ss):\n",
    "            sorted_s = sorted_.loc[sorted_.s == s]\n",
    "#             sorted_s.reset_index()[[y]].plot(ax = ax, marker = '.', lw = 0, c = colors[k])\n",
    "#                     sorted_s.reset_index()[['var_diff_agg_i']].plot(ax = ax, marker = '.', lw = 0, c = colors[k], alpha = .1, legend = False)\n",
    "            agg_vals = sorted_s.reset_index()['var_diff_agg_i'].describe()\n",
    "            bin_vals = sorted_s.groupby('n')['var_diff_qi'].describe()\n",
    "\n",
    "            xn = bin_vals.index.values\n",
    "#             ax.plot([xn.min(), xn.max()], [agg_vals['50%'], agg_vals['50%']], alpha = .6, zorder = 10)\n",
    "#             ax.plot([xn.min(), xn.max()], [1/xn.min(), 1/xn.max()], color = '.5', alpha = .6, zorder = 10)\n",
    "            ax.fill_between(xn, bin_vals['25%'], bin_vals['75%'], alpha = .35, zorder = 10)\n",
    "\n",
    "            \n",
    "ax.set_xlabel('N (log)', fontsize = 14)\n",
    "ax.set_ylabel('Standard deviation (log)', fontsize = 14)\n",
    "ax.legend()\n",
    "ax.set_xlim(1, 1e5)\n",
    "# ax.set_ylim(1e-5, .1)\n",
    "plt.xscale('log')\n",
    "plt.yscale('log')\n",
    "\n",
    "plt.show()"
   ]
  },
  {
   "cell_type": "code",
   "execution_count": null,
   "metadata": {},
   "outputs": [],
   "source": [
    "# colors\n",
    "\n",
    "#1f77b4\n",
    "#ff7f0e\n",
    "#2ca02c\n",
    "#d62728\n",
    "#9467bd\n",
    "#8c564b\n",
    "#e377c2\n",
    "#7f7f7f\n",
    "#bcbd22\n",
    "#17becf"
   ]
  },
  {
   "cell_type": "code",
   "execution_count": null,
   "metadata": {},
   "outputs": [],
   "source": [
    "##### DEBUG\n",
    "# bin_s = np.log10(sizes.iloc[bin_])\n",
    "# g_rates = df_level_g.loc[abs(df_level_g.annual_log - bin_s) < .5].dropna()['annual_logdiff']\n",
    "    \n",
    "\n",
    "# plt.hist(np.log10(firm_sample.drop('quantile', axis = 1)).diff(axis = 1).dropna(axis = 1).values.flatten(), 150, alpha = .5)\n",
    "# plt.yscale('log')\n",
    "\n",
    "# plt.hist(g_rates.sample(frac = .06).values, 150, alpha = .5)\n",
    "# plt.show()"
   ]
  },
  {
   "cell_type": "code",
   "execution_count": null,
   "metadata": {},
   "outputs": [],
   "source": [
    "np.std(distrib(y))"
   ]
  },
  {
   "cell_type": "code",
   "execution_count": null,
   "metadata": {},
   "outputs": [],
   "source": [
    "# The empirical sigmas of deciles are something like:\n",
    "sigma_deciles = .765/np.sqrt(x)\n",
    "sigma_deciles\n",
    "dist = distrib(sigma_deciles)\n",
    "np.std(dist)\n",
    "\n",
    "# # This is the simulated (distrib function) std of the dataset made of all quantiles\n",
    "# ax.axhline(np.std(distrib(y)), c = '.5', linestyle = ':')"
   ]
  },
  {
   "cell_type": "code",
   "execution_count": null,
   "metadata": {},
   "outputs": [],
   "source": [
    "aggv = np.log10(cuadro.sum()).diff().dropna()"
   ]
  },
  {
   "cell_type": "code",
   "execution_count": null,
   "metadata": {},
   "outputs": [],
   "source": [
    "aggv.drop(2009).std()"
   ]
  },
  {
   "cell_type": "markdown",
   "metadata": {},
   "source": [
    "## Simple tests. Std of joined populations"
   ]
  },
  {
   "cell_type": "code",
   "execution_count": null,
   "metadata": {},
   "outputs": [],
   "source": [
    "import numpy as np"
   ]
  },
  {
   "cell_type": "code",
   "execution_count": null,
   "metadata": {},
   "outputs": [],
   "source": [
    "sigma = 10\n",
    "x1 = np.random.normal(0, 3, 5000)\n",
    "x3 = np.random.normal(0, 1, 5000)\n",
    "# x3 = np.random.normal(0, 1, 5000)\n",
    "\n",
    "x = np.hstack([x1, x3])"
   ]
  },
  {
   "cell_type": "code",
   "execution_count": null,
   "metadata": {},
   "outputs": [],
   "source": [
    "(x1 + x3).var()"
   ]
  },
  {
   "cell_type": "code",
   "execution_count": null,
   "metadata": {},
   "outputs": [],
   "source": [
    "mid = int(len(x)/4)\n",
    "\n",
    "(3*x[:3*mid].var() + x[3*mid:].var() )/4"
   ]
  },
  {
   "cell_type": "code",
   "execution_count": null,
   "metadata": {},
   "outputs": [],
   "source": [
    "mid = int(len(x)/2)\n",
    "\n",
    "(x[:mid].var() + x[mid:].var())/2"
   ]
  },
  {
   "cell_type": "code",
   "execution_count": null,
   "metadata": {},
   "outputs": [],
   "source": [
    "x[3*mid:].var()"
   ]
  },
  {
   "cell_type": "code",
   "execution_count": null,
   "metadata": {},
   "outputs": [],
   "source": []
  }
 ],
 "metadata": {
  "kernelspec": {
   "display_name": "Python 3",
   "language": "python",
   "name": "python3"
  },
  "language_info": {
   "codemirror_mode": {
    "name": "ipython",
    "version": 3
   },
   "file_extension": ".py",
   "mimetype": "text/x-python",
   "name": "python",
   "nbconvert_exporter": "python",
   "pygments_lexer": "ipython3",
   "version": "3.6.7"
  }
 },
 "nbformat": 4,
 "nbformat_minor": 2
}
