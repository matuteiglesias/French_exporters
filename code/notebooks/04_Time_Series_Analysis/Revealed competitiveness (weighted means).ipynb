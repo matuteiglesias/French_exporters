{
 "cells": [
  {
   "cell_type": "markdown",
   "metadata": {},
   "source": [
    "### Set up"
   ]
  },
  {
   "cell_type": "code",
   "execution_count": 1,
   "metadata": {},
   "outputs": [
    {
     "data": {
      "text/html": [
       "<style>.container { width:100% !important; }</style>"
      ],
      "text/plain": [
       "<IPython.core.display.HTML object>"
      ]
     },
     "metadata": {},
     "output_type": "display_data"
    }
   ],
   "source": [
    "#Import modules\n",
    "\n",
    "import pandas as pd\n",
    "pd.options.display.max_columns = 99\n",
    "pd.options.display.max_rows = 999\n",
    "from IPython.core.display import display, HTML\n",
    "display(HTML(\"<style>.container { width:100% !important; }</style>\"))\n",
    "\n",
    "# from numpy import arange, log10\n",
    "\n",
    "import matplotlib.pyplot as plt\n",
    "%matplotlib inline"
   ]
  },
  {
   "cell_type": "markdown",
   "metadata": {},
   "source": [
    "### Load data directly"
   ]
  },
  {
   "cell_type": "code",
   "execution_count": null,
   "metadata": {
    "scrolled": true
   },
   "outputs": [],
   "source": [
    "CN_full = pd.read_csv('./../../data/CN_full.csv', encoding = 'utf-8')\n",
    "out = pd.read_csv('./../../data/sourcing_strategies.csv').reset_index()\n",
    "# out = pd.read_csv('./../data/export_bundles.csv')\n",
    "\n",
    "# sources_count = out.groupby('ID')[['PYOD']].nunique()\n",
    "# multisourcing_firms = sources_count[sources_count['PYOD'] > 1].index\n",
    "# df = out.loc[out.ID.isin(multisourcing_firms)]"
   ]
  },
  {
   "cell_type": "code",
   "execution_count": null,
   "metadata": {},
   "outputs": [],
   "source": [
    "#Large countries\n",
    "out.groupby('PYOD')['VART'].sum().sort_values().tail(10).index"
   ]
  },
  {
   "cell_type": "code",
   "execution_count": null,
   "metadata": {},
   "outputs": [],
   "source": [
    "# Main products\n",
    "out.groupby(['CN ID 4'])['VART'].sum().sort_values().tail(30).index"
   ]
  },
  {
   "cell_type": "code",
   "execution_count": null,
   "metadata": {},
   "outputs": [],
   "source": [
    "from scipy.special import erfinv, erf\n",
    "import numpy as np\n",
    "# import matplotlib.mlab as mlab\n",
    "# import math\n",
    "\n",
    "# x = np.linspace(-3.5, 3.5, 100000)\n",
    "# 1/mlab.normpdf(x, mu, sigma).max()\n",
    "# np.sqrt(2*np.pi)\n",
    "\n",
    "def erfinv_(x):\n",
    "    return erfinv(2*(x - .5))"
   ]
  },
  {
   "cell_type": "code",
   "execution_count": null,
   "metadata": {},
   "outputs": [],
   "source": [
    "#Include firm sizes\n",
    "firm_sizes = pd.read_csv('./../data/firm_sizes.csv')\n",
    "fs = firm_sizes.loc[firm_sizes.IMPORT == 1].groupby(['ID', 'YEAR'])['VART'].sum().reset_index()\n",
    "fs['log_M_size'] = np.log10(fs['VART'])\n"
   ]
  },
  {
   "cell_type": "code",
   "execution_count": null,
   "metadata": {},
   "outputs": [],
   "source": [
    "# Compute observed mu coefficients\n",
    "\n",
    "fpcy = out.groupby(['ID', 'CN ID 4', 'PYOD', 'YEAR'])[['VART']].sum().reset_index()\n",
    "totals_fpy = fpcy.groupby(['ID', 'CN ID 4', 'YEAR'])[['VART']].sum().reset_index().rename(columns = {'VART': 'VART_sum_fpy'})\n",
    "totals_fy = fpcy.groupby(['ID', 'YEAR'])[['VART']].sum().reset_index().rename(columns = {'VART': 'VART_sum_fy'})\n",
    "mu_coeffs = fpcy.merge(totals_fpy, on = ['YEAR', 'ID', 'CN ID 4']).merge(totals_fy, on = ['YEAR', 'ID'])\n",
    "mu_coeffs['frac'] = mu_coeffs['VART']/mu_coeffs['VART_sum_fpy']\n",
    "mu_coeffs['mu_fpcy'] = erfinv_(mu_coeffs['frac'])\n",
    "mu_coeffs['mu_fpcy'] = np.clip(mu_coeffs['mu_fpcy'], -3, 3)\n",
    "mu_coeffs = mu_coeffs.merge(fs[['YEAR', 'ID','log_M_size']], how = 'left')\n"
   ]
  },
  {
   "cell_type": "code",
   "execution_count": null,
   "metadata": {},
   "outputs": [],
   "source": [
    "XX\n",
    "mu_coeffs.to_csv('./../data/processed/mu_coeffs.csv', index = False)"
   ]
  },
  {
   "cell_type": "code",
   "execution_count": null,
   "metadata": {},
   "outputs": [],
   "source": [
    "mu_coeffs.loc[(mu_coeffs.YEAR < 2008) & (mu_coeffs['CN ID 4'] < 2000) & (mu_coeffs['frac'] < 1)].sort_values(by = 'ID').head(20)"
   ]
  },
  {
   "cell_type": "code",
   "execution_count": null,
   "metadata": {
    "scrolled": false
   },
   "outputs": [],
   "source": [
    "mu_coeffs['log_size_bin'] = pd.cut(mu_coeffs['log_M_size'], range(14))\n",
    "mu_coeffs_finite = mu_coeffs.loc[(mu_coeffs.mu_fpcy > -3) & (mu_coeffs.mu_fpcy < 3)] "
   ]
  },
  {
   "cell_type": "code",
   "execution_count": null,
   "metadata": {},
   "outputs": [],
   "source": [
    "# 60% of rows, summing 86% of volume if we keep cases where there are at least 2 countries to compare their relative importance.\n",
    "# len(mu_coeffs_finite)/float(len(mu_coeffs))\n",
    "# mu_coeffs_finite['VART'].sum()/float(mu_coeffs['VART'].sum())"
   ]
  },
  {
   "cell_type": "markdown",
   "metadata": {},
   "source": [
    "## Load mu coeffs and use"
   ]
  },
  {
   "cell_type": "code",
   "execution_count": null,
   "metadata": {
    "scrolled": false
   },
   "outputs": [],
   "source": [
    "mu_coeffs = pd.read_csv('./../data/processed/mu_coeffs.csv')"
   ]
  },
  {
   "cell_type": "code",
   "execution_count": null,
   "metadata": {
    "scrolled": false
   },
   "outputs": [],
   "source": [
    "# import seaborn as sns\n",
    "# cm = sns.light_palette(\"green\", as_cmap=True)\n",
    "\n",
    "# table = x.unstack()['mean'].sort_index(axis = 1).iloc[:, 100:120]\n",
    "# s = table.style.background_gradient(cmap=cm)\n",
    "# s"
   ]
  },
  {
   "cell_type": "code",
   "execution_count": null,
   "metadata": {
    "scrolled": true
   },
   "outputs": [],
   "source": [
    "mu_coeffs = mu_coeffs.loc[(mu_coeffs.mu_fpcy > -3) & (mu_coeffs.mu_fpcy < 3)]\n",
    "\n",
    "# mu_coeffs['FC'] = mu_coeffs['ID'].astype(str) + mu_coeffs['PYOD']\n",
    "# mu_coeffs['CPY'] = mu_coeffs['PYOD'] + mu_coeffs['CN ID 4'].astype(str) + mu_coeffs['YEAR'].astype(str)\n",
    "# mu_coeffs['CY'] = mu_coeffs['PYOD'] + mu_coeffs['YEAR'].astype(str)\n",
    "\n",
    "# mu_mean = mu_coeffs.groupby(['FC', 'CPY'])[['mu_fpcy']].mean().mean()\n",
    "mu_mean = -0.681732"
   ]
  },
  {
   "cell_type": "markdown",
   "metadata": {},
   "source": [
    "### Firm country fixed effects can be obtained by demeaning"
   ]
  },
  {
   "cell_type": "code",
   "execution_count": null,
   "metadata": {},
   "outputs": [],
   "source": [
    "# # rows = 10000\n",
    "rows = len(mu_coeffs)\n",
    "\n",
    "# # Obtain CPY_tilde fixed effects\n",
    "mu_coeffs['mu_fpcy']\n",
    "\n",
    "# FC_mean = mu_coeffs.head(rows)[['ID', 'PYOD', 'VART_sum_fpy', 'mu_fpcy', 'log_M_size']].groupby(['ID', 'PYOD'])[['mu_fpcy']].mean()\n",
    "# FC_mean = FC_mean.rename(columns = {'mu_fpcy': 'fc_mean'}).reset_index()\n",
    "\n",
    "# weighted mean. It weighs so that 'small' products don't make the average mu so volatile. \n",
    "# Eg. I just add 9.99 USD and 1 cent to two countries, their mu will be weighed by 10USD/total imports of the firm in the year.\n",
    "mu_coeffs['weight'] = mu_coeffs['VART_sum_fpy']/mu_coeffs['VART_sum_fy']\n",
    "mu_coeffs['mu_fpcy_w'] = mu_coeffs['mu_fpcy']*mu_coeffs['weight']\n",
    "\n",
    "# Summing 'weight' is like summing 1*weight...\n",
    "FC_mean = mu_coeffs.head(rows)[['ID', 'PYOD', 'mu_fpcy','mu_fpcy_w', 'weight']].groupby(['ID', 'PYOD']).agg(\n",
    "    {'mu_fpcy_w': sum, 'weight': sum, 'mu_fpcy': 'mean'})\n",
    "# so, it's the denominator in the weighed avg.\n",
    "FC_mean['mu_fpcy_w_avg'] = FC_mean['mu_fpcy_w']/FC_mean['weight']\n",
    "\n",
    "FC_mean = FC_mean[['mu_fpcy_w_avg']].rename(columns = {'mu_fpcy_w_avg': 'fc_mean'}).reset_index()\n",
    "mu_coeffs_1  = mu_coeffs.head(rows).merge(FC_mean[['ID', 'PYOD', 'fc_mean']])\n",
    "mu_coeffs_1['mu_pcycy'] = mu_coeffs_1['mu_fpcy'] - mu_coeffs_1['fc_mean'] \n",
    "\n",
    "CPY_FE = mu_coeffs_1[['PYOD', 'CN ID 4', 'YEAR', 'mu_pcycy']].groupby(['PYOD', 'CN ID 4', 'YEAR'])[['mu_pcycy']].mean() + mu_mean#.values\n",
    "CPY_FE = CPY_FE.reset_index()#.rename(columns = {'mu_pcycy': 'mu_pcy_tilde'})"
   ]
  },
  {
   "cell_type": "code",
   "execution_count": null,
   "metadata": {
    "scrolled": true
   },
   "outputs": [],
   "source": [
    "# Obtain FC fixed effects\n",
    "\n",
    "CPY_mean = mu_coeffs.head(rows).groupby(['CN ID 4', 'PYOD', 'YEAR'])[['mu_fpcy']].mean()\n",
    "CPY_mean = CPY_mean.rename(columns = {'mu_fpcy': 'cpy_mean'}).reset_index()\n",
    "\n",
    "mu_coeffs_2  = mu_coeffs.head(rows).merge(CPY_mean, on = ['CN ID 4', 'PYOD', 'YEAR'])\n",
    "mu_coeffs_2['mu_fc'] = mu_coeffs_2['mu_fpcy'] - mu_coeffs_2['cpy_mean'] \n",
    "\n",
    "FC_FE = mu_coeffs_2[['ID', 'PYOD','mu_fc']].groupby(['ID', 'PYOD'])[['mu_fc']].mean()\n",
    "FC_FE = FC_FE.reset_index()#.rename(columns = {'mu_pcycy': 'mu_pcy_tilde'})"
   ]
  },
  {
   "cell_type": "code",
   "execution_count": null,
   "metadata": {},
   "outputs": [],
   "source": [
    "# FE = mu_coeffs.head(rows).merge(FC_FE, on = ['ID', 'PYOD']).merge(CPY_FE, on = ['CN ID 4', 'PYOD', 'YEAR'])"
   ]
  },
  {
   "cell_type": "code",
   "execution_count": null,
   "metadata": {},
   "outputs": [],
   "source": [
    "#subtract mean residual, so that it is centered in zero and epsilons can be observed.\n",
    "# FE['x'] = FE.mu_fc + FE.mu_pcycy\n",
    "# FE['residual'] = FE.mu_fpcy - FE.x\n",
    "\n",
    "# meanres = FE.groupby(['FC', 'CPY'])[['residual']].mean().mean()## is it needed??? mu coeffs differ from 'true values' by a constant. But if we make it be zero, we can have a measure of the epsilon...\n",
    "\n",
    "# FE.head(10000).plot('x', 'mu_fpcy', marker = 'o', linewidth = 0, alpha = 0.02)"
   ]
  },
  {
   "cell_type": "code",
   "execution_count": null,
   "metadata": {},
   "outputs": [],
   "source": [
    "# mu_coeffs.head(rows).groupby(['FC', 'CPY'])[['mu_fpcy']].mean().unstack()"
   ]
  },
  {
   "cell_type": "code",
   "execution_count": null,
   "metadata": {},
   "outputs": [],
   "source": [
    "# Separate CY from CPY\n",
    "\n",
    "CY_mean = CPY_FE.groupby(['PYOD', 'YEAR'])[['mu_pcycy']].mean()\n",
    "mu_mean = CY_mean.mean()\n",
    "CY_mean = CY_mean.reset_index().rename(columns = {'mu_pcycy': 'mu_cy'})\n",
    "mu_coeffs_3 = CPY_FE.merge(CY_mean, on =['PYOD', 'YEAR'])\n",
    "mu_coeffs_3['mu_pcy'] = mu_coeffs_3['mu_pcycy'] - mu_coeffs_3['mu_cy']\n",
    "CP_FE = mu_coeffs_3.drop('mu_pcycy', axis = 1)\n",
    "\n",
    "FE = mu_coeffs.head(rows).merge(FC_FE, on = ['ID', 'PYOD']).merge(CP_FE, on = ['CN ID 4', 'PYOD', 'YEAR'])\n",
    "\n",
    "mu_mean = FE.groupby(['PYOD', 'YEAR'])[['mu_cy']].mean().mean()\n",
    "FE['mu_mean'] = mu_mean['mu_cy']\n",
    "FE['mu_cy'] = FE['mu_cy'] - FE['mu_mean']\n"
   ]
  },
  {
   "cell_type": "code",
   "execution_count": null,
   "metadata": {},
   "outputs": [],
   "source": [
    "FE['x'] = FE.mu_mean + FE.mu_fc + FE.mu_cy + FE.mu_pcy\n",
    "\n",
    "FE['residual'] = FE.mu_fpcy - FE.x"
   ]
  },
  {
   "cell_type": "code",
   "execution_count": null,
   "metadata": {},
   "outputs": [],
   "source": [
    "FE.to_csv('./../data/processed/mu_FE_decomposition.csv', index = False)"
   ]
  },
  {
   "cell_type": "code",
   "execution_count": null,
   "metadata": {
    "scrolled": false
   },
   "outputs": [],
   "source": [
    "# FE.loc[FE['VART_sum'] > 100000].sample(20)"
   ]
  },
  {
   "cell_type": "code",
   "execution_count": null,
   "metadata": {},
   "outputs": [],
   "source": [
    "fig, ax = plt.subplots(1, figsize = (8, 6))\n",
    "FE.sample(10000).plot('x', 'mu_fpcy', marker = 'o', linewidth = 0, alpha = 0.04, ax = ax)\n",
    "# ax.plot(x = arange(-1, 2), y = arange(-1, 2))\n",
    "diag_line, = ax.plot(ax.get_xlim(), ax.get_ylim(), ls=\"--\", c=\".3\")"
   ]
  },
  {
   "cell_type": "markdown",
   "metadata": {},
   "source": [
    "# old"
   ]
  },
  {
   "cell_type": "code",
   "execution_count": null,
   "metadata": {},
   "outputs": [],
   "source": [
    "pr = 4202\n",
    "prs = out.groupby(['CN ID 4'])['VART'].sum().sort_values().tail(30).index\n",
    "\n",
    "def f(mu, *args):\n",
    "    data, row = args[0], args[1]\n",
    "    x_star = erfinv(data)[0]\n",
    "    return erf(x_star - mu) - row\n",
    "\n",
    "for pr in prs:\n",
    "    print(CN_full.set_index('CN ID 4').loc[pr]['CN label 4'].drop_duplicates().values)\n",
    "    product_df = out.loc[out['CN ID 4'] == pr]\n",
    "    sample = product_df.loc[product_df.ID.isin(product_df.ID.sample(1))]\n",
    "\n",
    "    sample = sample.groupby(['YEAR', 'PYOD'])['VART'].sum().reset_index()\n",
    "    sample['pct'] = sample.groupby(['YEAR'])['VART'].apply(lambda x:\n",
    "                                                     x / float(x.sum()))\n",
    "    sample = sample[['YEAR', 'PYOD', 'VART', 'pct']].reset_index(drop = True)\n",
    "    \n",
    "    fraction_values = sample.set_index(['YEAR', 'PYOD'])[['pct']].unstack().fillna(0).mean()\n",
    "    fv = fraction_values.sort_values(ascending = False)\n",
    "    \n",
    "    \n",
    "#     res = fv.apply(lambda row: optimize.brentq(f, -1, 10, args=(fv - .5, row - .5)))\n",
    "\n",
    "#     mu = 0; variance = 1/20.\n",
    "#     sigma = math.sqrt(variance)\n",
    "#     x = np.linspace(-3.5, 3.5, 1000)\n",
    "\n",
    "#     fig, ax = plt.subplots(1, figsize = (10, 3))\n",
    "#     try:\n",
    "\n",
    "#         for i in range(8):\n",
    "\n",
    "#                 lab = str(res.index.get_level_values(1)[i])+', '+str(100*fv.round(2)[i])\n",
    "#                 mu = res[i]\n",
    "#                 ax.plot(x,mlab.normpdf(x, mu, sigma), label = lab)\n",
    "#         #         ax.plot(x, .5*(1 + erf(x - mu)), label = res.index.get_level_values(1)[i])\n",
    "#                 if i == 0:\n",
    "#                     sum_ = .5*(1 + erf(x - mu))\n",
    "#                 else:\n",
    "#                     sum_ += .5*(1 + erf(x - mu))\n",
    "\n",
    "#         ax.plot(x, sum_, '--')\n",
    "\n",
    "#     except:\n",
    "#         pass\n",
    "        \n",
    "#     ax.set_ylim(0, 2)\n",
    "#     ax.set_xlim(-2, 1)\n",
    "    \n",
    "#     plt.legend(loc = 'upper left')\n",
    "#     plt.show()"
   ]
  },
  {
   "cell_type": "markdown",
   "metadata": {},
   "source": [
    "### Show some examples of firm sourcing strategies in time"
   ]
  },
  {
   "cell_type": "code",
   "execution_count": null,
   "metadata": {},
   "outputs": [],
   "source": [
    "# df_.set_index('ID').loc[sample_ids]"
   ]
  },
  {
   "cell_type": "code",
   "execution_count": null,
   "metadata": {
    "scrolled": false
   },
   "outputs": [],
   "source": [
    "\n",
    "sample_ids = df.sample(10)['ID'].values\n",
    "\n",
    "#Select firms that import more than 10% of some product\n",
    "# df_ = firm_prod.loc[(firm_prod['CN ID 4'] == 601) & (firm_prod['pct'] > 1)]\n",
    "# sample_ids = df_.sample(10)['ID'].values\n",
    "\n",
    "for id_ in sample_ids:\n",
    "    df_ID = df.loc[df.ID == id_]\n",
    "    \n",
    "    by_product = df_ID.groupby('CN ID 4')['VART'].sum().sort_values(ascending = False)\n",
    "    by_product/=by_product.sum()\n",
    "    main_prods = by_product[by_product.cumsum() < .99].index\n",
    "    df_ID_mp = df_ID.loc[df_ID['CN ID 4'].isin(main_prods)]\n",
    "    \n",
    "    table = df_ID_mp.set_index([u'CN ID 4', u'PYOD', u'QUARTER', u'YEAR'])['VART'].unstack([-1, -2]).fillna(0)\n",
    "    table[('min','')] = 0; table[('max','')] = table.max().max()\n",
    "\n",
    "    display(CN_full.set_index('CN ID 4')[['CN label 4']].drop_duplicates().loc[df_ID_mp['CN ID 4'].unique()].sort_index())\n",
    "\n",
    "    display(table.T.style.bar(color='#d65f5f'))"
   ]
  },
  {
   "cell_type": "code",
   "execution_count": null,
   "metadata": {
    "scrolled": false
   },
   "outputs": [],
   "source": [
    "import numpy as np\n",
    "import matplotlib.pyplot as plt\n",
    "%matplotlib inline\n",
    "plt.hist(np.log10(firm_prod['pct']).replace(-np.inf, np.nan).dropna().values, 100)\n",
    "plt.show()"
   ]
  },
  {
   "cell_type": "code",
   "execution_count": null,
   "metadata": {},
   "outputs": [],
   "source": []
  }
 ],
 "metadata": {
  "kernelspec": {
   "display_name": "Python 3",
   "language": "python",
   "name": "python3"
  },
  "language_info": {
   "codemirror_mode": {
    "name": "ipython",
    "version": 3
   },
   "file_extension": ".py",
   "mimetype": "text/x-python",
   "name": "python",
   "nbconvert_exporter": "python",
   "pygments_lexer": "ipython3",
   "version": "3.8.5"
  }
 },
 "nbformat": 4,
 "nbformat_minor": 2
}
