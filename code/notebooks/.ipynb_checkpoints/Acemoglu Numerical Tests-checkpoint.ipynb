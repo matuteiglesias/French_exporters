{
 "cells": [
  {
   "cell_type": "code",
   "execution_count": 1,
   "metadata": {},
   "outputs": [],
   "source": [
    "import pandas as pd\n",
    "import numpy as np\n",
    "\n",
    "import matplotlib.pyplot as plt\n",
    "%matplotlib inline\n",
    "\n",
    "import scipy.linalg as la\n",
    "\n",
    "from numpy.linalg import matrix_power\n"
   ]
  },
  {
   "cell_type": "markdown",
   "metadata": {},
   "source": [
    "#### With consumption vector"
   ]
  },
  {
   "cell_type": "code",
   "execution_count": 197,
   "metadata": {},
   "outputs": [],
   "source": [
    "## Log of real value added\n",
    "\n",
    "n = 5\n",
    "a = .1\n",
    "\n",
    "S = round(np.power(10, pd.DataFrame(np.random.uniform(2, 4, (n, n)))), -2)\n",
    "c = round(np.power(10, pd.DataFrame(np.random.uniform(2, 4, (n, 1)))), -2)\n"
   ]
  },
  {
   "cell_type": "markdown",
   "metadata": {},
   "source": [
    "### Different nw structures"
   ]
  },
  {
   "cell_type": "code",
   "execution_count": 198,
   "metadata": {},
   "outputs": [],
   "source": [
    "# M is the adjacency matrix\n",
    "n = 5\n",
    "Mi = np.eye(n)\n",
    "Mo = np.roll(Mi, -n)\n",
    "Mc = np.full((n, n), 1)\n",
    "Ms = np.full((n, n), 0); Ms[0, 1:] = 1; Ms[1:, 0] = 1\n",
    "\n",
    "Si = pd.DataFrame(Mi*S.values)\n",
    "So = pd.DataFrame(Mo*S.mean().mean())\n",
    "Sc = pd.DataFrame(Mc*S.values)\n",
    "Ss = pd.DataFrame(Ms*S.mean().mean())\n"
   ]
  },
  {
   "cell_type": "code",
   "execution_count": 199,
   "metadata": {},
   "outputs": [
    {
     "data": {
      "text/html": [
       "<div>\n",
       "<style scoped>\n",
       "    .dataframe tbody tr th:only-of-type {\n",
       "        vertical-align: middle;\n",
       "    }\n",
       "\n",
       "    .dataframe tbody tr th {\n",
       "        vertical-align: top;\n",
       "    }\n",
       "\n",
       "    .dataframe thead th {\n",
       "        text-align: right;\n",
       "    }\n",
       "</style>\n",
       "<table border=\"1\" class=\"dataframe\">\n",
       "  <thead>\n",
       "    <tr style=\"text-align: right;\">\n",
       "      <th></th>\n",
       "      <th>0</th>\n",
       "    </tr>\n",
       "  </thead>\n",
       "  <tbody>\n",
       "    <tr>\n",
       "      <th>0</th>\n",
       "      <td>800.0</td>\n",
       "    </tr>\n",
       "    <tr>\n",
       "      <th>1</th>\n",
       "      <td>6200.0</td>\n",
       "    </tr>\n",
       "    <tr>\n",
       "      <th>2</th>\n",
       "      <td>4400.0</td>\n",
       "    </tr>\n",
       "    <tr>\n",
       "      <th>3</th>\n",
       "      <td>8200.0</td>\n",
       "    </tr>\n",
       "    <tr>\n",
       "      <th>4</th>\n",
       "      <td>100.0</td>\n",
       "    </tr>\n",
       "  </tbody>\n",
       "</table>\n",
       "</div>"
      ],
      "text/plain": [
       "        0\n",
       "0   800.0\n",
       "1  6200.0\n",
       "2  4400.0\n",
       "3  8200.0\n",
       "4   100.0"
      ]
     },
     "execution_count": 199,
     "metadata": {},
     "output_type": "execute_result"
    }
   ],
   "source": [
    "c"
   ]
  },
  {
   "cell_type": "code",
   "execution_count": 200,
   "metadata": {},
   "outputs": [
    {
     "data": {
      "text/html": [
       "<div>\n",
       "<style scoped>\n",
       "    .dataframe tbody tr th:only-of-type {\n",
       "        vertical-align: middle;\n",
       "    }\n",
       "\n",
       "    .dataframe tbody tr th {\n",
       "        vertical-align: top;\n",
       "    }\n",
       "\n",
       "    .dataframe thead th {\n",
       "        text-align: right;\n",
       "    }\n",
       "</style>\n",
       "<table border=\"1\" class=\"dataframe\">\n",
       "  <thead>\n",
       "    <tr style=\"text-align: right;\">\n",
       "      <th></th>\n",
       "      <th>0</th>\n",
       "      <th>1</th>\n",
       "      <th>2</th>\n",
       "      <th>3</th>\n",
       "      <th>4</th>\n",
       "    </tr>\n",
       "  </thead>\n",
       "  <tbody>\n",
       "    <tr>\n",
       "      <th>0</th>\n",
       "      <td>300.0</td>\n",
       "      <td>0.0</td>\n",
       "      <td>0.0</td>\n",
       "      <td>0.0</td>\n",
       "      <td>0.0</td>\n",
       "    </tr>\n",
       "    <tr>\n",
       "      <th>1</th>\n",
       "      <td>0.0</td>\n",
       "      <td>700.0</td>\n",
       "      <td>0.0</td>\n",
       "      <td>0.0</td>\n",
       "      <td>0.0</td>\n",
       "    </tr>\n",
       "    <tr>\n",
       "      <th>2</th>\n",
       "      <td>0.0</td>\n",
       "      <td>0.0</td>\n",
       "      <td>4500.0</td>\n",
       "      <td>0.0</td>\n",
       "      <td>0.0</td>\n",
       "    </tr>\n",
       "    <tr>\n",
       "      <th>3</th>\n",
       "      <td>0.0</td>\n",
       "      <td>0.0</td>\n",
       "      <td>0.0</td>\n",
       "      <td>3300.0</td>\n",
       "      <td>0.0</td>\n",
       "    </tr>\n",
       "    <tr>\n",
       "      <th>4</th>\n",
       "      <td>0.0</td>\n",
       "      <td>0.0</td>\n",
       "      <td>0.0</td>\n",
       "      <td>0.0</td>\n",
       "      <td>9500.0</td>\n",
       "    </tr>\n",
       "  </tbody>\n",
       "</table>\n",
       "</div>"
      ],
      "text/plain": [
       "       0      1       2       3       4\n",
       "0  300.0    0.0     0.0     0.0     0.0\n",
       "1    0.0  700.0     0.0     0.0     0.0\n",
       "2    0.0    0.0  4500.0     0.0     0.0\n",
       "3    0.0    0.0     0.0  3300.0     0.0\n",
       "4    0.0    0.0     0.0     0.0  9500.0"
      ]
     },
     "metadata": {},
     "output_type": "display_data"
    },
    {
     "data": {
      "text/plain": [
       "array([[ 1.375     ,  0.        ,  0.        ,  0.        , -0.        ],\n",
       "       [ 0.        ,  1.11290323,  0.        ,  0.        , -0.        ],\n",
       "       [ 0.        ,  0.        ,  2.02272727,  0.        , -0.        ],\n",
       "       [ 0.        ,  0.        ,  0.        ,  1.40243902, -0.        ],\n",
       "       [ 0.        ,  0.        ,  0.        ,  0.        , 96.        ]])"
      ]
     },
     "metadata": {},
     "output_type": "display_data"
    },
    {
     "name": "stdout",
     "output_type": "stream",
     "text": [
      "***\n"
     ]
    },
    {
     "data": {
      "text/html": [
       "<div>\n",
       "<style scoped>\n",
       "    .dataframe tbody tr th:only-of-type {\n",
       "        vertical-align: middle;\n",
       "    }\n",
       "\n",
       "    .dataframe tbody tr th {\n",
       "        vertical-align: top;\n",
       "    }\n",
       "\n",
       "    .dataframe thead th {\n",
       "        text-align: right;\n",
       "    }\n",
       "</style>\n",
       "<table border=\"1\" class=\"dataframe\">\n",
       "  <thead>\n",
       "    <tr style=\"text-align: right;\">\n",
       "      <th></th>\n",
       "      <th>0</th>\n",
       "      <th>1</th>\n",
       "      <th>2</th>\n",
       "      <th>3</th>\n",
       "      <th>4</th>\n",
       "    </tr>\n",
       "  </thead>\n",
       "  <tbody>\n",
       "    <tr>\n",
       "      <th>0</th>\n",
       "      <td>0.0</td>\n",
       "      <td>2600.0</td>\n",
       "      <td>0.0</td>\n",
       "      <td>0.0</td>\n",
       "      <td>0.0</td>\n",
       "    </tr>\n",
       "    <tr>\n",
       "      <th>1</th>\n",
       "      <td>0.0</td>\n",
       "      <td>0.0</td>\n",
       "      <td>2600.0</td>\n",
       "      <td>0.0</td>\n",
       "      <td>0.0</td>\n",
       "    </tr>\n",
       "    <tr>\n",
       "      <th>2</th>\n",
       "      <td>0.0</td>\n",
       "      <td>0.0</td>\n",
       "      <td>0.0</td>\n",
       "      <td>2600.0</td>\n",
       "      <td>0.0</td>\n",
       "    </tr>\n",
       "    <tr>\n",
       "      <th>3</th>\n",
       "      <td>0.0</td>\n",
       "      <td>0.0</td>\n",
       "      <td>0.0</td>\n",
       "      <td>0.0</td>\n",
       "      <td>2600.0</td>\n",
       "    </tr>\n",
       "    <tr>\n",
       "      <th>4</th>\n",
       "      <td>2600.0</td>\n",
       "      <td>0.0</td>\n",
       "      <td>0.0</td>\n",
       "      <td>0.0</td>\n",
       "      <td>0.0</td>\n",
       "    </tr>\n",
       "  </tbody>\n",
       "</table>\n",
       "</div>"
      ],
      "text/plain": [
       "        0       1       2       3       4\n",
       "0     0.0  2600.0     0.0     0.0     0.0\n",
       "1     0.0     0.0  2600.0     0.0     0.0\n",
       "2     0.0     0.0     0.0  2600.0     0.0\n",
       "3     0.0     0.0     0.0     0.0  2600.0\n",
       "4  2600.0     0.0     0.0     0.0     0.0"
      ]
     },
     "metadata": {},
     "output_type": "display_data"
    },
    {
     "data": {
      "text/plain": [
       "array([[1.01984046, 0.3013165 , 0.11191756, 0.02694312, 0.02594522],\n",
       "       [0.06715234, 1.01984046, 0.37879789, 0.09119208, 0.0878146 ],\n",
       "       [0.18079476, 0.05341663, 1.01984046, 0.24551715, 0.23642392],\n",
       "       [0.75099363, 0.22188448, 0.08241424, 1.01984046, 0.9820686 ],\n",
       "       [0.779878  , 0.2304185 , 0.08558401, 0.02060356, 1.01984046]])"
      ]
     },
     "metadata": {},
     "output_type": "display_data"
    },
    {
     "name": "stdout",
     "output_type": "stream",
     "text": [
      "***\n"
     ]
    },
    {
     "data": {
      "text/html": [
       "<div>\n",
       "<style scoped>\n",
       "    .dataframe tbody tr th:only-of-type {\n",
       "        vertical-align: middle;\n",
       "    }\n",
       "\n",
       "    .dataframe tbody tr th {\n",
       "        vertical-align: top;\n",
       "    }\n",
       "\n",
       "    .dataframe thead th {\n",
       "        text-align: right;\n",
       "    }\n",
       "</style>\n",
       "<table border=\"1\" class=\"dataframe\">\n",
       "  <thead>\n",
       "    <tr style=\"text-align: right;\">\n",
       "      <th></th>\n",
       "      <th>0</th>\n",
       "      <th>1</th>\n",
       "      <th>2</th>\n",
       "      <th>3</th>\n",
       "      <th>4</th>\n",
       "    </tr>\n",
       "  </thead>\n",
       "  <tbody>\n",
       "    <tr>\n",
       "      <th>0</th>\n",
       "      <td>300.0</td>\n",
       "      <td>1600.0</td>\n",
       "      <td>1400.0</td>\n",
       "      <td>1800.0</td>\n",
       "      <td>1000.0</td>\n",
       "    </tr>\n",
       "    <tr>\n",
       "      <th>1</th>\n",
       "      <td>1200.0</td>\n",
       "      <td>700.0</td>\n",
       "      <td>200.0</td>\n",
       "      <td>9700.0</td>\n",
       "      <td>1200.0</td>\n",
       "    </tr>\n",
       "    <tr>\n",
       "      <th>2</th>\n",
       "      <td>200.0</td>\n",
       "      <td>3200.0</td>\n",
       "      <td>4500.0</td>\n",
       "      <td>6200.0</td>\n",
       "      <td>400.0</td>\n",
       "    </tr>\n",
       "    <tr>\n",
       "      <th>3</th>\n",
       "      <td>900.0</td>\n",
       "      <td>1500.0</td>\n",
       "      <td>900.0</td>\n",
       "      <td>3300.0</td>\n",
       "      <td>9000.0</td>\n",
       "    </tr>\n",
       "    <tr>\n",
       "      <th>4</th>\n",
       "      <td>4600.0</td>\n",
       "      <td>700.0</td>\n",
       "      <td>300.0</td>\n",
       "      <td>700.0</td>\n",
       "      <td>9500.0</td>\n",
       "    </tr>\n",
       "  </tbody>\n",
       "</table>\n",
       "</div>"
      ],
      "text/plain": [
       "        0       1       2       3       4\n",
       "0   300.0  1600.0  1400.0  1800.0  1000.0\n",
       "1  1200.0   700.0   200.0  9700.0  1200.0\n",
       "2   200.0  3200.0  4500.0  6200.0   400.0\n",
       "3   900.0  1500.0   900.0  3300.0  9000.0\n",
       "4  4600.0   700.0   300.0   700.0  9500.0"
      ]
     },
     "metadata": {},
     "output_type": "display_data"
    },
    {
     "data": {
      "text/plain": [
       "array([[1.73071681, 0.24737753, 0.21177931, 0.3617058 , 0.83869278],\n",
       "       [1.70412213, 1.38301488, 0.28380242, 0.9542387 , 1.8852202 ],\n",
       "       [1.45160761, 0.53200816, 1.55309564, 0.90691994, 1.69898986],\n",
       "       [2.64678609, 0.58579972, 0.45307361, 1.91855137, 3.24967773],\n",
       "       [3.2714963 , 0.59877102, 0.47081683, 0.86145875, 4.34866828]])"
      ]
     },
     "metadata": {},
     "output_type": "display_data"
    },
    {
     "name": "stdout",
     "output_type": "stream",
     "text": [
      "***\n"
     ]
    },
    {
     "data": {
      "text/html": [
       "<div>\n",
       "<style scoped>\n",
       "    .dataframe tbody tr th:only-of-type {\n",
       "        vertical-align: middle;\n",
       "    }\n",
       "\n",
       "    .dataframe tbody tr th {\n",
       "        vertical-align: top;\n",
       "    }\n",
       "\n",
       "    .dataframe thead th {\n",
       "        text-align: right;\n",
       "    }\n",
       "</style>\n",
       "<table border=\"1\" class=\"dataframe\">\n",
       "  <thead>\n",
       "    <tr style=\"text-align: right;\">\n",
       "      <th></th>\n",
       "      <th>0</th>\n",
       "      <th>1</th>\n",
       "      <th>2</th>\n",
       "      <th>3</th>\n",
       "      <th>4</th>\n",
       "    </tr>\n",
       "  </thead>\n",
       "  <tbody>\n",
       "    <tr>\n",
       "      <th>0</th>\n",
       "      <td>0.0</td>\n",
       "      <td>2600.0</td>\n",
       "      <td>2600.0</td>\n",
       "      <td>2600.0</td>\n",
       "      <td>2600.0</td>\n",
       "    </tr>\n",
       "    <tr>\n",
       "      <th>1</th>\n",
       "      <td>2600.0</td>\n",
       "      <td>0.0</td>\n",
       "      <td>0.0</td>\n",
       "      <td>0.0</td>\n",
       "      <td>0.0</td>\n",
       "    </tr>\n",
       "    <tr>\n",
       "      <th>2</th>\n",
       "      <td>2600.0</td>\n",
       "      <td>0.0</td>\n",
       "      <td>0.0</td>\n",
       "      <td>0.0</td>\n",
       "      <td>0.0</td>\n",
       "    </tr>\n",
       "    <tr>\n",
       "      <th>3</th>\n",
       "      <td>2600.0</td>\n",
       "      <td>0.0</td>\n",
       "      <td>0.0</td>\n",
       "      <td>0.0</td>\n",
       "      <td>0.0</td>\n",
       "    </tr>\n",
       "    <tr>\n",
       "      <th>4</th>\n",
       "      <td>2600.0</td>\n",
       "      <td>0.0</td>\n",
       "      <td>0.0</td>\n",
       "      <td>0.0</td>\n",
       "      <td>0.0</td>\n",
       "    </tr>\n",
       "  </tbody>\n",
       "</table>\n",
       "</div>"
      ],
      "text/plain": [
       "        0       1       2       3       4\n",
       "0     0.0  2600.0  2600.0  2600.0  2600.0\n",
       "1  2600.0     0.0     0.0     0.0     0.0\n",
       "2  2600.0     0.0     0.0     0.0     0.0\n",
       "3  2600.0     0.0     0.0     0.0     0.0\n",
       "4  2600.0     0.0     0.0     0.0     0.0"
      ]
     },
     "metadata": {},
     "output_type": "display_data"
    },
    {
     "data": {
      "text/plain": [
       "array([[1.76754446, 0.52222905, 0.65651651, 0.42551996, 1.70207985],\n",
       "       [0.41032282, 1.12123174, 0.15240562, 0.09878142, 0.39512568],\n",
       "       [0.41032282, 0.12123174, 1.15240562, 0.09878142, 0.39512568],\n",
       "       [0.41032282, 0.12123174, 0.15240562, 1.09878142, 0.39512568],\n",
       "       [0.41032282, 0.12123174, 0.15240562, 0.09878142, 1.39512568]])"
      ]
     },
     "metadata": {},
     "output_type": "display_data"
    },
    {
     "name": "stdout",
     "output_type": "stream",
     "text": [
      "***\n"
     ]
    }
   ],
   "source": [
    "for S in [Si, So, Sc, Ss]:\n",
    "    stot = pd.DataFrame(S.sum(1)) + c\n",
    "    R = S.T.div(stot.values).T\n",
    "    I = pd.DataFrame(np.eye(n))\n",
    "    L = la.inv(I - R)\n",
    "    \n",
    "    display(S)\n",
    "    display(L)\n",
    "    print('***')"
   ]
  },
  {
   "cell_type": "code",
   "execution_count": 201,
   "metadata": {},
   "outputs": [],
   "source": [
    "\n",
    "# np.sum([matrix_power(R, k) for k in range(100)])"
   ]
  },
  {
   "cell_type": "code",
   "execution_count": 132,
   "metadata": {},
   "outputs": [
    {
     "data": {
      "text/plain": [
       "array([[12.98601096,  0.89441263,  8.20923812],\n",
       "       [16.90452841,  2.20281017, 10.95966047],\n",
       "       [16.32787713,  1.21188553, 11.35357864]])"
      ]
     },
     "execution_count": 132,
     "metadata": {},
     "output_type": "execute_result"
    }
   ],
   "source": [
    "L"
   ]
  },
  {
   "cell_type": "code",
   "execution_count": 3,
   "metadata": {},
   "outputs": [],
   "source": [
    "## Log of real value added\n",
    "\n",
    "n = 10\n",
    "a = .1\n",
    "\n",
    "S = round(np.power(10, pd.DataFrame(np.random.uniform(2, 4, (n, n)))), -2)\n",
    "\n",
    "# # S.sum(1) # row sum\n",
    "# # S.sum(0) # col sum\n",
    "# S.div(S.sum(1), axis = 0) # row wise division. \n",
    "# S.div(S.sum(0), axis = 1) # col wise division\n",
    "\n",
    "M = S.div(S.sum(0), axis = 1) # W\n",
    "At = S.div(S.sum(1), axis  = 1)\n",
    "A = S.T.div(S.sum(1), axis  = 0)\n",
    "s = S.sum(1) #sales vector\n"
   ]
  },
  {
   "cell_type": "code",
   "execution_count": null,
   "metadata": {},
   "outputs": [],
   "source": []
  },
  {
   "cell_type": "code",
   "execution_count": 21,
   "metadata": {},
   "outputs": [],
   "source": [
    "avals, avecs = la.eig(At)"
   ]
  },
  {
   "cell_type": "code",
   "execution_count": 61,
   "metadata": {},
   "outputs": [],
   "source": [
    "# # The kth power can be obtained from the diagonalized version as:\n",
    "\n",
    "# k = 10;\n",
    "# pd.DataFrame(np.round(np.dot(avecs, np.dot(np.diag(avals)**k, la.inv(avecs))), 2))\n",
    "\n",
    "# # no me estaria funcionando... i.e. no ma da igual que np.round(np.power(At, 10), 5), porque esta ultime me hace los numeros al cuadrado..."
   ]
  },
  {
   "cell_type": "code",
   "execution_count": 5,
   "metadata": {
    "collapsed": true
   },
   "outputs": [
    {
     "data": {
      "text/html": [
       "<div>\n",
       "<style scoped>\n",
       "    .dataframe tbody tr th:only-of-type {\n",
       "        vertical-align: middle;\n",
       "    }\n",
       "\n",
       "    .dataframe tbody tr th {\n",
       "        vertical-align: top;\n",
       "    }\n",
       "\n",
       "    .dataframe thead th {\n",
       "        text-align: right;\n",
       "    }\n",
       "</style>\n",
       "<table border=\"1\" class=\"dataframe\">\n",
       "  <thead>\n",
       "    <tr style=\"text-align: right;\">\n",
       "      <th></th>\n",
       "      <th>0</th>\n",
       "      <th>1</th>\n",
       "      <th>2</th>\n",
       "      <th>3</th>\n",
       "      <th>4</th>\n",
       "      <th>5</th>\n",
       "      <th>6</th>\n",
       "      <th>7</th>\n",
       "      <th>8</th>\n",
       "      <th>9</th>\n",
       "    </tr>\n",
       "  </thead>\n",
       "  <tbody>\n",
       "    <tr>\n",
       "      <th>0</th>\n",
       "      <td>0.031646</td>\n",
       "      <td>0.082278</td>\n",
       "      <td>0.341772</td>\n",
       "      <td>0.018987</td>\n",
       "      <td>0.094937</td>\n",
       "      <td>0.044304</td>\n",
       "      <td>0.012658</td>\n",
       "      <td>0.006329</td>\n",
       "      <td>0.018987</td>\n",
       "      <td>0.006329</td>\n",
       "    </tr>\n",
       "    <tr>\n",
       "      <th>1</th>\n",
       "      <td>0.020833</td>\n",
       "      <td>0.325000</td>\n",
       "      <td>0.070833</td>\n",
       "      <td>0.079167</td>\n",
       "      <td>0.012500</td>\n",
       "      <td>0.016667</td>\n",
       "      <td>0.037500</td>\n",
       "      <td>0.354167</td>\n",
       "      <td>0.016667</td>\n",
       "      <td>0.237500</td>\n",
       "    </tr>\n",
       "    <tr>\n",
       "      <th>2</th>\n",
       "      <td>0.239521</td>\n",
       "      <td>0.011976</td>\n",
       "      <td>0.077844</td>\n",
       "      <td>0.029940</td>\n",
       "      <td>0.011976</td>\n",
       "      <td>0.119760</td>\n",
       "      <td>0.011976</td>\n",
       "      <td>0.119760</td>\n",
       "      <td>0.065868</td>\n",
       "      <td>0.281437</td>\n",
       "    </tr>\n",
       "    <tr>\n",
       "      <th>3</th>\n",
       "      <td>0.165289</td>\n",
       "      <td>0.016529</td>\n",
       "      <td>0.016529</td>\n",
       "      <td>0.082645</td>\n",
       "      <td>0.016529</td>\n",
       "      <td>0.388430</td>\n",
       "      <td>0.090909</td>\n",
       "      <td>0.148760</td>\n",
       "      <td>0.082645</td>\n",
       "      <td>0.231405</td>\n",
       "    </tr>\n",
       "    <tr>\n",
       "      <th>4</th>\n",
       "      <td>0.009569</td>\n",
       "      <td>0.081340</td>\n",
       "      <td>0.177033</td>\n",
       "      <td>0.004785</td>\n",
       "      <td>0.267943</td>\n",
       "      <td>0.009569</td>\n",
       "      <td>0.028708</td>\n",
       "      <td>0.081340</td>\n",
       "      <td>0.043062</td>\n",
       "      <td>0.028708</td>\n",
       "    </tr>\n",
       "    <tr>\n",
       "      <th>5</th>\n",
       "      <td>0.004854</td>\n",
       "      <td>0.388350</td>\n",
       "      <td>0.009709</td>\n",
       "      <td>0.233010</td>\n",
       "      <td>0.218447</td>\n",
       "      <td>0.019417</td>\n",
       "      <td>0.257282</td>\n",
       "      <td>0.009709</td>\n",
       "      <td>0.014563</td>\n",
       "      <td>0.140777</td>\n",
       "    </tr>\n",
       "    <tr>\n",
       "      <th>6</th>\n",
       "      <td>0.009231</td>\n",
       "      <td>0.006154</td>\n",
       "      <td>0.003077</td>\n",
       "      <td>0.003077</td>\n",
       "      <td>0.055385</td>\n",
       "      <td>0.027692</td>\n",
       "      <td>0.043077</td>\n",
       "      <td>0.015385</td>\n",
       "      <td>0.021538</td>\n",
       "      <td>0.009231</td>\n",
       "    </tr>\n",
       "    <tr>\n",
       "      <th>7</th>\n",
       "      <td>0.178082</td>\n",
       "      <td>0.182648</td>\n",
       "      <td>0.009132</td>\n",
       "      <td>0.091324</td>\n",
       "      <td>0.223744</td>\n",
       "      <td>0.168950</td>\n",
       "      <td>0.365297</td>\n",
       "      <td>0.100457</td>\n",
       "      <td>0.045662</td>\n",
       "      <td>0.004566</td>\n",
       "    </tr>\n",
       "    <tr>\n",
       "      <th>8</th>\n",
       "      <td>0.411765</td>\n",
       "      <td>0.058824</td>\n",
       "      <td>0.014706</td>\n",
       "      <td>0.176471</td>\n",
       "      <td>0.073529</td>\n",
       "      <td>0.073529</td>\n",
       "      <td>0.779412</td>\n",
       "      <td>0.470588</td>\n",
       "      <td>0.014706</td>\n",
       "      <td>0.279412</td>\n",
       "    </tr>\n",
       "    <tr>\n",
       "      <th>9</th>\n",
       "      <td>0.063291</td>\n",
       "      <td>0.008439</td>\n",
       "      <td>0.160338</td>\n",
       "      <td>0.008439</td>\n",
       "      <td>0.059072</td>\n",
       "      <td>0.299578</td>\n",
       "      <td>0.400844</td>\n",
       "      <td>0.071730</td>\n",
       "      <td>0.042194</td>\n",
       "      <td>0.194093</td>\n",
       "    </tr>\n",
       "  </tbody>\n",
       "</table>\n",
       "</div>"
      ],
      "text/plain": [
       "          0         1         2         3         4         5         6  \\\n",
       "0  0.031646  0.082278  0.341772  0.018987  0.094937  0.044304  0.012658   \n",
       "1  0.020833  0.325000  0.070833  0.079167  0.012500  0.016667  0.037500   \n",
       "2  0.239521  0.011976  0.077844  0.029940  0.011976  0.119760  0.011976   \n",
       "3  0.165289  0.016529  0.016529  0.082645  0.016529  0.388430  0.090909   \n",
       "4  0.009569  0.081340  0.177033  0.004785  0.267943  0.009569  0.028708   \n",
       "5  0.004854  0.388350  0.009709  0.233010  0.218447  0.019417  0.257282   \n",
       "6  0.009231  0.006154  0.003077  0.003077  0.055385  0.027692  0.043077   \n",
       "7  0.178082  0.182648  0.009132  0.091324  0.223744  0.168950  0.365297   \n",
       "8  0.411765  0.058824  0.014706  0.176471  0.073529  0.073529  0.779412   \n",
       "9  0.063291  0.008439  0.160338  0.008439  0.059072  0.299578  0.400844   \n",
       "\n",
       "          7         8         9  \n",
       "0  0.006329  0.018987  0.006329  \n",
       "1  0.354167  0.016667  0.237500  \n",
       "2  0.119760  0.065868  0.281437  \n",
       "3  0.148760  0.082645  0.231405  \n",
       "4  0.081340  0.043062  0.028708  \n",
       "5  0.009709  0.014563  0.140777  \n",
       "6  0.015385  0.021538  0.009231  \n",
       "7  0.100457  0.045662  0.004566  \n",
       "8  0.470588  0.014706  0.279412  \n",
       "9  0.071730  0.042194  0.194093  "
      ]
     },
     "execution_count": 5,
     "metadata": {},
     "output_type": "execute_result"
    }
   ],
   "source": [
    "A\n",
    "# (np.eye(n) - A)"
   ]
  },
  {
   "cell_type": "code",
   "execution_count": 65,
   "metadata": {},
   "outputs": [],
   "source": [
    "At_ = np.eye(n) + At + np.dot(At, At)"
   ]
  },
  {
   "cell_type": "code",
   "execution_count": 67,
   "metadata": {},
   "outputs": [
    {
     "data": {
      "text/html": [
       "<div>\n",
       "<style scoped>\n",
       "    .dataframe tbody tr th:only-of-type {\n",
       "        vertical-align: middle;\n",
       "    }\n",
       "\n",
       "    .dataframe tbody tr th {\n",
       "        vertical-align: top;\n",
       "    }\n",
       "\n",
       "    .dataframe thead th {\n",
       "        text-align: right;\n",
       "    }\n",
       "</style>\n",
       "<table border=\"1\" class=\"dataframe\">\n",
       "  <thead>\n",
       "    <tr style=\"text-align: right;\">\n",
       "      <th></th>\n",
       "      <th>0</th>\n",
       "      <th>1</th>\n",
       "      <th>2</th>\n",
       "      <th>3</th>\n",
       "      <th>4</th>\n",
       "      <th>5</th>\n",
       "      <th>6</th>\n",
       "      <th>7</th>\n",
       "      <th>8</th>\n",
       "      <th>9</th>\n",
       "    </tr>\n",
       "  </thead>\n",
       "  <tbody>\n",
       "    <tr>\n",
       "      <th>0</th>\n",
       "      <td>1.0</td>\n",
       "      <td>0.0</td>\n",
       "      <td>0.2</td>\n",
       "      <td>0.2</td>\n",
       "      <td>0.0</td>\n",
       "      <td>0.0</td>\n",
       "      <td>0.0</td>\n",
       "      <td>0.2</td>\n",
       "      <td>0.4</td>\n",
       "      <td>0.1</td>\n",
       "    </tr>\n",
       "    <tr>\n",
       "      <th>1</th>\n",
       "      <td>0.1</td>\n",
       "      <td>1.3</td>\n",
       "      <td>0.0</td>\n",
       "      <td>0.0</td>\n",
       "      <td>0.1</td>\n",
       "      <td>0.4</td>\n",
       "      <td>0.0</td>\n",
       "      <td>0.2</td>\n",
       "      <td>0.1</td>\n",
       "      <td>0.0</td>\n",
       "    </tr>\n",
       "    <tr>\n",
       "      <th>2</th>\n",
       "      <td>0.3</td>\n",
       "      <td>0.1</td>\n",
       "      <td>1.1</td>\n",
       "      <td>0.0</td>\n",
       "      <td>0.2</td>\n",
       "      <td>0.0</td>\n",
       "      <td>0.0</td>\n",
       "      <td>0.0</td>\n",
       "      <td>0.0</td>\n",
       "      <td>0.2</td>\n",
       "    </tr>\n",
       "    <tr>\n",
       "      <th>3</th>\n",
       "      <td>0.0</td>\n",
       "      <td>0.1</td>\n",
       "      <td>0.0</td>\n",
       "      <td>1.1</td>\n",
       "      <td>0.0</td>\n",
       "      <td>0.2</td>\n",
       "      <td>0.0</td>\n",
       "      <td>0.1</td>\n",
       "      <td>0.2</td>\n",
       "      <td>0.0</td>\n",
       "    </tr>\n",
       "    <tr>\n",
       "      <th>4</th>\n",
       "      <td>0.1</td>\n",
       "      <td>0.0</td>\n",
       "      <td>0.0</td>\n",
       "      <td>0.0</td>\n",
       "      <td>1.3</td>\n",
       "      <td>0.2</td>\n",
       "      <td>0.1</td>\n",
       "      <td>0.2</td>\n",
       "      <td>0.1</td>\n",
       "      <td>0.1</td>\n",
       "    </tr>\n",
       "    <tr>\n",
       "      <th>5</th>\n",
       "      <td>0.0</td>\n",
       "      <td>0.0</td>\n",
       "      <td>0.1</td>\n",
       "      <td>0.4</td>\n",
       "      <td>0.0</td>\n",
       "      <td>1.0</td>\n",
       "      <td>0.0</td>\n",
       "      <td>0.2</td>\n",
       "      <td>0.1</td>\n",
       "      <td>0.3</td>\n",
       "    </tr>\n",
       "    <tr>\n",
       "      <th>6</th>\n",
       "      <td>0.0</td>\n",
       "      <td>0.0</td>\n",
       "      <td>0.0</td>\n",
       "      <td>0.1</td>\n",
       "      <td>0.0</td>\n",
       "      <td>0.3</td>\n",
       "      <td>1.0</td>\n",
       "      <td>0.4</td>\n",
       "      <td>0.8</td>\n",
       "      <td>0.4</td>\n",
       "    </tr>\n",
       "    <tr>\n",
       "      <th>7</th>\n",
       "      <td>0.0</td>\n",
       "      <td>0.4</td>\n",
       "      <td>0.1</td>\n",
       "      <td>0.1</td>\n",
       "      <td>0.1</td>\n",
       "      <td>0.0</td>\n",
       "      <td>0.0</td>\n",
       "      <td>1.1</td>\n",
       "      <td>0.5</td>\n",
       "      <td>0.1</td>\n",
       "    </tr>\n",
       "    <tr>\n",
       "      <th>8</th>\n",
       "      <td>0.0</td>\n",
       "      <td>0.0</td>\n",
       "      <td>0.1</td>\n",
       "      <td>0.1</td>\n",
       "      <td>0.0</td>\n",
       "      <td>0.0</td>\n",
       "      <td>0.0</td>\n",
       "      <td>0.0</td>\n",
       "      <td>1.0</td>\n",
       "      <td>0.0</td>\n",
       "    </tr>\n",
       "    <tr>\n",
       "      <th>9</th>\n",
       "      <td>0.0</td>\n",
       "      <td>0.2</td>\n",
       "      <td>0.3</td>\n",
       "      <td>0.2</td>\n",
       "      <td>0.0</td>\n",
       "      <td>0.1</td>\n",
       "      <td>0.0</td>\n",
       "      <td>0.0</td>\n",
       "      <td>0.3</td>\n",
       "      <td>1.2</td>\n",
       "    </tr>\n",
       "  </tbody>\n",
       "</table>\n",
       "</div>"
      ],
      "text/plain": [
       "     0    1    2    3    4    5    6    7    8    9\n",
       "0  1.0  0.0  0.2  0.2  0.0  0.0  0.0  0.2  0.4  0.1\n",
       "1  0.1  1.3  0.0  0.0  0.1  0.4  0.0  0.2  0.1  0.0\n",
       "2  0.3  0.1  1.1  0.0  0.2  0.0  0.0  0.0  0.0  0.2\n",
       "3  0.0  0.1  0.0  1.1  0.0  0.2  0.0  0.1  0.2  0.0\n",
       "4  0.1  0.0  0.0  0.0  1.3  0.2  0.1  0.2  0.1  0.1\n",
       "5  0.0  0.0  0.1  0.4  0.0  1.0  0.0  0.2  0.1  0.3\n",
       "6  0.0  0.0  0.0  0.1  0.0  0.3  1.0  0.4  0.8  0.4\n",
       "7  0.0  0.4  0.1  0.1  0.1  0.0  0.0  1.1  0.5  0.1\n",
       "8  0.0  0.0  0.1  0.1  0.0  0.0  0.0  0.0  1.0  0.0\n",
       "9  0.0  0.2  0.3  0.2  0.0  0.1  0.0  0.0  0.3  1.2"
      ]
     },
     "execution_count": 67,
     "metadata": {},
     "output_type": "execute_result"
    }
   ],
   "source": [
    "round(np.eye(n) + At, 1)"
   ]
  },
  {
   "cell_type": "code",
   "execution_count": 70,
   "metadata": {},
   "outputs": [
    {
     "data": {
      "text/plain": [
       "array([[0.1 , 0.12, 0.1 , 0.1 , 0.08, 0.07, 0.01, 0.07, 0.16, 0.09],\n",
       "       [0.06, 0.18, 0.1 , 0.21, 0.07, 0.16, 0.02, 0.18, 0.18, 0.15],\n",
       "       [0.06, 0.08, 0.14, 0.11, 0.08, 0.1 , 0.02, 0.12, 0.21, 0.08],\n",
       "       [0.03, 0.08, 0.06, 0.13, 0.03, 0.06, 0.01, 0.08, 0.1 , 0.09],\n",
       "       [0.05, 0.11, 0.1 , 0.16, 0.1 , 0.1 , 0.03, 0.16, 0.24, 0.14],\n",
       "       [0.06, 0.18, 0.14, 0.15, 0.05, 0.15, 0.01, 0.08, 0.28, 0.12],\n",
       "       [0.04, 0.26, 0.25, 0.33, 0.09, 0.13, 0.04, 0.16, 0.37, 0.24],\n",
       "       [0.09, 0.2 , 0.09, 0.1 , 0.1 , 0.21, 0.02, 0.14, 0.14, 0.08],\n",
       "       [0.03, 0.05, 0.03, 0.04, 0.03, 0.05, 0.01, 0.04, 0.08, 0.04],\n",
       "       [0.14, 0.17, 0.12, 0.15, 0.1 , 0.19, 0.02, 0.12, 0.14, 0.15]])"
      ]
     },
     "execution_count": 70,
     "metadata": {},
     "output_type": "execute_result"
    }
   ],
   "source": [
    "np.round(np.dot(At, At), 2)"
   ]
  },
  {
   "cell_type": "code",
   "execution_count": 85,
   "metadata": {},
   "outputs": [
    {
     "data": {
      "text/plain": [
       "[2, 3, 4, 5, 6, 7, 8, 9]"
      ]
     },
     "execution_count": 85,
     "metadata": {},
     "output_type": "execute_result"
    }
   ],
   "source": [
    "[k for k in range(2, 10)]"
   ]
  },
  {
   "cell_type": "code",
   "execution_count": 91,
   "metadata": {},
   "outputs": [
    {
     "data": {
      "text/html": [
       "<div>\n",
       "<style scoped>\n",
       "    .dataframe tbody tr th:only-of-type {\n",
       "        vertical-align: middle;\n",
       "    }\n",
       "\n",
       "    .dataframe tbody tr th {\n",
       "        vertical-align: top;\n",
       "    }\n",
       "\n",
       "    .dataframe thead th {\n",
       "        text-align: right;\n",
       "    }\n",
       "</style>\n",
       "<table border=\"1\" class=\"dataframe\">\n",
       "  <thead>\n",
       "    <tr style=\"text-align: right;\">\n",
       "      <th></th>\n",
       "      <th>0</th>\n",
       "      <th>1</th>\n",
       "      <th>2</th>\n",
       "      <th>3</th>\n",
       "      <th>4</th>\n",
       "      <th>5</th>\n",
       "      <th>6</th>\n",
       "      <th>7</th>\n",
       "      <th>8</th>\n",
       "      <th>9</th>\n",
       "    </tr>\n",
       "  </thead>\n",
       "  <tbody>\n",
       "    <tr>\n",
       "      <th>0</th>\n",
       "      <td>0.162317</td>\n",
       "      <td>0.231686</td>\n",
       "      <td>0.188260</td>\n",
       "      <td>0.204258</td>\n",
       "      <td>0.149358</td>\n",
       "      <td>0.181944</td>\n",
       "      <td>0.029750</td>\n",
       "      <td>0.170725</td>\n",
       "      <td>0.313141</td>\n",
       "      <td>0.175304</td>\n",
       "    </tr>\n",
       "    <tr>\n",
       "      <th>1</th>\n",
       "      <td>0.136536</td>\n",
       "      <td>0.377865</td>\n",
       "      <td>0.228554</td>\n",
       "      <td>0.382468</td>\n",
       "      <td>0.156011</td>\n",
       "      <td>0.333178</td>\n",
       "      <td>0.042821</td>\n",
       "      <td>0.326492</td>\n",
       "      <td>0.424317</td>\n",
       "      <td>0.285988</td>\n",
       "    </tr>\n",
       "    <tr>\n",
       "      <th>2</th>\n",
       "      <td>0.137709</td>\n",
       "      <td>0.195935</td>\n",
       "      <td>0.233975</td>\n",
       "      <td>0.224482</td>\n",
       "      <td>0.152205</td>\n",
       "      <td>0.192864</td>\n",
       "      <td>0.032680</td>\n",
       "      <td>0.219162</td>\n",
       "      <td>0.373731</td>\n",
       "      <td>0.183161</td>\n",
       "    </tr>\n",
       "    <tr>\n",
       "      <th>3</th>\n",
       "      <td>0.073968</td>\n",
       "      <td>0.172394</td>\n",
       "      <td>0.131947</td>\n",
       "      <td>0.219439</td>\n",
       "      <td>0.072538</td>\n",
       "      <td>0.149543</td>\n",
       "      <td>0.022742</td>\n",
       "      <td>0.152528</td>\n",
       "      <td>0.222601</td>\n",
       "      <td>0.162250</td>\n",
       "    </tr>\n",
       "    <tr>\n",
       "      <th>4</th>\n",
       "      <td>0.117385</td>\n",
       "      <td>0.269373</td>\n",
       "      <td>0.217344</td>\n",
       "      <td>0.309783</td>\n",
       "      <td>0.188423</td>\n",
       "      <td>0.238094</td>\n",
       "      <td>0.050626</td>\n",
       "      <td>0.287572</td>\n",
       "      <td>0.459996</td>\n",
       "      <td>0.261115</td>\n",
       "    </tr>\n",
       "    <tr>\n",
       "      <th>5</th>\n",
       "      <td>0.144788</td>\n",
       "      <td>0.326885</td>\n",
       "      <td>0.255863</td>\n",
       "      <td>0.303616</td>\n",
       "      <td>0.133643</td>\n",
       "      <td>0.298525</td>\n",
       "      <td>0.029888</td>\n",
       "      <td>0.206682</td>\n",
       "      <td>0.441242</td>\n",
       "      <td>0.239643</td>\n",
       "    </tr>\n",
       "    <tr>\n",
       "      <th>6</th>\n",
       "      <td>0.181790</td>\n",
       "      <td>0.517300</td>\n",
       "      <td>0.416430</td>\n",
       "      <td>0.533190</td>\n",
       "      <td>0.221667</td>\n",
       "      <td>0.383374</td>\n",
       "      <td>0.064073</td>\n",
       "      <td>0.335391</td>\n",
       "      <td>0.659358</td>\n",
       "      <td>0.416250</td>\n",
       "    </tr>\n",
       "    <tr>\n",
       "      <th>7</th>\n",
       "      <td>0.165226</td>\n",
       "      <td>0.353220</td>\n",
       "      <td>0.194107</td>\n",
       "      <td>0.263114</td>\n",
       "      <td>0.186182</td>\n",
       "      <td>0.360809</td>\n",
       "      <td>0.041967</td>\n",
       "      <td>0.287622</td>\n",
       "      <td>0.340769</td>\n",
       "      <td>0.210251</td>\n",
       "    </tr>\n",
       "    <tr>\n",
       "      <th>8</th>\n",
       "      <td>0.055865</td>\n",
       "      <td>0.092115</td>\n",
       "      <td>0.072597</td>\n",
       "      <td>0.088675</td>\n",
       "      <td>0.058331</td>\n",
       "      <td>0.091497</td>\n",
       "      <td>0.012665</td>\n",
       "      <td>0.082756</td>\n",
       "      <td>0.143394</td>\n",
       "      <td>0.080938</td>\n",
       "    </tr>\n",
       "    <tr>\n",
       "      <th>9</th>\n",
       "      <td>0.221985</td>\n",
       "      <td>0.333668</td>\n",
       "      <td>0.261826</td>\n",
       "      <td>0.334011</td>\n",
       "      <td>0.183712</td>\n",
       "      <td>0.348994</td>\n",
       "      <td>0.037656</td>\n",
       "      <td>0.265654</td>\n",
       "      <td>0.368710</td>\n",
       "      <td>0.290836</td>\n",
       "    </tr>\n",
       "  </tbody>\n",
       "</table>\n",
       "</div>"
      ],
      "text/plain": [
       "          0         1         2         3         4         5         6  \\\n",
       "0  0.162317  0.231686  0.188260  0.204258  0.149358  0.181944  0.029750   \n",
       "1  0.136536  0.377865  0.228554  0.382468  0.156011  0.333178  0.042821   \n",
       "2  0.137709  0.195935  0.233975  0.224482  0.152205  0.192864  0.032680   \n",
       "3  0.073968  0.172394  0.131947  0.219439  0.072538  0.149543  0.022742   \n",
       "4  0.117385  0.269373  0.217344  0.309783  0.188423  0.238094  0.050626   \n",
       "5  0.144788  0.326885  0.255863  0.303616  0.133643  0.298525  0.029888   \n",
       "6  0.181790  0.517300  0.416430  0.533190  0.221667  0.383374  0.064073   \n",
       "7  0.165226  0.353220  0.194107  0.263114  0.186182  0.360809  0.041967   \n",
       "8  0.055865  0.092115  0.072597  0.088675  0.058331  0.091497  0.012665   \n",
       "9  0.221985  0.333668  0.261826  0.334011  0.183712  0.348994  0.037656   \n",
       "\n",
       "          7         8         9  \n",
       "0  0.170725  0.313141  0.175304  \n",
       "1  0.326492  0.424317  0.285988  \n",
       "2  0.219162  0.373731  0.183161  \n",
       "3  0.152528  0.222601  0.162250  \n",
       "4  0.287572  0.459996  0.261115  \n",
       "5  0.206682  0.441242  0.239643  \n",
       "6  0.335391  0.659358  0.416250  \n",
       "7  0.287622  0.340769  0.210251  \n",
       "8  0.082756  0.143394  0.080938  \n",
       "9  0.265654  0.368710  0.290836  "
      ]
     },
     "execution_count": 91,
     "metadata": {},
     "output_type": "execute_result"
    }
   ],
   "source": [
    "pd.DataFrame(np.real(np.array([np.dot(avecs, np.dot(np.diag(avals)**k, la.inv(avecs))) for k in range(2, 4)]).sum(0)))"
   ]
  },
  {
   "cell_type": "code",
   "execution_count": 35,
   "metadata": {},
   "outputs": [
    {
     "data": {
      "text/plain": [
       "[<matplotlib.lines.Line2D at 0x7f5c2f35be10>]"
      ]
     },
     "execution_count": 35,
     "metadata": {},
     "output_type": "execute_result"
    },
    {
     "data": {
      "image/png": "[encoded data removed]",
      "text/plain": [
       "<Figure size 432x288 with 1 Axes>"
      ]
     },
     "metadata": {},
     "output_type": "display_data"
    }
   ],
   "source": [
    "avals, avecs = la.eig(At)\n",
    "i = 0\n",
    "plt.plot(np.real(np.dot(At,avecs)[:, i]), np.real(avecs[:,i]), marker = '.', lw = 0)"
   ]
  },
  {
   "cell_type": "code",
   "execution_count": 37,
   "metadata": {},
   "outputs": [
    {
     "data": {
      "text/plain": [
       "array([[ 0.24219288+0.j        ,  0.13485629+0.14430261j,\n",
       "         0.13485629-0.14430261j, -0.43282684+0.j        ,\n",
       "        -0.32911148+0.j        , -0.08020371-0.18199956j,\n",
       "        -0.08020371+0.18199956j, -0.1192282 +0.j        ,\n",
       "        -0.1050996 +0.02896536j, -0.1050996 -0.02896536j],\n",
       "       [ 0.36788793+0.j        , -0.02549567-0.21549151j,\n",
       "        -0.02549567+0.21549151j, -0.16009768+0.j        ,\n",
       "        -0.04715251+0.j        ,  0.45782231+0.11640548j,\n",
       "         0.45782231-0.11640548j, -0.43609699+0.j        ,\n",
       "        -0.04643129-0.09801403j, -0.04643129+0.09801403j],\n",
       "       [ 0.25598868+0.j        , -0.00736463-0.09154416j,\n",
       "        -0.00736463+0.09154416j,  0.70073493+0.j        ,\n",
       "         0.58669373+0.j        , -0.23973213-0.2318127j ,\n",
       "        -0.23973213+0.2318127j ,  0.0432694 +0.j        ,\n",
       "        -0.04156952-0.11284099j, -0.04156952+0.11284099j],\n",
       "       [ 0.18547683+0.j        ,  0.03369989-0.14265209j,\n",
       "         0.03369989+0.14265209j, -0.18899876+0.j        ,\n",
       "        -0.0458192 +0.j        , -0.04235794+0.08168345j,\n",
       "        -0.04235794-0.08168345j,  0.10960103+0.j        ,\n",
       "         0.15721285+0.20188821j,  0.15721285-0.20188821j],\n",
       "       [ 0.32036907+0.j        ,  0.04862751-0.2492168j ,\n",
       "         0.04862751+0.2492168j , -0.09998323+0.j        ,\n",
       "        -0.06256548+0.j        ,  0.11993857-0.00603964j,\n",
       "         0.11993857+0.00603964j,  0.10405764+0.j        ,\n",
       "         0.31676743+0.10269115j,  0.31676743-0.10269115j],\n",
       "       [ 0.31577047+0.j        ,  0.21934401+0.12590974j,\n",
       "         0.21934401-0.12590974j,  0.25813832+0.j        ,\n",
       "         0.09162136+0.j        , -0.31103697+0.06910571j,\n",
       "        -0.31103697-0.06910571j,  0.35502398+0.j        ,\n",
       "         0.0245825 +0.06703921j,  0.0245825 -0.06703921j],\n",
       "       [ 0.49818157+0.j        ,  0.74214697+0.j        ,\n",
       "         0.74214697-0.j        ,  0.23755466+0.j        ,\n",
       "         0.64087231+0.j        , -0.2926493 +0.13263336j,\n",
       "        -0.2926493 -0.13263336j,  0.4757074 +0.j        ,\n",
       "        -0.85756811+0.j        , -0.85756811-0.j        ],\n",
       "       [ 0.33569773+0.j        , -0.21889745+0.29654845j,\n",
       "        -0.21889745-0.29654845j,  0.18887758+0.j        ,\n",
       "         0.12558343+0.j        ,  0.50897171+0.j        ,\n",
       "         0.50897171-0.j        , -0.53990537+0.j        ,\n",
       "        -0.0399888 -0.09380367j, -0.0399888 +0.09380367j],\n",
       "       [ 0.10423491+0.j        , -0.03626834-0.00816661j,\n",
       "        -0.03626834+0.00816661j, -0.08047734+0.j        ,\n",
       "        -0.14734715+0.j        , -0.04904075-0.01638491j,\n",
       "        -0.04904075+0.01638491j,  0.06338069+0.j        ,\n",
       "        -0.00899885+0.04611966j, -0.00899885-0.04611966j],\n",
       "       [ 0.36328933+0.j        , -0.20349266+0.16160071j,\n",
       "        -0.20349266-0.16160071j, -0.29165749+0.j        ,\n",
       "        -0.28747997+0.j        , -0.36951578+0.01314876j,\n",
       "        -0.36951578-0.01314876j,  0.35076623+0.j        ,\n",
       "        -0.07833889-0.1620639j , -0.07833889+0.1620639j ]])"
      ]
     },
     "execution_count": 37,
     "metadata": {},
     "output_type": "execute_result"
    }
   ],
   "source": [
    "avecs"
   ]
  },
  {
   "cell_type": "code",
   "execution_count": 180,
   "metadata": {},
   "outputs": [
    {
     "data": {
      "text/plain": [
       "array([-0.8794507 , -0.17288347, -0.44348368])"
      ]
     },
     "execution_count": 180,
     "metadata": {},
     "output_type": "execute_result"
    }
   ],
   "source": [
    "np.real(np.dot(At,avecs)[:, i]) #first col == first eigenvec\n"
   ]
  },
  {
   "cell_type": "code",
   "execution_count": 182,
   "metadata": {},
   "outputs": [
    {
     "data": {
      "text/html": [
       "<div>\n",
       "<style scoped>\n",
       "    .dataframe tbody tr th:only-of-type {\n",
       "        vertical-align: middle;\n",
       "    }\n",
       "\n",
       "    .dataframe tbody tr th {\n",
       "        vertical-align: top;\n",
       "    }\n",
       "\n",
       "    .dataframe thead th {\n",
       "        text-align: right;\n",
       "    }\n",
       "</style>\n",
       "<table border=\"1\" class=\"dataframe\">\n",
       "  <thead>\n",
       "    <tr style=\"text-align: right;\">\n",
       "      <th></th>\n",
       "      <th>0</th>\n",
       "      <th>1</th>\n",
       "      <th>2</th>\n",
       "    </tr>\n",
       "  </thead>\n",
       "  <tbody>\n",
       "    <tr>\n",
       "      <th>0</th>\n",
       "      <td>0.188034</td>\n",
       "      <td>3.478261</td>\n",
       "      <td>0.254237</td>\n",
       "    </tr>\n",
       "    <tr>\n",
       "      <th>1</th>\n",
       "      <td>0.025641</td>\n",
       "      <td>0.782609</td>\n",
       "      <td>0.033898</td>\n",
       "    </tr>\n",
       "    <tr>\n",
       "      <th>2</th>\n",
       "      <td>0.188034</td>\n",
       "      <td>1.565217</td>\n",
       "      <td>0.016949</td>\n",
       "    </tr>\n",
       "  </tbody>\n",
       "</table>\n",
       "</div>"
      ],
      "text/plain": [
       "          0         1         2\n",
       "0  0.188034  3.478261  0.254237\n",
       "1  0.025641  0.782609  0.033898\n",
       "2  0.188034  1.565217  0.016949"
      ]
     },
     "execution_count": 182,
     "metadata": {},
     "output_type": "execute_result"
    }
   ],
   "source": [
    "At"
   ]
  },
  {
   "cell_type": "code",
   "execution_count": 159,
   "metadata": {
    "scrolled": false
   },
   "outputs": [
    {
     "data": {
      "text/plain": [
       "[<matplotlib.lines.Line2D at 0x7fdbdf416e48>]"
      ]
     },
     "execution_count": 159,
     "metadata": {},
     "output_type": "execute_result"
    },
    {
     "data": {
      "image/png": "[encoded data removed]",
      "text/plain": [
       "<Figure size 432x288 with 1 Axes>"
      ]
     },
     "metadata": {},
     "output_type": "display_data"
    }
   ],
   "source": [
    "plt.plot(S.sum(1), np.array(np.real(avecs[:,i])), marker = '.', lw = 0)"
   ]
  },
  {
   "cell_type": "code",
   "execution_count": 146,
   "metadata": {},
   "outputs": [],
   "source": [
    "# avals, avecs = la.eig(M)\n",
    "\n",
    "# i = 0\n",
    "# # print(np.dot(W,avecs)[:, i])\n",
    "# # print(avals[i]*avecs[:,i])\n",
    "# # En gral\n",
    "# # plt.plot(np.real(np.dot(W,avecs)[:, i]), np.real(avals[i]*avecs[:,i]), marker = '.', lw = 0)\n",
    "# # El primer aval es 1\n",
    "# plt.plot(np.real(np.dot(M,avecs)[:, i]), np.real(avecs[:,i]), marker = '.', lw = 0)"
   ]
  },
  {
   "cell_type": "code",
   "execution_count": 250,
   "metadata": {
    "scrolled": false
   },
   "outputs": [],
   "source": [
    "Sgr = pd.DataFrame(S)\n",
    "Sgr.index = pd.cut(Sgr.index, 10)\n",
    "Sgr.columns = pd.cut(Sgr.columns, 10)\n",
    "\n",
    "Sgr_ = Sgr.groupby(level = 0).sum().T\n",
    "Sgr = Sgr_.groupby(level = 0).sum().T\n",
    "\n",
    "Sgr = Sgr.values"
   ]
  },
  {
   "cell_type": "code",
   "execution_count": 251,
   "metadata": {},
   "outputs": [],
   "source": [
    "Sgr.sum(1)\n",
    "Wgr = Sgr/Sgr.sum(0)\n"
   ]
  },
  {
   "cell_type": "code",
   "execution_count": 252,
   "metadata": {},
   "outputs": [
    {
     "data": {
      "text/plain": [
       "[<matplotlib.lines.Line2D at 0x7f9c3a59e128>]"
      ]
     },
     "execution_count": 252,
     "metadata": {},
     "output_type": "execute_result"
    },
    {
     "data": {
      "image/png": "[encoded data removed]",
      "text/plain": [
       "<Figure size 432x288 with 1 Axes>"
      ]
     },
     "metadata": {},
     "output_type": "display_data"
    }
   ],
   "source": [
    "avalsgr, avecsgr = la.eig(Wgr)\n",
    "plt.plot(np.real(np.dot(Wgr,avecsgr)[:, i]), np.real(avecsgr[:,i]), marker = '.', lw = 0)"
   ]
  },
  {
   "cell_type": "code",
   "execution_count": 253,
   "metadata": {},
   "outputs": [
    {
     "data": {
      "text/plain": [
       "(-0.009, 0.9]    0.313357\n",
       "(0.9, 1.8]       0.322391\n",
       "(1.8, 2.7]       0.301305\n",
       "(2.7, 3.6]       0.327457\n",
       "(3.6, 4.5]       0.322269\n",
       "(4.5, 5.4]       0.299049\n",
       "(5.4, 6.3]       0.325632\n",
       "(6.3, 7.2]       0.319324\n",
       "(7.2, 8.1]       0.304797\n",
       "(8.1, 9.0]       0.325063\n",
       "dtype: float64"
      ]
     },
     "execution_count": 253,
     "metadata": {},
     "output_type": "execute_result"
    }
   ],
   "source": [
    "# Vector (solucion estacionaria de ventas) (agrupadas)\n",
    "sol = pd.Series(np.real(avecsgr[:,i]))\n",
    "sol_gr = sol.copy()\n",
    "sol_gr.index = pd.cut(sol.index, 10)\n",
    "sol_gr = sol_gr.groupby(level = 0).sum()\n",
    "sol_gr"
   ]
  },
  {
   "cell_type": "code",
   "execution_count": 254,
   "metadata": {},
   "outputs": [
    {
     "data": {
      "text/plain": [
       "array([0.31335721, 0.32239139, 0.3013046 , 0.32745713, 0.32226926,\n",
       "       0.29904869, 0.3256317 , 0.31932389, 0.30479668, 0.32506315])"
      ]
     },
     "execution_count": 254,
     "metadata": {},
     "output_type": "execute_result"
    }
   ],
   "source": [
    "# Vector (solucion estacionaria) de (ventas agrupadas)\n",
    "np.real(avecsgr[:,i])"
   ]
  },
  {
   "cell_type": "code",
   "execution_count": 255,
   "metadata": {},
   "outputs": [
    {
     "data": {
      "text/plain": [
       "(50, 50)"
      ]
     },
     "execution_count": 255,
     "metadata": {},
     "output_type": "execute_result"
    }
   ],
   "source": [
    "W.shape"
   ]
  },
  {
   "cell_type": "code",
   "execution_count": 256,
   "metadata": {},
   "outputs": [
    {
     "data": {
      "text/plain": [
       "(10, 10)"
      ]
     },
     "execution_count": 256,
     "metadata": {},
     "output_type": "execute_result"
    }
   ],
   "source": [
    "Wgr.shape"
   ]
  },
  {
   "cell_type": "code",
   "execution_count": null,
   "metadata": {},
   "outputs": [],
   "source": []
  },
  {
   "cell_type": "code",
   "execution_count": 257,
   "metadata": {},
   "outputs": [
    {
     "data": {
      "text/html": [
       "<div>\n",
       "<style scoped>\n",
       "    .dataframe tbody tr th:only-of-type {\n",
       "        vertical-align: middle;\n",
       "    }\n",
       "\n",
       "    .dataframe tbody tr th {\n",
       "        vertical-align: top;\n",
       "    }\n",
       "\n",
       "    .dataframe thead th {\n",
       "        text-align: right;\n",
       "    }\n",
       "</style>\n",
       "<table border=\"1\" class=\"dataframe\">\n",
       "  <thead>\n",
       "    <tr style=\"text-align: right;\">\n",
       "      <th></th>\n",
       "      <th>0</th>\n",
       "      <th>1</th>\n",
       "      <th>2</th>\n",
       "      <th>3</th>\n",
       "      <th>4</th>\n",
       "      <th>5</th>\n",
       "      <th>6</th>\n",
       "      <th>7</th>\n",
       "      <th>8</th>\n",
       "      <th>9</th>\n",
       "    </tr>\n",
       "  </thead>\n",
       "  <tbody>\n",
       "    <tr>\n",
       "      <th>0</th>\n",
       "      <td>0.095474</td>\n",
       "      <td>0.105233</td>\n",
       "      <td>0.083470</td>\n",
       "      <td>0.098865</td>\n",
       "      <td>0.099815</td>\n",
       "      <td>0.112850</td>\n",
       "      <td>0.111315</td>\n",
       "      <td>0.092247</td>\n",
       "      <td>0.098994</td>\n",
       "      <td>0.096341</td>\n",
       "    </tr>\n",
       "    <tr>\n",
       "      <th>1</th>\n",
       "      <td>0.093281</td>\n",
       "      <td>0.090013</td>\n",
       "      <td>0.125097</td>\n",
       "      <td>0.091094</td>\n",
       "      <td>0.123556</td>\n",
       "      <td>0.089261</td>\n",
       "      <td>0.089075</td>\n",
       "      <td>0.106057</td>\n",
       "      <td>0.099233</td>\n",
       "      <td>0.105048</td>\n",
       "    </tr>\n",
       "    <tr>\n",
       "      <th>2</th>\n",
       "      <td>0.070961</td>\n",
       "      <td>0.092678</td>\n",
       "      <td>0.085135</td>\n",
       "      <td>0.094474</td>\n",
       "      <td>0.099712</td>\n",
       "      <td>0.118139</td>\n",
       "      <td>0.101017</td>\n",
       "      <td>0.103802</td>\n",
       "      <td>0.094670</td>\n",
       "      <td>0.090428</td>\n",
       "    </tr>\n",
       "    <tr>\n",
       "      <th>3</th>\n",
       "      <td>0.119000</td>\n",
       "      <td>0.106851</td>\n",
       "      <td>0.096913</td>\n",
       "      <td>0.112748</td>\n",
       "      <td>0.096844</td>\n",
       "      <td>0.080100</td>\n",
       "      <td>0.107815</td>\n",
       "      <td>0.109482</td>\n",
       "      <td>0.108665</td>\n",
       "      <td>0.101960</td>\n",
       "    </tr>\n",
       "    <tr>\n",
       "      <th>4</th>\n",
       "      <td>0.104857</td>\n",
       "      <td>0.097044</td>\n",
       "      <td>0.094358</td>\n",
       "      <td>0.108601</td>\n",
       "      <td>0.106314</td>\n",
       "      <td>0.092074</td>\n",
       "      <td>0.110939</td>\n",
       "      <td>0.108598</td>\n",
       "      <td>0.095595</td>\n",
       "      <td>0.100414</td>\n",
       "    </tr>\n",
       "    <tr>\n",
       "      <th>5</th>\n",
       "      <td>0.095612</td>\n",
       "      <td>0.091412</td>\n",
       "      <td>0.102623</td>\n",
       "      <td>0.096521</td>\n",
       "      <td>0.085749</td>\n",
       "      <td>0.107417</td>\n",
       "      <td>0.082399</td>\n",
       "      <td>0.085886</td>\n",
       "      <td>0.089225</td>\n",
       "      <td>0.106883</td>\n",
       "    </tr>\n",
       "    <tr>\n",
       "      <th>6</th>\n",
       "      <td>0.108680</td>\n",
       "      <td>0.108144</td>\n",
       "      <td>0.101455</td>\n",
       "      <td>0.091285</td>\n",
       "      <td>0.098964</td>\n",
       "      <td>0.114220</td>\n",
       "      <td>0.094137</td>\n",
       "      <td>0.100576</td>\n",
       "      <td>0.111271</td>\n",
       "      <td>0.103605</td>\n",
       "    </tr>\n",
       "    <tr>\n",
       "      <th>7</th>\n",
       "      <td>0.109256</td>\n",
       "      <td>0.116882</td>\n",
       "      <td>0.107382</td>\n",
       "      <td>0.102478</td>\n",
       "      <td>0.085757</td>\n",
       "      <td>0.091322</td>\n",
       "      <td>0.104977</td>\n",
       "      <td>0.098277</td>\n",
       "      <td>0.115621</td>\n",
       "      <td>0.085939</td>\n",
       "    </tr>\n",
       "    <tr>\n",
       "      <th>8</th>\n",
       "      <td>0.095882</td>\n",
       "      <td>0.093253</td>\n",
       "      <td>0.101835</td>\n",
       "      <td>0.093542</td>\n",
       "      <td>0.110514</td>\n",
       "      <td>0.092158</td>\n",
       "      <td>0.088057</td>\n",
       "      <td>0.099385</td>\n",
       "      <td>0.082017</td>\n",
       "      <td>0.104437</td>\n",
       "    </tr>\n",
       "    <tr>\n",
       "      <th>9</th>\n",
       "      <td>0.106999</td>\n",
       "      <td>0.098491</td>\n",
       "      <td>0.101732</td>\n",
       "      <td>0.110392</td>\n",
       "      <td>0.092776</td>\n",
       "      <td>0.102459</td>\n",
       "      <td>0.110269</td>\n",
       "      <td>0.095690</td>\n",
       "      <td>0.104709</td>\n",
       "      <td>0.104946</td>\n",
       "    </tr>\n",
       "  </tbody>\n",
       "</table>\n",
       "</div>"
      ],
      "text/plain": [
       "          0         1         2         3         4         5         6  \\\n",
       "0  0.095474  0.105233  0.083470  0.098865  0.099815  0.112850  0.111315   \n",
       "1  0.093281  0.090013  0.125097  0.091094  0.123556  0.089261  0.089075   \n",
       "2  0.070961  0.092678  0.085135  0.094474  0.099712  0.118139  0.101017   \n",
       "3  0.119000  0.106851  0.096913  0.112748  0.096844  0.080100  0.107815   \n",
       "4  0.104857  0.097044  0.094358  0.108601  0.106314  0.092074  0.110939   \n",
       "5  0.095612  0.091412  0.102623  0.096521  0.085749  0.107417  0.082399   \n",
       "6  0.108680  0.108144  0.101455  0.091285  0.098964  0.114220  0.094137   \n",
       "7  0.109256  0.116882  0.107382  0.102478  0.085757  0.091322  0.104977   \n",
       "8  0.095882  0.093253  0.101835  0.093542  0.110514  0.092158  0.088057   \n",
       "9  0.106999  0.098491  0.101732  0.110392  0.092776  0.102459  0.110269   \n",
       "\n",
       "          7         8         9  \n",
       "0  0.092247  0.098994  0.096341  \n",
       "1  0.106057  0.099233  0.105048  \n",
       "2  0.103802  0.094670  0.090428  \n",
       "3  0.109482  0.108665  0.101960  \n",
       "4  0.108598  0.095595  0.100414  \n",
       "5  0.085886  0.089225  0.106883  \n",
       "6  0.100576  0.111271  0.103605  \n",
       "7  0.098277  0.115621  0.085939  \n",
       "8  0.099385  0.082017  0.104437  \n",
       "9  0.095690  0.104709  0.104946  "
      ]
     },
     "execution_count": 257,
     "metadata": {},
     "output_type": "execute_result"
    }
   ],
   "source": [
    "\n",
    "Wgr2 = pd.DataFrame(W)\n",
    "Wgr2.index = pd.cut(Wgr2.index, 10)\n",
    "Wgr2.columns = pd.cut(Wgr2.columns, 10)\n",
    "\n",
    "Wgr_ = Wgr2.groupby(level = 0).sum().T\n",
    "Wgr2 = Wgr_.groupby(level = 0).sum().T\n",
    "Wgr2 = pd.DataFrame(Wgr2.values/5)\n",
    "Wgr2"
   ]
  },
  {
   "cell_type": "code",
   "execution_count": 265,
   "metadata": {},
   "outputs": [
    {
     "data": {
      "text/html": [
       "<div>\n",
       "<style scoped>\n",
       "    .dataframe tbody tr th:only-of-type {\n",
       "        vertical-align: middle;\n",
       "    }\n",
       "\n",
       "    .dataframe tbody tr th {\n",
       "        vertical-align: top;\n",
       "    }\n",
       "\n",
       "    .dataframe thead th {\n",
       "        text-align: right;\n",
       "    }\n",
       "</style>\n",
       "<table border=\"1\" class=\"dataframe\">\n",
       "  <thead>\n",
       "    <tr style=\"text-align: right;\">\n",
       "      <th></th>\n",
       "      <th>0</th>\n",
       "      <th>1</th>\n",
       "      <th>2</th>\n",
       "      <th>3</th>\n",
       "      <th>4</th>\n",
       "      <th>5</th>\n",
       "      <th>6</th>\n",
       "      <th>7</th>\n",
       "      <th>8</th>\n",
       "      <th>9</th>\n",
       "    </tr>\n",
       "  </thead>\n",
       "  <tbody>\n",
       "    <tr>\n",
       "      <th>0</th>\n",
       "      <td>0.000</td>\n",
       "      <td>0.000</td>\n",
       "      <td>0.001</td>\n",
       "      <td>-0.002</td>\n",
       "      <td>-0.002</td>\n",
       "      <td>-0.000</td>\n",
       "      <td>-0.001</td>\n",
       "      <td>0.000</td>\n",
       "      <td>-0.000</td>\n",
       "      <td>0.000</td>\n",
       "    </tr>\n",
       "    <tr>\n",
       "      <th>1</th>\n",
       "      <td>0.001</td>\n",
       "      <td>0.002</td>\n",
       "      <td>-0.000</td>\n",
       "      <td>0.000</td>\n",
       "      <td>0.000</td>\n",
       "      <td>0.001</td>\n",
       "      <td>-0.000</td>\n",
       "      <td>0.002</td>\n",
       "      <td>0.001</td>\n",
       "      <td>0.002</td>\n",
       "    </tr>\n",
       "    <tr>\n",
       "      <th>2</th>\n",
       "      <td>0.000</td>\n",
       "      <td>-0.001</td>\n",
       "      <td>-0.001</td>\n",
       "      <td>0.001</td>\n",
       "      <td>0.001</td>\n",
       "      <td>0.001</td>\n",
       "      <td>0.000</td>\n",
       "      <td>0.001</td>\n",
       "      <td>-0.000</td>\n",
       "      <td>-0.000</td>\n",
       "    </tr>\n",
       "    <tr>\n",
       "      <th>3</th>\n",
       "      <td>-0.002</td>\n",
       "      <td>-0.001</td>\n",
       "      <td>-0.000</td>\n",
       "      <td>0.000</td>\n",
       "      <td>0.001</td>\n",
       "      <td>-0.001</td>\n",
       "      <td>0.000</td>\n",
       "      <td>-0.002</td>\n",
       "      <td>-0.001</td>\n",
       "      <td>-0.001</td>\n",
       "    </tr>\n",
       "    <tr>\n",
       "      <th>4</th>\n",
       "      <td>0.001</td>\n",
       "      <td>0.002</td>\n",
       "      <td>-0.001</td>\n",
       "      <td>0.000</td>\n",
       "      <td>0.001</td>\n",
       "      <td>-0.000</td>\n",
       "      <td>-0.001</td>\n",
       "      <td>-0.001</td>\n",
       "      <td>0.001</td>\n",
       "      <td>-0.002</td>\n",
       "    </tr>\n",
       "    <tr>\n",
       "      <th>5</th>\n",
       "      <td>0.002</td>\n",
       "      <td>0.000</td>\n",
       "      <td>0.003</td>\n",
       "      <td>-0.000</td>\n",
       "      <td>0.000</td>\n",
       "      <td>0.001</td>\n",
       "      <td>0.001</td>\n",
       "      <td>-0.001</td>\n",
       "      <td>0.000</td>\n",
       "      <td>-0.001</td>\n",
       "    </tr>\n",
       "    <tr>\n",
       "      <th>6</th>\n",
       "      <td>0.002</td>\n",
       "      <td>0.002</td>\n",
       "      <td>-0.000</td>\n",
       "      <td>0.001</td>\n",
       "      <td>-0.001</td>\n",
       "      <td>-0.002</td>\n",
       "      <td>-0.001</td>\n",
       "      <td>0.001</td>\n",
       "      <td>-0.000</td>\n",
       "      <td>-0.000</td>\n",
       "    </tr>\n",
       "    <tr>\n",
       "      <th>7</th>\n",
       "      <td>-0.001</td>\n",
       "      <td>-0.002</td>\n",
       "      <td>-0.002</td>\n",
       "      <td>-0.000</td>\n",
       "      <td>-0.000</td>\n",
       "      <td>-0.001</td>\n",
       "      <td>-0.001</td>\n",
       "      <td>0.000</td>\n",
       "      <td>-0.000</td>\n",
       "      <td>0.001</td>\n",
       "    </tr>\n",
       "    <tr>\n",
       "      <th>8</th>\n",
       "      <td>-0.001</td>\n",
       "      <td>-0.001</td>\n",
       "      <td>0.002</td>\n",
       "      <td>0.001</td>\n",
       "      <td>-0.001</td>\n",
       "      <td>-0.000</td>\n",
       "      <td>0.002</td>\n",
       "      <td>0.001</td>\n",
       "      <td>-0.000</td>\n",
       "      <td>0.001</td>\n",
       "    </tr>\n",
       "    <tr>\n",
       "      <th>9</th>\n",
       "      <td>-0.002</td>\n",
       "      <td>-0.001</td>\n",
       "      <td>-0.001</td>\n",
       "      <td>-0.000</td>\n",
       "      <td>0.001</td>\n",
       "      <td>0.002</td>\n",
       "      <td>0.000</td>\n",
       "      <td>-0.001</td>\n",
       "      <td>0.001</td>\n",
       "      <td>0.001</td>\n",
       "    </tr>\n",
       "  </tbody>\n",
       "</table>\n",
       "</div>"
      ],
      "text/plain": [
       "       0      1      2      3      4      5      6      7      8      9\n",
       "0  0.000  0.000  0.001 -0.002 -0.002 -0.000 -0.001  0.000 -0.000  0.000\n",
       "1  0.001  0.002 -0.000  0.000  0.000  0.001 -0.000  0.002  0.001  0.002\n",
       "2  0.000 -0.001 -0.001  0.001  0.001  0.001  0.000  0.001 -0.000 -0.000\n",
       "3 -0.002 -0.001 -0.000  0.000  0.001 -0.001  0.000 -0.002 -0.001 -0.001\n",
       "4  0.001  0.002 -0.001  0.000  0.001 -0.000 -0.001 -0.001  0.001 -0.002\n",
       "5  0.002  0.000  0.003 -0.000  0.000  0.001  0.001 -0.001  0.000 -0.001\n",
       "6  0.002  0.002 -0.000  0.001 -0.001 -0.002 -0.001  0.001 -0.000 -0.000\n",
       "7 -0.001 -0.002 -0.002 -0.000 -0.000 -0.001 -0.001  0.000 -0.000  0.001\n",
       "8 -0.001 -0.001  0.002  0.001 -0.001 -0.000  0.002  0.001 -0.000  0.001\n",
       "9 -0.002 -0.001 -0.001 -0.000  0.001  0.002  0.000 -0.001  0.001  0.001"
      ]
     },
     "execution_count": 265,
     "metadata": {},
     "output_type": "execute_result"
    }
   ],
   "source": [
    "np.round(pd.DataFrame(Wgr) - Wgr2, 3)"
   ]
  },
  {
   "cell_type": "code",
   "execution_count": 83,
   "metadata": {},
   "outputs": [],
   "source": [
    "np.linalg.inv(np.eye(n) - (1 - a)*W.T)"
   ]
  },
  {
   "cell_type": "code",
   "execution_count": 108,
   "metadata": {},
   "outputs": [],
   "source": [
    "\n",
    "M = W\n",
    "\n",
    "avals, avecs = la.eig(M)\n",
    "\n",
    "avals = np.real(avals) # == np.abs(avals)\n",
    "def component(k, avals = avals, avecs = avecs):\n",
    "    uk = np.array(len(avals)*[avecs.T[k]]).reshape(avecs.shape) # la componente k agarra el elemento k de todos los autovectores.\n",
    "    return np.real(avals[k]*np.multiply(uk.T, uk))\n",
    "\n",
    "C_s = component(0) # structural component"
   ]
  },
  {
   "cell_type": "code",
   "execution_count": 109,
   "metadata": {},
   "outputs": [
    {
     "data": {
      "text/plain": [
       "array([ 1.        ,  0.12387875,  0.12387875, -0.21807386, -0.21807386])"
      ]
     },
     "execution_count": 109,
     "metadata": {},
     "output_type": "execute_result"
    }
   ],
   "source": [
    "avals"
   ]
  },
  {
   "cell_type": "code",
   "execution_count": 50,
   "metadata": {},
   "outputs": [
    {
     "data": {
      "text/plain": [
       "<matplotlib.image.AxesImage at 0x7f9c4eb90748>"
      ]
     },
     "execution_count": 50,
     "metadata": {},
     "output_type": "execute_result"
    },
    {
     "data": {
      "image/png": "[encoded data removed]",
      "text/plain": [
       "<Figure size 288x288 with 1 Axes>"
      ]
     },
     "metadata": {},
     "output_type": "display_data"
    }
   ],
   "source": [
    "plt.matshow(np.linalg.inv(np.eye(n) - (1 - a)*W.T))"
   ]
  },
  {
   "cell_type": "code",
   "execution_count": 60,
   "metadata": {},
   "outputs": [
    {
     "data": {
      "text/plain": [
       "array([1.88340807, 1.97309417])"
      ]
     },
     "execution_count": 60,
     "metadata": {},
     "output_type": "execute_result"
    }
   ],
   "source": [
    "np.linalg.inv(np.eye(n) - (1 - a)*W.T).sum(0)"
   ]
  },
  {
   "cell_type": "code",
   "execution_count": 46,
   "metadata": {},
   "outputs": [
    {
     "data": {
      "text/plain": [
       "array([2.68007099, 4.00814586, 3.10529924, 2.77720315, 2.58079591])"
      ]
     },
     "execution_count": 46,
     "metadata": {},
     "output_type": "execute_result"
    }
   ],
   "source": [
    "np.linalg.inv(np.eye(n) - (1 - a)*W.T).sum(0)"
   ]
  },
  {
   "cell_type": "code",
   "execution_count": null,
   "metadata": {},
   "outputs": [],
   "source": []
  }
 ],
 "metadata": {
  "kernelspec": {
   "display_name": "Python 3",
   "language": "python",
   "name": "python3"
  },
  "language_info": {
   "codemirror_mode": {
    "name": "ipython",
    "version": 3
   },
   "file_extension": ".py",
   "mimetype": "text/x-python",
   "name": "python",
   "nbconvert_exporter": "python",
   "pygments_lexer": "ipython3",
   "version": "3.6.7"
  }
 },
 "nbformat": 4,
 "nbformat_minor": 2
}
