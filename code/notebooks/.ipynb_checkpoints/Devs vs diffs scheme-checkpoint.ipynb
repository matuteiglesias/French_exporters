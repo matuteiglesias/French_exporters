{
 "cells": [
  {
   "cell_type": "code",
   "execution_count": 1,
   "metadata": {},
   "outputs": [
    {
     "data": {
      "text/html": [
       "<style>.container { width:100% !important; }</style>"
      ],
      "text/plain": [
       "<IPython.core.display.HTML object>"
      ]
     },
     "metadata": {},
     "output_type": "display_data"
    }
   ],
   "source": [
    "import pandas as pd\n",
    "import matplotlib.pyplot as plt\n",
    "%matplotlib inline\n",
    "import numpy as np\n",
    "\n",
    "from IPython.core.display import display, HTML\n",
    "display(HTML(\"<style>.container { width:100% !important; }</style>\"))"
   ]
  },
  {
   "cell_type": "code",
   "execution_count": 56,
   "metadata": {},
   "outputs": [
    {
     "data": {
      "image/png": "[encoded data removed]",
      "text/plain": [
       "<Figure size 1080x288 with 2 Axes>"
      ]
     },
     "metadata": {},
     "output_type": "display_data"
    }
   ],
   "source": [
    "T = 17\n",
    "\n",
    "x = np.random.normal(0, 1, T)\n",
    "\n",
    "fig, axs = plt.subplots(1, 2, figsize = (15, 4))\n",
    "\n",
    "axs[0].plot(x, marker = '.', lw = 0, c = 'r')\n",
    "axs[0].plot(x, lw = .3, drawstyle = 'steps-post')\n",
    "axs[1].plot(x, marker = '.', lw = 0, c = 'r')\n",
    "\n",
    "# diff = \n",
    "axs[0].vlines(range(1, T), x[1:], x[:-1])\n",
    "axs[1].vlines(range(T), np.mean(x), x)\n",
    "\n",
    "axs[1].axhline(np.mean(x), lw = .3)\n",
    "axs[0].set_ylim(-5, 5)\n",
    "axs[1].set_ylim(-5, 5)\n",
    "axs[0].axis('off')\n",
    "axs[1].axis('off')\n",
    "plt.tight_layout()\n",
    "plt.savefig('./../../../WRITING/paper1_writing/figures/diffs_vs_devs.png')\n",
    "plt.show()"
   ]
  },
  {
   "cell_type": "code",
   "execution_count": null,
   "metadata": {},
   "outputs": [],
   "source": []
  }
 ],
 "metadata": {
  "kernelspec": {
   "display_name": "Python 3",
   "language": "python",
   "name": "python3"
  },
  "language_info": {
   "codemirror_mode": {
    "name": "ipython",
    "version": 3
   },
   "file_extension": ".py",
   "mimetype": "text/x-python",
   "name": "python",
   "nbconvert_exporter": "python",
   "pygments_lexer": "ipython3",
   "version": "3.6.7"
  }
 },
 "nbformat": 4,
 "nbformat_minor": 2
}
