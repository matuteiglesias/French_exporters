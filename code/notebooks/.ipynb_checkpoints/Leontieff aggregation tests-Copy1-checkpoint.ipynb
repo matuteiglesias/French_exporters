{
 "cells": [
  {
   "cell_type": "code",
   "execution_count": 178,
   "metadata": {},
   "outputs": [],
   "source": [
    "import pandas as pd\n",
    "import numpy as np\n",
    "\n",
    "import scipy.linalg as la\n",
    "from numpy.linalg import matrix_power\n",
    "\n",
    "def highlight(s):\n",
    "    '''\n",
    "    highlight yellow.\n",
    "    '''\n",
    "#     is_max = s == s.max()\n",
    "    is_max = s > 0\n",
    "    return ['background-color: yellow' if v else '' for v in is_max]\n",
    "\n"
   ]
  },
  {
   "cell_type": "code",
   "execution_count": 179,
   "metadata": {},
   "outputs": [],
   "source": [
    "d = 3\n",
    "n = d**2\n",
    "\n",
    "s = np.zeros((n, n))"
   ]
  },
  {
   "cell_type": "code",
   "execution_count": 180,
   "metadata": {},
   "outputs": [],
   "source": [
    "b = np.array([[1, 3, 6], [1, 3, 6], [1, 3, 6]])\n",
    "\n",
    "b = (b*b.T)/sum(b[0])\n",
    "\n",
    "s[:3, :3] = b\n",
    "s[3:6, 3:6] = b\n",
    "s[6:, 6:] = b\n",
    "# s[:3, :3] = b"
   ]
  },
  {
   "cell_type": "code",
   "execution_count": null,
   "metadata": {},
   "outputs": [],
   "source": []
  },
  {
   "cell_type": "code",
   "execution_count": 181,
   "metadata": {},
   "outputs": [],
   "source": [
    "## Reshuffling firm index just reshuffles the Leontieff matrix, but it can be brought back. "
   ]
  },
  {
   "cell_type": "code",
   "execution_count": 182,
   "metadata": {},
   "outputs": [],
   "source": [
    "\n",
    "sint = pd.DataFrame(s, columns=np.arange(1, n+1), index = np.arange(1, n+1))\n",
    "\n",
    "c = pd.Series(n*[1], index = sint.index)\n",
    "stot = sint.sum(1) + c\n",
    "\n",
    "r = sint.div(stot, axis = 1)\n",
    "i = np.eye(n)\n",
    "# R.dot(stot) ( == sint)\n",
    "\n",
    "l = la.inv(i - r)\n",
    "ldf = pd.DataFrame(l, index = sint.index, columns=sint.columns)\n"
   ]
  },
  {
   "cell_type": "code",
   "execution_count": 183,
   "metadata": {},
   "outputs": [
    {
     "data": {
      "text/html": [
       "<style  type=\"text/css\" >\n",
       "    #T_bd79cd68_ef98_11ea_a637_5ce0c5892623row0_col0 {\n",
       "            background-color:  yellow;\n",
       "        }    #T_bd79cd68_ef98_11ea_a637_5ce0c5892623row0_col1 {\n",
       "            background-color:  yellow;\n",
       "        }    #T_bd79cd68_ef98_11ea_a637_5ce0c5892623row0_col2 {\n",
       "            background-color:  yellow;\n",
       "        }    #T_bd79cd68_ef98_11ea_a637_5ce0c5892623row1_col0 {\n",
       "            background-color:  yellow;\n",
       "        }    #T_bd79cd68_ef98_11ea_a637_5ce0c5892623row1_col1 {\n",
       "            background-color:  yellow;\n",
       "        }    #T_bd79cd68_ef98_11ea_a637_5ce0c5892623row1_col2 {\n",
       "            background-color:  yellow;\n",
       "        }    #T_bd79cd68_ef98_11ea_a637_5ce0c5892623row2_col0 {\n",
       "            background-color:  yellow;\n",
       "        }    #T_bd79cd68_ef98_11ea_a637_5ce0c5892623row2_col1 {\n",
       "            background-color:  yellow;\n",
       "        }    #T_bd79cd68_ef98_11ea_a637_5ce0c5892623row2_col2 {\n",
       "            background-color:  yellow;\n",
       "        }    #T_bd79cd68_ef98_11ea_a637_5ce0c5892623row3_col3 {\n",
       "            background-color:  yellow;\n",
       "        }    #T_bd79cd68_ef98_11ea_a637_5ce0c5892623row3_col4 {\n",
       "            background-color:  yellow;\n",
       "        }    #T_bd79cd68_ef98_11ea_a637_5ce0c5892623row3_col5 {\n",
       "            background-color:  yellow;\n",
       "        }    #T_bd79cd68_ef98_11ea_a637_5ce0c5892623row4_col3 {\n",
       "            background-color:  yellow;\n",
       "        }    #T_bd79cd68_ef98_11ea_a637_5ce0c5892623row4_col4 {\n",
       "            background-color:  yellow;\n",
       "        }    #T_bd79cd68_ef98_11ea_a637_5ce0c5892623row4_col5 {\n",
       "            background-color:  yellow;\n",
       "        }    #T_bd79cd68_ef98_11ea_a637_5ce0c5892623row5_col3 {\n",
       "            background-color:  yellow;\n",
       "        }    #T_bd79cd68_ef98_11ea_a637_5ce0c5892623row5_col4 {\n",
       "            background-color:  yellow;\n",
       "        }    #T_bd79cd68_ef98_11ea_a637_5ce0c5892623row5_col5 {\n",
       "            background-color:  yellow;\n",
       "        }    #T_bd79cd68_ef98_11ea_a637_5ce0c5892623row6_col6 {\n",
       "            background-color:  yellow;\n",
       "        }    #T_bd79cd68_ef98_11ea_a637_5ce0c5892623row6_col7 {\n",
       "            background-color:  yellow;\n",
       "        }    #T_bd79cd68_ef98_11ea_a637_5ce0c5892623row6_col8 {\n",
       "            background-color:  yellow;\n",
       "        }    #T_bd79cd68_ef98_11ea_a637_5ce0c5892623row7_col6 {\n",
       "            background-color:  yellow;\n",
       "        }    #T_bd79cd68_ef98_11ea_a637_5ce0c5892623row7_col7 {\n",
       "            background-color:  yellow;\n",
       "        }    #T_bd79cd68_ef98_11ea_a637_5ce0c5892623row7_col8 {\n",
       "            background-color:  yellow;\n",
       "        }    #T_bd79cd68_ef98_11ea_a637_5ce0c5892623row8_col6 {\n",
       "            background-color:  yellow;\n",
       "        }    #T_bd79cd68_ef98_11ea_a637_5ce0c5892623row8_col7 {\n",
       "            background-color:  yellow;\n",
       "        }    #T_bd79cd68_ef98_11ea_a637_5ce0c5892623row8_col8 {\n",
       "            background-color:  yellow;\n",
       "        }</style><table id=\"T_bd79cd68_ef98_11ea_a637_5ce0c5892623\" ><thead>    <tr>        <th class=\"blank level0\" ></th>        <th class=\"col_heading level0 col0\" >1</th>        <th class=\"col_heading level0 col1\" >2</th>        <th class=\"col_heading level0 col2\" >3</th>        <th class=\"col_heading level0 col3\" >4</th>        <th class=\"col_heading level0 col4\" >5</th>        <th class=\"col_heading level0 col5\" >6</th>        <th class=\"col_heading level0 col6\" >7</th>        <th class=\"col_heading level0 col7\" >8</th>        <th class=\"col_heading level0 col8\" >9</th>    </tr></thead><tbody>\n",
       "                <tr>\n",
       "                        <th id=\"T_bd79cd68_ef98_11ea_a637_5ce0c5892623level0_row0\" class=\"row_heading level0 row0\" >1</th>\n",
       "                        <td id=\"T_bd79cd68_ef98_11ea_a637_5ce0c5892623row0_col0\" class=\"data row0 col0\" >0.1</td>\n",
       "                        <td id=\"T_bd79cd68_ef98_11ea_a637_5ce0c5892623row0_col1\" class=\"data row0 col1\" >0.3</td>\n",
       "                        <td id=\"T_bd79cd68_ef98_11ea_a637_5ce0c5892623row0_col2\" class=\"data row0 col2\" >0.6</td>\n",
       "                        <td id=\"T_bd79cd68_ef98_11ea_a637_5ce0c5892623row0_col3\" class=\"data row0 col3\" >0</td>\n",
       "                        <td id=\"T_bd79cd68_ef98_11ea_a637_5ce0c5892623row0_col4\" class=\"data row0 col4\" >0</td>\n",
       "                        <td id=\"T_bd79cd68_ef98_11ea_a637_5ce0c5892623row0_col5\" class=\"data row0 col5\" >0</td>\n",
       "                        <td id=\"T_bd79cd68_ef98_11ea_a637_5ce0c5892623row0_col6\" class=\"data row0 col6\" >0</td>\n",
       "                        <td id=\"T_bd79cd68_ef98_11ea_a637_5ce0c5892623row0_col7\" class=\"data row0 col7\" >0</td>\n",
       "                        <td id=\"T_bd79cd68_ef98_11ea_a637_5ce0c5892623row0_col8\" class=\"data row0 col8\" >0</td>\n",
       "            </tr>\n",
       "            <tr>\n",
       "                        <th id=\"T_bd79cd68_ef98_11ea_a637_5ce0c5892623level0_row1\" class=\"row_heading level0 row1\" >2</th>\n",
       "                        <td id=\"T_bd79cd68_ef98_11ea_a637_5ce0c5892623row1_col0\" class=\"data row1 col0\" >0.3</td>\n",
       "                        <td id=\"T_bd79cd68_ef98_11ea_a637_5ce0c5892623row1_col1\" class=\"data row1 col1\" >0.9</td>\n",
       "                        <td id=\"T_bd79cd68_ef98_11ea_a637_5ce0c5892623row1_col2\" class=\"data row1 col2\" >1.8</td>\n",
       "                        <td id=\"T_bd79cd68_ef98_11ea_a637_5ce0c5892623row1_col3\" class=\"data row1 col3\" >0</td>\n",
       "                        <td id=\"T_bd79cd68_ef98_11ea_a637_5ce0c5892623row1_col4\" class=\"data row1 col4\" >0</td>\n",
       "                        <td id=\"T_bd79cd68_ef98_11ea_a637_5ce0c5892623row1_col5\" class=\"data row1 col5\" >0</td>\n",
       "                        <td id=\"T_bd79cd68_ef98_11ea_a637_5ce0c5892623row1_col6\" class=\"data row1 col6\" >0</td>\n",
       "                        <td id=\"T_bd79cd68_ef98_11ea_a637_5ce0c5892623row1_col7\" class=\"data row1 col7\" >0</td>\n",
       "                        <td id=\"T_bd79cd68_ef98_11ea_a637_5ce0c5892623row1_col8\" class=\"data row1 col8\" >0</td>\n",
       "            </tr>\n",
       "            <tr>\n",
       "                        <th id=\"T_bd79cd68_ef98_11ea_a637_5ce0c5892623level0_row2\" class=\"row_heading level0 row2\" >3</th>\n",
       "                        <td id=\"T_bd79cd68_ef98_11ea_a637_5ce0c5892623row2_col0\" class=\"data row2 col0\" >0.6</td>\n",
       "                        <td id=\"T_bd79cd68_ef98_11ea_a637_5ce0c5892623row2_col1\" class=\"data row2 col1\" >1.8</td>\n",
       "                        <td id=\"T_bd79cd68_ef98_11ea_a637_5ce0c5892623row2_col2\" class=\"data row2 col2\" >3.6</td>\n",
       "                        <td id=\"T_bd79cd68_ef98_11ea_a637_5ce0c5892623row2_col3\" class=\"data row2 col3\" >0</td>\n",
       "                        <td id=\"T_bd79cd68_ef98_11ea_a637_5ce0c5892623row2_col4\" class=\"data row2 col4\" >0</td>\n",
       "                        <td id=\"T_bd79cd68_ef98_11ea_a637_5ce0c5892623row2_col5\" class=\"data row2 col5\" >0</td>\n",
       "                        <td id=\"T_bd79cd68_ef98_11ea_a637_5ce0c5892623row2_col6\" class=\"data row2 col6\" >0</td>\n",
       "                        <td id=\"T_bd79cd68_ef98_11ea_a637_5ce0c5892623row2_col7\" class=\"data row2 col7\" >0</td>\n",
       "                        <td id=\"T_bd79cd68_ef98_11ea_a637_5ce0c5892623row2_col8\" class=\"data row2 col8\" >0</td>\n",
       "            </tr>\n",
       "            <tr>\n",
       "                        <th id=\"T_bd79cd68_ef98_11ea_a637_5ce0c5892623level0_row3\" class=\"row_heading level0 row3\" >4</th>\n",
       "                        <td id=\"T_bd79cd68_ef98_11ea_a637_5ce0c5892623row3_col0\" class=\"data row3 col0\" >0</td>\n",
       "                        <td id=\"T_bd79cd68_ef98_11ea_a637_5ce0c5892623row3_col1\" class=\"data row3 col1\" >0</td>\n",
       "                        <td id=\"T_bd79cd68_ef98_11ea_a637_5ce0c5892623row3_col2\" class=\"data row3 col2\" >0</td>\n",
       "                        <td id=\"T_bd79cd68_ef98_11ea_a637_5ce0c5892623row3_col3\" class=\"data row3 col3\" >0.1</td>\n",
       "                        <td id=\"T_bd79cd68_ef98_11ea_a637_5ce0c5892623row3_col4\" class=\"data row3 col4\" >0.3</td>\n",
       "                        <td id=\"T_bd79cd68_ef98_11ea_a637_5ce0c5892623row3_col5\" class=\"data row3 col5\" >0.6</td>\n",
       "                        <td id=\"T_bd79cd68_ef98_11ea_a637_5ce0c5892623row3_col6\" class=\"data row3 col6\" >0</td>\n",
       "                        <td id=\"T_bd79cd68_ef98_11ea_a637_5ce0c5892623row3_col7\" class=\"data row3 col7\" >0</td>\n",
       "                        <td id=\"T_bd79cd68_ef98_11ea_a637_5ce0c5892623row3_col8\" class=\"data row3 col8\" >0</td>\n",
       "            </tr>\n",
       "            <tr>\n",
       "                        <th id=\"T_bd79cd68_ef98_11ea_a637_5ce0c5892623level0_row4\" class=\"row_heading level0 row4\" >5</th>\n",
       "                        <td id=\"T_bd79cd68_ef98_11ea_a637_5ce0c5892623row4_col0\" class=\"data row4 col0\" >0</td>\n",
       "                        <td id=\"T_bd79cd68_ef98_11ea_a637_5ce0c5892623row4_col1\" class=\"data row4 col1\" >0</td>\n",
       "                        <td id=\"T_bd79cd68_ef98_11ea_a637_5ce0c5892623row4_col2\" class=\"data row4 col2\" >0</td>\n",
       "                        <td id=\"T_bd79cd68_ef98_11ea_a637_5ce0c5892623row4_col3\" class=\"data row4 col3\" >0.3</td>\n",
       "                        <td id=\"T_bd79cd68_ef98_11ea_a637_5ce0c5892623row4_col4\" class=\"data row4 col4\" >0.9</td>\n",
       "                        <td id=\"T_bd79cd68_ef98_11ea_a637_5ce0c5892623row4_col5\" class=\"data row4 col5\" >1.8</td>\n",
       "                        <td id=\"T_bd79cd68_ef98_11ea_a637_5ce0c5892623row4_col6\" class=\"data row4 col6\" >0</td>\n",
       "                        <td id=\"T_bd79cd68_ef98_11ea_a637_5ce0c5892623row4_col7\" class=\"data row4 col7\" >0</td>\n",
       "                        <td id=\"T_bd79cd68_ef98_11ea_a637_5ce0c5892623row4_col8\" class=\"data row4 col8\" >0</td>\n",
       "            </tr>\n",
       "            <tr>\n",
       "                        <th id=\"T_bd79cd68_ef98_11ea_a637_5ce0c5892623level0_row5\" class=\"row_heading level0 row5\" >6</th>\n",
       "                        <td id=\"T_bd79cd68_ef98_11ea_a637_5ce0c5892623row5_col0\" class=\"data row5 col0\" >0</td>\n",
       "                        <td id=\"T_bd79cd68_ef98_11ea_a637_5ce0c5892623row5_col1\" class=\"data row5 col1\" >0</td>\n",
       "                        <td id=\"T_bd79cd68_ef98_11ea_a637_5ce0c5892623row5_col2\" class=\"data row5 col2\" >0</td>\n",
       "                        <td id=\"T_bd79cd68_ef98_11ea_a637_5ce0c5892623row5_col3\" class=\"data row5 col3\" >0.6</td>\n",
       "                        <td id=\"T_bd79cd68_ef98_11ea_a637_5ce0c5892623row5_col4\" class=\"data row5 col4\" >1.8</td>\n",
       "                        <td id=\"T_bd79cd68_ef98_11ea_a637_5ce0c5892623row5_col5\" class=\"data row5 col5\" >3.6</td>\n",
       "                        <td id=\"T_bd79cd68_ef98_11ea_a637_5ce0c5892623row5_col6\" class=\"data row5 col6\" >0</td>\n",
       "                        <td id=\"T_bd79cd68_ef98_11ea_a637_5ce0c5892623row5_col7\" class=\"data row5 col7\" >0</td>\n",
       "                        <td id=\"T_bd79cd68_ef98_11ea_a637_5ce0c5892623row5_col8\" class=\"data row5 col8\" >0</td>\n",
       "            </tr>\n",
       "            <tr>\n",
       "                        <th id=\"T_bd79cd68_ef98_11ea_a637_5ce0c5892623level0_row6\" class=\"row_heading level0 row6\" >7</th>\n",
       "                        <td id=\"T_bd79cd68_ef98_11ea_a637_5ce0c5892623row6_col0\" class=\"data row6 col0\" >0</td>\n",
       "                        <td id=\"T_bd79cd68_ef98_11ea_a637_5ce0c5892623row6_col1\" class=\"data row6 col1\" >0</td>\n",
       "                        <td id=\"T_bd79cd68_ef98_11ea_a637_5ce0c5892623row6_col2\" class=\"data row6 col2\" >0</td>\n",
       "                        <td id=\"T_bd79cd68_ef98_11ea_a637_5ce0c5892623row6_col3\" class=\"data row6 col3\" >0</td>\n",
       "                        <td id=\"T_bd79cd68_ef98_11ea_a637_5ce0c5892623row6_col4\" class=\"data row6 col4\" >0</td>\n",
       "                        <td id=\"T_bd79cd68_ef98_11ea_a637_5ce0c5892623row6_col5\" class=\"data row6 col5\" >0</td>\n",
       "                        <td id=\"T_bd79cd68_ef98_11ea_a637_5ce0c5892623row6_col6\" class=\"data row6 col6\" >0.1</td>\n",
       "                        <td id=\"T_bd79cd68_ef98_11ea_a637_5ce0c5892623row6_col7\" class=\"data row6 col7\" >0.3</td>\n",
       "                        <td id=\"T_bd79cd68_ef98_11ea_a637_5ce0c5892623row6_col8\" class=\"data row6 col8\" >0.6</td>\n",
       "            </tr>\n",
       "            <tr>\n",
       "                        <th id=\"T_bd79cd68_ef98_11ea_a637_5ce0c5892623level0_row7\" class=\"row_heading level0 row7\" >8</th>\n",
       "                        <td id=\"T_bd79cd68_ef98_11ea_a637_5ce0c5892623row7_col0\" class=\"data row7 col0\" >0</td>\n",
       "                        <td id=\"T_bd79cd68_ef98_11ea_a637_5ce0c5892623row7_col1\" class=\"data row7 col1\" >0</td>\n",
       "                        <td id=\"T_bd79cd68_ef98_11ea_a637_5ce0c5892623row7_col2\" class=\"data row7 col2\" >0</td>\n",
       "                        <td id=\"T_bd79cd68_ef98_11ea_a637_5ce0c5892623row7_col3\" class=\"data row7 col3\" >0</td>\n",
       "                        <td id=\"T_bd79cd68_ef98_11ea_a637_5ce0c5892623row7_col4\" class=\"data row7 col4\" >0</td>\n",
       "                        <td id=\"T_bd79cd68_ef98_11ea_a637_5ce0c5892623row7_col5\" class=\"data row7 col5\" >0</td>\n",
       "                        <td id=\"T_bd79cd68_ef98_11ea_a637_5ce0c5892623row7_col6\" class=\"data row7 col6\" >0.3</td>\n",
       "                        <td id=\"T_bd79cd68_ef98_11ea_a637_5ce0c5892623row7_col7\" class=\"data row7 col7\" >0.9</td>\n",
       "                        <td id=\"T_bd79cd68_ef98_11ea_a637_5ce0c5892623row7_col8\" class=\"data row7 col8\" >1.8</td>\n",
       "            </tr>\n",
       "            <tr>\n",
       "                        <th id=\"T_bd79cd68_ef98_11ea_a637_5ce0c5892623level0_row8\" class=\"row_heading level0 row8\" >9</th>\n",
       "                        <td id=\"T_bd79cd68_ef98_11ea_a637_5ce0c5892623row8_col0\" class=\"data row8 col0\" >0</td>\n",
       "                        <td id=\"T_bd79cd68_ef98_11ea_a637_5ce0c5892623row8_col1\" class=\"data row8 col1\" >0</td>\n",
       "                        <td id=\"T_bd79cd68_ef98_11ea_a637_5ce0c5892623row8_col2\" class=\"data row8 col2\" >0</td>\n",
       "                        <td id=\"T_bd79cd68_ef98_11ea_a637_5ce0c5892623row8_col3\" class=\"data row8 col3\" >0</td>\n",
       "                        <td id=\"T_bd79cd68_ef98_11ea_a637_5ce0c5892623row8_col4\" class=\"data row8 col4\" >0</td>\n",
       "                        <td id=\"T_bd79cd68_ef98_11ea_a637_5ce0c5892623row8_col5\" class=\"data row8 col5\" >0</td>\n",
       "                        <td id=\"T_bd79cd68_ef98_11ea_a637_5ce0c5892623row8_col6\" class=\"data row8 col6\" >0.6</td>\n",
       "                        <td id=\"T_bd79cd68_ef98_11ea_a637_5ce0c5892623row8_col7\" class=\"data row8 col7\" >1.8</td>\n",
       "                        <td id=\"T_bd79cd68_ef98_11ea_a637_5ce0c5892623row8_col8\" class=\"data row8 col8\" >3.6</td>\n",
       "            </tr>\n",
       "    </tbody></table>"
      ],
      "text/plain": [
       "<pandas.io.formats.style.Styler at 0x7f0d0dfd9e10>"
      ]
     },
     "execution_count": 183,
     "metadata": {},
     "output_type": "execute_result"
    }
   ],
   "source": [
    "sint.style.apply(highlight)"
   ]
  },
  {
   "cell_type": "code",
   "execution_count": 184,
   "metadata": {},
   "outputs": [],
   "source": [
    "### Reordering rule:\n",
    "\n",
    "# # block mass preserving permutation\n",
    "# rrule = [1, 8, 6, 7, 5, 3, 4, 2, 9]\n",
    "\n",
    "# block mass accumulator permutation\n",
    "rrule = [1, 4, 7, 2, 5, 8, 3, 6, 9]"
   ]
  },
  {
   "cell_type": "code",
   "execution_count": null,
   "metadata": {},
   "outputs": [],
   "source": []
  },
  {
   "cell_type": "code",
   "execution_count": 185,
   "metadata": {},
   "outputs": [
    {
     "data": {
      "text/plain": [
       "1    1.1\n",
       "4    1.0\n",
       "7    1.0\n",
       "2    1.1\n",
       "5    1.0\n",
       "8    1.0\n",
       "3    1.1\n",
       "6    1.0\n",
       "9    1.0\n",
       "dtype: float64"
      ]
     },
     "execution_count": 185,
     "metadata": {},
     "output_type": "execute_result"
    }
   ],
   "source": [
    "(np.array([1.1, 1.1, 1.1, 1, 1, 1, 1, 1, 1])*c).reindex(rrule)"
   ]
  },
  {
   "cell_type": "code",
   "execution_count": 186,
   "metadata": {},
   "outputs": [],
   "source": [
    "\n",
    "sint_ = sint.reindex(rrule, axis = 0).reindex(rrule, axis = 1)\n",
    "\n",
    "c_ = pd.Series(n*[1], index = sint_.index)\n",
    "stot_ = sint_.sum(1) + c_\n",
    "\n",
    "r_ = sint_.div(stot_, axis = 1)\n",
    "i = np.eye(n)\n",
    "# R.dot(stot) ( == sint)\n",
    "\n",
    "l_ = la.inv(i - r_)\n",
    "l_df = pd.DataFrame(l_, index = sint_.index, columns=sint_.columns)\n"
   ]
  },
  {
   "cell_type": "code",
   "execution_count": 187,
   "metadata": {},
   "outputs": [
    {
     "data": {
      "text/html": [
       "<style  type=\"text/css\" >\n",
       "    #T_be32f4c8_ef98_11ea_a637_5ce0c5892623row0_col0 {\n",
       "            background-color:  yellow;\n",
       "        }    #T_be32f4c8_ef98_11ea_a637_5ce0c5892623row0_col3 {\n",
       "            background-color:  yellow;\n",
       "        }    #T_be32f4c8_ef98_11ea_a637_5ce0c5892623row0_col6 {\n",
       "            background-color:  yellow;\n",
       "        }    #T_be32f4c8_ef98_11ea_a637_5ce0c5892623row1_col1 {\n",
       "            background-color:  yellow;\n",
       "        }    #T_be32f4c8_ef98_11ea_a637_5ce0c5892623row1_col4 {\n",
       "            background-color:  yellow;\n",
       "        }    #T_be32f4c8_ef98_11ea_a637_5ce0c5892623row1_col7 {\n",
       "            background-color:  yellow;\n",
       "        }    #T_be32f4c8_ef98_11ea_a637_5ce0c5892623row2_col2 {\n",
       "            background-color:  yellow;\n",
       "        }    #T_be32f4c8_ef98_11ea_a637_5ce0c5892623row2_col5 {\n",
       "            background-color:  yellow;\n",
       "        }    #T_be32f4c8_ef98_11ea_a637_5ce0c5892623row2_col8 {\n",
       "            background-color:  yellow;\n",
       "        }    #T_be32f4c8_ef98_11ea_a637_5ce0c5892623row3_col0 {\n",
       "            background-color:  yellow;\n",
       "        }    #T_be32f4c8_ef98_11ea_a637_5ce0c5892623row3_col3 {\n",
       "            background-color:  yellow;\n",
       "        }    #T_be32f4c8_ef98_11ea_a637_5ce0c5892623row3_col6 {\n",
       "            background-color:  yellow;\n",
       "        }    #T_be32f4c8_ef98_11ea_a637_5ce0c5892623row4_col1 {\n",
       "            background-color:  yellow;\n",
       "        }    #T_be32f4c8_ef98_11ea_a637_5ce0c5892623row4_col4 {\n",
       "            background-color:  yellow;\n",
       "        }    #T_be32f4c8_ef98_11ea_a637_5ce0c5892623row4_col7 {\n",
       "            background-color:  yellow;\n",
       "        }    #T_be32f4c8_ef98_11ea_a637_5ce0c5892623row5_col2 {\n",
       "            background-color:  yellow;\n",
       "        }    #T_be32f4c8_ef98_11ea_a637_5ce0c5892623row5_col5 {\n",
       "            background-color:  yellow;\n",
       "        }    #T_be32f4c8_ef98_11ea_a637_5ce0c5892623row5_col8 {\n",
       "            background-color:  yellow;\n",
       "        }    #T_be32f4c8_ef98_11ea_a637_5ce0c5892623row6_col0 {\n",
       "            background-color:  yellow;\n",
       "        }    #T_be32f4c8_ef98_11ea_a637_5ce0c5892623row6_col3 {\n",
       "            background-color:  yellow;\n",
       "        }    #T_be32f4c8_ef98_11ea_a637_5ce0c5892623row6_col6 {\n",
       "            background-color:  yellow;\n",
       "        }    #T_be32f4c8_ef98_11ea_a637_5ce0c5892623row7_col1 {\n",
       "            background-color:  yellow;\n",
       "        }    #T_be32f4c8_ef98_11ea_a637_5ce0c5892623row7_col4 {\n",
       "            background-color:  yellow;\n",
       "        }    #T_be32f4c8_ef98_11ea_a637_5ce0c5892623row7_col7 {\n",
       "            background-color:  yellow;\n",
       "        }    #T_be32f4c8_ef98_11ea_a637_5ce0c5892623row8_col2 {\n",
       "            background-color:  yellow;\n",
       "        }    #T_be32f4c8_ef98_11ea_a637_5ce0c5892623row8_col5 {\n",
       "            background-color:  yellow;\n",
       "        }    #T_be32f4c8_ef98_11ea_a637_5ce0c5892623row8_col8 {\n",
       "            background-color:  yellow;\n",
       "        }</style><table id=\"T_be32f4c8_ef98_11ea_a637_5ce0c5892623\" ><thead>    <tr>        <th class=\"blank level0\" ></th>        <th class=\"col_heading level0 col0\" >1</th>        <th class=\"col_heading level0 col1\" >4</th>        <th class=\"col_heading level0 col2\" >7</th>        <th class=\"col_heading level0 col3\" >2</th>        <th class=\"col_heading level0 col4\" >5</th>        <th class=\"col_heading level0 col5\" >8</th>        <th class=\"col_heading level0 col6\" >3</th>        <th class=\"col_heading level0 col7\" >6</th>        <th class=\"col_heading level0 col8\" >9</th>    </tr></thead><tbody>\n",
       "                <tr>\n",
       "                        <th id=\"T_be32f4c8_ef98_11ea_a637_5ce0c5892623level0_row0\" class=\"row_heading level0 row0\" >1</th>\n",
       "                        <td id=\"T_be32f4c8_ef98_11ea_a637_5ce0c5892623row0_col0\" class=\"data row0 col0\" >0.1</td>\n",
       "                        <td id=\"T_be32f4c8_ef98_11ea_a637_5ce0c5892623row0_col1\" class=\"data row0 col1\" >0</td>\n",
       "                        <td id=\"T_be32f4c8_ef98_11ea_a637_5ce0c5892623row0_col2\" class=\"data row0 col2\" >0</td>\n",
       "                        <td id=\"T_be32f4c8_ef98_11ea_a637_5ce0c5892623row0_col3\" class=\"data row0 col3\" >0.3</td>\n",
       "                        <td id=\"T_be32f4c8_ef98_11ea_a637_5ce0c5892623row0_col4\" class=\"data row0 col4\" >0</td>\n",
       "                        <td id=\"T_be32f4c8_ef98_11ea_a637_5ce0c5892623row0_col5\" class=\"data row0 col5\" >0</td>\n",
       "                        <td id=\"T_be32f4c8_ef98_11ea_a637_5ce0c5892623row0_col6\" class=\"data row0 col6\" >0.6</td>\n",
       "                        <td id=\"T_be32f4c8_ef98_11ea_a637_5ce0c5892623row0_col7\" class=\"data row0 col7\" >0</td>\n",
       "                        <td id=\"T_be32f4c8_ef98_11ea_a637_5ce0c5892623row0_col8\" class=\"data row0 col8\" >0</td>\n",
       "            </tr>\n",
       "            <tr>\n",
       "                        <th id=\"T_be32f4c8_ef98_11ea_a637_5ce0c5892623level0_row1\" class=\"row_heading level0 row1\" >4</th>\n",
       "                        <td id=\"T_be32f4c8_ef98_11ea_a637_5ce0c5892623row1_col0\" class=\"data row1 col0\" >0</td>\n",
       "                        <td id=\"T_be32f4c8_ef98_11ea_a637_5ce0c5892623row1_col1\" class=\"data row1 col1\" >0.1</td>\n",
       "                        <td id=\"T_be32f4c8_ef98_11ea_a637_5ce0c5892623row1_col2\" class=\"data row1 col2\" >0</td>\n",
       "                        <td id=\"T_be32f4c8_ef98_11ea_a637_5ce0c5892623row1_col3\" class=\"data row1 col3\" >0</td>\n",
       "                        <td id=\"T_be32f4c8_ef98_11ea_a637_5ce0c5892623row1_col4\" class=\"data row1 col4\" >0.3</td>\n",
       "                        <td id=\"T_be32f4c8_ef98_11ea_a637_5ce0c5892623row1_col5\" class=\"data row1 col5\" >0</td>\n",
       "                        <td id=\"T_be32f4c8_ef98_11ea_a637_5ce0c5892623row1_col6\" class=\"data row1 col6\" >0</td>\n",
       "                        <td id=\"T_be32f4c8_ef98_11ea_a637_5ce0c5892623row1_col7\" class=\"data row1 col7\" >0.6</td>\n",
       "                        <td id=\"T_be32f4c8_ef98_11ea_a637_5ce0c5892623row1_col8\" class=\"data row1 col8\" >0</td>\n",
       "            </tr>\n",
       "            <tr>\n",
       "                        <th id=\"T_be32f4c8_ef98_11ea_a637_5ce0c5892623level0_row2\" class=\"row_heading level0 row2\" >7</th>\n",
       "                        <td id=\"T_be32f4c8_ef98_11ea_a637_5ce0c5892623row2_col0\" class=\"data row2 col0\" >0</td>\n",
       "                        <td id=\"T_be32f4c8_ef98_11ea_a637_5ce0c5892623row2_col1\" class=\"data row2 col1\" >0</td>\n",
       "                        <td id=\"T_be32f4c8_ef98_11ea_a637_5ce0c5892623row2_col2\" class=\"data row2 col2\" >0.1</td>\n",
       "                        <td id=\"T_be32f4c8_ef98_11ea_a637_5ce0c5892623row2_col3\" class=\"data row2 col3\" >0</td>\n",
       "                        <td id=\"T_be32f4c8_ef98_11ea_a637_5ce0c5892623row2_col4\" class=\"data row2 col4\" >0</td>\n",
       "                        <td id=\"T_be32f4c8_ef98_11ea_a637_5ce0c5892623row2_col5\" class=\"data row2 col5\" >0.3</td>\n",
       "                        <td id=\"T_be32f4c8_ef98_11ea_a637_5ce0c5892623row2_col6\" class=\"data row2 col6\" >0</td>\n",
       "                        <td id=\"T_be32f4c8_ef98_11ea_a637_5ce0c5892623row2_col7\" class=\"data row2 col7\" >0</td>\n",
       "                        <td id=\"T_be32f4c8_ef98_11ea_a637_5ce0c5892623row2_col8\" class=\"data row2 col8\" >0.6</td>\n",
       "            </tr>\n",
       "            <tr>\n",
       "                        <th id=\"T_be32f4c8_ef98_11ea_a637_5ce0c5892623level0_row3\" class=\"row_heading level0 row3\" >2</th>\n",
       "                        <td id=\"T_be32f4c8_ef98_11ea_a637_5ce0c5892623row3_col0\" class=\"data row3 col0\" >0.3</td>\n",
       "                        <td id=\"T_be32f4c8_ef98_11ea_a637_5ce0c5892623row3_col1\" class=\"data row3 col1\" >0</td>\n",
       "                        <td id=\"T_be32f4c8_ef98_11ea_a637_5ce0c5892623row3_col2\" class=\"data row3 col2\" >0</td>\n",
       "                        <td id=\"T_be32f4c8_ef98_11ea_a637_5ce0c5892623row3_col3\" class=\"data row3 col3\" >0.9</td>\n",
       "                        <td id=\"T_be32f4c8_ef98_11ea_a637_5ce0c5892623row3_col4\" class=\"data row3 col4\" >0</td>\n",
       "                        <td id=\"T_be32f4c8_ef98_11ea_a637_5ce0c5892623row3_col5\" class=\"data row3 col5\" >0</td>\n",
       "                        <td id=\"T_be32f4c8_ef98_11ea_a637_5ce0c5892623row3_col6\" class=\"data row3 col6\" >1.8</td>\n",
       "                        <td id=\"T_be32f4c8_ef98_11ea_a637_5ce0c5892623row3_col7\" class=\"data row3 col7\" >0</td>\n",
       "                        <td id=\"T_be32f4c8_ef98_11ea_a637_5ce0c5892623row3_col8\" class=\"data row3 col8\" >0</td>\n",
       "            </tr>\n",
       "            <tr>\n",
       "                        <th id=\"T_be32f4c8_ef98_11ea_a637_5ce0c5892623level0_row4\" class=\"row_heading level0 row4\" >5</th>\n",
       "                        <td id=\"T_be32f4c8_ef98_11ea_a637_5ce0c5892623row4_col0\" class=\"data row4 col0\" >0</td>\n",
       "                        <td id=\"T_be32f4c8_ef98_11ea_a637_5ce0c5892623row4_col1\" class=\"data row4 col1\" >0.3</td>\n",
       "                        <td id=\"T_be32f4c8_ef98_11ea_a637_5ce0c5892623row4_col2\" class=\"data row4 col2\" >0</td>\n",
       "                        <td id=\"T_be32f4c8_ef98_11ea_a637_5ce0c5892623row4_col3\" class=\"data row4 col3\" >0</td>\n",
       "                        <td id=\"T_be32f4c8_ef98_11ea_a637_5ce0c5892623row4_col4\" class=\"data row4 col4\" >0.9</td>\n",
       "                        <td id=\"T_be32f4c8_ef98_11ea_a637_5ce0c5892623row4_col5\" class=\"data row4 col5\" >0</td>\n",
       "                        <td id=\"T_be32f4c8_ef98_11ea_a637_5ce0c5892623row4_col6\" class=\"data row4 col6\" >0</td>\n",
       "                        <td id=\"T_be32f4c8_ef98_11ea_a637_5ce0c5892623row4_col7\" class=\"data row4 col7\" >1.8</td>\n",
       "                        <td id=\"T_be32f4c8_ef98_11ea_a637_5ce0c5892623row4_col8\" class=\"data row4 col8\" >0</td>\n",
       "            </tr>\n",
       "            <tr>\n",
       "                        <th id=\"T_be32f4c8_ef98_11ea_a637_5ce0c5892623level0_row5\" class=\"row_heading level0 row5\" >8</th>\n",
       "                        <td id=\"T_be32f4c8_ef98_11ea_a637_5ce0c5892623row5_col0\" class=\"data row5 col0\" >0</td>\n",
       "                        <td id=\"T_be32f4c8_ef98_11ea_a637_5ce0c5892623row5_col1\" class=\"data row5 col1\" >0</td>\n",
       "                        <td id=\"T_be32f4c8_ef98_11ea_a637_5ce0c5892623row5_col2\" class=\"data row5 col2\" >0.3</td>\n",
       "                        <td id=\"T_be32f4c8_ef98_11ea_a637_5ce0c5892623row5_col3\" class=\"data row5 col3\" >0</td>\n",
       "                        <td id=\"T_be32f4c8_ef98_11ea_a637_5ce0c5892623row5_col4\" class=\"data row5 col4\" >0</td>\n",
       "                        <td id=\"T_be32f4c8_ef98_11ea_a637_5ce0c5892623row5_col5\" class=\"data row5 col5\" >0.9</td>\n",
       "                        <td id=\"T_be32f4c8_ef98_11ea_a637_5ce0c5892623row5_col6\" class=\"data row5 col6\" >0</td>\n",
       "                        <td id=\"T_be32f4c8_ef98_11ea_a637_5ce0c5892623row5_col7\" class=\"data row5 col7\" >0</td>\n",
       "                        <td id=\"T_be32f4c8_ef98_11ea_a637_5ce0c5892623row5_col8\" class=\"data row5 col8\" >1.8</td>\n",
       "            </tr>\n",
       "            <tr>\n",
       "                        <th id=\"T_be32f4c8_ef98_11ea_a637_5ce0c5892623level0_row6\" class=\"row_heading level0 row6\" >3</th>\n",
       "                        <td id=\"T_be32f4c8_ef98_11ea_a637_5ce0c5892623row6_col0\" class=\"data row6 col0\" >0.6</td>\n",
       "                        <td id=\"T_be32f4c8_ef98_11ea_a637_5ce0c5892623row6_col1\" class=\"data row6 col1\" >0</td>\n",
       "                        <td id=\"T_be32f4c8_ef98_11ea_a637_5ce0c5892623row6_col2\" class=\"data row6 col2\" >0</td>\n",
       "                        <td id=\"T_be32f4c8_ef98_11ea_a637_5ce0c5892623row6_col3\" class=\"data row6 col3\" >1.8</td>\n",
       "                        <td id=\"T_be32f4c8_ef98_11ea_a637_5ce0c5892623row6_col4\" class=\"data row6 col4\" >0</td>\n",
       "                        <td id=\"T_be32f4c8_ef98_11ea_a637_5ce0c5892623row6_col5\" class=\"data row6 col5\" >0</td>\n",
       "                        <td id=\"T_be32f4c8_ef98_11ea_a637_5ce0c5892623row6_col6\" class=\"data row6 col6\" >3.6</td>\n",
       "                        <td id=\"T_be32f4c8_ef98_11ea_a637_5ce0c5892623row6_col7\" class=\"data row6 col7\" >0</td>\n",
       "                        <td id=\"T_be32f4c8_ef98_11ea_a637_5ce0c5892623row6_col8\" class=\"data row6 col8\" >0</td>\n",
       "            </tr>\n",
       "            <tr>\n",
       "                        <th id=\"T_be32f4c8_ef98_11ea_a637_5ce0c5892623level0_row7\" class=\"row_heading level0 row7\" >6</th>\n",
       "                        <td id=\"T_be32f4c8_ef98_11ea_a637_5ce0c5892623row7_col0\" class=\"data row7 col0\" >0</td>\n",
       "                        <td id=\"T_be32f4c8_ef98_11ea_a637_5ce0c5892623row7_col1\" class=\"data row7 col1\" >0.6</td>\n",
       "                        <td id=\"T_be32f4c8_ef98_11ea_a637_5ce0c5892623row7_col2\" class=\"data row7 col2\" >0</td>\n",
       "                        <td id=\"T_be32f4c8_ef98_11ea_a637_5ce0c5892623row7_col3\" class=\"data row7 col3\" >0</td>\n",
       "                        <td id=\"T_be32f4c8_ef98_11ea_a637_5ce0c5892623row7_col4\" class=\"data row7 col4\" >1.8</td>\n",
       "                        <td id=\"T_be32f4c8_ef98_11ea_a637_5ce0c5892623row7_col5\" class=\"data row7 col5\" >0</td>\n",
       "                        <td id=\"T_be32f4c8_ef98_11ea_a637_5ce0c5892623row7_col6\" class=\"data row7 col6\" >0</td>\n",
       "                        <td id=\"T_be32f4c8_ef98_11ea_a637_5ce0c5892623row7_col7\" class=\"data row7 col7\" >3.6</td>\n",
       "                        <td id=\"T_be32f4c8_ef98_11ea_a637_5ce0c5892623row7_col8\" class=\"data row7 col8\" >0</td>\n",
       "            </tr>\n",
       "            <tr>\n",
       "                        <th id=\"T_be32f4c8_ef98_11ea_a637_5ce0c5892623level0_row8\" class=\"row_heading level0 row8\" >9</th>\n",
       "                        <td id=\"T_be32f4c8_ef98_11ea_a637_5ce0c5892623row8_col0\" class=\"data row8 col0\" >0</td>\n",
       "                        <td id=\"T_be32f4c8_ef98_11ea_a637_5ce0c5892623row8_col1\" class=\"data row8 col1\" >0</td>\n",
       "                        <td id=\"T_be32f4c8_ef98_11ea_a637_5ce0c5892623row8_col2\" class=\"data row8 col2\" >0.6</td>\n",
       "                        <td id=\"T_be32f4c8_ef98_11ea_a637_5ce0c5892623row8_col3\" class=\"data row8 col3\" >0</td>\n",
       "                        <td id=\"T_be32f4c8_ef98_11ea_a637_5ce0c5892623row8_col4\" class=\"data row8 col4\" >0</td>\n",
       "                        <td id=\"T_be32f4c8_ef98_11ea_a637_5ce0c5892623row8_col5\" class=\"data row8 col5\" >1.8</td>\n",
       "                        <td id=\"T_be32f4c8_ef98_11ea_a637_5ce0c5892623row8_col6\" class=\"data row8 col6\" >0</td>\n",
       "                        <td id=\"T_be32f4c8_ef98_11ea_a637_5ce0c5892623row8_col7\" class=\"data row8 col7\" >0</td>\n",
       "                        <td id=\"T_be32f4c8_ef98_11ea_a637_5ce0c5892623row8_col8\" class=\"data row8 col8\" >3.6</td>\n",
       "            </tr>\n",
       "    </tbody></table>"
      ],
      "text/plain": [
       "<pandas.io.formats.style.Styler at 0x7f0d0dfd9dd8>"
      ]
     },
     "execution_count": 187,
     "metadata": {},
     "output_type": "execute_result"
    }
   ],
   "source": [
    "sint_.style.apply(highlight)"
   ]
  },
  {
   "cell_type": "code",
   "execution_count": 188,
   "metadata": {},
   "outputs": [],
   "source": [
    "### The order in which we apply Leontieff and reshuffling does not matter."
   ]
  },
  {
   "cell_type": "code",
   "execution_count": 189,
   "metadata": {},
   "outputs": [],
   "source": [
    "## What if we have aggregation?? Ie. if we reshuffle before building sectors..."
   ]
  },
  {
   "cell_type": "code",
   "execution_count": 190,
   "metadata": {},
   "outputs": [],
   "source": [
    "C = c.copy(); C.index = np.arange(n)//d; \n",
    "C = C.groupby(level = 0).sum()\n",
    "Sint = sint.copy(); Sint.index = np.arange(n)//d; Sint.columns = np.arange(n)//d;\n",
    "Sint = Sint.groupby(level = 0, axis = 1).sum().groupby(level = 0, axis = 0).sum()\n",
    "Stot = Sint.sum(1) + C\n",
    "\n",
    "\n",
    "R = Sint.div(Stot, axis = 1)\n",
    "I = np.eye(d)\n",
    "\n",
    "# # R.dot(stot) ( == sint)\n",
    "\n",
    "L = la.inv(I - R)\n",
    "Ldf = pd.DataFrame(L, index = Sint.index, columns=Sint.columns)\n"
   ]
  },
  {
   "cell_type": "code",
   "execution_count": 191,
   "metadata": {},
   "outputs": [
    {
     "data": {
      "text/plain": [
       "0    3\n",
       "1    3\n",
       "2    3\n",
       "dtype: int64"
      ]
     },
     "execution_count": 191,
     "metadata": {},
     "output_type": "execute_result"
    }
   ],
   "source": [
    "C"
   ]
  },
  {
   "cell_type": "code",
   "execution_count": 192,
   "metadata": {},
   "outputs": [
    {
     "data": {
      "text/plain": [
       "array([[ 4.33333333,  0.        , -0.        ],\n",
       "       [ 0.        ,  4.33333333, -0.        ],\n",
       "       [ 0.        ,  0.        ,  4.33333333]])"
      ]
     },
     "execution_count": 192,
     "metadata": {},
     "output_type": "execute_result"
    }
   ],
   "source": [
    "L"
   ]
  },
  {
   "cell_type": "code",
   "execution_count": 193,
   "metadata": {},
   "outputs": [
    {
     "data": {
      "text/plain": [
       "4.333333333333333"
      ]
     },
     "execution_count": 193,
     "metadata": {},
     "output_type": "execute_result"
    }
   ],
   "source": [
    "13/3"
   ]
  },
  {
   "cell_type": "code",
   "execution_count": 194,
   "metadata": {},
   "outputs": [],
   "source": [
    "C_ = c_.copy(); C_.index = np.arange(n)//d; \n",
    "C_ = C_.groupby(level = 0).sum()\n",
    "Sint_ = sint_.copy(); Sint_.index = np.arange(n)//d; Sint_.columns = np.arange(n)//d;\n",
    "Sint_ = Sint_.groupby(level = 0, axis = 1).sum().groupby(level = 0, axis = 0).sum()\n",
    "Stot_ = Sint_.sum(1) + C_\n",
    "\n",
    "\n",
    "R_ = Sint_.div(Stot_, axis = 1)\n",
    "I = np.eye(d)\n",
    "\n",
    "# # R.dot(stot) ( == sint)\n",
    "\n",
    "L_ = la.inv(I - R_)\n",
    "L_df = pd.DataFrame(L_, index = Sint_.index, columns=Sint_.columns)\n",
    "\n",
    "# L.index()"
   ]
  },
  {
   "cell_type": "code",
   "execution_count": 195,
   "metadata": {},
   "outputs": [
    {
     "data": {
      "text/plain": [
       "0     6.0\n",
       "1    12.0\n",
       "2    21.0\n",
       "dtype: float64"
      ]
     },
     "execution_count": 195,
     "metadata": {},
     "output_type": "execute_result"
    }
   ],
   "source": [
    "Stot_"
   ]
  },
  {
   "cell_type": "code",
   "execution_count": 196,
   "metadata": {},
   "outputs": [
    {
     "data": {
      "text/html": [
       "<div>\n",
       "<style scoped>\n",
       "    .dataframe tbody tr th:only-of-type {\n",
       "        vertical-align: middle;\n",
       "    }\n",
       "\n",
       "    .dataframe tbody tr th {\n",
       "        vertical-align: top;\n",
       "    }\n",
       "\n",
       "    .dataframe thead th {\n",
       "        text-align: right;\n",
       "    }\n",
       "</style>\n",
       "<table border=\"1\" class=\"dataframe\">\n",
       "  <thead>\n",
       "    <tr style=\"text-align: right;\">\n",
       "      <th></th>\n",
       "      <th>0</th>\n",
       "      <th>1</th>\n",
       "      <th>2</th>\n",
       "    </tr>\n",
       "  </thead>\n",
       "  <tbody>\n",
       "    <tr>\n",
       "      <th>0</th>\n",
       "      <td>0.3</td>\n",
       "      <td>0.9</td>\n",
       "      <td>1.8</td>\n",
       "    </tr>\n",
       "    <tr>\n",
       "      <th>1</th>\n",
       "      <td>0.9</td>\n",
       "      <td>2.7</td>\n",
       "      <td>5.4</td>\n",
       "    </tr>\n",
       "    <tr>\n",
       "      <th>2</th>\n",
       "      <td>1.8</td>\n",
       "      <td>5.4</td>\n",
       "      <td>10.8</td>\n",
       "    </tr>\n",
       "  </tbody>\n",
       "</table>\n",
       "</div>"
      ],
      "text/plain": [
       "     0    1     2\n",
       "0  0.3  0.9   1.8\n",
       "1  0.9  2.7   5.4\n",
       "2  1.8  5.4  10.8"
      ]
     },
     "execution_count": 196,
     "metadata": {},
     "output_type": "execute_result"
    }
   ],
   "source": [
    "Sint_"
   ]
  },
  {
   "cell_type": "code",
   "execution_count": 197,
   "metadata": {},
   "outputs": [
    {
     "data": {
      "text/html": [
       "<div>\n",
       "<style scoped>\n",
       "    .dataframe tbody tr th:only-of-type {\n",
       "        vertical-align: middle;\n",
       "    }\n",
       "\n",
       "    .dataframe tbody tr th {\n",
       "        vertical-align: top;\n",
       "    }\n",
       "\n",
       "    .dataframe thead th {\n",
       "        text-align: right;\n",
       "    }\n",
       "</style>\n",
       "<table border=\"1\" class=\"dataframe\">\n",
       "  <thead>\n",
       "    <tr style=\"text-align: right;\">\n",
       "      <th></th>\n",
       "      <th>0</th>\n",
       "      <th>1</th>\n",
       "      <th>2</th>\n",
       "    </tr>\n",
       "  </thead>\n",
       "  <tbody>\n",
       "    <tr>\n",
       "      <th>0</th>\n",
       "      <td>0.3</td>\n",
       "      <td>0.9</td>\n",
       "      <td>1.8</td>\n",
       "    </tr>\n",
       "    <tr>\n",
       "      <th>1</th>\n",
       "      <td>0.9</td>\n",
       "      <td>2.7</td>\n",
       "      <td>5.4</td>\n",
       "    </tr>\n",
       "    <tr>\n",
       "      <th>2</th>\n",
       "      <td>1.8</td>\n",
       "      <td>5.4</td>\n",
       "      <td>10.8</td>\n",
       "    </tr>\n",
       "  </tbody>\n",
       "</table>\n",
       "</div>"
      ],
      "text/plain": [
       "     0    1     2\n",
       "0  0.3  0.9   1.8\n",
       "1  0.9  2.7   5.4\n",
       "2  1.8  5.4  10.8"
      ]
     },
     "execution_count": 197,
     "metadata": {},
     "output_type": "execute_result"
    }
   ],
   "source": [
    "Sint_"
   ]
  },
  {
   "cell_type": "code",
   "execution_count": 198,
   "metadata": {},
   "outputs": [
    {
     "data": {
      "text/plain": [
       "0     3.0\n",
       "1     9.0\n",
       "2    18.0\n",
       "dtype: float64"
      ]
     },
     "execution_count": 198,
     "metadata": {},
     "output_type": "execute_result"
    }
   ],
   "source": [
    "Sint_.sum(1)"
   ]
  },
  {
   "cell_type": "code",
   "execution_count": 199,
   "metadata": {},
   "outputs": [
    {
     "data": {
      "text/plain": [
       "0    3\n",
       "1    3\n",
       "2    3\n",
       "dtype: int64"
      ]
     },
     "execution_count": 199,
     "metadata": {},
     "output_type": "execute_result"
    }
   ],
   "source": [
    "C_"
   ]
  },
  {
   "cell_type": "code",
   "execution_count": 200,
   "metadata": {},
   "outputs": [
    {
     "data": {
      "text/plain": [
       "array([[1.23728814, 0.3559322 , 0.40677966],\n",
       "       [0.71186441, 2.06779661, 1.22033898],\n",
       "       [1.42372881, 2.13559322, 3.44067797]])"
      ]
     },
     "execution_count": 200,
     "metadata": {},
     "output_type": "execute_result"
    }
   ],
   "source": [
    "L_"
   ]
  },
  {
   "cell_type": "code",
   "execution_count": 201,
   "metadata": {},
   "outputs": [
    {
     "data": {
      "text/plain": [
       "array([[1.23728814, 0.3559322 , 0.40677966],\n",
       "       [0.71186441, 2.06779661, 1.22033898],\n",
       "       [1.42372881, 2.13559322, 3.44067797]])"
      ]
     },
     "execution_count": 201,
     "metadata": {},
     "output_type": "execute_result"
    }
   ],
   "source": [
    "L_"
   ]
  },
  {
   "cell_type": "code",
   "execution_count": 202,
   "metadata": {},
   "outputs": [],
   "source": [
    "o = (1*3 + 1*6 + 3*6)/10\n",
    "d = (1**2 + 3**2 + 6**2)/10\n",
    "n = 3\n",
    "ci = 3"
   ]
  },
  {
   "cell_type": "code",
   "execution_count": 203,
   "metadata": {},
   "outputs": [
    {
     "data": {
      "text/plain": [
       "array([2.22522523, 1.05405405])"
      ]
     },
     "execution_count": 203,
     "metadata": {},
     "output_type": "execute_result"
    }
   ],
   "source": [
    "(d + (n-1)*o+ci)/(ci * (n*o + ci))*np.array([ci + o, o])"
   ]
  },
  {
   "cell_type": "code",
   "execution_count": 204,
   "metadata": {},
   "outputs": [],
   "source": [
    "# These two leontieff matrices ARE THE SAME ECONOMY\n",
    "# So, the thing is they should have the same agg volatility, \n",
    "# resulting from different Leontieff matrices. Check how that comes about."
   ]
  },
  {
   "cell_type": "code",
   "execution_count": 205,
   "metadata": {},
   "outputs": [
    {
     "name": "stdout",
     "output_type": "stream",
     "text": [
      "56.33333333333334\n",
      "57.84630853203107\n"
     ]
    }
   ],
   "source": [
    "#  Agregate variance is the sum of:\n",
    "S = np.dot(np.dot(L, 1*np.diag(np.ones(3))), L.T)\n",
    "print(S.sum())\n",
    "\n",
    "\n",
    "S = np.dot(np.dot(L_, 1*np.diag(np.ones(3))), L_.T)\n",
    "print(S.sum())"
   ]
  },
  {
   "cell_type": "code",
   "execution_count": 177,
   "metadata": {},
   "outputs": [
    {
     "data": {
      "text/plain": [
       "array([[7.1736872 , 5.80204529, 5.80204529],\n",
       "       [5.80204529, 7.1736872 , 5.80204529],\n",
       "       [5.80204529, 5.80204529, 7.1736872 ]])"
      ]
     },
     "execution_count": 177,
     "metadata": {},
     "output_type": "execute_result"
    }
   ],
   "source": [
    "S"
   ]
  },
  {
   "cell_type": "code",
   "execution_count": 176,
   "metadata": {},
   "outputs": [
    {
     "data": {
      "text/plain": [
       "3.6999999999999993"
      ]
     },
     "execution_count": 176,
     "metadata": {},
     "output_type": "execute_result"
    }
   ],
   "source": [
    "np.linalg.cond((I - R_))"
   ]
  },
  {
   "cell_type": "code",
   "execution_count": null,
   "metadata": {},
   "outputs": [],
   "source": [
    "xx"
   ]
  },
  {
   "cell_type": "code",
   "execution_count": 140,
   "metadata": {},
   "outputs": [
    {
     "data": {
      "text/plain": [
       "array([[ 1.82303936,  2.11318587,  3.92128699],\n",
       "       [ 2.11318587,  6.27176099,  9.62826774],\n",
       "       [ 3.92128699,  9.62826774, 18.426027  ]])"
      ]
     },
     "execution_count": 140,
     "metadata": {},
     "output_type": "execute_result"
    }
   ],
   "source": [
    "S"
   ]
  },
  {
   "cell_type": "code",
   "execution_count": 208,
   "metadata": {},
   "outputs": [
    {
     "data": {
      "text/plain": [
       "0    3\n",
       "1    3\n",
       "2    3\n",
       "dtype: int64"
      ]
     },
     "execution_count": 208,
     "metadata": {},
     "output_type": "execute_result"
    }
   ],
   "source": [
    "C_"
   ]
  },
  {
   "cell_type": "code",
   "execution_count": 196,
   "metadata": {},
   "outputs": [
    {
     "data": {
      "text/plain": [
       "0    10.0\n",
       "1    10.0\n",
       "2    10.0\n",
       "dtype: float64"
      ]
     },
     "execution_count": 196,
     "metadata": {},
     "output_type": "execute_result"
    }
   ],
   "source": [
    "# np.dot(L, c) (== stot)\n",
    "\n",
    "Sint_.sum(1)"
   ]
  },
  {
   "cell_type": "code",
   "execution_count": 65,
   "metadata": {},
   "outputs": [
    {
     "data": {
      "text/plain": [
       "array([0.2, 0.4, 0.7, 0.2, 0.4, 0.7, 0.2, 0.4, 0.7])"
      ]
     },
     "execution_count": 65,
     "metadata": {},
     "output_type": "execute_result"
    }
   ],
   "source": [
    "# Imaginemos que hay cambios de un 10% en c. Es decir, sus elementos pasan de ser 1 a ser 1.1\n",
    "\n",
    "dc = .1*c\n",
    "\n",
    "# The elements in stot will change as:\n",
    "np.dot(L, dc)"
   ]
  },
  {
   "cell_type": "code",
   "execution_count": 142,
   "metadata": {},
   "outputs": [
    {
     "data": {
      "text/html": [
       "<div>\n",
       "<style scoped>\n",
       "    .dataframe tbody tr th:only-of-type {\n",
       "        vertical-align: middle;\n",
       "    }\n",
       "\n",
       "    .dataframe tbody tr th {\n",
       "        vertical-align: top;\n",
       "    }\n",
       "\n",
       "    .dataframe thead th {\n",
       "        text-align: right;\n",
       "    }\n",
       "</style>\n",
       "<table border=\"1\" class=\"dataframe\">\n",
       "  <thead>\n",
       "    <tr style=\"text-align: right;\">\n",
       "      <th></th>\n",
       "      <th>0</th>\n",
       "      <th>1</th>\n",
       "      <th>2</th>\n",
       "      <th>3</th>\n",
       "      <th>4</th>\n",
       "      <th>5</th>\n",
       "      <th>6</th>\n",
       "      <th>7</th>\n",
       "      <th>8</th>\n",
       "    </tr>\n",
       "  </thead>\n",
       "  <tbody>\n",
       "    <tr>\n",
       "      <th>0</th>\n",
       "      <td>0.009115</td>\n",
       "      <td>0.010566</td>\n",
       "      <td>0.019606</td>\n",
       "      <td>0.000000</td>\n",
       "      <td>0.000000</td>\n",
       "      <td>0.000000</td>\n",
       "      <td>0.000000</td>\n",
       "      <td>0.000000</td>\n",
       "      <td>0.000000</td>\n",
       "    </tr>\n",
       "    <tr>\n",
       "      <th>1</th>\n",
       "      <td>0.010566</td>\n",
       "      <td>0.031359</td>\n",
       "      <td>0.048141</td>\n",
       "      <td>0.000000</td>\n",
       "      <td>0.000000</td>\n",
       "      <td>0.000000</td>\n",
       "      <td>0.000000</td>\n",
       "      <td>0.000000</td>\n",
       "      <td>0.000000</td>\n",
       "    </tr>\n",
       "    <tr>\n",
       "      <th>2</th>\n",
       "      <td>0.019606</td>\n",
       "      <td>0.048141</td>\n",
       "      <td>0.092130</td>\n",
       "      <td>0.000000</td>\n",
       "      <td>0.000000</td>\n",
       "      <td>0.000000</td>\n",
       "      <td>0.000000</td>\n",
       "      <td>0.000000</td>\n",
       "      <td>0.000000</td>\n",
       "    </tr>\n",
       "    <tr>\n",
       "      <th>3</th>\n",
       "      <td>0.000000</td>\n",
       "      <td>0.000000</td>\n",
       "      <td>0.000000</td>\n",
       "      <td>0.009115</td>\n",
       "      <td>0.010566</td>\n",
       "      <td>0.019606</td>\n",
       "      <td>0.000000</td>\n",
       "      <td>0.000000</td>\n",
       "      <td>0.000000</td>\n",
       "    </tr>\n",
       "    <tr>\n",
       "      <th>4</th>\n",
       "      <td>0.000000</td>\n",
       "      <td>0.000000</td>\n",
       "      <td>0.000000</td>\n",
       "      <td>0.010566</td>\n",
       "      <td>0.031359</td>\n",
       "      <td>0.048141</td>\n",
       "      <td>0.000000</td>\n",
       "      <td>0.000000</td>\n",
       "      <td>0.000000</td>\n",
       "    </tr>\n",
       "    <tr>\n",
       "      <th>5</th>\n",
       "      <td>0.000000</td>\n",
       "      <td>0.000000</td>\n",
       "      <td>0.000000</td>\n",
       "      <td>0.019606</td>\n",
       "      <td>0.048141</td>\n",
       "      <td>0.092130</td>\n",
       "      <td>0.000000</td>\n",
       "      <td>0.000000</td>\n",
       "      <td>0.000000</td>\n",
       "    </tr>\n",
       "    <tr>\n",
       "      <th>6</th>\n",
       "      <td>0.000000</td>\n",
       "      <td>0.000000</td>\n",
       "      <td>0.000000</td>\n",
       "      <td>0.000000</td>\n",
       "      <td>0.000000</td>\n",
       "      <td>0.000000</td>\n",
       "      <td>0.009115</td>\n",
       "      <td>0.010566</td>\n",
       "      <td>0.019606</td>\n",
       "    </tr>\n",
       "    <tr>\n",
       "      <th>7</th>\n",
       "      <td>0.000000</td>\n",
       "      <td>0.000000</td>\n",
       "      <td>0.000000</td>\n",
       "      <td>0.000000</td>\n",
       "      <td>0.000000</td>\n",
       "      <td>0.000000</td>\n",
       "      <td>0.010566</td>\n",
       "      <td>0.031359</td>\n",
       "      <td>0.048141</td>\n",
       "    </tr>\n",
       "    <tr>\n",
       "      <th>8</th>\n",
       "      <td>0.000000</td>\n",
       "      <td>0.000000</td>\n",
       "      <td>0.000000</td>\n",
       "      <td>0.000000</td>\n",
       "      <td>0.000000</td>\n",
       "      <td>0.000000</td>\n",
       "      <td>0.019606</td>\n",
       "      <td>0.048141</td>\n",
       "      <td>0.092130</td>\n",
       "    </tr>\n",
       "  </tbody>\n",
       "</table>\n",
       "</div>"
      ],
      "text/plain": [
       "          0         1         2         3         4         5         6  \\\n",
       "0  0.009115  0.010566  0.019606  0.000000  0.000000  0.000000  0.000000   \n",
       "1  0.010566  0.031359  0.048141  0.000000  0.000000  0.000000  0.000000   \n",
       "2  0.019606  0.048141  0.092130  0.000000  0.000000  0.000000  0.000000   \n",
       "3  0.000000  0.000000  0.000000  0.009115  0.010566  0.019606  0.000000   \n",
       "4  0.000000  0.000000  0.000000  0.010566  0.031359  0.048141  0.000000   \n",
       "5  0.000000  0.000000  0.000000  0.019606  0.048141  0.092130  0.000000   \n",
       "6  0.000000  0.000000  0.000000  0.000000  0.000000  0.000000  0.009115   \n",
       "7  0.000000  0.000000  0.000000  0.000000  0.000000  0.000000  0.010566   \n",
       "8  0.000000  0.000000  0.000000  0.000000  0.000000  0.000000  0.019606   \n",
       "\n",
       "          7         8  \n",
       "0  0.000000  0.000000  \n",
       "1  0.000000  0.000000  \n",
       "2  0.000000  0.000000  \n",
       "3  0.000000  0.000000  \n",
       "4  0.000000  0.000000  \n",
       "5  0.000000  0.000000  \n",
       "6  0.010566  0.019606  \n",
       "7  0.031359  0.048141  \n",
       "8  0.048141  0.092130  "
      ]
     },
     "execution_count": 142,
     "metadata": {},
     "output_type": "execute_result"
    }
   ],
   "source": [
    "## This dc_i would be proportional to an std of c. Lets say then that the Sigma matrix of c has squared dcs in the diagonal.\n",
    "\n",
    "np.var([.9, 1, 1.1, 1]) - 1/200 # = 0\n",
    "# np.var([.9, 1, 1.1]) - 1/150 # = 0\n",
    "\n",
    "sigma_stot = pd.DataFrame(L.dot(np.diag(dc**2/2)).dot(L.T))\n",
    "# pd.DataFrame(L*np.diag(dc**2)*L.T)\n",
    "sigma_stot"
   ]
  },
  {
   "cell_type": "code",
   "execution_count": 78,
   "metadata": {},
   "outputs": [
    {
     "data": {
      "text/plain": [
       "12.24744871391589"
      ]
     },
     "execution_count": 78,
     "metadata": {},
     "output_type": "execute_result"
    }
   ],
   "source": [
    "np.sqrt()"
   ]
  },
  {
   "cell_type": "code",
   "execution_count": 149,
   "metadata": {},
   "outputs": [
    {
     "data": {
      "text/plain": [
       "0.04500000000000001"
      ]
     },
     "execution_count": 149,
     "metadata": {},
     "output_type": "execute_result"
    }
   ],
   "source": [
    "np.diag(dc**2/2).sum()"
   ]
  },
  {
   "cell_type": "code",
   "execution_count": 143,
   "metadata": {},
   "outputs": [
    {
     "data": {
      "text/plain": [
       "0.867694627980466"
      ]
     },
     "execution_count": 143,
     "metadata": {},
     "output_type": "execute_result"
    }
   ],
   "source": [
    "sigma_stot.sum().sum()"
   ]
  },
  {
   "cell_type": "code",
   "execution_count": 136,
   "metadata": {},
   "outputs": [
    {
     "data": {
      "text/plain": [
       "array([[0.005, 0.   , 0.   , 0.   , 0.   , 0.   , 0.   , 0.   , 0.   ],\n",
       "       [0.   , 0.005, 0.   , 0.   , 0.   , 0.   , 0.   , 0.   , 0.   ],\n",
       "       [0.   , 0.   , 0.005, 0.   , 0.   , 0.   , 0.   , 0.   , 0.   ],\n",
       "       [0.   , 0.   , 0.   , 0.005, 0.   , 0.   , 0.   , 0.   , 0.   ],\n",
       "       [0.   , 0.   , 0.   , 0.   , 0.005, 0.   , 0.   , 0.   , 0.   ],\n",
       "       [0.   , 0.   , 0.   , 0.   , 0.   , 0.005, 0.   , 0.   , 0.   ],\n",
       "       [0.   , 0.   , 0.   , 0.   , 0.   , 0.   , 0.005, 0.   , 0.   ],\n",
       "       [0.   , 0.   , 0.   , 0.   , 0.   , 0.   , 0.   , 0.005, 0.   ],\n",
       "       [0.   , 0.   , 0.   , 0.   , 0.   , 0.   , 0.   , 0.   , 0.005]])"
      ]
     },
     "execution_count": 136,
     "metadata": {},
     "output_type": "execute_result"
    }
   ],
   "source": [
    "np.diag(dc**2)/2"
   ]
  },
  {
   "cell_type": "code",
   "execution_count": 114,
   "metadata": {},
   "outputs": [
    {
     "data": {
      "text/plain": [
       "1    0.0025\n",
       "2    0.0025\n",
       "3    0.0025\n",
       "4    0.0025\n",
       "5    0.0025\n",
       "6    0.0025\n",
       "7    0.0025\n",
       "8    0.0025\n",
       "9    0.0025\n",
       "dtype: float64"
      ]
     },
     "execution_count": 114,
     "metadata": {},
     "output_type": "execute_result"
    }
   ],
   "source": [
    "dc**2/4"
   ]
  },
  {
   "cell_type": "code",
   "execution_count": 116,
   "metadata": {},
   "outputs": [],
   "source": [
    "st1 = L.dot(c)\n",
    "st2 = L.dot(c+dc)   # =1.1 st1\n",
    "st3 = L.dot(c)\n",
    "st4 = L.dot(c-dc)   # =.9 st1"
   ]
  },
  {
   "cell_type": "code",
   "execution_count": 146,
   "metadata": {},
   "outputs": [
    {
     "data": {
      "text/plain": [
       "7.6050000000000075"
      ]
     },
     "execution_count": 146,
     "metadata": {},
     "output_type": "execute_result"
    }
   ],
   "source": [
    "np.var(np.vstack([st1, st2, st3, st4]).sum(1))"
   ]
  },
  {
   "cell_type": "code",
   "execution_count": 133,
   "metadata": {},
   "outputs": [
    {
     "data": {
      "text/plain": [
       "array([0.2, 0.4, 0.7, 0.2, 0.4, 0.7, 0.2, 0.4, 0.7])"
      ]
     },
     "execution_count": 133,
     "metadata": {},
     "output_type": "execute_result"
    }
   ],
   "source": [
    "st2 - st3"
   ]
  },
  {
   "cell_type": "code",
   "execution_count": null,
   "metadata": {},
   "outputs": [],
   "source": [
    "L.dot()"
   ]
  },
  {
   "cell_type": "code",
   "execution_count": 129,
   "metadata": {},
   "outputs": [
    {
     "data": {
      "text/plain": [
       "array([-2.22044605e-16, -4.44089210e-16,  0.00000000e+00, -2.22044605e-16,\n",
       "       -4.44089210e-16,  0.00000000e+00, -2.22044605e-16, -4.44089210e-16,\n",
       "        0.00000000e+00])"
      ]
     },
     "execution_count": 129,
     "metadata": {},
     "output_type": "execute_result"
    }
   ],
   "source": [
    "st4 - .9*st1"
   ]
  },
  {
   "cell_type": "code",
   "execution_count": 117,
   "metadata": {},
   "outputs": [
    {
     "data": {
      "text/plain": [
       "array([0.02 , 0.08 , 0.245, 0.02 , 0.08 , 0.245, 0.02 , 0.08 , 0.245])"
      ]
     },
     "execution_count": 117,
     "metadata": {},
     "output_type": "execute_result"
    }
   ],
   "source": [
    "np.var(np.vstack([st1, st2, st3, st4]), axis = 0)"
   ]
  },
  {
   "cell_type": "code",
   "execution_count": 122,
   "metadata": {},
   "outputs": [
    {
     "data": {
      "text/plain": [
       "array([0.0038272 , 0.01068946, 0.02959566, 0.0038272 , 0.01068946,\n",
       "       0.02959566, 0.0038272 , 0.01068946, 0.02959566])"
      ]
     },
     "execution_count": 122,
     "metadata": {},
     "output_type": "execute_result"
    }
   ],
   "source": [
    "np.diag(sigma_stot)"
   ]
  },
  {
   "cell_type": "code",
   "execution_count": 124,
   "metadata": {},
   "outputs": [
    {
     "data": {
      "text/plain": [
       "array([2.2, 4.4, 7.7, 2.2, 4.4, 7.7, 2.2, 4.4, 7.7])"
      ]
     },
     "execution_count": 124,
     "metadata": {},
     "output_type": "execute_result"
    }
   ],
   "source": [
    "np.dot(L, c + dc)"
   ]
  },
  {
   "cell_type": "code",
   "execution_count": 126,
   "metadata": {},
   "outputs": [
    {
     "data": {
      "text/plain": [
       "array([2.2, 4.4, 7.7, 2.2, 4.4, 7.7, 2.2, 4.4, 7.7])"
      ]
     },
     "execution_count": 126,
     "metadata": {},
     "output_type": "execute_result"
    }
   ],
   "source": [
    "L.dot(c+dc)"
   ]
  },
  {
   "cell_type": "code",
   "execution_count": null,
   "metadata": {},
   "outputs": [],
   "source": []
  }
 ],
 "metadata": {
  "kernelspec": {
   "display_name": "Python 3",
   "language": "python",
   "name": "python3"
  },
  "language_info": {
   "codemirror_mode": {
    "name": "ipython",
    "version": 3
   },
   "file_extension": ".py",
   "mimetype": "text/x-python",
   "name": "python",
   "nbconvert_exporter": "python",
   "pygments_lexer": "ipython3",
   "version": "3.6.7"
  }
 },
 "nbformat": 4,
 "nbformat_minor": 2
}
