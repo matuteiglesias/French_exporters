{
 "cells": [
  {
   "cell_type": "markdown",
   "metadata": {
    "collapsed": false
   },
   "source": [
    "# Firms population\n"
   ]
  },
  {
   "cell_type": "code",
   "execution_count": 1,
   "metadata": {
    "collapsed": false
   },
   "outputs": [
    {
     "data": {
      "text/html": [
       "<style>.container { width:100% !important; }</style>"
      ],
      "text/plain": [
       "<IPython.core.display.HTML object>"
      ]
     },
     "metadata": {},
     "output_type": "display_data"
    }
   ],
   "source": [
    "#Load modules\n",
    "\n",
    "import pandas as pd\n",
    "from IPython.display import display, HTML\n",
    "display(HTML(\"<style>.container { width:100% !important; }</style>\"))\n",
    "\n",
    "import matplotlib\n",
    "import matplotlib.pyplot as plt\n",
    "%matplotlib inline\n",
    "\n",
    "import seaborn as sns\n",
    "from numpy import log10\n",
    "import numpy as np\n",
    "\n",
    "import warnings\n",
    "warnings.filterwarnings('ignore')"
   ]
  },
  {
   "cell_type": "markdown",
   "metadata": {},
   "source": [
    "## Load data\n",
    "### Here we load the data aggregated at (firm, year, flow) level. The only variable we know for each (firm, year, flow) is the 'VART_sum', that is, the sum of transaction values at border."
   ]
  },
  {
   "cell_type": "code",
   "execution_count": 3,
   "metadata": {
    "collapsed": true
   },
   "outputs": [],
   "source": [
    "\n",
    "save_path = './'\n",
    "\n",
    "firm_mx_y = pd.read_csv(save_path + 'firm_sizes_99.csv')"
   ]
  },
  {
   "cell_type": "code",
   "execution_count": 4,
   "metadata": {
    "collapsed": false,
    "scrolled": true
   },
   "outputs": [
    {
     "data": {
      "text/html": [
       "<div>\n",
       "<style scoped>\n",
       "    .dataframe tbody tr th:only-of-type {\n",
       "        vertical-align: middle;\n",
       "    }\n",
       "\n",
       "    .dataframe tbody tr th {\n",
       "        vertical-align: top;\n",
       "    }\n",
       "\n",
       "    .dataframe thead th {\n",
       "        text-align: right;\n",
       "    }\n",
       "</style>\n",
       "<table border=\"1\" class=\"dataframe\">\n",
       "  <thead>\n",
       "    <tr style=\"text-align: right;\">\n",
       "      <th></th>\n",
       "      <th></th>\n",
       "      <th></th>\n",
       "      <th>VART</th>\n",
       "    </tr>\n",
       "    <tr>\n",
       "      <th>ID</th>\n",
       "      <th>IMPORT</th>\n",
       "      <th>YEAR</th>\n",
       "      <th></th>\n",
       "    </tr>\n",
       "  </thead>\n",
       "  <tbody>\n",
       "    <tr>\n",
       "      <th rowspan=\"4\" valign=\"top\">0</th>\n",
       "      <th rowspan=\"2\" valign=\"top\">0</th>\n",
       "      <th>1997</th>\n",
       "      <td>39913032</td>\n",
       "    </tr>\n",
       "    <tr>\n",
       "      <th>1998</th>\n",
       "      <td>25985808</td>\n",
       "    </tr>\n",
       "    <tr>\n",
       "      <th rowspan=\"2\" valign=\"top\">1</th>\n",
       "      <th>1997</th>\n",
       "      <td>46236989</td>\n",
       "    </tr>\n",
       "    <tr>\n",
       "      <th>1998</th>\n",
       "      <td>29903677</td>\n",
       "    </tr>\n",
       "    <tr>\n",
       "      <th>18</th>\n",
       "      <th>1</th>\n",
       "      <th>1998</th>\n",
       "      <td>2047</td>\n",
       "    </tr>\n",
       "    <tr>\n",
       "      <th>157</th>\n",
       "      <th>1</th>\n",
       "      <th>1998</th>\n",
       "      <td>77846</td>\n",
       "    </tr>\n",
       "    <tr>\n",
       "      <th rowspan=\"3\" valign=\"top\">215</th>\n",
       "      <th rowspan=\"2\" valign=\"top\">0</th>\n",
       "      <th>1997</th>\n",
       "      <td>656617</td>\n",
       "    </tr>\n",
       "    <tr>\n",
       "      <th>1998</th>\n",
       "      <td>807502</td>\n",
       "    </tr>\n",
       "    <tr>\n",
       "      <th>1</th>\n",
       "      <th>1997</th>\n",
       "      <td>1292</td>\n",
       "    </tr>\n",
       "    <tr>\n",
       "      <th rowspan=\"2\" valign=\"top\">223</th>\n",
       "      <th rowspan=\"2\" valign=\"top\">1</th>\n",
       "      <th>1997</th>\n",
       "      <td>339981</td>\n",
       "    </tr>\n",
       "    <tr>\n",
       "      <th>1998</th>\n",
       "      <td>257173</td>\n",
       "    </tr>\n",
       "    <tr>\n",
       "      <th>314</th>\n",
       "      <th>1</th>\n",
       "      <th>1998</th>\n",
       "      <td>121295</td>\n",
       "    </tr>\n",
       "    <tr>\n",
       "      <th rowspan=\"2\" valign=\"top\">330</th>\n",
       "      <th rowspan=\"2\" valign=\"top\">0</th>\n",
       "      <th>1997</th>\n",
       "      <td>23943</td>\n",
       "    </tr>\n",
       "    <tr>\n",
       "      <th>1998</th>\n",
       "      <td>14937</td>\n",
       "    </tr>\n",
       "    <tr>\n",
       "      <th rowspan=\"3\" valign=\"top\">355</th>\n",
       "      <th>0</th>\n",
       "      <th>1998</th>\n",
       "      <td>20277</td>\n",
       "    </tr>\n",
       "    <tr>\n",
       "      <th rowspan=\"2\" valign=\"top\">1</th>\n",
       "      <th>1997</th>\n",
       "      <td>37676</td>\n",
       "    </tr>\n",
       "    <tr>\n",
       "      <th>1998</th>\n",
       "      <td>17312</td>\n",
       "    </tr>\n",
       "    <tr>\n",
       "      <th rowspan=\"2\" valign=\"top\">371</th>\n",
       "      <th rowspan=\"2\" valign=\"top\">1</th>\n",
       "      <th>1997</th>\n",
       "      <td>233617</td>\n",
       "    </tr>\n",
       "    <tr>\n",
       "      <th>1998</th>\n",
       "      <td>3672</td>\n",
       "    </tr>\n",
       "    <tr>\n",
       "      <th>397</th>\n",
       "      <th>0</th>\n",
       "      <th>1997</th>\n",
       "      <td>190830</td>\n",
       "    </tr>\n",
       "  </tbody>\n",
       "</table>\n",
       "</div>"
      ],
      "text/plain": [
       "                     VART\n",
       "ID  IMPORT YEAR          \n",
       "0   0      1997  39913032\n",
       "           1998  25985808\n",
       "    1      1997  46236989\n",
       "           1998  29903677\n",
       "18  1      1998      2047\n",
       "157 1      1998     77846\n",
       "215 0      1997    656617\n",
       "           1998    807502\n",
       "    1      1997      1292\n",
       "223 1      1997    339981\n",
       "           1998    257173\n",
       "314 1      1998    121295\n",
       "330 0      1997     23943\n",
       "           1998     14937\n",
       "355 0      1998     20277\n",
       "    1      1997     37676\n",
       "           1998     17312\n",
       "371 1      1997    233617\n",
       "           1998      3672\n",
       "397 0      1997    190830"
      ]
     },
     "metadata": {},
     "output_type": "display_data"
    },
    {
     "name": "stdout",
     "output_type": "stream",
     "text": [
      "...\n"
     ]
    }
   ],
   "source": [
    "#Sample of the loaded dataset\n",
    "\n",
    "ix = ['ID', 'IMPORT', 'YEAR']\n",
    "display(firm_mx_y.sort_values(by = ix).head(20).set_index(ix))\n",
    "print '...'"
   ]
  },
  {
   "cell_type": "markdown",
   "metadata": {},
   "source": [
    "### Join Firms name"
   ]
  },
  {
   "cell_type": "code",
   "execution_count": 17,
   "metadata": {
    "collapsed": false
   },
   "outputs": [],
   "source": [
    "pd.options.display.max_columns = 999\n",
    "pd.options.display.max_rows = 200\n",
    "\n",
    "#Firms data (name, activity, employees)\n",
    "\n",
    "firms = pd.read_csv('./../data/SIREN.csv', delimiter = ';', encoding = 'latin-1')\n",
    "firms = firms[['SIREN','L1_NORMALISEE','LIBTEFET','APET700','LIBAPET']].set_index('SIREN')\n",
    "firms.index.name = 'ID'"
   ]
  },
  {
   "cell_type": "code",
   "execution_count": 18,
   "metadata": {
    "collapsed": false
   },
   "outputs": [
    {
     "data": {
      "text/html": [
       "<div>\n",
       "<style scoped>\n",
       "    .dataframe tbody tr th:only-of-type {\n",
       "        vertical-align: middle;\n",
       "    }\n",
       "\n",
       "    .dataframe tbody tr th {\n",
       "        vertical-align: top;\n",
       "    }\n",
       "\n",
       "    .dataframe thead th {\n",
       "        text-align: right;\n",
       "    }\n",
       "</style>\n",
       "<table border=\"1\" class=\"dataframe\">\n",
       "  <thead>\n",
       "    <tr style=\"text-align: right;\">\n",
       "      <th></th>\n",
       "      <th>ID</th>\n",
       "      <th>IMPORT</th>\n",
       "      <th>YEAR</th>\n",
       "      <th>VART</th>\n",
       "      <th>PERIOD</th>\n",
       "    </tr>\n",
       "  </thead>\n",
       "  <tbody>\n",
       "    <tr>\n",
       "      <th>468782</th>\n",
       "      <td>319264552</td>\n",
       "      <td>1</td>\n",
       "      <td>1998</td>\n",
       "      <td>78684</td>\n",
       "      <td>1</td>\n",
       "    </tr>\n",
       "    <tr>\n",
       "      <th>380511</th>\n",
       "      <td>302517305</td>\n",
       "      <td>0</td>\n",
       "      <td>1998</td>\n",
       "      <td>1837</td>\n",
       "      <td>1</td>\n",
       "    </tr>\n",
       "    <tr>\n",
       "      <th>334917</th>\n",
       "      <td>318799335</td>\n",
       "      <td>0</td>\n",
       "      <td>1998</td>\n",
       "      <td>494441</td>\n",
       "      <td>1</td>\n",
       "    </tr>\n",
       "    <tr>\n",
       "      <th>369467</th>\n",
       "      <td>401067137</td>\n",
       "      <td>1</td>\n",
       "      <td>1998</td>\n",
       "      <td>18996</td>\n",
       "      <td>1</td>\n",
       "    </tr>\n",
       "    <tr>\n",
       "      <th>404458</th>\n",
       "      <td>398426775</td>\n",
       "      <td>0</td>\n",
       "      <td>1998</td>\n",
       "      <td>43786</td>\n",
       "      <td>1</td>\n",
       "    </tr>\n",
       "  </tbody>\n",
       "</table>\n",
       "</div>"
      ],
      "text/plain": [
       "               ID  IMPORT  YEAR    VART  PERIOD\n",
       "468782  319264552       1  1998   78684       1\n",
       "380511  302517305       0  1998    1837       1\n",
       "334917  318799335       0  1998  494441       1\n",
       "369467  401067137       1  1998   18996       1\n",
       "404458  398426775       0  1998   43786       1"
      ]
     },
     "execution_count": 18,
     "metadata": {},
     "output_type": "execute_result"
    }
   ],
   "source": [
    "# df = pd.read_csv(path1+'/firm_lev_sample.csv')\n",
    "df = pd.read_csv(save_path + 'firm_sizes_99.csv')\n",
    "\n",
    "# 4 year period\n",
    "df['PERIOD'] = (df.YEAR - 1997) % 4\n",
    "\n",
    "n = df[['YEAR', 'PERIOD']].drop_duplicates().groupby('PERIOD').count().reset_index()\n",
    "n.columns = ['PERIOD', 'n']\n",
    "\n",
    "# drop year 1997, so that we got 4 periods of four years\n",
    "\n",
    "df = df.loc[df.YEAR != 1997]\n",
    "\n",
    "# Information on Combined nomenclature product codes (CN) and CPA activity codes\n",
    "# CN_full = pd.read_csv('./../data/CN_full.csv', encoding = 'utf-8')\n",
    "# df = df.merge(CN_full[['CN ID 8', 'CN ID 4', 'CN label 4']])\n",
    "\n",
    "df.sample(5)"
   ]
  },
  {
   "cell_type": "code",
   "execution_count": 19,
   "metadata": {
    "collapsed": false
   },
   "outputs": [
    {
     "data": {
      "text/html": [
       "<div>\n",
       "<style scoped>\n",
       "    .dataframe tbody tr th:only-of-type {\n",
       "        vertical-align: middle;\n",
       "    }\n",
       "\n",
       "    .dataframe tbody tr th {\n",
       "        vertical-align: top;\n",
       "    }\n",
       "\n",
       "    .dataframe thead th {\n",
       "        text-align: right;\n",
       "    }\n",
       "</style>\n",
       "<table border=\"1\" class=\"dataframe\">\n",
       "  <thead>\n",
       "    <tr style=\"text-align: right;\">\n",
       "      <th></th>\n",
       "      <th></th>\n",
       "      <th>(VART, count)</th>\n",
       "      <th>(VART, sum)</th>\n",
       "      <th>L1_NORMALISEE</th>\n",
       "      <th>LIBTEFET</th>\n",
       "      <th>APET700</th>\n",
       "      <th>LIBAPET</th>\n",
       "    </tr>\n",
       "    <tr>\n",
       "      <th>ID</th>\n",
       "      <th>IMPORT</th>\n",
       "      <th></th>\n",
       "      <th></th>\n",
       "      <th></th>\n",
       "      <th></th>\n",
       "      <th></th>\n",
       "      <th></th>\n",
       "    </tr>\n",
       "  </thead>\n",
       "  <tbody>\n",
       "    <tr>\n",
       "      <th rowspan=\"2\" valign=\"top\">780129987</th>\n",
       "      <th>0</th>\n",
       "      <td>1.0</td>\n",
       "      <td>1.341055e+10</td>\n",
       "      <td>RENAULT SAS</td>\n",
       "      <td>500 à 999 salariés</td>\n",
       "      <td>2910Z</td>\n",
       "      <td>Construction de véhicules automobiles</td>\n",
       "    </tr>\n",
       "    <tr>\n",
       "      <th>1</th>\n",
       "      <td>1.0</td>\n",
       "      <td>5.497488e+09</td>\n",
       "      <td>RENAULT SAS</td>\n",
       "      <td>500 à 999 salariés</td>\n",
       "      <td>2910Z</td>\n",
       "      <td>Construction de véhicules automobiles</td>\n",
       "    </tr>\n",
       "    <tr>\n",
       "      <th>602025538</th>\n",
       "      <th>1</th>\n",
       "      <td>1.0</td>\n",
       "      <td>2.953639e+09</td>\n",
       "      <td>VOLKSWAG GROUP AUT RETAIL FRANCE</td>\n",
       "      <td>500 à 999 salariés</td>\n",
       "      <td>4511Z</td>\n",
       "      <td>Commerce de voitures et de véhicules automobil...</td>\n",
       "    </tr>\n",
       "    <tr>\n",
       "      <th>542107651</th>\n",
       "      <th>1</th>\n",
       "      <td>1.0</td>\n",
       "      <td>2.894874e+09</td>\n",
       "      <td>ENGIE</td>\n",
       "      <td>1 000 à 1 999 salariés</td>\n",
       "      <td>3523Z</td>\n",
       "      <td>Commerce de combustibles gazeux par conduites</td>\n",
       "    </tr>\n",
       "    <tr>\n",
       "      <th>542034921</th>\n",
       "      <th>1</th>\n",
       "      <td>1.0</td>\n",
       "      <td>2.811562e+09</td>\n",
       "      <td>TOTAL MARKETING SERVICES</td>\n",
       "      <td>1 000 à 1 999 salariés</td>\n",
       "      <td>7010Z</td>\n",
       "      <td>Activités des sièges sociaux</td>\n",
       "    </tr>\n",
       "    <tr>\n",
       "      <th>552081317</th>\n",
       "      <th>0</th>\n",
       "      <td>1.0</td>\n",
       "      <td>2.807210e+09</td>\n",
       "      <td>ELECTRICITE DE FRANCE</td>\n",
       "      <td>0 salarié</td>\n",
       "      <td>3511Z</td>\n",
       "      <td>Production d'électricité</td>\n",
       "    </tr>\n",
       "    <tr>\n",
       "      <th>319632790</th>\n",
       "      <th>0</th>\n",
       "      <td>1.0</td>\n",
       "      <td>2.042990e+09</td>\n",
       "      <td>ARKEMA FRANCE</td>\n",
       "      <td>500 à 999 salariés</td>\n",
       "      <td>7010Z</td>\n",
       "      <td>Activités des sièges sociaux</td>\n",
       "    </tr>\n",
       "    <tr>\n",
       "      <th>855200507</th>\n",
       "      <th>0</th>\n",
       "      <td>1.0</td>\n",
       "      <td>1.834658e+09</td>\n",
       "      <td>MANUF FRANC PNEUMATIQ MICHELIN</td>\n",
       "      <td>10 000 salariés et plus</td>\n",
       "      <td>2211Z</td>\n",
       "      <td>Fabrication et rechapage de pneumatiques</td>\n",
       "    </tr>\n",
       "    <tr>\n",
       "      <th>954503439</th>\n",
       "      <th>0</th>\n",
       "      <td>1.0</td>\n",
       "      <td>1.793718e+09</td>\n",
       "      <td>SCHNEIDER ELECTRIC INDUSTRIES SAS</td>\n",
       "      <td>500 à 999 salariés</td>\n",
       "      <td>2712Z</td>\n",
       "      <td>Fabrication de matériel de distribution et de ...</td>\n",
       "    </tr>\n",
       "    <tr>\n",
       "      <th>780130175</th>\n",
       "      <th>1</th>\n",
       "      <td>1.0</td>\n",
       "      <td>1.600560e+09</td>\n",
       "      <td>SOCIETE DES PETROLES SHELL</td>\n",
       "      <td>500 à 999 salariés</td>\n",
       "      <td>4671Z</td>\n",
       "      <td>Commerce de gros de combustibles et de produit...</td>\n",
       "    </tr>\n",
       "    <tr>\n",
       "      <th>622044287</th>\n",
       "      <th>1</th>\n",
       "      <td>1.0</td>\n",
       "      <td>1.566649e+09</td>\n",
       "      <td>MERCEDES BENZ FRANCE</td>\n",
       "      <td>500 à 999 salariés</td>\n",
       "      <td>4511Z</td>\n",
       "      <td>Commerce de voitures et de véhicules automobil...</td>\n",
       "    </tr>\n",
       "    <tr>\n",
       "      <th>552118465</th>\n",
       "      <th>1</th>\n",
       "      <td>1.0</td>\n",
       "      <td>1.500865e+09</td>\n",
       "      <td>CIE IBM FRANCE</td>\n",
       "      <td>2 000 à 4 999 salariés</td>\n",
       "      <td>6202A</td>\n",
       "      <td>Conseil en systèmes et logiciels informatiques</td>\n",
       "    </tr>\n",
       "    <tr>\n",
       "      <th>331355263</th>\n",
       "      <th>1</th>\n",
       "      <td>1.0</td>\n",
       "      <td>1.495457e+09</td>\n",
       "      <td>SOC NAL EXPLOIT INDUST TABAC ALLUMETTE</td>\n",
       "      <td>250 à 499 salariés</td>\n",
       "      <td>1200Z</td>\n",
       "      <td>Fabrication de produits à base de tabac</td>\n",
       "    </tr>\n",
       "    <tr>\n",
       "      <th>954506077</th>\n",
       "      <th>0</th>\n",
       "      <td>1.0</td>\n",
       "      <td>1.336187e+09</td>\n",
       "      <td>RENAULT TRUCKS</td>\n",
       "      <td>2 000 à 4 999 salariés</td>\n",
       "      <td>2910Z</td>\n",
       "      <td>Construction de véhicules automobiles</td>\n",
       "    </tr>\n",
       "    <tr>\n",
       "      <th>552118465</th>\n",
       "      <th>0</th>\n",
       "      <td>1.0</td>\n",
       "      <td>1.331453e+09</td>\n",
       "      <td>CIE IBM FRANCE</td>\n",
       "      <td>2 000 à 4 999 salariés</td>\n",
       "      <td>6202A</td>\n",
       "      <td>Conseil en systèmes et logiciels informatiques</td>\n",
       "    </tr>\n",
       "    <tr>\n",
       "      <th>341459386</th>\n",
       "      <th>0</th>\n",
       "      <td>1.0</td>\n",
       "      <td>1.244849e+09</td>\n",
       "      <td>STMICROELECTRONICS SA</td>\n",
       "      <td>250 à 499 salariés</td>\n",
       "      <td>7010Z</td>\n",
       "      <td>Activités des sièges sociaux</td>\n",
       "    </tr>\n",
       "    <tr>\n",
       "      <th>542010053</th>\n",
       "      <th>1</th>\n",
       "      <td>1.0</td>\n",
       "      <td>1.185964e+09</td>\n",
       "      <td>ESSO SOCIETE ANONYME FRANCAISE</td>\n",
       "      <td>250 à 499 salariés</td>\n",
       "      <td>4730Z</td>\n",
       "      <td>Commerce de détail de carburants en magasin sp...</td>\n",
       "    </tr>\n",
       "    <tr>\n",
       "      <th>342439320</th>\n",
       "      <th>1</th>\n",
       "      <td>1.0</td>\n",
       "      <td>1.117174e+09</td>\n",
       "      <td>OPEL FRANCE</td>\n",
       "      <td>100 à 199 salariés</td>\n",
       "      <td>4511Z</td>\n",
       "      <td>Commerce de voitures et de véhicules automobil...</td>\n",
       "    </tr>\n",
       "    <tr>\n",
       "      <th>305493173</th>\n",
       "      <th>1</th>\n",
       "      <td>1.0</td>\n",
       "      <td>1.108748e+09</td>\n",
       "      <td>FCA FRANCE</td>\n",
       "      <td>250 à 499 salariés</td>\n",
       "      <td>4511Z</td>\n",
       "      <td>Commerce de voitures et de véhicules automobil...</td>\n",
       "    </tr>\n",
       "    <tr>\n",
       "      <th>542034327</th>\n",
       "      <th>1</th>\n",
       "      <td>1.0</td>\n",
       "      <td>1.054063e+09</td>\n",
       "      <td>BP FRANCE</td>\n",
       "      <td>250 à 499 salariés</td>\n",
       "      <td>7010Z</td>\n",
       "      <td>Activités des sièges sociaux</td>\n",
       "    </tr>\n",
       "  </tbody>\n",
       "</table>\n",
       "</div>"
      ],
      "text/plain": [
       "                  (VART, count)   (VART, sum)  \\\n",
       "ID        IMPORT                                \n",
       "780129987 0                 1.0  1.341055e+10   \n",
       "          1                 1.0  5.497488e+09   \n",
       "602025538 1                 1.0  2.953639e+09   \n",
       "542107651 1                 1.0  2.894874e+09   \n",
       "542034921 1                 1.0  2.811562e+09   \n",
       "552081317 0                 1.0  2.807210e+09   \n",
       "319632790 0                 1.0  2.042990e+09   \n",
       "855200507 0                 1.0  1.834658e+09   \n",
       "954503439 0                 1.0  1.793718e+09   \n",
       "780130175 1                 1.0  1.600560e+09   \n",
       "622044287 1                 1.0  1.566649e+09   \n",
       "552118465 1                 1.0  1.500865e+09   \n",
       "331355263 1                 1.0  1.495457e+09   \n",
       "954506077 0                 1.0  1.336187e+09   \n",
       "552118465 0                 1.0  1.331453e+09   \n",
       "341459386 0                 1.0  1.244849e+09   \n",
       "542010053 1                 1.0  1.185964e+09   \n",
       "342439320 1                 1.0  1.117174e+09   \n",
       "305493173 1                 1.0  1.108748e+09   \n",
       "542034327 1                 1.0  1.054063e+09   \n",
       "\n",
       "                                           L1_NORMALISEE  \\\n",
       "ID        IMPORT                                           \n",
       "780129987 0                                  RENAULT SAS   \n",
       "          1                                  RENAULT SAS   \n",
       "602025538 1             VOLKSWAG GROUP AUT RETAIL FRANCE   \n",
       "542107651 1                                        ENGIE   \n",
       "542034921 1                     TOTAL MARKETING SERVICES   \n",
       "552081317 0                        ELECTRICITE DE FRANCE   \n",
       "319632790 0                                ARKEMA FRANCE   \n",
       "855200507 0               MANUF FRANC PNEUMATIQ MICHELIN   \n",
       "954503439 0            SCHNEIDER ELECTRIC INDUSTRIES SAS   \n",
       "780130175 1                   SOCIETE DES PETROLES SHELL   \n",
       "622044287 1                         MERCEDES BENZ FRANCE   \n",
       "552118465 1                               CIE IBM FRANCE   \n",
       "331355263 1       SOC NAL EXPLOIT INDUST TABAC ALLUMETTE   \n",
       "954506077 0                               RENAULT TRUCKS   \n",
       "552118465 0                               CIE IBM FRANCE   \n",
       "341459386 0                        STMICROELECTRONICS SA   \n",
       "542010053 1               ESSO SOCIETE ANONYME FRANCAISE   \n",
       "342439320 1                                  OPEL FRANCE   \n",
       "305493173 1                                   FCA FRANCE   \n",
       "542034327 1                                    BP FRANCE   \n",
       "\n",
       "                                 LIBTEFET APET700  \\\n",
       "ID        IMPORT                                    \n",
       "780129987 0            500 à 999 salariés   2910Z   \n",
       "          1            500 à 999 salariés   2910Z   \n",
       "602025538 1            500 à 999 salariés   4511Z   \n",
       "542107651 1        1 000 à 1 999 salariés   3523Z   \n",
       "542034921 1        1 000 à 1 999 salariés   7010Z   \n",
       "552081317 0                     0 salarié   3511Z   \n",
       "319632790 0            500 à 999 salariés   7010Z   \n",
       "855200507 0       10 000 salariés et plus   2211Z   \n",
       "954503439 0            500 à 999 salariés   2712Z   \n",
       "780130175 1            500 à 999 salariés   4671Z   \n",
       "622044287 1            500 à 999 salariés   4511Z   \n",
       "552118465 1        2 000 à 4 999 salariés   6202A   \n",
       "331355263 1            250 à 499 salariés   1200Z   \n",
       "954506077 0        2 000 à 4 999 salariés   2910Z   \n",
       "552118465 0        2 000 à 4 999 salariés   6202A   \n",
       "341459386 0            250 à 499 salariés   7010Z   \n",
       "542010053 1            250 à 499 salariés   4730Z   \n",
       "342439320 1            100 à 199 salariés   4511Z   \n",
       "305493173 1            250 à 499 salariés   4511Z   \n",
       "542034327 1            250 à 499 salariés   7010Z   \n",
       "\n",
       "                                                            LIBAPET  \n",
       "ID        IMPORT                                                     \n",
       "780129987 0                   Construction de véhicules automobiles  \n",
       "          1                   Construction de véhicules automobiles  \n",
       "602025538 1       Commerce de voitures et de véhicules automobil...  \n",
       "542107651 1           Commerce de combustibles gazeux par conduites  \n",
       "542034921 1                            Activités des sièges sociaux  \n",
       "552081317 0                                Production d'électricité  \n",
       "319632790 0                            Activités des sièges sociaux  \n",
       "855200507 0                Fabrication et rechapage de pneumatiques  \n",
       "954503439 0       Fabrication de matériel de distribution et de ...  \n",
       "780130175 1       Commerce de gros de combustibles et de produit...  \n",
       "622044287 1       Commerce de voitures et de véhicules automobil...  \n",
       "552118465 1          Conseil en systèmes et logiciels informatiques  \n",
       "331355263 1                 Fabrication de produits à base de tabac  \n",
       "954506077 0                   Construction de véhicules automobiles  \n",
       "552118465 0          Conseil en systèmes et logiciels informatiques  \n",
       "341459386 0                            Activités des sièges sociaux  \n",
       "542010053 1       Commerce de détail de carburants en magasin sp...  \n",
       "342439320 1       Commerce de voitures et de véhicules automobil...  \n",
       "305493173 1       Commerce de voitures et de véhicules automobil...  \n",
       "542034327 1                            Activités des sièges sociaux  "
      ]
     },
     "execution_count": 19,
     "metadata": {},
     "output_type": "execute_result"
    }
   ],
   "source": [
    "\n",
    "dataset = df.loc[df.PERIOD == 1]\n",
    "\n",
    "df_ = dataset.groupby(['ID', 'IMPORT']).agg({'VART': ['count','sum']}).sort_values(by = ('VART', 'sum'), ascending = False)\n",
    "largest = df_.astype(float).merge(firms, left_index = True, right_index = True)\n",
    "largest.head(20)"
   ]
  },
  {
   "cell_type": "code",
   "execution_count": 20,
   "metadata": {
    "collapsed": true
   },
   "outputs": [
    {
     "ename": "KeyError",
     "evalue": "'CN label 4'",
     "output_type": "error",
     "traceback": [
      "\u001b[1;31m---------------------------------------------------------------------------\u001b[0m",
      "\u001b[1;31mKeyError\u001b[0m                                  Traceback (most recent call last)",
      "\u001b[1;32m<ipython-input-20-e50f036717d4>\u001b[0m in \u001b[0;36m<module>\u001b[1;34m()\u001b[0m\n\u001b[0;32m      1\u001b[0m \u001b[0mrow_list\u001b[0m \u001b[1;33m=\u001b[0m \u001b[1;33m[\u001b[0m\u001b[1;33m]\u001b[0m\u001b[1;33m\u001b[0m\u001b[0m\n\u001b[0;32m      2\u001b[0m \u001b[1;32mfor\u001b[0m \u001b[0mix\u001b[0m \u001b[1;32min\u001b[0m \u001b[0mlargest\u001b[0m\u001b[1;33m.\u001b[0m\u001b[0mhead\u001b[0m\u001b[1;33m(\u001b[0m\u001b[1;36m100\u001b[0m\u001b[1;33m)\u001b[0m\u001b[1;33m.\u001b[0m\u001b[0mindex\u001b[0m\u001b[1;33m:\u001b[0m\u001b[1;33m\u001b[0m\u001b[0m\n\u001b[1;32m----> 3\u001b[1;33m     \u001b[0mdfv\u001b[0m \u001b[1;33m=\u001b[0m \u001b[0mdataset\u001b[0m\u001b[1;33m.\u001b[0m\u001b[0mloc\u001b[0m\u001b[1;33m[\u001b[0m\u001b[1;33m(\u001b[0m\u001b[0mdataset\u001b[0m\u001b[1;33m.\u001b[0m\u001b[0mID\u001b[0m \u001b[1;33m==\u001b[0m \u001b[0mix\u001b[0m\u001b[1;33m[\u001b[0m\u001b[1;36m0\u001b[0m\u001b[1;33m]\u001b[0m\u001b[1;33m)\u001b[0m \u001b[1;33m&\u001b[0m\u001b[1;33m(\u001b[0m\u001b[0mdataset\u001b[0m\u001b[1;33m.\u001b[0m\u001b[0mIMPORT\u001b[0m \u001b[1;33m==\u001b[0m \u001b[0mix\u001b[0m\u001b[1;33m[\u001b[0m\u001b[1;36m1\u001b[0m\u001b[1;33m]\u001b[0m\u001b[1;33m)\u001b[0m \u001b[1;33m]\u001b[0m\u001b[1;33m.\u001b[0m\u001b[0mgroupby\u001b[0m\u001b[1;33m(\u001b[0m\u001b[1;34m'CN label 4'\u001b[0m\u001b[1;33m)\u001b[0m\u001b[1;33m.\u001b[0m\u001b[0msum\u001b[0m\u001b[1;33m(\u001b[0m\u001b[1;33m)\u001b[0m\u001b[1;33m[\u001b[0m\u001b[1;33m[\u001b[0m\u001b[1;34m'VART'\u001b[0m\u001b[1;33m]\u001b[0m\u001b[1;33m]\u001b[0m\u001b[1;33m.\u001b[0m\u001b[0msort_values\u001b[0m\u001b[1;33m(\u001b[0m\u001b[0mby\u001b[0m \u001b[1;33m=\u001b[0m \u001b[1;34m'VART'\u001b[0m\u001b[1;33m,\u001b[0m \u001b[0mascending\u001b[0m \u001b[1;33m=\u001b[0m \u001b[0mFalse\u001b[0m\u001b[1;33m)\u001b[0m\u001b[1;33m\u001b[0m\u001b[0m\n\u001b[0m\u001b[0;32m      4\u001b[0m     \u001b[0mdfx\u001b[0m \u001b[1;33m=\u001b[0m \u001b[1;33m(\u001b[0m\u001b[1;36m100\u001b[0m\u001b[1;33m*\u001b[0m\u001b[0mdfv\u001b[0m\u001b[1;33m/\u001b[0m\u001b[0mdfv\u001b[0m\u001b[1;33m.\u001b[0m\u001b[0msum\u001b[0m\u001b[1;33m(\u001b[0m\u001b[1;33m)\u001b[0m\u001b[1;33m)\u001b[0m\u001b[1;33m.\u001b[0m\u001b[0mround\u001b[0m\u001b[1;33m(\u001b[0m\u001b[1;33m)\u001b[0m\u001b[1;33m\u001b[0m\u001b[0m\n\u001b[0;32m      5\u001b[0m     \u001b[0mdfxv_p\u001b[0m \u001b[1;33m=\u001b[0m \u001b[0mpd\u001b[0m\u001b[1;33m.\u001b[0m\u001b[0mconcat\u001b[0m\u001b[1;33m(\u001b[0m\u001b[1;33m[\u001b[0m\u001b[0mdfv\u001b[0m\u001b[1;33m,\u001b[0m \u001b[0mdfx\u001b[0m\u001b[1;33m]\u001b[0m\u001b[1;33m,\u001b[0m \u001b[0maxis\u001b[0m \u001b[1;33m=\u001b[0m \u001b[1;36m1\u001b[0m\u001b[1;33m)\u001b[0m\u001b[1;33m\u001b[0m\u001b[0m\n",
      "\u001b[1;32m/home/miglesia/anaconda2/lib/python2.7/site-packages/pandas/core/generic.pyc\u001b[0m in \u001b[0;36mgroupby\u001b[1;34m(self, by, axis, level, as_index, sort, group_keys, squeeze, observed, **kwargs)\u001b[0m\n\u001b[0;32m   6663\u001b[0m         return groupby(self, by=by, axis=axis, level=level, as_index=as_index,\n\u001b[0;32m   6664\u001b[0m                        \u001b[0msort\u001b[0m\u001b[1;33m=\u001b[0m\u001b[0msort\u001b[0m\u001b[1;33m,\u001b[0m \u001b[0mgroup_keys\u001b[0m\u001b[1;33m=\u001b[0m\u001b[0mgroup_keys\u001b[0m\u001b[1;33m,\u001b[0m \u001b[0msqueeze\u001b[0m\u001b[1;33m=\u001b[0m\u001b[0msqueeze\u001b[0m\u001b[1;33m,\u001b[0m\u001b[1;33m\u001b[0m\u001b[0m\n\u001b[1;32m-> 6665\u001b[1;33m                        observed=observed, **kwargs)\n\u001b[0m\u001b[0;32m   6666\u001b[0m \u001b[1;33m\u001b[0m\u001b[0m\n\u001b[0;32m   6667\u001b[0m     def asfreq(self, freq, method=None, how=None, normalize=False,\n",
      "\u001b[1;32m/home/miglesia/anaconda2/lib/python2.7/site-packages/pandas/core/groupby/groupby.pyc\u001b[0m in \u001b[0;36mgroupby\u001b[1;34m(obj, by, **kwds)\u001b[0m\n\u001b[0;32m   2150\u001b[0m         \u001b[1;32mraise\u001b[0m \u001b[0mTypeError\u001b[0m\u001b[1;33m(\u001b[0m\u001b[1;34m'invalid type: %s'\u001b[0m \u001b[1;33m%\u001b[0m \u001b[0mtype\u001b[0m\u001b[1;33m(\u001b[0m\u001b[0mobj\u001b[0m\u001b[1;33m)\u001b[0m\u001b[1;33m)\u001b[0m\u001b[1;33m\u001b[0m\u001b[0m\n\u001b[0;32m   2151\u001b[0m \u001b[1;33m\u001b[0m\u001b[0m\n\u001b[1;32m-> 2152\u001b[1;33m     \u001b[1;32mreturn\u001b[0m \u001b[0mklass\u001b[0m\u001b[1;33m(\u001b[0m\u001b[0mobj\u001b[0m\u001b[1;33m,\u001b[0m \u001b[0mby\u001b[0m\u001b[1;33m,\u001b[0m \u001b[1;33m**\u001b[0m\u001b[0mkwds\u001b[0m\u001b[1;33m)\u001b[0m\u001b[1;33m\u001b[0m\u001b[0m\n\u001b[0m\u001b[0;32m   2153\u001b[0m \u001b[1;33m\u001b[0m\u001b[0m\n\u001b[0;32m   2154\u001b[0m \u001b[1;33m\u001b[0m\u001b[0m\n",
      "\u001b[1;32m/home/miglesia/anaconda2/lib/python2.7/site-packages/pandas/core/groupby/groupby.pyc\u001b[0m in \u001b[0;36m__init__\u001b[1;34m(self, obj, keys, axis, level, grouper, exclusions, selection, as_index, sort, group_keys, squeeze, observed, **kwargs)\u001b[0m\n\u001b[0;32m    597\u001b[0m                                                     \u001b[0msort\u001b[0m\u001b[1;33m=\u001b[0m\u001b[0msort\u001b[0m\u001b[1;33m,\u001b[0m\u001b[1;33m\u001b[0m\u001b[0m\n\u001b[0;32m    598\u001b[0m                                                     \u001b[0mobserved\u001b[0m\u001b[1;33m=\u001b[0m\u001b[0mobserved\u001b[0m\u001b[1;33m,\u001b[0m\u001b[1;33m\u001b[0m\u001b[0m\n\u001b[1;32m--> 599\u001b[1;33m                                                     mutated=self.mutated)\n\u001b[0m\u001b[0;32m    600\u001b[0m \u001b[1;33m\u001b[0m\u001b[0m\n\u001b[0;32m    601\u001b[0m         \u001b[0mself\u001b[0m\u001b[1;33m.\u001b[0m\u001b[0mobj\u001b[0m \u001b[1;33m=\u001b[0m \u001b[0mobj\u001b[0m\u001b[1;33m\u001b[0m\u001b[0m\n",
      "\u001b[1;32m/home/miglesia/anaconda2/lib/python2.7/site-packages/pandas/core/groupby/groupby.pyc\u001b[0m in \u001b[0;36m_get_grouper\u001b[1;34m(obj, key, axis, level, sort, observed, mutated, validate)\u001b[0m\n\u001b[0;32m   3289\u001b[0m                 \u001b[0min_axis\u001b[0m\u001b[1;33m,\u001b[0m \u001b[0mname\u001b[0m\u001b[1;33m,\u001b[0m \u001b[0mlevel\u001b[0m\u001b[1;33m,\u001b[0m \u001b[0mgpr\u001b[0m \u001b[1;33m=\u001b[0m \u001b[0mFalse\u001b[0m\u001b[1;33m,\u001b[0m \u001b[0mNone\u001b[0m\u001b[1;33m,\u001b[0m \u001b[0mgpr\u001b[0m\u001b[1;33m,\u001b[0m \u001b[0mNone\u001b[0m\u001b[1;33m\u001b[0m\u001b[0m\n\u001b[0;32m   3290\u001b[0m             \u001b[1;32melse\u001b[0m\u001b[1;33m:\u001b[0m\u001b[1;33m\u001b[0m\u001b[0m\n\u001b[1;32m-> 3291\u001b[1;33m                 \u001b[1;32mraise\u001b[0m \u001b[0mKeyError\u001b[0m\u001b[1;33m(\u001b[0m\u001b[0mgpr\u001b[0m\u001b[1;33m)\u001b[0m\u001b[1;33m\u001b[0m\u001b[0m\n\u001b[0m\u001b[0;32m   3292\u001b[0m         \u001b[1;32melif\u001b[0m \u001b[0misinstance\u001b[0m\u001b[1;33m(\u001b[0m\u001b[0mgpr\u001b[0m\u001b[1;33m,\u001b[0m \u001b[0mGrouper\u001b[0m\u001b[1;33m)\u001b[0m \u001b[1;32mand\u001b[0m \u001b[0mgpr\u001b[0m\u001b[1;33m.\u001b[0m\u001b[0mkey\u001b[0m \u001b[1;32mis\u001b[0m \u001b[1;32mnot\u001b[0m \u001b[0mNone\u001b[0m\u001b[1;33m:\u001b[0m\u001b[1;33m\u001b[0m\u001b[0m\n\u001b[0;32m   3293\u001b[0m             \u001b[1;31m# Add key to exclusions\u001b[0m\u001b[1;33m\u001b[0m\u001b[1;33m\u001b[0m\u001b[0m\n",
      "\u001b[1;31mKeyError\u001b[0m: 'CN label 4'"
     ]
    }
   ],
   "source": [
    "row_list = []\n",
    "for ix in largest.head(100).index:\n",
    "    dfv = dataset.loc[(dataset.ID == ix[0]) &(dataset.IMPORT == ix[1]) ].groupby('CN label 4').sum()[['VART']].sort_values(by = 'VART', ascending = False)\n",
    "    dfx = (100*dfv/dfv.sum()).round()\n",
    "    dfxv_p = pd.concat([dfv, dfx], axis = 1)\n",
    "    dfxv_p.columns = ['VART', 'VART_pct']\n",
    "    \n",
    "    dfv = dataset.loc[(dataset.ID == ix[0]) &(dataset.IMPORT == ix[1]) ].groupby('PYOD').sum()[['VART']].sort_values(by = 'VART', ascending = False)\n",
    "    dfx = (100*dfv/dfv.sum()).round()\n",
    "    dfxv_c = pd.concat([dfv, dfx], axis = 1)\n",
    "    dfxv_c.columns = ['VART', 'VART_pct']\n",
    "\n",
    "    try: \n",
    "        row_list += [pd.DataFrame(pd.concat([pd.DataFrame({'ID':[ ix[0]], 'IMPORT': [ix[1]]}), \n",
    "                                            dfxv_p[['VART_pct']].reset_index().iloc[[0]],\n",
    "                                            dfxv_c[['VART_pct']].reset_index().iloc[[0]]], axis = 1)).set_index('ID')]\n",
    "    except:\n",
    "        pass\n",
    "    \n",
    "firm_info = pd.concat(row_list)\n",
    "firm_info.columns = ['IMPORT','main CN4', 'main CN4 pct','main PYOD', 'main PYOD pct']\n",
    "firm_info = firm_info.reset_index().set_index(['ID', 'IMPORT'])"
   ]
  },
  {
   "cell_type": "code",
   "execution_count": null,
   "metadata": {
    "collapsed": false,
    "scrolled": true
   },
   "outputs": [],
   "source": [
    "display(HTML(\"<style>.container { width:100% !important; }</style>\"))\n",
    "\n",
    "# pd.set_option('display.float_format', '{:.2g}'.format)\n",
    "\n",
    "res = df_.merge(firm_info, left_index=  True, right_index = True).sort_values(by = ('VART', 'sum'), ascending = False)\n",
    "res = res.reset_index().set_index('ID').merge(firms, left_index = True, right_index = True).sort_values(by = ('VART', 'sum'), ascending = False)\n",
    "res[('VART', 'sum')] = res[('VART', 'sum')].astype(float)\n",
    "res\n"
   ]
  },
  {
   "cell_type": "code",
   "execution_count": null,
   "metadata": {
    "collapsed": false
   },
   "outputs": [],
   "source": [
    "import webbrowser\n",
    "\n",
    "for siren in df_.index[30:60]:\n",
    "    # google siren code\n",
    "    webbrowser.open('https://www.google.com/search?q='+str(siren)+'+siren+score3')\n",
    "\n"
   ]
  },
  {
   "cell_type": "markdown",
   "metadata": {},
   "source": [
    "## Other stuff"
   ]
  },
  {
   "cell_type": "code",
   "execution_count": null,
   "metadata": {
    "collapsed": false,
    "scrolled": true
   },
   "outputs": [],
   "source": [
    "grouped = df2012_sam_1.loc[df2012_sam_1.ID == 542034921].groupby('CN ID 8')\n",
    "\n",
    "df_1 = grouped.sum()[['VFTE', 'VART']].astype(float)#.style.bar(color='#d65f5f')\n",
    "\n",
    "df_2 = grouped.nunique()[['MONTH', 'DEPT', 'PYOD', 'CPA6','PAYP']]#.style.bar(color='#d65f5f')\n",
    "\n",
    "pd.concat([df_1, df_2], axis = 1).sort_values(by = 'VART', ascending = False).style.bar(color='#d65f5f')"
   ]
  },
  {
   "cell_type": "code",
   "execution_count": null,
   "metadata": {
    "collapsed": false
   },
   "outputs": [],
   "source": [
    "df = df2012_sam_1\n",
    "\n",
    "plt.hist(np.log10(df[13].values), 50)\n",
    "plt.show()"
   ]
  },
  {
   "cell_type": "code",
   "execution_count": null,
   "metadata": {
    "collapsed": false
   },
   "outputs": [],
   "source": [
    "df_95['log_bin'] = np.log10(df_95[13]).round(2)\n",
    "df_95.groupby('log_bin').sum()[13].plot(marker = 'o')"
   ]
  },
  {
   "cell_type": "code",
   "execution_count": null,
   "metadata": {
    "collapsed": false
   },
   "outputs": [],
   "source": [
    "df_95.loc[df_95[2].isin([1, 3]), 13].sum()\n",
    "df_95.loc[df_95[2].isin([2, 4]), 13].sum()"
   ]
  },
  {
   "cell_type": "code",
   "execution_count": null,
   "metadata": {
    "collapsed": false
   },
   "outputs": [],
   "source": [
    "\n",
    "print true_divide(df_9999.loc[:, 12:].sum(), df_9.loc[:, 12:].sum())\n",
    "print true_divide(df_999.loc[:, 12:].sum(), df_9.loc[:, 12:].sum())\n",
    "print true_divide(df_99.loc[:, 12:].sum(), df_9.loc[:, 12:].sum())"
   ]
  },
  {
   "cell_type": "code",
   "execution_count": null,
   "metadata": {
    "collapsed": false
   },
   "outputs": [],
   "source": [
    "# df = pd.read_csv(path1+'/DP1610_MAASTRICHT1_2012.txt', delimiter = ';', header = None, nrows = 3000000)\n",
    "# d = dict(df.dtypes)\n",
    "\n",
    "# df = pd.read_csv(path1+'/DP1610_MAASTRICHT1_2012.txt', delimiter = ';', header = None,\n",
    "#                 usecols=range(14), skiprows=lambda i: i % n != 0, low_memory=True, dtype = d)\n",
    "df.columns = [u'YEAR', u'MONTH', u'FLUX', u'ID', u'DEPT', u'CN ID 8', u'CPA6',\n",
    "       u'PYOD', u'PAYP', u'VAT', u'PRIFAC', u'DEVFAC', u'VFTE', u'VART']\n",
    "\n",
    "print len(df)\n",
    "df1_2012 = reduce_mem(df)\n",
    "\n",
    "print(mem_usage(df))\n",
    "print(mem_usage(df1_2012))\n",
    "\n",
    "df1_2012"
   ]
  },
  {
   "cell_type": "code",
   "execution_count": null,
   "metadata": {
    "collapsed": true
   },
   "outputs": [],
   "source": [
    "# drafts from now on"
   ]
  },
  {
   "cell_type": "code",
   "execution_count": null,
   "metadata": {
    "collapsed": true
   },
   "outputs": [],
   "source": [
    "df1_2012 = pd.read_csv('./data/type1/DP1610_MAASTRICHT1_2012.txt', delimiter = ';', header = None)\n",
    "pd.read_csv('./data/type1/DP1610_MAASTRICHT1_2013.txt', delimiter = ';', header = None)"
   ]
  },
  {
   "cell_type": "code",
   "execution_count": null,
   "metadata": {
    "collapsed": false
   },
   "outputs": [],
   "source": [
    "df2_2012 = reduce_mem(pd.read_csv('./data/type2/DP1611_MAASTRICHT2_2012.txt', delimiter = ';', header = None))\n",
    "print(mem_usage(df2_2012_o))\n",
    "\n",
    "\n",
    "\n",
    "# df2_2013 = pd.read_csv('./data/type2/DP1611_MAASTRICHT2_2013.txt', delimiter = ';', header = None)"
   ]
  },
  {
   "cell_type": "code",
   "execution_count": null,
   "metadata": {
    "collapsed": false
   },
   "outputs": [],
   "source": [
    "l = [df2_2012, df2_2013]"
   ]
  },
  {
   "cell_type": "code",
   "execution_count": null,
   "metadata": {
    "collapsed": false
   },
   "outputs": [],
   "source": [
    "for df in l:\n",
    "    print len(df)"
   ]
  },
  {
   "cell_type": "code",
   "execution_count": null,
   "metadata": {
    "collapsed": false
   },
   "outputs": [],
   "source": [
    "\n",
    "\n",
    "gl = df2_2013\n",
    "\n",
    "gl_int = gl.select_dtypes(include=['int'])\n",
    "converted_int = gl_int.apply(pd.to_numeric,downcast='unsigned')\n",
    "\n",
    "print(mem_usage(gl))\n",
    "print(mem_usage(gl_int))\n",
    "print(mem_usage(converted_int))\n",
    "\n",
    "compare_ints = pd.concat([gl_int.dtypes,converted_int.dtypes],axis=1)\n",
    "compare_ints.columns = ['before','after']\n",
    "compare_ints.apply(pd.Series.value_counts)"
   ]
  },
  {
   "cell_type": "code",
   "execution_count": null,
   "metadata": {
    "collapsed": true
   },
   "outputs": [],
   "source": [
    "for df in l:\n",
    "    display(df.sample(10))\n",
    "    print df.max()"
   ]
  },
  {
   "cell_type": "code",
   "execution_count": null,
   "metadata": {
    "collapsed": true
   },
   "outputs": [],
   "source": []
  }
 ],
 "metadata": {
  "kernelspec": {
   "display_name": "Python 2",
   "language": "python",
   "name": "python2"
  },
  "language_info": {
   "codemirror_mode": {
    "name": "ipython",
    "version": 2
   },
   "file_extension": ".py",
   "mimetype": "text/x-python",
   "name": "python",
   "nbconvert_exporter": "python",
   "pygments_lexer": "ipython2",
   "version": "2.7.13"
  }
 },
 "nbformat": 4,
 "nbformat_minor": 2
}
